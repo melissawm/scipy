{
    "nbformat": 4,
    "nbformat_minor": 5,
    "metadata": {
        "kernelspec": {
            "display_name": "Python",
            "language": "python",
            "name": "python"
        },
        "language_info": {
            "name": "python"
        }
    },
    "cells": [
        {
            "id": "cd7cbd85",
            "cell_type": "markdown",
            "source": "<div class='alert alert-warning'>\n\nSciPy's interactive examples with Jupyterlite are experimental and may not always work as expected. Execution of cells containing imports may result in large downloads (up to 60MB of content for the first import from SciPy). Load times when importing from SciPy may take roughly 10-20 seconds. If you notice any problems, feel free to open an [issue](https://github.com/scipy/scipy/issues/new/choose).\n\n</div>",
            "metadata": {}
        },
        {
            "id": "57e9a542",
            "cell_type": "code",
            "metadata": {},
            "execution_count": null,
            "source": "import numpy as np\nfrom scipy.stats import levy\nimport matplotlib.pyplot as plt\nfig, ax = plt.subplots(1, 1)",
            "outputs": []
        },
        {
            "id": "554c55a2",
            "cell_type": "markdown",
            "source": "Calculate the first four moments:\n",
            "metadata": {}
        },
        {
            "id": "1789854c",
            "cell_type": "code",
            "metadata": {},
            "execution_count": null,
            "source": "mean, var, skew, kurt = levy.stats(moments='mvsk')",
            "outputs": []
        },
        {
            "id": "2f8e7c4d",
            "cell_type": "markdown",
            "source": "Display the probability density function (``pdf``):\n",
            "metadata": {}
        },
        {
            "id": "01c5dca5",
            "cell_type": "code",
            "metadata": {},
            "execution_count": null,
            "source": "# `levy` is very heavy-tailed.\n# To show a nice plot, let's cut off the upper 40 percent.\na, b = levy.ppf(0), levy.ppf(0.6)\nx = np.linspace(a, b, 100)\nax.plot(x, levy.pdf(x),\n       'r-', lw=5, alpha=0.6, label='levy pdf')",
            "outputs": []
        },
        {
            "id": "f61955dc",
            "cell_type": "markdown",
            "source": "Alternatively, the distribution object can be called (as a function)\nto fix the shape, location and scale parameters. This returns a \"frozen\"\nRV object holding the given parameters fixed.\n\nFreeze the distribution and display the frozen ``pdf``:\n",
            "metadata": {}
        },
        {
            "id": "37295da2",
            "cell_type": "code",
            "metadata": {},
            "execution_count": null,
            "source": "rv = levy()\nax.plot(x, rv.pdf(x), 'k-', lw=2, label='frozen pdf')",
            "outputs": []
        },
        {
            "id": "d1ad126b",
            "cell_type": "markdown",
            "source": "Check accuracy of ``cdf`` and ``ppf``:\n",
            "metadata": {}
        },
        {
            "id": "adda17de",
            "cell_type": "code",
            "metadata": {},
            "execution_count": null,
            "source": "vals = levy.ppf([0.001, 0.5, 0.999])\nnp.allclose([0.001, 0.5, 0.999], levy.cdf(vals))",
            "outputs": [
                {
                    "output_type": "execute_result",
                    "metadata": {},
                    "data": {
                        "text/plain": "True"
                    },
                    "execution_count": null
                }
            ]
        },
        {
            "id": "7c769650",
            "cell_type": "markdown",
            "source": "Generate random numbers:\n",
            "metadata": {}
        },
        {
            "id": "54448e79",
            "cell_type": "code",
            "metadata": {},
            "execution_count": null,
            "source": "r = levy.rvs(size=1000)",
            "outputs": []
        },
        {
            "id": "3dac4e2b",
            "cell_type": "markdown",
            "source": "And compare the histogram:\n",
            "metadata": {}
        },
        {
            "id": "e74eb061",
            "cell_type": "code",
            "metadata": {},
            "execution_count": null,
            "source": "# manual binning to ignore the tail\nbins = np.concatenate((np.linspace(a, b, 20), [np.max(r)]))\nax.hist(r, bins=bins, density=True, histtype='stepfilled', alpha=0.2)\nax.set_xlim([x[0], x[-1]])\nax.legend(loc='best', frameon=False)\nplt.show()",
            "outputs": []
        }
    ]
}