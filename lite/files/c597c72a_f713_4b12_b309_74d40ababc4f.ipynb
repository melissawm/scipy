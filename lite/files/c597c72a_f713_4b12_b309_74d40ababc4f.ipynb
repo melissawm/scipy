{
    "nbformat": 4,
    "nbformat_minor": 5,
    "metadata": {
        "kernelspec": {
            "display_name": "Python",
            "language": "python",
            "name": "python"
        },
        "language_info": {
            "name": "python"
        }
    },
    "cells": [
        {
            "id": "e6b5222b",
            "cell_type": "markdown",
            "source": "<div class='alert alert-warning'>\n\nSciPy's interactive examples with Jupyterlite are experimental and may not always work as expected. Execution of cells containing imports may result in large downloads (up to 60MB of content for the first import from SciPy). Load times when importing from SciPy may take roughly 10-20 seconds. If you notice any problems, feel free to open an [issue](https://github.com/scipy/scipy/issues/new/choose).\n\n</div>",
            "metadata": {}
        },
        {
            "id": "b8308ef1",
            "cell_type": "code",
            "metadata": {},
            "execution_count": null,
            "source": "import numpy as np\nfrom scipy.special import logsumexp\na = np.arange(10)\nlogsumexp(a)",
            "outputs": [
                {
                    "output_type": "execute_result",
                    "metadata": {},
                    "data": {
                        "text/plain": "9.4586297444267107"
                    },
                    "execution_count": null
                }
            ]
        },
        {
            "id": "cb328f10",
            "cell_type": "code",
            "metadata": {},
            "execution_count": null,
            "source": "np.log(np.sum(np.exp(a)))",
            "outputs": [
                {
                    "output_type": "execute_result",
                    "metadata": {},
                    "data": {
                        "text/plain": "9.4586297444267107"
                    },
                    "execution_count": null
                }
            ]
        },
        {
            "id": "f2dc706c",
            "cell_type": "markdown",
            "source": "With weights\n",
            "metadata": {}
        },
        {
            "id": "9786a192",
            "cell_type": "code",
            "metadata": {},
            "execution_count": null,
            "source": "a = np.arange(10)\nb = np.arange(10, 0, -1)\nlogsumexp(a, b=b)",
            "outputs": [
                {
                    "output_type": "execute_result",
                    "metadata": {},
                    "data": {
                        "text/plain": "9.9170178533034665"
                    },
                    "execution_count": null
                }
            ]
        },
        {
            "id": "1eff7046",
            "cell_type": "code",
            "metadata": {},
            "execution_count": null,
            "source": "np.log(np.sum(b*np.exp(a)))",
            "outputs": [
                {
                    "output_type": "execute_result",
                    "metadata": {},
                    "data": {
                        "text/plain": "9.9170178533034647"
                    },
                    "execution_count": null
                }
            ]
        },
        {
            "id": "5d02071d",
            "cell_type": "markdown",
            "source": "Returning a sign flag\n",
            "metadata": {}
        },
        {
            "id": "f4a714be",
            "cell_type": "code",
            "metadata": {},
            "execution_count": null,
            "source": "logsumexp([1,2],b=[1,-1],return_sign=True)",
            "outputs": [
                {
                    "output_type": "execute_result",
                    "metadata": {},
                    "data": {
                        "text/plain": "(1.5413248546129181, -1.0)"
                    },
                    "execution_count": null
                }
            ]
        },
        {
            "id": "2cc5da56",
            "cell_type": "markdown",
            "source": "Notice that `logsumexp` does not directly support masked arrays. To use it\non a masked array, convert the mask into zero weights:\n",
            "metadata": {}
        },
        {
            "id": "bb80d3e8",
            "cell_type": "code",
            "metadata": {},
            "execution_count": null,
            "source": "a = np.ma.array([np.log(2), 2, np.log(3)],\n                 mask=[False, True, False])\nb = (~a.mask).astype(int)\nlogsumexp(a.data, b=b), np.log(5)",
            "outputs": [
                {
                    "output_type": "execute_result",
                    "metadata": {},
                    "data": {
                        "text/plain": "1.6094379124341005, 1.6094379124341005"
                    },
                    "execution_count": null
                }
            ]
        }
    ]
}