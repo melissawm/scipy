{
    "nbformat": 4,
    "nbformat_minor": 5,
    "metadata": {
        "kernelspec": {
            "display_name": "Python",
            "language": "python",
            "name": "python"
        },
        "language_info": {
            "name": "python"
        }
    },
    "cells": [
        {
            "id": "eff74c6f",
            "cell_type": "markdown",
            "source": "<div class='alert alert-warning'>\n\nSciPy's interactive examples with Jupyterlite are experimental and may not always work as expected. Execution of cells containing imports may result in large downloads (up to 60MB of content for the first import from SciPy). Load times when importing from SciPy may take roughly 10-20 seconds. If you notice any problems, feel free to open an [issue](https://github.com/scipy/scipy/issues/new/choose).\n\n</div>",
            "metadata": {}
        },
        {
            "id": "3ef2b942",
            "cell_type": "code",
            "metadata": {},
            "execution_count": null,
            "source": "from scipy.spatial.transform import Rotation as R\nimport numpy as np",
            "outputs": []
        },
        {
            "id": "2612a0dc",
            "cell_type": "markdown",
            "source": "Initialize a single rotation:\n",
            "metadata": {}
        },
        {
            "id": "7f55490a",
            "cell_type": "code",
            "metadata": {},
            "execution_count": null,
            "source": "r = R.from_matrix([\n[0, -1, 0],\n[1, 0, 0],\n[0, 0, 1]])\nr.as_matrix().shape",
            "outputs": [
                {
                    "output_type": "execute_result",
                    "metadata": {},
                    "data": {
                        "text/plain": "(3, 3)"
                    },
                    "execution_count": null
                }
            ]
        },
        {
            "id": "8660c5bb",
            "cell_type": "markdown",
            "source": "Initialize multiple rotations in a single object:\n",
            "metadata": {}
        },
        {
            "id": "2bbf4c9c",
            "cell_type": "code",
            "metadata": {},
            "execution_count": null,
            "source": "r = R.from_matrix([\n[\n    [0, -1, 0],\n    [1, 0, 0],\n    [0, 0, 1],\n],\n[\n    [1, 0, 0],\n    [0, 0, -1],\n    [0, 1, 0],\n]])\nr.as_matrix().shape",
            "outputs": [
                {
                    "output_type": "execute_result",
                    "metadata": {},
                    "data": {
                        "text/plain": "(2, 3, 3)"
                    },
                    "execution_count": null
                }
            ]
        },
        {
            "id": "6f964780",
            "cell_type": "markdown",
            "source": "If input matrices are not special orthogonal (orthogonal with\ndeterminant equal to +1), then a special orthogonal estimate is stored:\n",
            "metadata": {}
        },
        {
            "id": "c0b9000c",
            "cell_type": "code",
            "metadata": {},
            "execution_count": null,
            "source": "a = np.array([\n[0, -0.5, 0],\n[0.5, 0, 0],\n[0, 0, 0.5]])\nnp.linalg.det(a)",
            "outputs": [
                {
                    "output_type": "execute_result",
                    "metadata": {},
                    "data": {
                        "text/plain": "0.12500000000000003"
                    },
                    "execution_count": null
                }
            ]
        },
        {
            "id": "423e967b",
            "cell_type": "code",
            "metadata": {},
            "execution_count": null,
            "source": "r = R.from_matrix(a)\nmatrix = r.as_matrix()\nmatrix",
            "outputs": [
                {
                    "output_type": "execute_result",
                    "metadata": {},
                    "data": {
                        "text/plain": "array([[-0.38461538, -0.92307692,  0.        ],\n       [ 0.92307692, -0.38461538,  0.        ],\n       [ 0.        ,  0.        ,  1.        ]])"
                    },
                    "execution_count": null
                }
            ]
        },
        {
            "id": "3d309efb",
            "cell_type": "code",
            "metadata": {},
            "execution_count": null,
            "source": "np.linalg.det(matrix)",
            "outputs": [
                {
                    "output_type": "execute_result",
                    "metadata": {},
                    "data": {
                        "text/plain": "1.0000000000000002"
                    },
                    "execution_count": null
                }
            ]
        },
        {
            "id": "e643dd53",
            "cell_type": "markdown",
            "source": "It is also possible to have a stack containing a single rotation:\n",
            "metadata": {}
        },
        {
            "id": "1dea5bf7",
            "cell_type": "code",
            "metadata": {},
            "execution_count": null,
            "source": "r = R.from_matrix([[\n[0, -1, 0],\n[1, 0, 0],\n[0, 0, 1]]])\nr.as_matrix()",
            "outputs": [
                {
                    "output_type": "execute_result",
                    "metadata": {},
                    "data": {
                        "text/plain": "array([[[ 0., -1.,  0.],\n        [ 1.,  0.,  0.],\n        [ 0.,  0.,  1.]]])"
                    },
                    "execution_count": null
                }
            ]
        },
        {
            "id": "a248e2ef",
            "cell_type": "code",
            "metadata": {},
            "execution_count": null,
            "source": "r.as_matrix().shape",
            "outputs": [
                {
                    "output_type": "execute_result",
                    "metadata": {},
                    "data": {
                        "text/plain": "(1, 3, 3)"
                    },
                    "execution_count": null
                }
            ]
        }
    ]
}