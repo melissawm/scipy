{
    "nbformat": 4,
    "nbformat_minor": 5,
    "metadata": {
        "kernelspec": {
            "display_name": "Python",
            "language": "python",
            "name": "python"
        },
        "language_info": {
            "name": "python"
        }
    },
    "cells": [
        {
            "id": "2afca43a",
            "cell_type": "markdown",
            "source": "<div class='alert alert-warning'>\n\nSciPy's interactive examples with Jupyterlite are experimental and may not always work as expected. Execution of cells containing imports may result in large downloads (up to 60MB of content for the first import from SciPy). Load times when importing from SciPy may take roughly 10-20 seconds. If you notice any problems, feel free to open an [issue](https://github.com/scipy/scipy/issues/new/choose).\n\n</div>",
            "metadata": {}
        },
        {
            "id": "4a5daa3a",
            "cell_type": "code",
            "metadata": {},
            "execution_count": null,
            "source": "import numpy as np\nfrom scipy import stats\nfrom scipy.stats.sampling import FastGeneratorInversion",
            "outputs": []
        },
        {
            "id": "3d02415b",
            "cell_type": "markdown",
            "source": "Let's start with a simple example to illustrate the main features:\n",
            "metadata": {}
        },
        {
            "id": "b8f40499",
            "cell_type": "code",
            "metadata": {},
            "execution_count": null,
            "source": "gamma_frozen = stats.gamma(1.5)\ngamma_dist = FastGeneratorInversion(gamma_frozen)\nr = gamma_dist.rvs(size=1000)",
            "outputs": []
        },
        {
            "id": "08370fd7",
            "cell_type": "markdown",
            "source": "The mean should be approximately equal to the shape parameter 1.5:\n",
            "metadata": {}
        },
        {
            "id": "9f6271ec",
            "cell_type": "code",
            "metadata": {},
            "execution_count": null,
            "source": "r.mean()",
            "outputs": [
                {
                    "output_type": "execute_result",
                    "metadata": {},
                    "data": {
                        "text/plain": "1.52423591130436  # may vary"
                    },
                    "execution_count": null
                }
            ]
        },
        {
            "id": "17b4a32d",
            "cell_type": "markdown",
            "source": "Similarly, we can draw a sample based on quasi-random numbers:\n",
            "metadata": {}
        },
        {
            "id": "8bb09464",
            "cell_type": "code",
            "metadata": {},
            "execution_count": null,
            "source": "r = gamma_dist.qrvs(size=1000)\nr.mean()",
            "outputs": [
                {
                    "output_type": "execute_result",
                    "metadata": {},
                    "data": {
                        "text/plain": "1.4996639255942914  # may vary"
                    },
                    "execution_count": null
                }
            ]
        },
        {
            "id": "9dd30e64",
            "cell_type": "markdown",
            "source": "Compare the PPF against approximation `ppf`.\n",
            "metadata": {}
        },
        {
            "id": "480d37fc",
            "cell_type": "code",
            "metadata": {},
            "execution_count": null,
            "source": "q = [0.001, 0.2, 0.5, 0.8, 0.999]\nnp.max(np.abs(gamma_frozen.ppf(q) - gamma_dist.ppf(q)))",
            "outputs": [
                {
                    "output_type": "execute_result",
                    "metadata": {},
                    "data": {
                        "text/plain": "4.313394796895409e-08"
                    },
                    "execution_count": null
                }
            ]
        },
        {
            "id": "1a86bfee",
            "cell_type": "markdown",
            "source": "To confirm that the numerical inversion is accurate, we evaluate the\napproximation error (u-error), which should be below 1e-10 (for more\ndetails, refer to the documentation of `evaluate_error`):\n",
            "metadata": {}
        },
        {
            "id": "74b9c1c1",
            "cell_type": "code",
            "metadata": {},
            "execution_count": null,
            "source": "gamma_dist.evaluate_error()",
            "outputs": [
                {
                    "output_type": "execute_result",
                    "metadata": {},
                    "data": {
                        "text/plain": "(7.446320551265581e-11, nan)  # may vary"
                    },
                    "execution_count": null
                }
            ]
        },
        {
            "id": "95a686e9",
            "cell_type": "markdown",
            "source": "Note that the location and scale can be changed without instantiating a\nnew generator:\n",
            "metadata": {}
        },
        {
            "id": "ce792e7e",
            "cell_type": "code",
            "metadata": {},
            "execution_count": null,
            "source": "gamma_dist.loc = 2\ngamma_dist.scale = 3\nr = gamma_dist.rvs(size=1000)",
            "outputs": []
        },
        {
            "id": "3ececc79",
            "cell_type": "markdown",
            "source": "The mean should be approximately 2 + 3*1.5 = 6.5.\n",
            "metadata": {}
        },
        {
            "id": "b6df8ab2",
            "cell_type": "code",
            "metadata": {},
            "execution_count": null,
            "source": "r.mean()",
            "outputs": [
                {
                    "output_type": "execute_result",
                    "metadata": {},
                    "data": {
                        "text/plain": "6.399549295242894  # may vary"
                    },
                    "execution_count": null
                }
            ]
        },
        {
            "id": "51d1e39c",
            "cell_type": "markdown",
            "source": "Let us also illustrate how truncation can be applied:\n",
            "metadata": {}
        },
        {
            "id": "7c19cf6d",
            "cell_type": "code",
            "metadata": {},
            "execution_count": null,
            "source": "trunc_norm = FastGeneratorInversion(stats.norm(), domain=(3, 4))\nr = trunc_norm.rvs(size=1000)\n3 < r.min() < r.max() < 4",
            "outputs": [
                {
                    "output_type": "execute_result",
                    "metadata": {},
                    "data": {
                        "text/plain": "True"
                    },
                    "execution_count": null
                }
            ]
        },
        {
            "id": "cd608fc4",
            "cell_type": "markdown",
            "source": "Check the mean:\n",
            "metadata": {}
        },
        {
            "id": "ea3439bc",
            "cell_type": "code",
            "metadata": {},
            "execution_count": null,
            "source": "r.mean()",
            "outputs": [
                {
                    "output_type": "execute_result",
                    "metadata": {},
                    "data": {
                        "text/plain": "3.250433367078603  # may vary"
                    },
                    "execution_count": null
                }
            ]
        },
        {
            "id": "45f89b8b",
            "cell_type": "code",
            "metadata": {},
            "execution_count": null,
            "source": "stats.norm.expect(lb=3, ub=4, conditional=True)",
            "outputs": [
                {
                    "output_type": "execute_result",
                    "metadata": {},
                    "data": {
                        "text/plain": "3.260454285589997"
                    },
                    "execution_count": null
                }
            ]
        },
        {
            "id": "b549b1aa",
            "cell_type": "markdown",
            "source": "In this particular, case, `scipy.stats.truncnorm` could also be used to\ngenerate truncated normal random variates.",
            "metadata": {}
        }
    ]
}