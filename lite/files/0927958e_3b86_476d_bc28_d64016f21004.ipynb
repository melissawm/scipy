{
    "nbformat": 4,
    "nbformat_minor": 5,
    "metadata": {
        "kernelspec": {
            "display_name": "Python",
            "language": "python",
            "name": "python"
        },
        "language_info": {
            "name": "python"
        }
    },
    "cells": [
        {
            "id": "b1465674",
            "cell_type": "markdown",
            "source": "<div class='alert alert-warning'>\n\nSciPy's interactive examples with Jupyterlite are experimental and may not always work as expected. Execution of cells containing imports may result in large downloads (up to 60MB of content for the first import from SciPy). Load times when importing from SciPy may take roughly 10-20 seconds. If you notice any problems, feel free to open an [issue](https://github.com/scipy/scipy/issues/new/choose).\n\n</div>",
            "metadata": {}
        },
        {
            "id": "ca14e560",
            "cell_type": "code",
            "metadata": {},
            "execution_count": null,
            "source": "import numpy as np\nimport scipy.special as sc",
            "outputs": []
        },
        {
            "id": "11be9a8d",
            "cell_type": "markdown",
            "source": "It is more accurate than using tangent directly.\n",
            "metadata": {}
        },
        {
            "id": "7a683946",
            "cell_type": "code",
            "metadata": {},
            "execution_count": null,
            "source": "x = 180 * np.arange(3)\nsc.tandg(x)",
            "outputs": [
                {
                    "output_type": "execute_result",
                    "metadata": {},
                    "data": {
                        "text/plain": "array([0., 0., 0.])"
                    },
                    "execution_count": null
                }
            ]
        },
        {
            "id": "e0d0c636",
            "cell_type": "code",
            "metadata": {},
            "execution_count": null,
            "source": "np.tan(x * np.pi / 180)",
            "outputs": [
                {
                    "output_type": "execute_result",
                    "metadata": {},
                    "data": {
                        "text/plain": "array([ 0.0000000e+00, -1.2246468e-16, -2.4492936e-16])"
                    },
                    "execution_count": null
                }
            ]
        }
    ]
}