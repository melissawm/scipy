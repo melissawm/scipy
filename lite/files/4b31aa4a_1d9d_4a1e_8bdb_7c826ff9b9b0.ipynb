{
    "nbformat": 4,
    "nbformat_minor": 5,
    "metadata": {
        "kernelspec": {
            "display_name": "Python",
            "language": "python",
            "name": "python"
        },
        "language_info": {
            "name": "python"
        }
    },
    "cells": [
        {
            "id": "b2a57d26",
            "cell_type": "markdown",
            "source": "<div class='alert alert-warning'>\n\nSciPy's interactive examples with Jupyterlite are experimental and may not always work as expected. Execution of cells containing imports may result in large downloads (up to 60MB of content for the first import from SciPy). Load times when importing from SciPy may take roughly 10-20 seconds. If you notice any problems, feel free to open an [issue](https://github.com/scipy/scipy/issues/new/choose).\n\n</div>",
            "metadata": {}
        },
        {
            "id": "10c7ba75",
            "cell_type": "code",
            "metadata": {},
            "execution_count": null,
            "source": "from os.path import dirname, join as pjoin\nimport scipy.io as sio\nfrom scipy.io import readsav",
            "outputs": []
        },
        {
            "id": "fa07e598",
            "cell_type": "markdown",
            "source": "Get the filename for an example .sav file from the tests/data directory.\n",
            "metadata": {}
        },
        {
            "id": "5fee73bb",
            "cell_type": "code",
            "metadata": {},
            "execution_count": null,
            "source": "data_dir = pjoin(dirname(sio.__file__), 'tests', 'data')\nsav_fname = pjoin(data_dir, 'array_float32_1d.sav')",
            "outputs": []
        },
        {
            "id": "96c76770",
            "cell_type": "markdown",
            "source": "Load the .sav file contents.\n",
            "metadata": {}
        },
        {
            "id": "39ff738d",
            "cell_type": "code",
            "metadata": {},
            "execution_count": null,
            "source": "sav_data = readsav(sav_fname)",
            "outputs": []
        },
        {
            "id": "3e31c568",
            "cell_type": "markdown",
            "source": "Get keys of the .sav file contents.\n",
            "metadata": {}
        },
        {
            "id": "25ed7116",
            "cell_type": "code",
            "metadata": {},
            "execution_count": null,
            "source": "print(sav_data.keys())",
            "outputs": [
                {
                    "output_type": "execute_result",
                    "metadata": {},
                    "data": {
                        "text/plain": "dict_keys(['array1d'])"
                    },
                    "execution_count": null
                }
            ]
        },
        {
            "id": "17c57c5c",
            "cell_type": "markdown",
            "source": "Access a content with a key.\n",
            "metadata": {}
        },
        {
            "id": "dd05169f",
            "cell_type": "code",
            "metadata": {},
            "execution_count": null,
            "source": "print(sav_data['array1d'])",
            "outputs": [
                {
                    "output_type": "execute_result",
                    "metadata": {},
                    "data": {
                        "text/plain": "[0. 0. 0. 0. 0. 0. 0. 0. 0. 0. 0. 0. 0. 0. 0. 0. 0. 0. 0. 0. 0. 0. 0. 0.\n 0. 0. 0. 0. 0. 0. 0. 0. 0. 0. 0. 0. 0. 0. 0. 0. 0. 0. 0. 0. 0. 0. 0. 0.\n 0. 0. 0. 0. 0. 0. 0. 0. 0. 0. 0. 0. 0. 0. 0. 0. 0. 0. 0. 0. 0. 0. 0. 0.\n 0. 0. 0. 0. 0. 0. 0. 0. 0. 0. 0. 0. 0. 0. 0. 0. 0. 0. 0. 0. 0. 0. 0. 0.\n 0. 0. 0. 0. 0. 0. 0. 0. 0. 0. 0. 0. 0. 0. 0. 0. 0. 0. 0. 0. 0. 0. 0. 0.\n 0. 0. 0.]"
                    },
                    "execution_count": null
                }
            ]
        }
    ]
}