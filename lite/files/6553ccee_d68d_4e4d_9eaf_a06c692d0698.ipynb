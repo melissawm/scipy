{
    "nbformat": 4,
    "nbformat_minor": 5,
    "metadata": {
        "kernelspec": {
            "display_name": "Python",
            "language": "python",
            "name": "python"
        },
        "language_info": {
            "name": "python"
        }
    },
    "cells": [
        {
            "id": "a39faf3d",
            "cell_type": "markdown",
            "source": "<div class='alert alert-warning'>\n\nSciPy's interactive examples with Jupyterlite are experimental and may not always work as expected. Execution of cells containing imports may result in large downloads (up to 60MB of content for the first import from SciPy). Load times when importing from SciPy may take roughly 10-20 seconds. If you notice any problems, feel free to open an [issue](https://github.com/scipy/scipy/issues/new/choose).\n\n</div>",
            "metadata": {}
        },
        {
            "id": "023ed26e",
            "cell_type": "markdown",
            "source": "Given an upper triangular array ``a`` that represents the full symmetric\narray with its entries, obtain ``l``, 'd' and the permutation vector `perm`:\n",
            "metadata": {}
        },
        {
            "id": "389395bf",
            "cell_type": "code",
            "metadata": {},
            "execution_count": null,
            "source": "import numpy as np\nfrom scipy.linalg import ldl\na = np.array([[2, -1, 3], [0, 2, 0], [0, 0, 1]])\nlu, d, perm = ldl(a, lower=0) # Use the upper part\nlu",
            "outputs": [
                {
                    "output_type": "execute_result",
                    "metadata": {},
                    "data": {
                        "text/plain": "array([[ 0. ,  0. ,  1. ],\n       [ 0. ,  1. , -0.5],\n       [ 1. ,  1. ,  1.5]])"
                    },
                    "execution_count": null
                }
            ]
        },
        {
            "id": "78bc96fd",
            "cell_type": "code",
            "metadata": {},
            "execution_count": null,
            "source": "d",
            "outputs": [
                {
                    "output_type": "execute_result",
                    "metadata": {},
                    "data": {
                        "text/plain": "array([[-5. ,  0. ,  0. ],\n       [ 0. ,  1.5,  0. ],\n       [ 0. ,  0. ,  2. ]])"
                    },
                    "execution_count": null
                }
            ]
        },
        {
            "id": "6d36d15e",
            "cell_type": "code",
            "metadata": {},
            "execution_count": null,
            "source": "perm",
            "outputs": [
                {
                    "output_type": "execute_result",
                    "metadata": {},
                    "data": {
                        "text/plain": "array([2, 1, 0])"
                    },
                    "execution_count": null
                }
            ]
        },
        {
            "id": "504e77dd",
            "cell_type": "code",
            "metadata": {},
            "execution_count": null,
            "source": "lu[perm, :]",
            "outputs": [
                {
                    "output_type": "execute_result",
                    "metadata": {},
                    "data": {
                        "text/plain": "array([[ 1. ,  1. ,  1.5],\n       [ 0. ,  1. , -0.5],\n       [ 0. ,  0. ,  1. ]])"
                    },
                    "execution_count": null
                }
            ]
        },
        {
            "id": "533881fb",
            "cell_type": "code",
            "metadata": {},
            "execution_count": null,
            "source": "lu.dot(d).dot(lu.T)",
            "outputs": [
                {
                    "output_type": "execute_result",
                    "metadata": {},
                    "data": {
                        "text/plain": "array([[ 2., -1.,  3.],\n       [-1.,  2.,  0.],\n       [ 3.,  0.,  1.]])"
                    },
                    "execution_count": null
                }
            ]
        }
    ]
}