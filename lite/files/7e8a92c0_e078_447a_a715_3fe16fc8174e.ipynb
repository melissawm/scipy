{
    "nbformat": 4,
    "nbformat_minor": 5,
    "metadata": {
        "kernelspec": {
            "display_name": "Python",
            "language": "python",
            "name": "python"
        },
        "language_info": {
            "name": "python"
        }
    },
    "cells": [
        {
            "id": "d3856d42",
            "cell_type": "markdown",
            "source": "<div class='alert alert-warning'>\n\nSciPy's interactive examples with Jupyterlite are experimental and may not always work as expected. Execution of cells containing imports may result in large downloads (up to 60MB of content for the first import from SciPy). Load times when importing from SciPy may take roughly 10-20 seconds. If you notice any problems, feel free to open an [issue](https://github.com/scipy/scipy/issues/new/choose).\n\n</div>",
            "metadata": {}
        },
        {
            "id": "2d9b4dd0",
            "cell_type": "code",
            "metadata": {},
            "execution_count": null,
            "source": "import scipy.special as sc",
            "outputs": []
        },
        {
            "id": "7e636928",
            "cell_type": "markdown",
            "source": "Compute the CDF for several values of `m`:\n",
            "metadata": {}
        },
        {
            "id": "7bd3367e",
            "cell_type": "code",
            "metadata": {},
            "execution_count": null,
            "source": "m = [0.5, 1, 1.5]\np = sc.pdtr(1, m)\np",
            "outputs": [
                {
                    "output_type": "execute_result",
                    "metadata": {},
                    "data": {
                        "text/plain": "array([0.90979599, 0.73575888, 0.5578254 ])"
                    },
                    "execution_count": null
                }
            ]
        },
        {
            "id": "6a7f5d3b",
            "cell_type": "markdown",
            "source": "Compute the inverse. We recover the values of `m`, as expected:\n",
            "metadata": {}
        },
        {
            "id": "89ca2155",
            "cell_type": "code",
            "metadata": {},
            "execution_count": null,
            "source": "sc.pdtri(1, p)",
            "outputs": [
                {
                    "output_type": "execute_result",
                    "metadata": {},
                    "data": {
                        "text/plain": "array([0.5, 1. , 1.5])"
                    },
                    "execution_count": null
                }
            ]
        }
    ]
}