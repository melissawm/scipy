{
    "nbformat": 4,
    "nbformat_minor": 5,
    "metadata": {
        "kernelspec": {
            "display_name": "Python",
            "language": "python",
            "name": "python"
        },
        "language_info": {
            "name": "python"
        }
    },
    "cells": [
        {
            "id": "b141d411",
            "cell_type": "markdown",
            "source": "<div class='alert alert-warning'>\n\nSciPy's interactive examples with Jupyterlite are experimental and may not always work as expected. Execution of cells containing imports may result in large downloads (up to 60MB of content for the first import from SciPy). Load times when importing from SciPy may take roughly 10-20 seconds. If you notice any problems, feel free to open an [issue](https://github.com/scipy/scipy/issues/new/choose).\n\n</div>",
            "metadata": {}
        },
        {
            "id": "0af0bf43",
            "cell_type": "code",
            "metadata": {},
            "execution_count": null,
            "source": "import scipy.special as sc",
            "outputs": []
        },
        {
            "id": "e23e7ff3",
            "cell_type": "markdown",
            "source": "Compute the CDF for several values of `k`:\n",
            "metadata": {}
        },
        {
            "id": "c59dfb90",
            "cell_type": "code",
            "metadata": {},
            "execution_count": null,
            "source": "k = [1, 2, 3]\np = sc.pdtr(k, 2)\np",
            "outputs": [
                {
                    "output_type": "execute_result",
                    "metadata": {},
                    "data": {
                        "text/plain": "array([0.40600585, 0.67667642, 0.85712346])"
                    },
                    "execution_count": null
                }
            ]
        },
        {
            "id": "d7d772ae",
            "cell_type": "markdown",
            "source": "Compute the inverse. We recover the values of `k`, as expected:\n",
            "metadata": {}
        },
        {
            "id": "b9bbed93",
            "cell_type": "code",
            "metadata": {},
            "execution_count": null,
            "source": "sc.pdtrik(p, 2)",
            "outputs": [
                {
                    "output_type": "execute_result",
                    "metadata": {},
                    "data": {
                        "text/plain": "array([1., 2., 3.])"
                    },
                    "execution_count": null
                }
            ]
        }
    ]
}