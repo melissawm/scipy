{
    "nbformat": 4,
    "nbformat_minor": 5,
    "metadata": {
        "kernelspec": {
            "display_name": "Python",
            "language": "python",
            "name": "python"
        },
        "language_info": {
            "name": "python"
        }
    },
    "cells": [
        {
            "id": "4c80eea4",
            "cell_type": "markdown",
            "source": "<div class='alert alert-warning'>\n\nSciPy's interactive examples with Jupyterlite are experimental and may not always work as expected. Execution of cells containing imports may result in large downloads (up to 60MB of content for the first import from SciPy). Load times when importing from SciPy may take roughly 10-20 seconds. If you notice any problems, feel free to open an [issue](https://github.com/scipy/scipy/issues/new/choose).\n\n</div>",
            "metadata": {}
        },
        {
            "id": "aa6fa475",
            "cell_type": "code",
            "metadata": {},
            "execution_count": null,
            "source": "import numpy as np\nfrom scipy.stats import iqr\nx = np.array([[10, 7, 4], [3, 2, 1]])\nx",
            "outputs": [
                {
                    "output_type": "execute_result",
                    "metadata": {},
                    "data": {
                        "text/plain": "array([[10,  7,  4],\n       [ 3,  2,  1]])"
                    },
                    "execution_count": null
                }
            ]
        },
        {
            "id": "b00cef3f",
            "cell_type": "code",
            "metadata": {},
            "execution_count": null,
            "source": "iqr(x)",
            "outputs": [
                {
                    "output_type": "execute_result",
                    "metadata": {},
                    "data": {
                        "text/plain": "4.0"
                    },
                    "execution_count": null
                }
            ]
        },
        {
            "id": "826d36ce",
            "cell_type": "code",
            "metadata": {},
            "execution_count": null,
            "source": "iqr(x, axis=0)",
            "outputs": [
                {
                    "output_type": "execute_result",
                    "metadata": {},
                    "data": {
                        "text/plain": "array([ 3.5,  2.5,  1.5])"
                    },
                    "execution_count": null
                }
            ]
        },
        {
            "id": "14d11b14",
            "cell_type": "code",
            "metadata": {},
            "execution_count": null,
            "source": "iqr(x, axis=1)",
            "outputs": [
                {
                    "output_type": "execute_result",
                    "metadata": {},
                    "data": {
                        "text/plain": "array([ 3.,  1.])"
                    },
                    "execution_count": null
                }
            ]
        },
        {
            "id": "e17c620b",
            "cell_type": "code",
            "metadata": {},
            "execution_count": null,
            "source": "iqr(x, axis=1, keepdims=True)",
            "outputs": [
                {
                    "output_type": "execute_result",
                    "metadata": {},
                    "data": {
                        "text/plain": "array([[ 3.],\n       [ 1.]])"
                    },
                    "execution_count": null
                }
            ]
        }
    ]
}