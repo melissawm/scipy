{
    "nbformat": 4,
    "nbformat_minor": 5,
    "metadata": {
        "kernelspec": {
            "display_name": "Python",
            "language": "python",
            "name": "python"
        },
        "language_info": {
            "name": "python"
        }
    },
    "cells": [
        {
            "id": "fde51186",
            "cell_type": "markdown",
            "source": "<div class='alert alert-warning'>\n\nSciPy's interactive examples with Jupyterlite are experimental and may not always work as expected. Execution of cells containing imports may result in large downloads (up to 60MB of content for the first import from SciPy). Load times when importing from SciPy may take roughly 10-20 seconds. If you notice any problems, feel free to open an [issue](https://github.com/scipy/scipy/issues/new/choose).\n\n</div>",
            "metadata": {}
        },
        {
            "id": "f1074cd9",
            "cell_type": "markdown",
            "source": "The LU decomposition can be used to solve matrix equations. Consider:\n",
            "metadata": {}
        },
        {
            "id": "ce111882",
            "cell_type": "code",
            "metadata": {},
            "execution_count": null,
            "source": "import numpy as np\nfrom scipy.sparse import csc_matrix\nfrom scipy.sparse.linalg import splu\nA = csc_matrix([[1,2,0,4], [1,0,0,1], [1,0,2,1], [2,2,1,0.]])",
            "outputs": []
        },
        {
            "id": "596f5467",
            "cell_type": "markdown",
            "source": "This can be solved for a given right-hand side:\n",
            "metadata": {}
        },
        {
            "id": "258f9cf2",
            "cell_type": "code",
            "metadata": {},
            "execution_count": null,
            "source": "lu = splu(A)\nb = np.array([1, 2, 3, 4])\nx = lu.solve(b)\nA.dot(x)",
            "outputs": [
                {
                    "output_type": "execute_result",
                    "metadata": {},
                    "data": {
                        "text/plain": "array([ 1.,  2.,  3.,  4.])"
                    },
                    "execution_count": null
                }
            ]
        },
        {
            "id": "c78f6fdc",
            "cell_type": "markdown",
            "source": "The ``lu`` object also contains an explicit representation of the\ndecomposition. The permutations are represented as mappings of\nindices:\n",
            "metadata": {}
        },
        {
            "id": "70711828",
            "cell_type": "code",
            "metadata": {},
            "execution_count": null,
            "source": "lu.perm_r",
            "outputs": [
                {
                    "output_type": "execute_result",
                    "metadata": {},
                    "data": {
                        "text/plain": "array([2, 1, 3, 0], dtype=int32)  # may vary"
                    },
                    "execution_count": null
                }
            ]
        },
        {
            "id": "5f2b22e2",
            "cell_type": "code",
            "metadata": {},
            "execution_count": null,
            "source": "lu.perm_c",
            "outputs": [
                {
                    "output_type": "execute_result",
                    "metadata": {},
                    "data": {
                        "text/plain": "array([0, 1, 3, 2], dtype=int32)  # may vary"
                    },
                    "execution_count": null
                }
            ]
        },
        {
            "id": "a61c0556",
            "cell_type": "markdown",
            "source": "The L and U factors are sparse matrices in CSC format:\n",
            "metadata": {}
        },
        {
            "id": "61ebb4c6",
            "cell_type": "code",
            "metadata": {},
            "execution_count": null,
            "source": "lu.L.toarray()",
            "outputs": [
                {
                    "output_type": "execute_result",
                    "metadata": {},
                    "data": {
                        "text/plain": "array([[ 1. ,  0. ,  0. ,  0. ],  # may vary\n       [ 0.5,  1. ,  0. ,  0. ],\n       [ 0.5, -1. ,  1. ,  0. ],\n       [ 0.5,  1. ,  0. ,  1. ]])"
                    },
                    "execution_count": null
                }
            ]
        },
        {
            "id": "4f48588d",
            "cell_type": "code",
            "metadata": {},
            "execution_count": null,
            "source": "lu.U.toarray()",
            "outputs": [
                {
                    "output_type": "execute_result",
                    "metadata": {},
                    "data": {
                        "text/plain": "array([[ 2. ,  2. ,  0. ,  1. ],  # may vary\n       [ 0. , -1. ,  1. , -0.5],\n       [ 0. ,  0. ,  5. , -1. ],\n       [ 0. ,  0. ,  0. ,  2. ]])"
                    },
                    "execution_count": null
                }
            ]
        },
        {
            "id": "977c8ec6",
            "cell_type": "markdown",
            "source": "The permutation matrices can be constructed:\n",
            "metadata": {}
        },
        {
            "id": "4554d4f6",
            "cell_type": "code",
            "metadata": {},
            "execution_count": null,
            "source": "Pr = csc_matrix((np.ones(4), (lu.perm_r, np.arange(4))))\nPc = csc_matrix((np.ones(4), (np.arange(4), lu.perm_c)))",
            "outputs": []
        },
        {
            "id": "c4f3c305",
            "cell_type": "markdown",
            "source": "We can reassemble the original matrix:\n",
            "metadata": {}
        },
        {
            "id": "07a0039e",
            "cell_type": "code",
            "metadata": {},
            "execution_count": null,
            "source": "(Pr.T @ (lu.L @ lu.U) @ Pc.T).toarray()",
            "outputs": [
                {
                    "output_type": "execute_result",
                    "metadata": {},
                    "data": {
                        "text/plain": "array([[ 1.,  2.,  0.,  4.],\n       [ 1.,  0.,  0.,  1.],\n       [ 1.,  0.,  2.,  1.],\n       [ 2.,  2.,  1.,  0.]])"
                    },
                    "execution_count": null
                }
            ]
        }
    ]
}