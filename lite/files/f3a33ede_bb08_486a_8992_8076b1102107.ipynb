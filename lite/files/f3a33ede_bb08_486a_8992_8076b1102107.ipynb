{
    "nbformat": 4,
    "nbformat_minor": 5,
    "metadata": {
        "kernelspec": {
            "display_name": "Python",
            "language": "python",
            "name": "python"
        },
        "language_info": {
            "name": "python"
        }
    },
    "cells": [
        {
            "id": "dc585d0a",
            "cell_type": "markdown",
            "source": "<div class='alert alert-warning'>\n\nSciPy's interactive examples with Jupyterlite are experimental and may not always work as expected. Execution of cells containing imports may result in large downloads (up to 60MB of content for the first import from SciPy). Load times when importing from SciPy may take roughly 10-20 seconds. If you notice any problems, feel free to open an [issue](https://github.com/scipy/scipy/issues/new/choose).\n\n</div>",
            "metadata": {}
        },
        {
            "id": "74e93a0e",
            "cell_type": "code",
            "metadata": {},
            "execution_count": null,
            "source": "import numpy as np\nfrom scipy.stats import fatiguelife\nimport matplotlib.pyplot as plt\nfig, ax = plt.subplots(1, 1)",
            "outputs": []
        },
        {
            "id": "2f533c58",
            "cell_type": "markdown",
            "source": "Calculate the first four moments:\n",
            "metadata": {}
        },
        {
            "id": "25a2522f",
            "cell_type": "code",
            "metadata": {},
            "execution_count": null,
            "source": "c = 29\nmean, var, skew, kurt = fatiguelife.stats(c, moments='mvsk')",
            "outputs": []
        },
        {
            "id": "ee14da8d",
            "cell_type": "markdown",
            "source": "Display the probability density function (``pdf``):\n",
            "metadata": {}
        },
        {
            "id": "60520b04",
            "cell_type": "code",
            "metadata": {},
            "execution_count": null,
            "source": "x = np.linspace(fatiguelife.ppf(0.01, c),\n                fatiguelife.ppf(0.99, c), 100)\nax.plot(x, fatiguelife.pdf(x, c),\n       'r-', lw=5, alpha=0.6, label='fatiguelife pdf')",
            "outputs": []
        },
        {
            "id": "351aa6ae",
            "cell_type": "markdown",
            "source": "Alternatively, the distribution object can be called (as a function)\nto fix the shape, location and scale parameters. This returns a \"frozen\"\nRV object holding the given parameters fixed.\n\nFreeze the distribution and display the frozen ``pdf``:\n",
            "metadata": {}
        },
        {
            "id": "22015ea1",
            "cell_type": "code",
            "metadata": {},
            "execution_count": null,
            "source": "rv = fatiguelife(c)\nax.plot(x, rv.pdf(x), 'k-', lw=2, label='frozen pdf')",
            "outputs": []
        },
        {
            "id": "13a1a735",
            "cell_type": "markdown",
            "source": "Check accuracy of ``cdf`` and ``ppf``:\n",
            "metadata": {}
        },
        {
            "id": "6d49620b",
            "cell_type": "code",
            "metadata": {},
            "execution_count": null,
            "source": "vals = fatiguelife.ppf([0.001, 0.5, 0.999], c)\nnp.allclose([0.001, 0.5, 0.999], fatiguelife.cdf(vals, c))",
            "outputs": [
                {
                    "output_type": "execute_result",
                    "metadata": {},
                    "data": {
                        "text/plain": "True"
                    },
                    "execution_count": null
                }
            ]
        },
        {
            "id": "896d6c23",
            "cell_type": "markdown",
            "source": "Generate random numbers:\n",
            "metadata": {}
        },
        {
            "id": "4fcd0fe8",
            "cell_type": "code",
            "metadata": {},
            "execution_count": null,
            "source": "r = fatiguelife.rvs(c, size=1000)",
            "outputs": []
        },
        {
            "id": "759eac11",
            "cell_type": "markdown",
            "source": "And compare the histogram:\n",
            "metadata": {}
        },
        {
            "id": "ce1c1978",
            "cell_type": "code",
            "metadata": {},
            "execution_count": null,
            "source": "ax.hist(r, density=True, bins='auto', histtype='stepfilled', alpha=0.2)\nax.set_xlim([x[0], x[-1]])\nax.legend(loc='best', frameon=False)\nplt.show()",
            "outputs": []
        }
    ]
}