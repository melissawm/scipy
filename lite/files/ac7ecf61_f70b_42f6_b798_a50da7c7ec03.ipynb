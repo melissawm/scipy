{
    "nbformat": 4,
    "nbformat_minor": 5,
    "metadata": {
        "kernelspec": {
            "display_name": "Python",
            "language": "python",
            "name": "python"
        },
        "language_info": {
            "name": "python"
        }
    },
    "cells": [
        {
            "id": "bd75d313",
            "cell_type": "markdown",
            "source": "<div class='alert alert-warning'>\n\nSciPy's interactive examples with Jupyterlite are experimental and may not always work as expected. Execution of cells containing imports may result in large downloads (up to 60MB of content for the first import from SciPy). Load times when importing from SciPy may take roughly 10-20 seconds. If you notice any problems, feel free to open an [issue](https://github.com/scipy/scipy/issues/new/choose).\n\n</div>",
            "metadata": {}
        },
        {
            "id": "a4069820",
            "cell_type": "markdown",
            "source": "We illustrate the behaviour of the function when `brack` is of\nsize 2 and 3, respectively. In the case where `brack` is of the\nform (xa,xb), we can see for the given values, the output need\nnot necessarily lie in the range ``(xa, xb)``.\n",
            "metadata": {}
        },
        {
            "id": "0db3e48c",
            "cell_type": "code",
            "metadata": {},
            "execution_count": null,
            "source": "def f(x):\n    return (x-1)**2",
            "outputs": []
        },
        {
            "id": "23e2f05a",
            "cell_type": "code",
            "metadata": {},
            "execution_count": null,
            "source": "from scipy import optimize",
            "outputs": []
        },
        {
            "id": "ee4936af",
            "cell_type": "code",
            "metadata": {},
            "execution_count": null,
            "source": "minimizer = optimize.golden(f, brack=(1, 2))\nminimizer",
            "outputs": [
                {
                    "output_type": "execute_result",
                    "metadata": {},
                    "data": {
                        "text/plain": "1"
                    },
                    "execution_count": null
                }
            ]
        },
        {
            "id": "49c61387",
            "cell_type": "code",
            "metadata": {},
            "execution_count": null,
            "source": "res = optimize.golden(f, brack=(-1, 0.5, 2), full_output=True)\nxmin, fval, funcalls = res\nf(xmin), fval",
            "outputs": [
                {
                    "output_type": "execute_result",
                    "metadata": {},
                    "data": {
                        "text/plain": "(9.925165290385052e-18, 9.925165290385052e-18)"
                    },
                    "execution_count": null
                }
            ]
        }
    ]
}