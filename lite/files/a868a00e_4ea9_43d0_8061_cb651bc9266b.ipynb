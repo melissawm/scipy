{
    "nbformat": 4,
    "nbformat_minor": 5,
    "metadata": {
        "kernelspec": {
            "display_name": "Python",
            "language": "python",
            "name": "python"
        },
        "language_info": {
            "name": "python"
        }
    },
    "cells": [
        {
            "id": "57587137",
            "cell_type": "markdown",
            "source": "<div class='alert alert-warning'>\n\nSciPy's interactive examples with Jupyterlite are experimental and may not always work as expected. Execution of cells containing imports may result in large downloads (up to 60MB of content for the first import from SciPy). Load times when importing from SciPy may take roughly 10-20 seconds. If you notice any problems, feel free to open an [issue](https://github.com/scipy/scipy/issues/new/choose).\n\n</div>",
            "metadata": {}
        },
        {
            "id": "c27a51f7",
            "cell_type": "code",
            "metadata": {},
            "execution_count": null,
            "source": "import numpy as np\nfrom scipy.stats import mielke\nimport matplotlib.pyplot as plt\nfig, ax = plt.subplots(1, 1)",
            "outputs": []
        },
        {
            "id": "82c89cec",
            "cell_type": "markdown",
            "source": "Calculate the first four moments:\n",
            "metadata": {}
        },
        {
            "id": "ba0cc568",
            "cell_type": "code",
            "metadata": {},
            "execution_count": null,
            "source": "k, s = 10.4, 4.6\nmean, var, skew, kurt = mielke.stats(k, s, moments='mvsk')",
            "outputs": []
        },
        {
            "id": "71773f7d",
            "cell_type": "markdown",
            "source": "Display the probability density function (``pdf``):\n",
            "metadata": {}
        },
        {
            "id": "2d45ce12",
            "cell_type": "code",
            "metadata": {},
            "execution_count": null,
            "source": "x = np.linspace(mielke.ppf(0.01, k, s),\n                mielke.ppf(0.99, k, s), 100)\nax.plot(x, mielke.pdf(x, k, s),\n       'r-', lw=5, alpha=0.6, label='mielke pdf')",
            "outputs": []
        },
        {
            "id": "52149d50",
            "cell_type": "markdown",
            "source": "Alternatively, the distribution object can be called (as a function)\nto fix the shape, location and scale parameters. This returns a \"frozen\"\nRV object holding the given parameters fixed.\n\nFreeze the distribution and display the frozen ``pdf``:\n",
            "metadata": {}
        },
        {
            "id": "cdad28eb",
            "cell_type": "code",
            "metadata": {},
            "execution_count": null,
            "source": "rv = mielke(k, s)\nax.plot(x, rv.pdf(x), 'k-', lw=2, label='frozen pdf')",
            "outputs": []
        },
        {
            "id": "56102a26",
            "cell_type": "markdown",
            "source": "Check accuracy of ``cdf`` and ``ppf``:\n",
            "metadata": {}
        },
        {
            "id": "9c55ae5a",
            "cell_type": "code",
            "metadata": {},
            "execution_count": null,
            "source": "vals = mielke.ppf([0.001, 0.5, 0.999], k, s)\nnp.allclose([0.001, 0.5, 0.999], mielke.cdf(vals, k, s))",
            "outputs": [
                {
                    "output_type": "execute_result",
                    "metadata": {},
                    "data": {
                        "text/plain": "True"
                    },
                    "execution_count": null
                }
            ]
        },
        {
            "id": "299eecbd",
            "cell_type": "markdown",
            "source": "Generate random numbers:\n",
            "metadata": {}
        },
        {
            "id": "64122d16",
            "cell_type": "code",
            "metadata": {},
            "execution_count": null,
            "source": "r = mielke.rvs(k, s, size=1000)",
            "outputs": []
        },
        {
            "id": "79c565a6",
            "cell_type": "markdown",
            "source": "And compare the histogram:\n",
            "metadata": {}
        },
        {
            "id": "8ce345fc",
            "cell_type": "code",
            "metadata": {},
            "execution_count": null,
            "source": "ax.hist(r, density=True, bins='auto', histtype='stepfilled', alpha=0.2)\nax.set_xlim([x[0], x[-1]])\nax.legend(loc='best', frameon=False)\nplt.show()",
            "outputs": []
        }
    ]
}