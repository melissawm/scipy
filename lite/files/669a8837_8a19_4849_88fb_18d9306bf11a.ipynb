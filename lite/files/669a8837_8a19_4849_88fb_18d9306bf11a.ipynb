{
    "nbformat": 4,
    "nbformat_minor": 5,
    "metadata": {
        "kernelspec": {
            "display_name": "Python",
            "language": "python",
            "name": "python"
        },
        "language_info": {
            "name": "python"
        }
    },
    "cells": [
        {
            "id": "e6688547",
            "cell_type": "markdown",
            "source": "<div class='alert alert-warning'>\n\nSciPy's interactive examples with Jupyterlite are experimental and may not always work as expected. Execution of cells containing imports may result in large downloads (up to 60MB of content for the first import from SciPy). Load times when importing from SciPy may take roughly 10-20 seconds. If you notice any problems, feel free to open an [issue](https://github.com/scipy/scipy/issues/new/choose).\n\n</div>",
            "metadata": {}
        },
        {
            "id": "f014e2d2",
            "cell_type": "code",
            "metadata": {},
            "execution_count": null,
            "source": "import numpy as np\nfrom scipy import signal\nimport matplotlib.pyplot as plt",
            "outputs": []
        },
        {
            "id": "c54c62d1",
            "cell_type": "markdown",
            "source": "Define wave parameters.\n",
            "metadata": {}
        },
        {
            "id": "84c65c6f",
            "cell_type": "code",
            "metadata": {},
            "execution_count": null,
            "source": "wave_duration = 3\nsample_rate = 100\nfreq = 2\nq = 5",
            "outputs": []
        },
        {
            "id": "0cde4d5c",
            "cell_type": "markdown",
            "source": "Calculate number of samples.\n",
            "metadata": {}
        },
        {
            "id": "75bbfee3",
            "cell_type": "code",
            "metadata": {},
            "execution_count": null,
            "source": "samples = wave_duration*sample_rate\nsamples_decimated = int(samples/q)",
            "outputs": []
        },
        {
            "id": "73da8d47",
            "cell_type": "markdown",
            "source": "Create cosine wave.\n",
            "metadata": {}
        },
        {
            "id": "bb62666f",
            "cell_type": "code",
            "metadata": {},
            "execution_count": null,
            "source": "x = np.linspace(0, wave_duration, samples, endpoint=False)\ny = np.cos(x*np.pi*freq*2)",
            "outputs": []
        },
        {
            "id": "4ed9d1b4",
            "cell_type": "markdown",
            "source": "Decimate cosine wave.\n",
            "metadata": {}
        },
        {
            "id": "f979f45c",
            "cell_type": "code",
            "metadata": {},
            "execution_count": null,
            "source": "ydem = signal.decimate(y, q)\nxnew = np.linspace(0, wave_duration, samples_decimated, endpoint=False)",
            "outputs": []
        },
        {
            "id": "e0ad0925",
            "cell_type": "markdown",
            "source": "Plot original and decimated waves.\n",
            "metadata": {}
        },
        {
            "id": "4204ee23",
            "cell_type": "code",
            "metadata": {},
            "execution_count": null,
            "source": "plt.plot(x, y, '.-', xnew, ydem, 'o-')\nplt.xlabel('Time, Seconds')\nplt.legend(['data', 'decimated'], loc='best')\nplt.show()",
            "outputs": []
        }
    ]
}