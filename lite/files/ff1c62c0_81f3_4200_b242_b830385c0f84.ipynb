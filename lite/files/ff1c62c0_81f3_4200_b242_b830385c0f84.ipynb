{
    "nbformat": 4,
    "nbformat_minor": 5,
    "metadata": {
        "kernelspec": {
            "display_name": "Python",
            "language": "python",
            "name": "python"
        },
        "language_info": {
            "name": "python"
        }
    },
    "cells": [
        {
            "id": "b7726e68",
            "cell_type": "markdown",
            "source": "<div class='alert alert-warning'>\n\nSciPy's interactive examples with Jupyterlite are experimental and may not always work as expected. Execution of cells containing imports may result in large downloads (up to 60MB of content for the first import from SciPy). Load times when importing from SciPy may take roughly 10-20 seconds. If you notice any problems, feel free to open an [issue](https://github.com/scipy/scipy/issues/new/choose).\n\n</div>",
            "metadata": {}
        },
        {
            "id": "4873719b",
            "cell_type": "code",
            "metadata": {},
            "execution_count": null,
            "source": "import numpy as np\nfrom scipy.stats import poisson\nimport matplotlib.pyplot as plt\nfig, ax = plt.subplots(1, 1)",
            "outputs": []
        },
        {
            "id": "0ae3d985",
            "cell_type": "markdown",
            "source": "Calculate the first four moments:\n",
            "metadata": {}
        },
        {
            "id": "3eb4eb20",
            "cell_type": "code",
            "metadata": {},
            "execution_count": null,
            "source": "mu = 0.6\nmean, var, skew, kurt = poisson.stats(mu, moments='mvsk')",
            "outputs": []
        },
        {
            "id": "f101f69f",
            "cell_type": "markdown",
            "source": "Display the probability mass function (``pmf``):\n",
            "metadata": {}
        },
        {
            "id": "ba158ef3",
            "cell_type": "code",
            "metadata": {},
            "execution_count": null,
            "source": "x = np.arange(poisson.ppf(0.01, mu),\n              poisson.ppf(0.99, mu))\nax.plot(x, poisson.pmf(x, mu), 'bo', ms=8, label='poisson pmf')\nax.vlines(x, 0, poisson.pmf(x, mu), colors='b', lw=5, alpha=0.5)",
            "outputs": []
        },
        {
            "id": "b9bfdb44",
            "cell_type": "markdown",
            "source": "Alternatively, the distribution object can be called (as a function)\nto fix the shape and location. This returns a \"frozen\" RV object holding\nthe given parameters fixed.\n\nFreeze the distribution and display the frozen ``pmf``:\n",
            "metadata": {}
        },
        {
            "id": "090e23dc",
            "cell_type": "code",
            "metadata": {},
            "execution_count": null,
            "source": "rv = poisson(mu)\nax.vlines(x, 0, rv.pmf(x), colors='k', linestyles='-', lw=1,\n        label='frozen pmf')\nax.legend(loc='best', frameon=False)\nplt.show()",
            "outputs": []
        },
        {
            "id": "ef518a01",
            "cell_type": "markdown",
            "source": "Check accuracy of ``cdf`` and ``ppf``:\n",
            "metadata": {}
        },
        {
            "id": "5baff56d",
            "cell_type": "code",
            "metadata": {},
            "execution_count": null,
            "source": "prob = poisson.cdf(x, mu)\nnp.allclose(x, poisson.ppf(prob, mu))",
            "outputs": [
                {
                    "output_type": "execute_result",
                    "metadata": {},
                    "data": {
                        "text/plain": "True"
                    },
                    "execution_count": null
                }
            ]
        },
        {
            "id": "3d1079d6",
            "cell_type": "markdown",
            "source": "Generate random numbers:\n",
            "metadata": {}
        },
        {
            "id": "14b7e394",
            "cell_type": "code",
            "metadata": {},
            "execution_count": null,
            "source": "r = poisson.rvs(mu, size=1000)",
            "outputs": []
        }
    ]
}