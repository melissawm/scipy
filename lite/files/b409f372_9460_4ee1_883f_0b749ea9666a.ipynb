{
    "nbformat": 4,
    "nbformat_minor": 5,
    "metadata": {
        "kernelspec": {
            "display_name": "Python",
            "language": "python",
            "name": "python"
        },
        "language_info": {
            "name": "python"
        }
    },
    "cells": [
        {
            "id": "1c975f44",
            "cell_type": "markdown",
            "source": "<div class='alert alert-warning'>\n\nSciPy's interactive examples with Jupyterlite are experimental and may not always work as expected. Execution of cells containing imports may result in large downloads (up to 60MB of content for the first import from SciPy). Load times when importing from SciPy may take roughly 10-20 seconds. If you notice any problems, feel free to open an [issue](https://github.com/scipy/scipy/issues/new/choose).\n\n</div>",
            "metadata": {}
        },
        {
            "id": "a40276cb",
            "cell_type": "code",
            "metadata": {},
            "execution_count": null,
            "source": "import numpy as np\nfrom scipy import stats\nimport matplotlib.pyplot as plt\nnsample = 100\nrng = np.random.default_rng()",
            "outputs": []
        },
        {
            "id": "478e39e9",
            "cell_type": "markdown",
            "source": "A t distribution with small degrees of freedom:\n",
            "metadata": {}
        },
        {
            "id": "24387897",
            "cell_type": "code",
            "metadata": {},
            "execution_count": null,
            "source": "ax1 = plt.subplot(221)\nx = stats.t.rvs(3, size=nsample, random_state=rng)\nres = stats.probplot(x, plot=plt)",
            "outputs": []
        },
        {
            "id": "34cfe8c5",
            "cell_type": "markdown",
            "source": "A t distribution with larger degrees of freedom:\n",
            "metadata": {}
        },
        {
            "id": "ecdd556f",
            "cell_type": "code",
            "metadata": {},
            "execution_count": null,
            "source": "ax2 = plt.subplot(222)\nx = stats.t.rvs(25, size=nsample, random_state=rng)\nres = stats.probplot(x, plot=plt)",
            "outputs": []
        },
        {
            "id": "d5fed620",
            "cell_type": "markdown",
            "source": "A mixture of two normal distributions with broadcasting:\n",
            "metadata": {}
        },
        {
            "id": "df186026",
            "cell_type": "code",
            "metadata": {},
            "execution_count": null,
            "source": "ax3 = plt.subplot(223)\nx = stats.norm.rvs(loc=[0,5], scale=[1,1.5],\n                   size=(nsample//2,2), random_state=rng).ravel()\nres = stats.probplot(x, plot=plt)",
            "outputs": []
        },
        {
            "id": "b77d5315",
            "cell_type": "markdown",
            "source": "A standard normal distribution:\n",
            "metadata": {}
        },
        {
            "id": "c0cd4c2d",
            "cell_type": "code",
            "metadata": {},
            "execution_count": null,
            "source": "ax4 = plt.subplot(224)\nx = stats.norm.rvs(loc=0, scale=1, size=nsample, random_state=rng)\nres = stats.probplot(x, plot=plt)",
            "outputs": []
        },
        {
            "id": "64bdebb5",
            "cell_type": "markdown",
            "source": "Produce a new figure with a loggamma distribution, using the ``dist`` and\n``sparams`` keywords:\n",
            "metadata": {}
        },
        {
            "id": "97e75c5b",
            "cell_type": "code",
            "metadata": {},
            "execution_count": null,
            "source": "fig = plt.figure()\nax = fig.add_subplot(111)\nx = stats.loggamma.rvs(c=2.5, size=500, random_state=rng)\nres = stats.probplot(x, dist=stats.loggamma, sparams=(2.5,), plot=ax)\nax.set_title(\"Probplot for loggamma dist with shape parameter 2.5\")",
            "outputs": []
        },
        {
            "id": "f66ac5cf",
            "cell_type": "markdown",
            "source": "Show the results with Matplotlib:\n",
            "metadata": {}
        },
        {
            "id": "b73052c7",
            "cell_type": "code",
            "metadata": {},
            "execution_count": null,
            "source": "plt.show()",
            "outputs": []
        }
    ]
}