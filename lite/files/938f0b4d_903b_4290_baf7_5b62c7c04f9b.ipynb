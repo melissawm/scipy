{
    "nbformat": 4,
    "nbformat_minor": 5,
    "metadata": {
        "kernelspec": {
            "display_name": "Python",
            "language": "python",
            "name": "python"
        },
        "language_info": {
            "name": "python"
        }
    },
    "cells": [
        {
            "id": "6248df40",
            "cell_type": "markdown",
            "source": "<div class='alert alert-warning'>\n\nSciPy's interactive examples with Jupyterlite are experimental and may not always work as expected. Execution of cells containing imports may result in large downloads (up to 60MB of content for the first import from SciPy). Load times when importing from SciPy may take roughly 10-20 seconds. If you notice any problems, feel free to open an [issue](https://github.com/scipy/scipy/issues/new/choose).\n\n</div>",
            "metadata": {}
        },
        {
            "id": "2183cde2",
            "cell_type": "markdown",
            "source": "When comparing the behavior of `median_abs_deviation` with ``np.std``,\nthe latter is affected when we change a single value of an array to have an\noutlier value while the MAD hardly changes:\n",
            "metadata": {}
        },
        {
            "id": "d5d18896",
            "cell_type": "code",
            "metadata": {},
            "execution_count": null,
            "source": "import numpy as np\nfrom scipy import stats\nx = stats.norm.rvs(size=100, scale=1, random_state=123456)\nx.std()",
            "outputs": [
                {
                    "output_type": "execute_result",
                    "metadata": {},
                    "data": {
                        "text/plain": "0.9973906394005013"
                    },
                    "execution_count": null
                }
            ]
        },
        {
            "id": "ed980929",
            "cell_type": "code",
            "metadata": {},
            "execution_count": null,
            "source": "stats.median_abs_deviation(x)",
            "outputs": [
                {
                    "output_type": "execute_result",
                    "metadata": {},
                    "data": {
                        "text/plain": "0.82832610097857"
                    },
                    "execution_count": null
                }
            ]
        },
        {
            "id": "1555e458",
            "cell_type": "code",
            "metadata": {},
            "execution_count": null,
            "source": "x[0] = 345.6\nx.std()",
            "outputs": [
                {
                    "output_type": "execute_result",
                    "metadata": {},
                    "data": {
                        "text/plain": "34.42304872314415"
                    },
                    "execution_count": null
                }
            ]
        },
        {
            "id": "1ad277e0",
            "cell_type": "code",
            "metadata": {},
            "execution_count": null,
            "source": "stats.median_abs_deviation(x)",
            "outputs": [
                {
                    "output_type": "execute_result",
                    "metadata": {},
                    "data": {
                        "text/plain": "0.8323442311590675"
                    },
                    "execution_count": null
                }
            ]
        },
        {
            "id": "f9a974d5",
            "cell_type": "markdown",
            "source": "Axis handling example:\n",
            "metadata": {}
        },
        {
            "id": "95d42e84",
            "cell_type": "code",
            "metadata": {},
            "execution_count": null,
            "source": "x = np.array([[10, 7, 4], [3, 2, 1]])\nx",
            "outputs": [
                {
                    "output_type": "execute_result",
                    "metadata": {},
                    "data": {
                        "text/plain": "array([[10,  7,  4],\n       [ 3,  2,  1]])"
                    },
                    "execution_count": null
                }
            ]
        },
        {
            "id": "44394628",
            "cell_type": "code",
            "metadata": {},
            "execution_count": null,
            "source": "stats.median_abs_deviation(x)",
            "outputs": [
                {
                    "output_type": "execute_result",
                    "metadata": {},
                    "data": {
                        "text/plain": "array([3.5, 2.5, 1.5])"
                    },
                    "execution_count": null
                }
            ]
        },
        {
            "id": "c46dc6f5",
            "cell_type": "code",
            "metadata": {},
            "execution_count": null,
            "source": "stats.median_abs_deviation(x, axis=None)",
            "outputs": [
                {
                    "output_type": "execute_result",
                    "metadata": {},
                    "data": {
                        "text/plain": "2.0"
                    },
                    "execution_count": null
                }
            ]
        },
        {
            "id": "242c0280",
            "cell_type": "markdown",
            "source": "Scale normal example:\n",
            "metadata": {}
        },
        {
            "id": "16767d6e",
            "cell_type": "code",
            "metadata": {},
            "execution_count": null,
            "source": "x = stats.norm.rvs(size=1000000, scale=2, random_state=123456)\nstats.median_abs_deviation(x)",
            "outputs": [
                {
                    "output_type": "execute_result",
                    "metadata": {},
                    "data": {
                        "text/plain": "1.3487398527041636"
                    },
                    "execution_count": null
                }
            ]
        },
        {
            "id": "982966a5",
            "cell_type": "code",
            "metadata": {},
            "execution_count": null,
            "source": "stats.median_abs_deviation(x, scale='normal')",
            "outputs": [
                {
                    "output_type": "execute_result",
                    "metadata": {},
                    "data": {
                        "text/plain": "1.9996446978061115"
                    },
                    "execution_count": null
                }
            ]
        }
    ]
}