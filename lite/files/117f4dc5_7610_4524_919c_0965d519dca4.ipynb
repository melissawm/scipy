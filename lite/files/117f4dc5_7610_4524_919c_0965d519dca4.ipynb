{
    "nbformat": 4,
    "nbformat_minor": 5,
    "metadata": {
        "kernelspec": {
            "display_name": "Python",
            "language": "python",
            "name": "python"
        },
        "language_info": {
            "name": "python"
        }
    },
    "cells": [
        {
            "id": "d3b5c635",
            "cell_type": "markdown",
            "source": "<div class='alert alert-warning'>\n\nSciPy's interactive examples with Jupyterlite are experimental and may not always work as expected. Execution of cells containing imports may result in large downloads (up to 60MB of content for the first import from SciPy). Load times when importing from SciPy may take roughly 10-20 seconds. If you notice any problems, feel free to open an [issue](https://github.com/scipy/scipy/issues/new/choose).\n\n</div>",
            "metadata": {}
        },
        {
            "id": "7ba31443",
            "cell_type": "code",
            "metadata": {},
            "execution_count": null,
            "source": "import numpy as np\nfrom scipy.signal import savgol_coeffs\nsavgol_coeffs(5, 2)",
            "outputs": [
                {
                    "output_type": "execute_result",
                    "metadata": {},
                    "data": {
                        "text/plain": "array([-0.08571429,  0.34285714,  0.48571429,  0.34285714, -0.08571429])"
                    },
                    "execution_count": null
                }
            ]
        },
        {
            "id": "01b62365",
            "cell_type": "code",
            "metadata": {},
            "execution_count": null,
            "source": "savgol_coeffs(5, 2, deriv=1)",
            "outputs": [
                {
                    "output_type": "execute_result",
                    "metadata": {},
                    "data": {
                        "text/plain": "array([ 2.00000000e-01,  1.00000000e-01,  2.07548111e-16, -1.00000000e-01,\n       -2.00000000e-01])"
                    },
                    "execution_count": null
                }
            ]
        },
        {
            "id": "1262a2de",
            "cell_type": "markdown",
            "source": "Note that use='dot' simply reverses the coefficients.\n",
            "metadata": {}
        },
        {
            "id": "1c095b49",
            "cell_type": "code",
            "metadata": {},
            "execution_count": null,
            "source": "savgol_coeffs(5, 2, pos=3)",
            "outputs": [
                {
                    "output_type": "execute_result",
                    "metadata": {},
                    "data": {
                        "text/plain": "array([ 0.25714286,  0.37142857,  0.34285714,  0.17142857, -0.14285714])"
                    },
                    "execution_count": null
                }
            ]
        },
        {
            "id": "b01a7810",
            "cell_type": "code",
            "metadata": {},
            "execution_count": null,
            "source": "savgol_coeffs(5, 2, pos=3, use='dot')",
            "outputs": [
                {
                    "output_type": "execute_result",
                    "metadata": {},
                    "data": {
                        "text/plain": "array([-0.14285714,  0.17142857,  0.34285714,  0.37142857,  0.25714286])"
                    },
                    "execution_count": null
                }
            ]
        },
        {
            "id": "dc5560f0",
            "cell_type": "code",
            "metadata": {},
            "execution_count": null,
            "source": "savgol_coeffs(4, 2, pos=3, deriv=1, use='dot')",
            "outputs": [
                {
                    "output_type": "execute_result",
                    "metadata": {},
                    "data": {
                        "text/plain": "array([0.45,  -0.85,  -0.65,  1.05])"
                    },
                    "execution_count": null
                }
            ]
        },
        {
            "id": "8875f620",
            "cell_type": "markdown",
            "source": "`x` contains data from the parabola x = t**2, sampled at\nt = -1, 0, 1, 2, 3.  `c` holds the coefficients that will compute the\nderivative at the last position.  When dotted with `x` the result should\nbe 6.\n",
            "metadata": {}
        },
        {
            "id": "bc4a7a8e",
            "cell_type": "code",
            "metadata": {},
            "execution_count": null,
            "source": "x = np.array([1, 0, 1, 4, 9])\nc = savgol_coeffs(5, 2, pos=4, deriv=1, use='dot')\nc.dot(x)",
            "outputs": [
                {
                    "output_type": "execute_result",
                    "metadata": {},
                    "data": {
                        "text/plain": "6.0"
                    },
                    "execution_count": null
                }
            ]
        }
    ]
}