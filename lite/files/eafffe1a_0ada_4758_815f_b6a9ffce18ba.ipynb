{
    "nbformat": 4,
    "nbformat_minor": 5,
    "metadata": {
        "kernelspec": {
            "display_name": "Python",
            "language": "python",
            "name": "python"
        },
        "language_info": {
            "name": "python"
        }
    },
    "cells": [
        {
            "id": "80bf3aff",
            "cell_type": "markdown",
            "source": "<div class='alert alert-warning'>\n\nSciPy's interactive examples with Jupyterlite are experimental and may not always work as expected. Execution of cells containing imports may result in large downloads (up to 60MB of content for the first import from SciPy). Load times when importing from SciPy may take roughly 10-20 seconds. If you notice any problems, feel free to open an [issue](https://github.com/scipy/scipy/issues/new/choose).\n\n</div>",
            "metadata": {}
        },
        {
            "id": "f01175d3",
            "cell_type": "code",
            "metadata": {},
            "execution_count": null,
            "source": "import numpy as np\nfrom scipy.stats import weibull_max\nimport matplotlib.pyplot as plt\nfig, ax = plt.subplots(1, 1)",
            "outputs": []
        },
        {
            "id": "f9ecfbda",
            "cell_type": "markdown",
            "source": "Calculate the first four moments:\n",
            "metadata": {}
        },
        {
            "id": "5ad7fcb8",
            "cell_type": "code",
            "metadata": {},
            "execution_count": null,
            "source": "c = 2.87\nmean, var, skew, kurt = weibull_max.stats(c, moments='mvsk')",
            "outputs": []
        },
        {
            "id": "53c01c9b",
            "cell_type": "markdown",
            "source": "Display the probability density function (``pdf``):\n",
            "metadata": {}
        },
        {
            "id": "dcfdc33a",
            "cell_type": "code",
            "metadata": {},
            "execution_count": null,
            "source": "x = np.linspace(weibull_max.ppf(0.01, c),\n                weibull_max.ppf(0.99, c), 100)\nax.plot(x, weibull_max.pdf(x, c),\n       'r-', lw=5, alpha=0.6, label='weibull_max pdf')",
            "outputs": []
        },
        {
            "id": "fc453b72",
            "cell_type": "markdown",
            "source": "Alternatively, the distribution object can be called (as a function)\nto fix the shape, location and scale parameters. This returns a \"frozen\"\nRV object holding the given parameters fixed.\n\nFreeze the distribution and display the frozen ``pdf``:\n",
            "metadata": {}
        },
        {
            "id": "1accdd68",
            "cell_type": "code",
            "metadata": {},
            "execution_count": null,
            "source": "rv = weibull_max(c)\nax.plot(x, rv.pdf(x), 'k-', lw=2, label='frozen pdf')",
            "outputs": []
        },
        {
            "id": "fa9d838c",
            "cell_type": "markdown",
            "source": "Check accuracy of ``cdf`` and ``ppf``:\n",
            "metadata": {}
        },
        {
            "id": "6b83c361",
            "cell_type": "code",
            "metadata": {},
            "execution_count": null,
            "source": "vals = weibull_max.ppf([0.001, 0.5, 0.999], c)\nnp.allclose([0.001, 0.5, 0.999], weibull_max.cdf(vals, c))",
            "outputs": [
                {
                    "output_type": "execute_result",
                    "metadata": {},
                    "data": {
                        "text/plain": "True"
                    },
                    "execution_count": null
                }
            ]
        },
        {
            "id": "6e9ebc5e",
            "cell_type": "markdown",
            "source": "Generate random numbers:\n",
            "metadata": {}
        },
        {
            "id": "8fcf30d8",
            "cell_type": "code",
            "metadata": {},
            "execution_count": null,
            "source": "r = weibull_max.rvs(c, size=1000)",
            "outputs": []
        },
        {
            "id": "d1a43656",
            "cell_type": "markdown",
            "source": "And compare the histogram:\n",
            "metadata": {}
        },
        {
            "id": "bb2eb4d5",
            "cell_type": "code",
            "metadata": {},
            "execution_count": null,
            "source": "ax.hist(r, density=True, bins='auto', histtype='stepfilled', alpha=0.2)\nax.set_xlim([x[0], x[-1]])\nax.legend(loc='best', frameon=False)\nplt.show()",
            "outputs": []
        }
    ]
}