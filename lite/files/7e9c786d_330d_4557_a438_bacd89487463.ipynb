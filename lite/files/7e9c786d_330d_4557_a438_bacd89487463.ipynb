{
    "nbformat": 4,
    "nbformat_minor": 5,
    "metadata": {
        "kernelspec": {
            "display_name": "Python",
            "language": "python",
            "name": "python"
        },
        "language_info": {
            "name": "python"
        }
    },
    "cells": [
        {
            "id": "9ec17ba1",
            "cell_type": "markdown",
            "source": "<div class='alert alert-warning'>\n\nSciPy's interactive examples with Jupyterlite are experimental and may not always work as expected. Execution of cells containing imports may result in large downloads (up to 60MB of content for the first import from SciPy). Load times when importing from SciPy may take roughly 10-20 seconds. If you notice any problems, feel free to open an [issue](https://github.com/scipy/scipy/issues/new/choose).\n\n</div>",
            "metadata": {}
        },
        {
            "id": "3a78080b",
            "cell_type": "markdown",
            "source": "The following will be used in the examples:\n",
            "metadata": {}
        },
        {
            "id": "8d022bd7",
            "cell_type": "code",
            "metadata": {},
            "execution_count": null,
            "source": "import numpy as np\nfrom scipy.signal import chirp, spectrogram\nimport matplotlib.pyplot as plt",
            "outputs": []
        },
        {
            "id": "fef889cd",
            "cell_type": "markdown",
            "source": "For the first example, we'll plot the waveform for a linear chirp\nfrom 6 Hz to 1 Hz over 10 seconds:\n",
            "metadata": {}
        },
        {
            "id": "62966065",
            "cell_type": "code",
            "metadata": {},
            "execution_count": null,
            "source": "t = np.linspace(0, 10, 1500)\nw = chirp(t, f0=6, f1=1, t1=10, method='linear')\nplt.plot(t, w)\nplt.title(\"Linear Chirp, f(0)=6, f(10)=1\")\nplt.xlabel('t (sec)')\nplt.show()",
            "outputs": []
        },
        {
            "id": "3ba2d483",
            "cell_type": "markdown",
            "source": "For the remaining examples, we'll use higher frequency ranges,\nand demonstrate the result using `scipy.signal.spectrogram`.\nWe'll use a 4 second interval sampled at 7200 Hz.\n",
            "metadata": {}
        },
        {
            "id": "ab36866d",
            "cell_type": "code",
            "metadata": {},
            "execution_count": null,
            "source": "fs = 7200\nT = 4\nt = np.arange(0, int(T*fs)) / fs",
            "outputs": []
        },
        {
            "id": "21ebfb30",
            "cell_type": "markdown",
            "source": "We'll use this function to plot the spectrogram in each example.\n",
            "metadata": {}
        },
        {
            "id": "1a5b04ed",
            "cell_type": "code",
            "metadata": {},
            "execution_count": null,
            "source": "def plot_spectrogram(title, w, fs):\n    ff, tt, Sxx = spectrogram(w, fs=fs, nperseg=256, nfft=576)\n    fig, ax = plt.subplots()\n    ax.pcolormesh(tt, ff[:145], Sxx[:145], cmap='gray_r',\n                  shading='gouraud')\n    ax.set_title(title)\n    ax.set_xlabel('t (sec)')\n    ax.set_ylabel('Frequency (Hz)')\n    ax.grid(True)\n",
            "outputs": []
        },
        {
            "id": "77c8ac7d",
            "cell_type": "markdown",
            "source": "Quadratic chirp from 1500 Hz to 250 Hz\n(vertex of the parabolic curve of the frequency is at t=0):\n",
            "metadata": {}
        },
        {
            "id": "0c037938",
            "cell_type": "code",
            "metadata": {},
            "execution_count": null,
            "source": "w = chirp(t, f0=1500, f1=250, t1=T, method='quadratic')\nplot_spectrogram(f'Quadratic Chirp, f(0)=1500, f({T})=250', w, fs)\nplt.show()",
            "outputs": []
        },
        {
            "id": "16162579",
            "cell_type": "markdown",
            "source": "Quadratic chirp from 1500 Hz to 250 Hz\n(vertex of the parabolic curve of the frequency is at t=T):\n",
            "metadata": {}
        },
        {
            "id": "a6b2732e",
            "cell_type": "code",
            "metadata": {},
            "execution_count": null,
            "source": "w = chirp(t, f0=1500, f1=250, t1=T, method='quadratic',\n          vertex_zero=False)\nplot_spectrogram(f'Quadratic Chirp, f(0)=1500, f({T})=250\\n' +\n                 '(vertex_zero=False)', w, fs)\nplt.show()",
            "outputs": []
        },
        {
            "id": "4f0265c0",
            "cell_type": "markdown",
            "source": "Logarithmic chirp from 1500 Hz to 250 Hz:\n",
            "metadata": {}
        },
        {
            "id": "6f7304fb",
            "cell_type": "code",
            "metadata": {},
            "execution_count": null,
            "source": "w = chirp(t, f0=1500, f1=250, t1=T, method='logarithmic')\nplot_spectrogram(f'Logarithmic Chirp, f(0)=1500, f({T})=250', w, fs)\nplt.show()",
            "outputs": []
        },
        {
            "id": "29ca6c19",
            "cell_type": "markdown",
            "source": "Hyperbolic chirp from 1500 Hz to 250 Hz:\n",
            "metadata": {}
        },
        {
            "id": "796fe3b1",
            "cell_type": "code",
            "metadata": {},
            "execution_count": null,
            "source": "w = chirp(t, f0=1500, f1=250, t1=T, method='hyperbolic')\nplot_spectrogram(f'Hyperbolic Chirp, f(0)=1500, f({T})=250', w, fs)\nplt.show()",
            "outputs": []
        }
    ]
}