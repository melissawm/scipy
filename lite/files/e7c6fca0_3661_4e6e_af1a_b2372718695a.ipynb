{
    "nbformat": 4,
    "nbformat_minor": 5,
    "metadata": {
        "kernelspec": {
            "display_name": "Python",
            "language": "python",
            "name": "python"
        },
        "language_info": {
            "name": "python"
        }
    },
    "cells": [
        {
            "id": "0a6a9cc9",
            "cell_type": "markdown",
            "source": "<div class='alert alert-warning'>\n\nSciPy's interactive examples with Jupyterlite are experimental and may not always work as expected. Execution of cells containing imports may result in large downloads (up to 60MB of content for the first import from SciPy). Load times when importing from SciPy may take roughly 10-20 seconds. If you notice any problems, feel free to open an [issue](https://github.com/scipy/scipy/issues/new/choose).\n\n</div>",
            "metadata": {}
        },
        {
            "id": "c3bc088f",
            "cell_type": "code",
            "metadata": {},
            "execution_count": null,
            "source": "import numpy as np\nfrom scipy.special import eval_legendre",
            "outputs": []
        },
        {
            "id": "b4af7897",
            "cell_type": "markdown",
            "source": "Evaluate the zero-order Legendre polynomial at x = 0\n",
            "metadata": {}
        },
        {
            "id": "52d056dd",
            "cell_type": "code",
            "metadata": {},
            "execution_count": null,
            "source": "eval_legendre(0, 0)",
            "outputs": [
                {
                    "output_type": "execute_result",
                    "metadata": {},
                    "data": {
                        "text/plain": "1.0"
                    },
                    "execution_count": null
                }
            ]
        },
        {
            "id": "3d41a1a2",
            "cell_type": "markdown",
            "source": "Evaluate the first-order Legendre polynomial between -1 and 1\n",
            "metadata": {}
        },
        {
            "id": "b13b67ad",
            "cell_type": "code",
            "metadata": {},
            "execution_count": null,
            "source": "X = np.linspace(-1, 1, 5)  # Domain of Legendre polynomials\neval_legendre(1, X)",
            "outputs": [
                {
                    "output_type": "execute_result",
                    "metadata": {},
                    "data": {
                        "text/plain": "array([-1. , -0.5,  0. ,  0.5,  1. ])"
                    },
                    "execution_count": null
                }
            ]
        },
        {
            "id": "b3926106",
            "cell_type": "markdown",
            "source": "Evaluate Legendre polynomials of order 0 through 4 at x = 0\n",
            "metadata": {}
        },
        {
            "id": "ae936791",
            "cell_type": "code",
            "metadata": {},
            "execution_count": null,
            "source": "N = range(0, 5)\neval_legendre(N, 0)",
            "outputs": [
                {
                    "output_type": "execute_result",
                    "metadata": {},
                    "data": {
                        "text/plain": "array([ 1.   ,  0.   , -0.5  ,  0.   ,  0.375])"
                    },
                    "execution_count": null
                }
            ]
        },
        {
            "id": "38d11d2e",
            "cell_type": "markdown",
            "source": "Plot Legendre polynomials of order 0 through 4\n",
            "metadata": {}
        },
        {
            "id": "20fa8b15",
            "cell_type": "code",
            "metadata": {},
            "execution_count": null,
            "source": "X = np.linspace(-1, 1)",
            "outputs": []
        },
        {
            "id": "ed36d08f",
            "cell_type": "code",
            "metadata": {},
            "execution_count": null,
            "source": "import matplotlib.pyplot as plt\nfor n in range(0, 5):\n    y = eval_legendre(n, X)\n    plt.plot(X, y, label=r'$P_{}(x)$'.format(n))",
            "outputs": []
        },
        {
            "id": "faae6301",
            "cell_type": "code",
            "metadata": {},
            "execution_count": null,
            "source": "plt.title(\"Legendre Polynomials\")\nplt.xlabel(\"x\")\nplt.ylabel(r'$P_n(x)$')\nplt.legend(loc='lower right')\nplt.show()",
            "outputs": []
        }
    ]
}