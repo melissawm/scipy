{
    "nbformat": 4,
    "nbformat_minor": 5,
    "metadata": {
        "kernelspec": {
            "display_name": "Python",
            "language": "python",
            "name": "python"
        },
        "language_info": {
            "name": "python"
        }
    },
    "cells": [
        {
            "id": "b73647e2",
            "cell_type": "markdown",
            "source": "<div class='alert alert-warning'>\n\nSciPy's interactive examples with Jupyterlite are experimental and may not always work as expected. Execution of cells containing imports may result in large downloads (up to 60MB of content for the first import from SciPy). Load times when importing from SciPy may take roughly 10-20 seconds. If you notice any problems, feel free to open an [issue](https://github.com/scipy/scipy/issues/new/choose).\n\n</div>",
            "metadata": {}
        },
        {
            "id": "fa20d41e",
            "cell_type": "code",
            "metadata": {},
            "execution_count": null,
            "source": "import numpy as np\nfrom scipy.stats import boltzmann\nimport matplotlib.pyplot as plt\nfig, ax = plt.subplots(1, 1)",
            "outputs": []
        },
        {
            "id": "f7cb8ad2",
            "cell_type": "markdown",
            "source": "Calculate the first four moments:\n",
            "metadata": {}
        },
        {
            "id": "74e0d533",
            "cell_type": "code",
            "metadata": {},
            "execution_count": null,
            "source": "lambda_, N = 1.4, 19\nmean, var, skew, kurt = boltzmann.stats(lambda_, N, moments='mvsk')",
            "outputs": []
        },
        {
            "id": "1ffdcfbc",
            "cell_type": "markdown",
            "source": "Display the probability mass function (``pmf``):\n",
            "metadata": {}
        },
        {
            "id": "611c7051",
            "cell_type": "code",
            "metadata": {},
            "execution_count": null,
            "source": "x = np.arange(boltzmann.ppf(0.01, lambda_, N),\n              boltzmann.ppf(0.99, lambda_, N))\nax.plot(x, boltzmann.pmf(x, lambda_, N), 'bo', ms=8, label='boltzmann pmf')\nax.vlines(x, 0, boltzmann.pmf(x, lambda_, N), colors='b', lw=5, alpha=0.5)",
            "outputs": []
        },
        {
            "id": "a59a137c",
            "cell_type": "markdown",
            "source": "Alternatively, the distribution object can be called (as a function)\nto fix the shape and location. This returns a \"frozen\" RV object holding\nthe given parameters fixed.\n\nFreeze the distribution and display the frozen ``pmf``:\n",
            "metadata": {}
        },
        {
            "id": "6ac43ca6",
            "cell_type": "code",
            "metadata": {},
            "execution_count": null,
            "source": "rv = boltzmann(lambda_, N)\nax.vlines(x, 0, rv.pmf(x), colors='k', linestyles='-', lw=1,\n        label='frozen pmf')\nax.legend(loc='best', frameon=False)\nplt.show()",
            "outputs": []
        },
        {
            "id": "6085e373",
            "cell_type": "markdown",
            "source": "Check accuracy of ``cdf`` and ``ppf``:\n",
            "metadata": {}
        },
        {
            "id": "5740ac08",
            "cell_type": "code",
            "metadata": {},
            "execution_count": null,
            "source": "prob = boltzmann.cdf(x, lambda_, N)\nnp.allclose(x, boltzmann.ppf(prob, lambda_, N))",
            "outputs": [
                {
                    "output_type": "execute_result",
                    "metadata": {},
                    "data": {
                        "text/plain": "True"
                    },
                    "execution_count": null
                }
            ]
        },
        {
            "id": "76585080",
            "cell_type": "markdown",
            "source": "Generate random numbers:\n",
            "metadata": {}
        },
        {
            "id": "bef96e53",
            "cell_type": "code",
            "metadata": {},
            "execution_count": null,
            "source": "r = boltzmann.rvs(lambda_, N, size=1000)",
            "outputs": []
        }
    ]
}