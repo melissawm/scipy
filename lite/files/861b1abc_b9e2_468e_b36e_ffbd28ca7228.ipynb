{
    "nbformat": 4,
    "nbformat_minor": 5,
    "metadata": {
        "kernelspec": {
            "display_name": "Python",
            "language": "python",
            "name": "python"
        },
        "language_info": {
            "name": "python"
        }
    },
    "cells": [
        {
            "id": "54082d45",
            "cell_type": "markdown",
            "source": "<div class='alert alert-warning'>\n\nSciPy's interactive examples with Jupyterlite are experimental and may not always work as expected. Execution of cells containing imports may result in large downloads (up to 60MB of content for the first import from SciPy). Load times when importing from SciPy may take roughly 10-20 seconds. If you notice any problems, feel free to open an [issue](https://github.com/scipy/scipy/issues/new/choose).\n\n</div>",
            "metadata": {}
        },
        {
            "id": "f1cf21b9",
            "cell_type": "code",
            "metadata": {},
            "execution_count": null,
            "source": "from scipy.constants import find, physical_constants",
            "outputs": []
        },
        {
            "id": "b7e6c27f",
            "cell_type": "markdown",
            "source": "Which keys in the ``physical_constants`` dictionary contain 'boltzmann'?\n",
            "metadata": {}
        },
        {
            "id": "9937a4dc",
            "cell_type": "code",
            "metadata": {},
            "execution_count": null,
            "source": "find('boltzmann')",
            "outputs": [
                {
                    "output_type": "execute_result",
                    "metadata": {},
                    "data": {
                        "text/plain": "['Boltzmann constant',\n 'Boltzmann constant in Hz/K',\n 'Boltzmann constant in eV/K',\n 'Boltzmann constant in inverse meter per kelvin',\n 'Stefan-Boltzmann constant']"
                    },
                    "execution_count": null
                }
            ]
        },
        {
            "id": "46ac55fe",
            "cell_type": "markdown",
            "source": "Get the constant called 'Boltzmann constant in Hz/K':\n",
            "metadata": {}
        },
        {
            "id": "56617f35",
            "cell_type": "code",
            "metadata": {},
            "execution_count": null,
            "source": "physical_constants['Boltzmann constant in Hz/K']",
            "outputs": [
                {
                    "output_type": "execute_result",
                    "metadata": {},
                    "data": {
                        "text/plain": "(20836619120.0, 'Hz K^-1', 0.0)"
                    },
                    "execution_count": null
                }
            ]
        },
        {
            "id": "9069a414",
            "cell_type": "markdown",
            "source": "Find constants with 'radius' in the key:\n",
            "metadata": {}
        },
        {
            "id": "b7a9c978",
            "cell_type": "code",
            "metadata": {},
            "execution_count": null,
            "source": "find('radius')",
            "outputs": [
                {
                    "output_type": "execute_result",
                    "metadata": {},
                    "data": {
                        "text/plain": "['Bohr radius',\n 'classical electron radius',\n 'deuteron rms charge radius',\n 'proton rms charge radius']"
                    },
                    "execution_count": null
                }
            ]
        },
        {
            "id": "83495efc",
            "cell_type": "code",
            "metadata": {},
            "execution_count": null,
            "source": "physical_constants['classical electron radius']",
            "outputs": [
                {
                    "output_type": "execute_result",
                    "metadata": {},
                    "data": {
                        "text/plain": "(2.8179403262e-15, 'm', 1.3e-24)"
                    },
                    "execution_count": null
                }
            ]
        }
    ]
}