{
    "nbformat": 4,
    "nbformat_minor": 5,
    "metadata": {
        "kernelspec": {
            "display_name": "Python",
            "language": "python",
            "name": "python"
        },
        "language_info": {
            "name": "python"
        }
    },
    "cells": [
        {
            "id": "92c447e7",
            "cell_type": "markdown",
            "source": "<div class='alert alert-warning'>\n\nSciPy's interactive examples with Jupyterlite are experimental and may not always work as expected. Execution of cells containing imports may result in large downloads (up to 60MB of content for the first import from SciPy). Load times when importing from SciPy may take roughly 10-20 seconds. If you notice any problems, feel free to open an [issue](https://github.com/scipy/scipy/issues/new/choose).\n\n</div>",
            "metadata": {}
        },
        {
            "id": "16598fd3",
            "cell_type": "code",
            "metadata": {},
            "execution_count": null,
            "source": "import numpy as np\nfrom scipy.stats import halfgennorm\nimport matplotlib.pyplot as plt\nfig, ax = plt.subplots(1, 1)",
            "outputs": []
        },
        {
            "id": "3a2bbbf7",
            "cell_type": "markdown",
            "source": "Calculate the first four moments:\n",
            "metadata": {}
        },
        {
            "id": "769895ed",
            "cell_type": "code",
            "metadata": {},
            "execution_count": null,
            "source": "beta = 0.675\nmean, var, skew, kurt = halfgennorm.stats(beta, moments='mvsk')",
            "outputs": []
        },
        {
            "id": "6ec8288e",
            "cell_type": "markdown",
            "source": "Display the probability density function (``pdf``):\n",
            "metadata": {}
        },
        {
            "id": "a4952691",
            "cell_type": "code",
            "metadata": {},
            "execution_count": null,
            "source": "x = np.linspace(halfgennorm.ppf(0.01, beta),\n                halfgennorm.ppf(0.99, beta), 100)\nax.plot(x, halfgennorm.pdf(x, beta),\n       'r-', lw=5, alpha=0.6, label='halfgennorm pdf')",
            "outputs": []
        },
        {
            "id": "e2b989b0",
            "cell_type": "markdown",
            "source": "Alternatively, the distribution object can be called (as a function)\nto fix the shape, location and scale parameters. This returns a \"frozen\"\nRV object holding the given parameters fixed.\n\nFreeze the distribution and display the frozen ``pdf``:\n",
            "metadata": {}
        },
        {
            "id": "e495f566",
            "cell_type": "code",
            "metadata": {},
            "execution_count": null,
            "source": "rv = halfgennorm(beta)\nax.plot(x, rv.pdf(x), 'k-', lw=2, label='frozen pdf')",
            "outputs": []
        },
        {
            "id": "36f3a9b7",
            "cell_type": "markdown",
            "source": "Check accuracy of ``cdf`` and ``ppf``:\n",
            "metadata": {}
        },
        {
            "id": "d4b9561a",
            "cell_type": "code",
            "metadata": {},
            "execution_count": null,
            "source": "vals = halfgennorm.ppf([0.001, 0.5, 0.999], beta)\nnp.allclose([0.001, 0.5, 0.999], halfgennorm.cdf(vals, beta))",
            "outputs": [
                {
                    "output_type": "execute_result",
                    "metadata": {},
                    "data": {
                        "text/plain": "True"
                    },
                    "execution_count": null
                }
            ]
        },
        {
            "id": "20372fa7",
            "cell_type": "markdown",
            "source": "Generate random numbers:\n",
            "metadata": {}
        },
        {
            "id": "9b3a849b",
            "cell_type": "code",
            "metadata": {},
            "execution_count": null,
            "source": "r = halfgennorm.rvs(beta, size=1000)",
            "outputs": []
        },
        {
            "id": "dd629276",
            "cell_type": "markdown",
            "source": "And compare the histogram:\n",
            "metadata": {}
        },
        {
            "id": "c4039720",
            "cell_type": "code",
            "metadata": {},
            "execution_count": null,
            "source": "ax.hist(r, density=True, bins='auto', histtype='stepfilled', alpha=0.2)\nax.set_xlim([x[0], x[-1]])\nax.legend(loc='best', frameon=False)\nplt.show()",
            "outputs": []
        }
    ]
}