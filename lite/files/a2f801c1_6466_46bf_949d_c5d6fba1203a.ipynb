{
    "nbformat": 4,
    "nbformat_minor": 5,
    "metadata": {
        "kernelspec": {
            "display_name": "Python",
            "language": "python",
            "name": "python"
        },
        "language_info": {
            "name": "python"
        }
    },
    "cells": [
        {
            "id": "a295dc02",
            "cell_type": "markdown",
            "source": "<div class='alert alert-warning'>\n\nSciPy's interactive examples with Jupyterlite are experimental and may not always work as expected. Execution of cells containing imports may result in large downloads (up to 60MB of content for the first import from SciPy). Load times when importing from SciPy may take roughly 10-20 seconds. If you notice any problems, feel free to open an [issue](https://github.com/scipy/scipy/issues/new/choose).\n\n</div>",
            "metadata": {}
        },
        {
            "id": "47dec86c",
            "cell_type": "code",
            "metadata": {},
            "execution_count": null,
            "source": "import numpy as np\nfrom scipy.special import eval_legendre",
            "outputs": []
        },
        {
            "id": "657c8811",
            "cell_type": "markdown",
            "source": "Evaluate the zero-order Legendre polynomial at x = 0\n",
            "metadata": {}
        },
        {
            "id": "d832b0ca",
            "cell_type": "code",
            "metadata": {},
            "execution_count": null,
            "source": "eval_legendre(0, 0)",
            "outputs": [
                {
                    "output_type": "execute_result",
                    "metadata": {},
                    "data": {
                        "text/plain": "1.0"
                    },
                    "execution_count": null
                }
            ]
        },
        {
            "id": "8f98606c",
            "cell_type": "markdown",
            "source": "Evaluate the first-order Legendre polynomial between -1 and 1\n",
            "metadata": {}
        },
        {
            "id": "03ede5ee",
            "cell_type": "code",
            "metadata": {},
            "execution_count": null,
            "source": "X = np.linspace(-1, 1, 5)  # Domain of Legendre polynomials\neval_legendre(1, X)",
            "outputs": [
                {
                    "output_type": "execute_result",
                    "metadata": {},
                    "data": {
                        "text/plain": "array([-1. , -0.5,  0. ,  0.5,  1. ])"
                    },
                    "execution_count": null
                }
            ]
        },
        {
            "id": "f80bb4c1",
            "cell_type": "markdown",
            "source": "Evaluate Legendre polynomials of order 0 through 4 at x = 0\n",
            "metadata": {}
        },
        {
            "id": "19641b33",
            "cell_type": "code",
            "metadata": {},
            "execution_count": null,
            "source": "N = range(0, 5)\neval_legendre(N, 0)",
            "outputs": [
                {
                    "output_type": "execute_result",
                    "metadata": {},
                    "data": {
                        "text/plain": "array([ 1.   ,  0.   , -0.5  ,  0.   ,  0.375])"
                    },
                    "execution_count": null
                }
            ]
        },
        {
            "id": "5f80d82d",
            "cell_type": "markdown",
            "source": "Plot Legendre polynomials of order 0 through 4\n",
            "metadata": {}
        },
        {
            "id": "d04ea8a7",
            "cell_type": "code",
            "metadata": {},
            "execution_count": null,
            "source": "X = np.linspace(-1, 1)",
            "outputs": []
        },
        {
            "id": "176b5f56",
            "cell_type": "code",
            "metadata": {},
            "execution_count": null,
            "source": "import matplotlib.pyplot as plt\nfor n in range(0, 5):\n    y = eval_legendre(n, X)\n    plt.plot(X, y, label=r'$P_{}(x)$'.format(n))",
            "outputs": []
        },
        {
            "id": "f4f5d67e",
            "cell_type": "code",
            "metadata": {},
            "execution_count": null,
            "source": "plt.title(\"Legendre Polynomials\")\nplt.xlabel(\"x\")\nplt.ylabel(r'$P_n(x)$')\nplt.legend(loc='lower right')\nplt.show()",
            "outputs": []
        }
    ]
}