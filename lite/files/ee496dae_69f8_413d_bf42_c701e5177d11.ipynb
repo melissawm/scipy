{
    "nbformat": 4,
    "nbformat_minor": 5,
    "metadata": {
        "kernelspec": {
            "display_name": "Python",
            "language": "python",
            "name": "python"
        },
        "language_info": {
            "name": "python"
        }
    },
    "cells": [
        {
            "id": "b365de53",
            "cell_type": "markdown",
            "source": "<div class='alert alert-warning'>\n\nSciPy's interactive examples with Jupyterlite are experimental and may not always work as expected. Execution of cells containing imports may result in large downloads (up to 60MB of content for the first import from SciPy). Load times when importing from SciPy may take roughly 10-20 seconds. If you notice any problems, feel free to open an [issue](https://github.com/scipy/scipy/issues/new/choose).\n\n</div>",
            "metadata": {}
        },
        {
            "id": "c81a4265",
            "cell_type": "markdown",
            "source": "Consider the problem of minimizing the following function.\n",
            "metadata": {}
        },
        {
            "id": "2931e84a",
            "cell_type": "code",
            "metadata": {},
            "execution_count": null,
            "source": "def f(x):\n    return (x - 2) * x * (x + 2)**2",
            "outputs": []
        },
        {
            "id": "5b914613",
            "cell_type": "markdown",
            "source": "Using the *Brent* method, we find the local minimum as:\n",
            "metadata": {}
        },
        {
            "id": "62283119",
            "cell_type": "code",
            "metadata": {},
            "execution_count": null,
            "source": "from scipy.optimize import minimize_scalar\nres = minimize_scalar(f)\nres.fun",
            "outputs": [
                {
                    "output_type": "execute_result",
                    "metadata": {},
                    "data": {
                        "text/plain": "-9.9149495908"
                    },
                    "execution_count": null
                }
            ]
        },
        {
            "id": "cf6d0aa8",
            "cell_type": "markdown",
            "source": "The minimizer is:\n",
            "metadata": {}
        },
        {
            "id": "6423585a",
            "cell_type": "code",
            "metadata": {},
            "execution_count": null,
            "source": "res.x",
            "outputs": [
                {
                    "output_type": "execute_result",
                    "metadata": {},
                    "data": {
                        "text/plain": "1.28077640403"
                    },
                    "execution_count": null
                }
            ]
        },
        {
            "id": "3a9abd98",
            "cell_type": "markdown",
            "source": "Using the *Bounded* method, we find a local minimum with specified\nbounds as:\n",
            "metadata": {}
        },
        {
            "id": "4f086450",
            "cell_type": "code",
            "metadata": {},
            "execution_count": null,
            "source": "res = minimize_scalar(f, bounds=(-3, -1), method='bounded')\nres.fun  # minimum",
            "outputs": [
                {
                    "output_type": "execute_result",
                    "metadata": {},
                    "data": {
                        "text/plain": "3.28365179850e-13"
                    },
                    "execution_count": null
                }
            ]
        },
        {
            "id": "00d62416",
            "cell_type": "code",
            "metadata": {},
            "execution_count": null,
            "source": "res.x  # minimizer",
            "outputs": [
                {
                    "output_type": "execute_result",
                    "metadata": {},
                    "data": {
                        "text/plain": "-2.0000002026"
                    },
                    "execution_count": null
                }
            ]
        }
    ]
}