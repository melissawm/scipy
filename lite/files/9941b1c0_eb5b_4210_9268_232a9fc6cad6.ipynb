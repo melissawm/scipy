{
    "nbformat": 4,
    "nbformat_minor": 5,
    "metadata": {
        "kernelspec": {
            "display_name": "Python",
            "language": "python",
            "name": "python"
        },
        "language_info": {
            "name": "python"
        }
    },
    "cells": [
        {
            "id": "8cb87376",
            "cell_type": "markdown",
            "source": "<div class='alert alert-warning'>\n\nSciPy's interactive examples with Jupyterlite are experimental and may not always work as expected. Execution of cells containing imports may result in large downloads (up to 60MB of content for the first import from SciPy). Load times when importing from SciPy may take roughly 10-20 seconds. If you notice any problems, feel free to open an [issue](https://github.com/scipy/scipy/issues/new/choose).\n\n</div>",
            "metadata": {}
        },
        {
            "id": "57042c5c",
            "cell_type": "code",
            "metadata": {},
            "execution_count": null,
            "source": "from scipy.spatial.transform import Rotation as R\nimport numpy as np",
            "outputs": []
        },
        {
            "id": "a4fce099",
            "cell_type": "markdown",
            "source": "Davenport angles are a generalization of Euler angles, when we use the\ncanonical basis axes:\n",
            "metadata": {}
        },
        {
            "id": "6cf82c24",
            "cell_type": "code",
            "metadata": {},
            "execution_count": null,
            "source": "ex = [1, 0, 0]\ney = [0, 1, 0]\nez = [0, 0, 1]",
            "outputs": []
        },
        {
            "id": "b5623591",
            "cell_type": "markdown",
            "source": "Represent a single rotation:\n",
            "metadata": {}
        },
        {
            "id": "2dc30d70",
            "cell_type": "code",
            "metadata": {},
            "execution_count": null,
            "source": "r = R.from_rotvec([0, 0, np.pi/2])\nr.as_davenport([ez, ex, ey], 'extrinsic', degrees=True)",
            "outputs": [
                {
                    "output_type": "execute_result",
                    "metadata": {},
                    "data": {
                        "text/plain": "array([90.,  0.,  0.])"
                    },
                    "execution_count": null
                }
            ]
        },
        {
            "id": "e7c8e1bf",
            "cell_type": "code",
            "metadata": {},
            "execution_count": null,
            "source": "r.as_euler('zxy', degrees=True)",
            "outputs": [
                {
                    "output_type": "execute_result",
                    "metadata": {},
                    "data": {
                        "text/plain": "array([90.,  0.,  0.])"
                    },
                    "execution_count": null
                }
            ]
        },
        {
            "id": "726453b8",
            "cell_type": "code",
            "metadata": {},
            "execution_count": null,
            "source": "r.as_davenport([ez, ex, ey], 'extrinsic', degrees=True).shape",
            "outputs": [
                {
                    "output_type": "execute_result",
                    "metadata": {},
                    "data": {
                        "text/plain": "(3,)"
                    },
                    "execution_count": null
                }
            ]
        },
        {
            "id": "a8d6fdb4",
            "cell_type": "markdown",
            "source": "Represent a stack of single rotation:\n",
            "metadata": {}
        },
        {
            "id": "4f0bec6d",
            "cell_type": "code",
            "metadata": {},
            "execution_count": null,
            "source": "r = R.from_rotvec([[0, 0, np.pi/2]])\nr.as_davenport([ez, ex, ey], 'extrinsic', degrees=True)",
            "outputs": [
                {
                    "output_type": "execute_result",
                    "metadata": {},
                    "data": {
                        "text/plain": "array([[90.,  0.,  0.]])"
                    },
                    "execution_count": null
                }
            ]
        },
        {
            "id": "ace6b8cd",
            "cell_type": "code",
            "metadata": {},
            "execution_count": null,
            "source": "r.as_davenport([ez, ex, ey], 'extrinsic', degrees=True).shape",
            "outputs": [
                {
                    "output_type": "execute_result",
                    "metadata": {},
                    "data": {
                        "text/plain": "(1, 3)"
                    },
                    "execution_count": null
                }
            ]
        },
        {
            "id": "2ee3e31c",
            "cell_type": "markdown",
            "source": "Represent multiple rotations in a single object:\n",
            "metadata": {}
        },
        {
            "id": "ba7c3c38",
            "cell_type": "code",
            "metadata": {},
            "execution_count": null,
            "source": "r = R.from_rotvec([\n[0, 0, 90],\n[45, 0, 0]], degrees=True)\nr.as_davenport([ez, ex, ey], 'extrinsic', degrees=True)",
            "outputs": [
                {
                    "output_type": "execute_result",
                    "metadata": {},
                    "data": {
                        "text/plain": "array([[90.,  0.,  0.],\n       [ 0., 45.,  0.]])"
                    },
                    "execution_count": null
                }
            ]
        },
        {
            "id": "51a6cb1b",
            "cell_type": "code",
            "metadata": {},
            "execution_count": null,
            "source": "r.as_davenport([ez, ex, ey], 'extrinsic', degrees=True).shape",
            "outputs": [
                {
                    "output_type": "execute_result",
                    "metadata": {},
                    "data": {
                        "text/plain": "(2, 3)"
                    },
                    "execution_count": null
                }
            ]
        }
    ]
}