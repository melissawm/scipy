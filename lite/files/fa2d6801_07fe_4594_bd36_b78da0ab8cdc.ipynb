{
    "nbformat": 4,
    "nbformat_minor": 5,
    "metadata": {
        "kernelspec": {
            "display_name": "Python",
            "language": "python",
            "name": "python"
        },
        "language_info": {
            "name": "python"
        }
    },
    "cells": [
        {
            "id": "084a43c7",
            "cell_type": "markdown",
            "source": "<div class='alert alert-warning'>\n\nSciPy's interactive examples with Jupyterlite are experimental and may not always work as expected. Execution of cells containing imports may result in large downloads (up to 60MB of content for the first import from SciPy). Load times when importing from SciPy may take roughly 10-20 seconds. If you notice any problems, feel free to open an [issue](https://github.com/scipy/scipy/issues/new/choose).\n\n</div>",
            "metadata": {}
        },
        {
            "id": "6eb0f28a",
            "cell_type": "code",
            "metadata": {},
            "execution_count": null,
            "source": "from scipy.spatial.transform import Rotation as R\nimport numpy as np",
            "outputs": []
        },
        {
            "id": "fb429549",
            "cell_type": "markdown",
            "source": "Initialize a single rotation:\n",
            "metadata": {}
        },
        {
            "id": "303297b9",
            "cell_type": "code",
            "metadata": {},
            "execution_count": null,
            "source": "r = R.from_rotvec(np.pi/2 * np.array([0, 0, 1]))\nr.as_rotvec()",
            "outputs": [
                {
                    "output_type": "execute_result",
                    "metadata": {},
                    "data": {
                        "text/plain": "array([0.        , 0.        , 1.57079633])"
                    },
                    "execution_count": null
                }
            ]
        },
        {
            "id": "9ffc1aa1",
            "cell_type": "code",
            "metadata": {},
            "execution_count": null,
            "source": "r.as_rotvec().shape",
            "outputs": [
                {
                    "output_type": "execute_result",
                    "metadata": {},
                    "data": {
                        "text/plain": "(3,)"
                    },
                    "execution_count": null
                }
            ]
        },
        {
            "id": "5a48902b",
            "cell_type": "markdown",
            "source": "Initialize a rotation in degrees, and view it in degrees:\n",
            "metadata": {}
        },
        {
            "id": "29ce54b0",
            "cell_type": "code",
            "metadata": {},
            "execution_count": null,
            "source": "r = R.from_rotvec(45 * np.array([0, 1, 0]), degrees=True)\nr.as_rotvec(degrees=True)",
            "outputs": [
                {
                    "output_type": "execute_result",
                    "metadata": {},
                    "data": {
                        "text/plain": "array([ 0., 45.,  0.])"
                    },
                    "execution_count": null
                }
            ]
        },
        {
            "id": "d8fb9a93",
            "cell_type": "markdown",
            "source": "Initialize multiple rotations in one object:\n",
            "metadata": {}
        },
        {
            "id": "a7cf1cd4",
            "cell_type": "code",
            "metadata": {},
            "execution_count": null,
            "source": "r = R.from_rotvec([\n[0, 0, np.pi/2],\n[np.pi/2, 0, 0]])\nr.as_rotvec()",
            "outputs": [
                {
                    "output_type": "execute_result",
                    "metadata": {},
                    "data": {
                        "text/plain": "array([[0.        , 0.        , 1.57079633],\n       [1.57079633, 0.        , 0.        ]])"
                    },
                    "execution_count": null
                }
            ]
        },
        {
            "id": "894ba685",
            "cell_type": "code",
            "metadata": {},
            "execution_count": null,
            "source": "r.as_rotvec().shape",
            "outputs": [
                {
                    "output_type": "execute_result",
                    "metadata": {},
                    "data": {
                        "text/plain": "(2, 3)"
                    },
                    "execution_count": null
                }
            ]
        },
        {
            "id": "5609a0b4",
            "cell_type": "markdown",
            "source": "It is also possible to have a stack of a single rotaton:\n",
            "metadata": {}
        },
        {
            "id": "a1a1e08f",
            "cell_type": "code",
            "metadata": {},
            "execution_count": null,
            "source": "r = R.from_rotvec([[0, 0, np.pi/2]])\nr.as_rotvec().shape",
            "outputs": [
                {
                    "output_type": "execute_result",
                    "metadata": {},
                    "data": {
                        "text/plain": "(1, 3)"
                    },
                    "execution_count": null
                }
            ]
        }
    ]
}