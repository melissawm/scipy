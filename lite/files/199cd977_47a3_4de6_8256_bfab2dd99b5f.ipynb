{
    "nbformat": 4,
    "nbformat_minor": 5,
    "metadata": {
        "kernelspec": {
            "display_name": "Python",
            "language": "python",
            "name": "python"
        },
        "language_info": {
            "name": "python"
        }
    },
    "cells": [
        {
            "id": "bd03a0ea",
            "cell_type": "markdown",
            "source": "<div class='alert alert-warning'>\n\nSciPy's interactive examples with Jupyterlite are experimental and may not always work as expected. Execution of cells containing imports may result in large downloads (up to 60MB of content for the first import from SciPy). Load times when importing from SciPy may take roughly 10-20 seconds. If you notice any problems, feel free to open an [issue](https://github.com/scipy/scipy/issues/new/choose).\n\n</div>",
            "metadata": {}
        },
        {
            "id": "271f08a1",
            "cell_type": "code",
            "metadata": {},
            "execution_count": null,
            "source": "from scipy.sparse import csr_matrix\nfrom scipy.sparse.csgraph import johnson",
            "outputs": []
        },
        {
            "id": "4500fb87",
            "cell_type": "code",
            "metadata": {},
            "execution_count": null,
            "source": "graph = [\n[0, 1, 2, 0],\n[0, 0, 0, 1],\n[2, 0, 0, 3],\n[0, 0, 0, 0]\n]\ngraph = csr_matrix(graph)\nprint(graph)",
            "outputs": [
                {
                    "output_type": "execute_result",
                    "metadata": {},
                    "data": {
                        "text/plain": "  (np.int32(0), np.int32(1))        1\n  (np.int32(0), np.int32(2))        2\n  (np.int32(1), np.int32(3))        1\n  (np.int32(2), np.int32(0))        2\n  (np.int32(2), np.int32(3))        3"
                    },
                    "execution_count": null
                }
            ]
        },
        {
            "id": "7a78faf7",
            "cell_type": "code",
            "metadata": {},
            "execution_count": null,
            "source": "dist_matrix, predecessors = johnson(csgraph=graph, directed=False, indices=0, return_predecessors=True)\ndist_matrix",
            "outputs": [
                {
                    "output_type": "execute_result",
                    "metadata": {},
                    "data": {
                        "text/plain": "array([0., 1., 2., 2.])"
                    },
                    "execution_count": null
                }
            ]
        },
        {
            "id": "492d5ff2",
            "cell_type": "code",
            "metadata": {},
            "execution_count": null,
            "source": "predecessors",
            "outputs": [
                {
                    "output_type": "execute_result",
                    "metadata": {},
                    "data": {
                        "text/plain": "array([-9999,     0,     0,     1], dtype=int32)"
                    },
                    "execution_count": null
                }
            ]
        }
    ]
}