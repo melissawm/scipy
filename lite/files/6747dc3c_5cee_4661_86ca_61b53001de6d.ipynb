{
    "nbformat": 4,
    "nbformat_minor": 5,
    "metadata": {
        "kernelspec": {
            "display_name": "Python",
            "language": "python",
            "name": "python"
        },
        "language_info": {
            "name": "python"
        }
    },
    "cells": [
        {
            "id": "b7d1f1d8",
            "cell_type": "markdown",
            "source": "<div class='alert alert-warning'>\n\nSciPy's interactive examples with Jupyterlite are experimental and may not always work as expected. Execution of cells containing imports may result in large downloads (up to 60MB of content for the first import from SciPy). Load times when importing from SciPy may take roughly 10-20 seconds. If you notice any problems, feel free to open an [issue](https://github.com/scipy/scipy/issues/new/choose).\n\n</div>",
            "metadata": {}
        },
        {
            "id": "7f0e6a15",
            "cell_type": "code",
            "metadata": {},
            "execution_count": null,
            "source": "import scipy.special as sc",
            "outputs": []
        },
        {
            "id": "98c5d170",
            "cell_type": "markdown",
            "source": "It is the CDF of the gamma distribution, so it starts at 0 and\nmonotonically increases to 1.\n",
            "metadata": {}
        },
        {
            "id": "16f29a0b",
            "cell_type": "code",
            "metadata": {},
            "execution_count": null,
            "source": "sc.gammainc(0.5, [0, 1, 10, 100])",
            "outputs": [
                {
                    "output_type": "execute_result",
                    "metadata": {},
                    "data": {
                        "text/plain": "array([0.        , 0.84270079, 0.99999226, 1.        ])"
                    },
                    "execution_count": null
                }
            ]
        },
        {
            "id": "3926425b",
            "cell_type": "markdown",
            "source": "It is equal to one minus the upper incomplete gamma function.\n",
            "metadata": {}
        },
        {
            "id": "16476649",
            "cell_type": "code",
            "metadata": {},
            "execution_count": null,
            "source": "a, x = 0.5, 0.4\nsc.gammainc(a, x)",
            "outputs": [
                {
                    "output_type": "execute_result",
                    "metadata": {},
                    "data": {
                        "text/plain": "0.6289066304773024"
                    },
                    "execution_count": null
                }
            ]
        },
        {
            "id": "2e4cc2cd",
            "cell_type": "code",
            "metadata": {},
            "execution_count": null,
            "source": "1 - sc.gammaincc(a, x)",
            "outputs": [
                {
                    "output_type": "execute_result",
                    "metadata": {},
                    "data": {
                        "text/plain": "0.6289066304773024"
                    },
                    "execution_count": null
                }
            ]
        }
    ]
}