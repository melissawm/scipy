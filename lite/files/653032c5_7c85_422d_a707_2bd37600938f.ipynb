{
    "nbformat": 4,
    "nbformat_minor": 5,
    "metadata": {
        "kernelspec": {
            "display_name": "Python",
            "language": "python",
            "name": "python"
        },
        "language_info": {
            "name": "python"
        }
    },
    "cells": [
        {
            "id": "32bed095",
            "cell_type": "markdown",
            "source": "<div class='alert alert-warning'>\n\nSciPy's interactive examples with Jupyterlite are experimental and may not always work as expected. Execution of cells containing imports may result in large downloads (up to 60MB of content for the first import from SciPy). Load times when importing from SciPy may take roughly 10-20 seconds. If you notice any problems, feel free to open an [issue](https://github.com/scipy/scipy/issues/new/choose).\n\n</div>",
            "metadata": {}
        },
        {
            "id": "ecadc768",
            "cell_type": "code",
            "metadata": {},
            "execution_count": null,
            "source": "import scipy.special as sc",
            "outputs": []
        },
        {
            "id": "72e4892c",
            "cell_type": "markdown",
            "source": "It is the reciprocal of the gamma function.\n",
            "metadata": {}
        },
        {
            "id": "df4f9651",
            "cell_type": "code",
            "metadata": {},
            "execution_count": null,
            "source": "sc.rgamma([1, 2, 3, 4])",
            "outputs": [
                {
                    "output_type": "execute_result",
                    "metadata": {},
                    "data": {
                        "text/plain": "array([1.        , 1.        , 0.5       , 0.16666667])"
                    },
                    "execution_count": null
                }
            ]
        },
        {
            "id": "75c730d8",
            "cell_type": "code",
            "metadata": {},
            "execution_count": null,
            "source": "1 / sc.gamma([1, 2, 3, 4])",
            "outputs": [
                {
                    "output_type": "execute_result",
                    "metadata": {},
                    "data": {
                        "text/plain": "array([1.        , 1.        , 0.5       , 0.16666667])"
                    },
                    "execution_count": null
                }
            ]
        },
        {
            "id": "4c9818cf",
            "cell_type": "markdown",
            "source": "It is zero at nonpositive integers.\n",
            "metadata": {}
        },
        {
            "id": "8a54c22e",
            "cell_type": "code",
            "metadata": {},
            "execution_count": null,
            "source": "sc.rgamma([0, -1, -2, -3])",
            "outputs": [
                {
                    "output_type": "execute_result",
                    "metadata": {},
                    "data": {
                        "text/plain": "array([0., 0., 0., 0.])"
                    },
                    "execution_count": null
                }
            ]
        },
        {
            "id": "1ed40f68",
            "cell_type": "markdown",
            "source": "It rapidly underflows to zero along the positive real axis.\n",
            "metadata": {}
        },
        {
            "id": "976a39c2",
            "cell_type": "code",
            "metadata": {},
            "execution_count": null,
            "source": "sc.rgamma([10, 100, 179])",
            "outputs": [
                {
                    "output_type": "execute_result",
                    "metadata": {},
                    "data": {
                        "text/plain": "array([2.75573192e-006, 1.07151029e-156, 0.00000000e+000])"
                    },
                    "execution_count": null
                }
            ]
        }
    ]
}