{
    "nbformat": 4,
    "nbformat_minor": 5,
    "metadata": {
        "kernelspec": {
            "display_name": "Python",
            "language": "python",
            "name": "python"
        },
        "language_info": {
            "name": "python"
        }
    },
    "cells": [
        {
            "id": "4555e3f9",
            "cell_type": "markdown",
            "source": "<div class='alert alert-warning'>\n\nSciPy's interactive examples with Jupyterlite are experimental and may not always work as expected. Execution of cells containing imports may result in large downloads (up to 60MB of content for the first import from SciPy). Load times when importing from SciPy may take roughly 10-20 seconds. If you notice any problems, feel free to open an [issue](https://github.com/scipy/scipy/issues/new/choose).\n\n</div>",
            "metadata": {}
        },
        {
            "id": "8486058a",
            "cell_type": "code",
            "metadata": {},
            "execution_count": null,
            "source": "import numpy as np\nimport scipy.special as sc",
            "outputs": []
        },
        {
            "id": "e062a314",
            "cell_type": "markdown",
            "source": "It has two positive zeros.\n",
            "metadata": {}
        },
        {
            "id": "0f07023e",
            "cell_type": "code",
            "metadata": {},
            "execution_count": null,
            "source": "sc.gammaln([1, 2])",
            "outputs": [
                {
                    "output_type": "execute_result",
                    "metadata": {},
                    "data": {
                        "text/plain": "array([0., 0.])"
                    },
                    "execution_count": null
                }
            ]
        },
        {
            "id": "0a3d3190",
            "cell_type": "markdown",
            "source": "It has poles at nonpositive integers.\n",
            "metadata": {}
        },
        {
            "id": "c216f5dd",
            "cell_type": "code",
            "metadata": {},
            "execution_count": null,
            "source": "sc.gammaln([0, -1, -2, -3, -4])",
            "outputs": [
                {
                    "output_type": "execute_result",
                    "metadata": {},
                    "data": {
                        "text/plain": "array([inf, inf, inf, inf, inf])"
                    },
                    "execution_count": null
                }
            ]
        },
        {
            "id": "1244fa3d",
            "cell_type": "markdown",
            "source": "It asymptotically approaches ``x * log(x)`` (Stirling's formula).\n",
            "metadata": {}
        },
        {
            "id": "272f75cb",
            "cell_type": "code",
            "metadata": {},
            "execution_count": null,
            "source": "x = np.array([1e10, 1e20, 1e40, 1e80])\nsc.gammaln(x)",
            "outputs": [
                {
                    "output_type": "execute_result",
                    "metadata": {},
                    "data": {
                        "text/plain": "array([2.20258509e+11, 4.50517019e+21, 9.11034037e+41, 1.83206807e+82])"
                    },
                    "execution_count": null
                }
            ]
        },
        {
            "id": "09bc898d",
            "cell_type": "code",
            "metadata": {},
            "execution_count": null,
            "source": "x * np.log(x)",
            "outputs": [
                {
                    "output_type": "execute_result",
                    "metadata": {},
                    "data": {
                        "text/plain": "array([2.30258509e+11, 4.60517019e+21, 9.21034037e+41, 1.84206807e+82])"
                    },
                    "execution_count": null
                }
            ]
        }
    ]
}