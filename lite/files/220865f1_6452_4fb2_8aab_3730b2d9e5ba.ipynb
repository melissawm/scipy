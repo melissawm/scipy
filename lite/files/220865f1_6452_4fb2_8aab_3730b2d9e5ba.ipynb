{
    "nbformat": 4,
    "nbformat_minor": 5,
    "metadata": {
        "kernelspec": {
            "display_name": "Python",
            "language": "python",
            "name": "python"
        },
        "language_info": {
            "name": "python"
        }
    },
    "cells": [
        {
            "id": "cbd25644",
            "cell_type": "markdown",
            "source": "<div class='alert alert-warning'>\n\nSciPy's interactive examples with Jupyterlite are experimental and may not always work as expected. Execution of cells containing imports may result in large downloads (up to 60MB of content for the first import from SciPy). Load times when importing from SciPy may take roughly 10-20 seconds. If you notice any problems, feel free to open an [issue](https://github.com/scipy/scipy/issues/new/choose).\n\n</div>",
            "metadata": {}
        },
        {
            "id": "ac7a7d1f",
            "cell_type": "markdown",
            "source": "Consider the problem of minimizing the following function.\n",
            "metadata": {}
        },
        {
            "id": "44b3c8df",
            "cell_type": "code",
            "metadata": {},
            "execution_count": null,
            "source": "def f(x):\n    return (x - 2) * x * (x + 2)**2",
            "outputs": []
        },
        {
            "id": "96241da0",
            "cell_type": "markdown",
            "source": "Using the *Brent* method, we find the local minimum as:\n",
            "metadata": {}
        },
        {
            "id": "8ad369ba",
            "cell_type": "code",
            "metadata": {},
            "execution_count": null,
            "source": "from scipy.optimize import minimize_scalar\nres = minimize_scalar(f)\nres.fun",
            "outputs": [
                {
                    "output_type": "execute_result",
                    "metadata": {},
                    "data": {
                        "text/plain": "-9.9149495908"
                    },
                    "execution_count": null
                }
            ]
        },
        {
            "id": "90a960fa",
            "cell_type": "markdown",
            "source": "The minimizer is:\n",
            "metadata": {}
        },
        {
            "id": "0876c78b",
            "cell_type": "code",
            "metadata": {},
            "execution_count": null,
            "source": "res.x",
            "outputs": [
                {
                    "output_type": "execute_result",
                    "metadata": {},
                    "data": {
                        "text/plain": "1.28077640403"
                    },
                    "execution_count": null
                }
            ]
        },
        {
            "id": "1674587f",
            "cell_type": "markdown",
            "source": "Using the *Bounded* method, we find a local minimum with specified\nbounds as:\n",
            "metadata": {}
        },
        {
            "id": "fc215409",
            "cell_type": "code",
            "metadata": {},
            "execution_count": null,
            "source": "res = minimize_scalar(f, bounds=(-3, -1), method='bounded')\nres.fun  # minimum",
            "outputs": [
                {
                    "output_type": "execute_result",
                    "metadata": {},
                    "data": {
                        "text/plain": "3.28365179850e-13"
                    },
                    "execution_count": null
                }
            ]
        },
        {
            "id": "0e81ddb1",
            "cell_type": "code",
            "metadata": {},
            "execution_count": null,
            "source": "res.x  # minimizer",
            "outputs": [
                {
                    "output_type": "execute_result",
                    "metadata": {},
                    "data": {
                        "text/plain": "-2.0000002026"
                    },
                    "execution_count": null
                }
            ]
        }
    ]
}