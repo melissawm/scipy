{
    "nbformat": 4,
    "nbformat_minor": 5,
    "metadata": {
        "kernelspec": {
            "display_name": "Python",
            "language": "python",
            "name": "python"
        },
        "language_info": {
            "name": "python"
        }
    },
    "cells": [
        {
            "id": "10b53607",
            "cell_type": "markdown",
            "source": "<div class='alert alert-warning'>\n\nSciPy's interactive examples with Jupyterlite are experimental and may not always work as expected. Execution of cells containing imports may result in large downloads (up to 60MB of content for the first import from SciPy). Load times when importing from SciPy may take roughly 10-20 seconds. If you notice any problems, feel free to open an [issue](https://github.com/scipy/scipy/issues/new/choose).\n\n</div>",
            "metadata": {}
        },
        {
            "id": "97127f95",
            "cell_type": "code",
            "metadata": {},
            "execution_count": null,
            "source": "import numpy as np\nfrom scipy.stats import laplace_asymmetric\nimport matplotlib.pyplot as plt\nfig, ax = plt.subplots(1, 1)",
            "outputs": []
        },
        {
            "id": "99648dbb",
            "cell_type": "markdown",
            "source": "Calculate the first four moments:\n",
            "metadata": {}
        },
        {
            "id": "c68f4b44",
            "cell_type": "code",
            "metadata": {},
            "execution_count": null,
            "source": "kappa = 2\nmean, var, skew, kurt = laplace_asymmetric.stats(kappa, moments='mvsk')",
            "outputs": []
        },
        {
            "id": "09bffe90",
            "cell_type": "markdown",
            "source": "Display the probability density function (``pdf``):\n",
            "metadata": {}
        },
        {
            "id": "267c1342",
            "cell_type": "code",
            "metadata": {},
            "execution_count": null,
            "source": "x = np.linspace(laplace_asymmetric.ppf(0.01, kappa),\n                laplace_asymmetric.ppf(0.99, kappa), 100)\nax.plot(x, laplace_asymmetric.pdf(x, kappa),\n       'r-', lw=5, alpha=0.6, label='laplace_asymmetric pdf')",
            "outputs": []
        },
        {
            "id": "5648a890",
            "cell_type": "markdown",
            "source": "Alternatively, the distribution object can be called (as a function)\nto fix the shape, location and scale parameters. This returns a \"frozen\"\nRV object holding the given parameters fixed.\n\nFreeze the distribution and display the frozen ``pdf``:\n",
            "metadata": {}
        },
        {
            "id": "b186dc62",
            "cell_type": "code",
            "metadata": {},
            "execution_count": null,
            "source": "rv = laplace_asymmetric(kappa)\nax.plot(x, rv.pdf(x), 'k-', lw=2, label='frozen pdf')",
            "outputs": []
        },
        {
            "id": "9344eccc",
            "cell_type": "markdown",
            "source": "Check accuracy of ``cdf`` and ``ppf``:\n",
            "metadata": {}
        },
        {
            "id": "283a6d61",
            "cell_type": "code",
            "metadata": {},
            "execution_count": null,
            "source": "vals = laplace_asymmetric.ppf([0.001, 0.5, 0.999], kappa)\nnp.allclose([0.001, 0.5, 0.999], laplace_asymmetric.cdf(vals, kappa))",
            "outputs": [
                {
                    "output_type": "execute_result",
                    "metadata": {},
                    "data": {
                        "text/plain": "True"
                    },
                    "execution_count": null
                }
            ]
        },
        {
            "id": "1cf3bf67",
            "cell_type": "markdown",
            "source": "Generate random numbers:\n",
            "metadata": {}
        },
        {
            "id": "76725917",
            "cell_type": "code",
            "metadata": {},
            "execution_count": null,
            "source": "r = laplace_asymmetric.rvs(kappa, size=1000)",
            "outputs": []
        },
        {
            "id": "37e4560d",
            "cell_type": "markdown",
            "source": "And compare the histogram:\n",
            "metadata": {}
        },
        {
            "id": "509b09b0",
            "cell_type": "code",
            "metadata": {},
            "execution_count": null,
            "source": "ax.hist(r, density=True, bins='auto', histtype='stepfilled', alpha=0.2)\nax.set_xlim([x[0], x[-1]])\nax.legend(loc='best', frameon=False)\nplt.show()",
            "outputs": []
        }
    ]
}