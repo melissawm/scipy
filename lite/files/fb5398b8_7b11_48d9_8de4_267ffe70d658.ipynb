{
    "nbformat": 4,
    "nbformat_minor": 5,
    "metadata": {
        "kernelspec": {
            "display_name": "Python",
            "language": "python",
            "name": "python"
        },
        "language_info": {
            "name": "python"
        }
    },
    "cells": [
        {
            "id": "bd360a79",
            "cell_type": "markdown",
            "source": "<div class='alert alert-warning'>\n\nSciPy's interactive examples with Jupyterlite are experimental and may not always work as expected. Execution of cells containing imports may result in large downloads (up to 60MB of content for the first import from SciPy). Load times when importing from SciPy may take roughly 10-20 seconds. If you notice any problems, feel free to open an [issue](https://github.com/scipy/scipy/issues/new/choose).\n\n</div>",
            "metadata": {}
        },
        {
            "id": "212698ea",
            "cell_type": "markdown",
            "source": "Compute the function for ``k=10`` and ``n=5`` at ``p=0.5``.\n",
            "metadata": {}
        },
        {
            "id": "da025deb",
            "cell_type": "code",
            "metadata": {},
            "execution_count": null,
            "source": "import numpy as np\nfrom scipy.special import nbdtrc\nnbdtrc(10, 5, 0.5)",
            "outputs": [
                {
                    "output_type": "execute_result",
                    "metadata": {},
                    "data": {
                        "text/plain": "0.059234619140624986"
                    },
                    "execution_count": null
                }
            ]
        },
        {
            "id": "1aad333b",
            "cell_type": "markdown",
            "source": "Compute the function for ``n=10`` and ``p=0.5`` at several points by\nproviding a NumPy array or list for `k`.\n",
            "metadata": {}
        },
        {
            "id": "c67d5ba0",
            "cell_type": "code",
            "metadata": {},
            "execution_count": null,
            "source": "nbdtrc([5, 10, 15], 10, 0.5)",
            "outputs": [
                {
                    "output_type": "execute_result",
                    "metadata": {},
                    "data": {
                        "text/plain": "array([0.84912109, 0.41190147, 0.11476147])"
                    },
                    "execution_count": null
                }
            ]
        },
        {
            "id": "da483807",
            "cell_type": "markdown",
            "source": "Plot the function for four different parameter sets.\n",
            "metadata": {}
        },
        {
            "id": "b82e5f6f",
            "cell_type": "code",
            "metadata": {},
            "execution_count": null,
            "source": "import matplotlib.pyplot as plt\nk = np.arange(130)\nn_parameters = [20, 20, 20, 80]\np_parameters = [0.2, 0.5, 0.8, 0.5]\nlinestyles = ['solid', 'dashed', 'dotted', 'dashdot']\nparameters_list = list(zip(p_parameters, n_parameters,\n                           linestyles))\nfig, ax = plt.subplots(figsize=(8, 8))\nfor parameter_set in parameters_list:\n    p, n, style = parameter_set\n    nbdtrc_vals = nbdtrc(k, n, p)\n    ax.plot(k, nbdtrc_vals, label=rf\"$n={n},\\, p={p}$\",\n            ls=style)\nax.legend()\nax.set_xlabel(\"$k$\")\nax.set_title(\"Negative binomial distribution survival function\")\nplt.show()",
            "outputs": []
        },
        {
            "id": "0c62a368",
            "cell_type": "markdown",
            "source": "The negative binomial distribution is also available as\n`scipy.stats.nbinom`. Using `nbdtrc` directly can be much faster than\ncalling the ``sf`` method of `scipy.stats.nbinom`, especially for small\narrays or individual values. To get the same results one must use the\nfollowing parametrization: ``nbinom(n, p).sf(k)=nbdtrc(k, n, p)``.\n",
            "metadata": {}
        },
        {
            "id": "2b5f6433",
            "cell_type": "code",
            "metadata": {},
            "execution_count": null,
            "source": "from scipy.stats import nbinom\nk, n, p = 3, 5, 0.5\nnbdtr_res = nbdtrc(k, n, p)  # this will often be faster than below\nstats_res = nbinom(n, p).sf(k)\nstats_res, nbdtr_res  # test that results are equal",
            "outputs": [
                {
                    "output_type": "execute_result",
                    "metadata": {},
                    "data": {
                        "text/plain": "(0.6367187499999999, 0.6367187499999999)"
                    },
                    "execution_count": null
                }
            ]
        },
        {
            "id": "b6c17a0d",
            "cell_type": "markdown",
            "source": "`nbdtrc` can evaluate different parameter sets by providing arrays with\nshapes compatible for broadcasting for `k`, `n` and `p`. Here we compute\nthe function for three different `k` at four locations `p`, resulting in\na 3x4 array.\n",
            "metadata": {}
        },
        {
            "id": "26c5f589",
            "cell_type": "code",
            "metadata": {},
            "execution_count": null,
            "source": "k = np.array([[5], [10], [15]])\np = np.array([0.3, 0.5, 0.7, 0.9])\nk.shape, p.shape",
            "outputs": [
                {
                    "output_type": "execute_result",
                    "metadata": {},
                    "data": {
                        "text/plain": "((3, 1), (4,))"
                    },
                    "execution_count": null
                }
            ]
        },
        {
            "id": "cbc842fd",
            "cell_type": "code",
            "metadata": {},
            "execution_count": null,
            "source": "nbdtrc(k, 5, p)",
            "outputs": [
                {
                    "output_type": "execute_result",
                    "metadata": {},
                    "data": {
                        "text/plain": "array([[8.49731667e-01, 3.76953125e-01, 4.73489874e-02, 1.46902600e-04],\n       [5.15491059e-01, 5.92346191e-02, 6.72234070e-04, 9.29610100e-09],\n       [2.37507779e-01, 5.90896606e-03, 5.55025308e-06, 3.26346760e-13]])"
                    },
                    "execution_count": null
                }
            ]
        }
    ]
}