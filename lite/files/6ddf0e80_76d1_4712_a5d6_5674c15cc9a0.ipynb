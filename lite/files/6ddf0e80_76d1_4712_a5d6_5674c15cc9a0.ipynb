{
    "nbformat": 4,
    "nbformat_minor": 5,
    "metadata": {
        "kernelspec": {
            "display_name": "Python",
            "language": "python",
            "name": "python"
        },
        "language_info": {
            "name": "python"
        }
    },
    "cells": [
        {
            "id": "575af85b",
            "cell_type": "markdown",
            "source": "<div class='alert alert-warning'>\n\nSciPy's interactive examples with Jupyterlite are experimental and may not always work as expected. Execution of cells containing imports may result in large downloads (up to 60MB of content for the first import from SciPy). Load times when importing from SciPy may take roughly 10-20 seconds. If you notice any problems, feel free to open an [issue](https://github.com/scipy/scipy/issues/new/choose).\n\n</div>",
            "metadata": {}
        },
        {
            "id": "8459a3eb",
            "cell_type": "code",
            "metadata": {},
            "execution_count": null,
            "source": "import numpy as np\nfrom scipy.stats import nct\nimport matplotlib.pyplot as plt\nfig, ax = plt.subplots(1, 1)",
            "outputs": []
        },
        {
            "id": "467ab996",
            "cell_type": "markdown",
            "source": "Calculate the first four moments:\n",
            "metadata": {}
        },
        {
            "id": "685bc93d",
            "cell_type": "code",
            "metadata": {},
            "execution_count": null,
            "source": "df, nc = 14, 0.24\nmean, var, skew, kurt = nct.stats(df, nc, moments='mvsk')",
            "outputs": []
        },
        {
            "id": "8ef71310",
            "cell_type": "markdown",
            "source": "Display the probability density function (``pdf``):\n",
            "metadata": {}
        },
        {
            "id": "429b292e",
            "cell_type": "code",
            "metadata": {},
            "execution_count": null,
            "source": "x = np.linspace(nct.ppf(0.01, df, nc),\n                nct.ppf(0.99, df, nc), 100)\nax.plot(x, nct.pdf(x, df, nc),\n       'r-', lw=5, alpha=0.6, label='nct pdf')",
            "outputs": []
        },
        {
            "id": "87e91977",
            "cell_type": "markdown",
            "source": "Alternatively, the distribution object can be called (as a function)\nto fix the shape, location and scale parameters. This returns a \"frozen\"\nRV object holding the given parameters fixed.\n\nFreeze the distribution and display the frozen ``pdf``:\n",
            "metadata": {}
        },
        {
            "id": "7d879019",
            "cell_type": "code",
            "metadata": {},
            "execution_count": null,
            "source": "rv = nct(df, nc)\nax.plot(x, rv.pdf(x), 'k-', lw=2, label='frozen pdf')",
            "outputs": []
        },
        {
            "id": "b8691d55",
            "cell_type": "markdown",
            "source": "Check accuracy of ``cdf`` and ``ppf``:\n",
            "metadata": {}
        },
        {
            "id": "2021bd55",
            "cell_type": "code",
            "metadata": {},
            "execution_count": null,
            "source": "vals = nct.ppf([0.001, 0.5, 0.999], df, nc)\nnp.allclose([0.001, 0.5, 0.999], nct.cdf(vals, df, nc))",
            "outputs": [
                {
                    "output_type": "execute_result",
                    "metadata": {},
                    "data": {
                        "text/plain": "True"
                    },
                    "execution_count": null
                }
            ]
        },
        {
            "id": "54ac2024",
            "cell_type": "markdown",
            "source": "Generate random numbers:\n",
            "metadata": {}
        },
        {
            "id": "a84011b5",
            "cell_type": "code",
            "metadata": {},
            "execution_count": null,
            "source": "r = nct.rvs(df, nc, size=1000)",
            "outputs": []
        },
        {
            "id": "991b9a5a",
            "cell_type": "markdown",
            "source": "And compare the histogram:\n",
            "metadata": {}
        },
        {
            "id": "8aa2ffe6",
            "cell_type": "code",
            "metadata": {},
            "execution_count": null,
            "source": "ax.hist(r, density=True, bins='auto', histtype='stepfilled', alpha=0.2)\nax.set_xlim([x[0], x[-1]])\nax.legend(loc='best', frameon=False)\nplt.show()",
            "outputs": []
        }
    ]
}