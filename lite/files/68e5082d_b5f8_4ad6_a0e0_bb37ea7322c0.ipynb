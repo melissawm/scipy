{
    "nbformat": 4,
    "nbformat_minor": 5,
    "metadata": {
        "kernelspec": {
            "display_name": "Python",
            "language": "python",
            "name": "python"
        },
        "language_info": {
            "name": "python"
        }
    },
    "cells": [
        {
            "id": "846e657b",
            "cell_type": "markdown",
            "source": "<div class='alert alert-warning'>\n\nSciPy's interactive examples with Jupyterlite are experimental and may not always work as expected. Execution of cells containing imports may result in large downloads (up to 60MB of content for the first import from SciPy). Load times when importing from SciPy may take roughly 10-20 seconds. If you notice any problems, feel free to open an [issue](https://github.com/scipy/scipy/issues/new/choose).\n\n</div>",
            "metadata": {}
        },
        {
            "id": "f926711c",
            "cell_type": "code",
            "metadata": {},
            "execution_count": null,
            "source": "from scipy.stats.sampling import NumericalInversePolynomial\nfrom scipy.stats import norm\nimport numpy as np",
            "outputs": []
        },
        {
            "id": "f4bdf13f",
            "cell_type": "markdown",
            "source": "To create a generator to sample from the standard normal distribution, do:\n",
            "metadata": {}
        },
        {
            "id": "c0b4442e",
            "cell_type": "code",
            "metadata": {},
            "execution_count": null,
            "source": "class StandardNormal:\n   def pdf(self, x):\n       return np.exp(-0.5 * x*x)\n\ndist = StandardNormal()\nurng = np.random.default_rng()\nrng = NumericalInversePolynomial(dist, random_state=urng)",
            "outputs": []
        },
        {
            "id": "6eca1ff4",
            "cell_type": "markdown",
            "source": "Once a generator is created, samples can be drawn from the distribution by calling\nthe `rvs` method:\n",
            "metadata": {}
        },
        {
            "id": "ba7b5b37",
            "cell_type": "code",
            "metadata": {},
            "execution_count": null,
            "source": "rng.rvs()",
            "outputs": [
                {
                    "output_type": "execute_result",
                    "metadata": {},
                    "data": {
                        "text/plain": "-1.5244996276336318"
                    },
                    "execution_count": null
                }
            ]
        },
        {
            "id": "ba007863",
            "cell_type": "markdown",
            "source": "To check that the random variates closely follow the given distribution, we can\nlook at it's histogram:\n",
            "metadata": {}
        },
        {
            "id": "17a8ece7",
            "cell_type": "code",
            "metadata": {},
            "execution_count": null,
            "source": "import matplotlib.pyplot as plt\nrvs = rng.rvs(10000)\nx = np.linspace(rvs.min()-0.1, rvs.max()+0.1, 1000)\nfx = norm.pdf(x)\nplt.plot(x, fx, 'r-', lw=2, label='true distribution')\nplt.hist(rvs, bins=20, density=True, alpha=0.8, label='random variates')\nplt.xlabel('x')\nplt.ylabel('PDF(x)')\nplt.title('Numerical Inverse Polynomial Samples')\nplt.legend()\nplt.show()",
            "outputs": []
        },
        {
            "id": "ab512977",
            "cell_type": "markdown",
            "source": "It is possible to estimate the u-error of the approximated PPF if the exact\nCDF is available during setup. To do so, pass a `dist` object with exact CDF of\nthe distribution during initialization:\n",
            "metadata": {}
        },
        {
            "id": "b70f12b4",
            "cell_type": "code",
            "metadata": {},
            "execution_count": null,
            "source": "from scipy.special import ndtr\nclass StandardNormal:\n   def pdf(self, x):\n       return np.exp(-0.5 * x*x)\n   def cdf(self, x):\n       return ndtr(x)\n\ndist = StandardNormal()\nurng = np.random.default_rng()\nrng = NumericalInversePolynomial(dist, random_state=urng)",
            "outputs": []
        },
        {
            "id": "74d79bbd",
            "cell_type": "markdown",
            "source": "Now, the u-error can be estimated by calling the `u_error` method. It runs a\nMonte-Carlo simulation to estimate the u-error. By default, 100000 samples are\nused. To change this, you can pass the number of samples as an argument:\n",
            "metadata": {}
        },
        {
            "id": "e23788ac",
            "cell_type": "code",
            "metadata": {},
            "execution_count": null,
            "source": "rng.u_error(sample_size=1000000)  # uses one million samples",
            "outputs": [
                {
                    "output_type": "execute_result",
                    "metadata": {},
                    "data": {
                        "text/plain": "UError(max_error=8.785994154436594e-11, mean_absolute_error=2.930890027826552e-11)"
                    },
                    "execution_count": null
                }
            ]
        },
        {
            "id": "30432286",
            "cell_type": "markdown",
            "source": "This returns a namedtuple which contains the maximum u-error and the mean\nabsolute u-error.\n\nThe u-error can be reduced by decreasing the u-resolution (maximum allowed u-error):\n",
            "metadata": {}
        },
        {
            "id": "0bc7977f",
            "cell_type": "code",
            "metadata": {},
            "execution_count": null,
            "source": "urng = np.random.default_rng()\nrng = NumericalInversePolynomial(dist, u_resolution=1.e-12, random_state=urng)\nrng.u_error(sample_size=1000000)",
            "outputs": [
                {
                    "output_type": "execute_result",
                    "metadata": {},
                    "data": {
                        "text/plain": "UError(max_error=9.07496300328603e-13, mean_absolute_error=3.5255644517257716e-13)"
                    },
                    "execution_count": null
                }
            ]
        },
        {
            "id": "4a0fa201",
            "cell_type": "markdown",
            "source": "Note that this comes at the cost of increased setup time.\n\nThe approximated PPF can be evaluated by calling the `ppf` method:\n",
            "metadata": {}
        },
        {
            "id": "9977a810",
            "cell_type": "code",
            "metadata": {},
            "execution_count": null,
            "source": "rng.ppf(0.975)",
            "outputs": [
                {
                    "output_type": "execute_result",
                    "metadata": {},
                    "data": {
                        "text/plain": "1.9599639857012559"
                    },
                    "execution_count": null
                }
            ]
        },
        {
            "id": "27f8719c",
            "cell_type": "code",
            "metadata": {},
            "execution_count": null,
            "source": "norm.ppf(0.975)",
            "outputs": [
                {
                    "output_type": "execute_result",
                    "metadata": {},
                    "data": {
                        "text/plain": "1.959963984540054"
                    },
                    "execution_count": null
                }
            ]
        },
        {
            "id": "2f36ef0c",
            "cell_type": "markdown",
            "source": "Since the PPF of the normal distribution is available as a special function, we\ncan also check the x-error, i.e. the difference between the approximated PPF and\nexact PPF\n```\n\n```",
            "metadata": {}
        },
        {
            "id": "9a578ed9",
            "cell_type": "code",
            "metadata": {},
            "execution_count": null,
            "source": "import matplotlib.pyplot as plt\nu = np.linspace(0.01, 0.99, 1000)\napproxppf = rng.ppf(u)\nexactppf = norm.ppf(u)\nerror = np.abs(exactppf - approxppf)\nplt.plot(u, error)\nplt.xlabel('u')\nplt.ylabel('error')\nplt.title('Error between exact and approximated PPF (x-error)')\nplt.show()",
            "outputs": []
        }
    ]
}