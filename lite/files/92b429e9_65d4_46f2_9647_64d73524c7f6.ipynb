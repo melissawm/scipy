{
    "nbformat": 4,
    "nbformat_minor": 5,
    "metadata": {
        "kernelspec": {
            "display_name": "Python",
            "language": "python",
            "name": "python"
        },
        "language_info": {
            "name": "python"
        }
    },
    "cells": [
        {
            "id": "3a8eeade",
            "cell_type": "markdown",
            "source": "<div class='alert alert-warning'>\n\nSciPy's interactive examples with Jupyterlite are experimental and may not always work as expected. Execution of cells containing imports may result in large downloads (up to 60MB of content for the first import from SciPy). Load times when importing from SciPy may take roughly 10-20 seconds. If you notice any problems, feel free to open an [issue](https://github.com/scipy/scipy/issues/new/choose).\n\n</div>",
            "metadata": {}
        },
        {
            "id": "181a66c7",
            "cell_type": "code",
            "metadata": {},
            "execution_count": null,
            "source": "import numpy as np\nfrom scipy.spatial import KDTree\nx, y = np.mgrid[0:5, 2:8]\ntree = KDTree(np.c_[x.ravel(), y.ravel()])",
            "outputs": []
        },
        {
            "id": "318c6f0a",
            "cell_type": "markdown",
            "source": "To query the nearest neighbours and return squeezed result, use\n",
            "metadata": {}
        },
        {
            "id": "bcaeff8d",
            "cell_type": "code",
            "metadata": {},
            "execution_count": null,
            "source": "dd, ii = tree.query([[0, 0], [2.2, 2.9]], k=1)\nprint(dd, ii, sep='\\n')",
            "outputs": [
                {
                    "output_type": "execute_result",
                    "metadata": {},
                    "data": {
                        "text/plain": "[2.         0.2236068]\n[ 0 13]"
                    },
                    "execution_count": null
                }
            ]
        },
        {
            "id": "34aa5787",
            "cell_type": "markdown",
            "source": "To query the nearest neighbours and return unsqueezed result, use\n",
            "metadata": {}
        },
        {
            "id": "af456ed8",
            "cell_type": "code",
            "metadata": {},
            "execution_count": null,
            "source": "dd, ii = tree.query([[0, 0], [2.2, 2.9]], k=[1])\nprint(dd, ii, sep='\\n')",
            "outputs": [
                {
                    "output_type": "execute_result",
                    "metadata": {},
                    "data": {
                        "text/plain": "[[2.        ]\n [0.2236068]]\n[[ 0]\n [13]]"
                    },
                    "execution_count": null
                }
            ]
        },
        {
            "id": "55237f6e",
            "cell_type": "markdown",
            "source": "To query the second nearest neighbours and return unsqueezed result,\nuse\n",
            "metadata": {}
        },
        {
            "id": "9d6b36b9",
            "cell_type": "code",
            "metadata": {},
            "execution_count": null,
            "source": "dd, ii = tree.query([[0, 0], [2.2, 2.9]], k=[2])\nprint(dd, ii, sep='\\n')",
            "outputs": [
                {
                    "output_type": "execute_result",
                    "metadata": {},
                    "data": {
                        "text/plain": "[[2.23606798]\n [0.80622577]]\n[[ 6]\n [19]]"
                    },
                    "execution_count": null
                }
            ]
        },
        {
            "id": "3fd95727",
            "cell_type": "markdown",
            "source": "To query the first and second nearest neighbours, use\n",
            "metadata": {}
        },
        {
            "id": "b45b8ddd",
            "cell_type": "code",
            "metadata": {},
            "execution_count": null,
            "source": "dd, ii = tree.query([[0, 0], [2.2, 2.9]], k=2)\nprint(dd, ii, sep='\\n')",
            "outputs": [
                {
                    "output_type": "execute_result",
                    "metadata": {},
                    "data": {
                        "text/plain": "[[2.         2.23606798]\n [0.2236068  0.80622577]]\n[[ 0  6]\n [13 19]]"
                    },
                    "execution_count": null
                }
            ]
        },
        {
            "id": "819f7bfb",
            "cell_type": "markdown",
            "source": "or, be more specific\n",
            "metadata": {}
        },
        {
            "id": "cc2752be",
            "cell_type": "code",
            "metadata": {},
            "execution_count": null,
            "source": "dd, ii = tree.query([[0, 0], [2.2, 2.9]], k=[1, 2])\nprint(dd, ii, sep='\\n')",
            "outputs": [
                {
                    "output_type": "execute_result",
                    "metadata": {},
                    "data": {
                        "text/plain": "[[2.         2.23606798]\n [0.2236068  0.80622577]]\n[[ 0  6]\n [13 19]]"
                    },
                    "execution_count": null
                }
            ]
        }
    ]
}