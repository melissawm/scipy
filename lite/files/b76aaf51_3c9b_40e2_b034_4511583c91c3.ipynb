{
    "nbformat": 4,
    "nbformat_minor": 5,
    "metadata": {
        "kernelspec": {
            "display_name": "Python",
            "language": "python",
            "name": "python"
        },
        "language_info": {
            "name": "python"
        }
    },
    "cells": [
        {
            "id": "6c87b2e9",
            "cell_type": "markdown",
            "source": "<div class='alert alert-warning'>\n\nSciPy's interactive examples with Jupyterlite are experimental and may not always work as expected. Execution of cells containing imports may result in large downloads (up to 60MB of content for the first import from SciPy). Load times when importing from SciPy may take roughly 10-20 seconds. If you notice any problems, feel free to open an [issue](https://github.com/scipy/scipy/issues/new/choose).\n\n</div>",
            "metadata": {}
        },
        {
            "id": "3f169e84",
            "cell_type": "code",
            "metadata": {},
            "execution_count": null,
            "source": "import numpy as np\nfrom scipy.stats import nchypergeom_wallenius\nimport matplotlib.pyplot as plt\nfig, ax = plt.subplots(1, 1)",
            "outputs": []
        },
        {
            "id": "393c06bb",
            "cell_type": "markdown",
            "source": "Calculate the first four moments:\n",
            "metadata": {}
        },
        {
            "id": "cdcbeac3",
            "cell_type": "code",
            "metadata": {},
            "execution_count": null,
            "source": "M, n, N, odds = 140, 80, 60, 0.5\nmean, var, skew, kurt = nchypergeom_wallenius.stats(M, n, N, odds, moments='mvsk')",
            "outputs": []
        },
        {
            "id": "91a52c05",
            "cell_type": "markdown",
            "source": "Display the probability mass function (``pmf``):\n",
            "metadata": {}
        },
        {
            "id": "cf61389f",
            "cell_type": "code",
            "metadata": {},
            "execution_count": null,
            "source": "x = np.arange(nchypergeom_wallenius.ppf(0.01, M, n, N, odds),\n              nchypergeom_wallenius.ppf(0.99, M, n, N, odds))\nax.plot(x, nchypergeom_wallenius.pmf(x, M, n, N, odds), 'bo', ms=8, label='nchypergeom_wallenius pmf')\nax.vlines(x, 0, nchypergeom_wallenius.pmf(x, M, n, N, odds), colors='b', lw=5, alpha=0.5)",
            "outputs": []
        },
        {
            "id": "63a99bb4",
            "cell_type": "markdown",
            "source": "Alternatively, the distribution object can be called (as a function)\nto fix the shape and location. This returns a \"frozen\" RV object holding\nthe given parameters fixed.\n\nFreeze the distribution and display the frozen ``pmf``:\n",
            "metadata": {}
        },
        {
            "id": "1bd6ebc4",
            "cell_type": "code",
            "metadata": {},
            "execution_count": null,
            "source": "rv = nchypergeom_wallenius(M, n, N, odds)\nax.vlines(x, 0, rv.pmf(x), colors='k', linestyles='-', lw=1,\n        label='frozen pmf')\nax.legend(loc='best', frameon=False)\nplt.show()",
            "outputs": []
        },
        {
            "id": "d123e899",
            "cell_type": "markdown",
            "source": "Check accuracy of ``cdf`` and ``ppf``:\n",
            "metadata": {}
        },
        {
            "id": "7a2f3abf",
            "cell_type": "code",
            "metadata": {},
            "execution_count": null,
            "source": "prob = nchypergeom_wallenius.cdf(x, M, n, N, odds)\nnp.allclose(x, nchypergeom_wallenius.ppf(prob, M, n, N, odds))",
            "outputs": [
                {
                    "output_type": "execute_result",
                    "metadata": {},
                    "data": {
                        "text/plain": "True"
                    },
                    "execution_count": null
                }
            ]
        },
        {
            "id": "56766594",
            "cell_type": "markdown",
            "source": "Generate random numbers:\n",
            "metadata": {}
        },
        {
            "id": "f83042fb",
            "cell_type": "code",
            "metadata": {},
            "execution_count": null,
            "source": "r = nchypergeom_wallenius.rvs(M, n, N, odds, size=1000)",
            "outputs": []
        }
    ]
}