{
    "nbformat": 4,
    "nbformat_minor": 5,
    "metadata": {
        "kernelspec": {
            "display_name": "Python",
            "language": "python",
            "name": "python"
        },
        "language_info": {
            "name": "python"
        }
    },
    "cells": [
        {
            "id": "b540dbc8",
            "cell_type": "markdown",
            "source": "<div class='alert alert-warning'>\n\nSciPy's interactive examples with Jupyterlite are experimental and may not always work as expected. Execution of cells containing imports may result in large downloads (up to 60MB of content for the first import from SciPy). Load times when importing from SciPy may take roughly 10-20 seconds. If you notice any problems, feel free to open an [issue](https://github.com/scipy/scipy/issues/new/choose).\n\n</div>",
            "metadata": {}
        },
        {
            "id": "6fd5d6e8",
            "cell_type": "markdown",
            "source": "This function is used in finding the circumference of an\nellipse with semi-major axis `a` and semi-minor axis `b`.\n",
            "metadata": {}
        },
        {
            "id": "5a39b343",
            "cell_type": "code",
            "metadata": {},
            "execution_count": null,
            "source": "import numpy as np\nfrom scipy import special",
            "outputs": []
        },
        {
            "id": "ae8111d1",
            "cell_type": "code",
            "metadata": {},
            "execution_count": null,
            "source": "a = 3.5\nb = 2.1\ne_sq = 1.0 - b**2/a**2  # eccentricity squared",
            "outputs": []
        },
        {
            "id": "d41c5b6f",
            "cell_type": "markdown",
            "source": "Then the circumference is found using the following:\n",
            "metadata": {}
        },
        {
            "id": "6e058aac",
            "cell_type": "code",
            "metadata": {},
            "execution_count": null,
            "source": "C = 4*a*special.ellipe(e_sq)  # circumference formula\nC",
            "outputs": [
                {
                    "output_type": "execute_result",
                    "metadata": {},
                    "data": {
                        "text/plain": "17.868899204378693"
                    },
                    "execution_count": null
                }
            ]
        },
        {
            "id": "32a6d3b8",
            "cell_type": "markdown",
            "source": "When `a` and `b` are the same (meaning eccentricity is 0),\nthis reduces to the circumference of a circle.\n",
            "metadata": {}
        },
        {
            "id": "443c5323",
            "cell_type": "code",
            "metadata": {},
            "execution_count": null,
            "source": "4*a*special.ellipe(0.0)  # formula for ellipse with a = b",
            "outputs": [
                {
                    "output_type": "execute_result",
                    "metadata": {},
                    "data": {
                        "text/plain": "21.991148575128552"
                    },
                    "execution_count": null
                }
            ]
        },
        {
            "id": "97da77fa",
            "cell_type": "code",
            "metadata": {},
            "execution_count": null,
            "source": "2*np.pi*a  # formula for circle of radius a",
            "outputs": [
                {
                    "output_type": "execute_result",
                    "metadata": {},
                    "data": {
                        "text/plain": "21.991148575128552"
                    },
                    "execution_count": null
                }
            ]
        }
    ]
}