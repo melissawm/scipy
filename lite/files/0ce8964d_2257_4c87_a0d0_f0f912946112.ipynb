{
    "nbformat": 4,
    "nbformat_minor": 5,
    "metadata": {
        "kernelspec": {
            "display_name": "Python",
            "language": "python",
            "name": "python"
        },
        "language_info": {
            "name": "python"
        }
    },
    "cells": [
        {
            "id": "69d0ad81",
            "cell_type": "markdown",
            "source": "<div class='alert alert-warning'>\n\nSciPy's interactive examples with Jupyterlite are experimental and may not always work as expected. Execution of cells containing imports may result in large downloads (up to 60MB of content for the first import from SciPy). Load times when importing from SciPy may take roughly 10-20 seconds. If you notice any problems, feel free to open an [issue](https://github.com/scipy/scipy/issues/new/choose).\n\n</div>",
            "metadata": {}
        },
        {
            "id": "7c14b76b",
            "cell_type": "code",
            "metadata": {},
            "execution_count": null,
            "source": "from scipy.stats import pmean, hmean, gmean\npmean([1, 4], 1.3)",
            "outputs": [
                {
                    "output_type": "execute_result",
                    "metadata": {},
                    "data": {
                        "text/plain": "2.639372938300652"
                    },
                    "execution_count": null
                }
            ]
        },
        {
            "id": "ece40a16",
            "cell_type": "code",
            "metadata": {},
            "execution_count": null,
            "source": "pmean([1, 2, 3, 4, 5, 6, 7], 1.3)",
            "outputs": [
                {
                    "output_type": "execute_result",
                    "metadata": {},
                    "data": {
                        "text/plain": "4.157111214492084"
                    },
                    "execution_count": null
                }
            ]
        },
        {
            "id": "24a66dae",
            "cell_type": "code",
            "metadata": {},
            "execution_count": null,
            "source": "pmean([1, 4, 7], -2, weights=[3, 1, 3])",
            "outputs": [
                {
                    "output_type": "execute_result",
                    "metadata": {},
                    "data": {
                        "text/plain": "1.4969684896631954"
                    },
                    "execution_count": null
                }
            ]
        },
        {
            "id": "ea5a2b0f",
            "cell_type": "markdown",
            "source": "For p=-1, power mean is equal to harmonic mean:\n",
            "metadata": {}
        },
        {
            "id": "212a4d14",
            "cell_type": "code",
            "metadata": {},
            "execution_count": null,
            "source": "pmean([1, 4, 7], -1, weights=[3, 1, 3])",
            "outputs": [
                {
                    "output_type": "execute_result",
                    "metadata": {},
                    "data": {
                        "text/plain": "1.9029126213592233"
                    },
                    "execution_count": null
                }
            ]
        },
        {
            "id": "fbd24e54",
            "cell_type": "code",
            "metadata": {},
            "execution_count": null,
            "source": "hmean([1, 4, 7], weights=[3, 1, 3])",
            "outputs": [
                {
                    "output_type": "execute_result",
                    "metadata": {},
                    "data": {
                        "text/plain": "1.9029126213592233"
                    },
                    "execution_count": null
                }
            ]
        },
        {
            "id": "0e469c12",
            "cell_type": "markdown",
            "source": "For p=0, power mean is defined as the geometric mean:\n",
            "metadata": {}
        },
        {
            "id": "c604ca04",
            "cell_type": "code",
            "metadata": {},
            "execution_count": null,
            "source": "pmean([1, 4, 7], 0, weights=[3, 1, 3])",
            "outputs": [
                {
                    "output_type": "execute_result",
                    "metadata": {},
                    "data": {
                        "text/plain": "2.80668351922014"
                    },
                    "execution_count": null
                }
            ]
        },
        {
            "id": "aee80a5b",
            "cell_type": "code",
            "metadata": {},
            "execution_count": null,
            "source": "gmean([1, 4, 7], weights=[3, 1, 3])",
            "outputs": [
                {
                    "output_type": "execute_result",
                    "metadata": {},
                    "data": {
                        "text/plain": "2.80668351922014"
                    },
                    "execution_count": null
                }
            ]
        }
    ]
}