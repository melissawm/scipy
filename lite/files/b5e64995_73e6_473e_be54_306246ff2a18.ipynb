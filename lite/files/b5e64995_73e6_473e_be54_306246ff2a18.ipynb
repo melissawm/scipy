{
    "nbformat": 4,
    "nbformat_minor": 5,
    "metadata": {
        "kernelspec": {
            "display_name": "Python",
            "language": "python",
            "name": "python"
        },
        "language_info": {
            "name": "python"
        }
    },
    "cells": [
        {
            "id": "6f0edd82",
            "cell_type": "markdown",
            "source": "<div class='alert alert-warning'>\n\nSciPy's interactive examples with Jupyterlite are experimental and may not always work as expected. Execution of cells containing imports may result in large downloads (up to 60MB of content for the first import from SciPy). Load times when importing from SciPy may take roughly 10-20 seconds. If you notice any problems, feel free to open an [issue](https://github.com/scipy/scipy/issues/new/choose).\n\n</div>",
            "metadata": {}
        },
        {
            "id": "c0c9f341",
            "cell_type": "code",
            "metadata": {},
            "execution_count": null,
            "source": "from scipy.spatial.transform import Rotation as R\nimport numpy as np",
            "outputs": []
        },
        {
            "id": "438130fb",
            "cell_type": "markdown",
            "source": "Initialize a single rotation:\n",
            "metadata": {}
        },
        {
            "id": "331a33ef",
            "cell_type": "code",
            "metadata": {},
            "execution_count": null,
            "source": "r = R.from_mrp([0, 0, 1])\nr.as_euler('xyz', degrees=True)",
            "outputs": [
                {
                    "output_type": "execute_result",
                    "metadata": {},
                    "data": {
                        "text/plain": "array([0.        , 0.        , 180.      ])"
                    },
                    "execution_count": null
                }
            ]
        },
        {
            "id": "91c93622",
            "cell_type": "code",
            "metadata": {},
            "execution_count": null,
            "source": "r.as_euler('xyz').shape",
            "outputs": [
                {
                    "output_type": "execute_result",
                    "metadata": {},
                    "data": {
                        "text/plain": "(3,)"
                    },
                    "execution_count": null
                }
            ]
        },
        {
            "id": "14839b71",
            "cell_type": "markdown",
            "source": "Initialize multiple rotations in one object:\n",
            "metadata": {}
        },
        {
            "id": "ded9fbf0",
            "cell_type": "code",
            "metadata": {},
            "execution_count": null,
            "source": "r = R.from_mrp([\n[0, 0, 1],\n[1, 0, 0]])\nr.as_euler('xyz', degrees=True)",
            "outputs": [
                {
                    "output_type": "execute_result",
                    "metadata": {},
                    "data": {
                        "text/plain": "array([[0.        , 0.        , 180.      ],\n       [180.0     , 0.        , 0.        ]])"
                    },
                    "execution_count": null
                }
            ]
        },
        {
            "id": "bedc64b5",
            "cell_type": "code",
            "metadata": {},
            "execution_count": null,
            "source": "r.as_euler('xyz').shape",
            "outputs": [
                {
                    "output_type": "execute_result",
                    "metadata": {},
                    "data": {
                        "text/plain": "(2, 3)"
                    },
                    "execution_count": null
                }
            ]
        },
        {
            "id": "d7906df7",
            "cell_type": "markdown",
            "source": "It is also possible to have a stack of a single rotation:\n",
            "metadata": {}
        },
        {
            "id": "e9166a58",
            "cell_type": "code",
            "metadata": {},
            "execution_count": null,
            "source": "r = R.from_mrp([[0, 0, np.pi/2]])\nr.as_euler('xyz').shape",
            "outputs": [
                {
                    "output_type": "execute_result",
                    "metadata": {},
                    "data": {
                        "text/plain": "(1, 3)"
                    },
                    "execution_count": null
                }
            ]
        }
    ]
}