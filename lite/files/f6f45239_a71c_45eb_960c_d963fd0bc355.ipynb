{
    "nbformat": 4,
    "nbformat_minor": 5,
    "metadata": {
        "kernelspec": {
            "display_name": "Python",
            "language": "python",
            "name": "python"
        },
        "language_info": {
            "name": "python"
        }
    },
    "cells": [
        {
            "id": "d823d552",
            "cell_type": "markdown",
            "source": "<div class='alert alert-warning'>\n\nSciPy's interactive examples with Jupyterlite are experimental and may not always work as expected. Execution of cells containing imports may result in large downloads (up to 60MB of content for the first import from SciPy). Load times when importing from SciPy may take roughly 10-20 seconds. If you notice any problems, feel free to open an [issue](https://github.com/scipy/scipy/issues/new/choose).\n\n</div>",
            "metadata": {}
        },
        {
            "id": "3b6e2366",
            "cell_type": "code",
            "metadata": {},
            "execution_count": null,
            "source": "import numpy as np\nfrom scipy.stats import exponnorm\nimport matplotlib.pyplot as plt\nfig, ax = plt.subplots(1, 1)",
            "outputs": []
        },
        {
            "id": "6bc99ba9",
            "cell_type": "markdown",
            "source": "Calculate the first four moments:\n",
            "metadata": {}
        },
        {
            "id": "fdd6129d",
            "cell_type": "code",
            "metadata": {},
            "execution_count": null,
            "source": "K = 1.5\nmean, var, skew, kurt = exponnorm.stats(K, moments='mvsk')",
            "outputs": []
        },
        {
            "id": "b50ec920",
            "cell_type": "markdown",
            "source": "Display the probability density function (``pdf``):\n",
            "metadata": {}
        },
        {
            "id": "c6b3b210",
            "cell_type": "code",
            "metadata": {},
            "execution_count": null,
            "source": "x = np.linspace(exponnorm.ppf(0.01, K),\n                exponnorm.ppf(0.99, K), 100)\nax.plot(x, exponnorm.pdf(x, K),\n       'r-', lw=5, alpha=0.6, label='exponnorm pdf')",
            "outputs": []
        },
        {
            "id": "b57b0c68",
            "cell_type": "markdown",
            "source": "Alternatively, the distribution object can be called (as a function)\nto fix the shape, location and scale parameters. This returns a \"frozen\"\nRV object holding the given parameters fixed.\n\nFreeze the distribution and display the frozen ``pdf``:\n",
            "metadata": {}
        },
        {
            "id": "2c94f4ef",
            "cell_type": "code",
            "metadata": {},
            "execution_count": null,
            "source": "rv = exponnorm(K)\nax.plot(x, rv.pdf(x), 'k-', lw=2, label='frozen pdf')",
            "outputs": []
        },
        {
            "id": "31bf0f43",
            "cell_type": "markdown",
            "source": "Check accuracy of ``cdf`` and ``ppf``:\n",
            "metadata": {}
        },
        {
            "id": "d25a4fc8",
            "cell_type": "code",
            "metadata": {},
            "execution_count": null,
            "source": "vals = exponnorm.ppf([0.001, 0.5, 0.999], K)\nnp.allclose([0.001, 0.5, 0.999], exponnorm.cdf(vals, K))",
            "outputs": [
                {
                    "output_type": "execute_result",
                    "metadata": {},
                    "data": {
                        "text/plain": "True"
                    },
                    "execution_count": null
                }
            ]
        },
        {
            "id": "1557c7a5",
            "cell_type": "markdown",
            "source": "Generate random numbers:\n",
            "metadata": {}
        },
        {
            "id": "ed7346e7",
            "cell_type": "code",
            "metadata": {},
            "execution_count": null,
            "source": "r = exponnorm.rvs(K, size=1000)",
            "outputs": []
        },
        {
            "id": "765de8b4",
            "cell_type": "markdown",
            "source": "And compare the histogram:\n",
            "metadata": {}
        },
        {
            "id": "f22d1147",
            "cell_type": "code",
            "metadata": {},
            "execution_count": null,
            "source": "ax.hist(r, density=True, bins='auto', histtype='stepfilled', alpha=0.2)\nax.set_xlim([x[0], x[-1]])\nax.legend(loc='best', frameon=False)\nplt.show()",
            "outputs": []
        }
    ]
}