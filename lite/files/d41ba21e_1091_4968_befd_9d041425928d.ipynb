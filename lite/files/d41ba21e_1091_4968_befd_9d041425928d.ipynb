{
    "nbformat": 4,
    "nbformat_minor": 5,
    "metadata": {
        "kernelspec": {
            "display_name": "Python",
            "language": "python",
            "name": "python"
        },
        "language_info": {
            "name": "python"
        }
    },
    "cells": [
        {
            "id": "d098ab83",
            "cell_type": "markdown",
            "source": "<div class='alert alert-warning'>\n\nSciPy's interactive examples with Jupyterlite are experimental and may not always work as expected. Execution of cells containing imports may result in large downloads (up to 60MB of content for the first import from SciPy). Load times when importing from SciPy may take roughly 10-20 seconds. If you notice any problems, feel free to open an [issue](https://github.com/scipy/scipy/issues/new/choose).\n\n</div>",
            "metadata": {}
        },
        {
            "id": "4dceb0c8",
            "cell_type": "code",
            "metadata": {},
            "execution_count": null,
            "source": "from scipy.special import ncfdtr, ncfdtri",
            "outputs": []
        },
        {
            "id": "72e720c6",
            "cell_type": "markdown",
            "source": "Compute the CDF for several values of `f`:\n",
            "metadata": {}
        },
        {
            "id": "20fa07c4",
            "cell_type": "code",
            "metadata": {},
            "execution_count": null,
            "source": "f = [0.5, 1, 1.5]\np = ncfdtr(2, 3, 1.5, f)\np",
            "outputs": [
                {
                    "output_type": "execute_result",
                    "metadata": {},
                    "data": {
                        "text/plain": "array([ 0.20782291,  0.36107392,  0.47345752])"
                    },
                    "execution_count": null
                }
            ]
        },
        {
            "id": "7d4a3c0d",
            "cell_type": "markdown",
            "source": "Compute the inverse.  We recover the values of `f`, as expected:\n",
            "metadata": {}
        },
        {
            "id": "32561f0e",
            "cell_type": "code",
            "metadata": {},
            "execution_count": null,
            "source": "ncfdtri(2, 3, 1.5, p)",
            "outputs": [
                {
                    "output_type": "execute_result",
                    "metadata": {},
                    "data": {
                        "text/plain": "array([ 0.5,  1. ,  1.5])"
                    },
                    "execution_count": null
                }
            ]
        }
    ]
}