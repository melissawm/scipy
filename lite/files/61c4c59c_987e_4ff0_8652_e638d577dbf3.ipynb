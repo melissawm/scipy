{
    "nbformat": 4,
    "nbformat_minor": 5,
    "metadata": {
        "kernelspec": {
            "display_name": "Python",
            "language": "python",
            "name": "python"
        },
        "language_info": {
            "name": "python"
        }
    },
    "cells": [
        {
            "id": "bf1f95c3",
            "cell_type": "markdown",
            "source": "<div class='alert alert-warning'>\n\nSciPy's interactive examples with Jupyterlite are experimental and may not always work as expected. Execution of cells containing imports may result in large downloads (up to 60MB of content for the first import from SciPy). Load times when importing from SciPy may take roughly 10-20 seconds. If you notice any problems, feel free to open an [issue](https://github.com/scipy/scipy/issues/new/choose).\n\n</div>",
            "metadata": {}
        },
        {
            "id": "33e26648",
            "cell_type": "code",
            "metadata": {},
            "execution_count": null,
            "source": "from scipy.special import nctdtr, nctdtridf",
            "outputs": []
        },
        {
            "id": "0d69bf36",
            "cell_type": "markdown",
            "source": "Compute the CDF for several values of `df`:\n",
            "metadata": {}
        },
        {
            "id": "e5e6aefa",
            "cell_type": "code",
            "metadata": {},
            "execution_count": null,
            "source": "df = [1, 2, 3]\np = nctdtr(df, 0.25, 1)\np",
            "outputs": [
                {
                    "output_type": "execute_result",
                    "metadata": {},
                    "data": {
                        "text/plain": "array([0.67491974, 0.716464  , 0.73349456])"
                    },
                    "execution_count": null
                }
            ]
        },
        {
            "id": "96706c39",
            "cell_type": "markdown",
            "source": "Compute the inverse. We recover the values of `df`, as expected:\n",
            "metadata": {}
        },
        {
            "id": "1479efa7",
            "cell_type": "code",
            "metadata": {},
            "execution_count": null,
            "source": "nctdtridf(p, 0.25, 1)",
            "outputs": [
                {
                    "output_type": "execute_result",
                    "metadata": {},
                    "data": {
                        "text/plain": "array([1., 2., 3.])"
                    },
                    "execution_count": null
                }
            ]
        }
    ]
}