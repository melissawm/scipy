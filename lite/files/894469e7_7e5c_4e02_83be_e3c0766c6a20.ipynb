{
    "nbformat": 4,
    "nbformat_minor": 5,
    "metadata": {
        "kernelspec": {
            "display_name": "Python",
            "language": "python",
            "name": "python"
        },
        "language_info": {
            "name": "python"
        }
    },
    "cells": [
        {
            "id": "a65ec570",
            "cell_type": "markdown",
            "source": "<div class='alert alert-warning'>\n\nSciPy's interactive examples with Jupyterlite are experimental and may not always work as expected. Execution of cells containing imports may result in large downloads (up to 60MB of content for the first import from SciPy). Load times when importing from SciPy may take roughly 10-20 seconds. If you notice any problems, feel free to open an [issue](https://github.com/scipy/scipy/issues/new/choose).\n\n</div>",
            "metadata": {}
        },
        {
            "id": "13a98a1c",
            "cell_type": "code",
            "metadata": {},
            "execution_count": null,
            "source": "import numpy as np\nfrom scipy.stats import wrapcauchy\nimport matplotlib.pyplot as plt\nfig, ax = plt.subplots(1, 1)",
            "outputs": []
        },
        {
            "id": "4dc20f93",
            "cell_type": "markdown",
            "source": "Calculate the first four moments:\n",
            "metadata": {}
        },
        {
            "id": "c4fc407f",
            "cell_type": "code",
            "metadata": {},
            "execution_count": null,
            "source": "c = 0.0311\nmean, var, skew, kurt = wrapcauchy.stats(c, moments='mvsk')",
            "outputs": []
        },
        {
            "id": "2bdb617a",
            "cell_type": "markdown",
            "source": "Display the probability density function (``pdf``):\n",
            "metadata": {}
        },
        {
            "id": "916377c4",
            "cell_type": "code",
            "metadata": {},
            "execution_count": null,
            "source": "x = np.linspace(wrapcauchy.ppf(0.01, c),\n                wrapcauchy.ppf(0.99, c), 100)\nax.plot(x, wrapcauchy.pdf(x, c),\n       'r-', lw=5, alpha=0.6, label='wrapcauchy pdf')",
            "outputs": []
        },
        {
            "id": "a47ba62c",
            "cell_type": "markdown",
            "source": "Alternatively, the distribution object can be called (as a function)\nto fix the shape, location and scale parameters. This returns a \"frozen\"\nRV object holding the given parameters fixed.\n\nFreeze the distribution and display the frozen ``pdf``:\n",
            "metadata": {}
        },
        {
            "id": "fa45558e",
            "cell_type": "code",
            "metadata": {},
            "execution_count": null,
            "source": "rv = wrapcauchy(c)\nax.plot(x, rv.pdf(x), 'k-', lw=2, label='frozen pdf')",
            "outputs": []
        },
        {
            "id": "4e03646a",
            "cell_type": "markdown",
            "source": "Check accuracy of ``cdf`` and ``ppf``:\n",
            "metadata": {}
        },
        {
            "id": "ecbf4d33",
            "cell_type": "code",
            "metadata": {},
            "execution_count": null,
            "source": "vals = wrapcauchy.ppf([0.001, 0.5, 0.999], c)\nnp.allclose([0.001, 0.5, 0.999], wrapcauchy.cdf(vals, c))",
            "outputs": [
                {
                    "output_type": "execute_result",
                    "metadata": {},
                    "data": {
                        "text/plain": "True"
                    },
                    "execution_count": null
                }
            ]
        },
        {
            "id": "9b913e3e",
            "cell_type": "markdown",
            "source": "Generate random numbers:\n",
            "metadata": {}
        },
        {
            "id": "04b7f9e0",
            "cell_type": "code",
            "metadata": {},
            "execution_count": null,
            "source": "r = wrapcauchy.rvs(c, size=1000)",
            "outputs": []
        },
        {
            "id": "2f379aff",
            "cell_type": "markdown",
            "source": "And compare the histogram:\n",
            "metadata": {}
        },
        {
            "id": "e1d3f367",
            "cell_type": "code",
            "metadata": {},
            "execution_count": null,
            "source": "ax.hist(r, density=True, bins='auto', histtype='stepfilled', alpha=0.2)\nax.set_xlim([x[0], x[-1]])\nax.legend(loc='best', frameon=False)\nplt.show()",
            "outputs": []
        }
    ]
}