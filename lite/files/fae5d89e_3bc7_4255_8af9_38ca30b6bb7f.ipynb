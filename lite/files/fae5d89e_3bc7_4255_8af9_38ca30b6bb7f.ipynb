{
    "nbformat": 4,
    "nbformat_minor": 5,
    "metadata": {
        "kernelspec": {
            "display_name": "Python",
            "language": "python",
            "name": "python"
        },
        "language_info": {
            "name": "python"
        }
    },
    "cells": [
        {
            "id": "488653bf",
            "cell_type": "markdown",
            "source": "<div class='alert alert-warning'>\n\nSciPy's interactive examples with Jupyterlite are experimental and may not always work as expected. Execution of cells containing imports may result in large downloads (up to 60MB of content for the first import from SciPy). Load times when importing from SciPy may take roughly 10-20 seconds. If you notice any problems, feel free to open an [issue](https://github.com/scipy/scipy/issues/new/choose).\n\n</div>",
            "metadata": {}
        },
        {
            "id": "a2398487",
            "cell_type": "code",
            "metadata": {},
            "execution_count": null,
            "source": "import numpy as np\nimport scipy.special as sc",
            "outputs": []
        },
        {
            "id": "9f894acb",
            "cell_type": "markdown",
            "source": "Its domain is nonnegative n and x.\n",
            "metadata": {}
        },
        {
            "id": "bbcca20c",
            "cell_type": "code",
            "metadata": {},
            "execution_count": null,
            "source": "sc.expn(-1, 1.0), sc.expn(1, -1.0)",
            "outputs": [
                {
                    "output_type": "execute_result",
                    "metadata": {},
                    "data": {
                        "text/plain": "(nan, nan)"
                    },
                    "execution_count": null
                }
            ]
        },
        {
            "id": "8381c0d8",
            "cell_type": "markdown",
            "source": "It has a pole at ``x = 0`` for ``n = 1, 2``; for larger ``n`` it\nis equal to ``1 / (n - 1)``.\n",
            "metadata": {}
        },
        {
            "id": "1bc9b321",
            "cell_type": "code",
            "metadata": {},
            "execution_count": null,
            "source": "sc.expn([0, 1, 2, 3, 4], 0)",
            "outputs": [
                {
                    "output_type": "execute_result",
                    "metadata": {},
                    "data": {
                        "text/plain": "array([       inf,        inf, 1.        , 0.5       , 0.33333333])"
                    },
                    "execution_count": null
                }
            ]
        },
        {
            "id": "93e0d1d7",
            "cell_type": "markdown",
            "source": "For n equal to 0 it reduces to ``exp(-x) / x``.\n",
            "metadata": {}
        },
        {
            "id": "1a03b313",
            "cell_type": "code",
            "metadata": {},
            "execution_count": null,
            "source": "x = np.array([1, 2, 3, 4])\nsc.expn(0, x)",
            "outputs": [
                {
                    "output_type": "execute_result",
                    "metadata": {},
                    "data": {
                        "text/plain": "array([0.36787944, 0.06766764, 0.01659569, 0.00457891])"
                    },
                    "execution_count": null
                }
            ]
        },
        {
            "id": "c0559863",
            "cell_type": "code",
            "metadata": {},
            "execution_count": null,
            "source": "np.exp(-x) / x",
            "outputs": [
                {
                    "output_type": "execute_result",
                    "metadata": {},
                    "data": {
                        "text/plain": "array([0.36787944, 0.06766764, 0.01659569, 0.00457891])"
                    },
                    "execution_count": null
                }
            ]
        },
        {
            "id": "8d376e74",
            "cell_type": "markdown",
            "source": "For n equal to 1 it reduces to `exp1`.\n",
            "metadata": {}
        },
        {
            "id": "b322388f",
            "cell_type": "code",
            "metadata": {},
            "execution_count": null,
            "source": "sc.expn(1, x)",
            "outputs": [
                {
                    "output_type": "execute_result",
                    "metadata": {},
                    "data": {
                        "text/plain": "array([0.21938393, 0.04890051, 0.01304838, 0.00377935])"
                    },
                    "execution_count": null
                }
            ]
        },
        {
            "id": "b2459b9b",
            "cell_type": "code",
            "metadata": {},
            "execution_count": null,
            "source": "sc.exp1(x)",
            "outputs": [
                {
                    "output_type": "execute_result",
                    "metadata": {},
                    "data": {
                        "text/plain": "array([0.21938393, 0.04890051, 0.01304838, 0.00377935])"
                    },
                    "execution_count": null
                }
            ]
        }
    ]
}