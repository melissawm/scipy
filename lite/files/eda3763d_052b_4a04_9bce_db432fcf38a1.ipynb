{
    "nbformat": 4,
    "nbformat_minor": 5,
    "metadata": {
        "kernelspec": {
            "display_name": "Python",
            "language": "python",
            "name": "python"
        },
        "language_info": {
            "name": "python"
        }
    },
    "cells": [
        {
            "id": "a02c8469",
            "cell_type": "markdown",
            "source": "<div class='alert alert-warning'>\n\nSciPy's interactive examples with Jupyterlite are experimental and may not always work as expected. Execution of cells containing imports may result in large downloads (up to 60MB of content for the first import from SciPy). Load times when importing from SciPy may take roughly 10-20 seconds. If you notice any problems, feel free to open an [issue](https://github.com/scipy/scipy/issues/new/choose).\n\n</div>",
            "metadata": {}
        },
        {
            "id": "9e22fe2c",
            "cell_type": "markdown",
            "source": "We'll use `lsim` to simulate an analog Bessel filter applied to\na signal.\n",
            "metadata": {}
        },
        {
            "id": "87a3a530",
            "cell_type": "code",
            "metadata": {},
            "execution_count": null,
            "source": "import numpy as np\nfrom scipy.signal import bessel, lsim\nimport matplotlib.pyplot as plt",
            "outputs": []
        },
        {
            "id": "2278e61f",
            "cell_type": "markdown",
            "source": "Create a low-pass Bessel filter with a cutoff of 12 Hz.\n",
            "metadata": {}
        },
        {
            "id": "13fcf41b",
            "cell_type": "code",
            "metadata": {},
            "execution_count": null,
            "source": "b, a = bessel(N=5, Wn=2*np.pi*12, btype='lowpass', analog=True)",
            "outputs": []
        },
        {
            "id": "03a03d72",
            "cell_type": "markdown",
            "source": "Generate data to which the filter is applied.\n",
            "metadata": {}
        },
        {
            "id": "dfb2c9b6",
            "cell_type": "code",
            "metadata": {},
            "execution_count": null,
            "source": "t = np.linspace(0, 1.25, 500, endpoint=False)",
            "outputs": []
        },
        {
            "id": "d8ea8616",
            "cell_type": "markdown",
            "source": "The input signal is the sum of three sinusoidal curves, with\nfrequencies 4 Hz, 40 Hz, and 80 Hz.  The filter should mostly\neliminate the 40 Hz and 80 Hz components, leaving just the 4 Hz signal.\n",
            "metadata": {}
        },
        {
            "id": "76593de9",
            "cell_type": "code",
            "metadata": {},
            "execution_count": null,
            "source": "u = (np.cos(2*np.pi*4*t) + 0.6*np.sin(2*np.pi*40*t) +\n     0.5*np.cos(2*np.pi*80*t))",
            "outputs": []
        },
        {
            "id": "00d263fb",
            "cell_type": "markdown",
            "source": "Simulate the filter with `lsim`.\n",
            "metadata": {}
        },
        {
            "id": "c31879a7",
            "cell_type": "code",
            "metadata": {},
            "execution_count": null,
            "source": "tout, yout, xout = lsim((b, a), U=u, T=t)",
            "outputs": []
        },
        {
            "id": "f8b71e3d",
            "cell_type": "markdown",
            "source": "Plot the result.\n",
            "metadata": {}
        },
        {
            "id": "911ca3d0",
            "cell_type": "code",
            "metadata": {},
            "execution_count": null,
            "source": "plt.plot(t, u, 'r', alpha=0.5, linewidth=1, label='input')\nplt.plot(tout, yout, 'k', linewidth=1.5, label='output')\nplt.legend(loc='best', shadow=True, framealpha=1)\nplt.grid(alpha=0.3)\nplt.xlabel('t')\nplt.show()",
            "outputs": []
        },
        {
            "id": "9f035abb",
            "cell_type": "markdown",
            "source": "In a second example, we simulate a double integrator ``y'' = u``, with\na constant input ``u = 1``.  We'll use the state space representation\nof the integrator.\n",
            "metadata": {}
        },
        {
            "id": "c747d355",
            "cell_type": "code",
            "metadata": {},
            "execution_count": null,
            "source": "from scipy.signal import lti\nA = np.array([[0.0, 1.0], [0.0, 0.0]])\nB = np.array([[0.0], [1.0]])\nC = np.array([[1.0, 0.0]])\nD = 0.0\nsystem = lti(A, B, C, D)",
            "outputs": []
        },
        {
            "id": "5ac140e3",
            "cell_type": "markdown",
            "source": "`t` and `u` define the time and input signal for the system to\nbe simulated.\n",
            "metadata": {}
        },
        {
            "id": "2975a5db",
            "cell_type": "code",
            "metadata": {},
            "execution_count": null,
            "source": "t = np.linspace(0, 5, num=50)\nu = np.ones_like(t)",
            "outputs": []
        },
        {
            "id": "bb6e60ce",
            "cell_type": "markdown",
            "source": "Compute the simulation, and then plot `y`.  As expected, the plot shows\nthe curve ``y = 0.5*t**2``.\n",
            "metadata": {}
        },
        {
            "id": "d5baacee",
            "cell_type": "code",
            "metadata": {},
            "execution_count": null,
            "source": "tout, y, x = lsim(system, u, t)\nplt.plot(t, y)\nplt.grid(alpha=0.3)\nplt.xlabel('t')\nplt.show()",
            "outputs": []
        }
    ]
}