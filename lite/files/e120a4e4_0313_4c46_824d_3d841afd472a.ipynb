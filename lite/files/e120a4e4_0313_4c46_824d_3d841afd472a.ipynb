{
    "nbformat": 4,
    "nbformat_minor": 5,
    "metadata": {
        "kernelspec": {
            "display_name": "Python",
            "language": "python",
            "name": "python"
        },
        "language_info": {
            "name": "python"
        }
    },
    "cells": [
        {
            "id": "0db5b0ac",
            "cell_type": "markdown",
            "source": "<div class='alert alert-warning'>\n\nSciPy's interactive examples with Jupyterlite are experimental and may not always work as expected. Execution of cells containing imports may result in large downloads (up to 60MB of content for the first import from SciPy). Load times when importing from SciPy may take roughly 10-20 seconds. If you notice any problems, feel free to open an [issue](https://github.com/scipy/scipy/issues/new/choose).\n\n</div>",
            "metadata": {}
        },
        {
            "id": "47533a36",
            "cell_type": "code",
            "metadata": {},
            "execution_count": null,
            "source": "from scipy.special import smirnovi, smirnov",
            "outputs": []
        },
        {
            "id": "7d044c15",
            "cell_type": "code",
            "metadata": {},
            "execution_count": null,
            "source": "n = 24\ndeviations = [0.1, 0.2, 0.3]",
            "outputs": []
        },
        {
            "id": "f4431609",
            "cell_type": "markdown",
            "source": "Use `smirnov` to compute the complementary CDF of the Smirnov\ndistribution for the given number of samples and deviations.\n",
            "metadata": {}
        },
        {
            "id": "15a894f2",
            "cell_type": "code",
            "metadata": {},
            "execution_count": null,
            "source": "p = smirnov(n, deviations)\np",
            "outputs": [
                {
                    "output_type": "execute_result",
                    "metadata": {},
                    "data": {
                        "text/plain": "array([0.58105083, 0.12826832, 0.01032231])"
                    },
                    "execution_count": null
                }
            ]
        },
        {
            "id": "8c134d57",
            "cell_type": "markdown",
            "source": "The inverse function ``smirnovi(n, p)`` returns ``deviations``.\n",
            "metadata": {}
        },
        {
            "id": "fc536004",
            "cell_type": "code",
            "metadata": {},
            "execution_count": null,
            "source": "smirnovi(n, p)",
            "outputs": [
                {
                    "output_type": "execute_result",
                    "metadata": {},
                    "data": {
                        "text/plain": "array([0.1, 0.2, 0.3])"
                    },
                    "execution_count": null
                }
            ]
        }
    ]
}