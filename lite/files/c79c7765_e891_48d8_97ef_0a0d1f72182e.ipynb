{
    "nbformat": 4,
    "nbformat_minor": 5,
    "metadata": {
        "kernelspec": {
            "display_name": "Python",
            "language": "python",
            "name": "python"
        },
        "language_info": {
            "name": "python"
        }
    },
    "cells": [
        {
            "id": "e4c07434",
            "cell_type": "markdown",
            "source": "<div class='alert alert-warning'>\n\nSciPy's interactive examples with Jupyterlite are experimental and may not always work as expected. Execution of cells containing imports may result in large downloads (up to 60MB of content for the first import from SciPy). Load times when importing from SciPy may take roughly 10-20 seconds. If you notice any problems, feel free to open an [issue](https://github.com/scipy/scipy/issues/new/choose).\n\n</div>",
            "metadata": {}
        },
        {
            "id": "18feeca4",
            "cell_type": "code",
            "metadata": {},
            "execution_count": null,
            "source": "from scipy.cluster.hierarchy import DisjointSet",
            "outputs": []
        },
        {
            "id": "3060c3bc",
            "cell_type": "markdown",
            "source": "Initialize a disjoint set:\n",
            "metadata": {}
        },
        {
            "id": "c9952458",
            "cell_type": "code",
            "metadata": {},
            "execution_count": null,
            "source": "disjoint_set = DisjointSet([1, 2, 3, 'a', 'b'])",
            "outputs": []
        },
        {
            "id": "df03eb46",
            "cell_type": "markdown",
            "source": "Merge some subsets:\n",
            "metadata": {}
        },
        {
            "id": "f1969425",
            "cell_type": "code",
            "metadata": {},
            "execution_count": null,
            "source": "disjoint_set.merge(1, 2)",
            "outputs": [
                {
                    "output_type": "execute_result",
                    "metadata": {},
                    "data": {
                        "text/plain": "True"
                    },
                    "execution_count": null
                }
            ]
        },
        {
            "id": "eafc0fc3",
            "cell_type": "code",
            "metadata": {},
            "execution_count": null,
            "source": "disjoint_set.merge(3, 'a')",
            "outputs": [
                {
                    "output_type": "execute_result",
                    "metadata": {},
                    "data": {
                        "text/plain": "True"
                    },
                    "execution_count": null
                }
            ]
        },
        {
            "id": "f06a15b7",
            "cell_type": "code",
            "metadata": {},
            "execution_count": null,
            "source": "disjoint_set.merge('a', 'b')",
            "outputs": [
                {
                    "output_type": "execute_result",
                    "metadata": {},
                    "data": {
                        "text/plain": "True"
                    },
                    "execution_count": null
                }
            ]
        },
        {
            "id": "ecdfb740",
            "cell_type": "code",
            "metadata": {},
            "execution_count": null,
            "source": "disjoint_set.merge('b', 'b')",
            "outputs": [
                {
                    "output_type": "execute_result",
                    "metadata": {},
                    "data": {
                        "text/plain": "False"
                    },
                    "execution_count": null
                }
            ]
        },
        {
            "id": "e2cdf5bc",
            "cell_type": "markdown",
            "source": "Find root elements:\n",
            "metadata": {}
        },
        {
            "id": "c3bf7cc7",
            "cell_type": "code",
            "metadata": {},
            "execution_count": null,
            "source": "disjoint_set[2]",
            "outputs": [
                {
                    "output_type": "execute_result",
                    "metadata": {},
                    "data": {
                        "text/plain": "1"
                    },
                    "execution_count": null
                }
            ]
        },
        {
            "id": "aa2c18ec",
            "cell_type": "code",
            "metadata": {},
            "execution_count": null,
            "source": "disjoint_set['b']",
            "outputs": [
                {
                    "output_type": "execute_result",
                    "metadata": {},
                    "data": {
                        "text/plain": "3"
                    },
                    "execution_count": null
                }
            ]
        },
        {
            "id": "63a30cd9",
            "cell_type": "markdown",
            "source": "Test connectivity:\n",
            "metadata": {}
        },
        {
            "id": "17eaf12f",
            "cell_type": "code",
            "metadata": {},
            "execution_count": null,
            "source": "disjoint_set.connected(1, 2)",
            "outputs": [
                {
                    "output_type": "execute_result",
                    "metadata": {},
                    "data": {
                        "text/plain": "True"
                    },
                    "execution_count": null
                }
            ]
        },
        {
            "id": "171155f6",
            "cell_type": "code",
            "metadata": {},
            "execution_count": null,
            "source": "disjoint_set.connected(1, 'b')",
            "outputs": [
                {
                    "output_type": "execute_result",
                    "metadata": {},
                    "data": {
                        "text/plain": "False"
                    },
                    "execution_count": null
                }
            ]
        },
        {
            "id": "f7f544cb",
            "cell_type": "markdown",
            "source": "List elements in disjoint set:\n",
            "metadata": {}
        },
        {
            "id": "ff82d957",
            "cell_type": "code",
            "metadata": {},
            "execution_count": null,
            "source": "list(disjoint_set)",
            "outputs": [
                {
                    "output_type": "execute_result",
                    "metadata": {},
                    "data": {
                        "text/plain": "[1, 2, 3, 'a', 'b']"
                    },
                    "execution_count": null
                }
            ]
        },
        {
            "id": "e11099bf",
            "cell_type": "markdown",
            "source": "Get the subset containing 'a':\n",
            "metadata": {}
        },
        {
            "id": "4a3b8211",
            "cell_type": "code",
            "metadata": {},
            "execution_count": null,
            "source": "disjoint_set.subset('a')",
            "outputs": [
                {
                    "output_type": "execute_result",
                    "metadata": {},
                    "data": {
                        "text/plain": "{'a', 3, 'b'}"
                    },
                    "execution_count": null
                }
            ]
        },
        {
            "id": "6e9878d2",
            "cell_type": "markdown",
            "source": "Get the size of the subset containing 'a' (without actually instantiating\nthe subset):\n",
            "metadata": {}
        },
        {
            "id": "973e7216",
            "cell_type": "code",
            "metadata": {},
            "execution_count": null,
            "source": "disjoint_set.subset_size('a')",
            "outputs": [
                {
                    "output_type": "execute_result",
                    "metadata": {},
                    "data": {
                        "text/plain": "3"
                    },
                    "execution_count": null
                }
            ]
        },
        {
            "id": "e7b90125",
            "cell_type": "markdown",
            "source": "Get all subsets in the disjoint set:\n",
            "metadata": {}
        },
        {
            "id": "359625c6",
            "cell_type": "code",
            "metadata": {},
            "execution_count": null,
            "source": "disjoint_set.subsets()",
            "outputs": [
                {
                    "output_type": "execute_result",
                    "metadata": {},
                    "data": {
                        "text/plain": "[{1, 2}, {'a', 3, 'b'}]"
                    },
                    "execution_count": null
                }
            ]
        }
    ]
}