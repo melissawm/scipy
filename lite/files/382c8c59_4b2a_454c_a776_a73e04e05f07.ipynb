{
    "nbformat": 4,
    "nbformat_minor": 5,
    "metadata": {
        "kernelspec": {
            "display_name": "Python",
            "language": "python",
            "name": "python"
        },
        "language_info": {
            "name": "python"
        }
    },
    "cells": [
        {
            "id": "1f566fce",
            "cell_type": "markdown",
            "source": "<div class='alert alert-warning'>\n\nSciPy's interactive examples with Jupyterlite are experimental and may not always work as expected. Execution of cells containing imports may result in large downloads (up to 60MB of content for the first import from SciPy). Load times when importing from SciPy may take roughly 10-20 seconds. If you notice any problems, feel free to open an [issue](https://github.com/scipy/scipy/issues/new/choose).\n\n</div>",
            "metadata": {}
        },
        {
            "id": "397bb3d9",
            "cell_type": "code",
            "metadata": {},
            "execution_count": null,
            "source": "import numpy as np\nfrom scipy.special import betaln, beta",
            "outputs": []
        },
        {
            "id": "db4521d1",
            "cell_type": "markdown",
            "source": "Verify that, for moderate values of ``a`` and ``b``, ``betaln(a, b)``\nis the same as ``log(beta(a, b))``:\n",
            "metadata": {}
        },
        {
            "id": "5db5777a",
            "cell_type": "code",
            "metadata": {},
            "execution_count": null,
            "source": "betaln(3, 4)",
            "outputs": [
                {
                    "output_type": "execute_result",
                    "metadata": {},
                    "data": {
                        "text/plain": "-4.0943445622221"
                    },
                    "execution_count": null
                }
            ]
        },
        {
            "id": "921bcb6f",
            "cell_type": "code",
            "metadata": {},
            "execution_count": null,
            "source": "np.log(beta(3, 4))",
            "outputs": [
                {
                    "output_type": "execute_result",
                    "metadata": {},
                    "data": {
                        "text/plain": "-4.0943445622221"
                    },
                    "execution_count": null
                }
            ]
        },
        {
            "id": "57df4fb6",
            "cell_type": "markdown",
            "source": "In the following ``beta(a, b)`` underflows to 0, so we can't compute\nthe logarithm of the actual value.\n",
            "metadata": {}
        },
        {
            "id": "5867b30c",
            "cell_type": "code",
            "metadata": {},
            "execution_count": null,
            "source": "a = 400\nb = 900\nbeta(a, b)",
            "outputs": [
                {
                    "output_type": "execute_result",
                    "metadata": {},
                    "data": {
                        "text/plain": "0.0"
                    },
                    "execution_count": null
                }
            ]
        },
        {
            "id": "c7c54e45",
            "cell_type": "markdown",
            "source": "We can compute the logarithm of ``beta(a, b)`` by using `betaln`:\n",
            "metadata": {}
        },
        {
            "id": "3b1abba5",
            "cell_type": "code",
            "metadata": {},
            "execution_count": null,
            "source": "betaln(a, b)",
            "outputs": [
                {
                    "output_type": "execute_result",
                    "metadata": {},
                    "data": {
                        "text/plain": "-804.3069951764146"
                    },
                    "execution_count": null
                }
            ]
        }
    ]
}