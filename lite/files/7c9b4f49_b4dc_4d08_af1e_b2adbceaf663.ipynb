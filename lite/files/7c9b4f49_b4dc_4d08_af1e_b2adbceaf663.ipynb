{
    "nbformat": 4,
    "nbformat_minor": 5,
    "metadata": {
        "kernelspec": {
            "display_name": "Python",
            "language": "python",
            "name": "python"
        },
        "language_info": {
            "name": "python"
        }
    },
    "cells": [
        {
            "id": "b69dc431",
            "cell_type": "markdown",
            "source": "<div class='alert alert-warning'>\n\nSciPy's interactive examples with Jupyterlite are experimental and may not always work as expected. Execution of cells containing imports may result in large downloads (up to 60MB of content for the first import from SciPy). Load times when importing from SciPy may take roughly 10-20 seconds. If you notice any problems, feel free to open an [issue](https://github.com/scipy/scipy/issues/new/choose).\n\n</div>",
            "metadata": {}
        },
        {
            "id": "02b19b7a",
            "cell_type": "code",
            "metadata": {},
            "execution_count": null,
            "source": "import numpy as np\nfrom scipy.linalg import eigh\nA = np.array([[6, 3, 1, 5], [3, 0, 5, 1], [1, 5, 6, 2], [5, 1, 2, 2]])\nw, v = eigh(A)\nnp.allclose(A @ v - v @ np.diag(w), np.zeros((4, 4)))",
            "outputs": [
                {
                    "output_type": "execute_result",
                    "metadata": {},
                    "data": {
                        "text/plain": "True"
                    },
                    "execution_count": null
                }
            ]
        },
        {
            "id": "5f403733",
            "cell_type": "markdown",
            "source": "Request only the eigenvalues\n",
            "metadata": {}
        },
        {
            "id": "f73c066c",
            "cell_type": "code",
            "metadata": {},
            "execution_count": null,
            "source": "w = eigh(A, eigvals_only=True)",
            "outputs": []
        },
        {
            "id": "09df03a8",
            "cell_type": "markdown",
            "source": "Request eigenvalues that are less than 10.\n",
            "metadata": {}
        },
        {
            "id": "339a016a",
            "cell_type": "code",
            "metadata": {},
            "execution_count": null,
            "source": "A = np.array([[34, -4, -10, -7, 2],\n              [-4, 7, 2, 12, 0],\n              [-10, 2, 44, 2, -19],\n              [-7, 12, 2, 79, -34],\n              [2, 0, -19, -34, 29]])\neigh(A, eigvals_only=True, subset_by_value=[-np.inf, 10])",
            "outputs": [
                {
                    "output_type": "execute_result",
                    "metadata": {},
                    "data": {
                        "text/plain": "array([6.69199443e-07, 9.11938152e+00])"
                    },
                    "execution_count": null
                }
            ]
        },
        {
            "id": "464b0a9f",
            "cell_type": "markdown",
            "source": "Request the second smallest eigenvalue and its eigenvector\n",
            "metadata": {}
        },
        {
            "id": "b1d57b0f",
            "cell_type": "code",
            "metadata": {},
            "execution_count": null,
            "source": "w, v = eigh(A, subset_by_index=[1, 1])\nw",
            "outputs": [
                {
                    "output_type": "execute_result",
                    "metadata": {},
                    "data": {
                        "text/plain": "array([9.11938152])"
                    },
                    "execution_count": null
                }
            ]
        },
        {
            "id": "e57a7574",
            "cell_type": "code",
            "metadata": {},
            "execution_count": null,
            "source": "v.shape  # only a single column is returned",
            "outputs": [
                {
                    "output_type": "execute_result",
                    "metadata": {},
                    "data": {
                        "text/plain": "(5, 1)"
                    },
                    "execution_count": null
                }
            ]
        }
    ]
}