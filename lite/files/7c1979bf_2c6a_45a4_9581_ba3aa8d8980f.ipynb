{
    "nbformat": 4,
    "nbformat_minor": 5,
    "metadata": {
        "kernelspec": {
            "display_name": "Python",
            "language": "python",
            "name": "python"
        },
        "language_info": {
            "name": "python"
        }
    },
    "cells": [
        {
            "id": "a6368320",
            "cell_type": "markdown",
            "source": "<div class='alert alert-warning'>\n\nSciPy's interactive examples with Jupyterlite are experimental and may not always work as expected. Execution of cells containing imports may result in large downloads (up to 60MB of content for the first import from SciPy). Load times when importing from SciPy may take roughly 10-20 seconds. If you notice any problems, feel free to open an [issue](https://github.com/scipy/scipy/issues/new/choose).\n\n</div>",
            "metadata": {}
        },
        {
            "id": "c278243d",
            "cell_type": "code",
            "metadata": {},
            "execution_count": null,
            "source": "from scipy.spatial.transform import Rotation as R\nfrom scipy.spatial.transform import Slerp",
            "outputs": []
        },
        {
            "id": "68c00c6a",
            "cell_type": "markdown",
            "source": "Setup the fixed keyframe rotations and times:\n",
            "metadata": {}
        },
        {
            "id": "7ffd7c26",
            "cell_type": "code",
            "metadata": {},
            "execution_count": null,
            "source": "key_rots = R.random(5, random_state=2342345)\nkey_times = [0, 1, 2, 3, 4]",
            "outputs": []
        },
        {
            "id": "9115be23",
            "cell_type": "markdown",
            "source": "Create the interpolator object:\n",
            "metadata": {}
        },
        {
            "id": "4dd06b66",
            "cell_type": "code",
            "metadata": {},
            "execution_count": null,
            "source": "slerp = Slerp(key_times, key_rots)",
            "outputs": []
        },
        {
            "id": "2e540765",
            "cell_type": "markdown",
            "source": "Interpolate the rotations at the given times:\n",
            "metadata": {}
        },
        {
            "id": "542ff973",
            "cell_type": "code",
            "metadata": {},
            "execution_count": null,
            "source": "times = [0, 0.5, 0.25, 1, 1.5, 2, 2.75, 3, 3.25, 3.60, 4]\ninterp_rots = slerp(times)",
            "outputs": []
        },
        {
            "id": "f2700671",
            "cell_type": "markdown",
            "source": "The keyframe rotations expressed as Euler angles:\n",
            "metadata": {}
        },
        {
            "id": "70d7ab3a",
            "cell_type": "code",
            "metadata": {},
            "execution_count": null,
            "source": "key_rots.as_euler('xyz', degrees=True)",
            "outputs": [
                {
                    "output_type": "execute_result",
                    "metadata": {},
                    "data": {
                        "text/plain": "array([[ 14.31443779, -27.50095894,  -3.7275787 ],\n       [ -1.79924227, -24.69421529, 164.57701743],\n       [146.15020772,  43.22849451, -31.34891088],\n       [ 46.39959442,  11.62126073, -45.99719267],\n       [-88.94647804, -49.64400082, -65.80546984]])"
                    },
                    "execution_count": null
                }
            ]
        },
        {
            "id": "aaa5fd03",
            "cell_type": "markdown",
            "source": "The interpolated rotations expressed as Euler angles. These agree with the\nkeyframe rotations at both endpoints of the range of keyframe times.\n",
            "metadata": {}
        },
        {
            "id": "dfe676a7",
            "cell_type": "code",
            "metadata": {},
            "execution_count": null,
            "source": "interp_rots.as_euler('xyz', degrees=True)",
            "outputs": [
                {
                    "output_type": "execute_result",
                    "metadata": {},
                    "data": {
                        "text/plain": "array([[  14.31443779,  -27.50095894,   -3.7275787 ],\n       [   4.74588574,  -32.44683966,   81.25139984],\n       [  10.71094749,  -31.56690154,   38.06896408],\n       [  -1.79924227,  -24.69421529,  164.57701743],\n       [  11.72796022,   51.64207311, -171.7374683 ],\n       [ 146.15020772,   43.22849451,  -31.34891088],\n       [  68.10921869,   20.67625074,  -48.74886034],\n       [  46.39959442,   11.62126073,  -45.99719267],\n       [  12.35552615,    4.21525086,  -64.89288124],\n       [ -30.08117143,  -19.90769513,  -78.98121326],\n       [ -88.94647804,  -49.64400082,  -65.80546984]])"
                    },
                    "execution_count": null
                }
            ]
        }
    ]
}