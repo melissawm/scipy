{
    "nbformat": 4,
    "nbformat_minor": 5,
    "metadata": {
        "kernelspec": {
            "display_name": "Python",
            "language": "python",
            "name": "python"
        },
        "language_info": {
            "name": "python"
        }
    },
    "cells": [
        {
            "id": "f767939b",
            "cell_type": "markdown",
            "source": "<div class='alert alert-warning'>\n\nSciPy's interactive examples with Jupyterlite are experimental and may not always work as expected. Execution of cells containing imports may result in large downloads (up to 60MB of content for the first import from SciPy). Load times when importing from SciPy may take roughly 10-20 seconds. If you notice any problems, feel free to open an [issue](https://github.com/scipy/scipy/issues/new/choose).\n\n</div>",
            "metadata": {}
        },
        {
            "id": "0d8e3531",
            "cell_type": "code",
            "metadata": {},
            "execution_count": null,
            "source": "from scipy.special import nctdtr, nctdtrit",
            "outputs": []
        },
        {
            "id": "6d9b534f",
            "cell_type": "markdown",
            "source": "Compute the CDF for several values of `t`:\n",
            "metadata": {}
        },
        {
            "id": "f0d148f8",
            "cell_type": "code",
            "metadata": {},
            "execution_count": null,
            "source": "t = [0.5, 1, 1.5]\np = nctdtr(3, 1, t)\np",
            "outputs": [
                {
                    "output_type": "execute_result",
                    "metadata": {},
                    "data": {
                        "text/plain": "array([0.29811049, 0.46922687, 0.6257559 ])"
                    },
                    "execution_count": null
                }
            ]
        },
        {
            "id": "6bc7596e",
            "cell_type": "markdown",
            "source": "Compute the inverse. We recover the values of `t`, as expected:\n",
            "metadata": {}
        },
        {
            "id": "dcca5c09",
            "cell_type": "code",
            "metadata": {},
            "execution_count": null,
            "source": "nctdtrit(3, 1, p)",
            "outputs": [
                {
                    "output_type": "execute_result",
                    "metadata": {},
                    "data": {
                        "text/plain": "array([0.5, 1. , 1.5])"
                    },
                    "execution_count": null
                }
            ]
        }
    ]
}