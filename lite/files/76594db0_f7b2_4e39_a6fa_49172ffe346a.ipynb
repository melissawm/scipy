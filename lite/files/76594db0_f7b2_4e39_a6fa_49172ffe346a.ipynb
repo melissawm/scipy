{
    "nbformat": 4,
    "nbformat_minor": 5,
    "metadata": {
        "kernelspec": {
            "display_name": "Python",
            "language": "python",
            "name": "python"
        },
        "language_info": {
            "name": "python"
        }
    },
    "cells": [
        {
            "id": "10411d44",
            "cell_type": "markdown",
            "source": "<div class='alert alert-warning'>\n\nSciPy's interactive examples with Jupyterlite are experimental and may not always work as expected. Execution of cells containing imports may result in large downloads (up to 60MB of content for the first import from SciPy). Load times when importing from SciPy may take roughly 10-20 seconds. If you notice any problems, feel free to open an [issue](https://github.com/scipy/scipy/issues/new/choose).\n\n</div>",
            "metadata": {}
        },
        {
            "id": "9b369f45",
            "cell_type": "markdown",
            "source": "Basic homogeneity property:\n",
            "metadata": {}
        },
        {
            "id": "f8aea4cc",
            "cell_type": "code",
            "metadata": {},
            "execution_count": null,
            "source": "import numpy as np\nfrom scipy.special import elliprj",
            "outputs": []
        },
        {
            "id": "ba657162",
            "cell_type": "code",
            "metadata": {},
            "execution_count": null,
            "source": "x = 1.2 + 3.4j\ny = 5.\nz = 6.\np = 7.\nscale = 0.3 - 0.4j\nelliprj(scale*x, scale*y, scale*z, scale*p)",
            "outputs": [
                {
                    "output_type": "execute_result",
                    "metadata": {},
                    "data": {
                        "text/plain": "(0.10834905565679157+0.19694950747103812j)"
                    },
                    "execution_count": null
                }
            ]
        },
        {
            "id": "033bccbc",
            "cell_type": "code",
            "metadata": {},
            "execution_count": null,
            "source": "elliprj(x, y, z, p)*np.power(scale, -1.5)",
            "outputs": [
                {
                    "output_type": "execute_result",
                    "metadata": {},
                    "data": {
                        "text/plain": "(0.10834905565679556+0.19694950747103854j)"
                    },
                    "execution_count": null
                }
            ]
        },
        {
            "id": "c73860d8",
            "cell_type": "markdown",
            "source": "Reduction to simpler elliptic integral:\n",
            "metadata": {}
        },
        {
            "id": "7d8b9ee8",
            "cell_type": "code",
            "metadata": {},
            "execution_count": null,
            "source": "elliprj(x, y, z, z)",
            "outputs": [
                {
                    "output_type": "execute_result",
                    "metadata": {},
                    "data": {
                        "text/plain": "(0.08288462362195129-0.028376809745123258j)"
                    },
                    "execution_count": null
                }
            ]
        },
        {
            "id": "0fdcefcb",
            "cell_type": "code",
            "metadata": {},
            "execution_count": null,
            "source": "from scipy.special import elliprd\nelliprd(x, y, z)",
            "outputs": [
                {
                    "output_type": "execute_result",
                    "metadata": {},
                    "data": {
                        "text/plain": "(0.08288462362195136-0.028376809745123296j)"
                    },
                    "execution_count": null
                }
            ]
        },
        {
            "id": "c3fc4b19",
            "cell_type": "markdown",
            "source": "All arguments coincide:\n",
            "metadata": {}
        },
        {
            "id": "fe83fa9e",
            "cell_type": "code",
            "metadata": {},
            "execution_count": null,
            "source": "elliprj(x, x, x, x)",
            "outputs": [
                {
                    "output_type": "execute_result",
                    "metadata": {},
                    "data": {
                        "text/plain": "(-0.03986825876151896-0.14051741840449586j)"
                    },
                    "execution_count": null
                }
            ]
        },
        {
            "id": "7e80e19b",
            "cell_type": "code",
            "metadata": {},
            "execution_count": null,
            "source": "np.power(x, -1.5)",
            "outputs": [
                {
                    "output_type": "execute_result",
                    "metadata": {},
                    "data": {
                        "text/plain": "(-0.03986825876151894-0.14051741840449583j)"
                    },
                    "execution_count": null
                }
            ]
        }
    ]
}