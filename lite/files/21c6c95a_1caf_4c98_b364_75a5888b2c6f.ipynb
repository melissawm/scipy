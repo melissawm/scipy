{
    "nbformat": 4,
    "nbformat_minor": 5,
    "metadata": {
        "kernelspec": {
            "display_name": "Python",
            "language": "python",
            "name": "python"
        },
        "language_info": {
            "name": "python"
        }
    },
    "cells": [
        {
            "id": "8472df6e",
            "cell_type": "markdown",
            "source": "<div class='alert alert-warning'>\n\nSciPy's interactive examples with Jupyterlite are experimental and may not always work as expected. Execution of cells containing imports may result in large downloads (up to 60MB of content for the first import from SciPy). Load times when importing from SciPy may take roughly 10-20 seconds. If you notice any problems, feel free to open an [issue](https://github.com/scipy/scipy/issues/new/choose).\n\n</div>",
            "metadata": {}
        },
        {
            "id": "0fc69987",
            "cell_type": "markdown",
            "source": "Custom made discrete distribution:\n",
            "metadata": {}
        },
        {
            "id": "f1c8d559",
            "cell_type": "code",
            "metadata": {},
            "execution_count": null,
            "source": "import numpy as np\nfrom scipy import stats\nxk = np.arange(7)\npk = (0.1, 0.2, 0.3, 0.1, 0.1, 0.0, 0.2)\ncustm = stats.rv_discrete(name='custm', values=(xk, pk))\n\nimport matplotlib.pyplot as plt\nfig, ax = plt.subplots(1, 1)\nax.plot(xk, custm.pmf(xk), 'ro', ms=12, mec='r')\nax.vlines(xk, 0, custm.pmf(xk), colors='r', lw=4)\nplt.show()",
            "outputs": []
        },
        {
            "id": "6b3a380c",
            "cell_type": "markdown",
            "source": "Random number generation:\n",
            "metadata": {}
        },
        {
            "id": "fb8589f2",
            "cell_type": "code",
            "metadata": {},
            "execution_count": null,
            "source": "R = custm.rvs(size=100)",
            "outputs": []
        }
    ]
}