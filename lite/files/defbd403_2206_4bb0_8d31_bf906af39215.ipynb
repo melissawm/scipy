{
    "nbformat": 4,
    "nbformat_minor": 5,
    "metadata": {
        "kernelspec": {
            "display_name": "Python",
            "language": "python",
            "name": "python"
        },
        "language_info": {
            "name": "python"
        }
    },
    "cells": [
        {
            "id": "1612dbfd",
            "cell_type": "markdown",
            "source": "<div class='alert alert-warning'>\n\nSciPy's interactive examples with Jupyterlite are experimental and may not always work as expected. Execution of cells containing imports may result in large downloads (up to 60MB of content for the first import from SciPy). Load times when importing from SciPy may take roughly 10-20 seconds. If you notice any problems, feel free to open an [issue](https://github.com/scipy/scipy/issues/new/choose).\n\n</div>",
            "metadata": {}
        },
        {
            "id": "9eaaeec4",
            "cell_type": "code",
            "metadata": {},
            "execution_count": null,
            "source": "import numpy as np\nfrom scipy.stats import hypergeom\nimport matplotlib.pyplot as plt",
            "outputs": []
        },
        {
            "id": "15cc1025",
            "cell_type": "markdown",
            "source": "Suppose we have a collection of 20 animals, of which 7 are dogs.  Then if\nwe want to know the probability of finding a given number of dogs if we\nchoose at random 12 of the 20 animals, we can initialize a frozen\ndistribution and plot the probability mass function:\n",
            "metadata": {}
        },
        {
            "id": "81574aae",
            "cell_type": "code",
            "metadata": {},
            "execution_count": null,
            "source": "[M, n, N] = [20, 7, 12]\nrv = hypergeom(M, n, N)\nx = np.arange(0, n+1)\npmf_dogs = rv.pmf(x)",
            "outputs": []
        },
        {
            "id": "2a9aba95",
            "cell_type": "code",
            "metadata": {},
            "execution_count": null,
            "source": "fig = plt.figure()\nax = fig.add_subplot(111)\nax.plot(x, pmf_dogs, 'bo')\nax.vlines(x, 0, pmf_dogs, lw=2)\nax.set_xlabel('# of dogs in our group of chosen animals')\nax.set_ylabel('hypergeom PMF')\nplt.show()",
            "outputs": []
        },
        {
            "id": "405ec0a4",
            "cell_type": "markdown",
            "source": "Instead of using a frozen distribution we can also use `hypergeom`\nmethods directly.  To for example obtain the cumulative distribution\nfunction, use:\n",
            "metadata": {}
        },
        {
            "id": "f5f60b87",
            "cell_type": "code",
            "metadata": {},
            "execution_count": null,
            "source": "prb = hypergeom.cdf(x, M, n, N)",
            "outputs": []
        },
        {
            "id": "597b06cf",
            "cell_type": "markdown",
            "source": "And to generate random numbers:\n",
            "metadata": {}
        },
        {
            "id": "9e8051b9",
            "cell_type": "code",
            "metadata": {},
            "execution_count": null,
            "source": "R = hypergeom.rvs(M, n, N, size=10)",
            "outputs": []
        }
    ]
}