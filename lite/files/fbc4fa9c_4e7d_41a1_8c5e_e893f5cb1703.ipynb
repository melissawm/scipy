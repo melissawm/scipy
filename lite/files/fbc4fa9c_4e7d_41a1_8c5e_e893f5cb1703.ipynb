{
    "nbformat": 4,
    "nbformat_minor": 5,
    "metadata": {
        "kernelspec": {
            "display_name": "Python",
            "language": "python",
            "name": "python"
        },
        "language_info": {
            "name": "python"
        }
    },
    "cells": [
        {
            "id": "657e7d78",
            "cell_type": "markdown",
            "source": "<div class='alert alert-warning'>\n\nSciPy's interactive examples with Jupyterlite are experimental and may not always work as expected. Execution of cells containing imports may result in large downloads (up to 60MB of content for the first import from SciPy). Load times when importing from SciPy may take roughly 10-20 seconds. If you notice any problems, feel free to open an [issue](https://github.com/scipy/scipy/issues/new/choose).\n\n</div>",
            "metadata": {}
        },
        {
            "id": "459e337f",
            "cell_type": "code",
            "metadata": {},
            "execution_count": null,
            "source": "from scipy import signal\nimport matplotlib.pyplot as plt",
            "outputs": []
        },
        {
            "id": "24acb09b",
            "cell_type": "code",
            "metadata": {},
            "execution_count": null,
            "source": "lp = signal.lti([1.0], [1.0, 1.0])\nlp2 = signal.lti(*signal.lp2lp(lp.num, lp.den, 2))\nw, mag_lp, p_lp = lp.bode()\nw, mag_lp2, p_lp2 = lp2.bode(w)",
            "outputs": []
        },
        {
            "id": "6044d322",
            "cell_type": "code",
            "metadata": {},
            "execution_count": null,
            "source": "plt.plot(w, mag_lp, label='Lowpass')\nplt.plot(w, mag_lp2, label='Transformed Lowpass')\nplt.semilogx()\nplt.grid(True)\nplt.xlabel('Frequency [rad/s]')\nplt.ylabel('Magnitude [dB]')\nplt.legend()",
            "outputs": []
        }
    ]
}