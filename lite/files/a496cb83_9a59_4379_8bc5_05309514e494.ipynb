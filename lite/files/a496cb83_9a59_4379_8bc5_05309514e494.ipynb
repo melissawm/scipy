{
    "nbformat": 4,
    "nbformat_minor": 5,
    "metadata": {
        "kernelspec": {
            "display_name": "Python",
            "language": "python",
            "name": "python"
        },
        "language_info": {
            "name": "python"
        }
    },
    "cells": [
        {
            "id": "436ccad4",
            "cell_type": "markdown",
            "source": "<div class='alert alert-warning'>\n\nSciPy's interactive examples with Jupyterlite are experimental and may not always work as expected. Execution of cells containing imports may result in large downloads (up to 60MB of content for the first import from SciPy). Load times when importing from SciPy may take roughly 10-20 seconds. If you notice any problems, feel free to open an [issue](https://github.com/scipy/scipy/issues/new/choose).\n\n</div>",
            "metadata": {}
        },
        {
            "id": "08bfff68",
            "cell_type": "code",
            "metadata": {},
            "execution_count": null,
            "source": "from scipy.sparse import csr_matrix\nfrom scipy.sparse.csgraph import breadth_first_order",
            "outputs": []
        },
        {
            "id": "4724cb26",
            "cell_type": "code",
            "metadata": {},
            "execution_count": null,
            "source": "graph = [\n[0, 1, 2, 0],\n[0, 0, 0, 1],\n[2, 0, 0, 3],\n[0, 0, 0, 0]\n]\ngraph = csr_matrix(graph)\nprint(graph)",
            "outputs": [
                {
                    "output_type": "execute_result",
                    "metadata": {},
                    "data": {
                        "text/plain": "  (np.int32(0), np.int32(1))        1\n  (np.int32(0), np.int32(2))        2\n  (np.int32(1), np.int32(3))        1\n  (np.int32(2), np.int32(0))        2\n  (np.int32(2), np.int32(3))        3"
                    },
                    "execution_count": null
                }
            ]
        },
        {
            "id": "a0decedf",
            "cell_type": "code",
            "metadata": {},
            "execution_count": null,
            "source": "breadth_first_order(graph,0)",
            "outputs": [
                {
                    "output_type": "execute_result",
                    "metadata": {},
                    "data": {
                        "text/plain": "(array([0, 1, 2, 3], dtype=int32), array([-9999,     0,     0,     1], dtype=int32))"
                    },
                    "execution_count": null
                }
            ]
        }
    ]
}