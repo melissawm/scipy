{
    "nbformat": 4,
    "nbformat_minor": 5,
    "metadata": {
        "kernelspec": {
            "display_name": "Python",
            "language": "python",
            "name": "python"
        },
        "language_info": {
            "name": "python"
        }
    },
    "cells": [
        {
            "id": "2d774e84",
            "cell_type": "markdown",
            "source": "<div class='alert alert-warning'>\n\nSciPy's interactive examples with Jupyterlite are experimental and may not always work as expected. Execution of cells containing imports may result in large downloads (up to 60MB of content for the first import from SciPy). Load times when importing from SciPy may take roughly 10-20 seconds. If you notice any problems, feel free to open an [issue](https://github.com/scipy/scipy/issues/new/choose).\n\n</div>",
            "metadata": {}
        },
        {
            "id": "7de12bdf",
            "cell_type": "code",
            "metadata": {},
            "execution_count": null,
            "source": "import numpy as np\nfrom scipy.stats import irwinhall\nimport matplotlib.pyplot as plt\nfig, ax = plt.subplots(1, 1)",
            "outputs": []
        },
        {
            "id": "8d99c0d3",
            "cell_type": "markdown",
            "source": "Calculate the first four moments:\n",
            "metadata": {}
        },
        {
            "id": "747a4e60",
            "cell_type": "code",
            "metadata": {},
            "execution_count": null,
            "source": "n = 10\nmean, var, skew, kurt = irwinhall.stats(n, moments='mvsk')",
            "outputs": []
        },
        {
            "id": "fea5fae3",
            "cell_type": "markdown",
            "source": "Display the probability density function (``pdf``):\n",
            "metadata": {}
        },
        {
            "id": "73bbabac",
            "cell_type": "code",
            "metadata": {},
            "execution_count": null,
            "source": "x = np.linspace(irwinhall.ppf(0.01, n),\n                irwinhall.ppf(0.99, n), 100)\nax.plot(x, irwinhall.pdf(x, n),\n       'r-', lw=5, alpha=0.6, label='irwinhall pdf')",
            "outputs": []
        },
        {
            "id": "285e1464",
            "cell_type": "markdown",
            "source": "Alternatively, the distribution object can be called (as a function)\nto fix the shape, location and scale parameters. This returns a \"frozen\"\nRV object holding the given parameters fixed.\n\nFreeze the distribution and display the frozen ``pdf``:\n",
            "metadata": {}
        },
        {
            "id": "2c0bcbf1",
            "cell_type": "code",
            "metadata": {},
            "execution_count": null,
            "source": "rv = irwinhall(n)\nax.plot(x, rv.pdf(x), 'k-', lw=2, label='frozen pdf')",
            "outputs": []
        },
        {
            "id": "a4ff1223",
            "cell_type": "markdown",
            "source": "Check accuracy of ``cdf`` and ``ppf``:\n",
            "metadata": {}
        },
        {
            "id": "04ecf2ba",
            "cell_type": "code",
            "metadata": {},
            "execution_count": null,
            "source": "vals = irwinhall.ppf([0.001, 0.5, 0.999], n)\nnp.allclose([0.001, 0.5, 0.999], irwinhall.cdf(vals, n))",
            "outputs": [
                {
                    "output_type": "execute_result",
                    "metadata": {},
                    "data": {
                        "text/plain": "True"
                    },
                    "execution_count": null
                }
            ]
        },
        {
            "id": "88a02eb3",
            "cell_type": "markdown",
            "source": "Generate random numbers:\n",
            "metadata": {}
        },
        {
            "id": "249c5da3",
            "cell_type": "code",
            "metadata": {},
            "execution_count": null,
            "source": "r = irwinhall.rvs(n, size=1000)",
            "outputs": []
        },
        {
            "id": "9db1efb8",
            "cell_type": "markdown",
            "source": "And compare the histogram:\n",
            "metadata": {}
        },
        {
            "id": "015a1b91",
            "cell_type": "code",
            "metadata": {},
            "execution_count": null,
            "source": "ax.hist(r, density=True, bins='auto', histtype='stepfilled', alpha=0.2)\nax.set_xlim([x[0], x[-1]])\nax.legend(loc='best', frameon=False)\nplt.show()",
            "outputs": []
        }
    ]
}