{
    "nbformat": 4,
    "nbformat_minor": 5,
    "metadata": {
        "kernelspec": {
            "display_name": "Python",
            "language": "python",
            "name": "python"
        },
        "language_info": {
            "name": "python"
        }
    },
    "cells": [
        {
            "id": "07ff0e5f",
            "cell_type": "markdown",
            "source": "<div class='alert alert-warning'>\n\nSciPy's interactive examples with Jupyterlite are experimental and may not always work as expected. Execution of cells containing imports may result in large downloads (up to 60MB of content for the first import from SciPy). Load times when importing from SciPy may take roughly 10-20 seconds. If you notice any problems, feel free to open an [issue](https://github.com/scipy/scipy/issues/new/choose).\n\n</div>",
            "metadata": {}
        },
        {
            "id": "2b279756",
            "cell_type": "code",
            "metadata": {},
            "execution_count": null,
            "source": "import numpy as np\nfrom scipy.stats import ncf\nimport matplotlib.pyplot as plt\nfig, ax = plt.subplots(1, 1)",
            "outputs": []
        },
        {
            "id": "00c562c4",
            "cell_type": "markdown",
            "source": "Calculate the first four moments:\n",
            "metadata": {}
        },
        {
            "id": "ca4a40cb",
            "cell_type": "code",
            "metadata": {},
            "execution_count": null,
            "source": "dfn, dfd, nc = 27, 27, 0.416\nmean, var, skew, kurt = ncf.stats(dfn, dfd, nc, moments='mvsk')",
            "outputs": []
        },
        {
            "id": "52b81851",
            "cell_type": "markdown",
            "source": "Display the probability density function (``pdf``):\n",
            "metadata": {}
        },
        {
            "id": "01157234",
            "cell_type": "code",
            "metadata": {},
            "execution_count": null,
            "source": "x = np.linspace(ncf.ppf(0.01, dfn, dfd, nc),\n                ncf.ppf(0.99, dfn, dfd, nc), 100)\nax.plot(x, ncf.pdf(x, dfn, dfd, nc),\n       'r-', lw=5, alpha=0.6, label='ncf pdf')",
            "outputs": []
        },
        {
            "id": "b9f3b503",
            "cell_type": "markdown",
            "source": "Alternatively, the distribution object can be called (as a function)\nto fix the shape, location and scale parameters. This returns a \"frozen\"\nRV object holding the given parameters fixed.\n\nFreeze the distribution and display the frozen ``pdf``:\n",
            "metadata": {}
        },
        {
            "id": "07632131",
            "cell_type": "code",
            "metadata": {},
            "execution_count": null,
            "source": "rv = ncf(dfn, dfd, nc)\nax.plot(x, rv.pdf(x), 'k-', lw=2, label='frozen pdf')",
            "outputs": []
        },
        {
            "id": "2e1019b8",
            "cell_type": "markdown",
            "source": "Check accuracy of ``cdf`` and ``ppf``:\n",
            "metadata": {}
        },
        {
            "id": "9a1762e4",
            "cell_type": "code",
            "metadata": {},
            "execution_count": null,
            "source": "vals = ncf.ppf([0.001, 0.5, 0.999], dfn, dfd, nc)\nnp.allclose([0.001, 0.5, 0.999], ncf.cdf(vals, dfn, dfd, nc))",
            "outputs": [
                {
                    "output_type": "execute_result",
                    "metadata": {},
                    "data": {
                        "text/plain": "True"
                    },
                    "execution_count": null
                }
            ]
        },
        {
            "id": "069266d2",
            "cell_type": "markdown",
            "source": "Generate random numbers:\n",
            "metadata": {}
        },
        {
            "id": "73185c7e",
            "cell_type": "code",
            "metadata": {},
            "execution_count": null,
            "source": "r = ncf.rvs(dfn, dfd, nc, size=1000)",
            "outputs": []
        },
        {
            "id": "7265daf3",
            "cell_type": "markdown",
            "source": "And compare the histogram:\n",
            "metadata": {}
        },
        {
            "id": "1afbb891",
            "cell_type": "code",
            "metadata": {},
            "execution_count": null,
            "source": "ax.hist(r, density=True, bins='auto', histtype='stepfilled', alpha=0.2)\nax.set_xlim([x[0], x[-1]])\nax.legend(loc='best', frameon=False)\nplt.show()",
            "outputs": []
        }
    ]
}