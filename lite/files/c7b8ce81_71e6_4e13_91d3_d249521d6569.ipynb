{
    "nbformat": 4,
    "nbformat_minor": 5,
    "metadata": {
        "kernelspec": {
            "display_name": "Python",
            "language": "python",
            "name": "python"
        },
        "language_info": {
            "name": "python"
        }
    },
    "cells": [
        {
            "id": "66e8d75b",
            "cell_type": "markdown",
            "source": "<div class='alert alert-warning'>\n\nSciPy's interactive examples with Jupyterlite are experimental and may not always work as expected. Execution of cells containing imports may result in large downloads (up to 60MB of content for the first import from SciPy). Load times when importing from SciPy may take roughly 10-20 seconds. If you notice any problems, feel free to open an [issue](https://github.com/scipy/scipy/issues/new/choose).\n\n</div>",
            "metadata": {}
        },
        {
            "id": "e174a106",
            "cell_type": "markdown",
            "source": "Triangulation of a set of points:\n",
            "metadata": {}
        },
        {
            "id": "366f2407",
            "cell_type": "code",
            "metadata": {},
            "execution_count": null,
            "source": "import numpy as np\npoints = np.array([[0, 0], [0, 1.1], [1, 0], [1, 1]])\nfrom scipy.spatial import Delaunay\ntri = Delaunay(points)",
            "outputs": []
        },
        {
            "id": "bf366206",
            "cell_type": "markdown",
            "source": "We can plot it:\n",
            "metadata": {}
        },
        {
            "id": "5f6941f7",
            "cell_type": "code",
            "metadata": {},
            "execution_count": null,
            "source": "import matplotlib.pyplot as plt\nplt.triplot(points[:,0], points[:,1], tri.simplices)\nplt.plot(points[:,0], points[:,1], 'o')\nplt.show()",
            "outputs": []
        },
        {
            "id": "272b4fd1",
            "cell_type": "markdown",
            "source": "Point indices and coordinates for the two triangles forming the\ntriangulation:\n",
            "metadata": {}
        },
        {
            "id": "dfa43479",
            "cell_type": "code",
            "metadata": {},
            "execution_count": null,
            "source": "tri.simplices",
            "outputs": [
                {
                    "output_type": "execute_result",
                    "metadata": {},
                    "data": {
                        "text/plain": "array([[2, 3, 0],                 # may vary\n       [3, 1, 0]], dtype=int32)"
                    },
                    "execution_count": null
                }
            ]
        },
        {
            "id": "12b21761",
            "cell_type": "markdown",
            "source": "Note that depending on how rounding errors go, the simplices may\nbe in a different order than above.\n",
            "metadata": {}
        },
        {
            "id": "d79c6939",
            "cell_type": "code",
            "metadata": {},
            "execution_count": null,
            "source": "points[tri.simplices]",
            "outputs": [
                {
                    "output_type": "execute_result",
                    "metadata": {},
                    "data": {
                        "text/plain": "array([[[ 1. ,  0. ],            # may vary\n        [ 1. ,  1. ],\n        [ 0. ,  0. ]],\n       [[ 1. ,  1. ],\n        [ 0. ,  1.1],\n        [ 0. ,  0. ]]])"
                    },
                    "execution_count": null
                }
            ]
        },
        {
            "id": "fa826213",
            "cell_type": "markdown",
            "source": "Triangle 0 is the only neighbor of triangle 1, and it's opposite to\nvertex 1 of triangle 1:\n",
            "metadata": {}
        },
        {
            "id": "a10b7931",
            "cell_type": "code",
            "metadata": {},
            "execution_count": null,
            "source": "tri.neighbors[1]",
            "outputs": [
                {
                    "output_type": "execute_result",
                    "metadata": {},
                    "data": {
                        "text/plain": "array([-1,  0, -1], dtype=int32)"
                    },
                    "execution_count": null
                }
            ]
        },
        {
            "id": "75f31b88",
            "cell_type": "code",
            "metadata": {},
            "execution_count": null,
            "source": "points[tri.simplices[1,1]]",
            "outputs": [
                {
                    "output_type": "execute_result",
                    "metadata": {},
                    "data": {
                        "text/plain": "array([ 0. ,  1.1])"
                    },
                    "execution_count": null
                }
            ]
        },
        {
            "id": "1f13a68b",
            "cell_type": "markdown",
            "source": "We can find out which triangle points are in:\n",
            "metadata": {}
        },
        {
            "id": "b8d39211",
            "cell_type": "code",
            "metadata": {},
            "execution_count": null,
            "source": "p = np.array([(0.1, 0.2), (1.5, 0.5), (0.5, 1.05)])\ntri.find_simplex(p)",
            "outputs": [
                {
                    "output_type": "execute_result",
                    "metadata": {},
                    "data": {
                        "text/plain": "array([ 1, -1, 1], dtype=int32)"
                    },
                    "execution_count": null
                }
            ]
        },
        {
            "id": "4d711bc4",
            "cell_type": "markdown",
            "source": "The returned integers in the array are the indices of the simplex the\ncorresponding point is in. If -1 is returned, the point is in no simplex.\nBe aware that the shortcut in the following example only works correctly\nfor valid points as invalid points result in -1 which is itself a valid\nindex for the last simplex in the list.\n",
            "metadata": {}
        },
        {
            "id": "cc85bc75",
            "cell_type": "code",
            "metadata": {},
            "execution_count": null,
            "source": "p_valids = np.array([(0.1, 0.2), (0.5, 1.05)])\ntri.simplices[tri.find_simplex(p_valids)]",
            "outputs": [
                {
                    "output_type": "execute_result",
                    "metadata": {},
                    "data": {
                        "text/plain": "array([[3, 1, 0],                 # may vary\n       [3, 1, 0]], dtype=int32)"
                    },
                    "execution_count": null
                }
            ]
        },
        {
            "id": "6e850e11",
            "cell_type": "markdown",
            "source": "We can also compute barycentric coordinates in triangle 1 for\nthese points:\n",
            "metadata": {}
        },
        {
            "id": "3c014ce6",
            "cell_type": "code",
            "metadata": {},
            "execution_count": null,
            "source": "b = tri.transform[1,:2].dot(np.transpose(p - tri.transform[1,2]))\nnp.c_[np.transpose(b), 1 - b.sum(axis=0)]",
            "outputs": [
                {
                    "output_type": "execute_result",
                    "metadata": {},
                    "data": {
                        "text/plain": "array([[ 0.1       ,  0.09090909,  0.80909091],\n       [ 1.5       , -0.90909091,  0.40909091],\n       [ 0.5       ,  0.5       ,  0.        ]])"
                    },
                    "execution_count": null
                }
            ]
        },
        {
            "id": "10de64b1",
            "cell_type": "markdown",
            "source": "The coordinates for the first point are all positive, meaning it\nis indeed inside the triangle. The third point is on an edge,\nhence its null third coordinate.\n",
            "metadata": {}
        }
    ]
}