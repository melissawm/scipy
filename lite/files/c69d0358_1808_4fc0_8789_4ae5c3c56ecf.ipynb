{
    "nbformat": 4,
    "nbformat_minor": 5,
    "metadata": {
        "kernelspec": {
            "display_name": "Python",
            "language": "python",
            "name": "python"
        },
        "language_info": {
            "name": "python"
        }
    },
    "cells": [
        {
            "id": "9ec8f824",
            "cell_type": "markdown",
            "source": "<div class='alert alert-warning'>\n\nSciPy's interactive examples with Jupyterlite are experimental and may not always work as expected. Execution of cells containing imports may result in large downloads (up to 60MB of content for the first import from SciPy). Load times when importing from SciPy may take roughly 10-20 seconds. If you notice any problems, feel free to open an [issue](https://github.com/scipy/scipy/issues/new/choose).\n\n</div>",
            "metadata": {}
        },
        {
            "id": "78aaf013",
            "cell_type": "markdown",
            "source": "We can transform a continuous state-space system to a discrete one:\n",
            "metadata": {}
        },
        {
            "id": "ca90f464",
            "cell_type": "code",
            "metadata": {},
            "execution_count": null,
            "source": "import numpy as np\nimport matplotlib.pyplot as plt\nfrom scipy.signal import cont2discrete, lti, dlti, dstep",
            "outputs": []
        },
        {
            "id": "188fb6a8",
            "cell_type": "markdown",
            "source": "Define a continuous state-space system.\n",
            "metadata": {}
        },
        {
            "id": "d3e766d5",
            "cell_type": "code",
            "metadata": {},
            "execution_count": null,
            "source": "A = np.array([[0, 1],[-10., -3]])\nB = np.array([[0],[10.]])\nC = np.array([[1., 0]])\nD = np.array([[0.]])\nl_system = lti(A, B, C, D)\nt, x = l_system.step(T=np.linspace(0, 5, 100))\nfig, ax = plt.subplots()\nax.plot(t, x, label='Continuous', linewidth=3)",
            "outputs": []
        },
        {
            "id": "78512147",
            "cell_type": "markdown",
            "source": "Transform it to a discrete state-space system using several methods.\n",
            "metadata": {}
        },
        {
            "id": "b2f807d7",
            "cell_type": "code",
            "metadata": {},
            "execution_count": null,
            "source": "dt = 0.1\nfor method in ['zoh', 'bilinear', 'euler', 'backward_diff', 'foh', 'impulse']:\n   d_system = cont2discrete((A, B, C, D), dt, method=method)\n   s, x_d = dstep(d_system)\n   ax.step(s, np.squeeze(x_d), label=method, where='post')\nax.axis([t[0], t[-1], x[0], 1.4])\nax.legend(loc='best')\nfig.tight_layout()\nplt.show()",
            "outputs": []
        }
    ]
}