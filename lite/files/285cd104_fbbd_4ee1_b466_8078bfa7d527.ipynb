{
    "nbformat": 4,
    "nbformat_minor": 5,
    "metadata": {
        "kernelspec": {
            "display_name": "Python",
            "language": "python",
            "name": "python"
        },
        "language_info": {
            "name": "python"
        }
    },
    "cells": [
        {
            "id": "add35382",
            "cell_type": "markdown",
            "source": "<div class='alert alert-warning'>\n\nSciPy's interactive examples with Jupyterlite are experimental and may not always work as expected. Execution of cells containing imports may result in large downloads (up to 60MB of content for the first import from SciPy). Load times when importing from SciPy may take roughly 10-20 seconds. If you notice any problems, feel free to open an [issue](https://github.com/scipy/scipy/issues/new/choose).\n\n</div>",
            "metadata": {}
        },
        {
            "id": "7d811050",
            "cell_type": "code",
            "metadata": {},
            "execution_count": null,
            "source": "import numpy as np\nfrom scipy import stats\nrng = np.random.default_rng()\nx2 = rng.standard_normal((2, 45, 6, 7))\nx1 = rng.standard_normal((2, 30, 6, 7))\nres = stats.mood(x1, x2, axis=1)\nres.pvalue.shape",
            "outputs": [
                {
                    "output_type": "execute_result",
                    "metadata": {},
                    "data": {
                        "text/plain": "(2, 6, 7)"
                    },
                    "execution_count": null
                }
            ]
        },
        {
            "id": "7bffac2b",
            "cell_type": "markdown",
            "source": "Find the number of points where the difference in scale is not significant:\n",
            "metadata": {}
        },
        {
            "id": "fa6b5861",
            "cell_type": "code",
            "metadata": {},
            "execution_count": null,
            "source": "(res.pvalue > 0.1).sum()",
            "outputs": [
                {
                    "output_type": "execute_result",
                    "metadata": {},
                    "data": {
                        "text/plain": "78"
                    },
                    "execution_count": null
                }
            ]
        },
        {
            "id": "68a712e3",
            "cell_type": "markdown",
            "source": "Perform the test with different scales:\n",
            "metadata": {}
        },
        {
            "id": "e24cdbf4",
            "cell_type": "code",
            "metadata": {},
            "execution_count": null,
            "source": "x1 = rng.standard_normal((2, 30))\nx2 = rng.standard_normal((2, 35)) * 10.0\nstats.mood(x1, x2, axis=1)",
            "outputs": [
                {
                    "output_type": "execute_result",
                    "metadata": {},
                    "data": {
                        "text/plain": "SignificanceResult(statistic=array([-5.76174136, -6.12650783]),\n                   pvalue=array([8.32505043e-09, 8.98287869e-10]))"
                    },
                    "execution_count": null
                }
            ]
        }
    ]
}