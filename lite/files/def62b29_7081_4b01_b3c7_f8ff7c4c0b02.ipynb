{
    "nbformat": 4,
    "nbformat_minor": 5,
    "metadata": {
        "kernelspec": {
            "display_name": "Python",
            "language": "python",
            "name": "python"
        },
        "language_info": {
            "name": "python"
        }
    },
    "cells": [
        {
            "id": "d00a8490",
            "cell_type": "markdown",
            "source": "<div class='alert alert-warning'>\n\nSciPy's interactive examples with Jupyterlite are experimental and may not always work as expected. Execution of cells containing imports may result in large downloads (up to 60MB of content for the first import from SciPy). Load times when importing from SciPy may take roughly 10-20 seconds. If you notice any problems, feel free to open an [issue](https://github.com/scipy/scipy/issues/new/choose).\n\n</div>",
            "metadata": {}
        },
        {
            "id": "88587da3",
            "cell_type": "code",
            "metadata": {},
            "execution_count": null,
            "source": "import numpy as np\nfrom scipy.stats import studentized_range\nimport matplotlib.pyplot as plt\nfig, ax = plt.subplots(1, 1)",
            "outputs": []
        },
        {
            "id": "754c1a2f",
            "cell_type": "markdown",
            "source": "Display the probability density function (``pdf``):\n",
            "metadata": {}
        },
        {
            "id": "1ac2d3e6",
            "cell_type": "code",
            "metadata": {},
            "execution_count": null,
            "source": "k, df = 3, 10\nx = np.linspace(studentized_range.ppf(0.01, k, df),\n                studentized_range.ppf(0.99, k, df), 100)\nax.plot(x, studentized_range.pdf(x, k, df),\n        'r-', lw=5, alpha=0.6, label='studentized_range pdf')",
            "outputs": []
        },
        {
            "id": "82aa6b05",
            "cell_type": "markdown",
            "source": "Alternatively, the distribution object can be called (as a function)\nto fix the shape, location and scale parameters. This returns a \"frozen\"\nRV object holding the given parameters fixed.\n\nFreeze the distribution and display the frozen ``pdf``:\n",
            "metadata": {}
        },
        {
            "id": "72c15830",
            "cell_type": "code",
            "metadata": {},
            "execution_count": null,
            "source": "rv = studentized_range(k, df)\nax.plot(x, rv.pdf(x), 'k-', lw=2, label='frozen pdf')",
            "outputs": []
        },
        {
            "id": "531a6cb1",
            "cell_type": "markdown",
            "source": "Check accuracy of ``cdf`` and ``ppf``:\n",
            "metadata": {}
        },
        {
            "id": "95dd418e",
            "cell_type": "code",
            "metadata": {},
            "execution_count": null,
            "source": "vals = studentized_range.ppf([0.001, 0.5, 0.999], k, df)\nnp.allclose([0.001, 0.5, 0.999], studentized_range.cdf(vals, k, df))",
            "outputs": [
                {
                    "output_type": "execute_result",
                    "metadata": {},
                    "data": {
                        "text/plain": "True"
                    },
                    "execution_count": null
                }
            ]
        },
        {
            "id": "ab26c9e1",
            "cell_type": "markdown",
            "source": "Rather than using (``studentized_range.rvs``) to generate random variates,\nwhich is very slow for this distribution, we can approximate the inverse\nCDF using an interpolator, and then perform inverse transform sampling\nwith this approximate inverse CDF.\n\nThis distribution has an infinite but thin right tail, so we focus our\nattention on the leftmost 99.9 percent.\n",
            "metadata": {}
        },
        {
            "id": "645bec53",
            "cell_type": "code",
            "metadata": {},
            "execution_count": null,
            "source": "a, b = studentized_range.ppf([0, .999], k, df)\na, b",
            "outputs": [
                {
                    "output_type": "execute_result",
                    "metadata": {},
                    "data": {
                        "text/plain": "0, 7.41058083802274"
                    },
                    "execution_count": null
                }
            ]
        },
        {
            "id": "047d4056",
            "cell_type": "code",
            "metadata": {},
            "execution_count": null,
            "source": "from scipy.interpolate import interp1d\nrng = np.random.default_rng()\nxs = np.linspace(a, b, 50)\ncdf = studentized_range.cdf(xs, k, df)",
            "outputs": [
                {
                    "output_type": "execute_result",
                    "metadata": {},
                    "data": {
                        "text/plain": "# Create an interpolant of the inverse CDF"
                    },
                    "execution_count": null
                }
            ]
        },
        {
            "id": "0e5cc74d",
            "cell_type": "code",
            "metadata": {},
            "execution_count": null,
            "source": "ppf = interp1d(cdf, xs, fill_value='extrapolate')",
            "outputs": [
                {
                    "output_type": "execute_result",
                    "metadata": {},
                    "data": {
                        "text/plain": "# Perform inverse transform sampling using the interpolant"
                    },
                    "execution_count": null
                }
            ]
        },
        {
            "id": "1fe426cc",
            "cell_type": "code",
            "metadata": {},
            "execution_count": null,
            "source": "r = ppf(rng.uniform(size=1000))",
            "outputs": []
        },
        {
            "id": "768ddc1a",
            "cell_type": "markdown",
            "source": "And compare the histogram:\n",
            "metadata": {}
        },
        {
            "id": "0dc33fab",
            "cell_type": "code",
            "metadata": {},
            "execution_count": null,
            "source": "ax.hist(r, density=True, histtype='stepfilled', alpha=0.2)\nax.legend(loc='best', frameon=False)\nplt.show()",
            "outputs": []
        }
    ]
}