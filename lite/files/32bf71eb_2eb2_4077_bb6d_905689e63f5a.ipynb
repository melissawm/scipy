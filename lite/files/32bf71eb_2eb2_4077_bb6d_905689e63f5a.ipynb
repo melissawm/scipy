{
    "nbformat": 4,
    "nbformat_minor": 5,
    "metadata": {
        "kernelspec": {
            "display_name": "Python",
            "language": "python",
            "name": "python"
        },
        "language_info": {
            "name": "python"
        }
    },
    "cells": [
        {
            "id": "fd5983b1",
            "cell_type": "markdown",
            "source": "<div class='alert alert-warning'>\n\nSciPy's interactive examples with Jupyterlite are experimental and may not always work as expected. Execution of cells containing imports may result in large downloads (up to 60MB of content for the first import from SciPy). Load times when importing from SciPy may take roughly 10-20 seconds. If you notice any problems, feel free to open an [issue](https://github.com/scipy/scipy/issues/new/choose).\n\n</div>",
            "metadata": {}
        },
        {
            "id": "55e50be9",
            "cell_type": "code",
            "metadata": {},
            "execution_count": null,
            "source": "import numpy as np\nfrom scipy.stats import pearson3\nimport matplotlib.pyplot as plt\nfig, ax = plt.subplots(1, 1)",
            "outputs": []
        },
        {
            "id": "9c37765d",
            "cell_type": "markdown",
            "source": "Calculate the first four moments:\n",
            "metadata": {}
        },
        {
            "id": "01d0ea9e",
            "cell_type": "code",
            "metadata": {},
            "execution_count": null,
            "source": "skew = -2\nmean, var, skew, kurt = pearson3.stats(skew, moments='mvsk')",
            "outputs": []
        },
        {
            "id": "d0e4a7e0",
            "cell_type": "markdown",
            "source": "Display the probability density function (``pdf``):\n",
            "metadata": {}
        },
        {
            "id": "63937785",
            "cell_type": "code",
            "metadata": {},
            "execution_count": null,
            "source": "x = np.linspace(pearson3.ppf(0.01, skew),\n                pearson3.ppf(0.99, skew), 100)\nax.plot(x, pearson3.pdf(x, skew),\n       'r-', lw=5, alpha=0.6, label='pearson3 pdf')",
            "outputs": []
        },
        {
            "id": "d349b804",
            "cell_type": "markdown",
            "source": "Alternatively, the distribution object can be called (as a function)\nto fix the shape, location and scale parameters. This returns a \"frozen\"\nRV object holding the given parameters fixed.\n\nFreeze the distribution and display the frozen ``pdf``:\n",
            "metadata": {}
        },
        {
            "id": "298d70ca",
            "cell_type": "code",
            "metadata": {},
            "execution_count": null,
            "source": "rv = pearson3(skew)\nax.plot(x, rv.pdf(x), 'k-', lw=2, label='frozen pdf')",
            "outputs": []
        },
        {
            "id": "48c22b2b",
            "cell_type": "markdown",
            "source": "Check accuracy of ``cdf`` and ``ppf``:\n",
            "metadata": {}
        },
        {
            "id": "6dd323bb",
            "cell_type": "code",
            "metadata": {},
            "execution_count": null,
            "source": "vals = pearson3.ppf([0.001, 0.5, 0.999], skew)\nnp.allclose([0.001, 0.5, 0.999], pearson3.cdf(vals, skew))",
            "outputs": [
                {
                    "output_type": "execute_result",
                    "metadata": {},
                    "data": {
                        "text/plain": "True"
                    },
                    "execution_count": null
                }
            ]
        },
        {
            "id": "2042ad42",
            "cell_type": "markdown",
            "source": "Generate random numbers:\n",
            "metadata": {}
        },
        {
            "id": "2cae18ca",
            "cell_type": "code",
            "metadata": {},
            "execution_count": null,
            "source": "r = pearson3.rvs(skew, size=1000)",
            "outputs": []
        },
        {
            "id": "47b0a07e",
            "cell_type": "markdown",
            "source": "And compare the histogram:\n",
            "metadata": {}
        },
        {
            "id": "d9f7b011",
            "cell_type": "code",
            "metadata": {},
            "execution_count": null,
            "source": "ax.hist(r, density=True, bins='auto', histtype='stepfilled', alpha=0.2)\nax.set_xlim([x[0], x[-1]])\nax.legend(loc='best', frameon=False)\nplt.show()",
            "outputs": []
        }
    ]
}