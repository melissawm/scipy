{
    "nbformat": 4,
    "nbformat_minor": 5,
    "metadata": {
        "kernelspec": {
            "display_name": "Python",
            "language": "python",
            "name": "python"
        },
        "language_info": {
            "name": "python"
        }
    },
    "cells": [
        {
            "id": "6854c105",
            "cell_type": "markdown",
            "source": "<div class='alert alert-warning'>\n\nSciPy's interactive examples with Jupyterlite are experimental and may not always work as expected. Execution of cells containing imports may result in large downloads (up to 60MB of content for the first import from SciPy). Load times when importing from SciPy may take roughly 10-20 seconds. If you notice any problems, feel free to open an [issue](https://github.com/scipy/scipy/issues/new/choose).\n\n</div>",
            "metadata": {}
        },
        {
            "id": "1953cf1f",
            "cell_type": "code",
            "metadata": {},
            "execution_count": null,
            "source": "import numpy as np\nfrom scipy.stats import dlaplace\nimport matplotlib.pyplot as plt\nfig, ax = plt.subplots(1, 1)",
            "outputs": []
        },
        {
            "id": "f4ef3b1d",
            "cell_type": "markdown",
            "source": "Calculate the first four moments:\n",
            "metadata": {}
        },
        {
            "id": "7e7dd9f8",
            "cell_type": "code",
            "metadata": {},
            "execution_count": null,
            "source": "a = 0.8\nmean, var, skew, kurt = dlaplace.stats(a, moments='mvsk')",
            "outputs": []
        },
        {
            "id": "5933c549",
            "cell_type": "markdown",
            "source": "Display the probability mass function (``pmf``):\n",
            "metadata": {}
        },
        {
            "id": "3d8fb9d9",
            "cell_type": "code",
            "metadata": {},
            "execution_count": null,
            "source": "x = np.arange(dlaplace.ppf(0.01, a),\n              dlaplace.ppf(0.99, a))\nax.plot(x, dlaplace.pmf(x, a), 'bo', ms=8, label='dlaplace pmf')\nax.vlines(x, 0, dlaplace.pmf(x, a), colors='b', lw=5, alpha=0.5)",
            "outputs": []
        },
        {
            "id": "7209bdff",
            "cell_type": "markdown",
            "source": "Alternatively, the distribution object can be called (as a function)\nto fix the shape and location. This returns a \"frozen\" RV object holding\nthe given parameters fixed.\n\nFreeze the distribution and display the frozen ``pmf``:\n",
            "metadata": {}
        },
        {
            "id": "55661f09",
            "cell_type": "code",
            "metadata": {},
            "execution_count": null,
            "source": "rv = dlaplace(a)\nax.vlines(x, 0, rv.pmf(x), colors='k', linestyles='-', lw=1,\n        label='frozen pmf')\nax.legend(loc='best', frameon=False)\nplt.show()",
            "outputs": []
        },
        {
            "id": "00a05101",
            "cell_type": "markdown",
            "source": "Check accuracy of ``cdf`` and ``ppf``:\n",
            "metadata": {}
        },
        {
            "id": "cc54e55c",
            "cell_type": "code",
            "metadata": {},
            "execution_count": null,
            "source": "prob = dlaplace.cdf(x, a)\nnp.allclose(x, dlaplace.ppf(prob, a))",
            "outputs": [
                {
                    "output_type": "execute_result",
                    "metadata": {},
                    "data": {
                        "text/plain": "True"
                    },
                    "execution_count": null
                }
            ]
        },
        {
            "id": "2decd8e3",
            "cell_type": "markdown",
            "source": "Generate random numbers:\n",
            "metadata": {}
        },
        {
            "id": "3ddfcd0e",
            "cell_type": "code",
            "metadata": {},
            "execution_count": null,
            "source": "r = dlaplace.rvs(a, size=1000)",
            "outputs": []
        }
    ]
}