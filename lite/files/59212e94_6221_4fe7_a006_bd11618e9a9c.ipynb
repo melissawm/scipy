{
    "nbformat": 4,
    "nbformat_minor": 5,
    "metadata": {
        "kernelspec": {
            "display_name": "Python",
            "language": "python",
            "name": "python"
        },
        "language_info": {
            "name": "python"
        }
    },
    "cells": [
        {
            "id": "30f5ad6f",
            "cell_type": "markdown",
            "source": "<div class='alert alert-warning'>\n\nSciPy's interactive examples with Jupyterlite are experimental and may not always work as expected. Execution of cells containing imports may result in large downloads (up to 60MB of content for the first import from SciPy). Load times when importing from SciPy may take roughly 10-20 seconds. If you notice any problems, feel free to open an [issue](https://github.com/scipy/scipy/issues/new/choose).\n\n</div>",
            "metadata": {}
        },
        {
            "id": "85fd2d49",
            "cell_type": "code",
            "metadata": {},
            "execution_count": null,
            "source": "import numpy as np\nfrom scipy.linalg import orthogonal_procrustes\nA = np.array([[ 2,  0,  1], [-2,  0,  0]])",
            "outputs": []
        },
        {
            "id": "8d162acf",
            "cell_type": "markdown",
            "source": "Flip the order of columns and check for the anti-diagonal mapping\n",
            "metadata": {}
        },
        {
            "id": "e202ad5e",
            "cell_type": "code",
            "metadata": {},
            "execution_count": null,
            "source": "R, sca = orthogonal_procrustes(A, np.fliplr(A))\nR",
            "outputs": [
                {
                    "output_type": "execute_result",
                    "metadata": {},
                    "data": {
                        "text/plain": "array([[-5.34384992e-17,  0.00000000e+00,  1.00000000e+00],\n       [ 0.00000000e+00,  1.00000000e+00,  0.00000000e+00],\n       [ 1.00000000e+00,  0.00000000e+00, -7.85941422e-17]])"
                    },
                    "execution_count": null
                }
            ]
        },
        {
            "id": "a2917082",
            "cell_type": "code",
            "metadata": {},
            "execution_count": null,
            "source": "sca",
            "outputs": [
                {
                    "output_type": "execute_result",
                    "metadata": {},
                    "data": {
                        "text/plain": "9.0"
                    },
                    "execution_count": null
                }
            ]
        }
    ]
}