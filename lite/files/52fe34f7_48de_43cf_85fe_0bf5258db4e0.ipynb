{
    "nbformat": 4,
    "nbformat_minor": 5,
    "metadata": {
        "kernelspec": {
            "display_name": "Python",
            "language": "python",
            "name": "python"
        },
        "language_info": {
            "name": "python"
        }
    },
    "cells": [
        {
            "id": "78d7fd3f",
            "cell_type": "markdown",
            "source": "<div class='alert alert-warning'>\n\nSciPy's interactive examples with Jupyterlite are experimental and may not always work as expected. Execution of cells containing imports may result in large downloads (up to 60MB of content for the first import from SciPy). Load times when importing from SciPy may take roughly 10-20 seconds. If you notice any problems, feel free to open an [issue](https://github.com/scipy/scipy/issues/new/choose).\n\n</div>",
            "metadata": {}
        },
        {
            "id": "ffdf3479",
            "cell_type": "code",
            "metadata": {},
            "execution_count": null,
            "source": "import numpy as np\nimport matplotlib.pyplot as plt\nfrom scipy.optimize import curve_fit",
            "outputs": []
        },
        {
            "id": "d12eaebc",
            "cell_type": "code",
            "metadata": {},
            "execution_count": null,
            "source": "def func(x, a, b, c):\n    return a * np.exp(-b * x) + c",
            "outputs": []
        },
        {
            "id": "8150cebb",
            "cell_type": "markdown",
            "source": "Define the data to be fit with some noise:\n",
            "metadata": {}
        },
        {
            "id": "ade0f411",
            "cell_type": "code",
            "metadata": {},
            "execution_count": null,
            "source": "xdata = np.linspace(0, 4, 50)\ny = func(xdata, 2.5, 1.3, 0.5)\nrng = np.random.default_rng()\ny_noise = 0.2 * rng.normal(size=xdata.size)\nydata = y + y_noise\nplt.plot(xdata, ydata, 'b-', label='data')",
            "outputs": []
        },
        {
            "id": "b5e42a1d",
            "cell_type": "markdown",
            "source": "Fit for the parameters a, b, c of the function `func`:\n",
            "metadata": {}
        },
        {
            "id": "43bc9125",
            "cell_type": "code",
            "metadata": {},
            "execution_count": null,
            "source": "popt, pcov = curve_fit(func, xdata, ydata)\npopt",
            "outputs": [
                {
                    "output_type": "execute_result",
                    "metadata": {},
                    "data": {
                        "text/plain": "array([2.56274217, 1.37268521, 0.47427475])"
                    },
                    "execution_count": null
                }
            ]
        },
        {
            "id": "01337293",
            "cell_type": "code",
            "metadata": {},
            "execution_count": null,
            "source": "plt.plot(xdata, func(xdata, *popt), 'r-',\n         label='fit: a=%5.3f, b=%5.3f, c=%5.3f' % tuple(popt))",
            "outputs": []
        },
        {
            "id": "87745985",
            "cell_type": "markdown",
            "source": "Constrain the optimization to the region of ``0 <= a <= 3``,\n``0 <= b <= 1`` and ``0 <= c <= 0.5``:\n",
            "metadata": {}
        },
        {
            "id": "9aaf6182",
            "cell_type": "code",
            "metadata": {},
            "execution_count": null,
            "source": "popt, pcov = curve_fit(func, xdata, ydata, bounds=(0, [3., 1., 0.5]))\npopt",
            "outputs": [
                {
                    "output_type": "execute_result",
                    "metadata": {},
                    "data": {
                        "text/plain": "array([2.43736712, 1.        , 0.34463856])"
                    },
                    "execution_count": null
                }
            ]
        },
        {
            "id": "de737b29",
            "cell_type": "code",
            "metadata": {},
            "execution_count": null,
            "source": "plt.plot(xdata, func(xdata, *popt), 'g--',\n         label='fit: a=%5.3f, b=%5.3f, c=%5.3f' % tuple(popt))",
            "outputs": []
        },
        {
            "id": "4e7960ae",
            "cell_type": "code",
            "metadata": {},
            "execution_count": null,
            "source": "plt.xlabel('x')\nplt.ylabel('y')\nplt.legend()\nplt.show()",
            "outputs": []
        },
        {
            "id": "d9e8b084",
            "cell_type": "markdown",
            "source": "For reliable results, the model `func` should not be overparametrized;\nredundant parameters can cause unreliable covariance matrices and, in some\ncases, poorer quality fits. As a quick check of whether the model may be\noverparameterized, calculate the condition number of the covariance matrix:\n",
            "metadata": {}
        },
        {
            "id": "01f53e1c",
            "cell_type": "code",
            "metadata": {},
            "execution_count": null,
            "source": "np.linalg.cond(pcov)",
            "outputs": [
                {
                    "output_type": "execute_result",
                    "metadata": {},
                    "data": {
                        "text/plain": "34.571092161547405  # may vary"
                    },
                    "execution_count": null
                }
            ]
        },
        {
            "id": "0c8255d7",
            "cell_type": "markdown",
            "source": "The value is small, so it does not raise much concern. If, however, we were\nto add a fourth parameter ``d`` to `func` with the same effect as ``a``:\n",
            "metadata": {}
        },
        {
            "id": "53c8f2cf",
            "cell_type": "code",
            "metadata": {},
            "execution_count": null,
            "source": "def func2(x, a, b, c, d):\n    return a * d * np.exp(-b * x) + c  # a and d are redundant\npopt, pcov = curve_fit(func2, xdata, ydata)\nnp.linalg.cond(pcov)",
            "outputs": [
                {
                    "output_type": "execute_result",
                    "metadata": {},
                    "data": {
                        "text/plain": "1.13250718925596e+32  # may vary"
                    },
                    "execution_count": null
                }
            ]
        },
        {
            "id": "22ddb75f",
            "cell_type": "markdown",
            "source": "Such a large value is cause for concern. The diagonal elements of the\ncovariance matrix, which is related to uncertainty of the fit, gives more\ninformation:\n",
            "metadata": {}
        },
        {
            "id": "4397b6ff",
            "cell_type": "code",
            "metadata": {},
            "execution_count": null,
            "source": "np.diag(pcov)",
            "outputs": [
                {
                    "output_type": "execute_result",
                    "metadata": {},
                    "data": {
                        "text/plain": "array([1.48814742e+29, 3.78596560e-02, 5.39253738e-03, 2.76417220e+28])  # may vary"
                    },
                    "execution_count": null
                }
            ]
        },
        {
            "id": "66c0008a",
            "cell_type": "markdown",
            "source": "Note that the first and last terms are much larger than the other elements,\nsuggesting that the optimal values of these parameters are ambiguous and\nthat only one of these parameters is needed in the model.\n\nIf the optimal parameters of `f` differ by multiple orders of magnitude, the\nresulting fit can be inaccurate. Sometimes, `curve_fit` can fail to find any\nresults:\n",
            "metadata": {}
        },
        {
            "id": "6a5b024d",
            "cell_type": "code",
            "metadata": {},
            "execution_count": null,
            "source": "ydata = func(xdata, 500000, 0.01, 15)\ntry:\n    popt, pcov = curve_fit(func, xdata, ydata, method = 'trf')\nexcept RuntimeError as e:\n    print(e)",
            "outputs": [
                {
                    "output_type": "execute_result",
                    "metadata": {},
                    "data": {
                        "text/plain": "Optimal parameters not found: The maximum number of function evaluations is\nexceeded."
                    },
                    "execution_count": null
                }
            ]
        },
        {
            "id": "50cab9bf",
            "cell_type": "markdown",
            "source": "If parameter scale is roughly known beforehand, it can be defined in\n`x_scale` argument:\n",
            "metadata": {}
        },
        {
            "id": "aa51c108",
            "cell_type": "code",
            "metadata": {},
            "execution_count": null,
            "source": "popt, pcov = curve_fit(func, xdata, ydata, method = 'trf',\n                       x_scale = [1000, 1, 1])\npopt",
            "outputs": [
                {
                    "output_type": "execute_result",
                    "metadata": {},
                    "data": {
                        "text/plain": "array([5.00000000e+05, 1.00000000e-02, 1.49999999e+01])"
                    },
                    "execution_count": null
                }
            ]
        }
    ]
}