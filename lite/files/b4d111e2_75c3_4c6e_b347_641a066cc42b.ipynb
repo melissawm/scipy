{
    "nbformat": 4,
    "nbformat_minor": 5,
    "metadata": {
        "kernelspec": {
            "display_name": "Python",
            "language": "python",
            "name": "python"
        },
        "language_info": {
            "name": "python"
        }
    },
    "cells": [
        {
            "id": "208d3021",
            "cell_type": "markdown",
            "source": "<div class='alert alert-warning'>\n\nSciPy's interactive examples with Jupyterlite are experimental and may not always work as expected. Execution of cells containing imports may result in large downloads (up to 60MB of content for the first import from SciPy). Load times when importing from SciPy may take roughly 10-20 seconds. If you notice any problems, feel free to open an [issue](https://github.com/scipy/scipy/issues/new/choose).\n\n</div>",
            "metadata": {}
        },
        {
            "id": "81c2d8fe",
            "cell_type": "code",
            "metadata": {},
            "execution_count": null,
            "source": "from scipy.stats import pmean, hmean, gmean\npmean([1, 4], 1.3)",
            "outputs": [
                {
                    "output_type": "execute_result",
                    "metadata": {},
                    "data": {
                        "text/plain": "2.639372938300652"
                    },
                    "execution_count": null
                }
            ]
        },
        {
            "id": "4d785283",
            "cell_type": "code",
            "metadata": {},
            "execution_count": null,
            "source": "pmean([1, 2, 3, 4, 5, 6, 7], 1.3)",
            "outputs": [
                {
                    "output_type": "execute_result",
                    "metadata": {},
                    "data": {
                        "text/plain": "4.157111214492084"
                    },
                    "execution_count": null
                }
            ]
        },
        {
            "id": "61d71201",
            "cell_type": "code",
            "metadata": {},
            "execution_count": null,
            "source": "pmean([1, 4, 7], -2, weights=[3, 1, 3])",
            "outputs": [
                {
                    "output_type": "execute_result",
                    "metadata": {},
                    "data": {
                        "text/plain": "1.4969684896631954"
                    },
                    "execution_count": null
                }
            ]
        },
        {
            "id": "e65cfd16",
            "cell_type": "markdown",
            "source": "For p=-1, power mean is equal to harmonic mean:\n",
            "metadata": {}
        },
        {
            "id": "3ca993fa",
            "cell_type": "code",
            "metadata": {},
            "execution_count": null,
            "source": "pmean([1, 4, 7], -1, weights=[3, 1, 3])",
            "outputs": [
                {
                    "output_type": "execute_result",
                    "metadata": {},
                    "data": {
                        "text/plain": "1.9029126213592233"
                    },
                    "execution_count": null
                }
            ]
        },
        {
            "id": "44e5c651",
            "cell_type": "code",
            "metadata": {},
            "execution_count": null,
            "source": "hmean([1, 4, 7], weights=[3, 1, 3])",
            "outputs": [
                {
                    "output_type": "execute_result",
                    "metadata": {},
                    "data": {
                        "text/plain": "1.9029126213592233"
                    },
                    "execution_count": null
                }
            ]
        },
        {
            "id": "638319b3",
            "cell_type": "markdown",
            "source": "For p=0, power mean is defined as the geometric mean:\n",
            "metadata": {}
        },
        {
            "id": "da2c7ee5",
            "cell_type": "code",
            "metadata": {},
            "execution_count": null,
            "source": "pmean([1, 4, 7], 0, weights=[3, 1, 3])",
            "outputs": [
                {
                    "output_type": "execute_result",
                    "metadata": {},
                    "data": {
                        "text/plain": "2.80668351922014"
                    },
                    "execution_count": null
                }
            ]
        },
        {
            "id": "3f30d87a",
            "cell_type": "code",
            "metadata": {},
            "execution_count": null,
            "source": "gmean([1, 4, 7], weights=[3, 1, 3])",
            "outputs": [
                {
                    "output_type": "execute_result",
                    "metadata": {},
                    "data": {
                        "text/plain": "2.80668351922014"
                    },
                    "execution_count": null
                }
            ]
        }
    ]
}