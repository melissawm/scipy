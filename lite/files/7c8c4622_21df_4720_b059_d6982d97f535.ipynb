{
    "nbformat": 4,
    "nbformat_minor": 5,
    "metadata": {
        "kernelspec": {
            "display_name": "Python",
            "language": "python",
            "name": "python"
        },
        "language_info": {
            "name": "python"
        }
    },
    "cells": [
        {
            "id": "e252ae01",
            "cell_type": "markdown",
            "source": "<div class='alert alert-warning'>\n\nSciPy's interactive examples with Jupyterlite are experimental and may not always work as expected. Execution of cells containing imports may result in large downloads (up to 60MB of content for the first import from SciPy). Load times when importing from SciPy may take roughly 10-20 seconds. If you notice any problems, feel free to open an [issue](https://github.com/scipy/scipy/issues/new/choose).\n\n</div>",
            "metadata": {}
        },
        {
            "id": "26fd73f9",
            "cell_type": "markdown",
            "source": "Generate a discretization of a limacon curve in the polar coordinates:\n",
            "metadata": {}
        },
        {
            "id": "2fbd0bbf",
            "cell_type": "code",
            "metadata": {},
            "execution_count": null,
            "source": "import numpy as np\nphi = np.linspace(0, 2.*np.pi, 40)\nr = 0.5 + np.cos(phi)         # polar coords\nx, y = r * np.cos(phi), r * np.sin(phi)    # convert to cartesian",
            "outputs": []
        },
        {
            "id": "65790c8e",
            "cell_type": "markdown",
            "source": "And interpolate:\n",
            "metadata": {}
        },
        {
            "id": "c232efbb",
            "cell_type": "code",
            "metadata": {},
            "execution_count": null,
            "source": "from scipy.interpolate import splprep, splev\ntck, u = splprep([x, y], s=0)\nnew_points = splev(u, tck)",
            "outputs": []
        },
        {
            "id": "9a570208",
            "cell_type": "markdown",
            "source": "Notice that (i) we force interpolation by using `s=0`,\n(ii) the parameterization, ``u``, is generated automatically.\nNow plot the result:\n",
            "metadata": {}
        },
        {
            "id": "6a6d2966",
            "cell_type": "code",
            "metadata": {},
            "execution_count": null,
            "source": "import matplotlib.pyplot as plt\nfig, ax = plt.subplots()\nax.plot(x, y, 'ro')\nax.plot(new_points[0], new_points[1], 'r-')\nplt.show()",
            "outputs": []
        }
    ]
}