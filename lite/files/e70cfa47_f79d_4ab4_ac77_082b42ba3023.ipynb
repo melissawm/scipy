{
    "nbformat": 4,
    "nbformat_minor": 5,
    "metadata": {
        "kernelspec": {
            "display_name": "Python",
            "language": "python",
            "name": "python"
        },
        "language_info": {
            "name": "python"
        }
    },
    "cells": [
        {
            "id": "0bcb2d80",
            "cell_type": "markdown",
            "source": "<div class='alert alert-warning'>\n\nSciPy's interactive examples with Jupyterlite are experimental and may not always work as expected. Execution of cells containing imports may result in large downloads (up to 60MB of content for the first import from SciPy). Load times when importing from SciPy may take roughly 10-20 seconds. If you notice any problems, feel free to open an [issue](https://github.com/scipy/scipy/issues/new/choose).\n\n</div>",
            "metadata": {}
        },
        {
            "id": "f291a3ac",
            "cell_type": "code",
            "metadata": {},
            "execution_count": null,
            "source": "import numpy as np\nfrom scipy.stats import poisson\nimport matplotlib.pyplot as plt\nfig, ax = plt.subplots(1, 1)",
            "outputs": []
        },
        {
            "id": "6cbebdb9",
            "cell_type": "markdown",
            "source": "Calculate the first four moments:\n",
            "metadata": {}
        },
        {
            "id": "2314a0fa",
            "cell_type": "code",
            "metadata": {},
            "execution_count": null,
            "source": "mu = 0.6\nmean, var, skew, kurt = poisson.stats(mu, moments='mvsk')",
            "outputs": []
        },
        {
            "id": "9bbf27e3",
            "cell_type": "markdown",
            "source": "Display the probability mass function (``pmf``):\n",
            "metadata": {}
        },
        {
            "id": "ce244e24",
            "cell_type": "code",
            "metadata": {},
            "execution_count": null,
            "source": "x = np.arange(poisson.ppf(0.01, mu),\n              poisson.ppf(0.99, mu))\nax.plot(x, poisson.pmf(x, mu), 'bo', ms=8, label='poisson pmf')\nax.vlines(x, 0, poisson.pmf(x, mu), colors='b', lw=5, alpha=0.5)",
            "outputs": []
        },
        {
            "id": "11e908e7",
            "cell_type": "markdown",
            "source": "Alternatively, the distribution object can be called (as a function)\nto fix the shape and location. This returns a \"frozen\" RV object holding\nthe given parameters fixed.\n\nFreeze the distribution and display the frozen ``pmf``:\n",
            "metadata": {}
        },
        {
            "id": "1779bee1",
            "cell_type": "code",
            "metadata": {},
            "execution_count": null,
            "source": "rv = poisson(mu)\nax.vlines(x, 0, rv.pmf(x), colors='k', linestyles='-', lw=1,\n        label='frozen pmf')\nax.legend(loc='best', frameon=False)\nplt.show()",
            "outputs": []
        },
        {
            "id": "5ad7f654",
            "cell_type": "markdown",
            "source": "Check accuracy of ``cdf`` and ``ppf``:\n",
            "metadata": {}
        },
        {
            "id": "e61df2c2",
            "cell_type": "code",
            "metadata": {},
            "execution_count": null,
            "source": "prob = poisson.cdf(x, mu)\nnp.allclose(x, poisson.ppf(prob, mu))",
            "outputs": [
                {
                    "output_type": "execute_result",
                    "metadata": {},
                    "data": {
                        "text/plain": "True"
                    },
                    "execution_count": null
                }
            ]
        },
        {
            "id": "6ae693a7",
            "cell_type": "markdown",
            "source": "Generate random numbers:\n",
            "metadata": {}
        },
        {
            "id": "61732b2f",
            "cell_type": "code",
            "metadata": {},
            "execution_count": null,
            "source": "r = poisson.rvs(mu, size=1000)",
            "outputs": []
        }
    ]
}