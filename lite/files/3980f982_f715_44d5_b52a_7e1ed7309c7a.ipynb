{
    "nbformat": 4,
    "nbformat_minor": 5,
    "metadata": {
        "kernelspec": {
            "display_name": "Python",
            "language": "python",
            "name": "python"
        },
        "language_info": {
            "name": "python"
        }
    },
    "cells": [
        {
            "id": "4fbcd70b",
            "cell_type": "markdown",
            "source": "<div class='alert alert-warning'>\n\nSciPy's interactive examples with Jupyterlite are experimental and may not always work as expected. Execution of cells containing imports may result in large downloads (up to 60MB of content for the first import from SciPy). Load times when importing from SciPy may take roughly 10-20 seconds. If you notice any problems, feel free to open an [issue](https://github.com/scipy/scipy/issues/new/choose).\n\n</div>",
            "metadata": {}
        },
        {
            "id": "e788739c",
            "cell_type": "markdown",
            "source": "Note that the end of the resampled data rises to meet the first\nsample of the next cycle:\n",
            "metadata": {}
        },
        {
            "id": "84bfb61b",
            "cell_type": "code",
            "metadata": {},
            "execution_count": null,
            "source": "import numpy as np\nfrom scipy import signal",
            "outputs": []
        },
        {
            "id": "f860ad75",
            "cell_type": "code",
            "metadata": {},
            "execution_count": null,
            "source": "x = np.linspace(0, 10, 20, endpoint=False)\ny = np.cos(-x**2/6.0)\nf = signal.resample(y, 100)\nxnew = np.linspace(0, 10, 100, endpoint=False)",
            "outputs": []
        },
        {
            "id": "75021820",
            "cell_type": "code",
            "metadata": {},
            "execution_count": null,
            "source": "import matplotlib.pyplot as plt\nplt.plot(x, y, 'go-', xnew, f, '.-', 10, y[0], 'ro')\nplt.legend(['data', 'resampled'], loc='best')\nplt.show()",
            "outputs": []
        }
    ]
}