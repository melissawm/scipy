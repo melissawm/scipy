{
    "nbformat": 4,
    "nbformat_minor": 5,
    "metadata": {
        "kernelspec": {
            "display_name": "Python",
            "language": "python",
            "name": "python"
        },
        "language_info": {
            "name": "python"
        }
    },
    "cells": [
        {
            "id": "c1be6e46",
            "cell_type": "markdown",
            "source": "<div class='alert alert-warning'>\n\nSciPy's interactive examples with Jupyterlite are experimental and may not always work as expected. Execution of cells containing imports may result in large downloads (up to 60MB of content for the first import from SciPy). Load times when importing from SciPy may take roughly 10-20 seconds. If you notice any problems, feel free to open an [issue](https://github.com/scipy/scipy/issues/new/choose).\n\n</div>",
            "metadata": {}
        },
        {
            "id": "445b586c",
            "cell_type": "code",
            "metadata": {},
            "execution_count": null,
            "source": "import numpy as np\nfrom scipy.stats import crystalball\nimport matplotlib.pyplot as plt\nfig, ax = plt.subplots(1, 1)",
            "outputs": []
        },
        {
            "id": "6e165cda",
            "cell_type": "markdown",
            "source": "Calculate the first four moments:\n",
            "metadata": {}
        },
        {
            "id": "8703e419",
            "cell_type": "code",
            "metadata": {},
            "execution_count": null,
            "source": "beta, m = 2, 3\nmean, var, skew, kurt = crystalball.stats(beta, m, moments='mvsk')",
            "outputs": []
        },
        {
            "id": "71424e36",
            "cell_type": "markdown",
            "source": "Display the probability density function (``pdf``):\n",
            "metadata": {}
        },
        {
            "id": "d63f5ac0",
            "cell_type": "code",
            "metadata": {},
            "execution_count": null,
            "source": "x = np.linspace(crystalball.ppf(0.01, beta, m),\n                crystalball.ppf(0.99, beta, m), 100)\nax.plot(x, crystalball.pdf(x, beta, m),\n       'r-', lw=5, alpha=0.6, label='crystalball pdf')",
            "outputs": []
        },
        {
            "id": "323304a4",
            "cell_type": "markdown",
            "source": "Alternatively, the distribution object can be called (as a function)\nto fix the shape, location and scale parameters. This returns a \"frozen\"\nRV object holding the given parameters fixed.\n\nFreeze the distribution and display the frozen ``pdf``:\n",
            "metadata": {}
        },
        {
            "id": "6d406116",
            "cell_type": "code",
            "metadata": {},
            "execution_count": null,
            "source": "rv = crystalball(beta, m)\nax.plot(x, rv.pdf(x), 'k-', lw=2, label='frozen pdf')",
            "outputs": []
        },
        {
            "id": "7c08b488",
            "cell_type": "markdown",
            "source": "Check accuracy of ``cdf`` and ``ppf``:\n",
            "metadata": {}
        },
        {
            "id": "351cede2",
            "cell_type": "code",
            "metadata": {},
            "execution_count": null,
            "source": "vals = crystalball.ppf([0.001, 0.5, 0.999], beta, m)\nnp.allclose([0.001, 0.5, 0.999], crystalball.cdf(vals, beta, m))",
            "outputs": [
                {
                    "output_type": "execute_result",
                    "metadata": {},
                    "data": {
                        "text/plain": "True"
                    },
                    "execution_count": null
                }
            ]
        },
        {
            "id": "59c2bc50",
            "cell_type": "markdown",
            "source": "Generate random numbers:\n",
            "metadata": {}
        },
        {
            "id": "34fc93ef",
            "cell_type": "code",
            "metadata": {},
            "execution_count": null,
            "source": "r = crystalball.rvs(beta, m, size=1000)",
            "outputs": []
        },
        {
            "id": "e78cc088",
            "cell_type": "markdown",
            "source": "And compare the histogram:\n",
            "metadata": {}
        },
        {
            "id": "037653ba",
            "cell_type": "code",
            "metadata": {},
            "execution_count": null,
            "source": "ax.hist(r, density=True, bins='auto', histtype='stepfilled', alpha=0.2)\nax.set_xlim([x[0], x[-1]])\nax.legend(loc='best', frameon=False)\nplt.show()",
            "outputs": []
        }
    ]
}