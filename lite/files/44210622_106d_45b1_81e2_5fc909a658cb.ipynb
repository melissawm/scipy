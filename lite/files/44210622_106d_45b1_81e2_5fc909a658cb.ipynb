{
    "nbformat": 4,
    "nbformat_minor": 5,
    "metadata": {
        "kernelspec": {
            "display_name": "Python",
            "language": "python",
            "name": "python"
        },
        "language_info": {
            "name": "python"
        }
    },
    "cells": [
        {
            "id": "46da5635",
            "cell_type": "markdown",
            "source": "<div class='alert alert-warning'>\n\nSciPy's interactive examples with Jupyterlite are experimental and may not always work as expected. Execution of cells containing imports may result in large downloads (up to 60MB of content for the first import from SciPy). Load times when importing from SciPy may take roughly 10-20 seconds. If you notice any problems, feel free to open an [issue](https://github.com/scipy/scipy/issues/new/choose).\n\n</div>",
            "metadata": {}
        },
        {
            "id": "66be525a",
            "cell_type": "code",
            "metadata": {},
            "execution_count": null,
            "source": "import numpy as np\nfrom scipy.linalg import lu_factor\nA = np.array([[2, 5, 8, 7], [5, 2, 2, 8], [7, 5, 6, 6], [5, 4, 4, 8]])\nlu, piv = lu_factor(A)\npiv",
            "outputs": [
                {
                    "output_type": "execute_result",
                    "metadata": {},
                    "data": {
                        "text/plain": "array([2, 2, 3, 3], dtype=int32)"
                    },
                    "execution_count": null
                }
            ]
        },
        {
            "id": "310bfdbe",
            "cell_type": "markdown",
            "source": "Convert LAPACK's ``piv`` array to NumPy index and test the permutation\n",
            "metadata": {}
        },
        {
            "id": "42d05338",
            "cell_type": "code",
            "metadata": {},
            "execution_count": null,
            "source": "def pivot_to_permutation(piv):\n    perm = np.arange(len(piv))\n    for i in range(len(piv)):\n        perm[i], perm[piv[i]] = perm[piv[i]], perm[i]\n    return perm\n\np_inv = pivot_to_permutation(piv)\np_inv",
            "outputs": [
                {
                    "output_type": "execute_result",
                    "metadata": {},
                    "data": {
                        "text/plain": "array([2, 0, 3, 1])"
                    },
                    "execution_count": null
                }
            ]
        },
        {
            "id": "5423a8b0",
            "cell_type": "code",
            "metadata": {},
            "execution_count": null,
            "source": "L, U = np.tril(lu, k=-1) + np.eye(4), np.triu(lu)\nnp.allclose(A[p_inv] - L @ U, np.zeros((4, 4)))",
            "outputs": [
                {
                    "output_type": "execute_result",
                    "metadata": {},
                    "data": {
                        "text/plain": "True"
                    },
                    "execution_count": null
                }
            ]
        },
        {
            "id": "1041e24c",
            "cell_type": "markdown",
            "source": "The P matrix in P L U is defined by the inverse permutation and\ncan be recovered using argsort:\n",
            "metadata": {}
        },
        {
            "id": "e9d7747a",
            "cell_type": "code",
            "metadata": {},
            "execution_count": null,
            "source": "p = np.argsort(p_inv)\np",
            "outputs": [
                {
                    "output_type": "execute_result",
                    "metadata": {},
                    "data": {
                        "text/plain": "array([1, 3, 0, 2])"
                    },
                    "execution_count": null
                }
            ]
        },
        {
            "id": "6bce1eb5",
            "cell_type": "code",
            "metadata": {},
            "execution_count": null,
            "source": "np.allclose(A - L[p] @ U, np.zeros((4, 4)))",
            "outputs": [
                {
                    "output_type": "execute_result",
                    "metadata": {},
                    "data": {
                        "text/plain": "True"
                    },
                    "execution_count": null
                }
            ]
        },
        {
            "id": "fbdaca3f",
            "cell_type": "markdown",
            "source": "or alternatively:\n",
            "metadata": {}
        },
        {
            "id": "2236e38e",
            "cell_type": "code",
            "metadata": {},
            "execution_count": null,
            "source": "P = np.eye(4)[p]\nnp.allclose(A - P @ L @ U, np.zeros((4, 4)))",
            "outputs": [
                {
                    "output_type": "execute_result",
                    "metadata": {},
                    "data": {
                        "text/plain": "True"
                    },
                    "execution_count": null
                }
            ]
        }
    ]
}