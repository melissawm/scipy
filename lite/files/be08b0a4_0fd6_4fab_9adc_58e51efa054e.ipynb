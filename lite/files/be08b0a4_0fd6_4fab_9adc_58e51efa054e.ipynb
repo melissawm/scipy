{
    "nbformat": 4,
    "nbformat_minor": 5,
    "metadata": {
        "kernelspec": {
            "display_name": "Python",
            "language": "python",
            "name": "python"
        },
        "language_info": {
            "name": "python"
        }
    },
    "cells": [
        {
            "id": "499e6ccd",
            "cell_type": "markdown",
            "source": "<div class='alert alert-warning'>\n\nSciPy's interactive examples with Jupyterlite are experimental and may not always work as expected. Execution of cells containing imports may result in large downloads (up to 60MB of content for the first import from SciPy). Load times when importing from SciPy may take roughly 10-20 seconds. If you notice any problems, feel free to open an [issue](https://github.com/scipy/scipy/issues/new/choose).\n\n</div>",
            "metadata": {}
        },
        {
            "id": "455348d1",
            "cell_type": "markdown",
            "source": "Basic homogeneity property:\n",
            "metadata": {}
        },
        {
            "id": "6bea268c",
            "cell_type": "code",
            "metadata": {},
            "execution_count": null,
            "source": "import numpy as np\nfrom scipy.special import elliprd",
            "outputs": []
        },
        {
            "id": "f16a6ebb",
            "cell_type": "code",
            "metadata": {},
            "execution_count": null,
            "source": "x = 1.2 + 3.4j\ny = 5.\nz = 6.\nscale = 0.3 + 0.4j\nelliprd(scale*x, scale*y, scale*z)",
            "outputs": [
                {
                    "output_type": "execute_result",
                    "metadata": {},
                    "data": {
                        "text/plain": "(-0.03703043835680379-0.24500934665683802j)"
                    },
                    "execution_count": null
                }
            ]
        },
        {
            "id": "8644b933",
            "cell_type": "code",
            "metadata": {},
            "execution_count": null,
            "source": "elliprd(x, y, z)*np.power(scale, -1.5)",
            "outputs": [
                {
                    "output_type": "execute_result",
                    "metadata": {},
                    "data": {
                        "text/plain": "(-0.0370304383568038-0.24500934665683805j)"
                    },
                    "execution_count": null
                }
            ]
        },
        {
            "id": "2a0cad76",
            "cell_type": "markdown",
            "source": "All three arguments coincide:\n",
            "metadata": {}
        },
        {
            "id": "51b77efb",
            "cell_type": "code",
            "metadata": {},
            "execution_count": null,
            "source": "x = 1.2 + 3.4j\nelliprd(x, x, x)",
            "outputs": [
                {
                    "output_type": "execute_result",
                    "metadata": {},
                    "data": {
                        "text/plain": "(-0.03986825876151896-0.14051741840449586j)"
                    },
                    "execution_count": null
                }
            ]
        },
        {
            "id": "75086fa5",
            "cell_type": "code",
            "metadata": {},
            "execution_count": null,
            "source": "np.power(x, -1.5)",
            "outputs": [
                {
                    "output_type": "execute_result",
                    "metadata": {},
                    "data": {
                        "text/plain": "(-0.03986825876151894-0.14051741840449583j)"
                    },
                    "execution_count": null
                }
            ]
        },
        {
            "id": "0a1b5fed",
            "cell_type": "markdown",
            "source": "The so-called \"second lemniscate constant\":\n",
            "metadata": {}
        },
        {
            "id": "939c7ae8",
            "cell_type": "code",
            "metadata": {},
            "execution_count": null,
            "source": "elliprd(0, 2, 1)/3",
            "outputs": [
                {
                    "output_type": "execute_result",
                    "metadata": {},
                    "data": {
                        "text/plain": "0.5990701173677961"
                    },
                    "execution_count": null
                }
            ]
        },
        {
            "id": "b843acfb",
            "cell_type": "code",
            "metadata": {},
            "execution_count": null,
            "source": "from scipy.special import gamma\ngamma(0.75)**2/np.sqrt(2*np.pi)",
            "outputs": [
                {
                    "output_type": "execute_result",
                    "metadata": {},
                    "data": {
                        "text/plain": "0.5990701173677959"
                    },
                    "execution_count": null
                }
            ]
        }
    ]
}