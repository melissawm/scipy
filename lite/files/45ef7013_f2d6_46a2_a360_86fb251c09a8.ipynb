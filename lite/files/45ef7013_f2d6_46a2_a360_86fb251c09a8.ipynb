{
    "nbformat": 4,
    "nbformat_minor": 5,
    "metadata": {
        "kernelspec": {
            "display_name": "Python",
            "language": "python",
            "name": "python"
        },
        "language_info": {
            "name": "python"
        }
    },
    "cells": [
        {
            "id": "06e21409",
            "cell_type": "markdown",
            "source": "<div class='alert alert-warning'>\n\nSciPy's interactive examples with Jupyterlite are experimental and may not always work as expected. Execution of cells containing imports may result in large downloads (up to 60MB of content for the first import from SciPy). Load times when importing from SciPy may take roughly 10-20 seconds. If you notice any problems, feel free to open an [issue](https://github.com/scipy/scipy/issues/new/choose).\n\n</div>",
            "metadata": {}
        },
        {
            "id": "bd7f0e3e",
            "cell_type": "markdown",
            "source": "Find the directed Hausdorff distance between two 2-D arrays of\ncoordinates:\n",
            "metadata": {}
        },
        {
            "id": "175ce3fa",
            "cell_type": "code",
            "metadata": {},
            "execution_count": null,
            "source": "from scipy.spatial.distance import directed_hausdorff\nimport numpy as np\nu = np.array([(1.0, 0.0),\n              (0.0, 1.0),\n              (-1.0, 0.0),\n              (0.0, -1.0)])\nv = np.array([(2.0, 0.0),\n              (0.0, 2.0),\n              (-2.0, 0.0),\n              (0.0, -4.0)])",
            "outputs": []
        },
        {
            "id": "74635e20",
            "cell_type": "code",
            "metadata": {},
            "execution_count": null,
            "source": "directed_hausdorff(u, v)[0]",
            "outputs": [
                {
                    "output_type": "execute_result",
                    "metadata": {},
                    "data": {
                        "text/plain": "2.23606797749979"
                    },
                    "execution_count": null
                }
            ]
        },
        {
            "id": "de59fcdc",
            "cell_type": "code",
            "metadata": {},
            "execution_count": null,
            "source": "directed_hausdorff(v, u)[0]",
            "outputs": [
                {
                    "output_type": "execute_result",
                    "metadata": {},
                    "data": {
                        "text/plain": "3.0"
                    },
                    "execution_count": null
                }
            ]
        },
        {
            "id": "919587a1",
            "cell_type": "markdown",
            "source": "Find the general (symmetric) Hausdorff distance between two 2-D\narrays of coordinates:\n",
            "metadata": {}
        },
        {
            "id": "b639a1d7",
            "cell_type": "code",
            "metadata": {},
            "execution_count": null,
            "source": "max(directed_hausdorff(u, v)[0], directed_hausdorff(v, u)[0])",
            "outputs": [
                {
                    "output_type": "execute_result",
                    "metadata": {},
                    "data": {
                        "text/plain": "3.0"
                    },
                    "execution_count": null
                }
            ]
        },
        {
            "id": "416b4c85",
            "cell_type": "markdown",
            "source": "Find the indices of the points that generate the Hausdorff distance\n(the Hausdorff pair):\n",
            "metadata": {}
        },
        {
            "id": "15df9b23",
            "cell_type": "code",
            "metadata": {},
            "execution_count": null,
            "source": "directed_hausdorff(v, u)[1:]",
            "outputs": [
                {
                    "output_type": "execute_result",
                    "metadata": {},
                    "data": {
                        "text/plain": "(3, 3)"
                    },
                    "execution_count": null
                }
            ]
        }
    ]
}