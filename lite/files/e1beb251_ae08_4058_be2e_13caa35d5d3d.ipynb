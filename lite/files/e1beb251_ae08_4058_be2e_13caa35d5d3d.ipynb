{
    "nbformat": 4,
    "nbformat_minor": 5,
    "metadata": {
        "kernelspec": {
            "display_name": "Python",
            "language": "python",
            "name": "python"
        },
        "language_info": {
            "name": "python"
        }
    },
    "cells": [
        {
            "id": "211436f1",
            "cell_type": "markdown",
            "source": "<div class='alert alert-warning'>\n\nSciPy's interactive examples with Jupyterlite are experimental and may not always work as expected. Execution of cells containing imports may result in large downloads (up to 60MB of content for the first import from SciPy). Load times when importing from SciPy may take roughly 10-20 seconds. If you notice any problems, feel free to open an [issue](https://github.com/scipy/scipy/issues/new/choose).\n\n</div>",
            "metadata": {}
        },
        {
            "id": "5850cd22",
            "cell_type": "code",
            "metadata": {},
            "execution_count": null,
            "source": "from scipy.stats.mstats import trima\nimport numpy as np",
            "outputs": []
        },
        {
            "id": "3401333b",
            "cell_type": "code",
            "metadata": {},
            "execution_count": null,
            "source": "a = np.arange(10)",
            "outputs": []
        },
        {
            "id": "ae99301c",
            "cell_type": "markdown",
            "source": "The interval is left-closed and right-open, i.e., `[2, 8)`.\nTrim the array by keeping only values in the interval.\n",
            "metadata": {}
        },
        {
            "id": "1a6ff8e5",
            "cell_type": "code",
            "metadata": {},
            "execution_count": null,
            "source": "trima(a, limits=(2, 8), inclusive=(True, False))",
            "outputs": [
                {
                    "output_type": "execute_result",
                    "metadata": {},
                    "data": {
                        "text/plain": "masked_array(data=[--, --, 2, 3, 4, 5, 6, 7, --, --],\n             mask=[ True,  True, False, False, False, False, False, False,\n                    True,  True],\n       fill_value=999999)"
                    },
                    "execution_count": null
                }
            ]
        }
    ]
}