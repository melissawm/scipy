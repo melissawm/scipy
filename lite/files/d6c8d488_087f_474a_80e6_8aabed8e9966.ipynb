{
    "nbformat": 4,
    "nbformat_minor": 5,
    "metadata": {
        "kernelspec": {
            "display_name": "Python",
            "language": "python",
            "name": "python"
        },
        "language_info": {
            "name": "python"
        }
    },
    "cells": [
        {
            "id": "a18816b2",
            "cell_type": "markdown",
            "source": "<div class='alert alert-warning'>\n\nSciPy's interactive examples with Jupyterlite are experimental and may not always work as expected. Execution of cells containing imports may result in large downloads (up to 60MB of content for the first import from SciPy). Load times when importing from SciPy may take roughly 10-20 seconds. If you notice any problems, feel free to open an [issue](https://github.com/scipy/scipy/issues/new/choose).\n\n</div>",
            "metadata": {}
        },
        {
            "id": "054efdda",
            "cell_type": "code",
            "metadata": {},
            "execution_count": null,
            "source": "import numpy as np\nfrom scipy.stats import zipfian\nimport matplotlib.pyplot as plt\nfig, ax = plt.subplots(1, 1)",
            "outputs": []
        },
        {
            "id": "418161f1",
            "cell_type": "markdown",
            "source": "Calculate the first four moments:\n",
            "metadata": {}
        },
        {
            "id": "ba84897d",
            "cell_type": "code",
            "metadata": {},
            "execution_count": null,
            "source": "a, n = 1.25, 10\nmean, var, skew, kurt = zipfian.stats(a, n, moments='mvsk')",
            "outputs": []
        },
        {
            "id": "bb3427b7",
            "cell_type": "markdown",
            "source": "Display the probability mass function (``pmf``):\n",
            "metadata": {}
        },
        {
            "id": "11836ac3",
            "cell_type": "code",
            "metadata": {},
            "execution_count": null,
            "source": "x = np.arange(zipfian.ppf(0.01, a, n),\n              zipfian.ppf(0.99, a, n))\nax.plot(x, zipfian.pmf(x, a, n), 'bo', ms=8, label='zipfian pmf')\nax.vlines(x, 0, zipfian.pmf(x, a, n), colors='b', lw=5, alpha=0.5)",
            "outputs": []
        },
        {
            "id": "63a604b9",
            "cell_type": "markdown",
            "source": "Alternatively, the distribution object can be called (as a function)\nto fix the shape and location. This returns a \"frozen\" RV object holding\nthe given parameters fixed.\n\nFreeze the distribution and display the frozen ``pmf``:\n",
            "metadata": {}
        },
        {
            "id": "216e2a18",
            "cell_type": "code",
            "metadata": {},
            "execution_count": null,
            "source": "rv = zipfian(a, n)\nax.vlines(x, 0, rv.pmf(x), colors='k', linestyles='-', lw=1,\n        label='frozen pmf')\nax.legend(loc='best', frameon=False)\nplt.show()",
            "outputs": []
        },
        {
            "id": "bc6ae683",
            "cell_type": "markdown",
            "source": "Check accuracy of ``cdf`` and ``ppf``:\n",
            "metadata": {}
        },
        {
            "id": "80f7221a",
            "cell_type": "code",
            "metadata": {},
            "execution_count": null,
            "source": "prob = zipfian.cdf(x, a, n)\nnp.allclose(x, zipfian.ppf(prob, a, n))",
            "outputs": [
                {
                    "output_type": "execute_result",
                    "metadata": {},
                    "data": {
                        "text/plain": "True"
                    },
                    "execution_count": null
                }
            ]
        },
        {
            "id": "2dfc6acb",
            "cell_type": "markdown",
            "source": "Generate random numbers:\n",
            "metadata": {}
        },
        {
            "id": "f819fdf1",
            "cell_type": "code",
            "metadata": {},
            "execution_count": null,
            "source": "r = zipfian.rvs(a, n, size=1000)",
            "outputs": []
        },
        {
            "id": "0da95e29",
            "cell_type": "markdown",
            "source": "Confirm that `zipfian` reduces to `zipf` for large `n`, `a > 1`.\n",
            "metadata": {}
        },
        {
            "id": "4090e8be",
            "cell_type": "code",
            "metadata": {},
            "execution_count": null,
            "source": "import numpy as np\nfrom scipy.stats import zipf, zipfian\nk = np.arange(11)\nnp.allclose(zipfian.pmf(k, a=3.5, n=10000000), zipf.pmf(k, a=3.5))",
            "outputs": [
                {
                    "output_type": "execute_result",
                    "metadata": {},
                    "data": {
                        "text/plain": "True"
                    },
                    "execution_count": null
                }
            ]
        }
    ]
}