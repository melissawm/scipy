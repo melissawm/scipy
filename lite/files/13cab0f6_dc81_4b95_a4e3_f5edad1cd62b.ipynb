{
    "nbformat": 4,
    "nbformat_minor": 5,
    "metadata": {
        "kernelspec": {
            "display_name": "Python",
            "language": "python",
            "name": "python"
        },
        "language_info": {
            "name": "python"
        }
    },
    "cells": [
        {
            "id": "57063a7c",
            "cell_type": "markdown",
            "source": "<div class='alert alert-warning'>\n\nSciPy's interactive examples with Jupyterlite are experimental and may not always work as expected. Execution of cells containing imports may result in large downloads (up to 60MB of content for the first import from SciPy). Load times when importing from SciPy may take roughly 10-20 seconds. If you notice any problems, feel free to open an [issue](https://github.com/scipy/scipy/issues/new/choose).\n\n</div>",
            "metadata": {}
        },
        {
            "id": "f1cebf7c",
            "cell_type": "code",
            "metadata": {},
            "execution_count": null,
            "source": "import numpy as np\nfrom scipy.stats import levy_l\nimport matplotlib.pyplot as plt\nfig, ax = plt.subplots(1, 1)",
            "outputs": []
        },
        {
            "id": "402bd8d4",
            "cell_type": "markdown",
            "source": "Calculate the first four moments:\n",
            "metadata": {}
        },
        {
            "id": "ff0b4aab",
            "cell_type": "code",
            "metadata": {},
            "execution_count": null,
            "source": "mean, var, skew, kurt = levy_l.stats(moments='mvsk')",
            "outputs": []
        },
        {
            "id": "006cf48d",
            "cell_type": "markdown",
            "source": "Display the probability density function (``pdf``):\n",
            "metadata": {}
        },
        {
            "id": "7a4b4f2d",
            "cell_type": "code",
            "metadata": {},
            "execution_count": null,
            "source": "# `levy_l` is very heavy-tailed.\n# To show a nice plot, let's cut off the lower 40 percent.\na, b = levy_l.ppf(0.4), levy_l.ppf(1)\nx = np.linspace(a, b, 100)\nax.plot(x, levy_l.pdf(x),\n       'r-', lw=5, alpha=0.6, label='levy_l pdf')",
            "outputs": []
        },
        {
            "id": "c886c368",
            "cell_type": "markdown",
            "source": "Alternatively, the distribution object can be called (as a function)\nto fix the shape, location and scale parameters. This returns a \"frozen\"\nRV object holding the given parameters fixed.\n\nFreeze the distribution and display the frozen ``pdf``:\n",
            "metadata": {}
        },
        {
            "id": "4ec169a1",
            "cell_type": "code",
            "metadata": {},
            "execution_count": null,
            "source": "rv = levy_l()\nax.plot(x, rv.pdf(x), 'k-', lw=2, label='frozen pdf')",
            "outputs": []
        },
        {
            "id": "f02d75d1",
            "cell_type": "markdown",
            "source": "Check accuracy of ``cdf`` and ``ppf``:\n",
            "metadata": {}
        },
        {
            "id": "fb11e802",
            "cell_type": "code",
            "metadata": {},
            "execution_count": null,
            "source": "vals = levy_l.ppf([0.001, 0.5, 0.999])\nnp.allclose([0.001, 0.5, 0.999], levy_l.cdf(vals))",
            "outputs": [
                {
                    "output_type": "execute_result",
                    "metadata": {},
                    "data": {
                        "text/plain": "True"
                    },
                    "execution_count": null
                }
            ]
        },
        {
            "id": "4dd8d59b",
            "cell_type": "markdown",
            "source": "Generate random numbers:\n",
            "metadata": {}
        },
        {
            "id": "4e03fb03",
            "cell_type": "code",
            "metadata": {},
            "execution_count": null,
            "source": "r = levy_l.rvs(size=1000)",
            "outputs": []
        },
        {
            "id": "334bdd2d",
            "cell_type": "markdown",
            "source": "And compare the histogram:\n",
            "metadata": {}
        },
        {
            "id": "a2210a05",
            "cell_type": "code",
            "metadata": {},
            "execution_count": null,
            "source": "# manual binning to ignore the tail\nbins = np.concatenate(([np.min(r)], np.linspace(a, b, 20)))\nax.hist(r, bins=bins, density=True, histtype='stepfilled', alpha=0.2)\nax.set_xlim([x[0], x[-1]])\nax.legend(loc='best', frameon=False)\nplt.show()",
            "outputs": []
        }
    ]
}