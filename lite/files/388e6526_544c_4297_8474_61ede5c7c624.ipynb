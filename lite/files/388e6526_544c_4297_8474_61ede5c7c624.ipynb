{
    "nbformat": 4,
    "nbformat_minor": 5,
    "metadata": {
        "kernelspec": {
            "display_name": "Python",
            "language": "python",
            "name": "python"
        },
        "language_info": {
            "name": "python"
        }
    },
    "cells": [
        {
            "id": "708d436a",
            "cell_type": "markdown",
            "source": "<div class='alert alert-warning'>\n\nSciPy's interactive examples with Jupyterlite are experimental and may not always work as expected. Execution of cells containing imports may result in large downloads (up to 60MB of content for the first import from SciPy). Load times when importing from SciPy may take roughly 10-20 seconds. If you notice any problems, feel free to open an [issue](https://github.com/scipy/scipy/issues/new/choose).\n\n</div>",
            "metadata": {}
        },
        {
            "id": "6fe58123",
            "cell_type": "code",
            "metadata": {},
            "execution_count": null,
            "source": "from scipy.stats import dirichlet_multinomial",
            "outputs": []
        },
        {
            "id": "f9d6f593",
            "cell_type": "markdown",
            "source": "Get the PMF\n",
            "metadata": {}
        },
        {
            "id": "4206ee4f",
            "cell_type": "code",
            "metadata": {},
            "execution_count": null,
            "source": "n = 6  # number of trials\nalpha = [3, 4, 5]  # concentration parameters\nx = [1, 2, 3]  # counts\ndirichlet_multinomial.pmf(x, alpha, n)",
            "outputs": [
                {
                    "output_type": "execute_result",
                    "metadata": {},
                    "data": {
                        "text/plain": "0.08484162895927604"
                    },
                    "execution_count": null
                }
            ]
        },
        {
            "id": "5437f649",
            "cell_type": "markdown",
            "source": "If the sum of category counts does not equal the number of trials,\nthe probability mass is zero.\n",
            "metadata": {}
        },
        {
            "id": "19e4b565",
            "cell_type": "code",
            "metadata": {},
            "execution_count": null,
            "source": "dirichlet_multinomial.pmf(x, alpha, n=7)",
            "outputs": [
                {
                    "output_type": "execute_result",
                    "metadata": {},
                    "data": {
                        "text/plain": "0.0"
                    },
                    "execution_count": null
                }
            ]
        },
        {
            "id": "223001ea",
            "cell_type": "markdown",
            "source": "Get the log of the PMF\n",
            "metadata": {}
        },
        {
            "id": "dc641447",
            "cell_type": "code",
            "metadata": {},
            "execution_count": null,
            "source": "dirichlet_multinomial.logpmf(x, alpha, n)",
            "outputs": [
                {
                    "output_type": "execute_result",
                    "metadata": {},
                    "data": {
                        "text/plain": "-2.4669689491013327"
                    },
                    "execution_count": null
                }
            ]
        },
        {
            "id": "0443937f",
            "cell_type": "markdown",
            "source": "Get the mean\n",
            "metadata": {}
        },
        {
            "id": "422da8af",
            "cell_type": "code",
            "metadata": {},
            "execution_count": null,
            "source": "dirichlet_multinomial.mean(alpha, n)",
            "outputs": [
                {
                    "output_type": "execute_result",
                    "metadata": {},
                    "data": {
                        "text/plain": "array([1.5, 2. , 2.5])"
                    },
                    "execution_count": null
                }
            ]
        },
        {
            "id": "ff94bc22",
            "cell_type": "markdown",
            "source": "Get the variance\n",
            "metadata": {}
        },
        {
            "id": "b6c00c04",
            "cell_type": "code",
            "metadata": {},
            "execution_count": null,
            "source": "dirichlet_multinomial.var(alpha, n)",
            "outputs": [
                {
                    "output_type": "execute_result",
                    "metadata": {},
                    "data": {
                        "text/plain": "array([1.55769231, 1.84615385, 2.01923077])"
                    },
                    "execution_count": null
                }
            ]
        },
        {
            "id": "4ccd8ed2",
            "cell_type": "markdown",
            "source": "Get the covariance\n",
            "metadata": {}
        },
        {
            "id": "d83c0ea8",
            "cell_type": "code",
            "metadata": {},
            "execution_count": null,
            "source": "dirichlet_multinomial.cov(alpha, n)",
            "outputs": [
                {
                    "output_type": "execute_result",
                    "metadata": {},
                    "data": {
                        "text/plain": "array([[ 1.55769231, -0.69230769, -0.86538462],\n       [-0.69230769,  1.84615385, -1.15384615],\n       [-0.86538462, -1.15384615,  2.01923077]])"
                    },
                    "execution_count": null
                }
            ]
        },
        {
            "id": "0afa6052",
            "cell_type": "markdown",
            "source": "Alternatively, the object may be called (as a function) to fix the\n`alpha` and `n` parameters, returning a \"frozen\" Dirichlet multinomial\nrandom variable.\n",
            "metadata": {}
        },
        {
            "id": "17e50d9b",
            "cell_type": "code",
            "metadata": {},
            "execution_count": null,
            "source": "dm = dirichlet_multinomial(alpha, n)\ndm.pmf(x)",
            "outputs": [
                {
                    "output_type": "execute_result",
                    "metadata": {},
                    "data": {
                        "text/plain": "0.08484162895927579"
                    },
                    "execution_count": null
                }
            ]
        },
        {
            "id": "f5e1120b",
            "cell_type": "markdown",
            "source": "All methods are fully vectorized. Each element of `x` and `alpha` is\na vector (along the last axis), each element of `n` is an\ninteger (scalar), and the result is computed element-wise.\n",
            "metadata": {}
        },
        {
            "id": "7e581233",
            "cell_type": "code",
            "metadata": {},
            "execution_count": null,
            "source": "x = [[1, 2, 3], [4, 5, 6]]\nalpha = [[1, 2, 3], [4, 5, 6]]\nn = [6, 15]\ndirichlet_multinomial.pmf(x, alpha, n)",
            "outputs": [
                {
                    "output_type": "execute_result",
                    "metadata": {},
                    "data": {
                        "text/plain": "array([0.06493506, 0.02626937])"
                    },
                    "execution_count": null
                }
            ]
        },
        {
            "id": "55aad42e",
            "cell_type": "code",
            "metadata": {},
            "execution_count": null,
            "source": "dirichlet_multinomial.cov(alpha, n).shape  # both covariance matrices",
            "outputs": [
                {
                    "output_type": "execute_result",
                    "metadata": {},
                    "data": {
                        "text/plain": "(2, 3, 3)"
                    },
                    "execution_count": null
                }
            ]
        },
        {
            "id": "d17ac33e",
            "cell_type": "markdown",
            "source": "Broadcasting according to standard NumPy conventions is supported. Here,\nwe have four sets of concentration parameters (each a two element vector)\nfor each of three numbers of trials (each a scalar).\n",
            "metadata": {}
        },
        {
            "id": "220e7b52",
            "cell_type": "code",
            "metadata": {},
            "execution_count": null,
            "source": "alpha = [[3, 4], [4, 5], [5, 6], [6, 7]]\nn = [[6], [7], [8]]\ndirichlet_multinomial.mean(alpha, n).shape",
            "outputs": [
                {
                    "output_type": "execute_result",
                    "metadata": {},
                    "data": {
                        "text/plain": "(3, 4, 2)"
                    },
                    "execution_count": null
                }
            ]
        }
    ]
}