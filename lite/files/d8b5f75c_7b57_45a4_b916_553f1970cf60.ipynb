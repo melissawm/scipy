{
    "nbformat": 4,
    "nbformat_minor": 5,
    "metadata": {
        "kernelspec": {
            "display_name": "Python",
            "language": "python",
            "name": "python"
        },
        "language_info": {
            "name": "python"
        }
    },
    "cells": [
        {
            "id": "0abc244f",
            "cell_type": "markdown",
            "source": "<div class='alert alert-warning'>\n\nSciPy's interactive examples with Jupyterlite are experimental and may not always work as expected. Execution of cells containing imports may result in large downloads (up to 60MB of content for the first import from SciPy). Load times when importing from SciPy may take roughly 10-20 seconds. If you notice any problems, feel free to open an [issue](https://github.com/scipy/scipy/issues/new/choose).\n\n</div>",
            "metadata": {}
        },
        {
            "id": "d0e096ec",
            "cell_type": "code",
            "metadata": {},
            "execution_count": null,
            "source": "import numpy as np\nfrom scipy import stats\nx = [1, 2, 3, 5]\nstats.trim_mean(x, 0.25)",
            "outputs": [
                {
                    "output_type": "execute_result",
                    "metadata": {},
                    "data": {
                        "text/plain": "2.5"
                    },
                    "execution_count": null
                }
            ]
        },
        {
            "id": "fe2c33d9",
            "cell_type": "markdown",
            "source": "When the specified proportion does not result in an integer number of\nelements, the number of elements to trim is rounded down.\n",
            "metadata": {}
        },
        {
            "id": "cd5ea3e1",
            "cell_type": "code",
            "metadata": {},
            "execution_count": null,
            "source": "stats.trim_mean(x, 0.24999) == np.mean(x)",
            "outputs": [
                {
                    "output_type": "execute_result",
                    "metadata": {},
                    "data": {
                        "text/plain": "True"
                    },
                    "execution_count": null
                }
            ]
        },
        {
            "id": "4b077848",
            "cell_type": "markdown",
            "source": "Use `axis` to specify the axis along which the calculation is performed.\n",
            "metadata": {}
        },
        {
            "id": "1c5c3321",
            "cell_type": "code",
            "metadata": {},
            "execution_count": null,
            "source": "x2 = [[1, 2, 3, 5],\n      [10, 20, 30, 50]]\nstats.trim_mean(x2, 0.25)",
            "outputs": [
                {
                    "output_type": "execute_result",
                    "metadata": {},
                    "data": {
                        "text/plain": "array([ 5.5, 11. , 16.5, 27.5])"
                    },
                    "execution_count": null
                }
            ]
        },
        {
            "id": "5b9a5b8e",
            "cell_type": "code",
            "metadata": {},
            "execution_count": null,
            "source": "stats.trim_mean(x2, 0.25, axis=1)",
            "outputs": [
                {
                    "output_type": "execute_result",
                    "metadata": {},
                    "data": {
                        "text/plain": "array([ 2.5, 25. ])"
                    },
                    "execution_count": null
                }
            ]
        }
    ]
}