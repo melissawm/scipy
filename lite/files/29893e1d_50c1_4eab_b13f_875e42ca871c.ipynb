{
    "nbformat": 4,
    "nbformat_minor": 5,
    "metadata": {
        "kernelspec": {
            "display_name": "Python",
            "language": "python",
            "name": "python"
        },
        "language_info": {
            "name": "python"
        }
    },
    "cells": [
        {
            "id": "713bf790",
            "cell_type": "markdown",
            "source": "<div class='alert alert-warning'>\n\nSciPy's interactive examples with Jupyterlite are experimental and may not always work as expected. Execution of cells containing imports may result in large downloads (up to 60MB of content for the first import from SciPy). Load times when importing from SciPy may take roughly 10-20 seconds. If you notice any problems, feel free to open an [issue](https://github.com/scipy/scipy/issues/new/choose).\n\n</div>",
            "metadata": {}
        },
        {
            "id": "45005d30",
            "cell_type": "code",
            "metadata": {},
            "execution_count": null,
            "source": "from scipy import ndimage\nimport numpy as np\na = np.arange(12.).reshape((4, 3))\na",
            "outputs": [
                {
                    "output_type": "execute_result",
                    "metadata": {},
                    "data": {
                        "text/plain": "array([[  0.,   1.,   2.],\n       [  3.,   4.,   5.],\n       [  6.,   7.,   8.],\n       [  9.,  10.,  11.]])"
                    },
                    "execution_count": null
                }
            ]
        },
        {
            "id": "243209f7",
            "cell_type": "code",
            "metadata": {},
            "execution_count": null,
            "source": "ndimage.map_coordinates(a, [[0.5, 2], [0.5, 1]], order=1)",
            "outputs": [
                {
                    "output_type": "execute_result",
                    "metadata": {},
                    "data": {
                        "text/plain": "array([ 2.,  7.])"
                    },
                    "execution_count": null
                }
            ]
        },
        {
            "id": "25c7a746",
            "cell_type": "markdown",
            "source": "Above, the interpolated value of a[0.5, 0.5] gives output[0], while\na[2, 1] is output[1].\n",
            "metadata": {}
        },
        {
            "id": "c8901549",
            "cell_type": "code",
            "metadata": {},
            "execution_count": null,
            "source": "inds = np.array([[0.5, 2], [0.5, 4]])\nndimage.map_coordinates(a, inds, order=1, cval=-33.3)",
            "outputs": [
                {
                    "output_type": "execute_result",
                    "metadata": {},
                    "data": {
                        "text/plain": "array([  2. , -33.3])"
                    },
                    "execution_count": null
                }
            ]
        },
        {
            "id": "7deee112",
            "cell_type": "code",
            "metadata": {},
            "execution_count": null,
            "source": "ndimage.map_coordinates(a, inds, order=1, mode='nearest')",
            "outputs": [
                {
                    "output_type": "execute_result",
                    "metadata": {},
                    "data": {
                        "text/plain": "array([ 2.,  8.])"
                    },
                    "execution_count": null
                }
            ]
        },
        {
            "id": "8c3028c8",
            "cell_type": "code",
            "metadata": {},
            "execution_count": null,
            "source": "ndimage.map_coordinates(a, inds, order=1, cval=0, output=bool)",
            "outputs": [
                {
                    "output_type": "execute_result",
                    "metadata": {},
                    "data": {
                        "text/plain": "array([ True, False], dtype=bool)"
                    },
                    "execution_count": null
                }
            ]
        }
    ]
}