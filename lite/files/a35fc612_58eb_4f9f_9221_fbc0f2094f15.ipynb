{
    "nbformat": 4,
    "nbformat_minor": 5,
    "metadata": {
        "kernelspec": {
            "display_name": "Python",
            "language": "python",
            "name": "python"
        },
        "language_info": {
            "name": "python"
        }
    },
    "cells": [
        {
            "id": "bb9912a6",
            "cell_type": "markdown",
            "source": "<div class='alert alert-warning'>\n\nSciPy's interactive examples with Jupyterlite are experimental and may not always work as expected. Execution of cells containing imports may result in large downloads (up to 60MB of content for the first import from SciPy). Load times when importing from SciPy may take roughly 10-20 seconds. If you notice any problems, feel free to open an [issue](https://github.com/scipy/scipy/issues/new/choose).\n\n</div>",
            "metadata": {}
        },
        {
            "id": "2757902b",
            "cell_type": "code",
            "metadata": {},
            "execution_count": null,
            "source": "import numpy as np\nfrom scipy import stats\nimport matplotlib.pyplot as plt\nnsample = 100\nrng = np.random.default_rng()",
            "outputs": []
        },
        {
            "id": "4af71586",
            "cell_type": "markdown",
            "source": "A t distribution with small degrees of freedom:\n",
            "metadata": {}
        },
        {
            "id": "22ff2152",
            "cell_type": "code",
            "metadata": {},
            "execution_count": null,
            "source": "ax1 = plt.subplot(221)\nx = stats.t.rvs(3, size=nsample, random_state=rng)\nres = stats.probplot(x, plot=plt)",
            "outputs": []
        },
        {
            "id": "5d5f691b",
            "cell_type": "markdown",
            "source": "A t distribution with larger degrees of freedom:\n",
            "metadata": {}
        },
        {
            "id": "a2db29eb",
            "cell_type": "code",
            "metadata": {},
            "execution_count": null,
            "source": "ax2 = plt.subplot(222)\nx = stats.t.rvs(25, size=nsample, random_state=rng)\nres = stats.probplot(x, plot=plt)",
            "outputs": []
        },
        {
            "id": "8d9505c9",
            "cell_type": "markdown",
            "source": "A mixture of two normal distributions with broadcasting:\n",
            "metadata": {}
        },
        {
            "id": "f94c97d4",
            "cell_type": "code",
            "metadata": {},
            "execution_count": null,
            "source": "ax3 = plt.subplot(223)\nx = stats.norm.rvs(loc=[0,5], scale=[1,1.5],\n                   size=(nsample//2,2), random_state=rng).ravel()\nres = stats.probplot(x, plot=plt)",
            "outputs": []
        },
        {
            "id": "2312dd1d",
            "cell_type": "markdown",
            "source": "A standard normal distribution:\n",
            "metadata": {}
        },
        {
            "id": "37d85aaf",
            "cell_type": "code",
            "metadata": {},
            "execution_count": null,
            "source": "ax4 = plt.subplot(224)\nx = stats.norm.rvs(loc=0, scale=1, size=nsample, random_state=rng)\nres = stats.probplot(x, plot=plt)",
            "outputs": []
        },
        {
            "id": "1d76f733",
            "cell_type": "markdown",
            "source": "Produce a new figure with a loggamma distribution, using the ``dist`` and\n``sparams`` keywords:\n",
            "metadata": {}
        },
        {
            "id": "a4751bf1",
            "cell_type": "code",
            "metadata": {},
            "execution_count": null,
            "source": "fig = plt.figure()\nax = fig.add_subplot(111)\nx = stats.loggamma.rvs(c=2.5, size=500, random_state=rng)\nres = stats.probplot(x, dist=stats.loggamma, sparams=(2.5,), plot=ax)\nax.set_title(\"Probplot for loggamma dist with shape parameter 2.5\")",
            "outputs": []
        },
        {
            "id": "73ebbfc8",
            "cell_type": "markdown",
            "source": "Show the results with Matplotlib:\n",
            "metadata": {}
        },
        {
            "id": "ce1774b4",
            "cell_type": "code",
            "metadata": {},
            "execution_count": null,
            "source": "plt.show()",
            "outputs": []
        }
    ]
}