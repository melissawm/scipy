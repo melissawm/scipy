{
    "nbformat": 4,
    "nbformat_minor": 5,
    "metadata": {
        "kernelspec": {
            "display_name": "Python",
            "language": "python",
            "name": "python"
        },
        "language_info": {
            "name": "python"
        }
    },
    "cells": [
        {
            "id": "3908a307",
            "cell_type": "markdown",
            "source": "<div class='alert alert-warning'>\n\nSciPy's interactive examples with Jupyterlite are experimental and may not always work as expected. Execution of cells containing imports may result in large downloads (up to 60MB of content for the first import from SciPy). Load times when importing from SciPy may take roughly 10-20 seconds. If you notice any problems, feel free to open an [issue](https://github.com/scipy/scipy/issues/new/choose).\n\n</div>",
            "metadata": {}
        },
        {
            "id": "e0f7a00e",
            "cell_type": "code",
            "metadata": {},
            "execution_count": null,
            "source": "from scipy.cluster.hierarchy import DisjointSet",
            "outputs": []
        },
        {
            "id": "628a7adf",
            "cell_type": "markdown",
            "source": "Initialize a disjoint set:\n",
            "metadata": {}
        },
        {
            "id": "6c819f6e",
            "cell_type": "code",
            "metadata": {},
            "execution_count": null,
            "source": "disjoint_set = DisjointSet([1, 2, 3, 'a', 'b'])",
            "outputs": []
        },
        {
            "id": "e433653b",
            "cell_type": "markdown",
            "source": "Merge some subsets:\n",
            "metadata": {}
        },
        {
            "id": "71fc1794",
            "cell_type": "code",
            "metadata": {},
            "execution_count": null,
            "source": "disjoint_set.merge(1, 2)",
            "outputs": [
                {
                    "output_type": "execute_result",
                    "metadata": {},
                    "data": {
                        "text/plain": "True"
                    },
                    "execution_count": null
                }
            ]
        },
        {
            "id": "b1b46a35",
            "cell_type": "code",
            "metadata": {},
            "execution_count": null,
            "source": "disjoint_set.merge(3, 'a')",
            "outputs": [
                {
                    "output_type": "execute_result",
                    "metadata": {},
                    "data": {
                        "text/plain": "True"
                    },
                    "execution_count": null
                }
            ]
        },
        {
            "id": "dbfb9057",
            "cell_type": "code",
            "metadata": {},
            "execution_count": null,
            "source": "disjoint_set.merge('a', 'b')",
            "outputs": [
                {
                    "output_type": "execute_result",
                    "metadata": {},
                    "data": {
                        "text/plain": "True"
                    },
                    "execution_count": null
                }
            ]
        },
        {
            "id": "4364ee11",
            "cell_type": "code",
            "metadata": {},
            "execution_count": null,
            "source": "disjoint_set.merge('b', 'b')",
            "outputs": [
                {
                    "output_type": "execute_result",
                    "metadata": {},
                    "data": {
                        "text/plain": "False"
                    },
                    "execution_count": null
                }
            ]
        },
        {
            "id": "6156ddf7",
            "cell_type": "markdown",
            "source": "Find root elements:\n",
            "metadata": {}
        },
        {
            "id": "50acc1d4",
            "cell_type": "code",
            "metadata": {},
            "execution_count": null,
            "source": "disjoint_set[2]",
            "outputs": [
                {
                    "output_type": "execute_result",
                    "metadata": {},
                    "data": {
                        "text/plain": "1"
                    },
                    "execution_count": null
                }
            ]
        },
        {
            "id": "b465d627",
            "cell_type": "code",
            "metadata": {},
            "execution_count": null,
            "source": "disjoint_set['b']",
            "outputs": [
                {
                    "output_type": "execute_result",
                    "metadata": {},
                    "data": {
                        "text/plain": "3"
                    },
                    "execution_count": null
                }
            ]
        },
        {
            "id": "bc34b2bd",
            "cell_type": "markdown",
            "source": "Test connectivity:\n",
            "metadata": {}
        },
        {
            "id": "e0b7ee25",
            "cell_type": "code",
            "metadata": {},
            "execution_count": null,
            "source": "disjoint_set.connected(1, 2)",
            "outputs": [
                {
                    "output_type": "execute_result",
                    "metadata": {},
                    "data": {
                        "text/plain": "True"
                    },
                    "execution_count": null
                }
            ]
        },
        {
            "id": "828de042",
            "cell_type": "code",
            "metadata": {},
            "execution_count": null,
            "source": "disjoint_set.connected(1, 'b')",
            "outputs": [
                {
                    "output_type": "execute_result",
                    "metadata": {},
                    "data": {
                        "text/plain": "False"
                    },
                    "execution_count": null
                }
            ]
        },
        {
            "id": "036b6e4c",
            "cell_type": "markdown",
            "source": "List elements in disjoint set:\n",
            "metadata": {}
        },
        {
            "id": "1fc4f2e4",
            "cell_type": "code",
            "metadata": {},
            "execution_count": null,
            "source": "list(disjoint_set)",
            "outputs": [
                {
                    "output_type": "execute_result",
                    "metadata": {},
                    "data": {
                        "text/plain": "[1, 2, 3, 'a', 'b']"
                    },
                    "execution_count": null
                }
            ]
        },
        {
            "id": "c7c1a39f",
            "cell_type": "markdown",
            "source": "Get the subset containing 'a':\n",
            "metadata": {}
        },
        {
            "id": "ce4174da",
            "cell_type": "code",
            "metadata": {},
            "execution_count": null,
            "source": "disjoint_set.subset('a')",
            "outputs": [
                {
                    "output_type": "execute_result",
                    "metadata": {},
                    "data": {
                        "text/plain": "{'a', 3, 'b'}"
                    },
                    "execution_count": null
                }
            ]
        },
        {
            "id": "372c6fb7",
            "cell_type": "markdown",
            "source": "Get the size of the subset containing 'a' (without actually instantiating\nthe subset):\n",
            "metadata": {}
        },
        {
            "id": "39a3cea6",
            "cell_type": "code",
            "metadata": {},
            "execution_count": null,
            "source": "disjoint_set.subset_size('a')",
            "outputs": [
                {
                    "output_type": "execute_result",
                    "metadata": {},
                    "data": {
                        "text/plain": "3"
                    },
                    "execution_count": null
                }
            ]
        },
        {
            "id": "d60e7761",
            "cell_type": "markdown",
            "source": "Get all subsets in the disjoint set:\n",
            "metadata": {}
        },
        {
            "id": "8d899e73",
            "cell_type": "code",
            "metadata": {},
            "execution_count": null,
            "source": "disjoint_set.subsets()",
            "outputs": [
                {
                    "output_type": "execute_result",
                    "metadata": {},
                    "data": {
                        "text/plain": "[{1, 2}, {'a', 3, 'b'}]"
                    },
                    "execution_count": null
                }
            ]
        }
    ]
}