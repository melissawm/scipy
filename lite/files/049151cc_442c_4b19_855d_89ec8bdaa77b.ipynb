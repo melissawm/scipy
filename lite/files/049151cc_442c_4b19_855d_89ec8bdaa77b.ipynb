{
    "nbformat": 4,
    "nbformat_minor": 5,
    "metadata": {
        "kernelspec": {
            "display_name": "Python",
            "language": "python",
            "name": "python"
        },
        "language_info": {
            "name": "python"
        }
    },
    "cells": [
        {
            "id": "49b32eb4",
            "cell_type": "markdown",
            "source": "<div class='alert alert-warning'>\n\nSciPy's interactive examples with Jupyterlite are experimental and may not always work as expected. Execution of cells containing imports may result in large downloads (up to 60MB of content for the first import from SciPy). Load times when importing from SciPy may take roughly 10-20 seconds. If you notice any problems, feel free to open an [issue](https://github.com/scipy/scipy/issues/new/choose).\n\n</div>",
            "metadata": {}
        },
        {
            "id": "f0531021",
            "cell_type": "code",
            "metadata": {},
            "execution_count": null,
            "source": "import numpy as np\nimport matplotlib.pyplot as plt\nfrom scipy import optimize",
            "outputs": []
        },
        {
            "id": "c26baeae",
            "cell_type": "code",
            "metadata": {},
            "execution_count": null,
            "source": "def f(x):\n    return (x**3 - 1)  # only one real root at x = 1",
            "outputs": []
        },
        {
            "id": "2cd82ef0",
            "cell_type": "markdown",
            "source": "``fprime`` is not provided, use the secant method:\n",
            "metadata": {}
        },
        {
            "id": "94cea07a",
            "cell_type": "code",
            "metadata": {},
            "execution_count": null,
            "source": "root = optimize.newton(f, 1.5)\nroot",
            "outputs": [
                {
                    "output_type": "execute_result",
                    "metadata": {},
                    "data": {
                        "text/plain": "1.0000000000000016"
                    },
                    "execution_count": null
                }
            ]
        },
        {
            "id": "47dc6698",
            "cell_type": "code",
            "metadata": {},
            "execution_count": null,
            "source": "root = optimize.newton(f, 1.5, fprime2=lambda x: 6 * x)\nroot",
            "outputs": [
                {
                    "output_type": "execute_result",
                    "metadata": {},
                    "data": {
                        "text/plain": "1.0000000000000016"
                    },
                    "execution_count": null
                }
            ]
        },
        {
            "id": "bd832a42",
            "cell_type": "markdown",
            "source": "Only ``fprime`` is provided, use the Newton-Raphson method:\n",
            "metadata": {}
        },
        {
            "id": "3b78505c",
            "cell_type": "code",
            "metadata": {},
            "execution_count": null,
            "source": "root = optimize.newton(f, 1.5, fprime=lambda x: 3 * x**2)\nroot",
            "outputs": [
                {
                    "output_type": "execute_result",
                    "metadata": {},
                    "data": {
                        "text/plain": "1.0"
                    },
                    "execution_count": null
                }
            ]
        },
        {
            "id": "7c29b322",
            "cell_type": "markdown",
            "source": "Both ``fprime2`` and ``fprime`` are provided, use Halley's method:\n",
            "metadata": {}
        },
        {
            "id": "d9d88a1d",
            "cell_type": "code",
            "metadata": {},
            "execution_count": null,
            "source": "root = optimize.newton(f, 1.5, fprime=lambda x: 3 * x**2,\n                       fprime2=lambda x: 6 * x)\nroot",
            "outputs": [
                {
                    "output_type": "execute_result",
                    "metadata": {},
                    "data": {
                        "text/plain": "1.0"
                    },
                    "execution_count": null
                }
            ]
        },
        {
            "id": "78e0cf2b",
            "cell_type": "markdown",
            "source": "When we want to find roots for a set of related starting values and/or\nfunction parameters, we can provide both of those as an array of inputs:\n",
            "metadata": {}
        },
        {
            "id": "36880309",
            "cell_type": "code",
            "metadata": {},
            "execution_count": null,
            "source": "f = lambda x, a: x**3 - a\nfder = lambda x, a: 3 * x**2\nrng = np.random.default_rng()\nx = rng.standard_normal(100)\na = np.arange(-50, 50)\nvec_res = optimize.newton(f, x, fprime=fder, args=(a, ), maxiter=200)",
            "outputs": []
        },
        {
            "id": "6fb07ee5",
            "cell_type": "markdown",
            "source": "The above is the equivalent of solving for each value in ``(x, a)``\nseparately in a for-loop, just faster:\n",
            "metadata": {}
        },
        {
            "id": "91a5eb8e",
            "cell_type": "code",
            "metadata": {},
            "execution_count": null,
            "source": "loop_res = [optimize.newton(f, x0, fprime=fder, args=(a0,),\n                            maxiter=200)\n            for x0, a0 in zip(x, a)]\nnp.allclose(vec_res, loop_res)",
            "outputs": [
                {
                    "output_type": "execute_result",
                    "metadata": {},
                    "data": {
                        "text/plain": "True"
                    },
                    "execution_count": null
                }
            ]
        },
        {
            "id": "cc06abb9",
            "cell_type": "markdown",
            "source": "Plot the results found for all values of ``a``:\n",
            "metadata": {}
        },
        {
            "id": "ba70e570",
            "cell_type": "code",
            "metadata": {},
            "execution_count": null,
            "source": "analytical_result = np.sign(a) * np.abs(a)**(1/3)\nfig, ax = plt.subplots()\nax.plot(a, analytical_result, 'o')\nax.plot(a, vec_res, '.')\nax.set_xlabel('$a$')\nax.set_ylabel('$x$ where $f(x, a)=0$')\nplt.show()",
            "outputs": []
        }
    ]
}