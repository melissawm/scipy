{
    "nbformat": 4,
    "nbformat_minor": 5,
    "metadata": {
        "kernelspec": {
            "display_name": "Python",
            "language": "python",
            "name": "python"
        },
        "language_info": {
            "name": "python"
        }
    },
    "cells": [
        {
            "id": "deae4c46",
            "cell_type": "markdown",
            "source": "<div class='alert alert-warning'>\n\nSciPy's interactive examples with Jupyterlite are experimental and may not always work as expected. Execution of cells containing imports may result in large downloads (up to 60MB of content for the first import from SciPy). Load times when importing from SciPy may take roughly 10-20 seconds. If you notice any problems, feel free to open an [issue](https://github.com/scipy/scipy/issues/new/choose).\n\n</div>",
            "metadata": {}
        },
        {
            "id": "8c793398",
            "cell_type": "code",
            "metadata": {},
            "execution_count": null,
            "source": "import numpy as np\nfrom scipy import special\nfrom scipy import stats\nimport matplotlib.pyplot as plt",
            "outputs": []
        },
        {
            "id": "2c28f066",
            "cell_type": "markdown",
            "source": "Plot the CDF of the non-central t distribution, for nc=0. Compare with the\nt-distribution from scipy.stats:\n",
            "metadata": {}
        },
        {
            "id": "dd3be683",
            "cell_type": "code",
            "metadata": {},
            "execution_count": null,
            "source": "x = np.linspace(-5, 5, num=500)\ndf = 3\nnct_stats = stats.t.cdf(x, df)\nnct_special = special.nctdtr(df, 0, x)",
            "outputs": []
        },
        {
            "id": "767c8fcf",
            "cell_type": "code",
            "metadata": {},
            "execution_count": null,
            "source": "fig = plt.figure()\nax = fig.add_subplot(111)\nax.plot(x, nct_stats, 'b-', lw=3)\nax.plot(x, nct_special, 'r-')\nplt.show()",
            "outputs": []
        }
    ]
}