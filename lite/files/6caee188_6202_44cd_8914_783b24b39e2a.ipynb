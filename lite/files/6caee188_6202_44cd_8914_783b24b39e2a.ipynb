{
    "nbformat": 4,
    "nbformat_minor": 5,
    "metadata": {
        "kernelspec": {
            "display_name": "Python",
            "language": "python",
            "name": "python"
        },
        "language_info": {
            "name": "python"
        }
    },
    "cells": [
        {
            "id": "7e52becd",
            "cell_type": "markdown",
            "source": "<div class='alert alert-warning'>\n\nSciPy's interactive examples with Jupyterlite are experimental and may not always work as expected. Execution of cells containing imports may result in large downloads (up to 60MB of content for the first import from SciPy). Load times when importing from SciPy may take roughly 10-20 seconds. If you notice any problems, feel free to open an [issue](https://github.com/scipy/scipy/issues/new/choose).\n\n</div>",
            "metadata": {}
        },
        {
            "id": "c554c319",
            "cell_type": "markdown",
            "source": "The spherical Bessel functions of the second kind $y_n$ accept\nboth real and complex second argument. They can return a complex type:\n",
            "metadata": {}
        },
        {
            "id": "1e9dd3da",
            "cell_type": "code",
            "metadata": {},
            "execution_count": null,
            "source": "from scipy.special import spherical_yn\nspherical_yn(0, 3+5j)",
            "outputs": [
                {
                    "output_type": "execute_result",
                    "metadata": {},
                    "data": {
                        "text/plain": "(8.022343088587197-9.880052589376795j)"
                    },
                    "execution_count": null
                }
            ]
        },
        {
            "id": "b9465a27",
            "cell_type": "code",
            "metadata": {},
            "execution_count": null,
            "source": "type(spherical_yn(0, 3+5j))",
            "outputs": [
                {
                    "output_type": "execute_result",
                    "metadata": {},
                    "data": {
                        "text/plain": "<class 'numpy.complex128'>"
                    },
                    "execution_count": null
                }
            ]
        },
        {
            "id": "14e1c694",
            "cell_type": "markdown",
            "source": "We can verify the relation for the derivative from the Notes\nfor $n=3$ in the interval $[1, 2]$:\n",
            "metadata": {}
        },
        {
            "id": "c0a4aa55",
            "cell_type": "code",
            "metadata": {},
            "execution_count": null,
            "source": "import numpy as np\nx = np.arange(1.0, 2.0, 0.01)\nnp.allclose(spherical_yn(3, x, True),\n            spherical_yn(2, x) - 4/x * spherical_yn(3, x))",
            "outputs": [
                {
                    "output_type": "execute_result",
                    "metadata": {},
                    "data": {
                        "text/plain": "True"
                    },
                    "execution_count": null
                }
            ]
        },
        {
            "id": "0f4dbcad",
            "cell_type": "markdown",
            "source": "The first few $y_n$ with real argument:\n",
            "metadata": {}
        },
        {
            "id": "0ba81c0c",
            "cell_type": "code",
            "metadata": {},
            "execution_count": null,
            "source": "import matplotlib.pyplot as plt\nx = np.arange(0.0, 10.0, 0.01)\nfig, ax = plt.subplots()\nax.set_ylim(-2.0, 1.0)\nax.set_title(r'Spherical Bessel functions $y_n$')\nfor n in np.arange(0, 4):\n    ax.plot(x, spherical_yn(n, x), label=rf'$y_{n}$')\nplt.legend(loc='best')\nplt.show()",
            "outputs": []
        }
    ]
}