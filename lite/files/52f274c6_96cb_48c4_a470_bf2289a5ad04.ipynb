{
    "nbformat": 4,
    "nbformat_minor": 5,
    "metadata": {
        "kernelspec": {
            "display_name": "Python",
            "language": "python",
            "name": "python"
        },
        "language_info": {
            "name": "python"
        }
    },
    "cells": [
        {
            "id": "9f918d2f",
            "cell_type": "markdown",
            "source": "<div class='alert alert-warning'>\n\nSciPy's interactive examples with Jupyterlite are experimental and may not always work as expected. Execution of cells containing imports may result in large downloads (up to 60MB of content for the first import from SciPy). Load times when importing from SciPy may take roughly 10-20 seconds. If you notice any problems, feel free to open an [issue](https://github.com/scipy/scipy/issues/new/choose).\n\n</div>",
            "metadata": {}
        },
        {
            "id": "bd828152",
            "cell_type": "code",
            "metadata": {},
            "execution_count": null,
            "source": "from scipy.cluster.hierarchy import average, fcluster\nfrom scipy.spatial.distance import pdist",
            "outputs": []
        },
        {
            "id": "5b13f855",
            "cell_type": "markdown",
            "source": "First, we need a toy dataset to play with\n```\n\nx x    x x\nx        x\n\nx        x\nx x    x x\n\n```",
            "metadata": {}
        },
        {
            "id": "b200305d",
            "cell_type": "code",
            "metadata": {},
            "execution_count": null,
            "source": "X = [[0, 0], [0, 1], [1, 0],\n     [0, 4], [0, 3], [1, 4],\n     [4, 0], [3, 0], [4, 1],\n     [4, 4], [3, 4], [4, 3]]",
            "outputs": []
        },
        {
            "id": "3f20adec",
            "cell_type": "markdown",
            "source": "Then, we get a condensed distance matrix from this dataset:\n",
            "metadata": {}
        },
        {
            "id": "bad5e4f3",
            "cell_type": "code",
            "metadata": {},
            "execution_count": null,
            "source": "y = pdist(X)",
            "outputs": []
        },
        {
            "id": "379ed81b",
            "cell_type": "markdown",
            "source": "Finally, we can perform the clustering:\n",
            "metadata": {}
        },
        {
            "id": "5b20e806",
            "cell_type": "code",
            "metadata": {},
            "execution_count": null,
            "source": "Z = average(y)\nZ",
            "outputs": [
                {
                    "output_type": "execute_result",
                    "metadata": {},
                    "data": {
                        "text/plain": "array([[ 0.        ,  1.        ,  1.        ,  2.        ],\n       [ 3.        ,  4.        ,  1.        ,  2.        ],\n       [ 6.        ,  7.        ,  1.        ,  2.        ],\n       [ 9.        , 10.        ,  1.        ,  2.        ],\n       [ 2.        , 12.        ,  1.20710678,  3.        ],\n       [ 5.        , 13.        ,  1.20710678,  3.        ],\n       [ 8.        , 14.        ,  1.20710678,  3.        ],\n       [11.        , 15.        ,  1.20710678,  3.        ],\n       [16.        , 17.        ,  3.39675184,  6.        ],\n       [18.        , 19.        ,  3.39675184,  6.        ],\n       [20.        , 21.        ,  4.09206523, 12.        ]])"
                    },
                    "execution_count": null
                }
            ]
        },
        {
            "id": "92a734b3",
            "cell_type": "markdown",
            "source": "The linkage matrix ``Z`` represents a dendrogram - see\n`scipy.cluster.hierarchy.linkage` for a detailed explanation of its\ncontents.\n\nWe can use `scipy.cluster.hierarchy.fcluster` to see to which cluster\neach initial point would belong given a distance threshold:\n",
            "metadata": {}
        },
        {
            "id": "929c60a8",
            "cell_type": "code",
            "metadata": {},
            "execution_count": null,
            "source": "fcluster(Z, 0.9, criterion='distance')",
            "outputs": [
                {
                    "output_type": "execute_result",
                    "metadata": {},
                    "data": {
                        "text/plain": "array([ 1,  2,  3,  4,  5,  6,  7,  8,  9, 10, 11, 12], dtype=int32)"
                    },
                    "execution_count": null
                }
            ]
        },
        {
            "id": "7f32336e",
            "cell_type": "code",
            "metadata": {},
            "execution_count": null,
            "source": "fcluster(Z, 1.5, criterion='distance')",
            "outputs": [
                {
                    "output_type": "execute_result",
                    "metadata": {},
                    "data": {
                        "text/plain": "array([1, 1, 1, 2, 2, 2, 3, 3, 3, 4, 4, 4], dtype=int32)"
                    },
                    "execution_count": null
                }
            ]
        },
        {
            "id": "bb50d464",
            "cell_type": "code",
            "metadata": {},
            "execution_count": null,
            "source": "fcluster(Z, 4, criterion='distance')",
            "outputs": [
                {
                    "output_type": "execute_result",
                    "metadata": {},
                    "data": {
                        "text/plain": "array([1, 1, 1, 1, 1, 1, 2, 2, 2, 2, 2, 2], dtype=int32)"
                    },
                    "execution_count": null
                }
            ]
        },
        {
            "id": "a0dd5d2a",
            "cell_type": "code",
            "metadata": {},
            "execution_count": null,
            "source": "fcluster(Z, 6, criterion='distance')",
            "outputs": [
                {
                    "output_type": "execute_result",
                    "metadata": {},
                    "data": {
                        "text/plain": "array([1, 1, 1, 1, 1, 1, 1, 1, 1, 1, 1, 1], dtype=int32)"
                    },
                    "execution_count": null
                }
            ]
        },
        {
            "id": "9b037b5d",
            "cell_type": "markdown",
            "source": "Also, `scipy.cluster.hierarchy.dendrogram` can be used to generate a\nplot of the dendrogram.",
            "metadata": {}
        }
    ]
}