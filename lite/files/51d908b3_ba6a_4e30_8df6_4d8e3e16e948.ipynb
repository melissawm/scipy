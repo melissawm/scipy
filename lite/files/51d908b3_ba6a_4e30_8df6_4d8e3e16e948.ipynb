{
    "nbformat": 4,
    "nbformat_minor": 5,
    "metadata": {
        "kernelspec": {
            "display_name": "Python",
            "language": "python",
            "name": "python"
        },
        "language_info": {
            "name": "python"
        }
    },
    "cells": [
        {
            "id": "c82406f4",
            "cell_type": "markdown",
            "source": "<div class='alert alert-warning'>\n\nSciPy's interactive examples with Jupyterlite are experimental and may not always work as expected. Execution of cells containing imports may result in large downloads (up to 60MB of content for the first import from SciPy). Load times when importing from SciPy may take roughly 10-20 seconds. If you notice any problems, feel free to open an [issue](https://github.com/scipy/scipy/issues/new/choose).\n\n</div>",
            "metadata": {}
        },
        {
            "id": "de5349d4",
            "cell_type": "markdown",
            "source": "Draw samples from a log-normal distribution:\n",
            "metadata": {}
        },
        {
            "id": "d9351384",
            "cell_type": "code",
            "metadata": {},
            "execution_count": null,
            "source": "import numpy as np\nfrom scipy.stats import zscore, gzscore\nimport matplotlib.pyplot as plt",
            "outputs": []
        },
        {
            "id": "cde44fa7",
            "cell_type": "code",
            "metadata": {},
            "execution_count": null,
            "source": "rng = np.random.default_rng()\nmu, sigma = 3., 1.  # mean and standard deviation\nx = rng.lognormal(mu, sigma, size=500)",
            "outputs": []
        },
        {
            "id": "7a9f3b33",
            "cell_type": "markdown",
            "source": "Display the histogram of the samples:\n",
            "metadata": {}
        },
        {
            "id": "ec60bcc4",
            "cell_type": "code",
            "metadata": {},
            "execution_count": null,
            "source": "fig, ax = plt.subplots()\nax.hist(x, 50)\nplt.show()",
            "outputs": []
        },
        {
            "id": "e729a88c",
            "cell_type": "markdown",
            "source": "Display the histogram of the samples standardized by the classical zscore.\nDistribution is rescaled but its shape is unchanged.\n",
            "metadata": {}
        },
        {
            "id": "a73ef4b8",
            "cell_type": "code",
            "metadata": {},
            "execution_count": null,
            "source": "fig, ax = plt.subplots()\nax.hist(zscore(x), 50)\nplt.show()",
            "outputs": []
        },
        {
            "id": "e18695e2",
            "cell_type": "markdown",
            "source": "Demonstrate that the distribution of geometric zscores is rescaled and\nquasinormal:\n",
            "metadata": {}
        },
        {
            "id": "58075640",
            "cell_type": "code",
            "metadata": {},
            "execution_count": null,
            "source": "fig, ax = plt.subplots()\nax.hist(gzscore(x), 50)\nplt.show()",
            "outputs": []
        }
    ]
}