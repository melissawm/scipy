{
    "nbformat": 4,
    "nbformat_minor": 5,
    "metadata": {
        "kernelspec": {
            "display_name": "Python",
            "language": "python",
            "name": "python"
        },
        "language_info": {
            "name": "python"
        }
    },
    "cells": [
        {
            "id": "b6b71701",
            "cell_type": "markdown",
            "source": "<div class='alert alert-warning'>\n\nSciPy's interactive examples with Jupyterlite are experimental and may not always work as expected. Execution of cells containing imports may result in large downloads (up to 60MB of content for the first import from SciPy). Load times when importing from SciPy may take roughly 10-20 seconds. If you notice any problems, feel free to open an [issue](https://github.com/scipy/scipy/issues/new/choose).\n\n</div>",
            "metadata": {}
        },
        {
            "id": "3faecc7f",
            "cell_type": "code",
            "metadata": {},
            "execution_count": null,
            "source": "import numpy as np\nfrom scipy.stats import truncexpon\nimport matplotlib.pyplot as plt\nfig, ax = plt.subplots(1, 1)",
            "outputs": []
        },
        {
            "id": "386bc6fe",
            "cell_type": "markdown",
            "source": "Calculate the first four moments:\n",
            "metadata": {}
        },
        {
            "id": "35ed325e",
            "cell_type": "code",
            "metadata": {},
            "execution_count": null,
            "source": "b = 4.69\nmean, var, skew, kurt = truncexpon.stats(b, moments='mvsk')",
            "outputs": []
        },
        {
            "id": "d0b52e4b",
            "cell_type": "markdown",
            "source": "Display the probability density function (``pdf``):\n",
            "metadata": {}
        },
        {
            "id": "727d73c1",
            "cell_type": "code",
            "metadata": {},
            "execution_count": null,
            "source": "x = np.linspace(truncexpon.ppf(0.01, b),\n                truncexpon.ppf(0.99, b), 100)\nax.plot(x, truncexpon.pdf(x, b),\n       'r-', lw=5, alpha=0.6, label='truncexpon pdf')",
            "outputs": []
        },
        {
            "id": "fd0a747b",
            "cell_type": "markdown",
            "source": "Alternatively, the distribution object can be called (as a function)\nto fix the shape, location and scale parameters. This returns a \"frozen\"\nRV object holding the given parameters fixed.\n\nFreeze the distribution and display the frozen ``pdf``:\n",
            "metadata": {}
        },
        {
            "id": "752a02df",
            "cell_type": "code",
            "metadata": {},
            "execution_count": null,
            "source": "rv = truncexpon(b)\nax.plot(x, rv.pdf(x), 'k-', lw=2, label='frozen pdf')",
            "outputs": []
        },
        {
            "id": "9d558c4e",
            "cell_type": "markdown",
            "source": "Check accuracy of ``cdf`` and ``ppf``:\n",
            "metadata": {}
        },
        {
            "id": "8aabf9af",
            "cell_type": "code",
            "metadata": {},
            "execution_count": null,
            "source": "vals = truncexpon.ppf([0.001, 0.5, 0.999], b)\nnp.allclose([0.001, 0.5, 0.999], truncexpon.cdf(vals, b))",
            "outputs": [
                {
                    "output_type": "execute_result",
                    "metadata": {},
                    "data": {
                        "text/plain": "True"
                    },
                    "execution_count": null
                }
            ]
        },
        {
            "id": "d66f4f2e",
            "cell_type": "markdown",
            "source": "Generate random numbers:\n",
            "metadata": {}
        },
        {
            "id": "242bf4d1",
            "cell_type": "code",
            "metadata": {},
            "execution_count": null,
            "source": "r = truncexpon.rvs(b, size=1000)",
            "outputs": []
        },
        {
            "id": "97da5439",
            "cell_type": "markdown",
            "source": "And compare the histogram:\n",
            "metadata": {}
        },
        {
            "id": "3c4d242b",
            "cell_type": "code",
            "metadata": {},
            "execution_count": null,
            "source": "ax.hist(r, density=True, bins='auto', histtype='stepfilled', alpha=0.2)\nax.set_xlim([x[0], x[-1]])\nax.legend(loc='best', frameon=False)\nplt.show()",
            "outputs": []
        }
    ]
}