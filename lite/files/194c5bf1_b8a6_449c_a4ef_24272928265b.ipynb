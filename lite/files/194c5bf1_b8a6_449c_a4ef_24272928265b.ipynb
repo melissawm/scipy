{
    "nbformat": 4,
    "nbformat_minor": 5,
    "metadata": {
        "kernelspec": {
            "display_name": "Python",
            "language": "python",
            "name": "python"
        },
        "language_info": {
            "name": "python"
        }
    },
    "cells": [
        {
            "id": "3ca80a00",
            "cell_type": "markdown",
            "source": "<div class='alert alert-warning'>\n\nSciPy's interactive examples with Jupyterlite are experimental and may not always work as expected. Execution of cells containing imports may result in large downloads (up to 60MB of content for the first import from SciPy). Load times when importing from SciPy may take roughly 10-20 seconds. If you notice any problems, feel free to open an [issue](https://github.com/scipy/scipy/issues/new/choose).\n\n</div>",
            "metadata": {}
        },
        {
            "id": "4f670fab",
            "cell_type": "code",
            "metadata": {},
            "execution_count": null,
            "source": "import scipy.special as sc",
            "outputs": []
        },
        {
            "id": "e7903624",
            "cell_type": "markdown",
            "source": "It inverts `chdtr`.\n",
            "metadata": {}
        },
        {
            "id": "9b758b88",
            "cell_type": "code",
            "metadata": {},
            "execution_count": null,
            "source": "p, x = 0.5, 1\nsc.chdtr(sc.chdtriv(p, x), x)",
            "outputs": [
                {
                    "output_type": "execute_result",
                    "metadata": {},
                    "data": {
                        "text/plain": "0.5000000000202172"
                    },
                    "execution_count": null
                }
            ]
        },
        {
            "id": "b84f443d",
            "cell_type": "code",
            "metadata": {},
            "execution_count": null,
            "source": "v = 1\nsc.chdtriv(sc.chdtr(v, x), v)",
            "outputs": [
                {
                    "output_type": "execute_result",
                    "metadata": {},
                    "data": {
                        "text/plain": "1.0000000000000013"
                    },
                    "execution_count": null
                }
            ]
        }
    ]
}