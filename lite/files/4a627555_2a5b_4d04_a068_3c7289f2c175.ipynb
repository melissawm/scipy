{
    "nbformat": 4,
    "nbformat_minor": 5,
    "metadata": {
        "kernelspec": {
            "display_name": "Python",
            "language": "python",
            "name": "python"
        },
        "language_info": {
            "name": "python"
        }
    },
    "cells": [
        {
            "id": "55c74910",
            "cell_type": "markdown",
            "source": "<div class='alert alert-warning'>\n\nSciPy's interactive examples with Jupyterlite are experimental and may not always work as expected. Execution of cells containing imports may result in large downloads (up to 60MB of content for the first import from SciPy). Load times when importing from SciPy may take roughly 10-20 seconds. If you notice any problems, feel free to open an [issue](https://github.com/scipy/scipy/issues/new/choose).\n\n</div>",
            "metadata": {}
        },
        {
            "id": "8818d205",
            "cell_type": "code",
            "metadata": {},
            "execution_count": null,
            "source": "import numpy as np\nfrom scipy.stats import exponnorm\nimport matplotlib.pyplot as plt\nfig, ax = plt.subplots(1, 1)",
            "outputs": []
        },
        {
            "id": "6aa9e660",
            "cell_type": "markdown",
            "source": "Calculate the first four moments:\n",
            "metadata": {}
        },
        {
            "id": "6a5b4f62",
            "cell_type": "code",
            "metadata": {},
            "execution_count": null,
            "source": "K = 1.5\nmean, var, skew, kurt = exponnorm.stats(K, moments='mvsk')",
            "outputs": []
        },
        {
            "id": "a3ef07df",
            "cell_type": "markdown",
            "source": "Display the probability density function (``pdf``):\n",
            "metadata": {}
        },
        {
            "id": "93980f27",
            "cell_type": "code",
            "metadata": {},
            "execution_count": null,
            "source": "x = np.linspace(exponnorm.ppf(0.01, K),\n                exponnorm.ppf(0.99, K), 100)\nax.plot(x, exponnorm.pdf(x, K),\n       'r-', lw=5, alpha=0.6, label='exponnorm pdf')",
            "outputs": []
        },
        {
            "id": "183b7469",
            "cell_type": "markdown",
            "source": "Alternatively, the distribution object can be called (as a function)\nto fix the shape, location and scale parameters. This returns a \"frozen\"\nRV object holding the given parameters fixed.\n\nFreeze the distribution and display the frozen ``pdf``:\n",
            "metadata": {}
        },
        {
            "id": "b55611aa",
            "cell_type": "code",
            "metadata": {},
            "execution_count": null,
            "source": "rv = exponnorm(K)\nax.plot(x, rv.pdf(x), 'k-', lw=2, label='frozen pdf')",
            "outputs": []
        },
        {
            "id": "1efdd0dc",
            "cell_type": "markdown",
            "source": "Check accuracy of ``cdf`` and ``ppf``:\n",
            "metadata": {}
        },
        {
            "id": "eb6fb8ae",
            "cell_type": "code",
            "metadata": {},
            "execution_count": null,
            "source": "vals = exponnorm.ppf([0.001, 0.5, 0.999], K)\nnp.allclose([0.001, 0.5, 0.999], exponnorm.cdf(vals, K))",
            "outputs": [
                {
                    "output_type": "execute_result",
                    "metadata": {},
                    "data": {
                        "text/plain": "True"
                    },
                    "execution_count": null
                }
            ]
        },
        {
            "id": "452a115e",
            "cell_type": "markdown",
            "source": "Generate random numbers:\n",
            "metadata": {}
        },
        {
            "id": "6b836b11",
            "cell_type": "code",
            "metadata": {},
            "execution_count": null,
            "source": "r = exponnorm.rvs(K, size=1000)",
            "outputs": []
        },
        {
            "id": "66013ff7",
            "cell_type": "markdown",
            "source": "And compare the histogram:\n",
            "metadata": {}
        },
        {
            "id": "650a92b5",
            "cell_type": "code",
            "metadata": {},
            "execution_count": null,
            "source": "ax.hist(r, density=True, bins='auto', histtype='stepfilled', alpha=0.2)\nax.set_xlim([x[0], x[-1]])\nax.legend(loc='best', frameon=False)\nplt.show()",
            "outputs": []
        }
    ]
}