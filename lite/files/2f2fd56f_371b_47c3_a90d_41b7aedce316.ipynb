{
    "nbformat": 4,
    "nbformat_minor": 5,
    "metadata": {
        "kernelspec": {
            "display_name": "Python",
            "language": "python",
            "name": "python"
        },
        "language_info": {
            "name": "python"
        }
    },
    "cells": [
        {
            "id": "f3972749",
            "cell_type": "markdown",
            "source": "<div class='alert alert-warning'>\n\nSciPy's interactive examples with Jupyterlite are experimental and may not always work as expected. Execution of cells containing imports may result in large downloads (up to 60MB of content for the first import from SciPy). Load times when importing from SciPy may take roughly 10-20 seconds. If you notice any problems, feel free to open an [issue](https://github.com/scipy/scipy/issues/new/choose).\n\n</div>",
            "metadata": {}
        },
        {
            "id": "acf39853",
            "cell_type": "code",
            "metadata": {},
            "execution_count": null,
            "source": "import scipy.special as sc",
            "outputs": []
        },
        {
            "id": "14c2f6a2",
            "cell_type": "markdown",
            "source": "It is the reciprocal of the gamma function.\n",
            "metadata": {}
        },
        {
            "id": "4d5d50ef",
            "cell_type": "code",
            "metadata": {},
            "execution_count": null,
            "source": "sc.rgamma([1, 2, 3, 4])",
            "outputs": [
                {
                    "output_type": "execute_result",
                    "metadata": {},
                    "data": {
                        "text/plain": "array([1.        , 1.        , 0.5       , 0.16666667])"
                    },
                    "execution_count": null
                }
            ]
        },
        {
            "id": "2b7586ad",
            "cell_type": "code",
            "metadata": {},
            "execution_count": null,
            "source": "1 / sc.gamma([1, 2, 3, 4])",
            "outputs": [
                {
                    "output_type": "execute_result",
                    "metadata": {},
                    "data": {
                        "text/plain": "array([1.        , 1.        , 0.5       , 0.16666667])"
                    },
                    "execution_count": null
                }
            ]
        },
        {
            "id": "565ab5c4",
            "cell_type": "markdown",
            "source": "It is zero at nonpositive integers.\n",
            "metadata": {}
        },
        {
            "id": "febd60d9",
            "cell_type": "code",
            "metadata": {},
            "execution_count": null,
            "source": "sc.rgamma([0, -1, -2, -3])",
            "outputs": [
                {
                    "output_type": "execute_result",
                    "metadata": {},
                    "data": {
                        "text/plain": "array([0., 0., 0., 0.])"
                    },
                    "execution_count": null
                }
            ]
        },
        {
            "id": "46e8b8e1",
            "cell_type": "markdown",
            "source": "It rapidly underflows to zero along the positive real axis.\n",
            "metadata": {}
        },
        {
            "id": "d7075ebd",
            "cell_type": "code",
            "metadata": {},
            "execution_count": null,
            "source": "sc.rgamma([10, 100, 179])",
            "outputs": [
                {
                    "output_type": "execute_result",
                    "metadata": {},
                    "data": {
                        "text/plain": "array([2.75573192e-006, 1.07151029e-156, 0.00000000e+000])"
                    },
                    "execution_count": null
                }
            ]
        }
    ]
}