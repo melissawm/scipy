{
    "nbformat": 4,
    "nbformat_minor": 5,
    "metadata": {
        "kernelspec": {
            "display_name": "Python",
            "language": "python",
            "name": "python"
        },
        "language_info": {
            "name": "python"
        }
    },
    "cells": [
        {
            "id": "50cfac24",
            "cell_type": "markdown",
            "source": "<div class='alert alert-warning'>\n\nSciPy's interactive examples with Jupyterlite are experimental and may not always work as expected. Execution of cells containing imports may result in large downloads (up to 60MB of content for the first import from SciPy). Load times when importing from SciPy may take roughly 10-20 seconds. If you notice any problems, feel free to open an [issue](https://github.com/scipy/scipy/issues/new/choose).\n\n</div>",
            "metadata": {}
        },
        {
            "id": "6d7b2bd9",
            "cell_type": "markdown",
            "source": "Plot the points of a 16-point FFT:\n",
            "metadata": {}
        },
        {
            "id": "260a2c20",
            "cell_type": "code",
            "metadata": {},
            "execution_count": null,
            "source": "import numpy as np\nfrom scipy.signal import czt_points\npoints = czt_points(16)\nimport matplotlib.pyplot as plt\nplt.plot(points.real, points.imag, 'o')\nplt.gca().add_patch(plt.Circle((0,0), radius=1, fill=False, alpha=.3))\nplt.axis('equal')\nplt.show()",
            "outputs": []
        },
        {
            "id": "080253fe",
            "cell_type": "markdown",
            "source": "and a 91-point logarithmic spiral that crosses the unit circle:\n",
            "metadata": {}
        },
        {
            "id": "2d2ab01f",
            "cell_type": "code",
            "metadata": {},
            "execution_count": null,
            "source": "m, w, a = 91, 0.995*np.exp(-1j*np.pi*.05), 0.8*np.exp(1j*np.pi/6)\npoints = czt_points(m, w, a)\nplt.plot(points.real, points.imag, 'o')\nplt.gca().add_patch(plt.Circle((0,0), radius=1, fill=False, alpha=.3))\nplt.axis('equal')\nplt.show()",
            "outputs": []
        }
    ]
}