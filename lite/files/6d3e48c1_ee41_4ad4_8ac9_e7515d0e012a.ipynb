{
    "nbformat": 4,
    "nbformat_minor": 5,
    "metadata": {
        "kernelspec": {
            "display_name": "Python",
            "language": "python",
            "name": "python"
        },
        "language_info": {
            "name": "python"
        }
    },
    "cells": [
        {
            "id": "2e877770",
            "cell_type": "markdown",
            "source": "<div class='alert alert-warning'>\n\nSciPy's interactive examples with Jupyterlite are experimental and may not always work as expected. Execution of cells containing imports may result in large downloads (up to 60MB of content for the first import from SciPy). Load times when importing from SciPy may take roughly 10-20 seconds. If you notice any problems, feel free to open an [issue](https://github.com/scipy/scipy/issues/new/choose).\n\n</div>",
            "metadata": {}
        },
        {
            "id": "49b2410d",
            "cell_type": "code",
            "metadata": {},
            "execution_count": null,
            "source": "import numpy as np\nfrom scipy import signal\nimport matplotlib.pyplot as plt",
            "outputs": []
        },
        {
            "id": "dbadfc27",
            "cell_type": "markdown",
            "source": "Define wave parameters.\n",
            "metadata": {}
        },
        {
            "id": "543a9554",
            "cell_type": "code",
            "metadata": {},
            "execution_count": null,
            "source": "wave_duration = 3\nsample_rate = 100\nfreq = 2\nq = 5",
            "outputs": []
        },
        {
            "id": "3e86d014",
            "cell_type": "markdown",
            "source": "Calculate number of samples.\n",
            "metadata": {}
        },
        {
            "id": "1cd70fcd",
            "cell_type": "code",
            "metadata": {},
            "execution_count": null,
            "source": "samples = wave_duration*sample_rate\nsamples_decimated = int(samples/q)",
            "outputs": []
        },
        {
            "id": "bce041cf",
            "cell_type": "markdown",
            "source": "Create cosine wave.\n",
            "metadata": {}
        },
        {
            "id": "325ba72c",
            "cell_type": "code",
            "metadata": {},
            "execution_count": null,
            "source": "x = np.linspace(0, wave_duration, samples, endpoint=False)\ny = np.cos(x*np.pi*freq*2)",
            "outputs": []
        },
        {
            "id": "69bef02c",
            "cell_type": "markdown",
            "source": "Decimate cosine wave.\n",
            "metadata": {}
        },
        {
            "id": "90987457",
            "cell_type": "code",
            "metadata": {},
            "execution_count": null,
            "source": "ydem = signal.decimate(y, q)\nxnew = np.linspace(0, wave_duration, samples_decimated, endpoint=False)",
            "outputs": []
        },
        {
            "id": "33f86fa5",
            "cell_type": "markdown",
            "source": "Plot original and decimated waves.\n",
            "metadata": {}
        },
        {
            "id": "5ef1178c",
            "cell_type": "code",
            "metadata": {},
            "execution_count": null,
            "source": "plt.plot(x, y, '.-', xnew, ydem, 'o-')\nplt.xlabel('Time, Seconds')\nplt.legend(['data', 'decimated'], loc='best')\nplt.show()",
            "outputs": []
        }
    ]
}