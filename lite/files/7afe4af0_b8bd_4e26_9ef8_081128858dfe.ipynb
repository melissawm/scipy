{
    "nbformat": 4,
    "nbformat_minor": 5,
    "metadata": {
        "kernelspec": {
            "display_name": "Python",
            "language": "python",
            "name": "python"
        },
        "language_info": {
            "name": "python"
        }
    },
    "cells": [
        {
            "id": "e3d731f1",
            "cell_type": "markdown",
            "source": "<div class='alert alert-warning'>\n\nSciPy's interactive examples with Jupyterlite are experimental and may not always work as expected. Execution of cells containing imports may result in large downloads (up to 60MB of content for the first import from SciPy). Load times when importing from SciPy may take roughly 10-20 seconds. If you notice any problems, feel free to open an [issue](https://github.com/scipy/scipy/issues/new/choose).\n\n</div>",
            "metadata": {}
        },
        {
            "id": "1993a601",
            "cell_type": "markdown",
            "source": "Evaluate the function at one point.\n",
            "metadata": {}
        },
        {
            "id": "42748354",
            "cell_type": "code",
            "metadata": {},
            "execution_count": null,
            "source": "import numpy as np\nfrom scipy.special import itmodstruve0\nitmodstruve0(1.)",
            "outputs": [
                {
                    "output_type": "execute_result",
                    "metadata": {},
                    "data": {
                        "text/plain": "0.3364726286440384"
                    },
                    "execution_count": null
                }
            ]
        },
        {
            "id": "8adeb628",
            "cell_type": "markdown",
            "source": "Evaluate the function at several points by supplying\nan array for `x`.\n",
            "metadata": {}
        },
        {
            "id": "2ee9a8c9",
            "cell_type": "code",
            "metadata": {},
            "execution_count": null,
            "source": "points = np.array([1., 2., 3.5])\nitmodstruve0(points)",
            "outputs": [
                {
                    "output_type": "execute_result",
                    "metadata": {},
                    "data": {
                        "text/plain": "array([0.33647263, 1.588285  , 7.60382578])"
                    },
                    "execution_count": null
                }
            ]
        },
        {
            "id": "17da8c3f",
            "cell_type": "markdown",
            "source": "Plot the function from -10 to 10.\n",
            "metadata": {}
        },
        {
            "id": "a39d54f1",
            "cell_type": "code",
            "metadata": {},
            "execution_count": null,
            "source": "import matplotlib.pyplot as plt\nx = np.linspace(-10., 10., 1000)\nitmodstruve0_values = itmodstruve0(x)\nfig, ax = plt.subplots()\nax.plot(x, itmodstruve0_values)\nax.set_xlabel(r'$x$')\nax.set_ylabel(r'$\\int_0^xL_0(t)\\,dt$')\nplt.show()",
            "outputs": []
        }
    ]
}