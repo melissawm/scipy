{
    "nbformat": 4,
    "nbformat_minor": 5,
    "metadata": {
        "kernelspec": {
            "display_name": "Python",
            "language": "python",
            "name": "python"
        },
        "language_info": {
            "name": "python"
        }
    },
    "cells": [
        {
            "id": "e2967380",
            "cell_type": "markdown",
            "source": "<div class='alert alert-warning'>\n\nSciPy's interactive examples with Jupyterlite are experimental and may not always work as expected. Execution of cells containing imports may result in large downloads (up to 60MB of content for the first import from SciPy). Load times when importing from SciPy may take roughly 10-20 seconds. If you notice any problems, feel free to open an [issue](https://github.com/scipy/scipy/issues/new/choose).\n\n</div>",
            "metadata": {}
        },
        {
            "id": "f92a9a6d",
            "cell_type": "code",
            "metadata": {},
            "execution_count": null,
            "source": "import numpy as np\nfrom scipy.special import zeta, polygamma, factorial",
            "outputs": []
        },
        {
            "id": "72487fb0",
            "cell_type": "markdown",
            "source": "Some specific values:\n",
            "metadata": {}
        },
        {
            "id": "7570f39b",
            "cell_type": "code",
            "metadata": {},
            "execution_count": null,
            "source": "zeta(2), np.pi**2/6",
            "outputs": [
                {
                    "output_type": "execute_result",
                    "metadata": {},
                    "data": {
                        "text/plain": "(1.6449340668482266, 1.6449340668482264)"
                    },
                    "execution_count": null
                }
            ]
        },
        {
            "id": "9e15c2bc",
            "cell_type": "code",
            "metadata": {},
            "execution_count": null,
            "source": "zeta(4), np.pi**4/90",
            "outputs": [
                {
                    "output_type": "execute_result",
                    "metadata": {},
                    "data": {
                        "text/plain": "(1.0823232337111381, 1.082323233711138)"
                    },
                    "execution_count": null
                }
            ]
        },
        {
            "id": "fb5ccfde",
            "cell_type": "markdown",
            "source": "Relation to the `polygamma` function:\n",
            "metadata": {}
        },
        {
            "id": "dc8b1e3e",
            "cell_type": "code",
            "metadata": {},
            "execution_count": null,
            "source": "m = 3\nx = 1.25\npolygamma(m, x)",
            "outputs": [
                {
                    "output_type": "execute_result",
                    "metadata": {},
                    "data": {
                        "text/plain": "array(2.782144009188397)"
                    },
                    "execution_count": null
                }
            ]
        },
        {
            "id": "90f634b8",
            "cell_type": "code",
            "metadata": {},
            "execution_count": null,
            "source": "(-1)**(m+1) * factorial(m) * zeta(m+1, x)",
            "outputs": [
                {
                    "output_type": "execute_result",
                    "metadata": {},
                    "data": {
                        "text/plain": "2.7821440091883969"
                    },
                    "execution_count": null
                }
            ]
        }
    ]
}