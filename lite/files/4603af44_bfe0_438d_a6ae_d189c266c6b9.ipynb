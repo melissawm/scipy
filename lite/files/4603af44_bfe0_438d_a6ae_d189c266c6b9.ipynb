{
    "nbformat": 4,
    "nbformat_minor": 5,
    "metadata": {
        "kernelspec": {
            "display_name": "Python",
            "language": "python",
            "name": "python"
        },
        "language_info": {
            "name": "python"
        }
    },
    "cells": [
        {
            "id": "646ee0e6",
            "cell_type": "markdown",
            "source": "<div class='alert alert-warning'>\n\nSciPy's interactive examples with Jupyterlite are experimental and may not always work as expected. Execution of cells containing imports may result in large downloads (up to 60MB of content for the first import from SciPy). Load times when importing from SciPy may take roughly 10-20 seconds. If you notice any problems, feel free to open an [issue](https://github.com/scipy/scipy/issues/new/choose).\n\n</div>",
            "metadata": {}
        },
        {
            "id": "7b8c8080",
            "cell_type": "code",
            "metadata": {},
            "execution_count": null,
            "source": "from scipy.spatial.transform import Rotation as R\nimport numpy as np",
            "outputs": []
        },
        {
            "id": "e5769c97",
            "cell_type": "markdown",
            "source": "Inverting a single rotation:\n",
            "metadata": {}
        },
        {
            "id": "31fc2626",
            "cell_type": "code",
            "metadata": {},
            "execution_count": null,
            "source": "p = R.from_euler('z', 45, degrees=True)\nq = p.inv()\nq.as_euler('zyx', degrees=True)",
            "outputs": [
                {
                    "output_type": "execute_result",
                    "metadata": {},
                    "data": {
                        "text/plain": "array([-45.,   0.,   0.])"
                    },
                    "execution_count": null
                }
            ]
        },
        {
            "id": "177c3fce",
            "cell_type": "markdown",
            "source": "Inverting multiple rotations:\n",
            "metadata": {}
        },
        {
            "id": "c6803644",
            "cell_type": "code",
            "metadata": {},
            "execution_count": null,
            "source": "p = R.from_rotvec([[0, 0, np.pi/3], [-np.pi/4, 0, 0]])\nq = p.inv()\nq.as_rotvec()",
            "outputs": [
                {
                    "output_type": "execute_result",
                    "metadata": {},
                    "data": {
                        "text/plain": "array([[-0.        , -0.        , -1.04719755],\n       [ 0.78539816, -0.        , -0.        ]])"
                    },
                    "execution_count": null
                }
            ]
        }
    ]
}