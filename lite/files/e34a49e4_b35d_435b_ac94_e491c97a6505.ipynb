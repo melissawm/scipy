{
    "nbformat": 4,
    "nbformat_minor": 5,
    "metadata": {
        "kernelspec": {
            "display_name": "Python",
            "language": "python",
            "name": "python"
        },
        "language_info": {
            "name": "python"
        }
    },
    "cells": [
        {
            "id": "34695e8b",
            "cell_type": "markdown",
            "source": "<div class='alert alert-warning'>\n\nSciPy's interactive examples with Jupyterlite are experimental and may not always work as expected. Execution of cells containing imports may result in large downloads (up to 60MB of content for the first import from SciPy). Load times when importing from SciPy may take roughly 10-20 seconds. If you notice any problems, feel free to open an [issue](https://github.com/scipy/scipy/issues/new/choose).\n\n</div>",
            "metadata": {}
        },
        {
            "id": "5fe0feed",
            "cell_type": "markdown",
            "source": "Compute the student t cumulative distribution function for one\nparameter set.\n",
            "metadata": {}
        },
        {
            "id": "adfa3308",
            "cell_type": "code",
            "metadata": {},
            "execution_count": null,
            "source": "from scipy.special import stdtr, stdtridf\ndf, x = 5, 2\ncdf_value = stdtr(df, x)\ncdf_value",
            "outputs": [
                {
                    "output_type": "execute_result",
                    "metadata": {},
                    "data": {
                        "text/plain": "0.9490302605850709"
                    },
                    "execution_count": null
                }
            ]
        },
        {
            "id": "fd21045a",
            "cell_type": "markdown",
            "source": "Verify that `stdtridf` recovers the original value for `df` given\nthe CDF value and `x`.\n",
            "metadata": {}
        },
        {
            "id": "50e0b8aa",
            "cell_type": "code",
            "metadata": {},
            "execution_count": null,
            "source": "stdtridf(cdf_value, x)",
            "outputs": [
                {
                    "output_type": "execute_result",
                    "metadata": {},
                    "data": {
                        "text/plain": "5.0"
                    },
                    "execution_count": null
                }
            ]
        }
    ]
}