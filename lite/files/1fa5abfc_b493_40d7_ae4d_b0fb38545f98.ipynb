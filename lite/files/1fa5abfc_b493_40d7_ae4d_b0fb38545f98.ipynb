{
    "nbformat": 4,
    "nbformat_minor": 5,
    "metadata": {
        "kernelspec": {
            "display_name": "Python",
            "language": "python",
            "name": "python"
        },
        "language_info": {
            "name": "python"
        }
    },
    "cells": [
        {
            "id": "d883b200",
            "cell_type": "markdown",
            "source": "<div class='alert alert-warning'>\n\nSciPy's interactive examples with Jupyterlite are experimental and may not always work as expected. Execution of cells containing imports may result in large downloads (up to 60MB of content for the first import from SciPy). Load times when importing from SciPy may take roughly 10-20 seconds. If you notice any problems, feel free to open an [issue](https://github.com/scipy/scipy/issues/new/choose).\n\n</div>",
            "metadata": {}
        },
        {
            "id": "0630479e",
            "cell_type": "code",
            "metadata": {},
            "execution_count": null,
            "source": "import numpy as np\nfrom scipy.stats import gompertz\nimport matplotlib.pyplot as plt\nfig, ax = plt.subplots(1, 1)",
            "outputs": []
        },
        {
            "id": "ecc6e9be",
            "cell_type": "markdown",
            "source": "Calculate the first four moments:\n",
            "metadata": {}
        },
        {
            "id": "df657495",
            "cell_type": "code",
            "metadata": {},
            "execution_count": null,
            "source": "c = 0.947\nmean, var, skew, kurt = gompertz.stats(c, moments='mvsk')",
            "outputs": []
        },
        {
            "id": "9c935b7e",
            "cell_type": "markdown",
            "source": "Display the probability density function (``pdf``):\n",
            "metadata": {}
        },
        {
            "id": "9f2c956a",
            "cell_type": "code",
            "metadata": {},
            "execution_count": null,
            "source": "x = np.linspace(gompertz.ppf(0.01, c),\n                gompertz.ppf(0.99, c), 100)\nax.plot(x, gompertz.pdf(x, c),\n       'r-', lw=5, alpha=0.6, label='gompertz pdf')",
            "outputs": []
        },
        {
            "id": "01c22b42",
            "cell_type": "markdown",
            "source": "Alternatively, the distribution object can be called (as a function)\nto fix the shape, location and scale parameters. This returns a \"frozen\"\nRV object holding the given parameters fixed.\n\nFreeze the distribution and display the frozen ``pdf``:\n",
            "metadata": {}
        },
        {
            "id": "145b9011",
            "cell_type": "code",
            "metadata": {},
            "execution_count": null,
            "source": "rv = gompertz(c)\nax.plot(x, rv.pdf(x), 'k-', lw=2, label='frozen pdf')",
            "outputs": []
        },
        {
            "id": "1e82aaa1",
            "cell_type": "markdown",
            "source": "Check accuracy of ``cdf`` and ``ppf``:\n",
            "metadata": {}
        },
        {
            "id": "fb82c4b3",
            "cell_type": "code",
            "metadata": {},
            "execution_count": null,
            "source": "vals = gompertz.ppf([0.001, 0.5, 0.999], c)\nnp.allclose([0.001, 0.5, 0.999], gompertz.cdf(vals, c))",
            "outputs": [
                {
                    "output_type": "execute_result",
                    "metadata": {},
                    "data": {
                        "text/plain": "True"
                    },
                    "execution_count": null
                }
            ]
        },
        {
            "id": "e86f6855",
            "cell_type": "markdown",
            "source": "Generate random numbers:\n",
            "metadata": {}
        },
        {
            "id": "045a768e",
            "cell_type": "code",
            "metadata": {},
            "execution_count": null,
            "source": "r = gompertz.rvs(c, size=1000)",
            "outputs": []
        },
        {
            "id": "c03a0a10",
            "cell_type": "markdown",
            "source": "And compare the histogram:\n",
            "metadata": {}
        },
        {
            "id": "0b8b9fdc",
            "cell_type": "code",
            "metadata": {},
            "execution_count": null,
            "source": "ax.hist(r, density=True, bins='auto', histtype='stepfilled', alpha=0.2)\nax.set_xlim([x[0], x[-1]])\nax.legend(loc='best', frameon=False)\nplt.show()",
            "outputs": []
        }
    ]
}