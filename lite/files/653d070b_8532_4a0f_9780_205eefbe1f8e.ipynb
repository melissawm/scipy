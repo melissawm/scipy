{
    "nbformat": 4,
    "nbformat_minor": 5,
    "metadata": {
        "kernelspec": {
            "display_name": "Python",
            "language": "python",
            "name": "python"
        },
        "language_info": {
            "name": "python"
        }
    },
    "cells": [
        {
            "id": "68de4d9e",
            "cell_type": "markdown",
            "source": "<div class='alert alert-warning'>\n\nSciPy's interactive examples with Jupyterlite are experimental and may not always work as expected. Execution of cells containing imports may result in large downloads (up to 60MB of content for the first import from SciPy). Load times when importing from SciPy may take roughly 10-20 seconds. If you notice any problems, feel free to open an [issue](https://github.com/scipy/scipy/issues/new/choose).\n\n</div>",
            "metadata": {}
        },
        {
            "id": "e161b850",
            "cell_type": "code",
            "metadata": {},
            "execution_count": null,
            "source": "import numpy as np\nfrom scipy.stats import anglit\nimport matplotlib.pyplot as plt\nfig, ax = plt.subplots(1, 1)",
            "outputs": []
        },
        {
            "id": "83e14e7c",
            "cell_type": "markdown",
            "source": "Calculate the first four moments:\n",
            "metadata": {}
        },
        {
            "id": "20b72a0b",
            "cell_type": "code",
            "metadata": {},
            "execution_count": null,
            "source": "mean, var, skew, kurt = anglit.stats(moments='mvsk')",
            "outputs": []
        },
        {
            "id": "c2b93854",
            "cell_type": "markdown",
            "source": "Display the probability density function (``pdf``):\n",
            "metadata": {}
        },
        {
            "id": "f6e71dce",
            "cell_type": "code",
            "metadata": {},
            "execution_count": null,
            "source": "x = np.linspace(anglit.ppf(0.01),\n                anglit.ppf(0.99), 100)\nax.plot(x, anglit.pdf(x),\n       'r-', lw=5, alpha=0.6, label='anglit pdf')",
            "outputs": []
        },
        {
            "id": "6a2a191f",
            "cell_type": "markdown",
            "source": "Alternatively, the distribution object can be called (as a function)\nto fix the shape, location and scale parameters. This returns a \"frozen\"\nRV object holding the given parameters fixed.\n\nFreeze the distribution and display the frozen ``pdf``:\n",
            "metadata": {}
        },
        {
            "id": "5132b7c7",
            "cell_type": "code",
            "metadata": {},
            "execution_count": null,
            "source": "rv = anglit()\nax.plot(x, rv.pdf(x), 'k-', lw=2, label='frozen pdf')",
            "outputs": []
        },
        {
            "id": "dca5f466",
            "cell_type": "markdown",
            "source": "Check accuracy of ``cdf`` and ``ppf``:\n",
            "metadata": {}
        },
        {
            "id": "4d24f88d",
            "cell_type": "code",
            "metadata": {},
            "execution_count": null,
            "source": "vals = anglit.ppf([0.001, 0.5, 0.999])\nnp.allclose([0.001, 0.5, 0.999], anglit.cdf(vals))",
            "outputs": [
                {
                    "output_type": "execute_result",
                    "metadata": {},
                    "data": {
                        "text/plain": "True"
                    },
                    "execution_count": null
                }
            ]
        },
        {
            "id": "84365a6a",
            "cell_type": "markdown",
            "source": "Generate random numbers:\n",
            "metadata": {}
        },
        {
            "id": "d3a89037",
            "cell_type": "code",
            "metadata": {},
            "execution_count": null,
            "source": "r = anglit.rvs(size=1000)",
            "outputs": []
        },
        {
            "id": "edf0400f",
            "cell_type": "markdown",
            "source": "And compare the histogram:\n",
            "metadata": {}
        },
        {
            "id": "30b3a447",
            "cell_type": "code",
            "metadata": {},
            "execution_count": null,
            "source": "ax.hist(r, density=True, bins='auto', histtype='stepfilled', alpha=0.2)\nax.set_xlim([x[0], x[-1]])\nax.legend(loc='best', frameon=False)\nplt.show()",
            "outputs": []
        }
    ]
}