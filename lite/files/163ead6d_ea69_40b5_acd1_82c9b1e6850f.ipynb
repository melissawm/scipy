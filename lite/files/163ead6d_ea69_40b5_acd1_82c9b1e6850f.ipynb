{
    "nbformat": 4,
    "nbformat_minor": 5,
    "metadata": {
        "kernelspec": {
            "display_name": "Python",
            "language": "python",
            "name": "python"
        },
        "language_info": {
            "name": "python"
        }
    },
    "cells": [
        {
            "id": "8b23644d",
            "cell_type": "markdown",
            "source": "<div class='alert alert-warning'>\n\nSciPy's interactive examples with Jupyterlite are experimental and may not always work as expected. Execution of cells containing imports may result in large downloads (up to 60MB of content for the first import from SciPy). Load times when importing from SciPy may take roughly 10-20 seconds. If you notice any problems, feel free to open an [issue](https://github.com/scipy/scipy/issues/new/choose).\n\n</div>",
            "metadata": {}
        },
        {
            "id": "40a8c7aa",
            "cell_type": "markdown",
            "source": "For readability, all angles are printed out in degrees.\n",
            "metadata": {}
        },
        {
            "id": "41809b3b",
            "cell_type": "code",
            "metadata": {},
            "execution_count": null,
            "source": "import numpy as np\nfrom scipy.stats import circmean\nimport matplotlib.pyplot as plt\nangles = np.deg2rad(np.array([20, 30, 330]))\ncircmean = circmean(angles)\nnp.rad2deg(circmean)",
            "outputs": [
                {
                    "output_type": "execute_result",
                    "metadata": {},
                    "data": {
                        "text/plain": "7.294976657784009"
                    },
                    "execution_count": null
                }
            ]
        },
        {
            "id": "0ad6f581",
            "cell_type": "code",
            "metadata": {},
            "execution_count": null,
            "source": "mean = angles.mean()\nnp.rad2deg(mean)",
            "outputs": [
                {
                    "output_type": "execute_result",
                    "metadata": {},
                    "data": {
                        "text/plain": "126.66666666666666"
                    },
                    "execution_count": null
                }
            ]
        },
        {
            "id": "0c2e1cc6",
            "cell_type": "markdown",
            "source": "Plot and compare the circular mean against the arithmetic mean.\n",
            "metadata": {}
        },
        {
            "id": "552a20b0",
            "cell_type": "code",
            "metadata": {},
            "execution_count": null,
            "source": "plt.plot(np.cos(np.linspace(0, 2*np.pi, 500)),\n         np.sin(np.linspace(0, 2*np.pi, 500)),\n         c='k')\nplt.scatter(np.cos(angles), np.sin(angles), c='k')\nplt.scatter(np.cos(circmean), np.sin(circmean), c='b',\n            label='circmean')\nplt.scatter(np.cos(mean), np.sin(mean), c='r', label='mean')\nplt.legend()\nplt.axis('equal')\nplt.show()",
            "outputs": []
        }
    ]
}