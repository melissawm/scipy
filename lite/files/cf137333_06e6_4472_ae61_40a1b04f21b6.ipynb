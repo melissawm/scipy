{
    "nbformat": 4,
    "nbformat_minor": 5,
    "metadata": {
        "kernelspec": {
            "display_name": "Python",
            "language": "python",
            "name": "python"
        },
        "language_info": {
            "name": "python"
        }
    },
    "cells": [
        {
            "id": "29387fa5",
            "cell_type": "markdown",
            "source": "<div class='alert alert-warning'>\n\nSciPy's interactive examples with Jupyterlite are experimental and may not always work as expected. Execution of cells containing imports may result in large downloads (up to 60MB of content for the first import from SciPy). Load times when importing from SciPy may take roughly 10-20 seconds. If you notice any problems, feel free to open an [issue](https://github.com/scipy/scipy/issues/new/choose).\n\n</div>",
            "metadata": {}
        },
        {
            "id": "d8fcd2ec",
            "cell_type": "markdown",
            "source": "Three-quarters of the given values lie below a given score:\n",
            "metadata": {}
        },
        {
            "id": "0349e8e1",
            "cell_type": "code",
            "metadata": {},
            "execution_count": null,
            "source": "import numpy as np\nfrom scipy import stats\nstats.percentileofscore([1, 2, 3, 4], 3)",
            "outputs": [
                {
                    "output_type": "execute_result",
                    "metadata": {},
                    "data": {
                        "text/plain": "75.0"
                    },
                    "execution_count": null
                }
            ]
        },
        {
            "id": "4aa4fb90",
            "cell_type": "markdown",
            "source": "With multiple matches, note how the scores of the two matches, 0.6\nand 0.8 respectively, are averaged:\n",
            "metadata": {}
        },
        {
            "id": "e1cd0e77",
            "cell_type": "code",
            "metadata": {},
            "execution_count": null,
            "source": "stats.percentileofscore([1, 2, 3, 3, 4], 3)",
            "outputs": [
                {
                    "output_type": "execute_result",
                    "metadata": {},
                    "data": {
                        "text/plain": "70.0"
                    },
                    "execution_count": null
                }
            ]
        },
        {
            "id": "7d95dbb4",
            "cell_type": "markdown",
            "source": "Only 2/5 values are strictly less than 3:\n",
            "metadata": {}
        },
        {
            "id": "4c1f1ade",
            "cell_type": "code",
            "metadata": {},
            "execution_count": null,
            "source": "stats.percentileofscore([1, 2, 3, 3, 4], 3, kind='strict')",
            "outputs": [
                {
                    "output_type": "execute_result",
                    "metadata": {},
                    "data": {
                        "text/plain": "40.0"
                    },
                    "execution_count": null
                }
            ]
        },
        {
            "id": "07c606ea",
            "cell_type": "markdown",
            "source": "But 4/5 values are less than or equal to 3:\n",
            "metadata": {}
        },
        {
            "id": "10d487af",
            "cell_type": "code",
            "metadata": {},
            "execution_count": null,
            "source": "stats.percentileofscore([1, 2, 3, 3, 4], 3, kind='weak')",
            "outputs": [
                {
                    "output_type": "execute_result",
                    "metadata": {},
                    "data": {
                        "text/plain": "80.0"
                    },
                    "execution_count": null
                }
            ]
        },
        {
            "id": "6dff9c1f",
            "cell_type": "markdown",
            "source": "The average between the weak and the strict scores is:\n",
            "metadata": {}
        },
        {
            "id": "4f5fc484",
            "cell_type": "code",
            "metadata": {},
            "execution_count": null,
            "source": "stats.percentileofscore([1, 2, 3, 3, 4], 3, kind='mean')",
            "outputs": [
                {
                    "output_type": "execute_result",
                    "metadata": {},
                    "data": {
                        "text/plain": "60.0"
                    },
                    "execution_count": null
                }
            ]
        },
        {
            "id": "740b1810",
            "cell_type": "markdown",
            "source": "Score arrays (of any dimensionality) are supported:\n",
            "metadata": {}
        },
        {
            "id": "8e5ff758",
            "cell_type": "code",
            "metadata": {},
            "execution_count": null,
            "source": "stats.percentileofscore([1, 2, 3, 3, 4], [2, 3])",
            "outputs": [
                {
                    "output_type": "execute_result",
                    "metadata": {},
                    "data": {
                        "text/plain": "array([40., 70.])"
                    },
                    "execution_count": null
                }
            ]
        },
        {
            "id": "5ff1dc8e",
            "cell_type": "markdown",
            "source": "The inputs can be infinite:\n",
            "metadata": {}
        },
        {
            "id": "4fba4728",
            "cell_type": "code",
            "metadata": {},
            "execution_count": null,
            "source": "stats.percentileofscore([-np.inf, 0, 1, np.inf], [1, 2, np.inf])",
            "outputs": [
                {
                    "output_type": "execute_result",
                    "metadata": {},
                    "data": {
                        "text/plain": "array([75., 75., 100.])"
                    },
                    "execution_count": null
                }
            ]
        },
        {
            "id": "cdce1c68",
            "cell_type": "markdown",
            "source": "If `a` is empty, then the resulting percentiles are all `nan`:\n",
            "metadata": {}
        },
        {
            "id": "2770fffc",
            "cell_type": "code",
            "metadata": {},
            "execution_count": null,
            "source": "stats.percentileofscore([], [1, 2])",
            "outputs": [
                {
                    "output_type": "execute_result",
                    "metadata": {},
                    "data": {
                        "text/plain": "array([nan, nan])"
                    },
                    "execution_count": null
                }
            ]
        }
    ]
}