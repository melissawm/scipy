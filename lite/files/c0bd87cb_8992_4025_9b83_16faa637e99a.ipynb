{
    "nbformat": 4,
    "nbformat_minor": 5,
    "metadata": {
        "kernelspec": {
            "display_name": "Python",
            "language": "python",
            "name": "python"
        },
        "language_info": {
            "name": "python"
        }
    },
    "cells": [
        {
            "id": "cdb448a4",
            "cell_type": "markdown",
            "source": "<div class='alert alert-warning'>\n\nSciPy's interactive examples with Jupyterlite are experimental and may not always work as expected. Execution of cells containing imports may result in large downloads (up to 60MB of content for the first import from SciPy). Load times when importing from SciPy may take roughly 10-20 seconds. If you notice any problems, feel free to open an [issue](https://github.com/scipy/scipy/issues/new/choose).\n\n</div>",
            "metadata": {}
        },
        {
            "id": "1ba68eae",
            "cell_type": "code",
            "metadata": {},
            "execution_count": null,
            "source": "import numpy as np\nfrom scipy.stats import dlaplace\nimport matplotlib.pyplot as plt\nfig, ax = plt.subplots(1, 1)",
            "outputs": []
        },
        {
            "id": "7ca0d160",
            "cell_type": "markdown",
            "source": "Calculate the first four moments:\n",
            "metadata": {}
        },
        {
            "id": "9bbea007",
            "cell_type": "code",
            "metadata": {},
            "execution_count": null,
            "source": "a = 0.8\nmean, var, skew, kurt = dlaplace.stats(a, moments='mvsk')",
            "outputs": []
        },
        {
            "id": "13010999",
            "cell_type": "markdown",
            "source": "Display the probability mass function (``pmf``):\n",
            "metadata": {}
        },
        {
            "id": "8a8ade5b",
            "cell_type": "code",
            "metadata": {},
            "execution_count": null,
            "source": "x = np.arange(dlaplace.ppf(0.01, a),\n              dlaplace.ppf(0.99, a))\nax.plot(x, dlaplace.pmf(x, a), 'bo', ms=8, label='dlaplace pmf')\nax.vlines(x, 0, dlaplace.pmf(x, a), colors='b', lw=5, alpha=0.5)",
            "outputs": []
        },
        {
            "id": "6061965b",
            "cell_type": "markdown",
            "source": "Alternatively, the distribution object can be called (as a function)\nto fix the shape and location. This returns a \"frozen\" RV object holding\nthe given parameters fixed.\n\nFreeze the distribution and display the frozen ``pmf``:\n",
            "metadata": {}
        },
        {
            "id": "697e3991",
            "cell_type": "code",
            "metadata": {},
            "execution_count": null,
            "source": "rv = dlaplace(a)\nax.vlines(x, 0, rv.pmf(x), colors='k', linestyles='-', lw=1,\n        label='frozen pmf')\nax.legend(loc='best', frameon=False)\nplt.show()",
            "outputs": []
        },
        {
            "id": "7cb1e797",
            "cell_type": "markdown",
            "source": "Check accuracy of ``cdf`` and ``ppf``:\n",
            "metadata": {}
        },
        {
            "id": "bc18a71d",
            "cell_type": "code",
            "metadata": {},
            "execution_count": null,
            "source": "prob = dlaplace.cdf(x, a)\nnp.allclose(x, dlaplace.ppf(prob, a))",
            "outputs": [
                {
                    "output_type": "execute_result",
                    "metadata": {},
                    "data": {
                        "text/plain": "True"
                    },
                    "execution_count": null
                }
            ]
        },
        {
            "id": "3995f368",
            "cell_type": "markdown",
            "source": "Generate random numbers:\n",
            "metadata": {}
        },
        {
            "id": "619f3521",
            "cell_type": "code",
            "metadata": {},
            "execution_count": null,
            "source": "r = dlaplace.rvs(a, size=1000)",
            "outputs": []
        }
    ]
}