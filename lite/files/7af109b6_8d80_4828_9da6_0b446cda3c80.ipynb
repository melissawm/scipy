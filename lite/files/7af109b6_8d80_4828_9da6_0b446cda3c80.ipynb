{
    "nbformat": 4,
    "nbformat_minor": 5,
    "metadata": {
        "kernelspec": {
            "display_name": "Python",
            "language": "python",
            "name": "python"
        },
        "language_info": {
            "name": "python"
        }
    },
    "cells": [
        {
            "id": "154f9934",
            "cell_type": "markdown",
            "source": "<div class='alert alert-warning'>\n\nSciPy's interactive examples with Jupyterlite are experimental and may not always work as expected. Execution of cells containing imports may result in large downloads (up to 60MB of content for the first import from SciPy). Load times when importing from SciPy may take roughly 10-20 seconds. If you notice any problems, feel free to open an [issue](https://github.com/scipy/scipy/issues/new/choose).\n\n</div>",
            "metadata": {}
        },
        {
            "id": "a0b0883c",
            "cell_type": "code",
            "metadata": {},
            "execution_count": null,
            "source": "import numpy as np\nfrom scipy import stats\nfrom scipy.stats.sampling import FastGeneratorInversion",
            "outputs": []
        },
        {
            "id": "2888c156",
            "cell_type": "markdown",
            "source": "Create an object for the normal distribution:\n",
            "metadata": {}
        },
        {
            "id": "c8a9bb78",
            "cell_type": "code",
            "metadata": {},
            "execution_count": null,
            "source": "d_norm_frozen = stats.norm()\nd_norm = FastGeneratorInversion(d_norm_frozen)",
            "outputs": []
        },
        {
            "id": "18297b31",
            "cell_type": "markdown",
            "source": "To confirm that the numerical inversion is accurate, we evaluate the\napproximation error (u-error and x-error).\n",
            "metadata": {}
        },
        {
            "id": "745ddabd",
            "cell_type": "code",
            "metadata": {},
            "execution_count": null,
            "source": "u_error, x_error = d_norm.evaluate_error(x_error=True)",
            "outputs": []
        },
        {
            "id": "1502d29c",
            "cell_type": "markdown",
            "source": "The u-error should be below 1e-10:\n",
            "metadata": {}
        },
        {
            "id": "457bc07f",
            "cell_type": "code",
            "metadata": {},
            "execution_count": null,
            "source": "u_error",
            "outputs": [
                {
                    "output_type": "execute_result",
                    "metadata": {},
                    "data": {
                        "text/plain": "8.785783212061915e-11  # may vary"
                    },
                    "execution_count": null
                }
            ]
        },
        {
            "id": "1197ccfe",
            "cell_type": "markdown",
            "source": "Compare the PPF against approximation `ppf`:\n",
            "metadata": {}
        },
        {
            "id": "45dac98b",
            "cell_type": "code",
            "metadata": {},
            "execution_count": null,
            "source": "q = [0.001, 0.2, 0.4, 0.6, 0.8, 0.999]\ndiff = np.abs(d_norm_frozen.ppf(q) - d_norm.ppf(q))\nx_error_abs = np.max(diff)\nx_error_abs",
            "outputs": [
                {
                    "output_type": "execute_result",
                    "metadata": {},
                    "data": {
                        "text/plain": "1.2937954707581412e-08"
                    },
                    "execution_count": null
                }
            ]
        },
        {
            "id": "aea48a9a",
            "cell_type": "markdown",
            "source": "This is the absolute x-error evaluated at the points q. The relative\nerror is given by\n",
            "metadata": {}
        },
        {
            "id": "dbef129e",
            "cell_type": "code",
            "metadata": {},
            "execution_count": null,
            "source": "x_error_rel = np.max(diff / np.abs(d_norm_frozen.ppf(q)))\nx_error_rel",
            "outputs": [
                {
                    "output_type": "execute_result",
                    "metadata": {},
                    "data": {
                        "text/plain": "4.186725600453555e-09"
                    },
                    "execution_count": null
                }
            ]
        },
        {
            "id": "cc74b03a",
            "cell_type": "markdown",
            "source": "The x_error computed above is derived in a very similar way over a\nmuch larger set of random values q. At each value q[i], the minimum\nof the relative and absolute error is taken. The final value is then\nderived as the maximum of these values. In our example, we get the\nfollowing value:\n",
            "metadata": {}
        },
        {
            "id": "4c1e8480",
            "cell_type": "code",
            "metadata": {},
            "execution_count": null,
            "source": "x_error",
            "outputs": [
                {
                    "output_type": "execute_result",
                    "metadata": {},
                    "data": {
                        "text/plain": "4.507068014335139e-07  # may vary"
                    },
                    "execution_count": null
                }
            ]
        }
    ]
}