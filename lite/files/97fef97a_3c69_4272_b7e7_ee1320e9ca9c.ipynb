{
    "nbformat": 4,
    "nbformat_minor": 5,
    "metadata": {
        "kernelspec": {
            "display_name": "Python",
            "language": "python",
            "name": "python"
        },
        "language_info": {
            "name": "python"
        }
    },
    "cells": [
        {
            "id": "cffa3784",
            "cell_type": "markdown",
            "source": "<div class='alert alert-warning'>\n\nSciPy's interactive examples with Jupyterlite are experimental and may not always work as expected. Execution of cells containing imports may result in large downloads (up to 60MB of content for the first import from SciPy). Load times when importing from SciPy may take roughly 10-20 seconds. If you notice any problems, feel free to open an [issue](https://github.com/scipy/scipy/issues/new/choose).\n\n</div>",
            "metadata": {}
        },
        {
            "id": "a61eb2b4",
            "cell_type": "code",
            "metadata": {},
            "execution_count": null,
            "source": "import numpy as np\nfrom scipy.interpolate import pade\ne_exp = [1.0, 1.0, 1.0/2.0, 1.0/6.0, 1.0/24.0, 1.0/120.0]\np, q = pade(e_exp, 2)",
            "outputs": []
        },
        {
            "id": "1d8cd75d",
            "cell_type": "code",
            "metadata": {},
            "execution_count": null,
            "source": "e_exp.reverse()\ne_poly = np.poly1d(e_exp)",
            "outputs": []
        },
        {
            "id": "3b60b019",
            "cell_type": "markdown",
            "source": "Compare ``e_poly(x)`` and the Pade approximation ``p(x)/q(x)``\n",
            "metadata": {}
        },
        {
            "id": "5b90dfa2",
            "cell_type": "code",
            "metadata": {},
            "execution_count": null,
            "source": "e_poly(1)",
            "outputs": [
                {
                    "output_type": "execute_result",
                    "metadata": {},
                    "data": {
                        "text/plain": "2.7166666666666668"
                    },
                    "execution_count": null
                }
            ]
        },
        {
            "id": "e046ea0b",
            "cell_type": "code",
            "metadata": {},
            "execution_count": null,
            "source": "p(1)/q(1)",
            "outputs": [
                {
                    "output_type": "execute_result",
                    "metadata": {},
                    "data": {
                        "text/plain": "2.7179487179487181"
                    },
                    "execution_count": null
                }
            ]
        }
    ]
}