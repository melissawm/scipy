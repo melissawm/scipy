{
    "nbformat": 4,
    "nbformat_minor": 5,
    "metadata": {
        "kernelspec": {
            "display_name": "Python",
            "language": "python",
            "name": "python"
        },
        "language_info": {
            "name": "python"
        }
    },
    "cells": [
        {
            "id": "5b974fae",
            "cell_type": "markdown",
            "source": "<div class='alert alert-warning'>\n\nSciPy's interactive examples with Jupyterlite are experimental and may not always work as expected. Execution of cells containing imports may result in large downloads (up to 60MB of content for the first import from SciPy). Load times when importing from SciPy may take roughly 10-20 seconds. If you notice any problems, feel free to open an [issue](https://github.com/scipy/scipy/issues/new/choose).\n\n</div>",
            "metadata": {}
        },
        {
            "id": "e2367a40",
            "cell_type": "code",
            "metadata": {},
            "execution_count": null,
            "source": "import numpy as np\nfrom scipy.stats import dirichlet",
            "outputs": []
        },
        {
            "id": "376ec1b8",
            "cell_type": "markdown",
            "source": "Generate a dirichlet random variable\n",
            "metadata": {}
        },
        {
            "id": "193a4bdf",
            "cell_type": "code",
            "metadata": {},
            "execution_count": null,
            "source": "quantiles = np.array([0.2, 0.2, 0.6])  # specify quantiles\nalpha = np.array([0.4, 5, 15])  # specify concentration parameters\ndirichlet.pdf(quantiles, alpha)",
            "outputs": [
                {
                    "output_type": "execute_result",
                    "metadata": {},
                    "data": {
                        "text/plain": "0.2843831684937255"
                    },
                    "execution_count": null
                }
            ]
        },
        {
            "id": "be6321b2",
            "cell_type": "markdown",
            "source": "The same PDF but following a log scale\n",
            "metadata": {}
        },
        {
            "id": "890fc9bc",
            "cell_type": "code",
            "metadata": {},
            "execution_count": null,
            "source": "dirichlet.logpdf(quantiles, alpha)",
            "outputs": [
                {
                    "output_type": "execute_result",
                    "metadata": {},
                    "data": {
                        "text/plain": "-1.2574327653159187"
                    },
                    "execution_count": null
                }
            ]
        },
        {
            "id": "7d62d1ba",
            "cell_type": "markdown",
            "source": "Once we specify the dirichlet distribution\nwe can then calculate quantities of interest\n",
            "metadata": {}
        },
        {
            "id": "e46a2295",
            "cell_type": "code",
            "metadata": {},
            "execution_count": null,
            "source": "dirichlet.mean(alpha)  # get the mean of the distribution",
            "outputs": [
                {
                    "output_type": "execute_result",
                    "metadata": {},
                    "data": {
                        "text/plain": "array([0.01960784, 0.24509804, 0.73529412])"
                    },
                    "execution_count": null
                }
            ]
        },
        {
            "id": "eaa2e574",
            "cell_type": "code",
            "metadata": {},
            "execution_count": null,
            "source": "dirichlet.var(alpha) # get variance",
            "outputs": [
                {
                    "output_type": "execute_result",
                    "metadata": {},
                    "data": {
                        "text/plain": "array([0.00089829, 0.00864603, 0.00909517])"
                    },
                    "execution_count": null
                }
            ]
        },
        {
            "id": "13926667",
            "cell_type": "code",
            "metadata": {},
            "execution_count": null,
            "source": "dirichlet.entropy(alpha)  # calculate the differential entropy",
            "outputs": [
                {
                    "output_type": "execute_result",
                    "metadata": {},
                    "data": {
                        "text/plain": "-4.3280162474082715"
                    },
                    "execution_count": null
                }
            ]
        },
        {
            "id": "0c65e0a4",
            "cell_type": "markdown",
            "source": "We can also return random samples from the distribution\n",
            "metadata": {}
        },
        {
            "id": "8e2c3410",
            "cell_type": "code",
            "metadata": {},
            "execution_count": null,
            "source": "dirichlet.rvs(alpha, size=1, random_state=1)",
            "outputs": [
                {
                    "output_type": "execute_result",
                    "metadata": {},
                    "data": {
                        "text/plain": "array([[0.00766178, 0.24670518, 0.74563305]])"
                    },
                    "execution_count": null
                }
            ]
        },
        {
            "id": "a3dfed11",
            "cell_type": "code",
            "metadata": {},
            "execution_count": null,
            "source": "dirichlet.rvs(alpha, size=2, random_state=2)",
            "outputs": [
                {
                    "output_type": "execute_result",
                    "metadata": {},
                    "data": {
                        "text/plain": "array([[0.01639427, 0.1292273 , 0.85437844],\n       [0.00156917, 0.19033695, 0.80809388]])"
                    },
                    "execution_count": null
                }
            ]
        },
        {
            "id": "75c01e00",
            "cell_type": "markdown",
            "source": "Alternatively, the object may be called (as a function) to fix\nconcentration parameters, returning a \"frozen\" Dirichlet\nrandom variable:\n",
            "metadata": {}
        },
        {
            "id": "0e6fc498",
            "cell_type": "code",
            "metadata": {},
            "execution_count": null,
            "source": "rv = dirichlet(alpha)\n# Frozen object with the same methods but holding the given\n# concentration parameters fixed.",
            "outputs": []
        }
    ]
}