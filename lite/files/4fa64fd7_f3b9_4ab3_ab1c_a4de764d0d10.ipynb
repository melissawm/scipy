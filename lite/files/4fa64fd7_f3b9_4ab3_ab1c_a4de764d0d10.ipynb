{
    "nbformat": 4,
    "nbformat_minor": 5,
    "metadata": {
        "kernelspec": {
            "display_name": "Python",
            "language": "python",
            "name": "python"
        },
        "language_info": {
            "name": "python"
        }
    },
    "cells": [
        {
            "id": "ce733679",
            "cell_type": "markdown",
            "source": "<div class='alert alert-warning'>\n\nSciPy's interactive examples with Jupyterlite are experimental and may not always work as expected. Execution of cells containing imports may result in large downloads (up to 60MB of content for the first import from SciPy). Load times when importing from SciPy may take roughly 10-20 seconds. If you notice any problems, feel free to open an [issue](https://github.com/scipy/scipy/issues/new/choose).\n\n</div>",
            "metadata": {}
        },
        {
            "id": "3b46937a",
            "cell_type": "code",
            "metadata": {},
            "execution_count": null,
            "source": "import numpy as np\nfrom scipy.stats import foldnorm\nimport matplotlib.pyplot as plt\nfig, ax = plt.subplots(1, 1)",
            "outputs": []
        },
        {
            "id": "5156855f",
            "cell_type": "markdown",
            "source": "Calculate the first four moments:\n",
            "metadata": {}
        },
        {
            "id": "1620aa3a",
            "cell_type": "code",
            "metadata": {},
            "execution_count": null,
            "source": "c = 1.95\nmean, var, skew, kurt = foldnorm.stats(c, moments='mvsk')",
            "outputs": []
        },
        {
            "id": "9a87916a",
            "cell_type": "markdown",
            "source": "Display the probability density function (``pdf``):\n",
            "metadata": {}
        },
        {
            "id": "951b4f8f",
            "cell_type": "code",
            "metadata": {},
            "execution_count": null,
            "source": "x = np.linspace(foldnorm.ppf(0.01, c),\n                foldnorm.ppf(0.99, c), 100)\nax.plot(x, foldnorm.pdf(x, c),\n       'r-', lw=5, alpha=0.6, label='foldnorm pdf')",
            "outputs": []
        },
        {
            "id": "54f691b5",
            "cell_type": "markdown",
            "source": "Alternatively, the distribution object can be called (as a function)\nto fix the shape, location and scale parameters. This returns a \"frozen\"\nRV object holding the given parameters fixed.\n\nFreeze the distribution and display the frozen ``pdf``:\n",
            "metadata": {}
        },
        {
            "id": "3b605272",
            "cell_type": "code",
            "metadata": {},
            "execution_count": null,
            "source": "rv = foldnorm(c)\nax.plot(x, rv.pdf(x), 'k-', lw=2, label='frozen pdf')",
            "outputs": []
        },
        {
            "id": "a8d44f94",
            "cell_type": "markdown",
            "source": "Check accuracy of ``cdf`` and ``ppf``:\n",
            "metadata": {}
        },
        {
            "id": "004f8771",
            "cell_type": "code",
            "metadata": {},
            "execution_count": null,
            "source": "vals = foldnorm.ppf([0.001, 0.5, 0.999], c)\nnp.allclose([0.001, 0.5, 0.999], foldnorm.cdf(vals, c))",
            "outputs": [
                {
                    "output_type": "execute_result",
                    "metadata": {},
                    "data": {
                        "text/plain": "True"
                    },
                    "execution_count": null
                }
            ]
        },
        {
            "id": "ea005e52",
            "cell_type": "markdown",
            "source": "Generate random numbers:\n",
            "metadata": {}
        },
        {
            "id": "2a75dfe7",
            "cell_type": "code",
            "metadata": {},
            "execution_count": null,
            "source": "r = foldnorm.rvs(c, size=1000)",
            "outputs": []
        },
        {
            "id": "8ecca4d5",
            "cell_type": "markdown",
            "source": "And compare the histogram:\n",
            "metadata": {}
        },
        {
            "id": "a1c8f065",
            "cell_type": "code",
            "metadata": {},
            "execution_count": null,
            "source": "ax.hist(r, density=True, bins='auto', histtype='stepfilled', alpha=0.2)\nax.set_xlim([x[0], x[-1]])\nax.legend(loc='best', frameon=False)\nplt.show()",
            "outputs": []
        }
    ]
}