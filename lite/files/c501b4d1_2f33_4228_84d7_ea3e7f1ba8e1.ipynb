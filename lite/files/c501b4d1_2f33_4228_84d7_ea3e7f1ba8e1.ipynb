{
    "nbformat": 4,
    "nbformat_minor": 5,
    "metadata": {
        "kernelspec": {
            "display_name": "Python",
            "language": "python",
            "name": "python"
        },
        "language_info": {
            "name": "python"
        }
    },
    "cells": [
        {
            "id": "43a8adb0",
            "cell_type": "markdown",
            "source": "<div class='alert alert-warning'>\n\nSciPy's interactive examples with Jupyterlite are experimental and may not always work as expected. Execution of cells containing imports may result in large downloads (up to 60MB of content for the first import from SciPy). Load times when importing from SciPy may take roughly 10-20 seconds. If you notice any problems, feel free to open an [issue](https://github.com/scipy/scipy/issues/new/choose).\n\n</div>",
            "metadata": {}
        },
        {
            "id": "584a7cf7",
            "cell_type": "markdown",
            "source": "Generating the Nyquist plot of a transfer function\n",
            "metadata": {}
        },
        {
            "id": "d42642bc",
            "cell_type": "code",
            "metadata": {},
            "execution_count": null,
            "source": "from scipy import signal\nimport matplotlib.pyplot as plt",
            "outputs": []
        },
        {
            "id": "10238860",
            "cell_type": "markdown",
            "source": "Construct the transfer function $H(s) = \\frac{5}{(s-1)^3}$:\n",
            "metadata": {}
        },
        {
            "id": "4fe54b59",
            "cell_type": "code",
            "metadata": {},
            "execution_count": null,
            "source": "s1 = signal.ZerosPolesGain([], [1, 1, 1], [5])",
            "outputs": []
        },
        {
            "id": "995de204",
            "cell_type": "code",
            "metadata": {},
            "execution_count": null,
            "source": "w, H = signal.freqresp(s1)",
            "outputs": []
        },
        {
            "id": "a466bec6",
            "cell_type": "code",
            "metadata": {},
            "execution_count": null,
            "source": "plt.figure()\nplt.plot(H.real, H.imag, \"b\")\nplt.plot(H.real, -H.imag, \"r\")\nplt.show()",
            "outputs": []
        }
    ]
}