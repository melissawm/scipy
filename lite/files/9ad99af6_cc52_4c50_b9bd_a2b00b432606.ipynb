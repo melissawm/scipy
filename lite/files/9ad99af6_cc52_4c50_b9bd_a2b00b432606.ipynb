{
    "nbformat": 4,
    "nbformat_minor": 5,
    "metadata": {
        "kernelspec": {
            "display_name": "Python",
            "language": "python",
            "name": "python"
        },
        "language_info": {
            "name": "python"
        }
    },
    "cells": [
        {
            "id": "ef839028",
            "cell_type": "markdown",
            "source": "<div class='alert alert-warning'>\n\nSciPy's interactive examples with Jupyterlite are experimental and may not always work as expected. Execution of cells containing imports may result in large downloads (up to 60MB of content for the first import from SciPy). Load times when importing from SciPy may take roughly 10-20 seconds. If you notice any problems, feel free to open an [issue](https://github.com/scipy/scipy/issues/new/choose).\n\n</div>",
            "metadata": {}
        },
        {
            "id": "c6b09b0b",
            "cell_type": "markdown",
            "source": "Compute the modified Bessel function of the first kind of order 0 and\nits first two derivatives at 1.\n",
            "metadata": {}
        },
        {
            "id": "6713176b",
            "cell_type": "code",
            "metadata": {},
            "execution_count": null,
            "source": "from scipy.special import ivp\nivp(0, 1, 0), ivp(0, 1, 1), ivp(0, 1, 2)",
            "outputs": [
                {
                    "output_type": "execute_result",
                    "metadata": {},
                    "data": {
                        "text/plain": "(1.2660658777520084, 0.565159103992485, 0.7009067737595233)"
                    },
                    "execution_count": null
                }
            ]
        },
        {
            "id": "6325525b",
            "cell_type": "markdown",
            "source": "Compute the first derivative of the modified Bessel function of the first\nkind for several orders at 1 by providing an array for `v`.\n",
            "metadata": {}
        },
        {
            "id": "5f3e548b",
            "cell_type": "code",
            "metadata": {},
            "execution_count": null,
            "source": "ivp([0, 1, 2], 1, 1)",
            "outputs": [
                {
                    "output_type": "execute_result",
                    "metadata": {},
                    "data": {
                        "text/plain": "array([0.5651591 , 0.70090677, 0.29366376])"
                    },
                    "execution_count": null
                }
            ]
        },
        {
            "id": "0d23a6d8",
            "cell_type": "markdown",
            "source": "Compute the first derivative of the modified Bessel function of the\nfirst kind of order 0 at several points by providing an array for `z`.\n",
            "metadata": {}
        },
        {
            "id": "2f7f7472",
            "cell_type": "code",
            "metadata": {},
            "execution_count": null,
            "source": "import numpy as np\npoints = np.array([0., 1.5, 3.])\nivp(0, points, 1)",
            "outputs": [
                {
                    "output_type": "execute_result",
                    "metadata": {},
                    "data": {
                        "text/plain": "array([0.        , 0.98166643, 3.95337022])"
                    },
                    "execution_count": null
                }
            ]
        },
        {
            "id": "5aac013f",
            "cell_type": "markdown",
            "source": "Plot the modified Bessel function of the first kind of order 1 and its\nfirst three derivatives.\n",
            "metadata": {}
        },
        {
            "id": "bef365f5",
            "cell_type": "code",
            "metadata": {},
            "execution_count": null,
            "source": "import matplotlib.pyplot as plt\nx = np.linspace(-5, 5, 1000)\nfig, ax = plt.subplots()\nax.plot(x, ivp(1, x, 0), label=r\"$I_1$\")\nax.plot(x, ivp(1, x, 1), label=r\"$I_1'$\")\nax.plot(x, ivp(1, x, 2), label=r\"$I_1''$\")\nax.plot(x, ivp(1, x, 3), label=r\"$I_1'''$\")\nplt.legend()\nplt.show()",
            "outputs": []
        }
    ]
}