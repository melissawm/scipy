{
    "nbformat": 4,
    "nbformat_minor": 5,
    "metadata": {
        "kernelspec": {
            "display_name": "Python",
            "language": "python",
            "name": "python"
        },
        "language_info": {
            "name": "python"
        }
    },
    "cells": [
        {
            "id": "85ffb849",
            "cell_type": "markdown",
            "source": "<div class='alert alert-warning'>\n\nSciPy's interactive examples with Jupyterlite are experimental and may not always work as expected. Execution of cells containing imports may result in large downloads (up to 60MB of content for the first import from SciPy). Load times when importing from SciPy may take roughly 10-20 seconds. If you notice any problems, feel free to open an [issue](https://github.com/scipy/scipy/issues/new/choose).\n\n</div>",
            "metadata": {}
        },
        {
            "id": "bc98b6d7",
            "cell_type": "code",
            "metadata": {},
            "execution_count": null,
            "source": "import numpy as np\nimport matplotlib.pyplot as plt\nfrom scipy import stats\nrng = np.random.default_rng()",
            "outputs": []
        },
        {
            "id": "416d60d6",
            "cell_type": "markdown",
            "source": "Generate some data:\n",
            "metadata": {}
        },
        {
            "id": "f8c7127b",
            "cell_type": "code",
            "metadata": {},
            "execution_count": null,
            "source": "x = rng.random(10)\ny = 1.6*x + rng.random(10)",
            "outputs": []
        },
        {
            "id": "7cf06627",
            "cell_type": "markdown",
            "source": "Perform the linear regression:\n",
            "metadata": {}
        },
        {
            "id": "527d9941",
            "cell_type": "code",
            "metadata": {},
            "execution_count": null,
            "source": "res = stats.mstats.linregress(x, y)",
            "outputs": []
        },
        {
            "id": "9b334bcb",
            "cell_type": "markdown",
            "source": "Coefficient of determination (R-squared):\n",
            "metadata": {}
        },
        {
            "id": "4d711c5d",
            "cell_type": "code",
            "metadata": {},
            "execution_count": null,
            "source": "print(f\"R-squared: {res.rvalue**2:.6f}\")",
            "outputs": [
                {
                    "output_type": "execute_result",
                    "metadata": {},
                    "data": {
                        "text/plain": "R-squared: 0.717533"
                    },
                    "execution_count": null
                }
            ]
        },
        {
            "id": "10305bdd",
            "cell_type": "markdown",
            "source": "Plot the data along with the fitted line:\n",
            "metadata": {}
        },
        {
            "id": "7f0ab236",
            "cell_type": "code",
            "metadata": {},
            "execution_count": null,
            "source": "plt.plot(x, y, 'o', label='original data')\nplt.plot(x, res.intercept + res.slope*x, 'r', label='fitted line')\nplt.legend()\nplt.show()",
            "outputs": []
        },
        {
            "id": "fb7e11a4",
            "cell_type": "markdown",
            "source": "Calculate 95% confidence interval on slope and intercept:\n",
            "metadata": {}
        },
        {
            "id": "05e5b38a",
            "cell_type": "code",
            "metadata": {},
            "execution_count": null,
            "source": "# Two-sided inverse Students t-distribution\n# p - probability, df - degrees of freedom\nfrom scipy.stats import t\ntinv = lambda p, df: abs(t.ppf(p/2, df))",
            "outputs": []
        },
        {
            "id": "26758b6f",
            "cell_type": "code",
            "metadata": {},
            "execution_count": null,
            "source": "ts = tinv(0.05, len(x)-2)\nprint(f\"slope (95%): {res.slope:.6f} +/- {ts*res.stderr:.6f}\")",
            "outputs": [
                {
                    "output_type": "execute_result",
                    "metadata": {},
                    "data": {
                        "text/plain": "slope (95%): 1.453392 +/- 0.743465"
                    },
                    "execution_count": null
                }
            ]
        },
        {
            "id": "f8c078f0",
            "cell_type": "code",
            "metadata": {},
            "execution_count": null,
            "source": "print(f\"intercept (95%): {res.intercept:.6f}\"\n      f\" +/- {ts*res.intercept_stderr:.6f}\")",
            "outputs": [
                {
                    "output_type": "execute_result",
                    "metadata": {},
                    "data": {
                        "text/plain": "intercept (95%): 0.616950 +/- 0.544475"
                    },
                    "execution_count": null
                }
            ]
        }
    ]
}