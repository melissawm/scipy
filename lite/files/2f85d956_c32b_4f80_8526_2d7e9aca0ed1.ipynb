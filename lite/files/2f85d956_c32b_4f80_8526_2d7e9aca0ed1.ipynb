{
    "nbformat": 4,
    "nbformat_minor": 5,
    "metadata": {
        "kernelspec": {
            "display_name": "Python",
            "language": "python",
            "name": "python"
        },
        "language_info": {
            "name": "python"
        }
    },
    "cells": [
        {
            "id": "84b9abb2",
            "cell_type": "markdown",
            "source": "<div class='alert alert-warning'>\n\nSciPy's interactive examples with Jupyterlite are experimental and may not always work as expected. Execution of cells containing imports may result in large downloads (up to 60MB of content for the first import from SciPy). Load times when importing from SciPy may take roughly 10-20 seconds. If you notice any problems, feel free to open an [issue](https://github.com/scipy/scipy/issues/new/choose).\n\n</div>",
            "metadata": {}
        },
        {
            "id": "b6a87012",
            "cell_type": "code",
            "metadata": {},
            "execution_count": null,
            "source": "from scipy.special import nctdtr, nctdtridf",
            "outputs": []
        },
        {
            "id": "5f993aa7",
            "cell_type": "markdown",
            "source": "Compute the CDF for several values of `df`:\n",
            "metadata": {}
        },
        {
            "id": "725f7df2",
            "cell_type": "code",
            "metadata": {},
            "execution_count": null,
            "source": "df = [1, 2, 3]\np = nctdtr(df, 0.25, 1)\np",
            "outputs": [
                {
                    "output_type": "execute_result",
                    "metadata": {},
                    "data": {
                        "text/plain": "array([0.67491974, 0.716464  , 0.73349456])"
                    },
                    "execution_count": null
                }
            ]
        },
        {
            "id": "f04235fd",
            "cell_type": "markdown",
            "source": "Compute the inverse. We recover the values of `df`, as expected:\n",
            "metadata": {}
        },
        {
            "id": "9c236494",
            "cell_type": "code",
            "metadata": {},
            "execution_count": null,
            "source": "nctdtridf(p, 0.25, 1)",
            "outputs": [
                {
                    "output_type": "execute_result",
                    "metadata": {},
                    "data": {
                        "text/plain": "array([1., 2., 3.])"
                    },
                    "execution_count": null
                }
            ]
        }
    ]
}