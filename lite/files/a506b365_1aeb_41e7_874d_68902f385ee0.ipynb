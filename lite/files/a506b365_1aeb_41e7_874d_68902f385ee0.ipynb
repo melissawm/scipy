{
    "nbformat": 4,
    "nbformat_minor": 5,
    "metadata": {
        "kernelspec": {
            "display_name": "Python",
            "language": "python",
            "name": "python"
        },
        "language_info": {
            "name": "python"
        }
    },
    "cells": [
        {
            "id": "5375e84b",
            "cell_type": "markdown",
            "source": "<div class='alert alert-warning'>\n\nSciPy's interactive examples with Jupyterlite are experimental and may not always work as expected. Execution of cells containing imports may result in large downloads (up to 60MB of content for the first import from SciPy). Load times when importing from SciPy may take roughly 10-20 seconds. If you notice any problems, feel free to open an [issue](https://github.com/scipy/scipy/issues/new/choose).\n\n</div>",
            "metadata": {}
        },
        {
            "id": "5fe069c4",
            "cell_type": "code",
            "metadata": {},
            "execution_count": null,
            "source": "import numpy as np\nfrom scipy.sparse.linalg import LaplacianNd\nfrom scipy.sparse import diags, csgraph\nfrom scipy.linalg import eigvalsh",
            "outputs": []
        },
        {
            "id": "0bef5d9c",
            "cell_type": "markdown",
            "source": "The one-dimensional Laplacian demonstrated below for pure Neumann boundary\nconditions on a regular grid with ``n=6`` grid points is exactly the\nnegative graph Laplacian for the undirected linear graph with ``n``\nvertices using the sparse adjacency matrix ``G`` represented by the\nfamous tri-diagonal matrix:\n",
            "metadata": {}
        },
        {
            "id": "1747de39",
            "cell_type": "code",
            "metadata": {},
            "execution_count": null,
            "source": "n = 6\nG = diags(np.ones(n - 1), 1, format='csr')\nLf = csgraph.laplacian(G, symmetrized=True, form='function')\ngrid_shape = (n, )\nlap = LaplacianNd(grid_shape, boundary_conditions='neumann')\nnp.array_equal(lap.matmat(np.eye(n)), -Lf(np.eye(n)))",
            "outputs": [
                {
                    "output_type": "execute_result",
                    "metadata": {},
                    "data": {
                        "text/plain": "True"
                    },
                    "execution_count": null
                }
            ]
        },
        {
            "id": "7ad43af3",
            "cell_type": "markdown",
            "source": "Since all matrix entries of the Laplacian are integers, ``'int8'`` is\nthe default dtype for storing matrix representations.\n",
            "metadata": {}
        },
        {
            "id": "46d08e87",
            "cell_type": "code",
            "metadata": {},
            "execution_count": null,
            "source": "lap.tosparse()",
            "outputs": [
                {
                    "output_type": "execute_result",
                    "metadata": {},
                    "data": {
                        "text/plain": "<DIAgonal sparse array of dtype 'int8'\n    with 16 stored elements (3 diagonals) and shape (6, 6)>"
                    },
                    "execution_count": null
                }
            ]
        },
        {
            "id": "36305eb7",
            "cell_type": "code",
            "metadata": {},
            "execution_count": null,
            "source": "lap.toarray()",
            "outputs": [
                {
                    "output_type": "execute_result",
                    "metadata": {},
                    "data": {
                        "text/plain": "array([[-1,  1,  0,  0,  0,  0],\n       [ 1, -2,  1,  0,  0,  0],\n       [ 0,  1, -2,  1,  0,  0],\n       [ 0,  0,  1, -2,  1,  0],\n       [ 0,  0,  0,  1, -2,  1],\n       [ 0,  0,  0,  0,  1, -1]], dtype=int8)"
                    },
                    "execution_count": null
                }
            ]
        },
        {
            "id": "db19c020",
            "cell_type": "code",
            "metadata": {},
            "execution_count": null,
            "source": "np.array_equal(lap.matmat(np.eye(n)), lap.toarray())",
            "outputs": [
                {
                    "output_type": "execute_result",
                    "metadata": {},
                    "data": {
                        "text/plain": "True"
                    },
                    "execution_count": null
                }
            ]
        },
        {
            "id": "5d7aa3bd",
            "cell_type": "code",
            "metadata": {},
            "execution_count": null,
            "source": "np.array_equal(lap.tosparse().toarray(), lap.toarray())",
            "outputs": [
                {
                    "output_type": "execute_result",
                    "metadata": {},
                    "data": {
                        "text/plain": "True"
                    },
                    "execution_count": null
                }
            ]
        },
        {
            "id": "0ae78920",
            "cell_type": "markdown",
            "source": "Any number of extreme eigenvalues and/or eigenvectors can be computed.\n",
            "metadata": {}
        },
        {
            "id": "ac47bd38",
            "cell_type": "code",
            "metadata": {},
            "execution_count": null,
            "source": "lap = LaplacianNd(grid_shape, boundary_conditions='periodic')\nlap.eigenvalues()",
            "outputs": [
                {
                    "output_type": "execute_result",
                    "metadata": {},
                    "data": {
                        "text/plain": "array([-4., -3., -3., -1., -1.,  0.])"
                    },
                    "execution_count": null
                }
            ]
        },
        {
            "id": "09a822ef",
            "cell_type": "code",
            "metadata": {},
            "execution_count": null,
            "source": "lap.eigenvalues()[-2:]",
            "outputs": [
                {
                    "output_type": "execute_result",
                    "metadata": {},
                    "data": {
                        "text/plain": "array([-1.,  0.])"
                    },
                    "execution_count": null
                }
            ]
        },
        {
            "id": "47539d6b",
            "cell_type": "code",
            "metadata": {},
            "execution_count": null,
            "source": "lap.eigenvalues(2)",
            "outputs": [
                {
                    "output_type": "execute_result",
                    "metadata": {},
                    "data": {
                        "text/plain": "array([-1.,  0.])"
                    },
                    "execution_count": null
                }
            ]
        },
        {
            "id": "30fd9433",
            "cell_type": "code",
            "metadata": {},
            "execution_count": null,
            "source": "lap.eigenvectors(1)",
            "outputs": [
                {
                    "output_type": "execute_result",
                    "metadata": {},
                    "data": {
                        "text/plain": "array([[0.40824829],\n       [0.40824829],\n       [0.40824829],\n       [0.40824829],\n       [0.40824829],\n       [0.40824829]])"
                    },
                    "execution_count": null
                }
            ]
        },
        {
            "id": "17cd74f5",
            "cell_type": "code",
            "metadata": {},
            "execution_count": null,
            "source": "lap.eigenvectors(2)",
            "outputs": [
                {
                    "output_type": "execute_result",
                    "metadata": {},
                    "data": {
                        "text/plain": "array([[ 0.5       ,  0.40824829],\n       [ 0.        ,  0.40824829],\n       [-0.5       ,  0.40824829],\n       [-0.5       ,  0.40824829],\n       [ 0.        ,  0.40824829],\n       [ 0.5       ,  0.40824829]])"
                    },
                    "execution_count": null
                }
            ]
        },
        {
            "id": "267e0f2a",
            "cell_type": "code",
            "metadata": {},
            "execution_count": null,
            "source": "lap.eigenvectors()",
            "outputs": [
                {
                    "output_type": "execute_result",
                    "metadata": {},
                    "data": {
                        "text/plain": "array([[ 0.40824829,  0.28867513,  0.28867513,  0.5       ,  0.5       ,\n         0.40824829],\n       [-0.40824829, -0.57735027, -0.57735027,  0.        ,  0.        ,\n         0.40824829],\n       [ 0.40824829,  0.28867513,  0.28867513, -0.5       , -0.5       ,\n         0.40824829],\n       [-0.40824829,  0.28867513,  0.28867513, -0.5       , -0.5       ,\n         0.40824829],\n       [ 0.40824829, -0.57735027, -0.57735027,  0.        ,  0.        ,\n         0.40824829],\n       [-0.40824829,  0.28867513,  0.28867513,  0.5       ,  0.5       ,\n         0.40824829]])"
                    },
                    "execution_count": null
                }
            ]
        },
        {
            "id": "59d9c9b0",
            "cell_type": "markdown",
            "source": "The two-dimensional Laplacian is illustrated on a regular grid with\n``grid_shape = (2, 3)`` points in each dimension.\n",
            "metadata": {}
        },
        {
            "id": "bb41efe6",
            "cell_type": "code",
            "metadata": {},
            "execution_count": null,
            "source": "grid_shape = (2, 3)\nn = np.prod(grid_shape)",
            "outputs": []
        },
        {
            "id": "9aadec14",
            "cell_type": "markdown",
            "source": "Numeration of grid points is as follows:\n",
            "metadata": {}
        },
        {
            "id": "5f30900c",
            "cell_type": "code",
            "metadata": {},
            "execution_count": null,
            "source": "np.arange(n).reshape(grid_shape + (-1,))",
            "outputs": [
                {
                    "output_type": "execute_result",
                    "metadata": {},
                    "data": {
                        "text/plain": "array([[[0],\n        [1],\n        [2]],\n<BLANKLINE>\n       [[3],\n        [4],\n        [5]]])"
                    },
                    "execution_count": null
                }
            ]
        },
        {
            "id": "78d782c1",
            "cell_type": "markdown",
            "source": "Each of the boundary conditions ``'dirichlet'``, ``'periodic'``, and\n``'neumann'`` is illustrated separately; with ``'dirichlet'``\n",
            "metadata": {}
        },
        {
            "id": "dda5a999",
            "cell_type": "code",
            "metadata": {},
            "execution_count": null,
            "source": "lap = LaplacianNd(grid_shape, boundary_conditions='dirichlet')\nlap.tosparse()",
            "outputs": [
                {
                    "output_type": "execute_result",
                    "metadata": {},
                    "data": {
                        "text/plain": "<Compressed Sparse Row sparse array of dtype 'int8'\n    with 20 stored elements and shape (6, 6)>"
                    },
                    "execution_count": null
                }
            ]
        },
        {
            "id": "acbc9b9a",
            "cell_type": "code",
            "metadata": {},
            "execution_count": null,
            "source": "lap.toarray()",
            "outputs": [
                {
                    "output_type": "execute_result",
                    "metadata": {},
                    "data": {
                        "text/plain": "array([[-4,  1,  0,  1,  0,  0],\n       [ 1, -4,  1,  0,  1,  0],\n       [ 0,  1, -4,  0,  0,  1],\n       [ 1,  0,  0, -4,  1,  0],\n       [ 0,  1,  0,  1, -4,  1],\n       [ 0,  0,  1,  0,  1, -4]], dtype=int8)"
                    },
                    "execution_count": null
                }
            ]
        },
        {
            "id": "3c6147a9",
            "cell_type": "code",
            "metadata": {},
            "execution_count": null,
            "source": "np.array_equal(lap.matmat(np.eye(n)), lap.toarray())",
            "outputs": [
                {
                    "output_type": "execute_result",
                    "metadata": {},
                    "data": {
                        "text/plain": "True"
                    },
                    "execution_count": null
                }
            ]
        },
        {
            "id": "0d88923e",
            "cell_type": "code",
            "metadata": {},
            "execution_count": null,
            "source": "np.array_equal(lap.tosparse().toarray(), lap.toarray())",
            "outputs": [
                {
                    "output_type": "execute_result",
                    "metadata": {},
                    "data": {
                        "text/plain": "True"
                    },
                    "execution_count": null
                }
            ]
        },
        {
            "id": "27b5a510",
            "cell_type": "code",
            "metadata": {},
            "execution_count": null,
            "source": "lap.eigenvalues()",
            "outputs": [
                {
                    "output_type": "execute_result",
                    "metadata": {},
                    "data": {
                        "text/plain": "array([-6.41421356, -5.        , -4.41421356, -3.58578644, -3.        ,\n       -1.58578644])"
                    },
                    "execution_count": null
                }
            ]
        },
        {
            "id": "461aecd7",
            "cell_type": "code",
            "metadata": {},
            "execution_count": null,
            "source": "eigvals = eigvalsh(lap.toarray().astype(np.float64))\nnp.allclose(lap.eigenvalues(), eigvals)",
            "outputs": [
                {
                    "output_type": "execute_result",
                    "metadata": {},
                    "data": {
                        "text/plain": "True"
                    },
                    "execution_count": null
                }
            ]
        },
        {
            "id": "505a32bc",
            "cell_type": "code",
            "metadata": {},
            "execution_count": null,
            "source": "np.allclose(lap.toarray() @ lap.eigenvectors(),\n            lap.eigenvectors() @ np.diag(lap.eigenvalues()))",
            "outputs": [
                {
                    "output_type": "execute_result",
                    "metadata": {},
                    "data": {
                        "text/plain": "True"
                    },
                    "execution_count": null
                }
            ]
        },
        {
            "id": "fa722373",
            "cell_type": "markdown",
            "source": "with ``'periodic'``\n",
            "metadata": {}
        },
        {
            "id": "4b01c0a1",
            "cell_type": "code",
            "metadata": {},
            "execution_count": null,
            "source": "lap = LaplacianNd(grid_shape, boundary_conditions='periodic')\nlap.tosparse()",
            "outputs": [
                {
                    "output_type": "execute_result",
                    "metadata": {},
                    "data": {
                        "text/plain": "<Compressed Sparse Row sparse array of dtype 'int8'\n    with 24 stored elements and shape (6, 6)>"
                    },
                    "execution_count": null
                }
            ]
        },
        {
            "id": "29d991e1",
            "cell_type": "code",
            "metadata": {},
            "execution_count": null,
            "source": "lap.toarray()",
            "outputs": [
                {
                    "output_type": "execute_result",
                    "metadata": {},
                    "data": {
                        "text/plain": "    array([[-4,  1,  1,  2,  0,  0],\n           [ 1, -4,  1,  0,  2,  0],\n           [ 1,  1, -4,  0,  0,  2],\n           [ 2,  0,  0, -4,  1,  1],\n           [ 0,  2,  0,  1, -4,  1],\n           [ 0,  0,  2,  1,  1, -4]], dtype=int8)"
                    },
                    "execution_count": null
                }
            ]
        },
        {
            "id": "141d7206",
            "cell_type": "code",
            "metadata": {},
            "execution_count": null,
            "source": "np.array_equal(lap.matmat(np.eye(n)), lap.toarray())",
            "outputs": [
                {
                    "output_type": "execute_result",
                    "metadata": {},
                    "data": {
                        "text/plain": "True"
                    },
                    "execution_count": null
                }
            ]
        },
        {
            "id": "30127fd4",
            "cell_type": "code",
            "metadata": {},
            "execution_count": null,
            "source": "np.array_equal(lap.tosparse().toarray(), lap.toarray())",
            "outputs": [
                {
                    "output_type": "execute_result",
                    "metadata": {},
                    "data": {
                        "text/plain": "True"
                    },
                    "execution_count": null
                }
            ]
        },
        {
            "id": "8c27620d",
            "cell_type": "code",
            "metadata": {},
            "execution_count": null,
            "source": "lap.eigenvalues()",
            "outputs": [
                {
                    "output_type": "execute_result",
                    "metadata": {},
                    "data": {
                        "text/plain": "array([-7., -7., -4., -3., -3.,  0.])"
                    },
                    "execution_count": null
                }
            ]
        },
        {
            "id": "4f2c7b11",
            "cell_type": "code",
            "metadata": {},
            "execution_count": null,
            "source": "eigvals = eigvalsh(lap.toarray().astype(np.float64))\nnp.allclose(lap.eigenvalues(), eigvals)",
            "outputs": [
                {
                    "output_type": "execute_result",
                    "metadata": {},
                    "data": {
                        "text/plain": "True"
                    },
                    "execution_count": null
                }
            ]
        },
        {
            "id": "3797c090",
            "cell_type": "code",
            "metadata": {},
            "execution_count": null,
            "source": "np.allclose(lap.toarray() @ lap.eigenvectors(),\n            lap.eigenvectors() @ np.diag(lap.eigenvalues()))",
            "outputs": [
                {
                    "output_type": "execute_result",
                    "metadata": {},
                    "data": {
                        "text/plain": "True"
                    },
                    "execution_count": null
                }
            ]
        },
        {
            "id": "ed863e26",
            "cell_type": "markdown",
            "source": "and with ``'neumann'``\n",
            "metadata": {}
        },
        {
            "id": "a65361db",
            "cell_type": "code",
            "metadata": {},
            "execution_count": null,
            "source": "lap = LaplacianNd(grid_shape, boundary_conditions='neumann')\nlap.tosparse()",
            "outputs": [
                {
                    "output_type": "execute_result",
                    "metadata": {},
                    "data": {
                        "text/plain": "<Compressed Sparse Row sparse array of dtype 'int8'\n    with 20 stored elements and shape (6, 6)>"
                    },
                    "execution_count": null
                }
            ]
        },
        {
            "id": "7574dc4c",
            "cell_type": "code",
            "metadata": {},
            "execution_count": null,
            "source": "lap.toarray()",
            "outputs": [
                {
                    "output_type": "execute_result",
                    "metadata": {},
                    "data": {
                        "text/plain": "array([[-2,  1,  0,  1,  0,  0],\n       [ 1, -3,  1,  0,  1,  0],\n       [ 0,  1, -2,  0,  0,  1],\n       [ 1,  0,  0, -2,  1,  0],\n       [ 0,  1,  0,  1, -3,  1],\n       [ 0,  0,  1,  0,  1, -2]])"
                    },
                    "execution_count": null
                }
            ]
        },
        {
            "id": "c4ee1f38",
            "cell_type": "code",
            "metadata": {},
            "execution_count": null,
            "source": "np.array_equal(lap.matmat(np.eye(n)), lap.toarray())",
            "outputs": [
                {
                    "output_type": "execute_result",
                    "metadata": {},
                    "data": {
                        "text/plain": "True"
                    },
                    "execution_count": null
                }
            ]
        },
        {
            "id": "d4bfe37d",
            "cell_type": "code",
            "metadata": {},
            "execution_count": null,
            "source": "np.array_equal(lap.tosparse().toarray(), lap.toarray())",
            "outputs": [
                {
                    "output_type": "execute_result",
                    "metadata": {},
                    "data": {
                        "text/plain": "True"
                    },
                    "execution_count": null
                }
            ]
        },
        {
            "id": "2a42b4be",
            "cell_type": "code",
            "metadata": {},
            "execution_count": null,
            "source": "lap.eigenvalues()",
            "outputs": [
                {
                    "output_type": "execute_result",
                    "metadata": {},
                    "data": {
                        "text/plain": "array([-5., -3., -3., -2., -1.,  0.])"
                    },
                    "execution_count": null
                }
            ]
        },
        {
            "id": "0e1d62fc",
            "cell_type": "code",
            "metadata": {},
            "execution_count": null,
            "source": "eigvals = eigvalsh(lap.toarray().astype(np.float64))\nnp.allclose(lap.eigenvalues(), eigvals)",
            "outputs": [
                {
                    "output_type": "execute_result",
                    "metadata": {},
                    "data": {
                        "text/plain": "True"
                    },
                    "execution_count": null
                }
            ]
        },
        {
            "id": "7373c43b",
            "cell_type": "code",
            "metadata": {},
            "execution_count": null,
            "source": "np.allclose(lap.toarray() @ lap.eigenvectors(),\n            lap.eigenvectors() @ np.diag(lap.eigenvalues()))",
            "outputs": [
                {
                    "output_type": "execute_result",
                    "metadata": {},
                    "data": {
                        "text/plain": "True"
                    },
                    "execution_count": null
                }
            ]
        }
    ]
}