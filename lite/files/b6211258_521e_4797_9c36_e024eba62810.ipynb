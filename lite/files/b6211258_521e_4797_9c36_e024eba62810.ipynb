{
    "nbformat": 4,
    "nbformat_minor": 5,
    "metadata": {
        "kernelspec": {
            "display_name": "Python",
            "language": "python",
            "name": "python"
        },
        "language_info": {
            "name": "python"
        }
    },
    "cells": [
        {
            "id": "01883fcd",
            "cell_type": "markdown",
            "source": "<div class='alert alert-warning'>\n\nSciPy's interactive examples with Jupyterlite are experimental and may not always work as expected. Execution of cells containing imports may result in large downloads (up to 60MB of content for the first import from SciPy). Load times when importing from SciPy may take roughly 10-20 seconds. If you notice any problems, feel free to open an [issue](https://github.com/scipy/scipy/issues/new/choose).\n\n</div>",
            "metadata": {}
        },
        {
            "id": "4ec84b46",
            "cell_type": "code",
            "metadata": {},
            "execution_count": null,
            "source": "from scipy.special import betaincc, betainc",
            "outputs": []
        },
        {
            "id": "ff574af9",
            "cell_type": "markdown",
            "source": "The naive calculation ``1 - betainc(a, b, x)`` loses precision when\nthe values of ``betainc(a, b, x)`` are close to 1:\n",
            "metadata": {}
        },
        {
            "id": "e4df6753",
            "cell_type": "code",
            "metadata": {},
            "execution_count": null,
            "source": "1 - betainc(0.5, 8, [0.9, 0.99, 0.999])",
            "outputs": [
                {
                    "output_type": "execute_result",
                    "metadata": {},
                    "data": {
                        "text/plain": "array([2.0574632e-09, 0.0000000e+00, 0.0000000e+00])"
                    },
                    "execution_count": null
                }
            ]
        },
        {
            "id": "9f893f28",
            "cell_type": "markdown",
            "source": "By using ``betaincc``, we get the correct values:\n",
            "metadata": {}
        },
        {
            "id": "309dfdb6",
            "cell_type": "code",
            "metadata": {},
            "execution_count": null,
            "source": "betaincc(0.5, 8, [0.9, 0.99, 0.999])",
            "outputs": [
                {
                    "output_type": "execute_result",
                    "metadata": {},
                    "data": {
                        "text/plain": "array([2.05746321e-09, 1.97259354e-17, 1.96467954e-25])"
                    },
                    "execution_count": null
                }
            ]
        }
    ]
}