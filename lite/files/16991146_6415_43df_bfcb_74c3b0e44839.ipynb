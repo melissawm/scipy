{
    "nbformat": 4,
    "nbformat_minor": 5,
    "metadata": {
        "kernelspec": {
            "display_name": "Python",
            "language": "python",
            "name": "python"
        },
        "language_info": {
            "name": "python"
        }
    },
    "cells": [
        {
            "id": "da06c699",
            "cell_type": "markdown",
            "source": "<div class='alert alert-warning'>\n\nSciPy's interactive examples with Jupyterlite are experimental and may not always work as expected. Execution of cells containing imports may result in large downloads (up to 60MB of content for the first import from SciPy). Load times when importing from SciPy may take roughly 10-20 seconds. If you notice any problems, feel free to open an [issue](https://github.com/scipy/scipy/issues/new/choose).\n\n</div>",
            "metadata": {}
        },
        {
            "id": "026ca113",
            "cell_type": "code",
            "metadata": {},
            "execution_count": null,
            "source": "from scipy.spatial.transform import Rotation as R\nimport numpy as np",
            "outputs": []
        },
        {
            "id": "d036676c",
            "cell_type": "markdown",
            "source": "Represent a single rotation:\n",
            "metadata": {}
        },
        {
            "id": "4f98c3c6",
            "cell_type": "code",
            "metadata": {},
            "execution_count": null,
            "source": "r = R.from_rotvec([0, 0, np.pi])\nr.as_mrp()",
            "outputs": [
                {
                    "output_type": "execute_result",
                    "metadata": {},
                    "data": {
                        "text/plain": "array([0.        , 0.        , 1.         ])"
                    },
                    "execution_count": null
                }
            ]
        },
        {
            "id": "15c70647",
            "cell_type": "code",
            "metadata": {},
            "execution_count": null,
            "source": "r.as_mrp().shape",
            "outputs": [
                {
                    "output_type": "execute_result",
                    "metadata": {},
                    "data": {
                        "text/plain": "(3,)"
                    },
                    "execution_count": null
                }
            ]
        },
        {
            "id": "935dae92",
            "cell_type": "markdown",
            "source": "Represent a stack with a single rotation:\n",
            "metadata": {}
        },
        {
            "id": "50623731",
            "cell_type": "code",
            "metadata": {},
            "execution_count": null,
            "source": "r = R.from_euler('xyz', [[180, 0, 0]], degrees=True)\nr.as_mrp()",
            "outputs": [
                {
                    "output_type": "execute_result",
                    "metadata": {},
                    "data": {
                        "text/plain": "array([[1.       , 0.        , 0.         ]])"
                    },
                    "execution_count": null
                }
            ]
        },
        {
            "id": "5b6546c6",
            "cell_type": "code",
            "metadata": {},
            "execution_count": null,
            "source": "r.as_mrp().shape",
            "outputs": [
                {
                    "output_type": "execute_result",
                    "metadata": {},
                    "data": {
                        "text/plain": "(1, 3)"
                    },
                    "execution_count": null
                }
            ]
        },
        {
            "id": "e0b30d0f",
            "cell_type": "markdown",
            "source": "Represent multiple rotations:\n",
            "metadata": {}
        },
        {
            "id": "17a19a16",
            "cell_type": "code",
            "metadata": {},
            "execution_count": null,
            "source": "r = R.from_rotvec([[np.pi/2, 0, 0], [0, 0, np.pi/2]])\nr.as_mrp()",
            "outputs": [
                {
                    "output_type": "execute_result",
                    "metadata": {},
                    "data": {
                        "text/plain": "array([[0.41421356, 0.        , 0.        ],\n       [0.        , 0.        , 0.41421356]])"
                    },
                    "execution_count": null
                }
            ]
        },
        {
            "id": "706ad953",
            "cell_type": "code",
            "metadata": {},
            "execution_count": null,
            "source": "r.as_mrp().shape",
            "outputs": [
                {
                    "output_type": "execute_result",
                    "metadata": {},
                    "data": {
                        "text/plain": "(2, 3)"
                    },
                    "execution_count": null
                }
            ]
        }
    ]
}