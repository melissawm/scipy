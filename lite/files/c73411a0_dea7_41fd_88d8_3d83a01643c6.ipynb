{
    "nbformat": 4,
    "nbformat_minor": 5,
    "metadata": {
        "kernelspec": {
            "display_name": "Python",
            "language": "python",
            "name": "python"
        },
        "language_info": {
            "name": "python"
        }
    },
    "cells": [
        {
            "id": "97bbe156",
            "cell_type": "markdown",
            "source": "<div class='alert alert-warning'>\n\nSciPy's interactive examples with Jupyterlite are experimental and may not always work as expected. Execution of cells containing imports may result in large downloads (up to 60MB of content for the first import from SciPy). Load times when importing from SciPy may take roughly 10-20 seconds. If you notice any problems, feel free to open an [issue](https://github.com/scipy/scipy/issues/new/choose).\n\n</div>",
            "metadata": {}
        },
        {
            "id": "96db9d96",
            "cell_type": "markdown",
            "source": "Voronoi diagram for a set of point:\n",
            "metadata": {}
        },
        {
            "id": "a73c27fd",
            "cell_type": "code",
            "metadata": {},
            "execution_count": null,
            "source": "import numpy as np\npoints = np.array([[0, 0], [0, 1], [0, 2], [1, 0], [1, 1], [1, 2],\n                   [2, 0], [2, 1], [2, 2]])\nfrom scipy.spatial import Voronoi, voronoi_plot_2d\nvor = Voronoi(points)",
            "outputs": []
        },
        {
            "id": "7f3b218c",
            "cell_type": "markdown",
            "source": "Plot it:\n",
            "metadata": {}
        },
        {
            "id": "99ea4821",
            "cell_type": "code",
            "metadata": {},
            "execution_count": null,
            "source": "import matplotlib.pyplot as plt\nfig = voronoi_plot_2d(vor)\nplt.show()",
            "outputs": []
        },
        {
            "id": "e5b420c5",
            "cell_type": "markdown",
            "source": "The Voronoi vertices:\n",
            "metadata": {}
        },
        {
            "id": "3b73bcb6",
            "cell_type": "code",
            "metadata": {},
            "execution_count": null,
            "source": "vor.vertices",
            "outputs": [
                {
                    "output_type": "execute_result",
                    "metadata": {},
                    "data": {
                        "text/plain": "array([[0.5, 0.5],\n       [0.5, 1.5],\n       [1.5, 0.5],\n       [1.5, 1.5]])"
                    },
                    "execution_count": null
                }
            ]
        },
        {
            "id": "52c73b96",
            "cell_type": "markdown",
            "source": "There is a single finite Voronoi region, and four finite Voronoi\nridges:\n",
            "metadata": {}
        },
        {
            "id": "fcfe8527",
            "cell_type": "code",
            "metadata": {},
            "execution_count": null,
            "source": "vor.regions",
            "outputs": [
                {
                    "output_type": "execute_result",
                    "metadata": {},
                    "data": {
                        "text/plain": "[[], [-1, 0], [-1, 1], [1, -1, 0], [3, -1, 2], [-1, 3], [-1, 2], [0, 1, 3, 2], [2, -1, 0], [3, -1, 1]]"
                    },
                    "execution_count": null
                }
            ]
        },
        {
            "id": "00345fa7",
            "cell_type": "code",
            "metadata": {},
            "execution_count": null,
            "source": "vor.ridge_vertices",
            "outputs": [
                {
                    "output_type": "execute_result",
                    "metadata": {},
                    "data": {
                        "text/plain": "[[-1, 0], [-1, 0], [-1, 1], [-1, 1], [0, 1], [-1, 3], [-1, 2], [2, 3], [-1, 3], [-1, 2], [1, 3], [0, 2]]"
                    },
                    "execution_count": null
                }
            ]
        },
        {
            "id": "61edcccf",
            "cell_type": "markdown",
            "source": "The ridges are perpendicular between lines drawn between the following\ninput points:\n",
            "metadata": {}
        },
        {
            "id": "e2f1445d",
            "cell_type": "code",
            "metadata": {},
            "execution_count": null,
            "source": "vor.ridge_points",
            "outputs": [
                {
                    "output_type": "execute_result",
                    "metadata": {},
                    "data": {
                        "text/plain": "array([[0, 3],\n       [0, 1],\n       [2, 5],\n       [2, 1],\n       [1, 4],\n       [7, 8],\n       [7, 6],\n       [7, 4],\n       [8, 5],\n       [6, 3],\n       [4, 5],\n       [4, 3]], dtype=int32)"
                    },
                    "execution_count": null
                }
            ]
        }
    ]
}