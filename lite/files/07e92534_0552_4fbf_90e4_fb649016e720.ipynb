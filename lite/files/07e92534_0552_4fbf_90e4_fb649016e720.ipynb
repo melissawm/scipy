{
    "nbformat": 4,
    "nbformat_minor": 5,
    "metadata": {
        "kernelspec": {
            "display_name": "Python",
            "language": "python",
            "name": "python"
        },
        "language_info": {
            "name": "python"
        }
    },
    "cells": [
        {
            "id": "5e4378a2",
            "cell_type": "markdown",
            "source": "<div class='alert alert-warning'>\n\nSciPy's interactive examples with Jupyterlite are experimental and may not always work as expected. Execution of cells containing imports may result in large downloads (up to 60MB of content for the first import from SciPy). Load times when importing from SciPy may take roughly 10-20 seconds. If you notice any problems, feel free to open an [issue](https://github.com/scipy/scipy/issues/new/choose).\n\n</div>",
            "metadata": {}
        },
        {
            "id": "270728a8",
            "cell_type": "markdown",
            "source": "Find the directed Hausdorff distance between two 2-D arrays of\ncoordinates:\n",
            "metadata": {}
        },
        {
            "id": "26979b86",
            "cell_type": "code",
            "metadata": {},
            "execution_count": null,
            "source": "from scipy.spatial.distance import directed_hausdorff\nimport numpy as np\nu = np.array([(1.0, 0.0),\n              (0.0, 1.0),\n              (-1.0, 0.0),\n              (0.0, -1.0)])\nv = np.array([(2.0, 0.0),\n              (0.0, 2.0),\n              (-2.0, 0.0),\n              (0.0, -4.0)])",
            "outputs": []
        },
        {
            "id": "6ffe927c",
            "cell_type": "code",
            "metadata": {},
            "execution_count": null,
            "source": "directed_hausdorff(u, v)[0]",
            "outputs": [
                {
                    "output_type": "execute_result",
                    "metadata": {},
                    "data": {
                        "text/plain": "2.23606797749979"
                    },
                    "execution_count": null
                }
            ]
        },
        {
            "id": "41e13f2c",
            "cell_type": "code",
            "metadata": {},
            "execution_count": null,
            "source": "directed_hausdorff(v, u)[0]",
            "outputs": [
                {
                    "output_type": "execute_result",
                    "metadata": {},
                    "data": {
                        "text/plain": "3.0"
                    },
                    "execution_count": null
                }
            ]
        },
        {
            "id": "aac0948d",
            "cell_type": "markdown",
            "source": "Find the general (symmetric) Hausdorff distance between two 2-D\narrays of coordinates:\n",
            "metadata": {}
        },
        {
            "id": "0f49eca4",
            "cell_type": "code",
            "metadata": {},
            "execution_count": null,
            "source": "max(directed_hausdorff(u, v)[0], directed_hausdorff(v, u)[0])",
            "outputs": [
                {
                    "output_type": "execute_result",
                    "metadata": {},
                    "data": {
                        "text/plain": "3.0"
                    },
                    "execution_count": null
                }
            ]
        },
        {
            "id": "cb82bd93",
            "cell_type": "markdown",
            "source": "Find the indices of the points that generate the Hausdorff distance\n(the Hausdorff pair):\n",
            "metadata": {}
        },
        {
            "id": "ad4fefd6",
            "cell_type": "code",
            "metadata": {},
            "execution_count": null,
            "source": "directed_hausdorff(v, u)[1:]",
            "outputs": [
                {
                    "output_type": "execute_result",
                    "metadata": {},
                    "data": {
                        "text/plain": "(3, 3)"
                    },
                    "execution_count": null
                }
            ]
        }
    ]
}