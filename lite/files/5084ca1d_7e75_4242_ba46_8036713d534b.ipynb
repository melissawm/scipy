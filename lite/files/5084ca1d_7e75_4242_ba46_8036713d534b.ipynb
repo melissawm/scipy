{
    "nbformat": 4,
    "nbformat_minor": 5,
    "metadata": {
        "kernelspec": {
            "display_name": "Python",
            "language": "python",
            "name": "python"
        },
        "language_info": {
            "name": "python"
        }
    },
    "cells": [
        {
            "id": "7f3ab30d",
            "cell_type": "markdown",
            "source": "<div class='alert alert-warning'>\n\nSciPy's interactive examples with Jupyterlite are experimental and may not always work as expected. Execution of cells containing imports may result in large downloads (up to 60MB of content for the first import from SciPy). Load times when importing from SciPy may take roughly 10-20 seconds. If you notice any problems, feel free to open an [issue](https://github.com/scipy/scipy/issues/new/choose).\n\n</div>",
            "metadata": {}
        },
        {
            "id": "fe614d33",
            "cell_type": "code",
            "metadata": {},
            "execution_count": null,
            "source": "import scipy.special as sc",
            "outputs": []
        },
        {
            "id": "15059828",
            "cell_type": "markdown",
            "source": "There are many ways to specify an angle.\n",
            "metadata": {}
        },
        {
            "id": "90c20789",
            "cell_type": "code",
            "metadata": {},
            "execution_count": null,
            "source": "sc.radian(90, 0, 0)",
            "outputs": [
                {
                    "output_type": "execute_result",
                    "metadata": {},
                    "data": {
                        "text/plain": "1.5707963267948966"
                    },
                    "execution_count": null
                }
            ]
        },
        {
            "id": "fdcec2d6",
            "cell_type": "code",
            "metadata": {},
            "execution_count": null,
            "source": "sc.radian(0, 60 * 90, 0)",
            "outputs": [
                {
                    "output_type": "execute_result",
                    "metadata": {},
                    "data": {
                        "text/plain": "1.5707963267948966"
                    },
                    "execution_count": null
                }
            ]
        },
        {
            "id": "bd3b6810",
            "cell_type": "code",
            "metadata": {},
            "execution_count": null,
            "source": "sc.radian(0, 0, 60**2 * 90)",
            "outputs": [
                {
                    "output_type": "execute_result",
                    "metadata": {},
                    "data": {
                        "text/plain": "1.5707963267948966"
                    },
                    "execution_count": null
                }
            ]
        },
        {
            "id": "69734469",
            "cell_type": "markdown",
            "source": "The inputs can be real-valued.\n",
            "metadata": {}
        },
        {
            "id": "946afeb7",
            "cell_type": "code",
            "metadata": {},
            "execution_count": null,
            "source": "sc.radian(1.5, 0, 0)",
            "outputs": [
                {
                    "output_type": "execute_result",
                    "metadata": {},
                    "data": {
                        "text/plain": "0.02617993877991494"
                    },
                    "execution_count": null
                }
            ]
        },
        {
            "id": "c48b97c3",
            "cell_type": "code",
            "metadata": {},
            "execution_count": null,
            "source": "sc.radian(1, 30, 0)",
            "outputs": [
                {
                    "output_type": "execute_result",
                    "metadata": {},
                    "data": {
                        "text/plain": "0.02617993877991494"
                    },
                    "execution_count": null
                }
            ]
        }
    ]
}