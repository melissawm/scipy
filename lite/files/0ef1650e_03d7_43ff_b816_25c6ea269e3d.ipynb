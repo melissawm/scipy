{
    "nbformat": 4,
    "nbformat_minor": 5,
    "metadata": {
        "kernelspec": {
            "display_name": "Python",
            "language": "python",
            "name": "python"
        },
        "language_info": {
            "name": "python"
        }
    },
    "cells": [
        {
            "id": "a45751aa",
            "cell_type": "markdown",
            "source": "<div class='alert alert-warning'>\n\nSciPy's interactive examples with Jupyterlite are experimental and may not always work as expected. Execution of cells containing imports may result in large downloads (up to 60MB of content for the first import from SciPy). Load times when importing from SciPy may take roughly 10-20 seconds. If you notice any problems, feel free to open an [issue](https://github.com/scipy/scipy/issues/new/choose).\n\n</div>",
            "metadata": {}
        },
        {
            "id": "33084a2e",
            "cell_type": "code",
            "metadata": {},
            "execution_count": null,
            "source": "from scipy.stats.sampling import DiscreteAliasUrn\nimport numpy as np",
            "outputs": []
        },
        {
            "id": "a3d04367",
            "cell_type": "markdown",
            "source": "To create a random number generator using a probability vector, use:\n",
            "metadata": {}
        },
        {
            "id": "20e9572f",
            "cell_type": "code",
            "metadata": {},
            "execution_count": null,
            "source": "pv = [0.1, 0.3, 0.6]\nurng = np.random.default_rng()\nrng = DiscreteAliasUrn(pv, random_state=urng)",
            "outputs": []
        },
        {
            "id": "c4a8f7b0",
            "cell_type": "markdown",
            "source": "The RNG has been setup. Now, we can now use the `rvs` method to\ngenerate samples from the distribution:\n",
            "metadata": {}
        },
        {
            "id": "86bea997",
            "cell_type": "code",
            "metadata": {},
            "execution_count": null,
            "source": "rvs = rng.rvs(size=1000)",
            "outputs": []
        },
        {
            "id": "28a85b58",
            "cell_type": "markdown",
            "source": "To verify that the random variates follow the given distribution, we can\nuse the chi-squared test (as a measure of goodness-of-fit):\n",
            "metadata": {}
        },
        {
            "id": "2c1771a8",
            "cell_type": "code",
            "metadata": {},
            "execution_count": null,
            "source": "from scipy.stats import chisquare\n_, freqs = np.unique(rvs, return_counts=True)\nfreqs = freqs / np.sum(freqs)\nfreqs",
            "outputs": [
                {
                    "output_type": "execute_result",
                    "metadata": {},
                    "data": {
                        "text/plain": "array([0.092, 0.292, 0.616])"
                    },
                    "execution_count": null
                }
            ]
        },
        {
            "id": "032c5bef",
            "cell_type": "code",
            "metadata": {},
            "execution_count": null,
            "source": "chisquare(freqs, pv).pvalue",
            "outputs": [
                {
                    "output_type": "execute_result",
                    "metadata": {},
                    "data": {
                        "text/plain": "0.9993602047563164"
                    },
                    "execution_count": null
                }
            ]
        },
        {
            "id": "0cc38082",
            "cell_type": "markdown",
            "source": "As the p-value is very high, we fail to reject the null hypothesis that\nthe observed frequencies are the same as the expected frequencies. Hence,\nwe can safely assume that the variates have been generated from the given\ndistribution. Note that this just gives the correctness of the algorithm\nand not the quality of the samples.\n\nIf a PV is not available, an instance of a class with a PMF method and a\nfinite domain can also be passed.\n",
            "metadata": {}
        },
        {
            "id": "3a8d08d0",
            "cell_type": "code",
            "metadata": {},
            "execution_count": null,
            "source": "urng = np.random.default_rng()\nclass Binomial:\n    def __init__(self, n, p):\n        self.n = n\n        self.p = p\n    def pmf(self, x):\n        # note that the pmf doesn't need to be normalized.\n        return self.p**x * (1-self.p)**(self.n-x)\n    def support(self):\n        return (0, self.n)\n\nn, p = 10, 0.2\ndist = Binomial(n, p)\nrng = DiscreteAliasUrn(dist, random_state=urng)",
            "outputs": []
        },
        {
            "id": "d631f411",
            "cell_type": "markdown",
            "source": "Now, we can sample from the distribution using the `rvs` method\nand also measure the goodness-of-fit of the samples:\n",
            "metadata": {}
        },
        {
            "id": "c31a25a2",
            "cell_type": "code",
            "metadata": {},
            "execution_count": null,
            "source": "rvs = rng.rvs(1000)\n_, freqs = np.unique(rvs, return_counts=True)\nfreqs = freqs / np.sum(freqs)\nobs_freqs = np.zeros(11)  # some frequencies may be zero.\nobs_freqs[:freqs.size] = freqs\npv = [dist.pmf(i) for i in range(0, 11)]\npv = np.asarray(pv) / np.sum(pv)\nchisquare(obs_freqs, pv).pvalue",
            "outputs": [
                {
                    "output_type": "execute_result",
                    "metadata": {},
                    "data": {
                        "text/plain": "0.9999999999999999"
                    },
                    "execution_count": null
                }
            ]
        },
        {
            "id": "809a17e6",
            "cell_type": "markdown",
            "source": "To check that the samples have been drawn from the correct distribution,\nwe can visualize the histogram of the samples:\n",
            "metadata": {}
        },
        {
            "id": "606d3e2f",
            "cell_type": "code",
            "metadata": {},
            "execution_count": null,
            "source": "import matplotlib.pyplot as plt\nrvs = rng.rvs(1000)\nfig = plt.figure()\nax = fig.add_subplot(111)\nx = np.arange(0, n+1)\nfx = dist.pmf(x)\nfx = fx / fx.sum()\nax.plot(x, fx, 'bo', label='true distribution')\nax.vlines(x, 0, fx, lw=2)\nax.hist(rvs, bins=np.r_[x, n+1]-0.5, density=True, alpha=0.5,\n        color='r', label='samples')\nax.set_xlabel('x')\nax.set_ylabel('PMF(x)')\nax.set_title('Discrete Alias Urn Samples')\nplt.legend()\nplt.show()",
            "outputs": []
        },
        {
            "id": "a32eee82",
            "cell_type": "markdown",
            "source": "To set the ``urn_factor``, use:\n",
            "metadata": {}
        },
        {
            "id": "7ba26597",
            "cell_type": "code",
            "metadata": {},
            "execution_count": null,
            "source": "rng = DiscreteAliasUrn(pv, urn_factor=2, random_state=urng)",
            "outputs": []
        },
        {
            "id": "4a2d53e2",
            "cell_type": "markdown",
            "source": "This uses a table twice the size of the probability vector to generate\nrandom variates from the distribution.\n",
            "metadata": {}
        }
    ]
}