{
    "nbformat": 4,
    "nbformat_minor": 5,
    "metadata": {
        "kernelspec": {
            "display_name": "Python",
            "language": "python",
            "name": "python"
        },
        "language_info": {
            "name": "python"
        }
    },
    "cells": [
        {
            "id": "2b3943fa",
            "cell_type": "markdown",
            "source": "<div class='alert alert-warning'>\n\nSciPy's interactive examples with Jupyterlite are experimental and may not always work as expected. Execution of cells containing imports may result in large downloads (up to 60MB of content for the first import from SciPy). Load times when importing from SciPy may take roughly 10-20 seconds. If you notice any problems, feel free to open an [issue](https://github.com/scipy/scipy/issues/new/choose).\n\n</div>",
            "metadata": {}
        },
        {
            "id": "0078477d",
            "cell_type": "code",
            "metadata": {},
            "execution_count": null,
            "source": "import numpy as np\nfrom scipy.linalg import ishermitian\nA = np.arange(9).reshape(3, 3)\nA = A + A.T\nishermitian(A)",
            "outputs": [
                {
                    "output_type": "execute_result",
                    "metadata": {},
                    "data": {
                        "text/plain": "True"
                    },
                    "execution_count": null
                }
            ]
        },
        {
            "id": "ccdfdf89",
            "cell_type": "code",
            "metadata": {},
            "execution_count": null,
            "source": "A = np.array([[1., 2. + 3.j], [2. - 3.j, 4.]])\nishermitian(A)",
            "outputs": [
                {
                    "output_type": "execute_result",
                    "metadata": {},
                    "data": {
                        "text/plain": "True"
                    },
                    "execution_count": null
                }
            ]
        },
        {
            "id": "89b2a798",
            "cell_type": "code",
            "metadata": {},
            "execution_count": null,
            "source": "Ac = np.array([[1. + 1.j, 3.j], [3.j, 2.]])\nishermitian(Ac)  # not Hermitian but symmetric",
            "outputs": [
                {
                    "output_type": "execute_result",
                    "metadata": {},
                    "data": {
                        "text/plain": "False"
                    },
                    "execution_count": null
                }
            ]
        },
        {
            "id": "1b5be1e8",
            "cell_type": "code",
            "metadata": {},
            "execution_count": null,
            "source": "Af = np.array([[0, 1 + 1j], [1 - (1+1e-12)*1j, 0]])\nishermitian(Af)",
            "outputs": [
                {
                    "output_type": "execute_result",
                    "metadata": {},
                    "data": {
                        "text/plain": "False"
                    },
                    "execution_count": null
                }
            ]
        },
        {
            "id": "14df80ad",
            "cell_type": "code",
            "metadata": {},
            "execution_count": null,
            "source": "ishermitian(Af, atol=5e-11) # almost hermitian with atol",
            "outputs": [
                {
                    "output_type": "execute_result",
                    "metadata": {},
                    "data": {
                        "text/plain": "True"
                    },
                    "execution_count": null
                }
            ]
        }
    ]
}