{
    "nbformat": 4,
    "nbformat_minor": 5,
    "metadata": {
        "kernelspec": {
            "display_name": "Python",
            "language": "python",
            "name": "python"
        },
        "language_info": {
            "name": "python"
        }
    },
    "cells": [
        {
            "id": "7db48feb",
            "cell_type": "markdown",
            "source": "<div class='alert alert-warning'>\n\nSciPy's interactive examples with Jupyterlite are experimental and may not always work as expected. Execution of cells containing imports may result in large downloads (up to 60MB of content for the first import from SciPy). Load times when importing from SciPy may take roughly 10-20 seconds. If you notice any problems, feel free to open an [issue](https://github.com/scipy/scipy/issues/new/choose).\n\n</div>",
            "metadata": {}
        },
        {
            "id": "4cf5b2de",
            "cell_type": "code",
            "metadata": {},
            "execution_count": null,
            "source": "import numpy as np\nfrom scipy.linalg import convolution_matrix\nA = convolution_matrix([-1, 4, -2], 5, mode='same')\nA",
            "outputs": [
                {
                    "output_type": "execute_result",
                    "metadata": {},
                    "data": {
                        "text/plain": "array([[ 4, -1,  0,  0,  0],\n       [-2,  4, -1,  0,  0],\n       [ 0, -2,  4, -1,  0],\n       [ 0,  0, -2,  4, -1],\n       [ 0,  0,  0, -2,  4]])"
                    },
                    "execution_count": null
                }
            ]
        },
        {
            "id": "03d982a8",
            "cell_type": "markdown",
            "source": "Compare multiplication by `A` with the use of `numpy.convolve`.\n",
            "metadata": {}
        },
        {
            "id": "5ff8feef",
            "cell_type": "code",
            "metadata": {},
            "execution_count": null,
            "source": "x = np.array([1, 2, 0, -3, 0.5])\nA @ x",
            "outputs": [
                {
                    "output_type": "execute_result",
                    "metadata": {},
                    "data": {
                        "text/plain": "array([  2. ,   6. ,  -1. , -12.5,   8. ])"
                    },
                    "execution_count": null
                }
            ]
        },
        {
            "id": "bd655b09",
            "cell_type": "markdown",
            "source": "Verify that ``A @ x`` produced the same result as applying the\nconvolution function.\n",
            "metadata": {}
        },
        {
            "id": "1e767bdd",
            "cell_type": "code",
            "metadata": {},
            "execution_count": null,
            "source": "np.convolve([-1, 4, -2], x, mode='same')",
            "outputs": [
                {
                    "output_type": "execute_result",
                    "metadata": {},
                    "data": {
                        "text/plain": "array([  2. ,   6. ,  -1. , -12.5,   8. ])"
                    },
                    "execution_count": null
                }
            ]
        },
        {
            "id": "f50b5e41",
            "cell_type": "markdown",
            "source": "For comparison to the case ``mode='same'`` shown above, here are the\nmatrices produced by ``mode='full'`` and ``mode='valid'`` for the\nsame coefficients and size.\n",
            "metadata": {}
        },
        {
            "id": "fb949c55",
            "cell_type": "code",
            "metadata": {},
            "execution_count": null,
            "source": "convolution_matrix([-1, 4, -2], 5, mode='full')",
            "outputs": [
                {
                    "output_type": "execute_result",
                    "metadata": {},
                    "data": {
                        "text/plain": "array([[-1,  0,  0,  0,  0],\n       [ 4, -1,  0,  0,  0],\n       [-2,  4, -1,  0,  0],\n       [ 0, -2,  4, -1,  0],\n       [ 0,  0, -2,  4, -1],\n       [ 0,  0,  0, -2,  4],\n       [ 0,  0,  0,  0, -2]])"
                    },
                    "execution_count": null
                }
            ]
        },
        {
            "id": "88e94575",
            "cell_type": "code",
            "metadata": {},
            "execution_count": null,
            "source": "convolution_matrix([-1, 4, -2], 5, mode='valid')",
            "outputs": [
                {
                    "output_type": "execute_result",
                    "metadata": {},
                    "data": {
                        "text/plain": "array([[-2,  4, -1,  0,  0],\n       [ 0, -2,  4, -1,  0],\n       [ 0,  0, -2,  4, -1]])"
                    },
                    "execution_count": null
                }
            ]
        }
    ]
}