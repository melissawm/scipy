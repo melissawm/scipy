{
    "nbformat": 4,
    "nbformat_minor": 5,
    "metadata": {
        "kernelspec": {
            "display_name": "Python",
            "language": "python",
            "name": "python"
        },
        "language_info": {
            "name": "python"
        }
    },
    "cells": [
        {
            "id": "5c71eec5",
            "cell_type": "markdown",
            "source": "<div class='alert alert-warning'>\n\nSciPy's interactive examples with Jupyterlite are experimental and may not always work as expected. Execution of cells containing imports may result in large downloads (up to 60MB of content for the first import from SciPy). Load times when importing from SciPy may take roughly 10-20 seconds. If you notice any problems, feel free to open an [issue](https://github.com/scipy/scipy/issues/new/choose).\n\n</div>",
            "metadata": {}
        },
        {
            "id": "b539baed",
            "cell_type": "code",
            "metadata": {},
            "execution_count": null,
            "source": "import numpy as np\nimport matplotlib.pyplot as plt\nfrom scipy import stats\nrng = np.random.default_rng()",
            "outputs": []
        },
        {
            "id": "6d8db576",
            "cell_type": "markdown",
            "source": "Generate some data:\n",
            "metadata": {}
        },
        {
            "id": "53c27e10",
            "cell_type": "code",
            "metadata": {},
            "execution_count": null,
            "source": "x = rng.random(10)\ny = 1.6*x + rng.random(10)",
            "outputs": []
        },
        {
            "id": "d227a470",
            "cell_type": "markdown",
            "source": "Perform the linear regression:\n",
            "metadata": {}
        },
        {
            "id": "fc7be93a",
            "cell_type": "code",
            "metadata": {},
            "execution_count": null,
            "source": "res = stats.mstats.linregress(x, y)",
            "outputs": []
        },
        {
            "id": "3573f041",
            "cell_type": "markdown",
            "source": "Coefficient of determination (R-squared):\n",
            "metadata": {}
        },
        {
            "id": "cc424494",
            "cell_type": "code",
            "metadata": {},
            "execution_count": null,
            "source": "print(f\"R-squared: {res.rvalue**2:.6f}\")",
            "outputs": [
                {
                    "output_type": "execute_result",
                    "metadata": {},
                    "data": {
                        "text/plain": "R-squared: 0.717533"
                    },
                    "execution_count": null
                }
            ]
        },
        {
            "id": "e7127452",
            "cell_type": "markdown",
            "source": "Plot the data along with the fitted line:\n",
            "metadata": {}
        },
        {
            "id": "fa328d6d",
            "cell_type": "code",
            "metadata": {},
            "execution_count": null,
            "source": "plt.plot(x, y, 'o', label='original data')\nplt.plot(x, res.intercept + res.slope*x, 'r', label='fitted line')\nplt.legend()\nplt.show()",
            "outputs": []
        },
        {
            "id": "133091e0",
            "cell_type": "markdown",
            "source": "Calculate 95% confidence interval on slope and intercept:\n",
            "metadata": {}
        },
        {
            "id": "3f7d9940",
            "cell_type": "code",
            "metadata": {},
            "execution_count": null,
            "source": "# Two-sided inverse Students t-distribution\n# p - probability, df - degrees of freedom\nfrom scipy.stats import t\ntinv = lambda p, df: abs(t.ppf(p/2, df))",
            "outputs": []
        },
        {
            "id": "5b71fbdb",
            "cell_type": "code",
            "metadata": {},
            "execution_count": null,
            "source": "ts = tinv(0.05, len(x)-2)\nprint(f\"slope (95%): {res.slope:.6f} +/- {ts*res.stderr:.6f}\")",
            "outputs": [
                {
                    "output_type": "execute_result",
                    "metadata": {},
                    "data": {
                        "text/plain": "slope (95%): 1.453392 +/- 0.743465"
                    },
                    "execution_count": null
                }
            ]
        },
        {
            "id": "48260e29",
            "cell_type": "code",
            "metadata": {},
            "execution_count": null,
            "source": "print(f\"intercept (95%): {res.intercept:.6f}\"\n      f\" +/- {ts*res.intercept_stderr:.6f}\")",
            "outputs": [
                {
                    "output_type": "execute_result",
                    "metadata": {},
                    "data": {
                        "text/plain": "intercept (95%): 0.616950 +/- 0.544475"
                    },
                    "execution_count": null
                }
            ]
        }
    ]
}