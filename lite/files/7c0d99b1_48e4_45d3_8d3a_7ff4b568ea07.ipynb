{
    "nbformat": 4,
    "nbformat_minor": 5,
    "metadata": {
        "kernelspec": {
            "display_name": "Python",
            "language": "python",
            "name": "python"
        },
        "language_info": {
            "name": "python"
        }
    },
    "cells": [
        {
            "id": "35769e8d",
            "cell_type": "markdown",
            "source": "<div class='alert alert-warning'>\n\nSciPy's interactive examples with Jupyterlite are experimental and may not always work as expected. Execution of cells containing imports may result in large downloads (up to 60MB of content for the first import from SciPy). Load times when importing from SciPy may take roughly 10-20 seconds. If you notice any problems, feel free to open an [issue](https://github.com/scipy/scipy/issues/new/choose).\n\n</div>",
            "metadata": {}
        },
        {
            "id": "b585fa5a",
            "cell_type": "code",
            "metadata": {},
            "execution_count": null,
            "source": "from os.path import dirname, join as pjoin\nimport scipy.io as sio",
            "outputs": []
        },
        {
            "id": "f825a250",
            "cell_type": "markdown",
            "source": "Get the filename for an example .mat file from the tests/data directory.\n",
            "metadata": {}
        },
        {
            "id": "dc618068",
            "cell_type": "code",
            "metadata": {},
            "execution_count": null,
            "source": "data_dir = pjoin(dirname(sio.__file__), 'matlab', 'tests', 'data')\nmat_fname = pjoin(data_dir, 'testdouble_7.4_GLNX86.mat')",
            "outputs": []
        },
        {
            "id": "8606984c",
            "cell_type": "markdown",
            "source": "Load the .mat file contents.\n",
            "metadata": {}
        },
        {
            "id": "2668d01b",
            "cell_type": "code",
            "metadata": {},
            "execution_count": null,
            "source": "mat_contents = sio.loadmat(mat_fname)",
            "outputs": []
        },
        {
            "id": "37002da6",
            "cell_type": "markdown",
            "source": "The result is a dictionary, one key/value pair for each variable:\n",
            "metadata": {}
        },
        {
            "id": "70c6dfce",
            "cell_type": "code",
            "metadata": {},
            "execution_count": null,
            "source": "sorted(mat_contents.keys())",
            "outputs": [
                {
                    "output_type": "execute_result",
                    "metadata": {},
                    "data": {
                        "text/plain": "['__globals__', '__header__', '__version__', 'testdouble']"
                    },
                    "execution_count": null
                }
            ]
        },
        {
            "id": "83f83989",
            "cell_type": "code",
            "metadata": {},
            "execution_count": null,
            "source": "mat_contents['testdouble']",
            "outputs": [
                {
                    "output_type": "execute_result",
                    "metadata": {},
                    "data": {
                        "text/plain": "array([[0.        , 0.78539816, 1.57079633, 2.35619449, 3.14159265,\n        3.92699082, 4.71238898, 5.49778714, 6.28318531]])"
                    },
                    "execution_count": null
                }
            ]
        },
        {
            "id": "95edc3cc",
            "cell_type": "markdown",
            "source": "By default SciPy reads MATLAB structs as structured NumPy arrays where the\ndtype fields are of type `object` and the names correspond to the MATLAB\nstruct field names. This can be disabled by setting the optional argument\n`struct_as_record=False`.\n\nGet the filename for an example .mat file that contains a MATLAB struct\ncalled `teststruct` and load the contents.\n",
            "metadata": {}
        },
        {
            "id": "c81568be",
            "cell_type": "code",
            "metadata": {},
            "execution_count": null,
            "source": "matstruct_fname = pjoin(data_dir, 'teststruct_7.4_GLNX86.mat')\nmatstruct_contents = sio.loadmat(matstruct_fname)\nteststruct = matstruct_contents['teststruct']\nteststruct.dtype",
            "outputs": [
                {
                    "output_type": "execute_result",
                    "metadata": {},
                    "data": {
                        "text/plain": "dtype([('stringfield', 'O'), ('doublefield', 'O'), ('complexfield', 'O')])"
                    },
                    "execution_count": null
                }
            ]
        },
        {
            "id": "a50aa93c",
            "cell_type": "markdown",
            "source": "The size of the structured array is the size of the MATLAB struct, not the\nnumber of elements in any particular field. The shape defaults to 2-D\nunless the optional argument `squeeze_me=True`, in which case all length 1\ndimensions are removed.\n",
            "metadata": {}
        },
        {
            "id": "fc3d3718",
            "cell_type": "code",
            "metadata": {},
            "execution_count": null,
            "source": "teststruct.size",
            "outputs": [
                {
                    "output_type": "execute_result",
                    "metadata": {},
                    "data": {
                        "text/plain": "1"
                    },
                    "execution_count": null
                }
            ]
        },
        {
            "id": "0f4d1911",
            "cell_type": "code",
            "metadata": {},
            "execution_count": null,
            "source": "teststruct.shape",
            "outputs": [
                {
                    "output_type": "execute_result",
                    "metadata": {},
                    "data": {
                        "text/plain": "(1, 1)"
                    },
                    "execution_count": null
                }
            ]
        },
        {
            "id": "2f2f3826",
            "cell_type": "markdown",
            "source": "Get the 'stringfield' of the first element in the MATLAB struct.\n",
            "metadata": {}
        },
        {
            "id": "34e27e5d",
            "cell_type": "code",
            "metadata": {},
            "execution_count": null,
            "source": "teststruct[0, 0]['stringfield']",
            "outputs": [
                {
                    "output_type": "execute_result",
                    "metadata": {},
                    "data": {
                        "text/plain": "array(['Rats live on no evil star.'],\n  dtype='<U26')"
                    },
                    "execution_count": null
                }
            ]
        },
        {
            "id": "7c8926c6",
            "cell_type": "markdown",
            "source": "Get the first element of the 'doublefield'.\n",
            "metadata": {}
        },
        {
            "id": "ccac2576",
            "cell_type": "code",
            "metadata": {},
            "execution_count": null,
            "source": "teststruct['doublefield'][0, 0]",
            "outputs": [
                {
                    "output_type": "execute_result",
                    "metadata": {},
                    "data": {
                        "text/plain": "array([[ 1.41421356,  2.71828183,  3.14159265]])"
                    },
                    "execution_count": null
                }
            ]
        },
        {
            "id": "5849b7bf",
            "cell_type": "markdown",
            "source": "Load the MATLAB struct, squeezing out length 1 dimensions, and get the item\nfrom the 'complexfield'.\n",
            "metadata": {}
        },
        {
            "id": "b9e906ea",
            "cell_type": "code",
            "metadata": {},
            "execution_count": null,
            "source": "matstruct_squeezed = sio.loadmat(matstruct_fname, squeeze_me=True)\nmatstruct_squeezed['teststruct'].shape",
            "outputs": [
                {
                    "output_type": "execute_result",
                    "metadata": {},
                    "data": {
                        "text/plain": "()"
                    },
                    "execution_count": null
                }
            ]
        },
        {
            "id": "502797b7",
            "cell_type": "code",
            "metadata": {},
            "execution_count": null,
            "source": "matstruct_squeezed['teststruct']['complexfield'].shape",
            "outputs": [
                {
                    "output_type": "execute_result",
                    "metadata": {},
                    "data": {
                        "text/plain": "()"
                    },
                    "execution_count": null
                }
            ]
        },
        {
            "id": "9b2a1d7b",
            "cell_type": "code",
            "metadata": {},
            "execution_count": null,
            "source": "matstruct_squeezed['teststruct']['complexfield'].item()",
            "outputs": [
                {
                    "output_type": "execute_result",
                    "metadata": {},
                    "data": {
                        "text/plain": "array([ 1.41421356+1.41421356j,  2.71828183+2.71828183j,\n    3.14159265+3.14159265j])"
                    },
                    "execution_count": null
                }
            ]
        }
    ]
}