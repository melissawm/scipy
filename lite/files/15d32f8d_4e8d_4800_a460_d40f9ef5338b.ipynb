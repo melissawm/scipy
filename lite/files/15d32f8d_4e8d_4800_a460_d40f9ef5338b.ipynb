{
    "nbformat": 4,
    "nbformat_minor": 5,
    "metadata": {
        "kernelspec": {
            "display_name": "Python",
            "language": "python",
            "name": "python"
        },
        "language_info": {
            "name": "python"
        }
    },
    "cells": [
        {
            "id": "3a0de0d5",
            "cell_type": "markdown",
            "source": "<div class='alert alert-warning'>\n\nSciPy's interactive examples with Jupyterlite are experimental and may not always work as expected. Execution of cells containing imports may result in large downloads (up to 60MB of content for the first import from SciPy). Load times when importing from SciPy may take roughly 10-20 seconds. If you notice any problems, feel free to open an [issue](https://github.com/scipy/scipy/issues/new/choose).\n\n</div>",
            "metadata": {}
        },
        {
            "id": "19546078",
            "cell_type": "markdown",
            "source": "You can insert knots into a B-spline:\n",
            "metadata": {}
        },
        {
            "id": "57a49cba",
            "cell_type": "code",
            "metadata": {},
            "execution_count": null,
            "source": "import numpy as np\nfrom scipy.interpolate import BSpline, make_interp_spline\nx = np.linspace(0, 10, 5)\ny = np.sin(x)\nspl = make_interp_spline(x, y, k=3)\nspl.t",
            "outputs": [
                {
                    "output_type": "execute_result",
                    "metadata": {},
                    "data": {
                        "text/plain": "array([ 0.,  0.,  0.,  0.,  5., 10., 10., 10., 10.])"
                    },
                    "execution_count": null
                }
            ]
        },
        {
            "id": "7f066cbd",
            "cell_type": "markdown",
            "source": "Insert a single knot\n",
            "metadata": {}
        },
        {
            "id": "02652d84",
            "cell_type": "code",
            "metadata": {},
            "execution_count": null,
            "source": "spl_1 = spl.insert_knot(3)\nspl_1.t",
            "outputs": [
                {
                    "output_type": "execute_result",
                    "metadata": {},
                    "data": {
                        "text/plain": "array([ 0.,  0.,  0.,  0.,  3.,  5., 10., 10., 10., 10.])"
                    },
                    "execution_count": null
                }
            ]
        },
        {
            "id": "82bf500c",
            "cell_type": "markdown",
            "source": "Insert a multiple knot\n",
            "metadata": {}
        },
        {
            "id": "1c4954b4",
            "cell_type": "code",
            "metadata": {},
            "execution_count": null,
            "source": "spl_2 = spl.insert_knot(8, m=3)\nspl_2.t",
            "outputs": [
                {
                    "output_type": "execute_result",
                    "metadata": {},
                    "data": {
                        "text/plain": "array([ 0.,  0.,  0.,  0.,  5.,  8.,  8.,  8., 10., 10., 10., 10.])"
                    },
                    "execution_count": null
                }
            ]
        }
    ]
}