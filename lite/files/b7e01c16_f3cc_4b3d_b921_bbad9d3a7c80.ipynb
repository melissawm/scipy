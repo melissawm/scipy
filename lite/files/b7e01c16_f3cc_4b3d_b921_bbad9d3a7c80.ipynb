{
    "nbformat": 4,
    "nbformat_minor": 5,
    "metadata": {
        "kernelspec": {
            "display_name": "Python",
            "language": "python",
            "name": "python"
        },
        "language_info": {
            "name": "python"
        }
    },
    "cells": [
        {
            "id": "ce7241ee",
            "cell_type": "markdown",
            "source": "<div class='alert alert-warning'>\n\nSciPy's interactive examples with Jupyterlite are experimental and may not always work as expected. Execution of cells containing imports may result in large downloads (up to 60MB of content for the first import from SciPy). Load times when importing from SciPy may take roughly 10-20 seconds. If you notice any problems, feel free to open an [issue](https://github.com/scipy/scipy/issues/new/choose).\n\n</div>",
            "metadata": {}
        },
        {
            "id": "5a82aa39",
            "cell_type": "markdown",
            "source": "Evaluate the function of order 0 at one point.\n",
            "metadata": {}
        },
        {
            "id": "326bb357",
            "cell_type": "code",
            "metadata": {},
            "execution_count": null,
            "source": "from scipy.special import jv\njv(0, 1.)",
            "outputs": [
                {
                    "output_type": "execute_result",
                    "metadata": {},
                    "data": {
                        "text/plain": "0.7651976865579666"
                    },
                    "execution_count": null
                }
            ]
        },
        {
            "id": "a7dcb90d",
            "cell_type": "markdown",
            "source": "Evaluate the function at one point for different orders.\n",
            "metadata": {}
        },
        {
            "id": "98c5c46c",
            "cell_type": "code",
            "metadata": {},
            "execution_count": null,
            "source": "jv(0, 1.), jv(1, 1.), jv(1.5, 1.)",
            "outputs": [
                {
                    "output_type": "execute_result",
                    "metadata": {},
                    "data": {
                        "text/plain": "(0.7651976865579666, 0.44005058574493355, 0.24029783912342725)"
                    },
                    "execution_count": null
                }
            ]
        },
        {
            "id": "92b594be",
            "cell_type": "markdown",
            "source": "The evaluation for different orders can be carried out in one call by\nproviding a list or NumPy array as argument for the `v` parameter:\n",
            "metadata": {}
        },
        {
            "id": "d6f5f037",
            "cell_type": "code",
            "metadata": {},
            "execution_count": null,
            "source": "jv([0, 1, 1.5], 1.)",
            "outputs": [
                {
                    "output_type": "execute_result",
                    "metadata": {},
                    "data": {
                        "text/plain": "array([0.76519769, 0.44005059, 0.24029784])"
                    },
                    "execution_count": null
                }
            ]
        },
        {
            "id": "35205c58",
            "cell_type": "markdown",
            "source": "Evaluate the function at several points for order 0 by providing an\narray for `z`.\n",
            "metadata": {}
        },
        {
            "id": "f5d08b43",
            "cell_type": "code",
            "metadata": {},
            "execution_count": null,
            "source": "import numpy as np\npoints = np.array([-2., 0., 3.])\njv(0, points)",
            "outputs": [
                {
                    "output_type": "execute_result",
                    "metadata": {},
                    "data": {
                        "text/plain": "array([ 0.22389078,  1.        , -0.26005195])"
                    },
                    "execution_count": null
                }
            ]
        },
        {
            "id": "65dd6b23",
            "cell_type": "markdown",
            "source": "If `z` is an array, the order parameter `v` must be broadcastable to\nthe correct shape if different orders shall be computed in one call.\nTo calculate the orders 0 and 1 for an 1D array:\n",
            "metadata": {}
        },
        {
            "id": "3ceac899",
            "cell_type": "code",
            "metadata": {},
            "execution_count": null,
            "source": "orders = np.array([[0], [1]])\norders.shape",
            "outputs": [
                {
                    "output_type": "execute_result",
                    "metadata": {},
                    "data": {
                        "text/plain": "(2, 1)"
                    },
                    "execution_count": null
                }
            ]
        },
        {
            "id": "8f4bf77b",
            "cell_type": "code",
            "metadata": {},
            "execution_count": null,
            "source": "jv(orders, points)",
            "outputs": [
                {
                    "output_type": "execute_result",
                    "metadata": {},
                    "data": {
                        "text/plain": "array([[ 0.22389078,  1.        , -0.26005195],\n       [-0.57672481,  0.        ,  0.33905896]])"
                    },
                    "execution_count": null
                }
            ]
        },
        {
            "id": "e4b0a38a",
            "cell_type": "markdown",
            "source": "Plot the functions of order 0 to 3 from -10 to 10.\n",
            "metadata": {}
        },
        {
            "id": "a6b5449a",
            "cell_type": "code",
            "metadata": {},
            "execution_count": null,
            "source": "import matplotlib.pyplot as plt\nfig, ax = plt.subplots()\nx = np.linspace(-10., 10., 1000)\nfor i in range(4):\n    ax.plot(x, jv(i, x), label=f'$J_{i!r}$')\nax.legend()\nplt.show()",
            "outputs": []
        }
    ]
}