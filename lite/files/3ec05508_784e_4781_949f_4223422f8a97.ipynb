{
    "nbformat": 4,
    "nbformat_minor": 5,
    "metadata": {
        "kernelspec": {
            "display_name": "Python",
            "language": "python",
            "name": "python"
        },
        "language_info": {
            "name": "python"
        }
    },
    "cells": [
        {
            "id": "4caf36c0",
            "cell_type": "markdown",
            "source": "<div class='alert alert-warning'>\n\nSciPy's interactive examples with Jupyterlite are experimental and may not always work as expected. Execution of cells containing imports may result in large downloads (up to 60MB of content for the first import from SciPy). Load times when importing from SciPy may take roughly 10-20 seconds. If you notice any problems, feel free to open an [issue](https://github.com/scipy/scipy/issues/new/choose).\n\n</div>",
            "metadata": {}
        },
        {
            "id": "f7e9a420",
            "cell_type": "code",
            "metadata": {},
            "execution_count": null,
            "source": "import numpy as np\nfrom scipy.stats import skewnorm\nimport matplotlib.pyplot as plt\nfig, ax = plt.subplots(1, 1)",
            "outputs": []
        },
        {
            "id": "dacb9fc0",
            "cell_type": "markdown",
            "source": "Calculate the first four moments:\n",
            "metadata": {}
        },
        {
            "id": "b274ed3f",
            "cell_type": "code",
            "metadata": {},
            "execution_count": null,
            "source": "a = 4\nmean, var, skew, kurt = skewnorm.stats(a, moments='mvsk')",
            "outputs": []
        },
        {
            "id": "7d6dc845",
            "cell_type": "markdown",
            "source": "Display the probability density function (``pdf``):\n",
            "metadata": {}
        },
        {
            "id": "79d89c44",
            "cell_type": "code",
            "metadata": {},
            "execution_count": null,
            "source": "x = np.linspace(skewnorm.ppf(0.01, a),\n                skewnorm.ppf(0.99, a), 100)\nax.plot(x, skewnorm.pdf(x, a),\n       'r-', lw=5, alpha=0.6, label='skewnorm pdf')",
            "outputs": []
        },
        {
            "id": "c00b28bd",
            "cell_type": "markdown",
            "source": "Alternatively, the distribution object can be called (as a function)\nto fix the shape, location and scale parameters. This returns a \"frozen\"\nRV object holding the given parameters fixed.\n\nFreeze the distribution and display the frozen ``pdf``:\n",
            "metadata": {}
        },
        {
            "id": "e66afe70",
            "cell_type": "code",
            "metadata": {},
            "execution_count": null,
            "source": "rv = skewnorm(a)\nax.plot(x, rv.pdf(x), 'k-', lw=2, label='frozen pdf')",
            "outputs": []
        },
        {
            "id": "da0d4403",
            "cell_type": "markdown",
            "source": "Check accuracy of ``cdf`` and ``ppf``:\n",
            "metadata": {}
        },
        {
            "id": "c992676e",
            "cell_type": "code",
            "metadata": {},
            "execution_count": null,
            "source": "vals = skewnorm.ppf([0.001, 0.5, 0.999], a)\nnp.allclose([0.001, 0.5, 0.999], skewnorm.cdf(vals, a))",
            "outputs": [
                {
                    "output_type": "execute_result",
                    "metadata": {},
                    "data": {
                        "text/plain": "True"
                    },
                    "execution_count": null
                }
            ]
        },
        {
            "id": "9491bf1c",
            "cell_type": "markdown",
            "source": "Generate random numbers:\n",
            "metadata": {}
        },
        {
            "id": "1da9b2f5",
            "cell_type": "code",
            "metadata": {},
            "execution_count": null,
            "source": "r = skewnorm.rvs(a, size=1000)",
            "outputs": []
        },
        {
            "id": "a4b74f4c",
            "cell_type": "markdown",
            "source": "And compare the histogram:\n",
            "metadata": {}
        },
        {
            "id": "24e00f03",
            "cell_type": "code",
            "metadata": {},
            "execution_count": null,
            "source": "ax.hist(r, density=True, bins='auto', histtype='stepfilled', alpha=0.2)\nax.set_xlim([x[0], x[-1]])\nax.legend(loc='best', frameon=False)\nplt.show()",
            "outputs": []
        }
    ]
}