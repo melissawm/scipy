{
    "nbformat": 4,
    "nbformat_minor": 5,
    "metadata": {
        "kernelspec": {
            "display_name": "Python",
            "language": "python",
            "name": "python"
        },
        "language_info": {
            "name": "python"
        }
    },
    "cells": [
        {
            "id": "5bb72234",
            "cell_type": "markdown",
            "source": "<div class='alert alert-warning'>\n\nSciPy's interactive examples with Jupyterlite are experimental and may not always work as expected. Execution of cells containing imports may result in large downloads (up to 60MB of content for the first import from SciPy). Load times when importing from SciPy may take roughly 10-20 seconds. If you notice any problems, feel free to open an [issue](https://github.com/scipy/scipy/issues/new/choose).\n\n</div>",
            "metadata": {}
        },
        {
            "id": "2512a44b",
            "cell_type": "code",
            "metadata": {},
            "execution_count": null,
            "source": "import numpy as np\nfrom scipy.stats import invweibull\nimport matplotlib.pyplot as plt\nfig, ax = plt.subplots(1, 1)",
            "outputs": []
        },
        {
            "id": "ca47af25",
            "cell_type": "markdown",
            "source": "Calculate the first four moments:\n",
            "metadata": {}
        },
        {
            "id": "bc4afb44",
            "cell_type": "code",
            "metadata": {},
            "execution_count": null,
            "source": "c = 10.6\nmean, var, skew, kurt = invweibull.stats(c, moments='mvsk')",
            "outputs": []
        },
        {
            "id": "6cbd61d9",
            "cell_type": "markdown",
            "source": "Display the probability density function (``pdf``):\n",
            "metadata": {}
        },
        {
            "id": "80dbece0",
            "cell_type": "code",
            "metadata": {},
            "execution_count": null,
            "source": "x = np.linspace(invweibull.ppf(0.01, c),\n                invweibull.ppf(0.99, c), 100)\nax.plot(x, invweibull.pdf(x, c),\n       'r-', lw=5, alpha=0.6, label='invweibull pdf')",
            "outputs": []
        },
        {
            "id": "f1499ce1",
            "cell_type": "markdown",
            "source": "Alternatively, the distribution object can be called (as a function)\nto fix the shape, location and scale parameters. This returns a \"frozen\"\nRV object holding the given parameters fixed.\n\nFreeze the distribution and display the frozen ``pdf``:\n",
            "metadata": {}
        },
        {
            "id": "4f638388",
            "cell_type": "code",
            "metadata": {},
            "execution_count": null,
            "source": "rv = invweibull(c)\nax.plot(x, rv.pdf(x), 'k-', lw=2, label='frozen pdf')",
            "outputs": []
        },
        {
            "id": "3c154288",
            "cell_type": "markdown",
            "source": "Check accuracy of ``cdf`` and ``ppf``:\n",
            "metadata": {}
        },
        {
            "id": "32b3da5c",
            "cell_type": "code",
            "metadata": {},
            "execution_count": null,
            "source": "vals = invweibull.ppf([0.001, 0.5, 0.999], c)\nnp.allclose([0.001, 0.5, 0.999], invweibull.cdf(vals, c))",
            "outputs": [
                {
                    "output_type": "execute_result",
                    "metadata": {},
                    "data": {
                        "text/plain": "True"
                    },
                    "execution_count": null
                }
            ]
        },
        {
            "id": "8b223d2d",
            "cell_type": "markdown",
            "source": "Generate random numbers:\n",
            "metadata": {}
        },
        {
            "id": "d5e186d9",
            "cell_type": "code",
            "metadata": {},
            "execution_count": null,
            "source": "r = invweibull.rvs(c, size=1000)",
            "outputs": []
        },
        {
            "id": "f24f7943",
            "cell_type": "markdown",
            "source": "And compare the histogram:\n",
            "metadata": {}
        },
        {
            "id": "33c95380",
            "cell_type": "code",
            "metadata": {},
            "execution_count": null,
            "source": "ax.hist(r, density=True, bins='auto', histtype='stepfilled', alpha=0.2)\nax.set_xlim([x[0], x[-1]])\nax.legend(loc='best', frameon=False)\nplt.show()",
            "outputs": []
        }
    ]
}