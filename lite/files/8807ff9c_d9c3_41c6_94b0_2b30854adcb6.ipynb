{
    "nbformat": 4,
    "nbformat_minor": 5,
    "metadata": {
        "kernelspec": {
            "display_name": "Python",
            "language": "python",
            "name": "python"
        },
        "language_info": {
            "name": "python"
        }
    },
    "cells": [
        {
            "id": "4d76fa25",
            "cell_type": "markdown",
            "source": "<div class='alert alert-warning'>\n\nSciPy's interactive examples with Jupyterlite are experimental and may not always work as expected. Execution of cells containing imports may result in large downloads (up to 60MB of content for the first import from SciPy). Load times when importing from SciPy may take roughly 10-20 seconds. If you notice any problems, feel free to open an [issue](https://github.com/scipy/scipy/issues/new/choose).\n\n</div>",
            "metadata": {}
        },
        {
            "id": "b531fa0d",
            "cell_type": "code",
            "metadata": {},
            "execution_count": null,
            "source": "from scipy.sparse import csr_matrix\nfrom scipy.sparse.csgraph import connected_components",
            "outputs": []
        },
        {
            "id": "515c5b85",
            "cell_type": "code",
            "metadata": {},
            "execution_count": null,
            "source": "graph = [\n[0, 1, 1, 0, 0],\n[0, 0, 1, 0, 0],\n[0, 0, 0, 0, 0],\n[0, 0, 0, 0, 1],\n[0, 0, 0, 0, 0]\n]\ngraph = csr_matrix(graph)\nprint(graph)",
            "outputs": [
                {
                    "output_type": "execute_result",
                    "metadata": {},
                    "data": {
                        "text/plain": "  (np.int32(0), np.int32(1))        1\n  (np.int32(0), np.int32(2))        1\n  (np.int32(1), np.int32(2))        1\n  (np.int32(3), np.int32(4))        1"
                    },
                    "execution_count": null
                }
            ]
        },
        {
            "id": "49125562",
            "cell_type": "code",
            "metadata": {},
            "execution_count": null,
            "source": "n_components, labels = connected_components(csgraph=graph, directed=False, return_labels=True)\nn_components",
            "outputs": [
                {
                    "output_type": "execute_result",
                    "metadata": {},
                    "data": {
                        "text/plain": "2"
                    },
                    "execution_count": null
                }
            ]
        },
        {
            "id": "6ed2b603",
            "cell_type": "code",
            "metadata": {},
            "execution_count": null,
            "source": "labels",
            "outputs": [
                {
                    "output_type": "execute_result",
                    "metadata": {},
                    "data": {
                        "text/plain": "array([0, 0, 0, 1, 1], dtype=int32)"
                    },
                    "execution_count": null
                }
            ]
        }
    ]
}