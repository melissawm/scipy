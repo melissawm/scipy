{
    "nbformat": 4,
    "nbformat_minor": 5,
    "metadata": {
        "kernelspec": {
            "display_name": "Python",
            "language": "python",
            "name": "python"
        },
        "language_info": {
            "name": "python"
        }
    },
    "cells": [
        {
            "id": "ab156869",
            "cell_type": "markdown",
            "source": "<div class='alert alert-warning'>\n\nSciPy's interactive examples with Jupyterlite are experimental and may not always work as expected. Execution of cells containing imports may result in large downloads (up to 60MB of content for the first import from SciPy). Load times when importing from SciPy may take roughly 10-20 seconds. If you notice any problems, feel free to open an [issue](https://github.com/scipy/scipy/issues/new/choose).\n\n</div>",
            "metadata": {}
        },
        {
            "id": "d9d2b500",
            "cell_type": "code",
            "metadata": {},
            "execution_count": null,
            "source": "from scipy import signal\nimport numpy as np\nb = signal.firwin(80, 0.5, window=('kaiser', 8))\nw, h = signal.freqz(b)",
            "outputs": []
        },
        {
            "id": "bfe33357",
            "cell_type": "code",
            "metadata": {},
            "execution_count": null,
            "source": "import matplotlib.pyplot as plt\nfig, ax1 = plt.subplots()\nax1.set_title('Digital filter frequency response')",
            "outputs": []
        },
        {
            "id": "f27cc5b5",
            "cell_type": "code",
            "metadata": {},
            "execution_count": null,
            "source": "ax1.plot(w, 20 * np.log10(abs(h)), 'b')\nax1.set_ylabel('Amplitude [dB]', color='b')\nax1.set_xlabel('Frequency [rad/sample]')",
            "outputs": []
        },
        {
            "id": "9ed1b08e",
            "cell_type": "code",
            "metadata": {},
            "execution_count": null,
            "source": "ax2 = ax1.twinx()\nangles = np.unwrap(np.angle(h))\nax2.plot(w, angles, 'g')\nax2.set_ylabel('Angle (radians)', color='g')\nax2.grid(True)\nax2.axis('tight')\nplt.show()",
            "outputs": []
        },
        {
            "id": "5f0d5ba3",
            "cell_type": "markdown",
            "source": "Broadcasting Examples\n\nSuppose we have two FIR filters whose coefficients are stored in the\nrows of an array with shape (2, 25). For this demonstration, we'll\nuse random data:\n",
            "metadata": {}
        },
        {
            "id": "9c854287",
            "cell_type": "code",
            "metadata": {},
            "execution_count": null,
            "source": "rng = np.random.default_rng()\nb = rng.random((2, 25))",
            "outputs": []
        },
        {
            "id": "ed530d0b",
            "cell_type": "markdown",
            "source": "To compute the frequency response for these two filters with one call\nto `freqz`, we must pass in ``b.T``, because `freqz` expects the first\naxis to hold the coefficients. We must then extend the shape with a\ntrivial dimension of length 1 to allow broadcasting with the array\nof frequencies.  That is, we pass in ``b.T[..., np.newaxis]``, which has\nshape (25, 2, 1):\n",
            "metadata": {}
        },
        {
            "id": "7b4743f6",
            "cell_type": "code",
            "metadata": {},
            "execution_count": null,
            "source": "w, h = signal.freqz(b.T[..., np.newaxis], worN=1024)\nw.shape",
            "outputs": [
                {
                    "output_type": "execute_result",
                    "metadata": {},
                    "data": {
                        "text/plain": "(1024,)"
                    },
                    "execution_count": null
                }
            ]
        },
        {
            "id": "9f3426da",
            "cell_type": "code",
            "metadata": {},
            "execution_count": null,
            "source": "h.shape",
            "outputs": [
                {
                    "output_type": "execute_result",
                    "metadata": {},
                    "data": {
                        "text/plain": "(2, 1024)"
                    },
                    "execution_count": null
                }
            ]
        },
        {
            "id": "c90ae259",
            "cell_type": "markdown",
            "source": "Now, suppose we have two transfer functions, with the same numerator\ncoefficients ``b = [0.5, 0.5]``. The coefficients for the two denominators\nare stored in the first dimension of the 2-D array  `a`\n```\n\na = [   1      1  ]\n[ -0.25, -0.5 ]\n\n```",
            "metadata": {}
        },
        {
            "id": "1141fb90",
            "cell_type": "code",
            "metadata": {},
            "execution_count": null,
            "source": "b = np.array([0.5, 0.5])\na = np.array([[1, 1], [-0.25, -0.5]])",
            "outputs": []
        },
        {
            "id": "5d01a727",
            "cell_type": "markdown",
            "source": "Only `a` is more than 1-D. To make it compatible for\nbroadcasting with the frequencies, we extend it with a trivial dimension\nin the call to `freqz`:\n",
            "metadata": {}
        },
        {
            "id": "b421225f",
            "cell_type": "code",
            "metadata": {},
            "execution_count": null,
            "source": "w, h = signal.freqz(b, a[..., np.newaxis], worN=1024)\nw.shape",
            "outputs": [
                {
                    "output_type": "execute_result",
                    "metadata": {},
                    "data": {
                        "text/plain": "(1024,)"
                    },
                    "execution_count": null
                }
            ]
        },
        {
            "id": "6ca750df",
            "cell_type": "code",
            "metadata": {},
            "execution_count": null,
            "source": "h.shape",
            "outputs": [
                {
                    "output_type": "execute_result",
                    "metadata": {},
                    "data": {
                        "text/plain": "(2, 1024)"
                    },
                    "execution_count": null
                }
            ]
        }
    ]
}