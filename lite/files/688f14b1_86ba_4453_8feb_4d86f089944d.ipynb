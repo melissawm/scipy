{
    "nbformat": 4,
    "nbformat_minor": 5,
    "metadata": {
        "kernelspec": {
            "display_name": "Python",
            "language": "python",
            "name": "python"
        },
        "language_info": {
            "name": "python"
        }
    },
    "cells": [
        {
            "id": "e00de584",
            "cell_type": "markdown",
            "source": "<div class='alert alert-warning'>\n\nSciPy's interactive examples with Jupyterlite are experimental and may not always work as expected. Execution of cells containing imports may result in large downloads (up to 60MB of content for the first import from SciPy). Load times when importing from SciPy may take roughly 10-20 seconds. If you notice any problems, feel free to open an [issue](https://github.com/scipy/scipy/issues/new/choose).\n\n</div>",
            "metadata": {}
        },
        {
            "id": "3ff9ea0f",
            "cell_type": "markdown",
            "source": "Prepare a symmetric positive definite precision matrix ``P`` and a\ndata point ``x``. (If the precision matrix is not already available,\nconsider the other factory methods of the `Covariance` class.)\n",
            "metadata": {}
        },
        {
            "id": "d85fb4b8",
            "cell_type": "code",
            "metadata": {},
            "execution_count": null,
            "source": "import numpy as np\nfrom scipy import stats\nrng = np.random.default_rng()\nn = 5\nP = rng.random(size=(n, n))\nP = P @ P.T  # a precision matrix must be positive definite\nx = rng.random(size=n)",
            "outputs": []
        },
        {
            "id": "c7c43357",
            "cell_type": "markdown",
            "source": "Create the `Covariance` object.\n",
            "metadata": {}
        },
        {
            "id": "87d48c7f",
            "cell_type": "code",
            "metadata": {},
            "execution_count": null,
            "source": "cov = stats.Covariance.from_precision(P)",
            "outputs": []
        },
        {
            "id": "c55fe2a4",
            "cell_type": "markdown",
            "source": "Compare the functionality of the `Covariance` object against\nreference implementations.\n",
            "metadata": {}
        },
        {
            "id": "396fe34f",
            "cell_type": "code",
            "metadata": {},
            "execution_count": null,
            "source": "res = cov.whiten(x)\nref = x @ np.linalg.cholesky(P)\nnp.allclose(res, ref)",
            "outputs": [
                {
                    "output_type": "execute_result",
                    "metadata": {},
                    "data": {
                        "text/plain": "True"
                    },
                    "execution_count": null
                }
            ]
        },
        {
            "id": "9db08bb3",
            "cell_type": "code",
            "metadata": {},
            "execution_count": null,
            "source": "res = cov.log_pdet\nref = -np.linalg.slogdet(P)[-1]\nnp.allclose(res, ref)",
            "outputs": [
                {
                    "output_type": "execute_result",
                    "metadata": {},
                    "data": {
                        "text/plain": "True"
                    },
                    "execution_count": null
                }
            ]
        }
    ]
}