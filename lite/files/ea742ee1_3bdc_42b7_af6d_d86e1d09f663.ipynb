{
    "nbformat": 4,
    "nbformat_minor": 5,
    "metadata": {
        "kernelspec": {
            "display_name": "Python",
            "language": "python",
            "name": "python"
        },
        "language_info": {
            "name": "python"
        }
    },
    "cells": [
        {
            "id": "df20080a",
            "cell_type": "markdown",
            "source": "<div class='alert alert-warning'>\n\nSciPy's interactive examples with Jupyterlite are experimental and may not always work as expected. Execution of cells containing imports may result in large downloads (up to 60MB of content for the first import from SciPy). Load times when importing from SciPy may take roughly 10-20 seconds. If you notice any problems, feel free to open an [issue](https://github.com/scipy/scipy/issues/new/choose).\n\n</div>",
            "metadata": {}
        },
        {
            "id": "03c2a1e4",
            "cell_type": "code",
            "metadata": {},
            "execution_count": null,
            "source": "import numpy as np\nfrom scipy.stats import irwinhall\nimport matplotlib.pyplot as plt\nfig, ax = plt.subplots(1, 1)",
            "outputs": []
        },
        {
            "id": "990742d9",
            "cell_type": "markdown",
            "source": "Calculate the first four moments:\n",
            "metadata": {}
        },
        {
            "id": "c99c4c84",
            "cell_type": "code",
            "metadata": {},
            "execution_count": null,
            "source": "n = 10\nmean, var, skew, kurt = irwinhall.stats(n, moments='mvsk')",
            "outputs": []
        },
        {
            "id": "b11fe410",
            "cell_type": "markdown",
            "source": "Display the probability density function (``pdf``):\n",
            "metadata": {}
        },
        {
            "id": "6642e7e3",
            "cell_type": "code",
            "metadata": {},
            "execution_count": null,
            "source": "x = np.linspace(irwinhall.ppf(0.01, n),\n                irwinhall.ppf(0.99, n), 100)\nax.plot(x, irwinhall.pdf(x, n),\n       'r-', lw=5, alpha=0.6, label='irwinhall pdf')",
            "outputs": []
        },
        {
            "id": "a9429e6d",
            "cell_type": "markdown",
            "source": "Alternatively, the distribution object can be called (as a function)\nto fix the shape, location and scale parameters. This returns a \"frozen\"\nRV object holding the given parameters fixed.\n\nFreeze the distribution and display the frozen ``pdf``:\n",
            "metadata": {}
        },
        {
            "id": "487fbc5b",
            "cell_type": "code",
            "metadata": {},
            "execution_count": null,
            "source": "rv = irwinhall(n)\nax.plot(x, rv.pdf(x), 'k-', lw=2, label='frozen pdf')",
            "outputs": []
        },
        {
            "id": "cfc48691",
            "cell_type": "markdown",
            "source": "Check accuracy of ``cdf`` and ``ppf``:\n",
            "metadata": {}
        },
        {
            "id": "c383b129",
            "cell_type": "code",
            "metadata": {},
            "execution_count": null,
            "source": "vals = irwinhall.ppf([0.001, 0.5, 0.999], n)\nnp.allclose([0.001, 0.5, 0.999], irwinhall.cdf(vals, n))",
            "outputs": [
                {
                    "output_type": "execute_result",
                    "metadata": {},
                    "data": {
                        "text/plain": "True"
                    },
                    "execution_count": null
                }
            ]
        },
        {
            "id": "c0884622",
            "cell_type": "markdown",
            "source": "Generate random numbers:\n",
            "metadata": {}
        },
        {
            "id": "184a7032",
            "cell_type": "code",
            "metadata": {},
            "execution_count": null,
            "source": "r = irwinhall.rvs(n, size=1000)",
            "outputs": []
        },
        {
            "id": "e811a527",
            "cell_type": "markdown",
            "source": "And compare the histogram:\n",
            "metadata": {}
        },
        {
            "id": "704caa8d",
            "cell_type": "code",
            "metadata": {},
            "execution_count": null,
            "source": "ax.hist(r, density=True, bins='auto', histtype='stepfilled', alpha=0.2)\nax.set_xlim([x[0], x[-1]])\nax.legend(loc='best', frameon=False)\nplt.show()",
            "outputs": []
        }
    ]
}