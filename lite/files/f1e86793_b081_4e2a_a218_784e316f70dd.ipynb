{
    "nbformat": 4,
    "nbformat_minor": 5,
    "metadata": {
        "kernelspec": {
            "display_name": "Python",
            "language": "python",
            "name": "python"
        },
        "language_info": {
            "name": "python"
        }
    },
    "cells": [
        {
            "id": "548f8ef2",
            "cell_type": "markdown",
            "source": "<div class='alert alert-warning'>\n\nSciPy's interactive examples with Jupyterlite are experimental and may not always work as expected. Execution of cells containing imports may result in large downloads (up to 60MB of content for the first import from SciPy). Load times when importing from SciPy may take roughly 10-20 seconds. If you notice any problems, feel free to open an [issue](https://github.com/scipy/scipy/issues/new/choose).\n\n</div>",
            "metadata": {}
        },
        {
            "id": "42d0c4dd",
            "cell_type": "code",
            "metadata": {},
            "execution_count": null,
            "source": "import numpy as np\nimport matplotlib.pyplot as plt\nrng = np.random.default_rng()",
            "outputs": []
        },
        {
            "id": "c19e6baf",
            "cell_type": "markdown",
            "source": "First define some input parameters for the signal:\n",
            "metadata": {}
        },
        {
            "id": "eab7c86c",
            "cell_type": "code",
            "metadata": {},
            "execution_count": null,
            "source": "A = 2.\nw0 = 1.  # rad/sec\nnin = 150\nnout = 100000",
            "outputs": []
        },
        {
            "id": "420c6cc2",
            "cell_type": "markdown",
            "source": "Randomly generate sample times:\n",
            "metadata": {}
        },
        {
            "id": "2863f6f4",
            "cell_type": "code",
            "metadata": {},
            "execution_count": null,
            "source": "x = rng.uniform(0, 10*np.pi, nin)",
            "outputs": []
        },
        {
            "id": "163b3ed8",
            "cell_type": "markdown",
            "source": "Plot a sine wave for the selected times:\n",
            "metadata": {}
        },
        {
            "id": "8e94f15f",
            "cell_type": "code",
            "metadata": {},
            "execution_count": null,
            "source": "y = A * np.cos(w0*x)",
            "outputs": []
        },
        {
            "id": "ef14d789",
            "cell_type": "markdown",
            "source": "Define the array of frequencies for which to compute the periodogram:\n",
            "metadata": {}
        },
        {
            "id": "52029633",
            "cell_type": "code",
            "metadata": {},
            "execution_count": null,
            "source": "w = np.linspace(0.01, 10, nout)",
            "outputs": []
        },
        {
            "id": "b2e25969",
            "cell_type": "markdown",
            "source": "Calculate Lomb-Scargle periodogram:\n",
            "metadata": {}
        },
        {
            "id": "326d079a",
            "cell_type": "code",
            "metadata": {},
            "execution_count": null,
            "source": "import scipy.signal as signal\npgram = signal.lombscargle(x, y, w, normalize=True)",
            "outputs": []
        },
        {
            "id": "53cc312c",
            "cell_type": "markdown",
            "source": "Now make a plot of the input data:\n",
            "metadata": {}
        },
        {
            "id": "23e47c2e",
            "cell_type": "code",
            "metadata": {},
            "execution_count": null,
            "source": "fig, (ax_t, ax_w) = plt.subplots(2, 1, constrained_layout=True)\nax_t.plot(x, y, 'b+')\nax_t.set_xlabel('Time [s]')",
            "outputs": []
        },
        {
            "id": "b83ae63e",
            "cell_type": "markdown",
            "source": "Then plot the normalized periodogram:\n",
            "metadata": {}
        },
        {
            "id": "ae83fad6",
            "cell_type": "code",
            "metadata": {},
            "execution_count": null,
            "source": "ax_w.plot(w, pgram)\nax_w.set_xlabel('Angular frequency [rad/s]')\nax_w.set_ylabel('Normalized amplitude')\nplt.show()",
            "outputs": []
        }
    ]
}