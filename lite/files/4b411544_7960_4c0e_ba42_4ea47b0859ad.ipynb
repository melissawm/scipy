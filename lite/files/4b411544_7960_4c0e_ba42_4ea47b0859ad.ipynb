{
    "nbformat": 4,
    "nbformat_minor": 5,
    "metadata": {
        "kernelspec": {
            "display_name": "Python",
            "language": "python",
            "name": "python"
        },
        "language_info": {
            "name": "python"
        }
    },
    "cells": [
        {
            "id": "96732b08",
            "cell_type": "markdown",
            "source": "<div class='alert alert-warning'>\n\nSciPy's interactive examples with Jupyterlite are experimental and may not always work as expected. Execution of cells containing imports may result in large downloads (up to 60MB of content for the first import from SciPy). Load times when importing from SciPy may take roughly 10-20 seconds. If you notice any problems, feel free to open an [issue](https://github.com/scipy/scipy/issues/new/choose).\n\n</div>",
            "metadata": {}
        },
        {
            "id": "e223dc92",
            "cell_type": "markdown",
            "source": "Prepare a symmetric positive definite covariance matrix ``A`` and a\ndata point ``x``.\n",
            "metadata": {}
        },
        {
            "id": "ff121a34",
            "cell_type": "code",
            "metadata": {},
            "execution_count": null,
            "source": "import numpy as np\nfrom scipy import stats\nrng = np.random.default_rng()\nn = 5\nA = rng.random(size=(n, n))\nA = A @ A.T  # make the covariance symmetric positive definite\nx = rng.random(size=n)",
            "outputs": []
        },
        {
            "id": "d299935c",
            "cell_type": "markdown",
            "source": "Perform the eigendecomposition of ``A`` and create the `Covariance`\nobject.\n",
            "metadata": {}
        },
        {
            "id": "3218ab46",
            "cell_type": "code",
            "metadata": {},
            "execution_count": null,
            "source": "w, v = np.linalg.eigh(A)\ncov = stats.Covariance.from_eigendecomposition((w, v))",
            "outputs": []
        },
        {
            "id": "88531293",
            "cell_type": "markdown",
            "source": "Compare the functionality of the `Covariance` object against\nreference implementations.\n",
            "metadata": {}
        },
        {
            "id": "1a0f33e7",
            "cell_type": "code",
            "metadata": {},
            "execution_count": null,
            "source": "res = cov.whiten(x)\nref = x @ (v @ np.diag(w**-0.5))\nnp.allclose(res, ref)",
            "outputs": [
                {
                    "output_type": "execute_result",
                    "metadata": {},
                    "data": {
                        "text/plain": "True"
                    },
                    "execution_count": null
                }
            ]
        },
        {
            "id": "c1e873a8",
            "cell_type": "code",
            "metadata": {},
            "execution_count": null,
            "source": "res = cov.log_pdet\nref = np.linalg.slogdet(A)[-1]\nnp.allclose(res, ref)",
            "outputs": [
                {
                    "output_type": "execute_result",
                    "metadata": {},
                    "data": {
                        "text/plain": "True"
                    },
                    "execution_count": null
                }
            ]
        }
    ]
}