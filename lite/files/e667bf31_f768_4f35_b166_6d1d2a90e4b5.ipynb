{
    "nbformat": 4,
    "nbformat_minor": 5,
    "metadata": {
        "kernelspec": {
            "display_name": "Python",
            "language": "python",
            "name": "python"
        },
        "language_info": {
            "name": "python"
        }
    },
    "cells": [
        {
            "id": "40f8e097",
            "cell_type": "markdown",
            "source": "<div class='alert alert-warning'>\n\nSciPy's interactive examples with Jupyterlite are experimental and may not always work as expected. Execution of cells containing imports may result in large downloads (up to 60MB of content for the first import from SciPy). Load times when importing from SciPy may take roughly 10-20 seconds. If you notice any problems, feel free to open an [issue](https://github.com/scipy/scipy/issues/new/choose).\n\n</div>",
            "metadata": {}
        },
        {
            "id": "4229f620",
            "cell_type": "code",
            "metadata": {},
            "execution_count": null,
            "source": "import numpy as np\nfrom scipy import linalg\na = np.array([[  3.,  -2.,  -2.],\n              [  6.,  -9.,  -3.],\n              [ -3.,  10.,   1.],\n              [  6.,  -7.,   4.],\n              [  7.,   8.,  -6.]])\nq, r = linalg.qr(a)",
            "outputs": []
        },
        {
            "id": "2c4fa115",
            "cell_type": "markdown",
            "source": "Given this QR decomposition, update q and r when 2 rows are removed.\n",
            "metadata": {}
        },
        {
            "id": "725d045f",
            "cell_type": "code",
            "metadata": {},
            "execution_count": null,
            "source": "q1, r1 = linalg.qr_delete(q, r, 2, 2, 'row', False)\nq1",
            "outputs": [
                {
                    "output_type": "execute_result",
                    "metadata": {},
                    "data": {
                        "text/plain": "array([[ 0.30942637,  0.15347579,  0.93845645],  # may vary (signs)\n       [ 0.61885275,  0.71680171, -0.32127338],\n       [ 0.72199487, -0.68017681, -0.12681844]])"
                    },
                    "execution_count": null
                }
            ]
        },
        {
            "id": "705763f6",
            "cell_type": "code",
            "metadata": {},
            "execution_count": null,
            "source": "r1",
            "outputs": [
                {
                    "output_type": "execute_result",
                    "metadata": {},
                    "data": {
                        "text/plain": "array([[  9.69535971,  -0.4125685 ,  -6.80738023],  # may vary (signs)\n       [  0.        , -12.19958144,   1.62370412],\n       [  0.        ,   0.        ,  -0.15218213]])"
                    },
                    "execution_count": null
                }
            ]
        },
        {
            "id": "759a7bde",
            "cell_type": "markdown",
            "source": "The update is equivalent, but faster than the following.\n",
            "metadata": {}
        },
        {
            "id": "90fe44fe",
            "cell_type": "code",
            "metadata": {},
            "execution_count": null,
            "source": "a1 = np.delete(a, slice(2,4), 0)\na1",
            "outputs": [
                {
                    "output_type": "execute_result",
                    "metadata": {},
                    "data": {
                        "text/plain": "array([[ 3., -2., -2.],\n       [ 6., -9., -3.],\n       [ 7.,  8., -6.]])"
                    },
                    "execution_count": null
                }
            ]
        },
        {
            "id": "db124e07",
            "cell_type": "code",
            "metadata": {},
            "execution_count": null,
            "source": "q_direct, r_direct = linalg.qr(a1)",
            "outputs": []
        },
        {
            "id": "fbb65ae2",
            "cell_type": "markdown",
            "source": "Check that we have equivalent results:\n",
            "metadata": {}
        },
        {
            "id": "8bfdaaaf",
            "cell_type": "code",
            "metadata": {},
            "execution_count": null,
            "source": "np.dot(q1, r1)",
            "outputs": [
                {
                    "output_type": "execute_result",
                    "metadata": {},
                    "data": {
                        "text/plain": "array([[ 3., -2., -2.],\n       [ 6., -9., -3.],\n       [ 7.,  8., -6.]])"
                    },
                    "execution_count": null
                }
            ]
        },
        {
            "id": "59427ea6",
            "cell_type": "code",
            "metadata": {},
            "execution_count": null,
            "source": "np.allclose(np.dot(q1, r1), a1)",
            "outputs": [
                {
                    "output_type": "execute_result",
                    "metadata": {},
                    "data": {
                        "text/plain": "True"
                    },
                    "execution_count": null
                }
            ]
        },
        {
            "id": "be9a7129",
            "cell_type": "markdown",
            "source": "And the updated Q is still unitary:\n",
            "metadata": {}
        },
        {
            "id": "6498684b",
            "cell_type": "code",
            "metadata": {},
            "execution_count": null,
            "source": "np.allclose(np.dot(q1.T, q1), np.eye(3))",
            "outputs": [
                {
                    "output_type": "execute_result",
                    "metadata": {},
                    "data": {
                        "text/plain": "True"
                    },
                    "execution_count": null
                }
            ]
        }
    ]
}