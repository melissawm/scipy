{
    "nbformat": 4,
    "nbformat_minor": 5,
    "metadata": {
        "kernelspec": {
            "display_name": "Python",
            "language": "python",
            "name": "python"
        },
        "language_info": {
            "name": "python"
        }
    },
    "cells": [
        {
            "id": "d8c03155",
            "cell_type": "markdown",
            "source": "<div class='alert alert-warning'>\n\nSciPy's interactive examples with Jupyterlite are experimental and may not always work as expected. Execution of cells containing imports may result in large downloads (up to 60MB of content for the first import from SciPy). Load times when importing from SciPy may take roughly 10-20 seconds. If you notice any problems, feel free to open an [issue](https://github.com/scipy/scipy/issues/new/choose).\n\n</div>",
            "metadata": {}
        },
        {
            "id": "482cac54",
            "cell_type": "code",
            "metadata": {},
            "execution_count": null,
            "source": "from scipy.stats import pmean, hmean, gmean\npmean([1, 4], 1.3)",
            "outputs": [
                {
                    "output_type": "execute_result",
                    "metadata": {},
                    "data": {
                        "text/plain": "2.639372938300652"
                    },
                    "execution_count": null
                }
            ]
        },
        {
            "id": "0b28f0b3",
            "cell_type": "code",
            "metadata": {},
            "execution_count": null,
            "source": "pmean([1, 2, 3, 4, 5, 6, 7], 1.3)",
            "outputs": [
                {
                    "output_type": "execute_result",
                    "metadata": {},
                    "data": {
                        "text/plain": "4.157111214492084"
                    },
                    "execution_count": null
                }
            ]
        },
        {
            "id": "65bbc11b",
            "cell_type": "code",
            "metadata": {},
            "execution_count": null,
            "source": "pmean([1, 4, 7], -2, weights=[3, 1, 3])",
            "outputs": [
                {
                    "output_type": "execute_result",
                    "metadata": {},
                    "data": {
                        "text/plain": "1.4969684896631954"
                    },
                    "execution_count": null
                }
            ]
        },
        {
            "id": "e738cf8a",
            "cell_type": "markdown",
            "source": "For p=-1, power mean is equal to harmonic mean:\n",
            "metadata": {}
        },
        {
            "id": "66255dbd",
            "cell_type": "code",
            "metadata": {},
            "execution_count": null,
            "source": "pmean([1, 4, 7], -1, weights=[3, 1, 3])",
            "outputs": [
                {
                    "output_type": "execute_result",
                    "metadata": {},
                    "data": {
                        "text/plain": "1.9029126213592233"
                    },
                    "execution_count": null
                }
            ]
        },
        {
            "id": "c9e47e7d",
            "cell_type": "code",
            "metadata": {},
            "execution_count": null,
            "source": "hmean([1, 4, 7], weights=[3, 1, 3])",
            "outputs": [
                {
                    "output_type": "execute_result",
                    "metadata": {},
                    "data": {
                        "text/plain": "1.9029126213592233"
                    },
                    "execution_count": null
                }
            ]
        },
        {
            "id": "f8086671",
            "cell_type": "markdown",
            "source": "For p=0, power mean is defined as the geometric mean:\n",
            "metadata": {}
        },
        {
            "id": "47bb041d",
            "cell_type": "code",
            "metadata": {},
            "execution_count": null,
            "source": "pmean([1, 4, 7], 0, weights=[3, 1, 3])",
            "outputs": [
                {
                    "output_type": "execute_result",
                    "metadata": {},
                    "data": {
                        "text/plain": "2.80668351922014"
                    },
                    "execution_count": null
                }
            ]
        },
        {
            "id": "80979b8b",
            "cell_type": "code",
            "metadata": {},
            "execution_count": null,
            "source": "gmean([1, 4, 7], weights=[3, 1, 3])",
            "outputs": [
                {
                    "output_type": "execute_result",
                    "metadata": {},
                    "data": {
                        "text/plain": "2.80668351922014"
                    },
                    "execution_count": null
                }
            ]
        }
    ]
}