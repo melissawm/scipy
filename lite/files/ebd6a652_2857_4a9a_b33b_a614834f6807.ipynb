{
    "nbformat": 4,
    "nbformat_minor": 5,
    "metadata": {
        "kernelspec": {
            "display_name": "Python",
            "language": "python",
            "name": "python"
        },
        "language_info": {
            "name": "python"
        }
    },
    "cells": [
        {
            "id": "4caf34e0",
            "cell_type": "markdown",
            "source": "<div class='alert alert-warning'>\n\nSciPy's interactive examples with Jupyterlite are experimental and may not always work as expected. Execution of cells containing imports may result in large downloads (up to 60MB of content for the first import from SciPy). Load times when importing from SciPy may take roughly 10-20 seconds. If you notice any problems, feel free to open an [issue](https://github.com/scipy/scipy/issues/new/choose).\n\n</div>",
            "metadata": {}
        },
        {
            "id": "3642fe92",
            "cell_type": "code",
            "metadata": {},
            "execution_count": null,
            "source": "import numpy as np\nimport scipy.special as sc",
            "outputs": []
        },
        {
            "id": "b0dc25b6",
            "cell_type": "markdown",
            "source": "It is a survival function, so it decreases to 0\nmonotonically as `k` goes to infinity.\n",
            "metadata": {}
        },
        {
            "id": "cf873917",
            "cell_type": "code",
            "metadata": {},
            "execution_count": null,
            "source": "k = np.array([1, 10, 100, np.inf])\nsc.pdtrc(k, 1)",
            "outputs": [
                {
                    "output_type": "execute_result",
                    "metadata": {},
                    "data": {
                        "text/plain": "array([2.64241118e-001, 1.00477664e-008, 3.94147589e-161, 0.00000000e+000])"
                    },
                    "execution_count": null
                }
            ]
        },
        {
            "id": "5317e7e4",
            "cell_type": "markdown",
            "source": "It can be expressed in terms of the lower incomplete gamma\nfunction `gammainc`.\n",
            "metadata": {}
        },
        {
            "id": "4feb44f8",
            "cell_type": "code",
            "metadata": {},
            "execution_count": null,
            "source": "sc.gammainc(k + 1, 1)",
            "outputs": [
                {
                    "output_type": "execute_result",
                    "metadata": {},
                    "data": {
                        "text/plain": "array([2.64241118e-001, 1.00477664e-008, 3.94147589e-161, 0.00000000e+000])"
                    },
                    "execution_count": null
                }
            ]
        }
    ]
}