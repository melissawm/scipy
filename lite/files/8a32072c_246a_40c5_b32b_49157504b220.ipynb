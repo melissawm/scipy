{
    "nbformat": 4,
    "nbformat_minor": 5,
    "metadata": {
        "kernelspec": {
            "display_name": "Python",
            "language": "python",
            "name": "python"
        },
        "language_info": {
            "name": "python"
        }
    },
    "cells": [
        {
            "id": "14cc5ff1",
            "cell_type": "markdown",
            "source": "<div class='alert alert-warning'>\n\nSciPy's interactive examples with Jupyterlite are experimental and may not always work as expected. Execution of cells containing imports may result in large downloads (up to 60MB of content for the first import from SciPy). Load times when importing from SciPy may take roughly 10-20 seconds. If you notice any problems, feel free to open an [issue](https://github.com/scipy/scipy/issues/new/choose).\n\n</div>",
            "metadata": {}
        },
        {
            "id": "ade59257",
            "cell_type": "code",
            "metadata": {},
            "execution_count": null,
            "source": "import numpy as np\nimport matplotlib.pyplot as plt\nfrom scipy import stats\nrng = np.random.default_rng()\na = np.array([2, 4, 1, 2, 3, 2])\nres = stats.relfreq(a, numbins=4)\nres.frequency",
            "outputs": [
                {
                    "output_type": "execute_result",
                    "metadata": {},
                    "data": {
                        "text/plain": "array([ 0.16666667, 0.5       , 0.16666667,  0.16666667])"
                    },
                    "execution_count": null
                }
            ]
        },
        {
            "id": "b70e3880",
            "cell_type": "code",
            "metadata": {},
            "execution_count": null,
            "source": "np.sum(res.frequency)  # relative frequencies should add up to 1",
            "outputs": [
                {
                    "output_type": "execute_result",
                    "metadata": {},
                    "data": {
                        "text/plain": "1.0"
                    },
                    "execution_count": null
                }
            ]
        },
        {
            "id": "ea5d0904",
            "cell_type": "markdown",
            "source": "Create a normal distribution with 1000 random values\n",
            "metadata": {}
        },
        {
            "id": "7169183a",
            "cell_type": "code",
            "metadata": {},
            "execution_count": null,
            "source": "samples = stats.norm.rvs(size=1000, random_state=rng)",
            "outputs": []
        },
        {
            "id": "3ed8b315",
            "cell_type": "markdown",
            "source": "Calculate relative frequencies\n",
            "metadata": {}
        },
        {
            "id": "d01209a3",
            "cell_type": "code",
            "metadata": {},
            "execution_count": null,
            "source": "res = stats.relfreq(samples, numbins=25)",
            "outputs": []
        },
        {
            "id": "d9673de6",
            "cell_type": "markdown",
            "source": "Calculate space of values for x\n",
            "metadata": {}
        },
        {
            "id": "1db2e2fa",
            "cell_type": "code",
            "metadata": {},
            "execution_count": null,
            "source": "x = res.lowerlimit + np.linspace(0, res.binsize*res.frequency.size,\n                                 res.frequency.size)",
            "outputs": []
        },
        {
            "id": "542626fc",
            "cell_type": "markdown",
            "source": "Plot relative frequency histogram\n",
            "metadata": {}
        },
        {
            "id": "3fbca1de",
            "cell_type": "code",
            "metadata": {},
            "execution_count": null,
            "source": "fig = plt.figure(figsize=(5, 4))\nax = fig.add_subplot(1, 1, 1)\nax.bar(x, res.frequency, width=res.binsize)\nax.set_title('Relative frequency histogram')\nax.set_xlim([x.min(), x.max()])",
            "outputs": []
        },
        {
            "id": "5c342b2d",
            "cell_type": "code",
            "metadata": {},
            "execution_count": null,
            "source": "plt.show()",
            "outputs": []
        }
    ]
}