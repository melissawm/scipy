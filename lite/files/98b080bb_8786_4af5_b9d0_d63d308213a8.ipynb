{
    "nbformat": 4,
    "nbformat_minor": 5,
    "metadata": {
        "kernelspec": {
            "display_name": "Python",
            "language": "python",
            "name": "python"
        },
        "language_info": {
            "name": "python"
        }
    },
    "cells": [
        {
            "id": "6b5b4399",
            "cell_type": "markdown",
            "source": "<div class='alert alert-warning'>\n\nSciPy's interactive examples with Jupyterlite are experimental and may not always work as expected. Execution of cells containing imports may result in large downloads (up to 60MB of content for the first import from SciPy). Load times when importing from SciPy may take roughly 10-20 seconds. If you notice any problems, feel free to open an [issue](https://github.com/scipy/scipy/issues/new/choose).\n\n</div>",
            "metadata": {}
        },
        {
            "id": "aa118fbd",
            "cell_type": "markdown",
            "source": "Construct a matrix `A` from singular values and vectors.\n",
            "metadata": {}
        },
        {
            "id": "64ec7b5d",
            "cell_type": "code",
            "metadata": {},
            "execution_count": null,
            "source": "import numpy as np\nfrom scipy import sparse, linalg, stats\nfrom scipy.sparse.linalg import svds, aslinearoperator, LinearOperator",
            "outputs": []
        },
        {
            "id": "2aee56af",
            "cell_type": "markdown",
            "source": "Construct a dense matrix `A` from singular values and vectors.\n",
            "metadata": {}
        },
        {
            "id": "33f083d3",
            "cell_type": "code",
            "metadata": {},
            "execution_count": null,
            "source": "rng = np.random.default_rng()\northogonal = stats.ortho_group.rvs(10, random_state=rng)\ns = [1e-3, 1, 2, 3, 4]  # non-zero singular values\nu = orthogonal[:, :5]         # left singular vectors\nvT = orthogonal[:, 5:].T      # right singular vectors\nA = u @ np.diag(s) @ vT",
            "outputs": []
        },
        {
            "id": "f188ae1c",
            "cell_type": "markdown",
            "source": "With only four singular values/vectors, the SVD approximates the original\nmatrix.\n",
            "metadata": {}
        },
        {
            "id": "dba67daa",
            "cell_type": "code",
            "metadata": {},
            "execution_count": null,
            "source": "u4, s4, vT4 = svds(A, k=4)\nA4 = u4 @ np.diag(s4) @ vT4\nnp.allclose(A4, A, atol=1e-3)",
            "outputs": [
                {
                    "output_type": "execute_result",
                    "metadata": {},
                    "data": {
                        "text/plain": "True"
                    },
                    "execution_count": null
                }
            ]
        },
        {
            "id": "043b365b",
            "cell_type": "markdown",
            "source": "With all five non-zero singular values/vectors, we can reproduce\nthe original matrix more accurately.\n",
            "metadata": {}
        },
        {
            "id": "0a552ba4",
            "cell_type": "code",
            "metadata": {},
            "execution_count": null,
            "source": "u5, s5, vT5 = svds(A, k=5)\nA5 = u5 @ np.diag(s5) @ vT5\nnp.allclose(A5, A)",
            "outputs": [
                {
                    "output_type": "execute_result",
                    "metadata": {},
                    "data": {
                        "text/plain": "True"
                    },
                    "execution_count": null
                }
            ]
        },
        {
            "id": "ba0bdc62",
            "cell_type": "markdown",
            "source": "The singular values match the expected singular values.\n",
            "metadata": {}
        },
        {
            "id": "f96082e3",
            "cell_type": "code",
            "metadata": {},
            "execution_count": null,
            "source": "np.allclose(s5, s)",
            "outputs": [
                {
                    "output_type": "execute_result",
                    "metadata": {},
                    "data": {
                        "text/plain": "True"
                    },
                    "execution_count": null
                }
            ]
        },
        {
            "id": "010a812f",
            "cell_type": "markdown",
            "source": "Since the singular values are not close to each other in this example,\nevery singular vector matches as expected up to a difference in sign.\n",
            "metadata": {}
        },
        {
            "id": "27be9bf9",
            "cell_type": "code",
            "metadata": {},
            "execution_count": null,
            "source": "(np.allclose(np.abs(u5), np.abs(u)) and\n np.allclose(np.abs(vT5), np.abs(vT)))",
            "outputs": [
                {
                    "output_type": "execute_result",
                    "metadata": {},
                    "data": {
                        "text/plain": "True"
                    },
                    "execution_count": null
                }
            ]
        },
        {
            "id": "693f984d",
            "cell_type": "markdown",
            "source": "The singular vectors are also orthogonal.\n",
            "metadata": {}
        },
        {
            "id": "b2664bb9",
            "cell_type": "code",
            "metadata": {},
            "execution_count": null,
            "source": "(np.allclose(u5.T @ u5, np.eye(5)) and\n np.allclose(vT5 @ vT5.T, np.eye(5)))",
            "outputs": [
                {
                    "output_type": "execute_result",
                    "metadata": {},
                    "data": {
                        "text/plain": "True"
                    },
                    "execution_count": null
                }
            ]
        },
        {
            "id": "dc16d18b",
            "cell_type": "markdown",
            "source": "If there are (nearly) multiple singular values, the corresponding\nindividual singular vectors may be unstable, but the whole invariant\nsubspace containing all such singular vectors is computed accurately\nas can be measured by angles between subspaces via 'subspace_angles'.\n",
            "metadata": {}
        },
        {
            "id": "b7f1aa1e",
            "cell_type": "code",
            "metadata": {},
            "execution_count": null,
            "source": "rng = np.random.default_rng()\ns = [1, 1 + 1e-6]  # non-zero singular values\nu, _ = np.linalg.qr(rng.standard_normal((99, 2)))\nv, _ = np.linalg.qr(rng.standard_normal((99, 2)))\nvT = v.T\nA = u @ np.diag(s) @ vT\nA = A.astype(np.float32)\nu2, s2, vT2 = svds(A, k=2, random_state=rng)\nnp.allclose(s2, s)",
            "outputs": [
                {
                    "output_type": "execute_result",
                    "metadata": {},
                    "data": {
                        "text/plain": "True"
                    },
                    "execution_count": null
                }
            ]
        },
        {
            "id": "d5c33fb9",
            "cell_type": "markdown",
            "source": "The angles between the individual exact and computed singular vectors\nmay not be so small. To check use:\n",
            "metadata": {}
        },
        {
            "id": "7ee3d53d",
            "cell_type": "code",
            "metadata": {},
            "execution_count": null,
            "source": "(linalg.subspace_angles(u2[:, :1], u[:, :1]) +\n linalg.subspace_angles(u2[:, 1:], u[:, 1:]))",
            "outputs": [
                {
                    "output_type": "execute_result",
                    "metadata": {},
                    "data": {
                        "text/plain": "array([0.06562513])  # may vary"
                    },
                    "execution_count": null
                }
            ]
        },
        {
            "id": "3d5cd1bf",
            "cell_type": "code",
            "metadata": {},
            "execution_count": null,
            "source": "(linalg.subspace_angles(vT2[:1, :].T, vT[:1, :].T) +\n linalg.subspace_angles(vT2[1:, :].T, vT[1:, :].T))",
            "outputs": [
                {
                    "output_type": "execute_result",
                    "metadata": {},
                    "data": {
                        "text/plain": "array([0.06562507])  # may vary"
                    },
                    "execution_count": null
                }
            ]
        },
        {
            "id": "a66dc8d7",
            "cell_type": "markdown",
            "source": "As opposed to the angles between the 2-dimensional invariant subspaces\nthat these vectors span, which are small for rights singular vectors\n",
            "metadata": {}
        },
        {
            "id": "9266b895",
            "cell_type": "code",
            "metadata": {},
            "execution_count": null,
            "source": "linalg.subspace_angles(u2, u).sum() < 1e-6",
            "outputs": [
                {
                    "output_type": "execute_result",
                    "metadata": {},
                    "data": {
                        "text/plain": "True"
                    },
                    "execution_count": null
                }
            ]
        },
        {
            "id": "adc35771",
            "cell_type": "markdown",
            "source": "as well as for left singular vectors.\n",
            "metadata": {}
        },
        {
            "id": "7d8ba035",
            "cell_type": "code",
            "metadata": {},
            "execution_count": null,
            "source": "linalg.subspace_angles(vT2.T, vT.T).sum() < 1e-6",
            "outputs": [
                {
                    "output_type": "execute_result",
                    "metadata": {},
                    "data": {
                        "text/plain": "True"
                    },
                    "execution_count": null
                }
            ]
        },
        {
            "id": "8417883c",
            "cell_type": "markdown",
            "source": "The next example follows that of 'sklearn.decomposition.TruncatedSVD'.\n",
            "metadata": {}
        },
        {
            "id": "c2d31e94",
            "cell_type": "code",
            "metadata": {},
            "execution_count": null,
            "source": "rng = np.random.RandomState(0)\nX_dense = rng.random(size=(100, 100))\nX_dense[:, 2 * np.arange(50)] = 0\nX = sparse.csr_matrix(X_dense)\n_, singular_values, _ = svds(X, k=5, random_state=rng)\nprint(singular_values)",
            "outputs": [
                {
                    "output_type": "execute_result",
                    "metadata": {},
                    "data": {
                        "text/plain": "[ 4.3293...  4.4491...  4.5420...  4.5987... 35.2410...]"
                    },
                    "execution_count": null
                }
            ]
        },
        {
            "id": "5f1dd809",
            "cell_type": "markdown",
            "source": "The function can be called without the transpose of the input matrix\never explicitly constructed.\n",
            "metadata": {}
        },
        {
            "id": "ab74d43b",
            "cell_type": "code",
            "metadata": {},
            "execution_count": null,
            "source": "rng = np.random.default_rng()\nG = sparse.rand(8, 9, density=0.5, random_state=rng)\nGlo = aslinearoperator(G)\n_, singular_values_svds, _ = svds(Glo, k=5, random_state=rng)\n_, singular_values_svd, _ = linalg.svd(G.toarray())\nnp.allclose(singular_values_svds, singular_values_svd[-4::-1])",
            "outputs": [
                {
                    "output_type": "execute_result",
                    "metadata": {},
                    "data": {
                        "text/plain": "True"
                    },
                    "execution_count": null
                }
            ]
        },
        {
            "id": "dd601552",
            "cell_type": "markdown",
            "source": "The most memory efficient scenario is where neither\nthe original matrix, nor its transpose, is explicitly constructed.\nOur example computes the smallest singular values and vectors\nof 'LinearOperator' constructed from the numpy function 'np.diff' used\ncolumn-wise to be consistent with 'LinearOperator' operating on columns.\n",
            "metadata": {}
        },
        {
            "id": "9b4111b9",
            "cell_type": "code",
            "metadata": {},
            "execution_count": null,
            "source": "diff0 = lambda a: np.diff(a, axis=0)",
            "outputs": []
        },
        {
            "id": "52db487c",
            "cell_type": "markdown",
            "source": "Let us create the matrix from 'diff0' to be used for validation only.\n",
            "metadata": {}
        },
        {
            "id": "45d2c8b7",
            "cell_type": "code",
            "metadata": {},
            "execution_count": null,
            "source": "n = 5  # The dimension of the space.\nM_from_diff0 = diff0(np.eye(n))\nprint(M_from_diff0.astype(int))",
            "outputs": [
                {
                    "output_type": "execute_result",
                    "metadata": {},
                    "data": {
                        "text/plain": "[[-1  1  0  0  0]\n [ 0 -1  1  0  0]\n [ 0  0 -1  1  0]\n [ 0  0  0 -1  1]]"
                    },
                    "execution_count": null
                }
            ]
        },
        {
            "id": "e6edc25e",
            "cell_type": "markdown",
            "source": "The matrix 'M_from_diff0' is bi-diagonal and could be alternatively\ncreated directly by\n",
            "metadata": {}
        },
        {
            "id": "1ea0d15f",
            "cell_type": "code",
            "metadata": {},
            "execution_count": null,
            "source": "M = - np.eye(n - 1, n, dtype=int)\nnp.fill_diagonal(M[:,1:], 1)\nnp.allclose(M, M_from_diff0)",
            "outputs": [
                {
                    "output_type": "execute_result",
                    "metadata": {},
                    "data": {
                        "text/plain": "True"
                    },
                    "execution_count": null
                }
            ]
        },
        {
            "id": "8606ef48",
            "cell_type": "markdown",
            "source": "Its transpose\n",
            "metadata": {}
        },
        {
            "id": "94f7ae71",
            "cell_type": "code",
            "metadata": {},
            "execution_count": null,
            "source": "print(M.T)",
            "outputs": [
                {
                    "output_type": "execute_result",
                    "metadata": {},
                    "data": {
                        "text/plain": "[[-1  0  0  0]\n [ 1 -1  0  0]\n [ 0  1 -1  0]\n [ 0  0  1 -1]\n [ 0  0  0  1]]"
                    },
                    "execution_count": null
                }
            ]
        },
        {
            "id": "7aae5731",
            "cell_type": "markdown",
            "source": "can be viewed as the incidence matrix; see\nIncidence matrix, (2022, Nov. 19), Wikipedia, https://w.wiki/5YXU,\nof a linear graph with 5 vertices and 4 edges. The 5x5 normal matrix\n``M.T @ M`` thus is\n",
            "metadata": {}
        },
        {
            "id": "04fc7c8b",
            "cell_type": "code",
            "metadata": {},
            "execution_count": null,
            "source": "print(M.T @ M)",
            "outputs": [
                {
                    "output_type": "execute_result",
                    "metadata": {},
                    "data": {
                        "text/plain": "[[ 1 -1  0  0  0]\n [-1  2 -1  0  0]\n [ 0 -1  2 -1  0]\n [ 0  0 -1  2 -1]\n [ 0  0  0 -1  1]]"
                    },
                    "execution_count": null
                }
            ]
        },
        {
            "id": "89054ca7",
            "cell_type": "markdown",
            "source": "the graph Laplacian, while the actually used in 'svds' smaller size\n4x4 normal matrix ``M @ M.T``\n",
            "metadata": {}
        },
        {
            "id": "b638e17d",
            "cell_type": "code",
            "metadata": {},
            "execution_count": null,
            "source": "print(M @ M.T)",
            "outputs": [
                {
                    "output_type": "execute_result",
                    "metadata": {},
                    "data": {
                        "text/plain": "[[ 2 -1  0  0]\n [-1  2 -1  0]\n [ 0 -1  2 -1]\n [ 0  0 -1  2]]"
                    },
                    "execution_count": null
                }
            ]
        },
        {
            "id": "08f231ad",
            "cell_type": "markdown",
            "source": "is the so-called edge-based Laplacian; see\nSymmetric Laplacian via the incidence matrix, in Laplacian matrix,\n(2022, Nov. 19), Wikipedia, https://w.wiki/5YXW.\n\nThe 'LinearOperator' setup needs the options 'rmatvec' and 'rmatmat'\nof multiplication by the matrix transpose ``M.T``, but we want to be\nmatrix-free to save memory, so knowing how ``M.T`` looks like, we\nmanually construct the following function to be\nused in ``rmatmat=diff0t``.\n",
            "metadata": {}
        },
        {
            "id": "2236d707",
            "cell_type": "code",
            "metadata": {},
            "execution_count": null,
            "source": "def diff0t(a):\n    if a.ndim == 1:\n        a = a[:,np.newaxis]  # Turn 1D into 2D array\n    d = np.zeros((a.shape[0] + 1, a.shape[1]), dtype=a.dtype)\n    d[0, :] = - a[0, :]\n    d[1:-1, :] = a[0:-1, :] - a[1:, :]\n    d[-1, :] = a[-1, :]\n    return d",
            "outputs": []
        },
        {
            "id": "0e33a144",
            "cell_type": "markdown",
            "source": "We check that our function 'diff0t' for the matrix transpose is valid.\n",
            "metadata": {}
        },
        {
            "id": "1f087d4a",
            "cell_type": "code",
            "metadata": {},
            "execution_count": null,
            "source": "np.allclose(M.T, diff0t(np.eye(n-1)))",
            "outputs": [
                {
                    "output_type": "execute_result",
                    "metadata": {},
                    "data": {
                        "text/plain": "True"
                    },
                    "execution_count": null
                }
            ]
        },
        {
            "id": "c33bead9",
            "cell_type": "markdown",
            "source": "Now we setup our matrix-free 'LinearOperator' called 'diff0_func_aslo'\nand for validation the matrix-based 'diff0_matrix_aslo'.\n",
            "metadata": {}
        },
        {
            "id": "07abeff1",
            "cell_type": "code",
            "metadata": {},
            "execution_count": null,
            "source": "def diff0_func_aslo_def(n):\n    return LinearOperator(matvec=diff0,\n                          matmat=diff0,\n                          rmatvec=diff0t,\n                          rmatmat=diff0t,\n                          shape=(n - 1, n))\ndiff0_func_aslo = diff0_func_aslo_def(n)\ndiff0_matrix_aslo = aslinearoperator(M_from_diff0)",
            "outputs": []
        },
        {
            "id": "d063a3c9",
            "cell_type": "markdown",
            "source": "And validate both the matrix and its transpose in 'LinearOperator'.\n",
            "metadata": {}
        },
        {
            "id": "347ac67d",
            "cell_type": "code",
            "metadata": {},
            "execution_count": null,
            "source": "np.allclose(diff0_func_aslo(np.eye(n)),\n            diff0_matrix_aslo(np.eye(n)))",
            "outputs": [
                {
                    "output_type": "execute_result",
                    "metadata": {},
                    "data": {
                        "text/plain": "True"
                    },
                    "execution_count": null
                }
            ]
        },
        {
            "id": "ec6eb133",
            "cell_type": "code",
            "metadata": {},
            "execution_count": null,
            "source": "np.allclose(diff0_func_aslo.T(np.eye(n-1)),\n            diff0_matrix_aslo.T(np.eye(n-1)))",
            "outputs": [
                {
                    "output_type": "execute_result",
                    "metadata": {},
                    "data": {
                        "text/plain": "True"
                    },
                    "execution_count": null
                }
            ]
        },
        {
            "id": "06fde29f",
            "cell_type": "markdown",
            "source": "Having the 'LinearOperator' setup validated, we run the solver.\n",
            "metadata": {}
        },
        {
            "id": "dd01dc72",
            "cell_type": "code",
            "metadata": {},
            "execution_count": null,
            "source": "n = 100\ndiff0_func_aslo = diff0_func_aslo_def(n)\nu, s, vT = svds(diff0_func_aslo, k=3, which='SM')",
            "outputs": []
        },
        {
            "id": "da3f38d8",
            "cell_type": "markdown",
            "source": "The singular values squared and the singular vectors are known\nexplicitly; see\nPure Dirichlet boundary conditions, in\nEigenvalues and eigenvectors of the second derivative,\n(2022, Nov. 19), Wikipedia, https://w.wiki/5YX6,\nsince 'diff' corresponds to first\nderivative, and its smaller size n-1 x n-1 normal matrix\n``M @ M.T`` represent the discrete second derivative with the Dirichlet\nboundary conditions. We use these analytic expressions for validation.\n",
            "metadata": {}
        },
        {
            "id": "fa0bf039",
            "cell_type": "code",
            "metadata": {},
            "execution_count": null,
            "source": "se = 2. * np.sin(np.pi * np.arange(1, 4) / (2. * n))\nue = np.sqrt(2 / n) * np.sin(np.pi * np.outer(np.arange(1, n),\n                             np.arange(1, 4)) / n)\nnp.allclose(s, se, atol=1e-3)",
            "outputs": [
                {
                    "output_type": "execute_result",
                    "metadata": {},
                    "data": {
                        "text/plain": "True"
                    },
                    "execution_count": null
                }
            ]
        },
        {
            "id": "a32499bd",
            "cell_type": "code",
            "metadata": {},
            "execution_count": null,
            "source": "print(np.allclose(np.abs(u), np.abs(ue), atol=1e-6))",
            "outputs": [
                {
                    "output_type": "execute_result",
                    "metadata": {},
                    "data": {
                        "text/plain": "True"
                    },
                    "execution_count": null
                }
            ]
        }
    ]
}