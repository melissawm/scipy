{
    "nbformat": 4,
    "nbformat_minor": 5,
    "metadata": {
        "kernelspec": {
            "display_name": "Python",
            "language": "python",
            "name": "python"
        },
        "language_info": {
            "name": "python"
        }
    },
    "cells": [
        {
            "id": "db68b9b8",
            "cell_type": "markdown",
            "source": "<div class='alert alert-warning'>\n\nSciPy's interactive examples with Jupyterlite are experimental and may not always work as expected. Execution of cells containing imports may result in large downloads (up to 60MB of content for the first import from SciPy). Load times when importing from SciPy may take roughly 10-20 seconds. If you notice any problems, feel free to open an [issue](https://github.com/scipy/scipy/issues/new/choose).\n\n</div>",
            "metadata": {}
        },
        {
            "id": "e5f07231",
            "cell_type": "markdown",
            "source": "An impulse at the 0th element ($\\delta[n]$):\n",
            "metadata": {}
        },
        {
            "id": "8987b668",
            "cell_type": "code",
            "metadata": {},
            "execution_count": null,
            "source": "from scipy import signal\nsignal.unit_impulse(8)",
            "outputs": [
                {
                    "output_type": "execute_result",
                    "metadata": {},
                    "data": {
                        "text/plain": "array([ 1.,  0.,  0.,  0.,  0.,  0.,  0.,  0.])"
                    },
                    "execution_count": null
                }
            ]
        },
        {
            "id": "53b2e111",
            "cell_type": "markdown",
            "source": "Impulse offset by 2 samples ($\\delta[n-2]$):\n",
            "metadata": {}
        },
        {
            "id": "6ffa50bf",
            "cell_type": "code",
            "metadata": {},
            "execution_count": null,
            "source": "signal.unit_impulse(7, 2)",
            "outputs": [
                {
                    "output_type": "execute_result",
                    "metadata": {},
                    "data": {
                        "text/plain": "array([ 0.,  0.,  1.,  0.,  0.,  0.,  0.])"
                    },
                    "execution_count": null
                }
            ]
        },
        {
            "id": "bdaad4e1",
            "cell_type": "markdown",
            "source": "2-dimensional impulse, centered:\n",
            "metadata": {}
        },
        {
            "id": "c86da64c",
            "cell_type": "code",
            "metadata": {},
            "execution_count": null,
            "source": "signal.unit_impulse((3, 3), 'mid')",
            "outputs": [
                {
                    "output_type": "execute_result",
                    "metadata": {},
                    "data": {
                        "text/plain": "array([[ 0.,  0.,  0.],\n       [ 0.,  1.,  0.],\n       [ 0.,  0.,  0.]])"
                    },
                    "execution_count": null
                }
            ]
        },
        {
            "id": "4989f4a4",
            "cell_type": "markdown",
            "source": "Impulse at (2, 2), using broadcasting:\n",
            "metadata": {}
        },
        {
            "id": "b5812d63",
            "cell_type": "code",
            "metadata": {},
            "execution_count": null,
            "source": "signal.unit_impulse((4, 4), 2)",
            "outputs": [
                {
                    "output_type": "execute_result",
                    "metadata": {},
                    "data": {
                        "text/plain": "array([[ 0.,  0.,  0.,  0.],\n       [ 0.,  0.,  0.,  0.],\n       [ 0.,  0.,  1.,  0.],\n       [ 0.,  0.,  0.,  0.]])"
                    },
                    "execution_count": null
                }
            ]
        },
        {
            "id": "c35a856d",
            "cell_type": "markdown",
            "source": "Plot the impulse response of a 4th-order Butterworth lowpass filter:\n",
            "metadata": {}
        },
        {
            "id": "aac3197d",
            "cell_type": "code",
            "metadata": {},
            "execution_count": null,
            "source": "imp = signal.unit_impulse(100, 'mid')\nb, a = signal.butter(4, 0.2)\nresponse = signal.lfilter(b, a, imp)",
            "outputs": []
        },
        {
            "id": "c55bc5b9",
            "cell_type": "code",
            "metadata": {},
            "execution_count": null,
            "source": "import numpy as np\nimport matplotlib.pyplot as plt\nplt.plot(np.arange(-50, 50), imp)\nplt.plot(np.arange(-50, 50), response)\nplt.margins(0.1, 0.1)\nplt.xlabel('Time [samples]')\nplt.ylabel('Amplitude')\nplt.grid(True)\nplt.show()",
            "outputs": []
        }
    ]
}