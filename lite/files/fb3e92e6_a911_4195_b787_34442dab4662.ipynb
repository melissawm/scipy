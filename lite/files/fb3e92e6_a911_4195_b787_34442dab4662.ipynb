{
    "nbformat": 4,
    "nbformat_minor": 5,
    "metadata": {
        "kernelspec": {
            "display_name": "Python",
            "language": "python",
            "name": "python"
        },
        "language_info": {
            "name": "python"
        }
    },
    "cells": [
        {
            "id": "9146f263",
            "cell_type": "markdown",
            "source": "<div class='alert alert-warning'>\n\nSciPy's interactive examples with Jupyterlite are experimental and may not always work as expected. Execution of cells containing imports may result in large downloads (up to 60MB of content for the first import from SciPy). Load times when importing from SciPy may take roughly 10-20 seconds. If you notice any problems, feel free to open an [issue](https://github.com/scipy/scipy/issues/new/choose).\n\n</div>",
            "metadata": {}
        },
        {
            "id": "f9d0b4c1",
            "cell_type": "code",
            "metadata": {},
            "execution_count": null,
            "source": "import numpy as np\nfrom scipy.stats import fisk\nimport matplotlib.pyplot as plt\nfig, ax = plt.subplots(1, 1)",
            "outputs": []
        },
        {
            "id": "e5242f65",
            "cell_type": "markdown",
            "source": "Calculate the first four moments:\n",
            "metadata": {}
        },
        {
            "id": "54d2d2d8",
            "cell_type": "code",
            "metadata": {},
            "execution_count": null,
            "source": "c = 3.09\nmean, var, skew, kurt = fisk.stats(c, moments='mvsk')",
            "outputs": []
        },
        {
            "id": "ab659312",
            "cell_type": "markdown",
            "source": "Display the probability density function (``pdf``):\n",
            "metadata": {}
        },
        {
            "id": "a48951db",
            "cell_type": "code",
            "metadata": {},
            "execution_count": null,
            "source": "x = np.linspace(fisk.ppf(0.01, c),\n                fisk.ppf(0.99, c), 100)\nax.plot(x, fisk.pdf(x, c),\n       'r-', lw=5, alpha=0.6, label='fisk pdf')",
            "outputs": []
        },
        {
            "id": "b64ed618",
            "cell_type": "markdown",
            "source": "Alternatively, the distribution object can be called (as a function)\nto fix the shape, location and scale parameters. This returns a \"frozen\"\nRV object holding the given parameters fixed.\n\nFreeze the distribution and display the frozen ``pdf``:\n",
            "metadata": {}
        },
        {
            "id": "f2e3f828",
            "cell_type": "code",
            "metadata": {},
            "execution_count": null,
            "source": "rv = fisk(c)\nax.plot(x, rv.pdf(x), 'k-', lw=2, label='frozen pdf')",
            "outputs": []
        },
        {
            "id": "257e424d",
            "cell_type": "markdown",
            "source": "Check accuracy of ``cdf`` and ``ppf``:\n",
            "metadata": {}
        },
        {
            "id": "3b51549f",
            "cell_type": "code",
            "metadata": {},
            "execution_count": null,
            "source": "vals = fisk.ppf([0.001, 0.5, 0.999], c)\nnp.allclose([0.001, 0.5, 0.999], fisk.cdf(vals, c))",
            "outputs": [
                {
                    "output_type": "execute_result",
                    "metadata": {},
                    "data": {
                        "text/plain": "True"
                    },
                    "execution_count": null
                }
            ]
        },
        {
            "id": "fff9a3c8",
            "cell_type": "markdown",
            "source": "Generate random numbers:\n",
            "metadata": {}
        },
        {
            "id": "b182623f",
            "cell_type": "code",
            "metadata": {},
            "execution_count": null,
            "source": "r = fisk.rvs(c, size=1000)",
            "outputs": []
        },
        {
            "id": "ff66ba9a",
            "cell_type": "markdown",
            "source": "And compare the histogram:\n",
            "metadata": {}
        },
        {
            "id": "7a72b6d5",
            "cell_type": "code",
            "metadata": {},
            "execution_count": null,
            "source": "ax.hist(r, density=True, bins='auto', histtype='stepfilled', alpha=0.2)\nax.set_xlim([x[0], x[-1]])\nax.legend(loc='best', frameon=False)\nplt.show()",
            "outputs": []
        }
    ]
}