{
    "nbformat": 4,
    "nbformat_minor": 5,
    "metadata": {
        "kernelspec": {
            "display_name": "Python",
            "language": "python",
            "name": "python"
        },
        "language_info": {
            "name": "python"
        }
    },
    "cells": [
        {
            "id": "9b202c15",
            "cell_type": "markdown",
            "source": "<div class='alert alert-warning'>\n\nSciPy's interactive examples with Jupyterlite are experimental and may not always work as expected. Execution of cells containing imports may result in large downloads (up to 60MB of content for the first import from SciPy). Load times when importing from SciPy may take roughly 10-20 seconds. If you notice any problems, feel free to open an [issue](https://github.com/scipy/scipy/issues/new/choose).\n\n</div>",
            "metadata": {}
        },
        {
            "id": "31f1f167",
            "cell_type": "markdown",
            "source": "You can insert knots into a B-spline.\n",
            "metadata": {}
        },
        {
            "id": "ca4df06e",
            "cell_type": "code",
            "metadata": {},
            "execution_count": null,
            "source": "from scipy.interpolate import splrep, insert\nimport numpy as np\nx = np.linspace(0, 10, 5)\ny = np.sin(x)\ntck = splrep(x, y)\ntck[0]",
            "outputs": [
                {
                    "output_type": "execute_result",
                    "metadata": {},
                    "data": {
                        "text/plain": "array([ 0.,  0.,  0.,  0.,  5., 10., 10., 10., 10.])"
                    },
                    "execution_count": null
                }
            ]
        },
        {
            "id": "81648e0f",
            "cell_type": "markdown",
            "source": "A knot is inserted:\n",
            "metadata": {}
        },
        {
            "id": "d782c07d",
            "cell_type": "code",
            "metadata": {},
            "execution_count": null,
            "source": "tck_inserted = insert(3, tck)\ntck_inserted[0]",
            "outputs": [
                {
                    "output_type": "execute_result",
                    "metadata": {},
                    "data": {
                        "text/plain": "array([ 0.,  0.,  0.,  0.,  3.,  5., 10., 10., 10., 10.])"
                    },
                    "execution_count": null
                }
            ]
        },
        {
            "id": "1ed08f8f",
            "cell_type": "markdown",
            "source": "Some knots are inserted:\n",
            "metadata": {}
        },
        {
            "id": "cc1a0b4c",
            "cell_type": "code",
            "metadata": {},
            "execution_count": null,
            "source": "tck_inserted2 = insert(8, tck, m=3)\ntck_inserted2[0]",
            "outputs": [
                {
                    "output_type": "execute_result",
                    "metadata": {},
                    "data": {
                        "text/plain": "array([ 0.,  0.,  0.,  0.,  5.,  8.,  8.,  8., 10., 10., 10., 10.])"
                    },
                    "execution_count": null
                }
            ]
        }
    ]
}