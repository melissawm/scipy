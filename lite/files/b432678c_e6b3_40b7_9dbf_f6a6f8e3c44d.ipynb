{
    "nbformat": 4,
    "nbformat_minor": 5,
    "metadata": {
        "kernelspec": {
            "display_name": "Python",
            "language": "python",
            "name": "python"
        },
        "language_info": {
            "name": "python"
        }
    },
    "cells": [
        {
            "id": "54b5736d",
            "cell_type": "markdown",
            "source": "<div class='alert alert-warning'>\n\nSciPy's interactive examples with Jupyterlite are experimental and may not always work as expected. Execution of cells containing imports may result in large downloads (up to 60MB of content for the first import from SciPy). Load times when importing from SciPy may take roughly 10-20 seconds. If you notice any problems, feel free to open an [issue](https://github.com/scipy/scipy/issues/new/choose).\n\n</div>",
            "metadata": {}
        },
        {
            "id": "8efd6062",
            "cell_type": "markdown",
            "source": "Design a 4th-order digital Butterworth filter with cut-off of 100 Hz in a\nsystem with sample rate of 1000 Hz, and plot the frequency response:\n",
            "metadata": {}
        },
        {
            "id": "d2cda3a0",
            "cell_type": "code",
            "metadata": {},
            "execution_count": null,
            "source": "import numpy as np\nfrom scipy import signal\nz, p, k = signal.butter(4, 100, output='zpk', fs=1000)\nw, h = signal.freqz_zpk(z, p, k, fs=1000)",
            "outputs": []
        },
        {
            "id": "e63ab2d6",
            "cell_type": "code",
            "metadata": {},
            "execution_count": null,
            "source": "import matplotlib.pyplot as plt\nfig = plt.figure()\nax1 = fig.add_subplot(1, 1, 1)\nax1.set_title('Digital filter frequency response')",
            "outputs": []
        },
        {
            "id": "ddecdaab",
            "cell_type": "code",
            "metadata": {},
            "execution_count": null,
            "source": "ax1.plot(w, 20 * np.log10(abs(h)), 'b')\nax1.set_ylabel('Amplitude [dB]', color='b')\nax1.set_xlabel('Frequency [Hz]')\nax1.grid(True)",
            "outputs": []
        },
        {
            "id": "7660ff41",
            "cell_type": "code",
            "metadata": {},
            "execution_count": null,
            "source": "ax2 = ax1.twinx()\nangles = np.unwrap(np.angle(h))\nax2.plot(w, angles, 'g')\nax2.set_ylabel('Angle [radians]', color='g')",
            "outputs": []
        },
        {
            "id": "99ce9267",
            "cell_type": "code",
            "metadata": {},
            "execution_count": null,
            "source": "plt.axis('tight')\nplt.show()",
            "outputs": []
        }
    ]
}