{
    "nbformat": 4,
    "nbformat_minor": 5,
    "metadata": {
        "kernelspec": {
            "display_name": "Python",
            "language": "python",
            "name": "python"
        },
        "language_info": {
            "name": "python"
        }
    },
    "cells": [
        {
            "id": "e02b2d5a",
            "cell_type": "markdown",
            "source": "<div class='alert alert-warning'>\n\nSciPy's interactive examples with Jupyterlite are experimental and may not always work as expected. Execution of cells containing imports may result in large downloads (up to 60MB of content for the first import from SciPy). Load times when importing from SciPy may take roughly 10-20 seconds. If you notice any problems, feel free to open an [issue](https://github.com/scipy/scipy/issues/new/choose).\n\n</div>",
            "metadata": {}
        },
        {
            "id": "f9064b10",
            "cell_type": "code",
            "metadata": {},
            "execution_count": null,
            "source": "import numpy as np\nimport scipy.special as sc",
            "outputs": []
        },
        {
            "id": "263625ac",
            "cell_type": "markdown",
            "source": "It is related to `exp1`.\n",
            "metadata": {}
        },
        {
            "id": "d36220a0",
            "cell_type": "code",
            "metadata": {},
            "execution_count": null,
            "source": "x = np.array([1, 2, 3, 4])\n-sc.expi(-x)",
            "outputs": [
                {
                    "output_type": "execute_result",
                    "metadata": {},
                    "data": {
                        "text/plain": "array([0.21938393, 0.04890051, 0.01304838, 0.00377935])"
                    },
                    "execution_count": null
                }
            ]
        },
        {
            "id": "f2f115d7",
            "cell_type": "code",
            "metadata": {},
            "execution_count": null,
            "source": "sc.exp1(x)",
            "outputs": [
                {
                    "output_type": "execute_result",
                    "metadata": {},
                    "data": {
                        "text/plain": "array([0.21938393, 0.04890051, 0.01304838, 0.00377935])"
                    },
                    "execution_count": null
                }
            ]
        },
        {
            "id": "17c588d4",
            "cell_type": "markdown",
            "source": "The complex variant has a branch cut on the negative real axis.\n",
            "metadata": {}
        },
        {
            "id": "7388c9b6",
            "cell_type": "code",
            "metadata": {},
            "execution_count": null,
            "source": "sc.expi(-1 + 1e-12j)",
            "outputs": [
                {
                    "output_type": "execute_result",
                    "metadata": {},
                    "data": {
                        "text/plain": "(-0.21938393439552062+3.1415926535894254j)"
                    },
                    "execution_count": null
                }
            ]
        },
        {
            "id": "bdef67f1",
            "cell_type": "code",
            "metadata": {},
            "execution_count": null,
            "source": "sc.expi(-1 - 1e-12j)",
            "outputs": [
                {
                    "output_type": "execute_result",
                    "metadata": {},
                    "data": {
                        "text/plain": "(-0.21938393439552062-3.1415926535894254j)"
                    },
                    "execution_count": null
                }
            ]
        },
        {
            "id": "1f48cf3b",
            "cell_type": "markdown",
            "source": "As the complex variant approaches the branch cut, the real parts\napproach the value of the real variant.\n",
            "metadata": {}
        },
        {
            "id": "24726d74",
            "cell_type": "code",
            "metadata": {},
            "execution_count": null,
            "source": "sc.expi(-1)",
            "outputs": [
                {
                    "output_type": "execute_result",
                    "metadata": {},
                    "data": {
                        "text/plain": "-0.21938393439552062"
                    },
                    "execution_count": null
                }
            ]
        },
        {
            "id": "a3d49fc8",
            "cell_type": "markdown",
            "source": "The SciPy implementation returns the real variant for complex\nvalues on the branch cut.\n",
            "metadata": {}
        },
        {
            "id": "7289718b",
            "cell_type": "code",
            "metadata": {},
            "execution_count": null,
            "source": "sc.expi(complex(-1, 0.0))",
            "outputs": [
                {
                    "output_type": "execute_result",
                    "metadata": {},
                    "data": {
                        "text/plain": "(-0.21938393439552062-0j)"
                    },
                    "execution_count": null
                }
            ]
        },
        {
            "id": "371e2ab4",
            "cell_type": "code",
            "metadata": {},
            "execution_count": null,
            "source": "sc.expi(complex(-1, -0.0))",
            "outputs": [
                {
                    "output_type": "execute_result",
                    "metadata": {},
                    "data": {
                        "text/plain": "(-0.21938393439552062-0j)"
                    },
                    "execution_count": null
                }
            ]
        }
    ]
}