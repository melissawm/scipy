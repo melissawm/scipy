{
    "nbformat": 4,
    "nbformat_minor": 5,
    "metadata": {
        "kernelspec": {
            "display_name": "Python",
            "language": "python",
            "name": "python"
        },
        "language_info": {
            "name": "python"
        }
    },
    "cells": [
        {
            "id": "26a6817d",
            "cell_type": "markdown",
            "source": "<div class='alert alert-warning'>\n\nSciPy's interactive examples with Jupyterlite are experimental and may not always work as expected. Execution of cells containing imports may result in large downloads (up to 60MB of content for the first import from SciPy). Load times when importing from SciPy may take roughly 10-20 seconds. If you notice any problems, feel free to open an [issue](https://github.com/scipy/scipy/issues/new/choose).\n\n</div>",
            "metadata": {}
        },
        {
            "id": "53b17ecc",
            "cell_type": "code",
            "metadata": {},
            "execution_count": null,
            "source": "import numpy as np\nfrom scipy.stats import expectile\na = [1, 4, 2, -1]\nexpectile(a, alpha=0.5) == np.mean(a)",
            "outputs": [
                {
                    "output_type": "execute_result",
                    "metadata": {},
                    "data": {
                        "text/plain": "True"
                    },
                    "execution_count": null
                }
            ]
        },
        {
            "id": "970f11fc",
            "cell_type": "code",
            "metadata": {},
            "execution_count": null,
            "source": "expectile(a, alpha=0.2)",
            "outputs": [
                {
                    "output_type": "execute_result",
                    "metadata": {},
                    "data": {
                        "text/plain": "0.42857142857142855"
                    },
                    "execution_count": null
                }
            ]
        },
        {
            "id": "6cf1e301",
            "cell_type": "code",
            "metadata": {},
            "execution_count": null,
            "source": "expectile(a, alpha=0.8)",
            "outputs": [
                {
                    "output_type": "execute_result",
                    "metadata": {},
                    "data": {
                        "text/plain": "2.5714285714285716"
                    },
                    "execution_count": null
                }
            ]
        },
        {
            "id": "a9d18b8f",
            "cell_type": "code",
            "metadata": {},
            "execution_count": null,
            "source": "weights = [1, 3, 1, 1]",
            "outputs": []
        }
    ]
}