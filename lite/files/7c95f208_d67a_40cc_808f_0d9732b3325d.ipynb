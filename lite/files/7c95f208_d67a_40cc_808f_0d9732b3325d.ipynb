{
    "nbformat": 4,
    "nbformat_minor": 5,
    "metadata": {
        "kernelspec": {
            "display_name": "Python",
            "language": "python",
            "name": "python"
        },
        "language_info": {
            "name": "python"
        }
    },
    "cells": [
        {
            "id": "0047a0f0",
            "cell_type": "markdown",
            "source": "<div class='alert alert-warning'>\n\nSciPy's interactive examples with Jupyterlite are experimental and may not always work as expected. Execution of cells containing imports may result in large downloads (up to 60MB of content for the first import from SciPy). Load times when importing from SciPy may take roughly 10-20 seconds. If you notice any problems, feel free to open an [issue](https://github.com/scipy/scipy/issues/new/choose).\n\n</div>",
            "metadata": {}
        },
        {
            "id": "f20bd69a",
            "cell_type": "code",
            "metadata": {},
            "execution_count": null,
            "source": "import scipy.special as sc",
            "outputs": []
        },
        {
            "id": "1187e05d",
            "cell_type": "markdown",
            "source": "It starts at 0 and monotonically increases to infinity.\n",
            "metadata": {}
        },
        {
            "id": "e02581c3",
            "cell_type": "code",
            "metadata": {},
            "execution_count": null,
            "source": "sc.gammaincinv(0.5, [0, 0.1 ,0.5, 1])",
            "outputs": [
                {
                    "output_type": "execute_result",
                    "metadata": {},
                    "data": {
                        "text/plain": "array([0.        , 0.00789539, 0.22746821,        inf])"
                    },
                    "execution_count": null
                }
            ]
        },
        {
            "id": "42330ef1",
            "cell_type": "markdown",
            "source": "It inverts the lower incomplete gamma function.\n",
            "metadata": {}
        },
        {
            "id": "f3dd8888",
            "cell_type": "code",
            "metadata": {},
            "execution_count": null,
            "source": "a, x = 0.5, [0, 0.1, 0.5, 1]\nsc.gammainc(a, sc.gammaincinv(a, x))",
            "outputs": [
                {
                    "output_type": "execute_result",
                    "metadata": {},
                    "data": {
                        "text/plain": "array([0. , 0.1, 0.5, 1. ])"
                    },
                    "execution_count": null
                }
            ]
        },
        {
            "id": "9b4dd0b8",
            "cell_type": "code",
            "metadata": {},
            "execution_count": null,
            "source": "a, x = 0.5, [0, 10, 25]\nsc.gammaincinv(a, sc.gammainc(a, x))",
            "outputs": [
                {
                    "output_type": "execute_result",
                    "metadata": {},
                    "data": {
                        "text/plain": "array([ 0.        , 10.        , 25.00001465])"
                    },
                    "execution_count": null
                }
            ]
        }
    ]
}