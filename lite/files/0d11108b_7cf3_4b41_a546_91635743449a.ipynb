{
    "nbformat": 4,
    "nbformat_minor": 5,
    "metadata": {
        "kernelspec": {
            "display_name": "Python",
            "language": "python",
            "name": "python"
        },
        "language_info": {
            "name": "python"
        }
    },
    "cells": [
        {
            "id": "3079a3ab",
            "cell_type": "markdown",
            "source": "<div class='alert alert-warning'>\n\nSciPy's interactive examples with Jupyterlite are experimental and may not always work as expected. Execution of cells containing imports may result in large downloads (up to 60MB of content for the first import from SciPy). Load times when importing from SciPy may take roughly 10-20 seconds. If you notice any problems, feel free to open an [issue](https://github.com/scipy/scipy/issues/new/choose).\n\n</div>",
            "metadata": {}
        },
        {
            "id": "3c3f01c0",
            "cell_type": "code",
            "metadata": {},
            "execution_count": null,
            "source": "from scipy.cluster.hierarchy import DisjointSet",
            "outputs": []
        },
        {
            "id": "da807d78",
            "cell_type": "markdown",
            "source": "Initialize a disjoint set:\n",
            "metadata": {}
        },
        {
            "id": "bff60da7",
            "cell_type": "code",
            "metadata": {},
            "execution_count": null,
            "source": "disjoint_set = DisjointSet([1, 2, 3, 'a', 'b'])",
            "outputs": []
        },
        {
            "id": "0b6c92f7",
            "cell_type": "markdown",
            "source": "Merge some subsets:\n",
            "metadata": {}
        },
        {
            "id": "881f0b77",
            "cell_type": "code",
            "metadata": {},
            "execution_count": null,
            "source": "disjoint_set.merge(1, 2)",
            "outputs": [
                {
                    "output_type": "execute_result",
                    "metadata": {},
                    "data": {
                        "text/plain": "True"
                    },
                    "execution_count": null
                }
            ]
        },
        {
            "id": "c4fe06bc",
            "cell_type": "code",
            "metadata": {},
            "execution_count": null,
            "source": "disjoint_set.merge(3, 'a')",
            "outputs": [
                {
                    "output_type": "execute_result",
                    "metadata": {},
                    "data": {
                        "text/plain": "True"
                    },
                    "execution_count": null
                }
            ]
        },
        {
            "id": "abed62d6",
            "cell_type": "code",
            "metadata": {},
            "execution_count": null,
            "source": "disjoint_set.merge('a', 'b')",
            "outputs": [
                {
                    "output_type": "execute_result",
                    "metadata": {},
                    "data": {
                        "text/plain": "True"
                    },
                    "execution_count": null
                }
            ]
        },
        {
            "id": "20ef3532",
            "cell_type": "code",
            "metadata": {},
            "execution_count": null,
            "source": "disjoint_set.merge('b', 'b')",
            "outputs": [
                {
                    "output_type": "execute_result",
                    "metadata": {},
                    "data": {
                        "text/plain": "False"
                    },
                    "execution_count": null
                }
            ]
        },
        {
            "id": "429ee3c7",
            "cell_type": "markdown",
            "source": "Find root elements:\n",
            "metadata": {}
        },
        {
            "id": "a59bcfb5",
            "cell_type": "code",
            "metadata": {},
            "execution_count": null,
            "source": "disjoint_set[2]",
            "outputs": [
                {
                    "output_type": "execute_result",
                    "metadata": {},
                    "data": {
                        "text/plain": "1"
                    },
                    "execution_count": null
                }
            ]
        },
        {
            "id": "db0a5d6e",
            "cell_type": "code",
            "metadata": {},
            "execution_count": null,
            "source": "disjoint_set['b']",
            "outputs": [
                {
                    "output_type": "execute_result",
                    "metadata": {},
                    "data": {
                        "text/plain": "3"
                    },
                    "execution_count": null
                }
            ]
        },
        {
            "id": "6b55fb92",
            "cell_type": "markdown",
            "source": "Test connectivity:\n",
            "metadata": {}
        },
        {
            "id": "38d517c5",
            "cell_type": "code",
            "metadata": {},
            "execution_count": null,
            "source": "disjoint_set.connected(1, 2)",
            "outputs": [
                {
                    "output_type": "execute_result",
                    "metadata": {},
                    "data": {
                        "text/plain": "True"
                    },
                    "execution_count": null
                }
            ]
        },
        {
            "id": "b02d95a0",
            "cell_type": "code",
            "metadata": {},
            "execution_count": null,
            "source": "disjoint_set.connected(1, 'b')",
            "outputs": [
                {
                    "output_type": "execute_result",
                    "metadata": {},
                    "data": {
                        "text/plain": "False"
                    },
                    "execution_count": null
                }
            ]
        },
        {
            "id": "83c39d80",
            "cell_type": "markdown",
            "source": "List elements in disjoint set:\n",
            "metadata": {}
        },
        {
            "id": "b46170a7",
            "cell_type": "code",
            "metadata": {},
            "execution_count": null,
            "source": "list(disjoint_set)",
            "outputs": [
                {
                    "output_type": "execute_result",
                    "metadata": {},
                    "data": {
                        "text/plain": "[1, 2, 3, 'a', 'b']"
                    },
                    "execution_count": null
                }
            ]
        },
        {
            "id": "0dd50b29",
            "cell_type": "markdown",
            "source": "Get the subset containing 'a':\n",
            "metadata": {}
        },
        {
            "id": "1c3b8427",
            "cell_type": "code",
            "metadata": {},
            "execution_count": null,
            "source": "disjoint_set.subset('a')",
            "outputs": [
                {
                    "output_type": "execute_result",
                    "metadata": {},
                    "data": {
                        "text/plain": "{'a', 3, 'b'}"
                    },
                    "execution_count": null
                }
            ]
        },
        {
            "id": "95129b2f",
            "cell_type": "markdown",
            "source": "Get the size of the subset containing 'a' (without actually instantiating\nthe subset):\n",
            "metadata": {}
        },
        {
            "id": "67527429",
            "cell_type": "code",
            "metadata": {},
            "execution_count": null,
            "source": "disjoint_set.subset_size('a')",
            "outputs": [
                {
                    "output_type": "execute_result",
                    "metadata": {},
                    "data": {
                        "text/plain": "3"
                    },
                    "execution_count": null
                }
            ]
        },
        {
            "id": "8c8f0cb2",
            "cell_type": "markdown",
            "source": "Get all subsets in the disjoint set:\n",
            "metadata": {}
        },
        {
            "id": "d025b261",
            "cell_type": "code",
            "metadata": {},
            "execution_count": null,
            "source": "disjoint_set.subsets()",
            "outputs": [
                {
                    "output_type": "execute_result",
                    "metadata": {},
                    "data": {
                        "text/plain": "[{1, 2}, {'a', 3, 'b'}]"
                    },
                    "execution_count": null
                }
            ]
        }
    ]
}