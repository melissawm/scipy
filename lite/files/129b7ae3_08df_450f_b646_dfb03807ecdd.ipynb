{
    "nbformat": 4,
    "nbformat_minor": 5,
    "metadata": {
        "kernelspec": {
            "display_name": "Python",
            "language": "python",
            "name": "python"
        },
        "language_info": {
            "name": "python"
        }
    },
    "cells": [
        {
            "id": "19613991",
            "cell_type": "markdown",
            "source": "<div class='alert alert-warning'>\n\nSciPy's interactive examples with Jupyterlite are experimental and may not always work as expected. Execution of cells containing imports may result in large downloads (up to 60MB of content for the first import from SciPy). Load times when importing from SciPy may take roughly 10-20 seconds. If you notice any problems, feel free to open an [issue](https://github.com/scipy/scipy/issues/new/choose).\n\n</div>",
            "metadata": {}
        },
        {
            "id": "42827cb9",
            "cell_type": "code",
            "metadata": {},
            "execution_count": null,
            "source": "import numpy as np\nfrom scipy.special import zetac, zeta",
            "outputs": []
        },
        {
            "id": "a40d30a6",
            "cell_type": "markdown",
            "source": "Some special values:\n",
            "metadata": {}
        },
        {
            "id": "19017847",
            "cell_type": "code",
            "metadata": {},
            "execution_count": null,
            "source": "zetac(2), np.pi**2/6 - 1",
            "outputs": [
                {
                    "output_type": "execute_result",
                    "metadata": {},
                    "data": {
                        "text/plain": "(0.64493406684822641, 0.6449340668482264)"
                    },
                    "execution_count": null
                }
            ]
        },
        {
            "id": "0737e1ba",
            "cell_type": "code",
            "metadata": {},
            "execution_count": null,
            "source": "zetac(-1), -1.0/12 - 1",
            "outputs": [
                {
                    "output_type": "execute_result",
                    "metadata": {},
                    "data": {
                        "text/plain": "(-1.0833333333333333, -1.0833333333333333)"
                    },
                    "execution_count": null
                }
            ]
        },
        {
            "id": "a5fec911",
            "cell_type": "markdown",
            "source": "Compare ``zetac(x)`` to ``zeta(x) - 1`` for large `x`:\n",
            "metadata": {}
        },
        {
            "id": "ef59809c",
            "cell_type": "code",
            "metadata": {},
            "execution_count": null,
            "source": "zetac(60), zeta(60) - 1",
            "outputs": [
                {
                    "output_type": "execute_result",
                    "metadata": {},
                    "data": {
                        "text/plain": "(8.673617380119933e-19, 0.0)"
                    },
                    "execution_count": null
                }
            ]
        }
    ]
}