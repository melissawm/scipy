{
    "nbformat": 4,
    "nbformat_minor": 5,
    "metadata": {
        "kernelspec": {
            "display_name": "Python",
            "language": "python",
            "name": "python"
        },
        "language_info": {
            "name": "python"
        }
    },
    "cells": [
        {
            "id": "875e8100",
            "cell_type": "markdown",
            "source": "<div class='alert alert-warning'>\n\nSciPy's interactive examples with Jupyterlite are experimental and may not always work as expected. Execution of cells containing imports may result in large downloads (up to 60MB of content for the first import from SciPy). Load times when importing from SciPy may take roughly 10-20 seconds. If you notice any problems, feel free to open an [issue](https://github.com/scipy/scipy/issues/new/choose).\n\n</div>",
            "metadata": {}
        },
        {
            "id": "23bd6b13",
            "cell_type": "code",
            "metadata": {},
            "execution_count": null,
            "source": "import numpy as np\nimport matplotlib.pyplot as plt\nrng = np.random.default_rng()",
            "outputs": []
        },
        {
            "id": "bbf2417d",
            "cell_type": "markdown",
            "source": "First define some input parameters for the signal:\n",
            "metadata": {}
        },
        {
            "id": "6267b87c",
            "cell_type": "code",
            "metadata": {},
            "execution_count": null,
            "source": "A = 2.\nw0 = 1.  # rad/sec\nnin = 150\nnout = 100000",
            "outputs": []
        },
        {
            "id": "0d34f62d",
            "cell_type": "markdown",
            "source": "Randomly generate sample times:\n",
            "metadata": {}
        },
        {
            "id": "2e215725",
            "cell_type": "code",
            "metadata": {},
            "execution_count": null,
            "source": "x = rng.uniform(0, 10*np.pi, nin)",
            "outputs": []
        },
        {
            "id": "f40d2870",
            "cell_type": "markdown",
            "source": "Plot a sine wave for the selected times:\n",
            "metadata": {}
        },
        {
            "id": "8263a8e5",
            "cell_type": "code",
            "metadata": {},
            "execution_count": null,
            "source": "y = A * np.cos(w0*x)",
            "outputs": []
        },
        {
            "id": "4e127e3e",
            "cell_type": "markdown",
            "source": "Define the array of frequencies for which to compute the periodogram:\n",
            "metadata": {}
        },
        {
            "id": "7cf86ec0",
            "cell_type": "code",
            "metadata": {},
            "execution_count": null,
            "source": "w = np.linspace(0.01, 10, nout)",
            "outputs": []
        },
        {
            "id": "9c4fe843",
            "cell_type": "markdown",
            "source": "Calculate Lomb-Scargle periodogram:\n",
            "metadata": {}
        },
        {
            "id": "11555741",
            "cell_type": "code",
            "metadata": {},
            "execution_count": null,
            "source": "import scipy.signal as signal\npgram = signal.lombscargle(x, y, w, normalize=True)",
            "outputs": []
        },
        {
            "id": "03c664b5",
            "cell_type": "markdown",
            "source": "Now make a plot of the input data:\n",
            "metadata": {}
        },
        {
            "id": "4f6f2fff",
            "cell_type": "code",
            "metadata": {},
            "execution_count": null,
            "source": "fig, (ax_t, ax_w) = plt.subplots(2, 1, constrained_layout=True)\nax_t.plot(x, y, 'b+')\nax_t.set_xlabel('Time [s]')",
            "outputs": []
        },
        {
            "id": "3cc72e58",
            "cell_type": "markdown",
            "source": "Then plot the normalized periodogram:\n",
            "metadata": {}
        },
        {
            "id": "16396fa3",
            "cell_type": "code",
            "metadata": {},
            "execution_count": null,
            "source": "ax_w.plot(w, pgram)\nax_w.set_xlabel('Angular frequency [rad/s]')\nax_w.set_ylabel('Normalized amplitude')\nplt.show()",
            "outputs": []
        }
    ]
}