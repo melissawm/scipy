{
    "nbformat": 4,
    "nbformat_minor": 5,
    "metadata": {
        "kernelspec": {
            "display_name": "Python",
            "language": "python",
            "name": "python"
        },
        "language_info": {
            "name": "python"
        }
    },
    "cells": [
        {
            "id": "33626c66",
            "cell_type": "markdown",
            "source": "<div class='alert alert-warning'>\n\nSciPy's interactive examples with Jupyterlite are experimental and may not always work as expected. Execution of cells containing imports may result in large downloads (up to 60MB of content for the first import from SciPy). Load times when importing from SciPy may take roughly 10-20 seconds. If you notice any problems, feel free to open an [issue](https://github.com/scipy/scipy/issues/new/choose).\n\n</div>",
            "metadata": {}
        },
        {
            "id": "5c8fe5b5",
            "cell_type": "code",
            "metadata": {},
            "execution_count": null,
            "source": "import numpy as np\nfrom scipy.stats import powerlognorm\nimport matplotlib.pyplot as plt\nfig, ax = plt.subplots(1, 1)",
            "outputs": []
        },
        {
            "id": "2dd106a8",
            "cell_type": "markdown",
            "source": "Calculate the first four moments:\n",
            "metadata": {}
        },
        {
            "id": "c2d48896",
            "cell_type": "code",
            "metadata": {},
            "execution_count": null,
            "source": "c, s = 2.14, 0.446\nmean, var, skew, kurt = powerlognorm.stats(c, s, moments='mvsk')",
            "outputs": []
        },
        {
            "id": "43a2b914",
            "cell_type": "markdown",
            "source": "Display the probability density function (``pdf``):\n",
            "metadata": {}
        },
        {
            "id": "7a3b0c0b",
            "cell_type": "code",
            "metadata": {},
            "execution_count": null,
            "source": "x = np.linspace(powerlognorm.ppf(0.01, c, s),\n                powerlognorm.ppf(0.99, c, s), 100)\nax.plot(x, powerlognorm.pdf(x, c, s),\n       'r-', lw=5, alpha=0.6, label='powerlognorm pdf')",
            "outputs": []
        },
        {
            "id": "806400f5",
            "cell_type": "markdown",
            "source": "Alternatively, the distribution object can be called (as a function)\nto fix the shape, location and scale parameters. This returns a \"frozen\"\nRV object holding the given parameters fixed.\n\nFreeze the distribution and display the frozen ``pdf``:\n",
            "metadata": {}
        },
        {
            "id": "7dfcbbfe",
            "cell_type": "code",
            "metadata": {},
            "execution_count": null,
            "source": "rv = powerlognorm(c, s)\nax.plot(x, rv.pdf(x), 'k-', lw=2, label='frozen pdf')",
            "outputs": []
        },
        {
            "id": "79bae0f2",
            "cell_type": "markdown",
            "source": "Check accuracy of ``cdf`` and ``ppf``:\n",
            "metadata": {}
        },
        {
            "id": "4991b83d",
            "cell_type": "code",
            "metadata": {},
            "execution_count": null,
            "source": "vals = powerlognorm.ppf([0.001, 0.5, 0.999], c, s)\nnp.allclose([0.001, 0.5, 0.999], powerlognorm.cdf(vals, c, s))",
            "outputs": [
                {
                    "output_type": "execute_result",
                    "metadata": {},
                    "data": {
                        "text/plain": "True"
                    },
                    "execution_count": null
                }
            ]
        },
        {
            "id": "6f285e31",
            "cell_type": "markdown",
            "source": "Generate random numbers:\n",
            "metadata": {}
        },
        {
            "id": "cce00859",
            "cell_type": "code",
            "metadata": {},
            "execution_count": null,
            "source": "r = powerlognorm.rvs(c, s, size=1000)",
            "outputs": []
        },
        {
            "id": "3ce278ef",
            "cell_type": "markdown",
            "source": "And compare the histogram:\n",
            "metadata": {}
        },
        {
            "id": "cf06fe0d",
            "cell_type": "code",
            "metadata": {},
            "execution_count": null,
            "source": "ax.hist(r, density=True, bins='auto', histtype='stepfilled', alpha=0.2)\nax.set_xlim([x[0], x[-1]])\nax.legend(loc='best', frameon=False)\nplt.show()",
            "outputs": []
        }
    ]
}