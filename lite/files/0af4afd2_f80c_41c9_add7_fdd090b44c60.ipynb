{
    "nbformat": 4,
    "nbformat_minor": 5,
    "metadata": {
        "kernelspec": {
            "display_name": "Python",
            "language": "python",
            "name": "python"
        },
        "language_info": {
            "name": "python"
        }
    },
    "cells": [
        {
            "id": "82b2f803",
            "cell_type": "markdown",
            "source": "<div class='alert alert-warning'>\n\nSciPy's interactive examples with Jupyterlite are experimental and may not always work as expected. Execution of cells containing imports may result in large downloads (up to 60MB of content for the first import from SciPy). Load times when importing from SciPy may take roughly 10-20 seconds. If you notice any problems, feel free to open an [issue](https://github.com/scipy/scipy/issues/new/choose).\n\n</div>",
            "metadata": {}
        },
        {
            "id": "c7adad46",
            "cell_type": "code",
            "metadata": {},
            "execution_count": null,
            "source": "import numpy as np\nfrom scipy.sparse.linalg import LaplacianNd\nfrom scipy.sparse import diags, csgraph\nfrom scipy.linalg import eigvalsh",
            "outputs": []
        },
        {
            "id": "08b75916",
            "cell_type": "markdown",
            "source": "The one-dimensional Laplacian demonstrated below for pure Neumann boundary\nconditions on a regular grid with ``n=6`` grid points is exactly the\nnegative graph Laplacian for the undirected linear graph with ``n``\nvertices using the sparse adjacency matrix ``G`` represented by the\nfamous tri-diagonal matrix:\n",
            "metadata": {}
        },
        {
            "id": "68d2f1a3",
            "cell_type": "code",
            "metadata": {},
            "execution_count": null,
            "source": "n = 6\nG = diags(np.ones(n - 1), 1, format='csr')\nLf = csgraph.laplacian(G, symmetrized=True, form='function')\ngrid_shape = (n, )\nlap = LaplacianNd(grid_shape, boundary_conditions='neumann')\nnp.array_equal(lap.matmat(np.eye(n)), -Lf(np.eye(n)))",
            "outputs": [
                {
                    "output_type": "execute_result",
                    "metadata": {},
                    "data": {
                        "text/plain": "True"
                    },
                    "execution_count": null
                }
            ]
        },
        {
            "id": "49b4d388",
            "cell_type": "markdown",
            "source": "Since all matrix entries of the Laplacian are integers, ``'int8'`` is\nthe default dtype for storing matrix representations.\n",
            "metadata": {}
        },
        {
            "id": "5b5a7b79",
            "cell_type": "code",
            "metadata": {},
            "execution_count": null,
            "source": "lap.tosparse()",
            "outputs": [
                {
                    "output_type": "execute_result",
                    "metadata": {},
                    "data": {
                        "text/plain": "<DIAgonal sparse array of dtype 'int8'\n    with 16 stored elements (3 diagonals) and shape (6, 6)>"
                    },
                    "execution_count": null
                }
            ]
        },
        {
            "id": "dc2c7b9d",
            "cell_type": "code",
            "metadata": {},
            "execution_count": null,
            "source": "lap.toarray()",
            "outputs": [
                {
                    "output_type": "execute_result",
                    "metadata": {},
                    "data": {
                        "text/plain": "array([[-1,  1,  0,  0,  0,  0],\n       [ 1, -2,  1,  0,  0,  0],\n       [ 0,  1, -2,  1,  0,  0],\n       [ 0,  0,  1, -2,  1,  0],\n       [ 0,  0,  0,  1, -2,  1],\n       [ 0,  0,  0,  0,  1, -1]], dtype=int8)"
                    },
                    "execution_count": null
                }
            ]
        },
        {
            "id": "8aec5570",
            "cell_type": "code",
            "metadata": {},
            "execution_count": null,
            "source": "np.array_equal(lap.matmat(np.eye(n)), lap.toarray())",
            "outputs": [
                {
                    "output_type": "execute_result",
                    "metadata": {},
                    "data": {
                        "text/plain": "True"
                    },
                    "execution_count": null
                }
            ]
        },
        {
            "id": "90523bb6",
            "cell_type": "code",
            "metadata": {},
            "execution_count": null,
            "source": "np.array_equal(lap.tosparse().toarray(), lap.toarray())",
            "outputs": [
                {
                    "output_type": "execute_result",
                    "metadata": {},
                    "data": {
                        "text/plain": "True"
                    },
                    "execution_count": null
                }
            ]
        },
        {
            "id": "30f39f23",
            "cell_type": "markdown",
            "source": "Any number of extreme eigenvalues and/or eigenvectors can be computed.\n",
            "metadata": {}
        },
        {
            "id": "2f0d8f8b",
            "cell_type": "code",
            "metadata": {},
            "execution_count": null,
            "source": "lap = LaplacianNd(grid_shape, boundary_conditions='periodic')\nlap.eigenvalues()",
            "outputs": [
                {
                    "output_type": "execute_result",
                    "metadata": {},
                    "data": {
                        "text/plain": "array([-4., -3., -3., -1., -1.,  0.])"
                    },
                    "execution_count": null
                }
            ]
        },
        {
            "id": "f6274d1c",
            "cell_type": "code",
            "metadata": {},
            "execution_count": null,
            "source": "lap.eigenvalues()[-2:]",
            "outputs": [
                {
                    "output_type": "execute_result",
                    "metadata": {},
                    "data": {
                        "text/plain": "array([-1.,  0.])"
                    },
                    "execution_count": null
                }
            ]
        },
        {
            "id": "bba6946f",
            "cell_type": "code",
            "metadata": {},
            "execution_count": null,
            "source": "lap.eigenvalues(2)",
            "outputs": [
                {
                    "output_type": "execute_result",
                    "metadata": {},
                    "data": {
                        "text/plain": "array([-1.,  0.])"
                    },
                    "execution_count": null
                }
            ]
        },
        {
            "id": "ab913da3",
            "cell_type": "code",
            "metadata": {},
            "execution_count": null,
            "source": "lap.eigenvectors(1)",
            "outputs": [
                {
                    "output_type": "execute_result",
                    "metadata": {},
                    "data": {
                        "text/plain": "array([[0.40824829],\n       [0.40824829],\n       [0.40824829],\n       [0.40824829],\n       [0.40824829],\n       [0.40824829]])"
                    },
                    "execution_count": null
                }
            ]
        },
        {
            "id": "f32fbd21",
            "cell_type": "code",
            "metadata": {},
            "execution_count": null,
            "source": "lap.eigenvectors(2)",
            "outputs": [
                {
                    "output_type": "execute_result",
                    "metadata": {},
                    "data": {
                        "text/plain": "array([[ 0.5       ,  0.40824829],\n       [ 0.        ,  0.40824829],\n       [-0.5       ,  0.40824829],\n       [-0.5       ,  0.40824829],\n       [ 0.        ,  0.40824829],\n       [ 0.5       ,  0.40824829]])"
                    },
                    "execution_count": null
                }
            ]
        },
        {
            "id": "7d01b661",
            "cell_type": "code",
            "metadata": {},
            "execution_count": null,
            "source": "lap.eigenvectors()",
            "outputs": [
                {
                    "output_type": "execute_result",
                    "metadata": {},
                    "data": {
                        "text/plain": "array([[ 0.40824829,  0.28867513,  0.28867513,  0.5       ,  0.5       ,\n         0.40824829],\n       [-0.40824829, -0.57735027, -0.57735027,  0.        ,  0.        ,\n         0.40824829],\n       [ 0.40824829,  0.28867513,  0.28867513, -0.5       , -0.5       ,\n         0.40824829],\n       [-0.40824829,  0.28867513,  0.28867513, -0.5       , -0.5       ,\n         0.40824829],\n       [ 0.40824829, -0.57735027, -0.57735027,  0.        ,  0.        ,\n         0.40824829],\n       [-0.40824829,  0.28867513,  0.28867513,  0.5       ,  0.5       ,\n         0.40824829]])"
                    },
                    "execution_count": null
                }
            ]
        },
        {
            "id": "f5767020",
            "cell_type": "markdown",
            "source": "The two-dimensional Laplacian is illustrated on a regular grid with\n``grid_shape = (2, 3)`` points in each dimension.\n",
            "metadata": {}
        },
        {
            "id": "97036545",
            "cell_type": "code",
            "metadata": {},
            "execution_count": null,
            "source": "grid_shape = (2, 3)\nn = np.prod(grid_shape)",
            "outputs": []
        },
        {
            "id": "5014c1aa",
            "cell_type": "markdown",
            "source": "Numeration of grid points is as follows:\n",
            "metadata": {}
        },
        {
            "id": "1563907b",
            "cell_type": "code",
            "metadata": {},
            "execution_count": null,
            "source": "np.arange(n).reshape(grid_shape + (-1,))",
            "outputs": [
                {
                    "output_type": "execute_result",
                    "metadata": {},
                    "data": {
                        "text/plain": "array([[[0],\n        [1],\n        [2]],\n<BLANKLINE>\n       [[3],\n        [4],\n        [5]]])"
                    },
                    "execution_count": null
                }
            ]
        },
        {
            "id": "5f93e497",
            "cell_type": "markdown",
            "source": "Each of the boundary conditions ``'dirichlet'``, ``'periodic'``, and\n``'neumann'`` is illustrated separately; with ``'dirichlet'``\n",
            "metadata": {}
        },
        {
            "id": "ee84350e",
            "cell_type": "code",
            "metadata": {},
            "execution_count": null,
            "source": "lap = LaplacianNd(grid_shape, boundary_conditions='dirichlet')\nlap.tosparse()",
            "outputs": [
                {
                    "output_type": "execute_result",
                    "metadata": {},
                    "data": {
                        "text/plain": "<Compressed Sparse Row sparse array of dtype 'int8'\n    with 20 stored elements and shape (6, 6)>"
                    },
                    "execution_count": null
                }
            ]
        },
        {
            "id": "06c5df4f",
            "cell_type": "code",
            "metadata": {},
            "execution_count": null,
            "source": "lap.toarray()",
            "outputs": [
                {
                    "output_type": "execute_result",
                    "metadata": {},
                    "data": {
                        "text/plain": "array([[-4,  1,  0,  1,  0,  0],\n       [ 1, -4,  1,  0,  1,  0],\n       [ 0,  1, -4,  0,  0,  1],\n       [ 1,  0,  0, -4,  1,  0],\n       [ 0,  1,  0,  1, -4,  1],\n       [ 0,  0,  1,  0,  1, -4]], dtype=int8)"
                    },
                    "execution_count": null
                }
            ]
        },
        {
            "id": "268c854b",
            "cell_type": "code",
            "metadata": {},
            "execution_count": null,
            "source": "np.array_equal(lap.matmat(np.eye(n)), lap.toarray())",
            "outputs": [
                {
                    "output_type": "execute_result",
                    "metadata": {},
                    "data": {
                        "text/plain": "True"
                    },
                    "execution_count": null
                }
            ]
        },
        {
            "id": "04b0c3f3",
            "cell_type": "code",
            "metadata": {},
            "execution_count": null,
            "source": "np.array_equal(lap.tosparse().toarray(), lap.toarray())",
            "outputs": [
                {
                    "output_type": "execute_result",
                    "metadata": {},
                    "data": {
                        "text/plain": "True"
                    },
                    "execution_count": null
                }
            ]
        },
        {
            "id": "49c65e4a",
            "cell_type": "code",
            "metadata": {},
            "execution_count": null,
            "source": "lap.eigenvalues()",
            "outputs": [
                {
                    "output_type": "execute_result",
                    "metadata": {},
                    "data": {
                        "text/plain": "array([-6.41421356, -5.        , -4.41421356, -3.58578644, -3.        ,\n       -1.58578644])"
                    },
                    "execution_count": null
                }
            ]
        },
        {
            "id": "f68303db",
            "cell_type": "code",
            "metadata": {},
            "execution_count": null,
            "source": "eigvals = eigvalsh(lap.toarray().astype(np.float64))\nnp.allclose(lap.eigenvalues(), eigvals)",
            "outputs": [
                {
                    "output_type": "execute_result",
                    "metadata": {},
                    "data": {
                        "text/plain": "True"
                    },
                    "execution_count": null
                }
            ]
        },
        {
            "id": "cd9eeb99",
            "cell_type": "code",
            "metadata": {},
            "execution_count": null,
            "source": "np.allclose(lap.toarray() @ lap.eigenvectors(),\n            lap.eigenvectors() @ np.diag(lap.eigenvalues()))",
            "outputs": [
                {
                    "output_type": "execute_result",
                    "metadata": {},
                    "data": {
                        "text/plain": "True"
                    },
                    "execution_count": null
                }
            ]
        },
        {
            "id": "85f0847b",
            "cell_type": "markdown",
            "source": "with ``'periodic'``\n",
            "metadata": {}
        },
        {
            "id": "f4f36191",
            "cell_type": "code",
            "metadata": {},
            "execution_count": null,
            "source": "lap = LaplacianNd(grid_shape, boundary_conditions='periodic')\nlap.tosparse()",
            "outputs": [
                {
                    "output_type": "execute_result",
                    "metadata": {},
                    "data": {
                        "text/plain": "<Compressed Sparse Row sparse array of dtype 'int8'\n    with 24 stored elements and shape (6, 6)>"
                    },
                    "execution_count": null
                }
            ]
        },
        {
            "id": "9bce8163",
            "cell_type": "code",
            "metadata": {},
            "execution_count": null,
            "source": "lap.toarray()",
            "outputs": [
                {
                    "output_type": "execute_result",
                    "metadata": {},
                    "data": {
                        "text/plain": "    array([[-4,  1,  1,  2,  0,  0],\n           [ 1, -4,  1,  0,  2,  0],\n           [ 1,  1, -4,  0,  0,  2],\n           [ 2,  0,  0, -4,  1,  1],\n           [ 0,  2,  0,  1, -4,  1],\n           [ 0,  0,  2,  1,  1, -4]], dtype=int8)"
                    },
                    "execution_count": null
                }
            ]
        },
        {
            "id": "28973841",
            "cell_type": "code",
            "metadata": {},
            "execution_count": null,
            "source": "np.array_equal(lap.matmat(np.eye(n)), lap.toarray())",
            "outputs": [
                {
                    "output_type": "execute_result",
                    "metadata": {},
                    "data": {
                        "text/plain": "True"
                    },
                    "execution_count": null
                }
            ]
        },
        {
            "id": "a9ed5d8b",
            "cell_type": "code",
            "metadata": {},
            "execution_count": null,
            "source": "np.array_equal(lap.tosparse().toarray(), lap.toarray())",
            "outputs": [
                {
                    "output_type": "execute_result",
                    "metadata": {},
                    "data": {
                        "text/plain": "True"
                    },
                    "execution_count": null
                }
            ]
        },
        {
            "id": "92372a8f",
            "cell_type": "code",
            "metadata": {},
            "execution_count": null,
            "source": "lap.eigenvalues()",
            "outputs": [
                {
                    "output_type": "execute_result",
                    "metadata": {},
                    "data": {
                        "text/plain": "array([-7., -7., -4., -3., -3.,  0.])"
                    },
                    "execution_count": null
                }
            ]
        },
        {
            "id": "f614bc4a",
            "cell_type": "code",
            "metadata": {},
            "execution_count": null,
            "source": "eigvals = eigvalsh(lap.toarray().astype(np.float64))\nnp.allclose(lap.eigenvalues(), eigvals)",
            "outputs": [
                {
                    "output_type": "execute_result",
                    "metadata": {},
                    "data": {
                        "text/plain": "True"
                    },
                    "execution_count": null
                }
            ]
        },
        {
            "id": "e26ef6ad",
            "cell_type": "code",
            "metadata": {},
            "execution_count": null,
            "source": "np.allclose(lap.toarray() @ lap.eigenvectors(),\n            lap.eigenvectors() @ np.diag(lap.eigenvalues()))",
            "outputs": [
                {
                    "output_type": "execute_result",
                    "metadata": {},
                    "data": {
                        "text/plain": "True"
                    },
                    "execution_count": null
                }
            ]
        },
        {
            "id": "b9358e33",
            "cell_type": "markdown",
            "source": "and with ``'neumann'``\n",
            "metadata": {}
        },
        {
            "id": "1df33f5a",
            "cell_type": "code",
            "metadata": {},
            "execution_count": null,
            "source": "lap = LaplacianNd(grid_shape, boundary_conditions='neumann')\nlap.tosparse()",
            "outputs": [
                {
                    "output_type": "execute_result",
                    "metadata": {},
                    "data": {
                        "text/plain": "<Compressed Sparse Row sparse array of dtype 'int8'\n    with 20 stored elements and shape (6, 6)>"
                    },
                    "execution_count": null
                }
            ]
        },
        {
            "id": "46b2f273",
            "cell_type": "code",
            "metadata": {},
            "execution_count": null,
            "source": "lap.toarray()",
            "outputs": [
                {
                    "output_type": "execute_result",
                    "metadata": {},
                    "data": {
                        "text/plain": "array([[-2,  1,  0,  1,  0,  0],\n       [ 1, -3,  1,  0,  1,  0],\n       [ 0,  1, -2,  0,  0,  1],\n       [ 1,  0,  0, -2,  1,  0],\n       [ 0,  1,  0,  1, -3,  1],\n       [ 0,  0,  1,  0,  1, -2]])"
                    },
                    "execution_count": null
                }
            ]
        },
        {
            "id": "435679b3",
            "cell_type": "code",
            "metadata": {},
            "execution_count": null,
            "source": "np.array_equal(lap.matmat(np.eye(n)), lap.toarray())",
            "outputs": [
                {
                    "output_type": "execute_result",
                    "metadata": {},
                    "data": {
                        "text/plain": "True"
                    },
                    "execution_count": null
                }
            ]
        },
        {
            "id": "c7976207",
            "cell_type": "code",
            "metadata": {},
            "execution_count": null,
            "source": "np.array_equal(lap.tosparse().toarray(), lap.toarray())",
            "outputs": [
                {
                    "output_type": "execute_result",
                    "metadata": {},
                    "data": {
                        "text/plain": "True"
                    },
                    "execution_count": null
                }
            ]
        },
        {
            "id": "4563357c",
            "cell_type": "code",
            "metadata": {},
            "execution_count": null,
            "source": "lap.eigenvalues()",
            "outputs": [
                {
                    "output_type": "execute_result",
                    "metadata": {},
                    "data": {
                        "text/plain": "array([-5., -3., -3., -2., -1.,  0.])"
                    },
                    "execution_count": null
                }
            ]
        },
        {
            "id": "8b025706",
            "cell_type": "code",
            "metadata": {},
            "execution_count": null,
            "source": "eigvals = eigvalsh(lap.toarray().astype(np.float64))\nnp.allclose(lap.eigenvalues(), eigvals)",
            "outputs": [
                {
                    "output_type": "execute_result",
                    "metadata": {},
                    "data": {
                        "text/plain": "True"
                    },
                    "execution_count": null
                }
            ]
        },
        {
            "id": "13839811",
            "cell_type": "code",
            "metadata": {},
            "execution_count": null,
            "source": "np.allclose(lap.toarray() @ lap.eigenvectors(),\n            lap.eigenvectors() @ np.diag(lap.eigenvalues()))",
            "outputs": [
                {
                    "output_type": "execute_result",
                    "metadata": {},
                    "data": {
                        "text/plain": "True"
                    },
                    "execution_count": null
                }
            ]
        }
    ]
}