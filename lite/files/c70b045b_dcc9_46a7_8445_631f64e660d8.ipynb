{
    "nbformat": 4,
    "nbformat_minor": 5,
    "metadata": {
        "kernelspec": {
            "display_name": "Python",
            "language": "python",
            "name": "python"
        },
        "language_info": {
            "name": "python"
        }
    },
    "cells": [
        {
            "id": "0209ad87",
            "cell_type": "markdown",
            "source": "<div class='alert alert-warning'>\n\nSciPy's interactive examples with Jupyterlite are experimental and may not always work as expected. Execution of cells containing imports may result in large downloads (up to 60MB of content for the first import from SciPy). Load times when importing from SciPy may take roughly 10-20 seconds. If you notice any problems, feel free to open an [issue](https://github.com/scipy/scipy/issues/new/choose).\n\n</div>",
            "metadata": {}
        },
        {
            "id": "69223ca7",
            "cell_type": "markdown",
            "source": "Calculate the function for ``dfn=1`` and ``dfd=2`` at ``x=1``.\n",
            "metadata": {}
        },
        {
            "id": "ec97a9e4",
            "cell_type": "code",
            "metadata": {},
            "execution_count": null,
            "source": "import numpy as np\nfrom scipy.special import fdtrc\nfdtrc(1, 2, 1)",
            "outputs": [
                {
                    "output_type": "execute_result",
                    "metadata": {},
                    "data": {
                        "text/plain": "0.42264973081037427"
                    },
                    "execution_count": null
                }
            ]
        },
        {
            "id": "b09605d2",
            "cell_type": "markdown",
            "source": "Calculate the function at several points by providing a NumPy array for\n`x`.\n",
            "metadata": {}
        },
        {
            "id": "dc35563c",
            "cell_type": "code",
            "metadata": {},
            "execution_count": null,
            "source": "x = np.array([0.5, 2., 3.])\nfdtrc(1, 2, x)",
            "outputs": [
                {
                    "output_type": "execute_result",
                    "metadata": {},
                    "data": {
                        "text/plain": "array([0.5527864 , 0.29289322, 0.22540333])"
                    },
                    "execution_count": null
                }
            ]
        },
        {
            "id": "f3b5a15c",
            "cell_type": "markdown",
            "source": "Plot the function for several parameter sets.\n",
            "metadata": {}
        },
        {
            "id": "ed0fa54d",
            "cell_type": "code",
            "metadata": {},
            "execution_count": null,
            "source": "import matplotlib.pyplot as plt\ndfn_parameters = [1, 5, 10, 50]\ndfd_parameters = [1, 1, 2, 3]\nlinestyles = ['solid', 'dashed', 'dotted', 'dashdot']\nparameters_list = list(zip(dfn_parameters, dfd_parameters,\n                           linestyles))\nx = np.linspace(0, 30, 1000)\nfig, ax = plt.subplots()\nfor parameter_set in parameters_list:\n    dfn, dfd, style = parameter_set\n    fdtrc_vals = fdtrc(dfn, dfd, x)\n    ax.plot(x, fdtrc_vals, label=rf\"$d_n={dfn},\\, d_d={dfd}$\",\n            ls=style)\nax.legend()\nax.set_xlabel(\"$x$\")\nax.set_title(\"F distribution survival function\")\nplt.show()",
            "outputs": []
        },
        {
            "id": "31a9b04b",
            "cell_type": "markdown",
            "source": "The F distribution is also available as `scipy.stats.f`. Using `fdtrc`\ndirectly can be much faster than calling the ``sf`` method of\n`scipy.stats.f`, especially for small arrays or individual values.\nTo get the same results one must use the following parametrization:\n``stats.f(dfn, dfd).sf(x)=fdtrc(dfn, dfd, x)``.\n",
            "metadata": {}
        },
        {
            "id": "6cff073f",
            "cell_type": "code",
            "metadata": {},
            "execution_count": null,
            "source": "from scipy.stats import f\ndfn, dfd = 1, 2\nx = 1\nfdtrc_res = fdtrc(dfn, dfd, x)  # this will often be faster than below\nf_dist_res = f(dfn, dfd).sf(x)\nf_dist_res == fdtrc_res  # test that results are equal",
            "outputs": [
                {
                    "output_type": "execute_result",
                    "metadata": {},
                    "data": {
                        "text/plain": "True"
                    },
                    "execution_count": null
                }
            ]
        }
    ]
}