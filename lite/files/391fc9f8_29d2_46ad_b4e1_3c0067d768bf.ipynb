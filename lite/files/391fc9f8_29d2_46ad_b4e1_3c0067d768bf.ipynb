{
    "nbformat": 4,
    "nbformat_minor": 5,
    "metadata": {
        "kernelspec": {
            "display_name": "Python",
            "language": "python",
            "name": "python"
        },
        "language_info": {
            "name": "python"
        }
    },
    "cells": [
        {
            "id": "4a82a412",
            "cell_type": "markdown",
            "source": "<div class='alert alert-warning'>\n\nSciPy's interactive examples with Jupyterlite are experimental and may not always work as expected. Execution of cells containing imports may result in large downloads (up to 60MB of content for the first import from SciPy). Load times when importing from SciPy may take roughly 10-20 seconds. If you notice any problems, feel free to open an [issue](https://github.com/scipy/scipy/issues/new/choose).\n\n</div>",
            "metadata": {}
        },
        {
            "id": "ad36e9da",
            "cell_type": "code",
            "metadata": {},
            "execution_count": null,
            "source": "import scipy.special as sc\nfrom pytest import raises\nsc.gammaln(0)",
            "outputs": [
                {
                    "output_type": "execute_result",
                    "metadata": {},
                    "data": {
                        "text/plain": "inf"
                    },
                    "execution_count": null
                }
            ]
        },
        {
            "id": "7d70a2cc",
            "cell_type": "code",
            "metadata": {},
            "execution_count": null,
            "source": "with sc.errstate(singular='raise'):\n    with raises(sc.SpecialFunctionError):\n        sc.gammaln(0)\n\nsc.gammaln(0)",
            "outputs": [
                {
                    "output_type": "execute_result",
                    "metadata": {},
                    "data": {
                        "text/plain": "inf"
                    },
                    "execution_count": null
                }
            ]
        },
        {
            "id": "cd5fb9f7",
            "cell_type": "markdown",
            "source": "We can also raise on every category except one.\n",
            "metadata": {}
        },
        {
            "id": "9a2a6994",
            "cell_type": "code",
            "metadata": {},
            "execution_count": null,
            "source": "with sc.errstate(all='raise', singular='ignore'):\n    sc.gammaln(0)\n    with raises(sc.SpecialFunctionError):\n        sc.spence(-1)\n",
            "outputs": [
                {
                    "output_type": "execute_result",
                    "metadata": {},
                    "data": {
                        "text/plain": "inf"
                    },
                    "execution_count": null
                }
            ]
        }
    ]
}