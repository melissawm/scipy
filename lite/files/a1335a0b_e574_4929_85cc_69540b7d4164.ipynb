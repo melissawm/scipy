{
    "nbformat": 4,
    "nbformat_minor": 5,
    "metadata": {
        "kernelspec": {
            "display_name": "Python",
            "language": "python",
            "name": "python"
        },
        "language_info": {
            "name": "python"
        }
    },
    "cells": [
        {
            "id": "98c46afb",
            "cell_type": "markdown",
            "source": "<div class='alert alert-warning'>\n\nSciPy's interactive examples with Jupyterlite are experimental and may not always work as expected. Execution of cells containing imports may result in large downloads (up to 60MB of content for the first import from SciPy). Load times when importing from SciPy may take roughly 10-20 seconds. If you notice any problems, feel free to open an [issue](https://github.com/scipy/scipy/issues/new/choose).\n\n</div>",
            "metadata": {}
        },
        {
            "id": "3f084bdf",
            "cell_type": "code",
            "metadata": {},
            "execution_count": null,
            "source": "import numpy as np\nfrom scipy.stats import mielke\nimport matplotlib.pyplot as plt\nfig, ax = plt.subplots(1, 1)",
            "outputs": []
        },
        {
            "id": "a0eb074b",
            "cell_type": "markdown",
            "source": "Calculate the first four moments:\n",
            "metadata": {}
        },
        {
            "id": "c12fadc4",
            "cell_type": "code",
            "metadata": {},
            "execution_count": null,
            "source": "k, s = 10.4, 4.6\nmean, var, skew, kurt = mielke.stats(k, s, moments='mvsk')",
            "outputs": []
        },
        {
            "id": "daf3bdbe",
            "cell_type": "markdown",
            "source": "Display the probability density function (``pdf``):\n",
            "metadata": {}
        },
        {
            "id": "bd07e6fb",
            "cell_type": "code",
            "metadata": {},
            "execution_count": null,
            "source": "x = np.linspace(mielke.ppf(0.01, k, s),\n                mielke.ppf(0.99, k, s), 100)\nax.plot(x, mielke.pdf(x, k, s),\n       'r-', lw=5, alpha=0.6, label='mielke pdf')",
            "outputs": []
        },
        {
            "id": "f4ae605f",
            "cell_type": "markdown",
            "source": "Alternatively, the distribution object can be called (as a function)\nto fix the shape, location and scale parameters. This returns a \"frozen\"\nRV object holding the given parameters fixed.\n\nFreeze the distribution and display the frozen ``pdf``:\n",
            "metadata": {}
        },
        {
            "id": "20b65e96",
            "cell_type": "code",
            "metadata": {},
            "execution_count": null,
            "source": "rv = mielke(k, s)\nax.plot(x, rv.pdf(x), 'k-', lw=2, label='frozen pdf')",
            "outputs": []
        },
        {
            "id": "c2a789a6",
            "cell_type": "markdown",
            "source": "Check accuracy of ``cdf`` and ``ppf``:\n",
            "metadata": {}
        },
        {
            "id": "aaf8f19e",
            "cell_type": "code",
            "metadata": {},
            "execution_count": null,
            "source": "vals = mielke.ppf([0.001, 0.5, 0.999], k, s)\nnp.allclose([0.001, 0.5, 0.999], mielke.cdf(vals, k, s))",
            "outputs": [
                {
                    "output_type": "execute_result",
                    "metadata": {},
                    "data": {
                        "text/plain": "True"
                    },
                    "execution_count": null
                }
            ]
        },
        {
            "id": "24d99851",
            "cell_type": "markdown",
            "source": "Generate random numbers:\n",
            "metadata": {}
        },
        {
            "id": "56fd2f25",
            "cell_type": "code",
            "metadata": {},
            "execution_count": null,
            "source": "r = mielke.rvs(k, s, size=1000)",
            "outputs": []
        },
        {
            "id": "c68eef18",
            "cell_type": "markdown",
            "source": "And compare the histogram:\n",
            "metadata": {}
        },
        {
            "id": "8e0a36a6",
            "cell_type": "code",
            "metadata": {},
            "execution_count": null,
            "source": "ax.hist(r, density=True, bins='auto', histtype='stepfilled', alpha=0.2)\nax.set_xlim([x[0], x[-1]])\nax.legend(loc='best', frameon=False)\nplt.show()",
            "outputs": []
        }
    ]
}