{
    "nbformat": 4,
    "nbformat_minor": 5,
    "metadata": {
        "kernelspec": {
            "display_name": "Python",
            "language": "python",
            "name": "python"
        },
        "language_info": {
            "name": "python"
        }
    },
    "cells": [
        {
            "id": "134d93db",
            "cell_type": "markdown",
            "source": "<div class='alert alert-warning'>\n\nSciPy's interactive examples with Jupyterlite are experimental and may not always work as expected. Execution of cells containing imports may result in large downloads (up to 60MB of content for the first import from SciPy). Load times when importing from SciPy may take roughly 10-20 seconds. If you notice any problems, feel free to open an [issue](https://github.com/scipy/scipy/issues/new/choose).\n\n</div>",
            "metadata": {}
        },
        {
            "id": "8f7e1bdf",
            "cell_type": "code",
            "metadata": {},
            "execution_count": null,
            "source": "import scipy.special as sc",
            "outputs": []
        },
        {
            "id": "a6e2fb2b",
            "cell_type": "markdown",
            "source": "There are many ways to specify an angle.\n",
            "metadata": {}
        },
        {
            "id": "4cf7f9d1",
            "cell_type": "code",
            "metadata": {},
            "execution_count": null,
            "source": "sc.radian(90, 0, 0)",
            "outputs": [
                {
                    "output_type": "execute_result",
                    "metadata": {},
                    "data": {
                        "text/plain": "1.5707963267948966"
                    },
                    "execution_count": null
                }
            ]
        },
        {
            "id": "50095a17",
            "cell_type": "code",
            "metadata": {},
            "execution_count": null,
            "source": "sc.radian(0, 60 * 90, 0)",
            "outputs": [
                {
                    "output_type": "execute_result",
                    "metadata": {},
                    "data": {
                        "text/plain": "1.5707963267948966"
                    },
                    "execution_count": null
                }
            ]
        },
        {
            "id": "97ac2821",
            "cell_type": "code",
            "metadata": {},
            "execution_count": null,
            "source": "sc.radian(0, 0, 60**2 * 90)",
            "outputs": [
                {
                    "output_type": "execute_result",
                    "metadata": {},
                    "data": {
                        "text/plain": "1.5707963267948966"
                    },
                    "execution_count": null
                }
            ]
        },
        {
            "id": "94e4017a",
            "cell_type": "markdown",
            "source": "The inputs can be real-valued.\n",
            "metadata": {}
        },
        {
            "id": "48e3e481",
            "cell_type": "code",
            "metadata": {},
            "execution_count": null,
            "source": "sc.radian(1.5, 0, 0)",
            "outputs": [
                {
                    "output_type": "execute_result",
                    "metadata": {},
                    "data": {
                        "text/plain": "0.02617993877991494"
                    },
                    "execution_count": null
                }
            ]
        },
        {
            "id": "e8b47ae4",
            "cell_type": "code",
            "metadata": {},
            "execution_count": null,
            "source": "sc.radian(1, 30, 0)",
            "outputs": [
                {
                    "output_type": "execute_result",
                    "metadata": {},
                    "data": {
                        "text/plain": "0.02617993877991494"
                    },
                    "execution_count": null
                }
            ]
        }
    ]
}