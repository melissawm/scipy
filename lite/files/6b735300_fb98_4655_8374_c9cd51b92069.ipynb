{
    "nbformat": 4,
    "nbformat_minor": 5,
    "metadata": {
        "kernelspec": {
            "display_name": "Python",
            "language": "python",
            "name": "python"
        },
        "language_info": {
            "name": "python"
        }
    },
    "cells": [
        {
            "id": "71892660",
            "cell_type": "markdown",
            "source": "<div class='alert alert-warning'>\n\nSciPy's interactive examples with Jupyterlite are experimental and may not always work as expected. Execution of cells containing imports may result in large downloads (up to 60MB of content for the first import from SciPy). Load times when importing from SciPy may take roughly 10-20 seconds. If you notice any problems, feel free to open an [issue](https://github.com/scipy/scipy/issues/new/choose).\n\n</div>",
            "metadata": {}
        },
        {
            "id": "5b4592f6",
            "cell_type": "code",
            "metadata": {},
            "execution_count": null,
            "source": "from scipy.sparse import csr_matrix\nfrom scipy.sparse.csgraph import structural_rank",
            "outputs": []
        },
        {
            "id": "33a4a40c",
            "cell_type": "code",
            "metadata": {},
            "execution_count": null,
            "source": "graph = [\n[0, 1, 2, 0],\n[1, 0, 0, 1],\n[2, 0, 0, 3],\n[0, 1, 3, 0]\n]\ngraph = csr_matrix(graph)\nprint(graph)",
            "outputs": [
                {
                    "output_type": "execute_result",
                    "metadata": {},
                    "data": {
                        "text/plain": "  (np.int32(0), np.int32(1))        1\n  (np.int32(0), np.int32(2))        2\n  (np.int32(1), np.int32(0))        1\n  (np.int32(1), np.int32(3))        1\n  (np.int32(2), np.int32(0))        2\n  (np.int32(2), np.int32(3))        3\n  (np.int32(3), np.int32(1))        1\n  (np.int32(3), np.int32(2))        3"
                    },
                    "execution_count": null
                }
            ]
        },
        {
            "id": "ddd2bb31",
            "cell_type": "code",
            "metadata": {},
            "execution_count": null,
            "source": "structural_rank(graph)",
            "outputs": [
                {
                    "output_type": "execute_result",
                    "metadata": {},
                    "data": {
                        "text/plain": "4"
                    },
                    "execution_count": null
                }
            ]
        }
    ]
}