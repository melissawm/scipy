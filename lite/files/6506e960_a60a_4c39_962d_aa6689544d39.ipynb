{
    "nbformat": 4,
    "nbformat_minor": 5,
    "metadata": {
        "kernelspec": {
            "display_name": "Python",
            "language": "python",
            "name": "python"
        },
        "language_info": {
            "name": "python"
        }
    },
    "cells": [
        {
            "id": "1afb241b",
            "cell_type": "markdown",
            "source": "<div class='alert alert-warning'>\n\nSciPy's interactive examples with Jupyterlite are experimental and may not always work as expected. Execution of cells containing imports may result in large downloads (up to 60MB of content for the first import from SciPy). Load times when importing from SciPy may take roughly 10-20 seconds. If you notice any problems, feel free to open an [issue](https://github.com/scipy/scipy/issues/new/choose).\n\n</div>",
            "metadata": {}
        },
        {
            "id": "01a2ad6b",
            "cell_type": "markdown",
            "source": "Low-pass from 0 to f:\n",
            "metadata": {}
        },
        {
            "id": "95e772ac",
            "cell_type": "code",
            "metadata": {},
            "execution_count": null,
            "source": "from scipy import signal\nnumtaps = 3\nf = 0.1\nsignal.firwin(numtaps, f)",
            "outputs": [
                {
                    "output_type": "execute_result",
                    "metadata": {},
                    "data": {
                        "text/plain": "array([ 0.06799017,  0.86401967,  0.06799017])"
                    },
                    "execution_count": null
                }
            ]
        },
        {
            "id": "5b3616bb",
            "cell_type": "markdown",
            "source": "Use a specific window function:\n",
            "metadata": {}
        },
        {
            "id": "b54e4c24",
            "cell_type": "code",
            "metadata": {},
            "execution_count": null,
            "source": "signal.firwin(numtaps, f, window='nuttall')",
            "outputs": [
                {
                    "output_type": "execute_result",
                    "metadata": {},
                    "data": {
                        "text/plain": "array([  3.56607041e-04,   9.99286786e-01,   3.56607041e-04])"
                    },
                    "execution_count": null
                }
            ]
        },
        {
            "id": "20d280a4",
            "cell_type": "markdown",
            "source": "High-pass ('stop' from 0 to f):\n",
            "metadata": {}
        },
        {
            "id": "d35ed0ba",
            "cell_type": "code",
            "metadata": {},
            "execution_count": null,
            "source": "signal.firwin(numtaps, f, pass_zero=False)",
            "outputs": [
                {
                    "output_type": "execute_result",
                    "metadata": {},
                    "data": {
                        "text/plain": "array([-0.00859313,  0.98281375, -0.00859313])"
                    },
                    "execution_count": null
                }
            ]
        },
        {
            "id": "84eb5d47",
            "cell_type": "markdown",
            "source": "Band-pass:\n",
            "metadata": {}
        },
        {
            "id": "1056f50f",
            "cell_type": "code",
            "metadata": {},
            "execution_count": null,
            "source": "f1, f2 = 0.1, 0.2\nsignal.firwin(numtaps, [f1, f2], pass_zero=False)",
            "outputs": [
                {
                    "output_type": "execute_result",
                    "metadata": {},
                    "data": {
                        "text/plain": "array([ 0.06301614,  0.88770441,  0.06301614])"
                    },
                    "execution_count": null
                }
            ]
        },
        {
            "id": "df63492f",
            "cell_type": "markdown",
            "source": "Band-stop:\n",
            "metadata": {}
        },
        {
            "id": "d23b99f5",
            "cell_type": "code",
            "metadata": {},
            "execution_count": null,
            "source": "signal.firwin(numtaps, [f1, f2])",
            "outputs": [
                {
                    "output_type": "execute_result",
                    "metadata": {},
                    "data": {
                        "text/plain": "array([-0.00801395,  1.0160279 , -0.00801395])"
                    },
                    "execution_count": null
                }
            ]
        },
        {
            "id": "18723dda",
            "cell_type": "markdown",
            "source": "Multi-band (passbands are [0, f1], [f2, f3] and [f4, 1]):\n",
            "metadata": {}
        },
        {
            "id": "23ea1156",
            "cell_type": "code",
            "metadata": {},
            "execution_count": null,
            "source": "f3, f4 = 0.3, 0.4\nsignal.firwin(numtaps, [f1, f2, f3, f4])",
            "outputs": [
                {
                    "output_type": "execute_result",
                    "metadata": {},
                    "data": {
                        "text/plain": "array([-0.01376344,  1.02752689, -0.01376344])"
                    },
                    "execution_count": null
                }
            ]
        },
        {
            "id": "801d637a",
            "cell_type": "markdown",
            "source": "Multi-band (passbands are [f1, f2] and [f3,f4]):\n",
            "metadata": {}
        },
        {
            "id": "6e0dbe8b",
            "cell_type": "code",
            "metadata": {},
            "execution_count": null,
            "source": "signal.firwin(numtaps, [f1, f2, f3, f4], pass_zero=False)",
            "outputs": [
                {
                    "output_type": "execute_result",
                    "metadata": {},
                    "data": {
                        "text/plain": "array([ 0.04890915,  0.91284326,  0.04890915])"
                    },
                    "execution_count": null
                }
            ]
        }
    ]
}