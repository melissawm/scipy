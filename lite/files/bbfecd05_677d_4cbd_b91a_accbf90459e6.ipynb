{
    "nbformat": 4,
    "nbformat_minor": 5,
    "metadata": {
        "kernelspec": {
            "display_name": "Python",
            "language": "python",
            "name": "python"
        },
        "language_info": {
            "name": "python"
        }
    },
    "cells": [
        {
            "id": "cb5b87e0",
            "cell_type": "markdown",
            "source": "<div class='alert alert-warning'>\n\nSciPy's interactive examples with Jupyterlite are experimental and may not always work as expected. Execution of cells containing imports may result in large downloads (up to 60MB of content for the first import from SciPy). Load times when importing from SciPy may take roughly 10-20 seconds. If you notice any problems, feel free to open an [issue](https://github.com/scipy/scipy/issues/new/choose).\n\n</div>",
            "metadata": {}
        },
        {
            "id": "4c3fb716",
            "cell_type": "code",
            "metadata": {},
            "execution_count": null,
            "source": "from scipy import ndimage\nimport numpy as np\na = np.array([[1, 2, 0, 0],\n              [5, 3, 0, 4],\n              [0, 0, 0, 7],\n              [9, 3, 0, 0]])\nndimage.maximum_position(a)",
            "outputs": [
                {
                    "output_type": "execute_result",
                    "metadata": {},
                    "data": {
                        "text/plain": "(3, 0)"
                    },
                    "execution_count": null
                }
            ]
        },
        {
            "id": "599be450",
            "cell_type": "markdown",
            "source": "Features to process can be specified using `labels` and `index`:\n",
            "metadata": {}
        },
        {
            "id": "802f2efe",
            "cell_type": "code",
            "metadata": {},
            "execution_count": null,
            "source": "lbl = np.array([[0, 1, 2, 3],\n                [0, 1, 2, 3],\n                [0, 1, 2, 3],\n                [0, 1, 2, 3]])\nndimage.maximum_position(a, lbl, 1)",
            "outputs": [
                {
                    "output_type": "execute_result",
                    "metadata": {},
                    "data": {
                        "text/plain": "(1, 1)"
                    },
                    "execution_count": null
                }
            ]
        },
        {
            "id": "232f411c",
            "cell_type": "markdown",
            "source": "If no index is given, non-zero `labels` are processed:\n",
            "metadata": {}
        },
        {
            "id": "bc9001dc",
            "cell_type": "code",
            "metadata": {},
            "execution_count": null,
            "source": "ndimage.maximum_position(a, lbl)",
            "outputs": [
                {
                    "output_type": "execute_result",
                    "metadata": {},
                    "data": {
                        "text/plain": "(2, 3)"
                    },
                    "execution_count": null
                }
            ]
        },
        {
            "id": "c9198394",
            "cell_type": "markdown",
            "source": "If there are no maxima, the position of the first element is returned:\n",
            "metadata": {}
        },
        {
            "id": "55ef419e",
            "cell_type": "code",
            "metadata": {},
            "execution_count": null,
            "source": "ndimage.maximum_position(a, lbl, 2)",
            "outputs": [
                {
                    "output_type": "execute_result",
                    "metadata": {},
                    "data": {
                        "text/plain": "(0, 2)"
                    },
                    "execution_count": null
                }
            ]
        }
    ]
}