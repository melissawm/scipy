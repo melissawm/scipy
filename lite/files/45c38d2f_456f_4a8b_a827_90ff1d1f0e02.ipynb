{
    "nbformat": 4,
    "nbformat_minor": 5,
    "metadata": {
        "kernelspec": {
            "display_name": "Python",
            "language": "python",
            "name": "python"
        },
        "language_info": {
            "name": "python"
        }
    },
    "cells": [
        {
            "id": "bf885e79",
            "cell_type": "markdown",
            "source": "<div class='alert alert-warning'>\n\nSciPy's interactive examples with Jupyterlite are experimental and may not always work as expected. Execution of cells containing imports may result in large downloads (up to 60MB of content for the first import from SciPy). Load times when importing from SciPy may take roughly 10-20 seconds. If you notice any problems, feel free to open an [issue](https://github.com/scipy/scipy/issues/new/choose).\n\n</div>",
            "metadata": {}
        },
        {
            "id": "a51b1117",
            "cell_type": "code",
            "metadata": {},
            "execution_count": null,
            "source": "import numpy as np\nimport matplotlib.pyplot as plt\nrng = np.random.default_rng()",
            "outputs": []
        },
        {
            "id": "b1d5a7f0",
            "cell_type": "markdown",
            "source": "First define some input parameters for the signal:\n",
            "metadata": {}
        },
        {
            "id": "89973f60",
            "cell_type": "code",
            "metadata": {},
            "execution_count": null,
            "source": "A = 2.\nw0 = 1.  # rad/sec\nnin = 150\nnout = 100000",
            "outputs": []
        },
        {
            "id": "70e7bfa8",
            "cell_type": "markdown",
            "source": "Randomly generate sample times:\n",
            "metadata": {}
        },
        {
            "id": "6732e89b",
            "cell_type": "code",
            "metadata": {},
            "execution_count": null,
            "source": "x = rng.uniform(0, 10*np.pi, nin)",
            "outputs": []
        },
        {
            "id": "07d0c9fe",
            "cell_type": "markdown",
            "source": "Plot a sine wave for the selected times:\n",
            "metadata": {}
        },
        {
            "id": "6a65d67b",
            "cell_type": "code",
            "metadata": {},
            "execution_count": null,
            "source": "y = A * np.cos(w0*x)",
            "outputs": []
        },
        {
            "id": "f21fd943",
            "cell_type": "markdown",
            "source": "Define the array of frequencies for which to compute the periodogram:\n",
            "metadata": {}
        },
        {
            "id": "d11b9228",
            "cell_type": "code",
            "metadata": {},
            "execution_count": null,
            "source": "w = np.linspace(0.01, 10, nout)",
            "outputs": []
        },
        {
            "id": "c493093e",
            "cell_type": "markdown",
            "source": "Calculate Lomb-Scargle periodogram:\n",
            "metadata": {}
        },
        {
            "id": "29e2e727",
            "cell_type": "code",
            "metadata": {},
            "execution_count": null,
            "source": "import scipy.signal as signal\npgram = signal.lombscargle(x, y, w, normalize=True)",
            "outputs": []
        },
        {
            "id": "a7c2374e",
            "cell_type": "markdown",
            "source": "Now make a plot of the input data:\n",
            "metadata": {}
        },
        {
            "id": "a9f01ba9",
            "cell_type": "code",
            "metadata": {},
            "execution_count": null,
            "source": "fig, (ax_t, ax_w) = plt.subplots(2, 1, constrained_layout=True)\nax_t.plot(x, y, 'b+')\nax_t.set_xlabel('Time [s]')",
            "outputs": []
        },
        {
            "id": "f4dd866e",
            "cell_type": "markdown",
            "source": "Then plot the normalized periodogram:\n",
            "metadata": {}
        },
        {
            "id": "28eed8f5",
            "cell_type": "code",
            "metadata": {},
            "execution_count": null,
            "source": "ax_w.plot(w, pgram)\nax_w.set_xlabel('Angular frequency [rad/s]')\nax_w.set_ylabel('Normalized amplitude')\nplt.show()",
            "outputs": []
        }
    ]
}