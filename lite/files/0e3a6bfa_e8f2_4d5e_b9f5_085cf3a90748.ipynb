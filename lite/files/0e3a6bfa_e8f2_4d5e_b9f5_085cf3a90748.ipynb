{
    "nbformat": 4,
    "nbformat_minor": 5,
    "metadata": {
        "kernelspec": {
            "display_name": "Python",
            "language": "python",
            "name": "python"
        },
        "language_info": {
            "name": "python"
        }
    },
    "cells": [
        {
            "id": "9ad7eabe",
            "cell_type": "markdown",
            "source": "<div class='alert alert-warning'>\n\nSciPy's interactive examples with Jupyterlite are experimental and may not always work as expected. Execution of cells containing imports may result in large downloads (up to 60MB of content for the first import from SciPy). Load times when importing from SciPy may take roughly 10-20 seconds. If you notice any problems, feel free to open an [issue](https://github.com/scipy/scipy/issues/new/choose).\n\n</div>",
            "metadata": {}
        },
        {
            "id": "3f822905",
            "cell_type": "markdown",
            "source": "Here we define a nearest-neighbor interpolator of a simple function\n",
            "metadata": {}
        },
        {
            "id": "ef2022bd",
            "cell_type": "code",
            "metadata": {},
            "execution_count": null,
            "source": "import numpy as np\nx, y = np.array([0, 1, 2]), np.array([1, 3, 7])\ndef f(x, y):\n    return x**2 + y**2\ndata = f(*np.meshgrid(x, y, indexing='ij', sparse=True))\nfrom scipy.interpolate import RegularGridInterpolator\ninterp = RegularGridInterpolator((x, y), data, method='nearest')",
            "outputs": []
        },
        {
            "id": "119f3da6",
            "cell_type": "markdown",
            "source": "By construction, the interpolator uses the nearest-neighbor\ninterpolation\n",
            "metadata": {}
        },
        {
            "id": "4168b705",
            "cell_type": "code",
            "metadata": {},
            "execution_count": null,
            "source": "interp([[1.5, 1.3], [0.3, 4.5]])",
            "outputs": [
                {
                    "output_type": "execute_result",
                    "metadata": {},
                    "data": {
                        "text/plain": "array([2., 9.])"
                    },
                    "execution_count": null
                }
            ]
        },
        {
            "id": "4db938a9",
            "cell_type": "markdown",
            "source": "We can however evaluate the linear interpolant by overriding the\n`method` parameter\n",
            "metadata": {}
        },
        {
            "id": "493ca831",
            "cell_type": "code",
            "metadata": {},
            "execution_count": null,
            "source": "interp([[1.5, 1.3], [0.3, 4.5]], method='linear')",
            "outputs": [
                {
                    "output_type": "execute_result",
                    "metadata": {},
                    "data": {
                        "text/plain": "array([ 4.7, 24.3])"
                    },
                    "execution_count": null
                }
            ]
        }
    ]
}