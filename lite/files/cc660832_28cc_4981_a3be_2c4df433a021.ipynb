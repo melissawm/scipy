{
    "nbformat": 4,
    "nbformat_minor": 5,
    "metadata": {
        "kernelspec": {
            "display_name": "Python",
            "language": "python",
            "name": "python"
        },
        "language_info": {
            "name": "python"
        }
    },
    "cells": [
        {
            "id": "10a4326f",
            "cell_type": "markdown",
            "source": "<div class='alert alert-warning'>\n\nSciPy's interactive examples with Jupyterlite are experimental and may not always work as expected. Execution of cells containing imports may result in large downloads (up to 60MB of content for the first import from SciPy). Load times when importing from SciPy may take roughly 10-20 seconds. If you notice any problems, feel free to open an [issue](https://github.com/scipy/scipy/issues/new/choose).\n\n</div>",
            "metadata": {}
        },
        {
            "id": "253910a5",
            "cell_type": "code",
            "metadata": {},
            "execution_count": null,
            "source": "import numpy as np\nfrom scipy.linalg import norm\na = np.arange(9) - 4.0\na",
            "outputs": [
                {
                    "output_type": "execute_result",
                    "metadata": {},
                    "data": {
                        "text/plain": "array([-4., -3., -2., -1.,  0.,  1.,  2.,  3.,  4.])"
                    },
                    "execution_count": null
                }
            ]
        },
        {
            "id": "ee800815",
            "cell_type": "code",
            "metadata": {},
            "execution_count": null,
            "source": "b = a.reshape((3, 3))\nb",
            "outputs": [
                {
                    "output_type": "execute_result",
                    "metadata": {},
                    "data": {
                        "text/plain": "array([[-4., -3., -2.],\n       [-1.,  0.,  1.],\n       [ 2.,  3.,  4.]])"
                    },
                    "execution_count": null
                }
            ]
        },
        {
            "id": "2959fbae",
            "cell_type": "code",
            "metadata": {},
            "execution_count": null,
            "source": "norm(a)",
            "outputs": [
                {
                    "output_type": "execute_result",
                    "metadata": {},
                    "data": {
                        "text/plain": "7.745966692414834"
                    },
                    "execution_count": null
                }
            ]
        },
        {
            "id": "f16bdb67",
            "cell_type": "code",
            "metadata": {},
            "execution_count": null,
            "source": "norm(b)",
            "outputs": [
                {
                    "output_type": "execute_result",
                    "metadata": {},
                    "data": {
                        "text/plain": "7.745966692414834"
                    },
                    "execution_count": null
                }
            ]
        },
        {
            "id": "fb8c4f62",
            "cell_type": "code",
            "metadata": {},
            "execution_count": null,
            "source": "norm(b, 'fro')",
            "outputs": [
                {
                    "output_type": "execute_result",
                    "metadata": {},
                    "data": {
                        "text/plain": "7.745966692414834"
                    },
                    "execution_count": null
                }
            ]
        },
        {
            "id": "71ab5515",
            "cell_type": "code",
            "metadata": {},
            "execution_count": null,
            "source": "norm(a, np.inf)",
            "outputs": [
                {
                    "output_type": "execute_result",
                    "metadata": {},
                    "data": {
                        "text/plain": "4"
                    },
                    "execution_count": null
                }
            ]
        },
        {
            "id": "b268daec",
            "cell_type": "code",
            "metadata": {},
            "execution_count": null,
            "source": "norm(b, np.inf)",
            "outputs": [
                {
                    "output_type": "execute_result",
                    "metadata": {},
                    "data": {
                        "text/plain": "9"
                    },
                    "execution_count": null
                }
            ]
        },
        {
            "id": "f9f71c26",
            "cell_type": "code",
            "metadata": {},
            "execution_count": null,
            "source": "norm(a, -np.inf)",
            "outputs": [
                {
                    "output_type": "execute_result",
                    "metadata": {},
                    "data": {
                        "text/plain": "0"
                    },
                    "execution_count": null
                }
            ]
        },
        {
            "id": "0364cb3d",
            "cell_type": "code",
            "metadata": {},
            "execution_count": null,
            "source": "norm(b, -np.inf)",
            "outputs": [
                {
                    "output_type": "execute_result",
                    "metadata": {},
                    "data": {
                        "text/plain": "2"
                    },
                    "execution_count": null
                }
            ]
        },
        {
            "id": "f4a8b6ca",
            "cell_type": "code",
            "metadata": {},
            "execution_count": null,
            "source": "norm(a, 1)",
            "outputs": [
                {
                    "output_type": "execute_result",
                    "metadata": {},
                    "data": {
                        "text/plain": "20"
                    },
                    "execution_count": null
                }
            ]
        },
        {
            "id": "1705c7df",
            "cell_type": "code",
            "metadata": {},
            "execution_count": null,
            "source": "norm(b, 1)",
            "outputs": [
                {
                    "output_type": "execute_result",
                    "metadata": {},
                    "data": {
                        "text/plain": "7"
                    },
                    "execution_count": null
                }
            ]
        },
        {
            "id": "04ff7d44",
            "cell_type": "code",
            "metadata": {},
            "execution_count": null,
            "source": "norm(a, -1)",
            "outputs": [
                {
                    "output_type": "execute_result",
                    "metadata": {},
                    "data": {
                        "text/plain": "-4.6566128774142013e-010"
                    },
                    "execution_count": null
                }
            ]
        },
        {
            "id": "a3e2f29f",
            "cell_type": "code",
            "metadata": {},
            "execution_count": null,
            "source": "norm(b, -1)",
            "outputs": [
                {
                    "output_type": "execute_result",
                    "metadata": {},
                    "data": {
                        "text/plain": "6"
                    },
                    "execution_count": null
                }
            ]
        },
        {
            "id": "bd7b142d",
            "cell_type": "code",
            "metadata": {},
            "execution_count": null,
            "source": "norm(a, 2)",
            "outputs": [
                {
                    "output_type": "execute_result",
                    "metadata": {},
                    "data": {
                        "text/plain": "7.745966692414834"
                    },
                    "execution_count": null
                }
            ]
        },
        {
            "id": "fab55f9c",
            "cell_type": "code",
            "metadata": {},
            "execution_count": null,
            "source": "norm(b, 2)",
            "outputs": [
                {
                    "output_type": "execute_result",
                    "metadata": {},
                    "data": {
                        "text/plain": "7.3484692283495345"
                    },
                    "execution_count": null
                }
            ]
        },
        {
            "id": "7fa8cd5c",
            "cell_type": "code",
            "metadata": {},
            "execution_count": null,
            "source": "norm(a, -2)",
            "outputs": [
                {
                    "output_type": "execute_result",
                    "metadata": {},
                    "data": {
                        "text/plain": "0"
                    },
                    "execution_count": null
                }
            ]
        },
        {
            "id": "abb87ab4",
            "cell_type": "code",
            "metadata": {},
            "execution_count": null,
            "source": "norm(b, -2)",
            "outputs": [
                {
                    "output_type": "execute_result",
                    "metadata": {},
                    "data": {
                        "text/plain": "1.8570331885190563e-016"
                    },
                    "execution_count": null
                }
            ]
        },
        {
            "id": "e1b2a520",
            "cell_type": "code",
            "metadata": {},
            "execution_count": null,
            "source": "norm(a, 3)",
            "outputs": [
                {
                    "output_type": "execute_result",
                    "metadata": {},
                    "data": {
                        "text/plain": "5.8480354764257312"
                    },
                    "execution_count": null
                }
            ]
        },
        {
            "id": "5c70e5d8",
            "cell_type": "code",
            "metadata": {},
            "execution_count": null,
            "source": "norm(a, -3)",
            "outputs": [
                {
                    "output_type": "execute_result",
                    "metadata": {},
                    "data": {
                        "text/plain": "0"
                    },
                    "execution_count": null
                }
            ]
        }
    ]
}