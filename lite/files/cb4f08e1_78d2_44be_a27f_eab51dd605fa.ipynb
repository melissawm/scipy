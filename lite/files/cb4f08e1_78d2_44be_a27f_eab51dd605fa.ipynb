{
    "nbformat": 4,
    "nbformat_minor": 5,
    "metadata": {
        "kernelspec": {
            "display_name": "Python",
            "language": "python",
            "name": "python"
        },
        "language_info": {
            "name": "python"
        }
    },
    "cells": [
        {
            "id": "fff39be0",
            "cell_type": "markdown",
            "source": "<div class='alert alert-warning'>\n\nSciPy's interactive examples with Jupyterlite are experimental and may not always work as expected. Execution of cells containing imports may result in large downloads (up to 60MB of content for the first import from SciPy). Load times when importing from SciPy may take roughly 10-20 seconds. If you notice any problems, feel free to open an [issue](https://github.com/scipy/scipy/issues/new/choose).\n\n</div>",
            "metadata": {}
        },
        {
            "id": "b7149f0d",
            "cell_type": "code",
            "metadata": {},
            "execution_count": null,
            "source": "import numpy as np\nimport matplotlib.pyplot as plt\nrng = np.random.default_rng()",
            "outputs": []
        },
        {
            "id": "6bb920af",
            "cell_type": "markdown",
            "source": "First define some input parameters for the signal:\n",
            "metadata": {}
        },
        {
            "id": "828c4c4a",
            "cell_type": "code",
            "metadata": {},
            "execution_count": null,
            "source": "A = 2.\nw0 = 1.  # rad/sec\nnin = 150\nnout = 100000",
            "outputs": []
        },
        {
            "id": "6c1e7cba",
            "cell_type": "markdown",
            "source": "Randomly generate sample times:\n",
            "metadata": {}
        },
        {
            "id": "9916bda3",
            "cell_type": "code",
            "metadata": {},
            "execution_count": null,
            "source": "x = rng.uniform(0, 10*np.pi, nin)",
            "outputs": []
        },
        {
            "id": "49867c3d",
            "cell_type": "markdown",
            "source": "Plot a sine wave for the selected times:\n",
            "metadata": {}
        },
        {
            "id": "b7fe0e34",
            "cell_type": "code",
            "metadata": {},
            "execution_count": null,
            "source": "y = A * np.cos(w0*x)",
            "outputs": []
        },
        {
            "id": "7ee33685",
            "cell_type": "markdown",
            "source": "Define the array of frequencies for which to compute the periodogram:\n",
            "metadata": {}
        },
        {
            "id": "9f9197c4",
            "cell_type": "code",
            "metadata": {},
            "execution_count": null,
            "source": "w = np.linspace(0.01, 10, nout)",
            "outputs": []
        },
        {
            "id": "89f96b91",
            "cell_type": "markdown",
            "source": "Calculate Lomb-Scargle periodogram:\n",
            "metadata": {}
        },
        {
            "id": "1769f645",
            "cell_type": "code",
            "metadata": {},
            "execution_count": null,
            "source": "import scipy.signal as signal\npgram = signal.lombscargle(x, y, w, normalize=True)",
            "outputs": []
        },
        {
            "id": "53c38421",
            "cell_type": "markdown",
            "source": "Now make a plot of the input data:\n",
            "metadata": {}
        },
        {
            "id": "a95e8b83",
            "cell_type": "code",
            "metadata": {},
            "execution_count": null,
            "source": "fig, (ax_t, ax_w) = plt.subplots(2, 1, constrained_layout=True)\nax_t.plot(x, y, 'b+')\nax_t.set_xlabel('Time [s]')",
            "outputs": []
        },
        {
            "id": "8318aef1",
            "cell_type": "markdown",
            "source": "Then plot the normalized periodogram:\n",
            "metadata": {}
        },
        {
            "id": "f7bceeb9",
            "cell_type": "code",
            "metadata": {},
            "execution_count": null,
            "source": "ax_w.plot(w, pgram)\nax_w.set_xlabel('Angular frequency [rad/s]')\nax_w.set_ylabel('Normalized amplitude')\nplt.show()",
            "outputs": []
        }
    ]
}