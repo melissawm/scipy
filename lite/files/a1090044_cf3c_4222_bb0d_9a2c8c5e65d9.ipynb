{
    "nbformat": 4,
    "nbformat_minor": 5,
    "metadata": {
        "kernelspec": {
            "display_name": "Python",
            "language": "python",
            "name": "python"
        },
        "language_info": {
            "name": "python"
        }
    },
    "cells": [
        {
            "id": "dd885897",
            "cell_type": "markdown",
            "source": "<div class='alert alert-warning'>\n\nSciPy's interactive examples with Jupyterlite are experimental and may not always work as expected. Execution of cells containing imports may result in large downloads (up to 60MB of content for the first import from SciPy). Load times when importing from SciPy may take roughly 10-20 seconds. If you notice any problems, feel free to open an [issue](https://github.com/scipy/scipy/issues/new/choose).\n\n</div>",
            "metadata": {}
        },
        {
            "id": "9210b440",
            "cell_type": "code",
            "metadata": {},
            "execution_count": null,
            "source": "import scipy.special as sc",
            "outputs": []
        },
        {
            "id": "46eeb7d7",
            "cell_type": "markdown",
            "source": "It starts at 0 and monotonically increases to infinity.\n",
            "metadata": {}
        },
        {
            "id": "02c074b4",
            "cell_type": "code",
            "metadata": {},
            "execution_count": null,
            "source": "sc.gammaincinv(0.5, [0, 0.1 ,0.5, 1])",
            "outputs": [
                {
                    "output_type": "execute_result",
                    "metadata": {},
                    "data": {
                        "text/plain": "array([0.        , 0.00789539, 0.22746821,        inf])"
                    },
                    "execution_count": null
                }
            ]
        },
        {
            "id": "b27eaae6",
            "cell_type": "markdown",
            "source": "It inverts the lower incomplete gamma function.\n",
            "metadata": {}
        },
        {
            "id": "1b8a00e3",
            "cell_type": "code",
            "metadata": {},
            "execution_count": null,
            "source": "a, x = 0.5, [0, 0.1, 0.5, 1]\nsc.gammainc(a, sc.gammaincinv(a, x))",
            "outputs": [
                {
                    "output_type": "execute_result",
                    "metadata": {},
                    "data": {
                        "text/plain": "array([0. , 0.1, 0.5, 1. ])"
                    },
                    "execution_count": null
                }
            ]
        },
        {
            "id": "f39eac16",
            "cell_type": "code",
            "metadata": {},
            "execution_count": null,
            "source": "a, x = 0.5, [0, 10, 25]\nsc.gammaincinv(a, sc.gammainc(a, x))",
            "outputs": [
                {
                    "output_type": "execute_result",
                    "metadata": {},
                    "data": {
                        "text/plain": "array([ 0.        , 10.        , 25.00001465])"
                    },
                    "execution_count": null
                }
            ]
        }
    ]
}