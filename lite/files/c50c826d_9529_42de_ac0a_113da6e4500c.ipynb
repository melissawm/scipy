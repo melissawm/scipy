{
    "nbformat": 4,
    "nbformat_minor": 5,
    "metadata": {
        "kernelspec": {
            "display_name": "Python",
            "language": "python",
            "name": "python"
        },
        "language_info": {
            "name": "python"
        }
    },
    "cells": [
        {
            "id": "d0bd752b",
            "cell_type": "markdown",
            "source": "<div class='alert alert-warning'>\n\nSciPy's interactive examples with Jupyterlite are experimental and may not always work as expected. Execution of cells containing imports may result in large downloads (up to 60MB of content for the first import from SciPy). Load times when importing from SciPy may take roughly 10-20 seconds. If you notice any problems, feel free to open an [issue](https://github.com/scipy/scipy/issues/new/choose).\n\n</div>",
            "metadata": {}
        },
        {
            "id": "8c822522",
            "cell_type": "markdown",
            "source": "First evaluate `gdtr`.\n",
            "metadata": {}
        },
        {
            "id": "5656ac5a",
            "cell_type": "code",
            "metadata": {},
            "execution_count": null,
            "source": "from scipy.special import gdtr, gdtrib\np = gdtr(1.2, 3.4, 5.6)\nprint(p)",
            "outputs": [
                {
                    "output_type": "execute_result",
                    "metadata": {},
                    "data": {
                        "text/plain": "0.94378087442"
                    },
                    "execution_count": null
                }
            ]
        },
        {
            "id": "6dd3c9c7",
            "cell_type": "markdown",
            "source": "Verify the inverse.\n",
            "metadata": {}
        },
        {
            "id": "ae9357ac",
            "cell_type": "code",
            "metadata": {},
            "execution_count": null,
            "source": "gdtrib(1.2, p, 5.6)",
            "outputs": [
                {
                    "output_type": "execute_result",
                    "metadata": {},
                    "data": {
                        "text/plain": "3.3999999999723882"
                    },
                    "execution_count": null
                }
            ]
        }
    ]
}