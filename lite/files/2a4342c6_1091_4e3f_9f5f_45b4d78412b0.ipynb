{
    "nbformat": 4,
    "nbformat_minor": 5,
    "metadata": {
        "kernelspec": {
            "display_name": "Python",
            "language": "python",
            "name": "python"
        },
        "language_info": {
            "name": "python"
        }
    },
    "cells": [
        {
            "id": "917b1503",
            "cell_type": "markdown",
            "source": "<div class='alert alert-warning'>\n\nSciPy's interactive examples with Jupyterlite are experimental and may not always work as expected. Execution of cells containing imports may result in large downloads (up to 60MB of content for the first import from SciPy). Load times when importing from SciPy may take roughly 10-20 seconds. If you notice any problems, feel free to open an [issue](https://github.com/scipy/scipy/issues/new/choose).\n\n</div>",
            "metadata": {}
        },
        {
            "id": "43fd77a5",
            "cell_type": "code",
            "metadata": {},
            "execution_count": null,
            "source": "import numpy as np\nimport scipy.special as sc",
            "outputs": []
        },
        {
            "id": "e4c20b10",
            "cell_type": "markdown",
            "source": "It is more accurate than using ``log(1 + x)`` directly for ``x``\nnear 0. Note that in the below example ``1 + 1e-17 == 1`` to\ndouble precision.\n",
            "metadata": {}
        },
        {
            "id": "25849d97",
            "cell_type": "code",
            "metadata": {},
            "execution_count": null,
            "source": "sc.log1p(1e-17)",
            "outputs": [
                {
                    "output_type": "execute_result",
                    "metadata": {},
                    "data": {
                        "text/plain": "1e-17"
                    },
                    "execution_count": null
                }
            ]
        },
        {
            "id": "f8cfe14c",
            "cell_type": "code",
            "metadata": {},
            "execution_count": null,
            "source": "np.log(1 + 1e-17)",
            "outputs": [
                {
                    "output_type": "execute_result",
                    "metadata": {},
                    "data": {
                        "text/plain": "0.0"
                    },
                    "execution_count": null
                }
            ]
        }
    ]
}