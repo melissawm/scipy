{
    "nbformat": 4,
    "nbformat_minor": 5,
    "metadata": {
        "kernelspec": {
            "display_name": "Python",
            "language": "python",
            "name": "python"
        },
        "language_info": {
            "name": "python"
        }
    },
    "cells": [
        {
            "id": "cedf6afc",
            "cell_type": "markdown",
            "source": "<div class='alert alert-warning'>\n\nSciPy's interactive examples with Jupyterlite are experimental and may not always work as expected. Execution of cells containing imports may result in large downloads (up to 60MB of content for the first import from SciPy). Load times when importing from SciPy may take roughly 10-20 seconds. If you notice any problems, feel free to open an [issue](https://github.com/scipy/scipy/issues/new/choose).\n\n</div>",
            "metadata": {}
        },
        {
            "id": "f8f7a732",
            "cell_type": "markdown",
            "source": "Three-quarters of the given values lie below a given score:\n",
            "metadata": {}
        },
        {
            "id": "c92cbe1d",
            "cell_type": "code",
            "metadata": {},
            "execution_count": null,
            "source": "import numpy as np\nfrom scipy import stats\nstats.percentileofscore([1, 2, 3, 4], 3)",
            "outputs": [
                {
                    "output_type": "execute_result",
                    "metadata": {},
                    "data": {
                        "text/plain": "75.0"
                    },
                    "execution_count": null
                }
            ]
        },
        {
            "id": "58fd3613",
            "cell_type": "markdown",
            "source": "With multiple matches, note how the scores of the two matches, 0.6\nand 0.8 respectively, are averaged:\n",
            "metadata": {}
        },
        {
            "id": "671c1519",
            "cell_type": "code",
            "metadata": {},
            "execution_count": null,
            "source": "stats.percentileofscore([1, 2, 3, 3, 4], 3)",
            "outputs": [
                {
                    "output_type": "execute_result",
                    "metadata": {},
                    "data": {
                        "text/plain": "70.0"
                    },
                    "execution_count": null
                }
            ]
        },
        {
            "id": "c0c3c73a",
            "cell_type": "markdown",
            "source": "Only 2/5 values are strictly less than 3:\n",
            "metadata": {}
        },
        {
            "id": "ded28519",
            "cell_type": "code",
            "metadata": {},
            "execution_count": null,
            "source": "stats.percentileofscore([1, 2, 3, 3, 4], 3, kind='strict')",
            "outputs": [
                {
                    "output_type": "execute_result",
                    "metadata": {},
                    "data": {
                        "text/plain": "40.0"
                    },
                    "execution_count": null
                }
            ]
        },
        {
            "id": "19e58c27",
            "cell_type": "markdown",
            "source": "But 4/5 values are less than or equal to 3:\n",
            "metadata": {}
        },
        {
            "id": "c0d51812",
            "cell_type": "code",
            "metadata": {},
            "execution_count": null,
            "source": "stats.percentileofscore([1, 2, 3, 3, 4], 3, kind='weak')",
            "outputs": [
                {
                    "output_type": "execute_result",
                    "metadata": {},
                    "data": {
                        "text/plain": "80.0"
                    },
                    "execution_count": null
                }
            ]
        },
        {
            "id": "0d5ba372",
            "cell_type": "markdown",
            "source": "The average between the weak and the strict scores is:\n",
            "metadata": {}
        },
        {
            "id": "32038e37",
            "cell_type": "code",
            "metadata": {},
            "execution_count": null,
            "source": "stats.percentileofscore([1, 2, 3, 3, 4], 3, kind='mean')",
            "outputs": [
                {
                    "output_type": "execute_result",
                    "metadata": {},
                    "data": {
                        "text/plain": "60.0"
                    },
                    "execution_count": null
                }
            ]
        },
        {
            "id": "f59ab516",
            "cell_type": "markdown",
            "source": "Score arrays (of any dimensionality) are supported:\n",
            "metadata": {}
        },
        {
            "id": "0f3e4b2b",
            "cell_type": "code",
            "metadata": {},
            "execution_count": null,
            "source": "stats.percentileofscore([1, 2, 3, 3, 4], [2, 3])",
            "outputs": [
                {
                    "output_type": "execute_result",
                    "metadata": {},
                    "data": {
                        "text/plain": "array([40., 70.])"
                    },
                    "execution_count": null
                }
            ]
        },
        {
            "id": "5354054b",
            "cell_type": "markdown",
            "source": "The inputs can be infinite:\n",
            "metadata": {}
        },
        {
            "id": "d25b870a",
            "cell_type": "code",
            "metadata": {},
            "execution_count": null,
            "source": "stats.percentileofscore([-np.inf, 0, 1, np.inf], [1, 2, np.inf])",
            "outputs": [
                {
                    "output_type": "execute_result",
                    "metadata": {},
                    "data": {
                        "text/plain": "array([75., 75., 100.])"
                    },
                    "execution_count": null
                }
            ]
        },
        {
            "id": "b747bc14",
            "cell_type": "markdown",
            "source": "If `a` is empty, then the resulting percentiles are all `nan`:\n",
            "metadata": {}
        },
        {
            "id": "44e1ff65",
            "cell_type": "code",
            "metadata": {},
            "execution_count": null,
            "source": "stats.percentileofscore([], [1, 2])",
            "outputs": [
                {
                    "output_type": "execute_result",
                    "metadata": {},
                    "data": {
                        "text/plain": "array([nan, nan])"
                    },
                    "execution_count": null
                }
            ]
        }
    ]
}