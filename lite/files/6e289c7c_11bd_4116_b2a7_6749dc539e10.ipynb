{
    "nbformat": 4,
    "nbformat_minor": 5,
    "metadata": {
        "kernelspec": {
            "display_name": "Python",
            "language": "python",
            "name": "python"
        },
        "language_info": {
            "name": "python"
        }
    },
    "cells": [
        {
            "id": "743939cd",
            "cell_type": "markdown",
            "source": "<div class='alert alert-warning'>\n\nSciPy's interactive examples with Jupyterlite are experimental and may not always work as expected. Execution of cells containing imports may result in large downloads (up to 60MB of content for the first import from SciPy). Load times when importing from SciPy may take roughly 10-20 seconds. If you notice any problems, feel free to open an [issue](https://github.com/scipy/scipy/issues/new/choose).\n\n</div>",
            "metadata": {}
        },
        {
            "id": "2527aa75",
            "cell_type": "code",
            "metadata": {},
            "execution_count": null,
            "source": "from scipy.spatial import distance\ndistance.minkowski([1, 0, 0], [0, 1, 0], 1)",
            "outputs": [
                {
                    "output_type": "execute_result",
                    "metadata": {},
                    "data": {
                        "text/plain": "2.0"
                    },
                    "execution_count": null
                }
            ]
        },
        {
            "id": "7b5b1611",
            "cell_type": "code",
            "metadata": {},
            "execution_count": null,
            "source": "distance.minkowski([1, 0, 0], [0, 1, 0], 2)",
            "outputs": [
                {
                    "output_type": "execute_result",
                    "metadata": {},
                    "data": {
                        "text/plain": "1.4142135623730951"
                    },
                    "execution_count": null
                }
            ]
        },
        {
            "id": "4fadd6bf",
            "cell_type": "code",
            "metadata": {},
            "execution_count": null,
            "source": "distance.minkowski([1, 0, 0], [0, 1, 0], 3)",
            "outputs": [
                {
                    "output_type": "execute_result",
                    "metadata": {},
                    "data": {
                        "text/plain": "1.2599210498948732"
                    },
                    "execution_count": null
                }
            ]
        },
        {
            "id": "d9992e97",
            "cell_type": "code",
            "metadata": {},
            "execution_count": null,
            "source": "distance.minkowski([1, 1, 0], [0, 1, 0], 1)",
            "outputs": [
                {
                    "output_type": "execute_result",
                    "metadata": {},
                    "data": {
                        "text/plain": "1.0"
                    },
                    "execution_count": null
                }
            ]
        },
        {
            "id": "8b361d52",
            "cell_type": "code",
            "metadata": {},
            "execution_count": null,
            "source": "distance.minkowski([1, 1, 0], [0, 1, 0], 2)",
            "outputs": [
                {
                    "output_type": "execute_result",
                    "metadata": {},
                    "data": {
                        "text/plain": "1.0"
                    },
                    "execution_count": null
                }
            ]
        },
        {
            "id": "cf831751",
            "cell_type": "code",
            "metadata": {},
            "execution_count": null,
            "source": "distance.minkowski([1, 1, 0], [0, 1, 0], 3)",
            "outputs": [
                {
                    "output_type": "execute_result",
                    "metadata": {},
                    "data": {
                        "text/plain": "1.0"
                    },
                    "execution_count": null
                }
            ]
        }
    ]
}