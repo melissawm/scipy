{
    "nbformat": 4,
    "nbformat_minor": 5,
    "metadata": {
        "kernelspec": {
            "display_name": "Python",
            "language": "python",
            "name": "python"
        },
        "language_info": {
            "name": "python"
        }
    },
    "cells": [
        {
            "id": "cb4f8452",
            "cell_type": "markdown",
            "source": "<div class='alert alert-warning'>\n\nSciPy's interactive examples with Jupyterlite are experimental and may not always work as expected. Execution of cells containing imports may result in large downloads (up to 60MB of content for the first import from SciPy). Load times when importing from SciPy may take roughly 10-20 seconds. If you notice any problems, feel free to open an [issue](https://github.com/scipy/scipy/issues/new/choose).\n\n</div>",
            "metadata": {}
        },
        {
            "id": "8f022a02",
            "cell_type": "code",
            "metadata": {},
            "execution_count": null,
            "source": "import numpy as np\nfrom scipy.sparse import csr_matrix\nfrom scipy.sparse.csgraph import reconstruct_path",
            "outputs": []
        },
        {
            "id": "e51b7593",
            "cell_type": "code",
            "metadata": {},
            "execution_count": null,
            "source": "graph = [\n[0, 1, 2, 0],\n[0, 0, 0, 1],\n[0, 0, 0, 3],\n[0, 0, 0, 0]\n]\ngraph = csr_matrix(graph)\nprint(graph)",
            "outputs": [
                {
                    "output_type": "execute_result",
                    "metadata": {},
                    "data": {
                        "text/plain": "   (np.int32(0), np.int32(1))       1\n   (np.int32(0), np.int32(2))       2\n   (np.int32(1), np.int32(3))       1\n   (np.int32(2), np.int32(3))       3"
                    },
                    "execution_count": null
                }
            ]
        },
        {
            "id": "9a31f55c",
            "cell_type": "code",
            "metadata": {},
            "execution_count": null,
            "source": "pred = np.array([-9999, 0, 0, 1], dtype=np.int32)",
            "outputs": []
        },
        {
            "id": "11b7ae4b",
            "cell_type": "code",
            "metadata": {},
            "execution_count": null,
            "source": "cstree = reconstruct_path(csgraph=graph, predecessors=pred, directed=False)\ncstree.todense()",
            "outputs": [
                {
                    "output_type": "execute_result",
                    "metadata": {},
                    "data": {
                        "text/plain": "matrix([[0., 1., 2., 0.],\n        [0., 0., 0., 1.],\n        [0., 0., 0., 0.],\n        [0., 0., 0., 0.]])"
                    },
                    "execution_count": null
                }
            ]
        }
    ]
}