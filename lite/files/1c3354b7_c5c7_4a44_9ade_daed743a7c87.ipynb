{
    "nbformat": 4,
    "nbformat_minor": 5,
    "metadata": {
        "kernelspec": {
            "display_name": "Python",
            "language": "python",
            "name": "python"
        },
        "language_info": {
            "name": "python"
        }
    },
    "cells": [
        {
            "id": "eed6da43",
            "cell_type": "markdown",
            "source": "<div class='alert alert-warning'>\n\nSciPy's interactive examples with Jupyterlite are experimental and may not always work as expected. Execution of cells containing imports may result in large downloads (up to 60MB of content for the first import from SciPy). Load times when importing from SciPy may take roughly 10-20 seconds. If you notice any problems, feel free to open an [issue](https://github.com/scipy/scipy/issues/new/choose).\n\n</div>",
            "metadata": {}
        },
        {
            "id": "b6d71243",
            "cell_type": "markdown",
            "source": "`fminbound` finds the minimizer of the function in the given range.\nThe following examples illustrate this.\n",
            "metadata": {}
        },
        {
            "id": "eb0bee1b",
            "cell_type": "code",
            "metadata": {},
            "execution_count": null,
            "source": "from scipy import optimize\ndef f(x):\n    return (x-1)**2\nminimizer = optimize.fminbound(f, -4, 4)\nminimizer",
            "outputs": [
                {
                    "output_type": "execute_result",
                    "metadata": {},
                    "data": {
                        "text/plain": "1.0"
                    },
                    "execution_count": null
                }
            ]
        },
        {
            "id": "38a74181",
            "cell_type": "code",
            "metadata": {},
            "execution_count": null,
            "source": "minimum = f(minimizer)\nminimum",
            "outputs": [
                {
                    "output_type": "execute_result",
                    "metadata": {},
                    "data": {
                        "text/plain": "0.0"
                    },
                    "execution_count": null
                }
            ]
        },
        {
            "id": "c1f65833",
            "cell_type": "code",
            "metadata": {},
            "execution_count": null,
            "source": "res = optimize.fminbound(f, 3, 4, full_output=True)\nminimizer, fval, ierr, numfunc = res\nminimizer",
            "outputs": [
                {
                    "output_type": "execute_result",
                    "metadata": {},
                    "data": {
                        "text/plain": "3.000005960860986"
                    },
                    "execution_count": null
                }
            ]
        },
        {
            "id": "575a9f80",
            "cell_type": "code",
            "metadata": {},
            "execution_count": null,
            "source": "minimum = f(minimizer)\nminimum, fval",
            "outputs": [
                {
                    "output_type": "execute_result",
                    "metadata": {},
                    "data": {
                        "text/plain": "(4.000023843479476, 4.000023843479476)"
                    },
                    "execution_count": null
                }
            ]
        }
    ]
}