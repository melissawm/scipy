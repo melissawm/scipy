{
    "nbformat": 4,
    "nbformat_minor": 5,
    "metadata": {
        "kernelspec": {
            "display_name": "Python",
            "language": "python",
            "name": "python"
        },
        "language_info": {
            "name": "python"
        }
    },
    "cells": [
        {
            "id": "a8b1a0fb",
            "cell_type": "markdown",
            "source": "<div class='alert alert-warning'>\n\nSciPy's interactive examples with Jupyterlite are experimental and may not always work as expected. Execution of cells containing imports may result in large downloads (up to 60MB of content for the first import from SciPy). Load times when importing from SciPy may take roughly 10-20 seconds. If you notice any problems, feel free to open an [issue](https://github.com/scipy/scipy/issues/new/choose).\n\n</div>",
            "metadata": {}
        },
        {
            "id": "ab62ce27",
            "cell_type": "code",
            "metadata": {},
            "execution_count": null,
            "source": "import scipy.special as sc",
            "outputs": []
        },
        {
            "id": "ac377657",
            "cell_type": "markdown",
            "source": "The beta function relates to the gamma function by the\ndefinition given above:\n",
            "metadata": {}
        },
        {
            "id": "fe5c3785",
            "cell_type": "code",
            "metadata": {},
            "execution_count": null,
            "source": "sc.beta(2, 3)",
            "outputs": [
                {
                    "output_type": "execute_result",
                    "metadata": {},
                    "data": {
                        "text/plain": "0.08333333333333333"
                    },
                    "execution_count": null
                }
            ]
        },
        {
            "id": "d2a46058",
            "cell_type": "code",
            "metadata": {},
            "execution_count": null,
            "source": "sc.gamma(2)*sc.gamma(3)/sc.gamma(2 + 3)",
            "outputs": [
                {
                    "output_type": "execute_result",
                    "metadata": {},
                    "data": {
                        "text/plain": "0.08333333333333333"
                    },
                    "execution_count": null
                }
            ]
        },
        {
            "id": "bbc59ed0",
            "cell_type": "markdown",
            "source": "As this relationship demonstrates, the beta function\nis symmetric:\n",
            "metadata": {}
        },
        {
            "id": "0ee414cb",
            "cell_type": "code",
            "metadata": {},
            "execution_count": null,
            "source": "sc.beta(1.7, 2.4)",
            "outputs": [
                {
                    "output_type": "execute_result",
                    "metadata": {},
                    "data": {
                        "text/plain": "0.16567527689031739"
                    },
                    "execution_count": null
                }
            ]
        },
        {
            "id": "16d2a48f",
            "cell_type": "code",
            "metadata": {},
            "execution_count": null,
            "source": "sc.beta(2.4, 1.7)",
            "outputs": [
                {
                    "output_type": "execute_result",
                    "metadata": {},
                    "data": {
                        "text/plain": "0.16567527689031739"
                    },
                    "execution_count": null
                }
            ]
        },
        {
            "id": "daa89d3a",
            "cell_type": "markdown",
            "source": "This function satisfies $B(1, b) = 1/b$:\n",
            "metadata": {}
        },
        {
            "id": "e7edb717",
            "cell_type": "code",
            "metadata": {},
            "execution_count": null,
            "source": "sc.beta(1, 4)",
            "outputs": [
                {
                    "output_type": "execute_result",
                    "metadata": {},
                    "data": {
                        "text/plain": "0.25"
                    },
                    "execution_count": null
                }
            ]
        }
    ]
}