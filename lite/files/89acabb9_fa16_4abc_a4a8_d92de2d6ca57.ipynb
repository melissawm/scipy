{
    "nbformat": 4,
    "nbformat_minor": 5,
    "metadata": {
        "kernelspec": {
            "display_name": "Python",
            "language": "python",
            "name": "python"
        },
        "language_info": {
            "name": "python"
        }
    },
    "cells": [
        {
            "id": "be322440",
            "cell_type": "markdown",
            "source": "<div class='alert alert-warning'>\n\nSciPy's interactive examples with Jupyterlite are experimental and may not always work as expected. Execution of cells containing imports may result in large downloads (up to 60MB of content for the first import from SciPy). Load times when importing from SciPy may take roughly 10-20 seconds. If you notice any problems, feel free to open an [issue](https://github.com/scipy/scipy/issues/new/choose).\n\n</div>",
            "metadata": {}
        },
        {
            "id": "5edb3860",
            "cell_type": "code",
            "metadata": {},
            "execution_count": null,
            "source": "import scipy.special as sc",
            "outputs": []
        },
        {
            "id": "33aba108",
            "cell_type": "markdown",
            "source": "Compute the CDF for several values of `k`:\n",
            "metadata": {}
        },
        {
            "id": "5068db04",
            "cell_type": "code",
            "metadata": {},
            "execution_count": null,
            "source": "k = [1, 2, 3]\np = sc.pdtr(k, 2)\np",
            "outputs": [
                {
                    "output_type": "execute_result",
                    "metadata": {},
                    "data": {
                        "text/plain": "array([0.40600585, 0.67667642, 0.85712346])"
                    },
                    "execution_count": null
                }
            ]
        },
        {
            "id": "a742555d",
            "cell_type": "markdown",
            "source": "Compute the inverse. We recover the values of `k`, as expected:\n",
            "metadata": {}
        },
        {
            "id": "36e00bbc",
            "cell_type": "code",
            "metadata": {},
            "execution_count": null,
            "source": "sc.pdtrik(p, 2)",
            "outputs": [
                {
                    "output_type": "execute_result",
                    "metadata": {},
                    "data": {
                        "text/plain": "array([1., 2., 3.])"
                    },
                    "execution_count": null
                }
            ]
        }
    ]
}