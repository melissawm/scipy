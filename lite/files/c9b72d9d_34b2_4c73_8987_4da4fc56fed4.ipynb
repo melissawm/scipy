{
    "nbformat": 4,
    "nbformat_minor": 5,
    "metadata": {
        "kernelspec": {
            "display_name": "Python",
            "language": "python",
            "name": "python"
        },
        "language_info": {
            "name": "python"
        }
    },
    "cells": [
        {
            "id": "b02b4305",
            "cell_type": "markdown",
            "source": "<div class='alert alert-warning'>\n\nSciPy's interactive examples with Jupyterlite are experimental and may not always work as expected. Execution of cells containing imports may result in large downloads (up to 60MB of content for the first import from SciPy). Load times when importing from SciPy may take roughly 10-20 seconds. If you notice any problems, feel free to open an [issue](https://github.com/scipy/scipy/issues/new/choose).\n\n</div>",
            "metadata": {}
        },
        {
            "id": "c614c512",
            "cell_type": "code",
            "metadata": {},
            "execution_count": null,
            "source": "import numpy as np\nfrom scipy.sparse.linalg import LaplacianNd\nfrom scipy.sparse import diags, csgraph\nfrom scipy.linalg import eigvalsh",
            "outputs": []
        },
        {
            "id": "674c9204",
            "cell_type": "markdown",
            "source": "The one-dimensional Laplacian demonstrated below for pure Neumann boundary\nconditions on a regular grid with ``n=6`` grid points is exactly the\nnegative graph Laplacian for the undirected linear graph with ``n``\nvertices using the sparse adjacency matrix ``G`` represented by the\nfamous tri-diagonal matrix:\n",
            "metadata": {}
        },
        {
            "id": "b41fb823",
            "cell_type": "code",
            "metadata": {},
            "execution_count": null,
            "source": "n = 6\nG = diags(np.ones(n - 1), 1, format='csr')\nLf = csgraph.laplacian(G, symmetrized=True, form='function')\ngrid_shape = (n, )\nlap = LaplacianNd(grid_shape, boundary_conditions='neumann')\nnp.array_equal(lap.matmat(np.eye(n)), -Lf(np.eye(n)))",
            "outputs": [
                {
                    "output_type": "execute_result",
                    "metadata": {},
                    "data": {
                        "text/plain": "True"
                    },
                    "execution_count": null
                }
            ]
        },
        {
            "id": "a5fceb39",
            "cell_type": "markdown",
            "source": "Since all matrix entries of the Laplacian are integers, ``'int8'`` is\nthe default dtype for storing matrix representations.\n",
            "metadata": {}
        },
        {
            "id": "d33a6396",
            "cell_type": "code",
            "metadata": {},
            "execution_count": null,
            "source": "lap.tosparse()",
            "outputs": [
                {
                    "output_type": "execute_result",
                    "metadata": {},
                    "data": {
                        "text/plain": "<DIAgonal sparse array of dtype 'int8'\n    with 16 stored elements (3 diagonals) and shape (6, 6)>"
                    },
                    "execution_count": null
                }
            ]
        },
        {
            "id": "3dc691b3",
            "cell_type": "code",
            "metadata": {},
            "execution_count": null,
            "source": "lap.toarray()",
            "outputs": [
                {
                    "output_type": "execute_result",
                    "metadata": {},
                    "data": {
                        "text/plain": "array([[-1,  1,  0,  0,  0,  0],\n       [ 1, -2,  1,  0,  0,  0],\n       [ 0,  1, -2,  1,  0,  0],\n       [ 0,  0,  1, -2,  1,  0],\n       [ 0,  0,  0,  1, -2,  1],\n       [ 0,  0,  0,  0,  1, -1]], dtype=int8)"
                    },
                    "execution_count": null
                }
            ]
        },
        {
            "id": "17f96faf",
            "cell_type": "code",
            "metadata": {},
            "execution_count": null,
            "source": "np.array_equal(lap.matmat(np.eye(n)), lap.toarray())",
            "outputs": [
                {
                    "output_type": "execute_result",
                    "metadata": {},
                    "data": {
                        "text/plain": "True"
                    },
                    "execution_count": null
                }
            ]
        },
        {
            "id": "758b210e",
            "cell_type": "code",
            "metadata": {},
            "execution_count": null,
            "source": "np.array_equal(lap.tosparse().toarray(), lap.toarray())",
            "outputs": [
                {
                    "output_type": "execute_result",
                    "metadata": {},
                    "data": {
                        "text/plain": "True"
                    },
                    "execution_count": null
                }
            ]
        },
        {
            "id": "4a77acd0",
            "cell_type": "markdown",
            "source": "Any number of extreme eigenvalues and/or eigenvectors can be computed.\n",
            "metadata": {}
        },
        {
            "id": "4da63dee",
            "cell_type": "code",
            "metadata": {},
            "execution_count": null,
            "source": "lap = LaplacianNd(grid_shape, boundary_conditions='periodic')\nlap.eigenvalues()",
            "outputs": [
                {
                    "output_type": "execute_result",
                    "metadata": {},
                    "data": {
                        "text/plain": "array([-4., -3., -3., -1., -1.,  0.])"
                    },
                    "execution_count": null
                }
            ]
        },
        {
            "id": "29fce28d",
            "cell_type": "code",
            "metadata": {},
            "execution_count": null,
            "source": "lap.eigenvalues()[-2:]",
            "outputs": [
                {
                    "output_type": "execute_result",
                    "metadata": {},
                    "data": {
                        "text/plain": "array([-1.,  0.])"
                    },
                    "execution_count": null
                }
            ]
        },
        {
            "id": "800a0411",
            "cell_type": "code",
            "metadata": {},
            "execution_count": null,
            "source": "lap.eigenvalues(2)",
            "outputs": [
                {
                    "output_type": "execute_result",
                    "metadata": {},
                    "data": {
                        "text/plain": "array([-1.,  0.])"
                    },
                    "execution_count": null
                }
            ]
        },
        {
            "id": "643b3a94",
            "cell_type": "code",
            "metadata": {},
            "execution_count": null,
            "source": "lap.eigenvectors(1)",
            "outputs": [
                {
                    "output_type": "execute_result",
                    "metadata": {},
                    "data": {
                        "text/plain": "array([[0.40824829],\n       [0.40824829],\n       [0.40824829],\n       [0.40824829],\n       [0.40824829],\n       [0.40824829]])"
                    },
                    "execution_count": null
                }
            ]
        },
        {
            "id": "4c1799c8",
            "cell_type": "code",
            "metadata": {},
            "execution_count": null,
            "source": "lap.eigenvectors(2)",
            "outputs": [
                {
                    "output_type": "execute_result",
                    "metadata": {},
                    "data": {
                        "text/plain": "array([[ 0.5       ,  0.40824829],\n       [ 0.        ,  0.40824829],\n       [-0.5       ,  0.40824829],\n       [-0.5       ,  0.40824829],\n       [ 0.        ,  0.40824829],\n       [ 0.5       ,  0.40824829]])"
                    },
                    "execution_count": null
                }
            ]
        },
        {
            "id": "990d8fb7",
            "cell_type": "code",
            "metadata": {},
            "execution_count": null,
            "source": "lap.eigenvectors()",
            "outputs": [
                {
                    "output_type": "execute_result",
                    "metadata": {},
                    "data": {
                        "text/plain": "array([[ 0.40824829,  0.28867513,  0.28867513,  0.5       ,  0.5       ,\n         0.40824829],\n       [-0.40824829, -0.57735027, -0.57735027,  0.        ,  0.        ,\n         0.40824829],\n       [ 0.40824829,  0.28867513,  0.28867513, -0.5       , -0.5       ,\n         0.40824829],\n       [-0.40824829,  0.28867513,  0.28867513, -0.5       , -0.5       ,\n         0.40824829],\n       [ 0.40824829, -0.57735027, -0.57735027,  0.        ,  0.        ,\n         0.40824829],\n       [-0.40824829,  0.28867513,  0.28867513,  0.5       ,  0.5       ,\n         0.40824829]])"
                    },
                    "execution_count": null
                }
            ]
        },
        {
            "id": "3e906466",
            "cell_type": "markdown",
            "source": "The two-dimensional Laplacian is illustrated on a regular grid with\n``grid_shape = (2, 3)`` points in each dimension.\n",
            "metadata": {}
        },
        {
            "id": "cf40dc84",
            "cell_type": "code",
            "metadata": {},
            "execution_count": null,
            "source": "grid_shape = (2, 3)\nn = np.prod(grid_shape)",
            "outputs": []
        },
        {
            "id": "0e243040",
            "cell_type": "markdown",
            "source": "Numeration of grid points is as follows:\n",
            "metadata": {}
        },
        {
            "id": "e15adfa5",
            "cell_type": "code",
            "metadata": {},
            "execution_count": null,
            "source": "np.arange(n).reshape(grid_shape + (-1,))",
            "outputs": [
                {
                    "output_type": "execute_result",
                    "metadata": {},
                    "data": {
                        "text/plain": "array([[[0],\n        [1],\n        [2]],\n<BLANKLINE>\n       [[3],\n        [4],\n        [5]]])"
                    },
                    "execution_count": null
                }
            ]
        },
        {
            "id": "47d365df",
            "cell_type": "markdown",
            "source": "Each of the boundary conditions ``'dirichlet'``, ``'periodic'``, and\n``'neumann'`` is illustrated separately; with ``'dirichlet'``\n",
            "metadata": {}
        },
        {
            "id": "0831a2dd",
            "cell_type": "code",
            "metadata": {},
            "execution_count": null,
            "source": "lap = LaplacianNd(grid_shape, boundary_conditions='dirichlet')\nlap.tosparse()",
            "outputs": [
                {
                    "output_type": "execute_result",
                    "metadata": {},
                    "data": {
                        "text/plain": "<Compressed Sparse Row sparse array of dtype 'int8'\n    with 20 stored elements and shape (6, 6)>"
                    },
                    "execution_count": null
                }
            ]
        },
        {
            "id": "535dec48",
            "cell_type": "code",
            "metadata": {},
            "execution_count": null,
            "source": "lap.toarray()",
            "outputs": [
                {
                    "output_type": "execute_result",
                    "metadata": {},
                    "data": {
                        "text/plain": "array([[-4,  1,  0,  1,  0,  0],\n       [ 1, -4,  1,  0,  1,  0],\n       [ 0,  1, -4,  0,  0,  1],\n       [ 1,  0,  0, -4,  1,  0],\n       [ 0,  1,  0,  1, -4,  1],\n       [ 0,  0,  1,  0,  1, -4]], dtype=int8)"
                    },
                    "execution_count": null
                }
            ]
        },
        {
            "id": "76c21928",
            "cell_type": "code",
            "metadata": {},
            "execution_count": null,
            "source": "np.array_equal(lap.matmat(np.eye(n)), lap.toarray())",
            "outputs": [
                {
                    "output_type": "execute_result",
                    "metadata": {},
                    "data": {
                        "text/plain": "True"
                    },
                    "execution_count": null
                }
            ]
        },
        {
            "id": "6a001e7b",
            "cell_type": "code",
            "metadata": {},
            "execution_count": null,
            "source": "np.array_equal(lap.tosparse().toarray(), lap.toarray())",
            "outputs": [
                {
                    "output_type": "execute_result",
                    "metadata": {},
                    "data": {
                        "text/plain": "True"
                    },
                    "execution_count": null
                }
            ]
        },
        {
            "id": "6d336720",
            "cell_type": "code",
            "metadata": {},
            "execution_count": null,
            "source": "lap.eigenvalues()",
            "outputs": [
                {
                    "output_type": "execute_result",
                    "metadata": {},
                    "data": {
                        "text/plain": "array([-6.41421356, -5.        , -4.41421356, -3.58578644, -3.        ,\n       -1.58578644])"
                    },
                    "execution_count": null
                }
            ]
        },
        {
            "id": "ebd55bdf",
            "cell_type": "code",
            "metadata": {},
            "execution_count": null,
            "source": "eigvals = eigvalsh(lap.toarray().astype(np.float64))\nnp.allclose(lap.eigenvalues(), eigvals)",
            "outputs": [
                {
                    "output_type": "execute_result",
                    "metadata": {},
                    "data": {
                        "text/plain": "True"
                    },
                    "execution_count": null
                }
            ]
        },
        {
            "id": "27ec8b3b",
            "cell_type": "code",
            "metadata": {},
            "execution_count": null,
            "source": "np.allclose(lap.toarray() @ lap.eigenvectors(),\n            lap.eigenvectors() @ np.diag(lap.eigenvalues()))",
            "outputs": [
                {
                    "output_type": "execute_result",
                    "metadata": {},
                    "data": {
                        "text/plain": "True"
                    },
                    "execution_count": null
                }
            ]
        },
        {
            "id": "38811032",
            "cell_type": "markdown",
            "source": "with ``'periodic'``\n",
            "metadata": {}
        },
        {
            "id": "29e1ce6a",
            "cell_type": "code",
            "metadata": {},
            "execution_count": null,
            "source": "lap = LaplacianNd(grid_shape, boundary_conditions='periodic')\nlap.tosparse()",
            "outputs": [
                {
                    "output_type": "execute_result",
                    "metadata": {},
                    "data": {
                        "text/plain": "<Compressed Sparse Row sparse array of dtype 'int8'\n    with 24 stored elements and shape (6, 6)>"
                    },
                    "execution_count": null
                }
            ]
        },
        {
            "id": "a19b9363",
            "cell_type": "code",
            "metadata": {},
            "execution_count": null,
            "source": "lap.toarray()",
            "outputs": [
                {
                    "output_type": "execute_result",
                    "metadata": {},
                    "data": {
                        "text/plain": "    array([[-4,  1,  1,  2,  0,  0],\n           [ 1, -4,  1,  0,  2,  0],\n           [ 1,  1, -4,  0,  0,  2],\n           [ 2,  0,  0, -4,  1,  1],\n           [ 0,  2,  0,  1, -4,  1],\n           [ 0,  0,  2,  1,  1, -4]], dtype=int8)"
                    },
                    "execution_count": null
                }
            ]
        },
        {
            "id": "cba9f736",
            "cell_type": "code",
            "metadata": {},
            "execution_count": null,
            "source": "np.array_equal(lap.matmat(np.eye(n)), lap.toarray())",
            "outputs": [
                {
                    "output_type": "execute_result",
                    "metadata": {},
                    "data": {
                        "text/plain": "True"
                    },
                    "execution_count": null
                }
            ]
        },
        {
            "id": "9125df9e",
            "cell_type": "code",
            "metadata": {},
            "execution_count": null,
            "source": "np.array_equal(lap.tosparse().toarray(), lap.toarray())",
            "outputs": [
                {
                    "output_type": "execute_result",
                    "metadata": {},
                    "data": {
                        "text/plain": "True"
                    },
                    "execution_count": null
                }
            ]
        },
        {
            "id": "5dd23c80",
            "cell_type": "code",
            "metadata": {},
            "execution_count": null,
            "source": "lap.eigenvalues()",
            "outputs": [
                {
                    "output_type": "execute_result",
                    "metadata": {},
                    "data": {
                        "text/plain": "array([-7., -7., -4., -3., -3.,  0.])"
                    },
                    "execution_count": null
                }
            ]
        },
        {
            "id": "08c8ade9",
            "cell_type": "code",
            "metadata": {},
            "execution_count": null,
            "source": "eigvals = eigvalsh(lap.toarray().astype(np.float64))\nnp.allclose(lap.eigenvalues(), eigvals)",
            "outputs": [
                {
                    "output_type": "execute_result",
                    "metadata": {},
                    "data": {
                        "text/plain": "True"
                    },
                    "execution_count": null
                }
            ]
        },
        {
            "id": "782f9e38",
            "cell_type": "code",
            "metadata": {},
            "execution_count": null,
            "source": "np.allclose(lap.toarray() @ lap.eigenvectors(),\n            lap.eigenvectors() @ np.diag(lap.eigenvalues()))",
            "outputs": [
                {
                    "output_type": "execute_result",
                    "metadata": {},
                    "data": {
                        "text/plain": "True"
                    },
                    "execution_count": null
                }
            ]
        },
        {
            "id": "62f634a5",
            "cell_type": "markdown",
            "source": "and with ``'neumann'``\n",
            "metadata": {}
        },
        {
            "id": "24ae67a5",
            "cell_type": "code",
            "metadata": {},
            "execution_count": null,
            "source": "lap = LaplacianNd(grid_shape, boundary_conditions='neumann')\nlap.tosparse()",
            "outputs": [
                {
                    "output_type": "execute_result",
                    "metadata": {},
                    "data": {
                        "text/plain": "<Compressed Sparse Row sparse array of dtype 'int8'\n    with 20 stored elements and shape (6, 6)>"
                    },
                    "execution_count": null
                }
            ]
        },
        {
            "id": "7e3d8717",
            "cell_type": "code",
            "metadata": {},
            "execution_count": null,
            "source": "lap.toarray()",
            "outputs": [
                {
                    "output_type": "execute_result",
                    "metadata": {},
                    "data": {
                        "text/plain": "array([[-2,  1,  0,  1,  0,  0],\n       [ 1, -3,  1,  0,  1,  0],\n       [ 0,  1, -2,  0,  0,  1],\n       [ 1,  0,  0, -2,  1,  0],\n       [ 0,  1,  0,  1, -3,  1],\n       [ 0,  0,  1,  0,  1, -2]])"
                    },
                    "execution_count": null
                }
            ]
        },
        {
            "id": "de1d9a92",
            "cell_type": "code",
            "metadata": {},
            "execution_count": null,
            "source": "np.array_equal(lap.matmat(np.eye(n)), lap.toarray())",
            "outputs": [
                {
                    "output_type": "execute_result",
                    "metadata": {},
                    "data": {
                        "text/plain": "True"
                    },
                    "execution_count": null
                }
            ]
        },
        {
            "id": "1f41d4f3",
            "cell_type": "code",
            "metadata": {},
            "execution_count": null,
            "source": "np.array_equal(lap.tosparse().toarray(), lap.toarray())",
            "outputs": [
                {
                    "output_type": "execute_result",
                    "metadata": {},
                    "data": {
                        "text/plain": "True"
                    },
                    "execution_count": null
                }
            ]
        },
        {
            "id": "d07130c8",
            "cell_type": "code",
            "metadata": {},
            "execution_count": null,
            "source": "lap.eigenvalues()",
            "outputs": [
                {
                    "output_type": "execute_result",
                    "metadata": {},
                    "data": {
                        "text/plain": "array([-5., -3., -3., -2., -1.,  0.])"
                    },
                    "execution_count": null
                }
            ]
        },
        {
            "id": "34d85066",
            "cell_type": "code",
            "metadata": {},
            "execution_count": null,
            "source": "eigvals = eigvalsh(lap.toarray().astype(np.float64))\nnp.allclose(lap.eigenvalues(), eigvals)",
            "outputs": [
                {
                    "output_type": "execute_result",
                    "metadata": {},
                    "data": {
                        "text/plain": "True"
                    },
                    "execution_count": null
                }
            ]
        },
        {
            "id": "3c8e096f",
            "cell_type": "code",
            "metadata": {},
            "execution_count": null,
            "source": "np.allclose(lap.toarray() @ lap.eigenvectors(),\n            lap.eigenvectors() @ np.diag(lap.eigenvalues()))",
            "outputs": [
                {
                    "output_type": "execute_result",
                    "metadata": {},
                    "data": {
                        "text/plain": "True"
                    },
                    "execution_count": null
                }
            ]
        }
    ]
}