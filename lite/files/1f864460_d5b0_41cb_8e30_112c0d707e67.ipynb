{
    "nbformat": 4,
    "nbformat_minor": 5,
    "metadata": {
        "kernelspec": {
            "display_name": "Python",
            "language": "python",
            "name": "python"
        },
        "language_info": {
            "name": "python"
        }
    },
    "cells": [
        {
            "id": "e4f7a399",
            "cell_type": "markdown",
            "source": "<div class='alert alert-warning'>\n\nSciPy's interactive examples with Jupyterlite are experimental and may not always work as expected. Execution of cells containing imports may result in large downloads (up to 60MB of content for the first import from SciPy). Load times when importing from SciPy may take roughly 10-20 seconds. If you notice any problems, feel free to open an [issue](https://github.com/scipy/scipy/issues/new/choose).\n\n</div>",
            "metadata": {}
        },
        {
            "id": "a5615fac",
            "cell_type": "code",
            "metadata": {},
            "execution_count": null,
            "source": "import scipy.special as sc",
            "outputs": []
        },
        {
            "id": "bc691020",
            "cell_type": "markdown",
            "source": "There are many ways to specify an angle.\n",
            "metadata": {}
        },
        {
            "id": "c3bd589e",
            "cell_type": "code",
            "metadata": {},
            "execution_count": null,
            "source": "sc.radian(90, 0, 0)",
            "outputs": [
                {
                    "output_type": "execute_result",
                    "metadata": {},
                    "data": {
                        "text/plain": "1.5707963267948966"
                    },
                    "execution_count": null
                }
            ]
        },
        {
            "id": "e72394ec",
            "cell_type": "code",
            "metadata": {},
            "execution_count": null,
            "source": "sc.radian(0, 60 * 90, 0)",
            "outputs": [
                {
                    "output_type": "execute_result",
                    "metadata": {},
                    "data": {
                        "text/plain": "1.5707963267948966"
                    },
                    "execution_count": null
                }
            ]
        },
        {
            "id": "412f90b8",
            "cell_type": "code",
            "metadata": {},
            "execution_count": null,
            "source": "sc.radian(0, 0, 60**2 * 90)",
            "outputs": [
                {
                    "output_type": "execute_result",
                    "metadata": {},
                    "data": {
                        "text/plain": "1.5707963267948966"
                    },
                    "execution_count": null
                }
            ]
        },
        {
            "id": "48adad6f",
            "cell_type": "markdown",
            "source": "The inputs can be real-valued.\n",
            "metadata": {}
        },
        {
            "id": "8eb41238",
            "cell_type": "code",
            "metadata": {},
            "execution_count": null,
            "source": "sc.radian(1.5, 0, 0)",
            "outputs": [
                {
                    "output_type": "execute_result",
                    "metadata": {},
                    "data": {
                        "text/plain": "0.02617993877991494"
                    },
                    "execution_count": null
                }
            ]
        },
        {
            "id": "5f29199c",
            "cell_type": "code",
            "metadata": {},
            "execution_count": null,
            "source": "sc.radian(1, 30, 0)",
            "outputs": [
                {
                    "output_type": "execute_result",
                    "metadata": {},
                    "data": {
                        "text/plain": "0.02617993877991494"
                    },
                    "execution_count": null
                }
            ]
        }
    ]
}