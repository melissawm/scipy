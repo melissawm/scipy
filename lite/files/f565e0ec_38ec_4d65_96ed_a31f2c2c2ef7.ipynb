{
    "nbformat": 4,
    "nbformat_minor": 5,
    "metadata": {
        "kernelspec": {
            "display_name": "Python",
            "language": "python",
            "name": "python"
        },
        "language_info": {
            "name": "python"
        }
    },
    "cells": [
        {
            "id": "0f6961db",
            "cell_type": "markdown",
            "source": "<div class='alert alert-warning'>\n\nSciPy's interactive examples with Jupyterlite are experimental and may not always work as expected. Execution of cells containing imports may result in large downloads (up to 60MB of content for the first import from SciPy). Load times when importing from SciPy may take roughly 10-20 seconds. If you notice any problems, feel free to open an [issue](https://github.com/scipy/scipy/issues/new/choose).\n\n</div>",
            "metadata": {}
        },
        {
            "id": "a5ef5563",
            "cell_type": "code",
            "metadata": {},
            "execution_count": null,
            "source": "import numpy as np\nfrom scipy.stats import dlaplace\nimport matplotlib.pyplot as plt\nfig, ax = plt.subplots(1, 1)",
            "outputs": []
        },
        {
            "id": "febf9a55",
            "cell_type": "markdown",
            "source": "Calculate the first four moments:\n",
            "metadata": {}
        },
        {
            "id": "179d07b7",
            "cell_type": "code",
            "metadata": {},
            "execution_count": null,
            "source": "a = 0.8\nmean, var, skew, kurt = dlaplace.stats(a, moments='mvsk')",
            "outputs": []
        },
        {
            "id": "63e4c943",
            "cell_type": "markdown",
            "source": "Display the probability mass function (``pmf``):\n",
            "metadata": {}
        },
        {
            "id": "7935b317",
            "cell_type": "code",
            "metadata": {},
            "execution_count": null,
            "source": "x = np.arange(dlaplace.ppf(0.01, a),\n              dlaplace.ppf(0.99, a))\nax.plot(x, dlaplace.pmf(x, a), 'bo', ms=8, label='dlaplace pmf')\nax.vlines(x, 0, dlaplace.pmf(x, a), colors='b', lw=5, alpha=0.5)",
            "outputs": []
        },
        {
            "id": "f9f6ac20",
            "cell_type": "markdown",
            "source": "Alternatively, the distribution object can be called (as a function)\nto fix the shape and location. This returns a \"frozen\" RV object holding\nthe given parameters fixed.\n\nFreeze the distribution and display the frozen ``pmf``:\n",
            "metadata": {}
        },
        {
            "id": "8dc1a88a",
            "cell_type": "code",
            "metadata": {},
            "execution_count": null,
            "source": "rv = dlaplace(a)\nax.vlines(x, 0, rv.pmf(x), colors='k', linestyles='-', lw=1,\n        label='frozen pmf')\nax.legend(loc='best', frameon=False)\nplt.show()",
            "outputs": []
        },
        {
            "id": "db71319c",
            "cell_type": "markdown",
            "source": "Check accuracy of ``cdf`` and ``ppf``:\n",
            "metadata": {}
        },
        {
            "id": "39cdba7a",
            "cell_type": "code",
            "metadata": {},
            "execution_count": null,
            "source": "prob = dlaplace.cdf(x, a)\nnp.allclose(x, dlaplace.ppf(prob, a))",
            "outputs": [
                {
                    "output_type": "execute_result",
                    "metadata": {},
                    "data": {
                        "text/plain": "True"
                    },
                    "execution_count": null
                }
            ]
        },
        {
            "id": "e2242bba",
            "cell_type": "markdown",
            "source": "Generate random numbers:\n",
            "metadata": {}
        },
        {
            "id": "2d29ce8e",
            "cell_type": "code",
            "metadata": {},
            "execution_count": null,
            "source": "r = dlaplace.rvs(a, size=1000)",
            "outputs": []
        }
    ]
}