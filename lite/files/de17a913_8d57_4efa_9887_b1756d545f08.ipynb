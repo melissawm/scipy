{
    "nbformat": 4,
    "nbformat_minor": 5,
    "metadata": {
        "kernelspec": {
            "display_name": "Python",
            "language": "python",
            "name": "python"
        },
        "language_info": {
            "name": "python"
        }
    },
    "cells": [
        {
            "id": "7718ff31",
            "cell_type": "markdown",
            "source": "<div class='alert alert-warning'>\n\nSciPy's interactive examples with Jupyterlite are experimental and may not always work as expected. Execution of cells containing imports may result in large downloads (up to 60MB of content for the first import from SciPy). Load times when importing from SciPy may take roughly 10-20 seconds. If you notice any problems, feel free to open an [issue](https://github.com/scipy/scipy/issues/new/choose).\n\n</div>",
            "metadata": {}
        },
        {
            "id": "94606e5f",
            "cell_type": "code",
            "metadata": {},
            "execution_count": null,
            "source": "import numpy as np\nfrom scipy import stats\na = np.array([0, 0, 0, 1, 1, 1, 1])\nb = np.arange(7)\nstats.pointbiserialr(a, b)",
            "outputs": [
                {
                    "output_type": "execute_result",
                    "metadata": {},
                    "data": {
                        "text/plain": "(0.8660254037844386, 0.011724811003954652)"
                    },
                    "execution_count": null
                }
            ]
        },
        {
            "id": "9eec6945",
            "cell_type": "code",
            "metadata": {},
            "execution_count": null,
            "source": "stats.pearsonr(a, b)",
            "outputs": [
                {
                    "output_type": "execute_result",
                    "metadata": {},
                    "data": {
                        "text/plain": "(0.86602540378443871, 0.011724811003954626)"
                    },
                    "execution_count": null
                }
            ]
        },
        {
            "id": "40597299",
            "cell_type": "code",
            "metadata": {},
            "execution_count": null,
            "source": "np.corrcoef(a, b)",
            "outputs": [
                {
                    "output_type": "execute_result",
                    "metadata": {},
                    "data": {
                        "text/plain": "array([[ 1.       ,  0.8660254],\n       [ 0.8660254,  1.       ]])"
                    },
                    "execution_count": null
                }
            ]
        }
    ]
}