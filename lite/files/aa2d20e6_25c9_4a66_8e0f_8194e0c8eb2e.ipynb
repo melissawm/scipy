{
    "nbformat": 4,
    "nbformat_minor": 5,
    "metadata": {
        "kernelspec": {
            "display_name": "Python",
            "language": "python",
            "name": "python"
        },
        "language_info": {
            "name": "python"
        }
    },
    "cells": [
        {
            "id": "269b4176",
            "cell_type": "markdown",
            "source": "<div class='alert alert-warning'>\n\nSciPy's interactive examples with Jupyterlite are experimental and may not always work as expected. Execution of cells containing imports may result in large downloads (up to 60MB of content for the first import from SciPy). Load times when importing from SciPy may take roughly 10-20 seconds. If you notice any problems, feel free to open an [issue](https://github.com/scipy/scipy/issues/new/choose).\n\n</div>",
            "metadata": {}
        },
        {
            "id": "54e4fced",
            "cell_type": "code",
            "metadata": {},
            "execution_count": null,
            "source": "from scipy.spatial.transform import Rotation as R",
            "outputs": []
        },
        {
            "id": "e237b40d",
            "cell_type": "markdown",
            "source": "Davenport angles are a generalization of Euler angles, when we use the\ncanonical basis axes:\n",
            "metadata": {}
        },
        {
            "id": "c24dc0da",
            "cell_type": "code",
            "metadata": {},
            "execution_count": null,
            "source": "ex = [1, 0, 0]\ney = [0, 1, 0]\nez = [0, 0, 1]",
            "outputs": []
        },
        {
            "id": "475f54f8",
            "cell_type": "markdown",
            "source": "Initialize a single rotation with a given axis sequence:\n",
            "metadata": {}
        },
        {
            "id": "0274e9e8",
            "cell_type": "code",
            "metadata": {},
            "execution_count": null,
            "source": "axes = [ez, ey, ex]\nr = R.from_davenport(axes, 'extrinsic', [90, 0, 0], degrees=True)\nr.as_quat().shape",
            "outputs": [
                {
                    "output_type": "execute_result",
                    "metadata": {},
                    "data": {
                        "text/plain": "(4,)"
                    },
                    "execution_count": null
                }
            ]
        },
        {
            "id": "ebc43918",
            "cell_type": "markdown",
            "source": "It is equivalent to Euler angles in this case:\n",
            "metadata": {}
        },
        {
            "id": "bdc09d7a",
            "cell_type": "code",
            "metadata": {},
            "execution_count": null,
            "source": "r.as_euler('zyx', degrees=True)",
            "outputs": [
                {
                    "output_type": "execute_result",
                    "metadata": {},
                    "data": {
                        "text/plain": "array([90.,  0., -0.])"
                    },
                    "execution_count": null
                }
            ]
        },
        {
            "id": "6e0cd4a1",
            "cell_type": "markdown",
            "source": "Initialize multiple rotations in one object:\n",
            "metadata": {}
        },
        {
            "id": "224a48b2",
            "cell_type": "code",
            "metadata": {},
            "execution_count": null,
            "source": "r = R.from_davenport(axes, 'extrinsic', [[90, 45, 30], [35, 45, 90]], degrees=True)\nr.as_quat().shape",
            "outputs": [
                {
                    "output_type": "execute_result",
                    "metadata": {},
                    "data": {
                        "text/plain": "(2, 4)"
                    },
                    "execution_count": null
                }
            ]
        },
        {
            "id": "612d506e",
            "cell_type": "markdown",
            "source": "Using only one or two axes is also possible:\n",
            "metadata": {}
        },
        {
            "id": "e7aadc75",
            "cell_type": "code",
            "metadata": {},
            "execution_count": null,
            "source": "r = R.from_davenport([ez, ex], 'extrinsic', [[90, 45], [35, 45]], degrees=True)\nr.as_quat().shape",
            "outputs": [
                {
                    "output_type": "execute_result",
                    "metadata": {},
                    "data": {
                        "text/plain": "(2, 4)"
                    },
                    "execution_count": null
                }
            ]
        },
        {
            "id": "9d6f4fda",
            "cell_type": "markdown",
            "source": "Non-canonical axes are possible, and they do not need to be normalized,\nas long as consecutive axes are orthogonal:\n",
            "metadata": {}
        },
        {
            "id": "e78eb246",
            "cell_type": "code",
            "metadata": {},
            "execution_count": null,
            "source": "e1 = [2, 0, 0]\ne2 = [0, 1, 0]\ne3 = [1, 0, 1]\naxes = [e1, e2, e3]\nr = R.from_davenport(axes, 'extrinsic', [90, 45, 30], degrees=True)\nr.as_quat()",
            "outputs": [
                {
                    "output_type": "execute_result",
                    "metadata": {},
                    "data": {
                        "text/plain": "[ 0.701057,  0.430459, -0.092296,  0.560986]"
                    },
                    "execution_count": null
                }
            ]
        }
    ]
}