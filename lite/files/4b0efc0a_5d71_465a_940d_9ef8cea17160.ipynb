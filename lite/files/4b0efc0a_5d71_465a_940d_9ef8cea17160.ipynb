{
    "nbformat": 4,
    "nbformat_minor": 5,
    "metadata": {
        "kernelspec": {
            "display_name": "Python",
            "language": "python",
            "name": "python"
        },
        "language_info": {
            "name": "python"
        }
    },
    "cells": [
        {
            "id": "46d7c0e1",
            "cell_type": "markdown",
            "source": "<div class='alert alert-warning'>\n\nSciPy's interactive examples with Jupyterlite are experimental and may not always work as expected. Execution of cells containing imports may result in large downloads (up to 60MB of content for the first import from SciPy). Load times when importing from SciPy may take roughly 10-20 seconds. If you notice any problems, feel free to open an [issue](https://github.com/scipy/scipy/issues/new/choose).\n\n</div>",
            "metadata": {}
        },
        {
            "id": "ebebf7f3",
            "cell_type": "markdown",
            "source": "Our first example is minimalistic - find the largest eigenvalue of\na diagonal matrix by solving the non-generalized eigenvalue problem\n``A x = lambda x`` without constraints or preconditioning.\n",
            "metadata": {}
        },
        {
            "id": "6edd5b97",
            "cell_type": "code",
            "metadata": {},
            "execution_count": null,
            "source": "import numpy as np\nfrom scipy.sparse import spdiags\nfrom scipy.sparse.linalg import LinearOperator, aslinearoperator\nfrom scipy.sparse.linalg import lobpcg",
            "outputs": []
        },
        {
            "id": "19b5d3d1",
            "cell_type": "markdown",
            "source": "The square matrix size is\n",
            "metadata": {}
        },
        {
            "id": "e7b7786b",
            "cell_type": "code",
            "metadata": {},
            "execution_count": null,
            "source": "n = 100",
            "outputs": []
        },
        {
            "id": "b31e1b93",
            "cell_type": "markdown",
            "source": "and its diagonal entries are 1, ..., 100 defined by\n",
            "metadata": {}
        },
        {
            "id": "6c560be2",
            "cell_type": "code",
            "metadata": {},
            "execution_count": null,
            "source": "vals = np.arange(1, n + 1).astype(np.int16)",
            "outputs": []
        },
        {
            "id": "0464e5e3",
            "cell_type": "markdown",
            "source": "The first mandatory input parameter in this test is\nthe sparse diagonal matrix `A`\nof the eigenvalue problem ``A x = lambda x`` to solve.\n",
            "metadata": {}
        },
        {
            "id": "afe8ae77",
            "cell_type": "code",
            "metadata": {},
            "execution_count": null,
            "source": "A = spdiags(vals, 0, n, n)\nA = A.astype(np.int16)\nA.toarray()",
            "outputs": [
                {
                    "output_type": "execute_result",
                    "metadata": {},
                    "data": {
                        "text/plain": "array([[  1,   0,   0, ...,   0,   0,   0],\n       [  0,   2,   0, ...,   0,   0,   0],\n       [  0,   0,   3, ...,   0,   0,   0],\n       ...,\n       [  0,   0,   0, ...,  98,   0,   0],\n       [  0,   0,   0, ...,   0,  99,   0],\n       [  0,   0,   0, ...,   0,   0, 100]], dtype=int16)"
                    },
                    "execution_count": null
                }
            ]
        },
        {
            "id": "9b871391",
            "cell_type": "markdown",
            "source": "The second mandatory input parameter `X` is a 2D array with the\nrow dimension determining the number of requested eigenvalues.\n`X` is an initial guess for targeted eigenvectors.\n`X` must have linearly independent columns.\nIf no initial approximations available, randomly oriented vectors\ncommonly work best, e.g., with components normally distributed\naround zero or uniformly distributed on the interval [-1 1].\nSetting the initial approximations to dtype ``np.float32``\nforces all iterative values to dtype ``np.float32`` speeding up\nthe run while still allowing accurate eigenvalue computations.\n",
            "metadata": {}
        },
        {
            "id": "94e0716d",
            "cell_type": "code",
            "metadata": {},
            "execution_count": null,
            "source": "k = 1\nrng = np.random.default_rng()\nX = rng.normal(size=(n, k))\nX = X.astype(np.float32)",
            "outputs": []
        },
        {
            "id": "a905f617",
            "cell_type": "code",
            "metadata": {},
            "execution_count": null,
            "source": "eigenvalues, _ = lobpcg(A, X, maxiter=60)\neigenvalues",
            "outputs": [
                {
                    "output_type": "execute_result",
                    "metadata": {},
                    "data": {
                        "text/plain": "array([100.])"
                    },
                    "execution_count": null
                }
            ]
        },
        {
            "id": "d9be145e",
            "cell_type": "code",
            "metadata": {},
            "execution_count": null,
            "source": "eigenvalues.dtype",
            "outputs": [
                {
                    "output_type": "execute_result",
                    "metadata": {},
                    "data": {
                        "text/plain": "dtype('float32')"
                    },
                    "execution_count": null
                }
            ]
        },
        {
            "id": "ef2822c8",
            "cell_type": "markdown",
            "source": "`lobpcg` needs only access the matrix product with `A` rather\nthen the matrix itself. Since the matrix `A` is diagonal in\nthis example, one can write a function of the matrix product\n``A @ X`` using the diagonal values ``vals`` only, e.g., by\nelement-wise multiplication with broadcasting in the lambda-function\n",
            "metadata": {}
        },
        {
            "id": "03ea87b4",
            "cell_type": "code",
            "metadata": {},
            "execution_count": null,
            "source": "A_lambda = lambda X: vals[:, np.newaxis] * X",
            "outputs": []
        },
        {
            "id": "252c2da2",
            "cell_type": "markdown",
            "source": "or the regular function\n",
            "metadata": {}
        },
        {
            "id": "fc7ad8fd",
            "cell_type": "code",
            "metadata": {},
            "execution_count": null,
            "source": "def A_matmat(X):\n    return vals[:, np.newaxis] * X",
            "outputs": []
        },
        {
            "id": "26996eb4",
            "cell_type": "markdown",
            "source": "and use the handle to one of these callables as an input\n",
            "metadata": {}
        },
        {
            "id": "d1308929",
            "cell_type": "code",
            "metadata": {},
            "execution_count": null,
            "source": "eigenvalues, _ = lobpcg(A_lambda, X, maxiter=60)\neigenvalues",
            "outputs": [
                {
                    "output_type": "execute_result",
                    "metadata": {},
                    "data": {
                        "text/plain": "array([100.])"
                    },
                    "execution_count": null
                }
            ]
        },
        {
            "id": "bbf6d22e",
            "cell_type": "code",
            "metadata": {},
            "execution_count": null,
            "source": "eigenvalues, _ = lobpcg(A_matmat, X, maxiter=60)\neigenvalues",
            "outputs": [
                {
                    "output_type": "execute_result",
                    "metadata": {},
                    "data": {
                        "text/plain": "array([100.])"
                    },
                    "execution_count": null
                }
            ]
        },
        {
            "id": "ba9c0c64",
            "cell_type": "markdown",
            "source": "The traditional callable `LinearOperator` is no longer\nnecessary but still supported as the input to `lobpcg`.\nSpecifying ``matmat=A_matmat`` explicitly improves performance. \n",
            "metadata": {}
        },
        {
            "id": "7b6901e1",
            "cell_type": "code",
            "metadata": {},
            "execution_count": null,
            "source": "A_lo = LinearOperator((n, n), matvec=A_matmat, matmat=A_matmat, dtype=np.int16)\neigenvalues, _ = lobpcg(A_lo, X, maxiter=80)\neigenvalues",
            "outputs": [
                {
                    "output_type": "execute_result",
                    "metadata": {},
                    "data": {
                        "text/plain": "array([100.])"
                    },
                    "execution_count": null
                }
            ]
        },
        {
            "id": "c4e76727",
            "cell_type": "markdown",
            "source": "The least efficient callable option is `aslinearoperator`:\n",
            "metadata": {}
        },
        {
            "id": "90c9d39d",
            "cell_type": "code",
            "metadata": {},
            "execution_count": null,
            "source": "eigenvalues, _ = lobpcg(aslinearoperator(A), X, maxiter=80)\neigenvalues",
            "outputs": [
                {
                    "output_type": "execute_result",
                    "metadata": {},
                    "data": {
                        "text/plain": "array([100.])"
                    },
                    "execution_count": null
                }
            ]
        },
        {
            "id": "09b401ae",
            "cell_type": "markdown",
            "source": "We now switch to computing the three smallest eigenvalues specifying\n",
            "metadata": {}
        },
        {
            "id": "232cd8ec",
            "cell_type": "code",
            "metadata": {},
            "execution_count": null,
            "source": "k = 3\nX = np.random.default_rng().normal(size=(n, k))",
            "outputs": []
        },
        {
            "id": "5f4d53ac",
            "cell_type": "markdown",
            "source": "and ``largest=False`` parameter\n",
            "metadata": {}
        },
        {
            "id": "ad67e06b",
            "cell_type": "code",
            "metadata": {},
            "execution_count": null,
            "source": "eigenvalues, _ = lobpcg(A, X, largest=False, maxiter=90)\nprint(eigenvalues)  ",
            "outputs": [
                {
                    "output_type": "execute_result",
                    "metadata": {},
                    "data": {
                        "text/plain": "[1. 2. 3.]"
                    },
                    "execution_count": null
                }
            ]
        },
        {
            "id": "a13f6f07",
            "cell_type": "markdown",
            "source": "The next example illustrates computing 3 smallest eigenvalues of\nthe same matrix `A` given by the function handle ``A_matmat`` but\nwith constraints and preconditioning.\n\nConstraints - an optional input parameter is a 2D array comprising\nof column vectors that the eigenvectors must be orthogonal to\n",
            "metadata": {}
        },
        {
            "id": "4048253d",
            "cell_type": "code",
            "metadata": {},
            "execution_count": null,
            "source": "Y = np.eye(n, 3)",
            "outputs": []
        },
        {
            "id": "a7d15b43",
            "cell_type": "markdown",
            "source": "The preconditioner acts as the inverse of `A` in this example, but\nin the reduced precision ``np.float32`` even though the initial `X`\nand thus all iterates and the output are in full ``np.float64``.\n",
            "metadata": {}
        },
        {
            "id": "21b606e2",
            "cell_type": "code",
            "metadata": {},
            "execution_count": null,
            "source": "inv_vals = 1./vals\ninv_vals = inv_vals.astype(np.float32)\nM = lambda X: inv_vals[:, np.newaxis] * X",
            "outputs": []
        },
        {
            "id": "9ce68004",
            "cell_type": "markdown",
            "source": "Let us now solve the eigenvalue problem for the matrix `A` first\nwithout preconditioning requesting 80 iterations\n",
            "metadata": {}
        },
        {
            "id": "1fb8268e",
            "cell_type": "code",
            "metadata": {},
            "execution_count": null,
            "source": "eigenvalues, _ = lobpcg(A_matmat, X, Y=Y, largest=False, maxiter=80)\neigenvalues",
            "outputs": [
                {
                    "output_type": "execute_result",
                    "metadata": {},
                    "data": {
                        "text/plain": "array([4., 5., 6.])"
                    },
                    "execution_count": null
                }
            ]
        },
        {
            "id": "f8da233f",
            "cell_type": "code",
            "metadata": {},
            "execution_count": null,
            "source": "eigenvalues.dtype",
            "outputs": [
                {
                    "output_type": "execute_result",
                    "metadata": {},
                    "data": {
                        "text/plain": "dtype('float64')"
                    },
                    "execution_count": null
                }
            ]
        },
        {
            "id": "48e0b261",
            "cell_type": "markdown",
            "source": "With preconditioning we need only 20 iterations from the same `X`\n",
            "metadata": {}
        },
        {
            "id": "b21caf99",
            "cell_type": "code",
            "metadata": {},
            "execution_count": null,
            "source": "eigenvalues, _ = lobpcg(A_matmat, X, Y=Y, M=M, largest=False, maxiter=20)\neigenvalues",
            "outputs": [
                {
                    "output_type": "execute_result",
                    "metadata": {},
                    "data": {
                        "text/plain": "array([4., 5., 6.])"
                    },
                    "execution_count": null
                }
            ]
        },
        {
            "id": "dafc2292",
            "cell_type": "markdown",
            "source": "Note that the vectors passed in `Y` are the eigenvectors of the 3\nsmallest eigenvalues. The results returned above are orthogonal to those.\n\nThe primary matrix `A` may be indefinite, e.g., after shifting\n``vals`` by 50 from 1, ..., 100 to -49, ..., 50, we still can compute\nthe 3 smallest or largest eigenvalues.\n",
            "metadata": {}
        },
        {
            "id": "f1fcc8b7",
            "cell_type": "code",
            "metadata": {},
            "execution_count": null,
            "source": "vals = vals - 50\nX = rng.normal(size=(n, k))\neigenvalues, _ = lobpcg(A_matmat, X, largest=False, maxiter=99)\neigenvalues",
            "outputs": [
                {
                    "output_type": "execute_result",
                    "metadata": {},
                    "data": {
                        "text/plain": "array([-49., -48., -47.])"
                    },
                    "execution_count": null
                }
            ]
        },
        {
            "id": "671f5607",
            "cell_type": "code",
            "metadata": {},
            "execution_count": null,
            "source": "eigenvalues, _ = lobpcg(A_matmat, X, largest=True, maxiter=99)\neigenvalues",
            "outputs": [
                {
                    "output_type": "execute_result",
                    "metadata": {},
                    "data": {
                        "text/plain": "array([50., 49., 48.])"
                    },
                    "execution_count": null
                }
            ]
        }
    ]
}