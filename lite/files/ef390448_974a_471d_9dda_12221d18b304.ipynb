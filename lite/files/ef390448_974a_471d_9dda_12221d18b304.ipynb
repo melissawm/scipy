{
    "nbformat": 4,
    "nbformat_minor": 5,
    "metadata": {
        "kernelspec": {
            "display_name": "Python",
            "language": "python",
            "name": "python"
        },
        "language_info": {
            "name": "python"
        }
    },
    "cells": [
        {
            "id": "51b720ea",
            "cell_type": "markdown",
            "source": "<div class='alert alert-warning'>\n\nSciPy's interactive examples with Jupyterlite are experimental and may not always work as expected. Execution of cells containing imports may result in large downloads (up to 60MB of content for the first import from SciPy). Load times when importing from SciPy may take roughly 10-20 seconds. If you notice any problems, feel free to open an [issue](https://github.com/scipy/scipy/issues/new/choose).\n\n</div>",
            "metadata": {}
        },
        {
            "id": "97b185bf",
            "cell_type": "code",
            "metadata": {},
            "execution_count": null,
            "source": "from scipy.sparse import csr_array, tril\nA = csr_array([[1, 2, 0, 0, 3], [4, 5, 0, 6, 7], [0, 0, 8, 9, 0]],\n              dtype='int32')\nA.toarray()",
            "outputs": [
                {
                    "output_type": "execute_result",
                    "metadata": {},
                    "data": {
                        "text/plain": "array([[1, 2, 0, 0, 3],\n       [4, 5, 0, 6, 7],\n       [0, 0, 8, 9, 0]])"
                    },
                    "execution_count": null
                }
            ]
        },
        {
            "id": "5f3f45a5",
            "cell_type": "code",
            "metadata": {},
            "execution_count": null,
            "source": "tril(A).toarray()",
            "outputs": [
                {
                    "output_type": "execute_result",
                    "metadata": {},
                    "data": {
                        "text/plain": "array([[1, 0, 0, 0, 0],\n       [4, 5, 0, 0, 0],\n       [0, 0, 8, 0, 0]])"
                    },
                    "execution_count": null
                }
            ]
        },
        {
            "id": "dc31ebbf",
            "cell_type": "code",
            "metadata": {},
            "execution_count": null,
            "source": "tril(A).nnz",
            "outputs": [
                {
                    "output_type": "execute_result",
                    "metadata": {},
                    "data": {
                        "text/plain": "4"
                    },
                    "execution_count": null
                }
            ]
        },
        {
            "id": "28c659c9",
            "cell_type": "code",
            "metadata": {},
            "execution_count": null,
            "source": "tril(A, k=1).toarray()",
            "outputs": [
                {
                    "output_type": "execute_result",
                    "metadata": {},
                    "data": {
                        "text/plain": "array([[1, 2, 0, 0, 0],\n       [4, 5, 0, 0, 0],\n       [0, 0, 8, 9, 0]])"
                    },
                    "execution_count": null
                }
            ]
        },
        {
            "id": "ca71c233",
            "cell_type": "code",
            "metadata": {},
            "execution_count": null,
            "source": "tril(A, k=-1).toarray()",
            "outputs": [
                {
                    "output_type": "execute_result",
                    "metadata": {},
                    "data": {
                        "text/plain": "array([[0, 0, 0, 0, 0],\n       [4, 0, 0, 0, 0],\n       [0, 0, 0, 0, 0]])"
                    },
                    "execution_count": null
                }
            ]
        },
        {
            "id": "4f3c0864",
            "cell_type": "code",
            "metadata": {},
            "execution_count": null,
            "source": "tril(A, format='csc')",
            "outputs": [
                {
                    "output_type": "execute_result",
                    "metadata": {},
                    "data": {
                        "text/plain": "<Compressed Sparse Column sparse array of dtype 'int32'\n    with 4 stored elements and shape (3, 5)>"
                    },
                    "execution_count": null
                }
            ]
        }
    ]
}