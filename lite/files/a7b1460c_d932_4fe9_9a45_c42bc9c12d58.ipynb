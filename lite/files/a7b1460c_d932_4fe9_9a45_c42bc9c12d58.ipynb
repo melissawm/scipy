{
    "nbformat": 4,
    "nbformat_minor": 5,
    "metadata": {
        "kernelspec": {
            "display_name": "Python",
            "language": "python",
            "name": "python"
        },
        "language_info": {
            "name": "python"
        }
    },
    "cells": [
        {
            "id": "d7b325bc",
            "cell_type": "markdown",
            "source": "<div class='alert alert-warning'>\n\nSciPy's interactive examples with Jupyterlite are experimental and may not always work as expected. Execution of cells containing imports may result in large downloads (up to 60MB of content for the first import from SciPy). Load times when importing from SciPy may take roughly 10-20 seconds. If you notice any problems, feel free to open an [issue](https://github.com/scipy/scipy/issues/new/choose).\n\n</div>",
            "metadata": {}
        },
        {
            "id": "d121eb08",
            "cell_type": "code",
            "metadata": {},
            "execution_count": null,
            "source": "from scipy.spatial.transform import Rotation as R",
            "outputs": []
        },
        {
            "id": "e8dabae3",
            "cell_type": "markdown",
            "source": "A rotation can be initialzied from a quaternion with the scalar-last\n(default) or scalar-first component order as shown below:\n",
            "metadata": {}
        },
        {
            "id": "140f2448",
            "cell_type": "code",
            "metadata": {},
            "execution_count": null,
            "source": "r = R.from_quat([0, 0, 0, 1])\nr.as_matrix()",
            "outputs": [
                {
                    "output_type": "execute_result",
                    "metadata": {},
                    "data": {
                        "text/plain": "array([[1., 0., 0.],\n       [0., 1., 0.],\n       [0., 0., 1.]])"
                    },
                    "execution_count": null
                }
            ]
        },
        {
            "id": "6eb564a2",
            "cell_type": "code",
            "metadata": {},
            "execution_count": null,
            "source": "r = R.from_quat([1, 0, 0, 0], scalar_first=True)\nr.as_matrix()",
            "outputs": [
                {
                    "output_type": "execute_result",
                    "metadata": {},
                    "data": {
                        "text/plain": "array([[1., 0., 0.],\n       [0., 1., 0.],\n       [0., 0., 1.]])"
                    },
                    "execution_count": null
                }
            ]
        },
        {
            "id": "4e70b325",
            "cell_type": "markdown",
            "source": "It is possible to initialize multiple rotations in a single object by\npassing a 2-dimensional array:\n",
            "metadata": {}
        },
        {
            "id": "70949f6f",
            "cell_type": "code",
            "metadata": {},
            "execution_count": null,
            "source": "r = R.from_quat([\n[1, 0, 0, 0],\n[0, 0, 0, 1]\n])\nr.as_quat()",
            "outputs": [
                {
                    "output_type": "execute_result",
                    "metadata": {},
                    "data": {
                        "text/plain": "array([[1., 0., 0., 0.],\n       [0., 0., 0., 1.]])"
                    },
                    "execution_count": null
                }
            ]
        },
        {
            "id": "06931c25",
            "cell_type": "code",
            "metadata": {},
            "execution_count": null,
            "source": "r.as_quat().shape",
            "outputs": [
                {
                    "output_type": "execute_result",
                    "metadata": {},
                    "data": {
                        "text/plain": "(2, 4)"
                    },
                    "execution_count": null
                }
            ]
        },
        {
            "id": "a4992574",
            "cell_type": "markdown",
            "source": "It is also possible to have a stack of a single rotation:\n",
            "metadata": {}
        },
        {
            "id": "3add5853",
            "cell_type": "code",
            "metadata": {},
            "execution_count": null,
            "source": "r = R.from_quat([[0, 0, 0, 1]])\nr.as_quat()",
            "outputs": [
                {
                    "output_type": "execute_result",
                    "metadata": {},
                    "data": {
                        "text/plain": "array([[0., 0., 0., 1.]])"
                    },
                    "execution_count": null
                }
            ]
        },
        {
            "id": "13f474da",
            "cell_type": "code",
            "metadata": {},
            "execution_count": null,
            "source": "r.as_quat().shape",
            "outputs": [
                {
                    "output_type": "execute_result",
                    "metadata": {},
                    "data": {
                        "text/plain": "(1, 4)"
                    },
                    "execution_count": null
                }
            ]
        },
        {
            "id": "09450f39",
            "cell_type": "markdown",
            "source": "Quaternions are normalized before initialization.\n",
            "metadata": {}
        },
        {
            "id": "9de15b84",
            "cell_type": "code",
            "metadata": {},
            "execution_count": null,
            "source": "r = R.from_quat([0, 0, 1, 1])\nr.as_quat()",
            "outputs": [
                {
                    "output_type": "execute_result",
                    "metadata": {},
                    "data": {
                        "text/plain": "array([0.        , 0.        , 0.70710678, 0.70710678])"
                    },
                    "execution_count": null
                }
            ]
        }
    ]
}