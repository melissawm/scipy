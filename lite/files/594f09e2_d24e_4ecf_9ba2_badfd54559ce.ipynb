{
    "nbformat": 4,
    "nbformat_minor": 5,
    "metadata": {
        "kernelspec": {
            "display_name": "Python",
            "language": "python",
            "name": "python"
        },
        "language_info": {
            "name": "python"
        }
    },
    "cells": [
        {
            "id": "3088fd6d",
            "cell_type": "markdown",
            "source": "<div class='alert alert-warning'>\n\nSciPy's interactive examples with Jupyterlite are experimental and may not always work as expected. Execution of cells containing imports may result in large downloads (up to 60MB of content for the first import from SciPy). Load times when importing from SciPy may take roughly 10-20 seconds. If you notice any problems, feel free to open an [issue](https://github.com/scipy/scipy/issues/new/choose).\n\n</div>",
            "metadata": {}
        },
        {
            "id": "ade98f47",
            "cell_type": "markdown",
            "source": "In the following example `kv` returns 0 whereas `kve` still returns\na useful finite number.\n",
            "metadata": {}
        },
        {
            "id": "8c474978",
            "cell_type": "code",
            "metadata": {},
            "execution_count": null,
            "source": "import numpy as np\nfrom scipy.special import kv, kve\nimport matplotlib.pyplot as plt\nkv(3, 1000.), kve(3, 1000.)",
            "outputs": [
                {
                    "output_type": "execute_result",
                    "metadata": {},
                    "data": {
                        "text/plain": "(0.0, 0.03980696128440973)"
                    },
                    "execution_count": null
                }
            ]
        },
        {
            "id": "4dbfc4dc",
            "cell_type": "markdown",
            "source": "Evaluate the function at one point for different orders by\nproviding a list or NumPy array as argument for the `v` parameter:\n",
            "metadata": {}
        },
        {
            "id": "d98c55bd",
            "cell_type": "code",
            "metadata": {},
            "execution_count": null,
            "source": "kve([0, 1, 1.5], 1.)",
            "outputs": [
                {
                    "output_type": "execute_result",
                    "metadata": {},
                    "data": {
                        "text/plain": "array([1.14446308, 1.63615349, 2.50662827])"
                    },
                    "execution_count": null
                }
            ]
        },
        {
            "id": "6d48011d",
            "cell_type": "markdown",
            "source": "Evaluate the function at several points for order 0 by providing an\narray for `z`.\n",
            "metadata": {}
        },
        {
            "id": "79fe9bad",
            "cell_type": "code",
            "metadata": {},
            "execution_count": null,
            "source": "points = np.array([1., 3., 10.])\nkve(0, points)",
            "outputs": [
                {
                    "output_type": "execute_result",
                    "metadata": {},
                    "data": {
                        "text/plain": "array([1.14446308, 0.6977616 , 0.39163193])"
                    },
                    "execution_count": null
                }
            ]
        },
        {
            "id": "19353b41",
            "cell_type": "markdown",
            "source": "Evaluate the function at several points for different orders by\nproviding arrays for both `v` for `z`. Both arrays have to be\nbroadcastable to the correct shape. To calculate the orders 0, 1\nand 2 for a 1D array of points:\n",
            "metadata": {}
        },
        {
            "id": "4daf7c3c",
            "cell_type": "code",
            "metadata": {},
            "execution_count": null,
            "source": "kve([[0], [1], [2]], points)",
            "outputs": [
                {
                    "output_type": "execute_result",
                    "metadata": {},
                    "data": {
                        "text/plain": "array([[1.14446308, 0.6977616 , 0.39163193],\n       [1.63615349, 0.80656348, 0.41076657],\n       [4.41677005, 1.23547058, 0.47378525]])"
                    },
                    "execution_count": null
                }
            ]
        },
        {
            "id": "41b99c41",
            "cell_type": "markdown",
            "source": "Plot the functions of order 0 to 3 from 0 to 5.\n",
            "metadata": {}
        },
        {
            "id": "03a0e6bf",
            "cell_type": "code",
            "metadata": {},
            "execution_count": null,
            "source": "fig, ax = plt.subplots()\nx = np.linspace(0., 5., 1000)\nfor i in range(4):\n    ax.plot(x, kve(i, x), label=fr'$K_{i!r}(z)\\cdot e^z$')\nax.legend()\nax.set_xlabel(r\"$z$\")\nax.set_ylim(0, 4)\nax.set_xlim(0, 5)\nplt.show()",
            "outputs": []
        }
    ]
}