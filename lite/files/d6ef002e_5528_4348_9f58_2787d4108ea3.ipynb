{
    "nbformat": 4,
    "nbformat_minor": 5,
    "metadata": {
        "kernelspec": {
            "display_name": "Python",
            "language": "python",
            "name": "python"
        },
        "language_info": {
            "name": "python"
        }
    },
    "cells": [
        {
            "id": "27649f9f",
            "cell_type": "markdown",
            "source": "<div class='alert alert-warning'>\n\nSciPy's interactive examples with Jupyterlite are experimental and may not always work as expected. Execution of cells containing imports may result in large downloads (up to 60MB of content for the first import from SciPy). Load times when importing from SciPy may take roughly 10-20 seconds. If you notice any problems, feel free to open an [issue](https://github.com/scipy/scipy/issues/new/choose).\n\n</div>",
            "metadata": {}
        },
        {
            "id": "333b93ad",
            "cell_type": "code",
            "metadata": {},
            "execution_count": null,
            "source": "from scipy.sparse import csr_matrix\nfrom scipy.sparse.csgraph import min_weight_full_bipartite_matching",
            "outputs": []
        },
        {
            "id": "4ffe3b44",
            "cell_type": "markdown",
            "source": "Let us first consider an example in which all weights are equal:\n",
            "metadata": {}
        },
        {
            "id": "b71ae9d0",
            "cell_type": "code",
            "metadata": {},
            "execution_count": null,
            "source": "biadjacency_matrix = csr_matrix([[1, 1, 1], [1, 0, 0], [0, 1, 0]])",
            "outputs": []
        },
        {
            "id": "b2581cb1",
            "cell_type": "markdown",
            "source": "Here, all we get is a perfect matching of the graph:\n",
            "metadata": {}
        },
        {
            "id": "85b9428b",
            "cell_type": "code",
            "metadata": {},
            "execution_count": null,
            "source": "print(min_weight_full_bipartite_matching(biadjacency_matrix)[1])",
            "outputs": [
                {
                    "output_type": "execute_result",
                    "metadata": {},
                    "data": {
                        "text/plain": "[2 0 1]"
                    },
                    "execution_count": null
                }
            ]
        },
        {
            "id": "4bbf7392",
            "cell_type": "markdown",
            "source": "That is, the first, second, and third rows are matched with the third,\nfirst, and second column respectively. Note that in this example, the 0\nin the input matrix does *not* correspond to an edge with weight 0, but\nrather a pair of vertices not paired by an edge.\n\nNote also that in this case, the output matches the result of applying\n:func:`maximum_bipartite_matching`:\n",
            "metadata": {}
        },
        {
            "id": "80017c7d",
            "cell_type": "code",
            "metadata": {},
            "execution_count": null,
            "source": "from scipy.sparse.csgraph import maximum_bipartite_matching\nbiadjacency = csr_matrix([[1, 1, 1], [1, 0, 0], [0, 1, 0]])\nprint(maximum_bipartite_matching(biadjacency, perm_type='column'))",
            "outputs": [
                {
                    "output_type": "execute_result",
                    "metadata": {},
                    "data": {
                        "text/plain": "[2 0 1]"
                    },
                    "execution_count": null
                }
            ]
        },
        {
            "id": "6b3488bc",
            "cell_type": "markdown",
            "source": "When multiple edges are available, the ones with lowest weights are\npreferred:\n",
            "metadata": {}
        },
        {
            "id": "edd5b74a",
            "cell_type": "code",
            "metadata": {},
            "execution_count": null,
            "source": "biadjacency = csr_matrix([[3, 3, 6], [4, 3, 5], [10, 1, 8]])\nrow_ind, col_ind = min_weight_full_bipartite_matching(biadjacency)\nprint(col_ind)",
            "outputs": [
                {
                    "output_type": "execute_result",
                    "metadata": {},
                    "data": {
                        "text/plain": "[0 2 1]"
                    },
                    "execution_count": null
                }
            ]
        },
        {
            "id": "c9088aa3",
            "cell_type": "markdown",
            "source": "The total weight in this case is $3 + 5 + 1 = 9$:\n",
            "metadata": {}
        },
        {
            "id": "3c8445c2",
            "cell_type": "code",
            "metadata": {},
            "execution_count": null,
            "source": "print(biadjacency[row_ind, col_ind].sum())",
            "outputs": [
                {
                    "output_type": "execute_result",
                    "metadata": {},
                    "data": {
                        "text/plain": "9"
                    },
                    "execution_count": null
                }
            ]
        },
        {
            "id": "4d174553",
            "cell_type": "markdown",
            "source": "When the matrix is not square, i.e. when the two partitions have different\ncardinalities, the matching is as large as the smaller of the two\npartitions:\n",
            "metadata": {}
        },
        {
            "id": "a472efbb",
            "cell_type": "code",
            "metadata": {},
            "execution_count": null,
            "source": "biadjacency = csr_matrix([[0, 1, 1], [0, 2, 3]])\nrow_ind, col_ind = min_weight_full_bipartite_matching(biadjacency)\nprint(row_ind, col_ind)",
            "outputs": [
                {
                    "output_type": "execute_result",
                    "metadata": {},
                    "data": {
                        "text/plain": "[0 1] [2 1]"
                    },
                    "execution_count": null
                }
            ]
        },
        {
            "id": "123c2f36",
            "cell_type": "code",
            "metadata": {},
            "execution_count": null,
            "source": "biadjacency = csr_matrix([[0, 1], [3, 1], [1, 4]])\nrow_ind, col_ind = min_weight_full_bipartite_matching(biadjacency)\nprint(row_ind, col_ind)",
            "outputs": [
                {
                    "output_type": "execute_result",
                    "metadata": {},
                    "data": {
                        "text/plain": "[0 2] [1 0]"
                    },
                    "execution_count": null
                }
            ]
        },
        {
            "id": "bc68ee45",
            "cell_type": "markdown",
            "source": "When one or both of the partitions are empty, the matching is empty as\nwell:\n",
            "metadata": {}
        },
        {
            "id": "97d2a4ff",
            "cell_type": "code",
            "metadata": {},
            "execution_count": null,
            "source": "biadjacency = csr_matrix((2, 0))\nrow_ind, col_ind = min_weight_full_bipartite_matching(biadjacency)\nprint(row_ind, col_ind)",
            "outputs": [
                {
                    "output_type": "execute_result",
                    "metadata": {},
                    "data": {
                        "text/plain": "[] []"
                    },
                    "execution_count": null
                }
            ]
        },
        {
            "id": "b38a7cf4",
            "cell_type": "markdown",
            "source": "In general, we will always reach the same sum of weights as if we had used\n:func:`scipy.optimize.linear_sum_assignment` but note that for that one,\nmissing edges are represented by a matrix entry of ``float('inf')``. Let us\ngenerate a random sparse matrix with integer entries between 1 and 10:\n",
            "metadata": {}
        },
        {
            "id": "aa856920",
            "cell_type": "code",
            "metadata": {},
            "execution_count": null,
            "source": "import numpy as np\nfrom scipy.sparse import random\nfrom scipy.optimize import linear_sum_assignment\nsparse = random(10, 10, random_state=42, density=.5, format='coo') * 10\nsparse.data = np.ceil(sparse.data)\ndense = sparse.toarray()\ndense = np.full(sparse.shape, np.inf)\ndense[sparse.row, sparse.col] = sparse.data\nsparse = sparse.tocsr()\nrow_ind, col_ind = linear_sum_assignment(dense)\nprint(dense[row_ind, col_ind].sum())",
            "outputs": [
                {
                    "output_type": "execute_result",
                    "metadata": {},
                    "data": {
                        "text/plain": "28.0"
                    },
                    "execution_count": null
                }
            ]
        },
        {
            "id": "a1e50320",
            "cell_type": "code",
            "metadata": {},
            "execution_count": null,
            "source": "row_ind, col_ind = min_weight_full_bipartite_matching(sparse)\nprint(sparse[row_ind, col_ind].sum())",
            "outputs": [
                {
                    "output_type": "execute_result",
                    "metadata": {},
                    "data": {
                        "text/plain": "28.0"
                    },
                    "execution_count": null
                }
            ]
        }
    ]
}