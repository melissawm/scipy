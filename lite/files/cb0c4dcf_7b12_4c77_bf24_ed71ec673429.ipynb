{
    "nbformat": 4,
    "nbformat_minor": 5,
    "metadata": {
        "kernelspec": {
            "display_name": "Python",
            "language": "python",
            "name": "python"
        },
        "language_info": {
            "name": "python"
        }
    },
    "cells": [
        {
            "id": "236f0279",
            "cell_type": "markdown",
            "source": "<div class='alert alert-warning'>\n\nSciPy's interactive examples with Jupyterlite are experimental and may not always work as expected. Execution of cells containing imports may result in large downloads (up to 60MB of content for the first import from SciPy). Load times when importing from SciPy may take roughly 10-20 seconds. If you notice any problems, feel free to open an [issue](https://github.com/scipy/scipy/issues/new/choose).\n\n</div>",
            "metadata": {}
        },
        {
            "id": "039c7194",
            "cell_type": "code",
            "metadata": {},
            "execution_count": null,
            "source": "import numpy as np\nfrom scipy.stats import ksone\nimport matplotlib.pyplot as plt\nfig, ax = plt.subplots(1, 1)",
            "outputs": []
        },
        {
            "id": "c4e83cb3",
            "cell_type": "markdown",
            "source": "Display the probability density function (``pdf``):\n",
            "metadata": {}
        },
        {
            "id": "2fec8895",
            "cell_type": "code",
            "metadata": {},
            "execution_count": null,
            "source": "n = 1e+03\nx = np.linspace(ksone.ppf(0.01, n),\n                ksone.ppf(0.99, n), 100)\nax.plot(x, ksone.pdf(x, n),\n        'r-', lw=5, alpha=0.6, label='ksone pdf')",
            "outputs": []
        },
        {
            "id": "e9e8ab71",
            "cell_type": "markdown",
            "source": "Alternatively, the distribution object can be called (as a function)\nto fix the shape, location and scale parameters. This returns a \"frozen\"\nRV object holding the given parameters fixed.\n\nFreeze the distribution and display the frozen ``pdf``:\n",
            "metadata": {}
        },
        {
            "id": "28a2e1ec",
            "cell_type": "code",
            "metadata": {},
            "execution_count": null,
            "source": "rv = ksone(n)\nax.plot(x, rv.pdf(x), 'k-', lw=2, label='frozen pdf')\nax.legend(loc='best', frameon=False)\nplt.show()",
            "outputs": []
        },
        {
            "id": "0c5b1003",
            "cell_type": "markdown",
            "source": "Check accuracy of ``cdf`` and ``ppf``:\n",
            "metadata": {}
        },
        {
            "id": "b42f058e",
            "cell_type": "code",
            "metadata": {},
            "execution_count": null,
            "source": "vals = ksone.ppf([0.001, 0.5, 0.999], n)\nnp.allclose([0.001, 0.5, 0.999], ksone.cdf(vals, n))",
            "outputs": [
                {
                    "output_type": "execute_result",
                    "metadata": {},
                    "data": {
                        "text/plain": "True"
                    },
                    "execution_count": null
                }
            ]
        }
    ]
}