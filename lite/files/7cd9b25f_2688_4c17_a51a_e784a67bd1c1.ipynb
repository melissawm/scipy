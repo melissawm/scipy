{
    "nbformat": 4,
    "nbformat_minor": 5,
    "metadata": {
        "kernelspec": {
            "display_name": "Python",
            "language": "python",
            "name": "python"
        },
        "language_info": {
            "name": "python"
        }
    },
    "cells": [
        {
            "id": "abc3c82a",
            "cell_type": "markdown",
            "source": "<div class='alert alert-warning'>\n\nSciPy's interactive examples with Jupyterlite are experimental and may not always work as expected. Execution of cells containing imports may result in large downloads (up to 60MB of content for the first import from SciPy). Load times when importing from SciPy may take roughly 10-20 seconds. If you notice any problems, feel free to open an [issue](https://github.com/scipy/scipy/issues/new/choose).\n\n</div>",
            "metadata": {}
        },
        {
            "id": "225e26ee",
            "cell_type": "markdown",
            "source": "An example with a 4x2 contingency table:\n",
            "metadata": {}
        },
        {
            "id": "bd8490c9",
            "cell_type": "code",
            "metadata": {},
            "execution_count": null,
            "source": "import numpy as np\nfrom scipy.stats.contingency import association\nobs4x2 = np.array([[100, 150], [203, 322], [420, 700], [320, 210]])",
            "outputs": []
        },
        {
            "id": "80ca8954",
            "cell_type": "markdown",
            "source": "Pearson's contingency coefficient\n",
            "metadata": {}
        },
        {
            "id": "8aece72a",
            "cell_type": "code",
            "metadata": {},
            "execution_count": null,
            "source": "association(obs4x2, method=\"pearson\")",
            "outputs": [
                {
                    "output_type": "execute_result",
                    "metadata": {},
                    "data": {
                        "text/plain": "0.18303298140595667"
                    },
                    "execution_count": null
                }
            ]
        },
        {
            "id": "ffc5ac31",
            "cell_type": "markdown",
            "source": "Cramer's V\n",
            "metadata": {}
        },
        {
            "id": "0073d288",
            "cell_type": "code",
            "metadata": {},
            "execution_count": null,
            "source": "association(obs4x2, method=\"cramer\")",
            "outputs": [
                {
                    "output_type": "execute_result",
                    "metadata": {},
                    "data": {
                        "text/plain": "0.18617813077483678"
                    },
                    "execution_count": null
                }
            ]
        },
        {
            "id": "f40c79e8",
            "cell_type": "markdown",
            "source": "Tschuprow's T\n",
            "metadata": {}
        },
        {
            "id": "b5374574",
            "cell_type": "code",
            "metadata": {},
            "execution_count": null,
            "source": "association(obs4x2, method=\"tschuprow\")",
            "outputs": [
                {
                    "output_type": "execute_result",
                    "metadata": {},
                    "data": {
                        "text/plain": "0.14146478765062995"
                    },
                    "execution_count": null
                }
            ]
        }
    ]
}