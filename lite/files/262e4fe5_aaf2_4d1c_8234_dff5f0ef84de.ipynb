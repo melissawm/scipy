{
    "nbformat": 4,
    "nbformat_minor": 5,
    "metadata": {
        "kernelspec": {
            "display_name": "Python",
            "language": "python",
            "name": "python"
        },
        "language_info": {
            "name": "python"
        }
    },
    "cells": [
        {
            "id": "c8e96885",
            "cell_type": "markdown",
            "source": "<div class='alert alert-warning'>\n\nSciPy's interactive examples with Jupyterlite are experimental and may not always work as expected. Execution of cells containing imports may result in large downloads (up to 60MB of content for the first import from SciPy). Load times when importing from SciPy may take roughly 10-20 seconds. If you notice any problems, feel free to open an [issue](https://github.com/scipy/scipy/issues/new/choose).\n\n</div>",
            "metadata": {}
        },
        {
            "id": "fc9b3023",
            "cell_type": "markdown",
            "source": "To create a NetCDF file:\n",
            "metadata": {}
        },
        {
            "id": "5a6b90d7",
            "cell_type": "code",
            "metadata": {},
            "execution_count": null,
            "source": "from scipy.io import netcdf_file\nimport numpy as np\nf = netcdf_file('simple.nc', 'w')\nf.history = 'Created for a test'\nf.createDimension('time', 10)\ntime = f.createVariable('time', 'i', ('time',))\ntime[:] = np.arange(10)\ntime.units = 'days since 2008-01-01'\nf.close()",
            "outputs": []
        },
        {
            "id": "7adc2f7c",
            "cell_type": "markdown",
            "source": "Note the assignment of ``arange(10)`` to ``time[:]``.  Exposing the slice\nof the time variable allows for the data to be set in the object, rather\nthan letting ``arange(10)`` overwrite the ``time`` variable.\n\nTo read the NetCDF file we just created:\n",
            "metadata": {}
        },
        {
            "id": "6e2814f1",
            "cell_type": "code",
            "metadata": {},
            "execution_count": null,
            "source": "from scipy.io import netcdf_file\nf = netcdf_file('simple.nc', 'r')\nprint(f.history)",
            "outputs": [
                {
                    "output_type": "execute_result",
                    "metadata": {},
                    "data": {
                        "text/plain": "b'Created for a test'"
                    },
                    "execution_count": null
                }
            ]
        },
        {
            "id": "8845134a",
            "cell_type": "code",
            "metadata": {},
            "execution_count": null,
            "source": "time = f.variables['time']\nprint(time.units)",
            "outputs": [
                {
                    "output_type": "execute_result",
                    "metadata": {},
                    "data": {
                        "text/plain": "b'days since 2008-01-01'"
                    },
                    "execution_count": null
                }
            ]
        },
        {
            "id": "13dc3d0a",
            "cell_type": "code",
            "metadata": {},
            "execution_count": null,
            "source": "print(time.shape)",
            "outputs": [
                {
                    "output_type": "execute_result",
                    "metadata": {},
                    "data": {
                        "text/plain": "(10,)"
                    },
                    "execution_count": null
                }
            ]
        },
        {
            "id": "35a69dd6",
            "cell_type": "code",
            "metadata": {},
            "execution_count": null,
            "source": "print(time[-1])",
            "outputs": [
                {
                    "output_type": "execute_result",
                    "metadata": {},
                    "data": {
                        "text/plain": "9"
                    },
                    "execution_count": null
                }
            ]
        },
        {
            "id": "ec531a4b",
            "cell_type": "markdown",
            "source": "NetCDF files, when opened read-only, return arrays that refer\ndirectly to memory-mapped data on disk:\n",
            "metadata": {}
        },
        {
            "id": "42d48e73",
            "cell_type": "code",
            "metadata": {},
            "execution_count": null,
            "source": "data = time[:]",
            "outputs": []
        },
        {
            "id": "75452a58",
            "cell_type": "markdown",
            "source": "If the data is to be processed after the file is closed, it needs\nto be copied to main memory:\n",
            "metadata": {}
        },
        {
            "id": "cb11ba81",
            "cell_type": "code",
            "metadata": {},
            "execution_count": null,
            "source": "data = time[:].copy()\ndel time\nf.close()\ndata.mean()",
            "outputs": [
                {
                    "output_type": "execute_result",
                    "metadata": {},
                    "data": {
                        "text/plain": "4.5"
                    },
                    "execution_count": null
                }
            ]
        },
        {
            "id": "3c3c0646",
            "cell_type": "markdown",
            "source": "A NetCDF file can also be used as context manager:\n",
            "metadata": {}
        },
        {
            "id": "6be0299d",
            "cell_type": "code",
            "metadata": {},
            "execution_count": null,
            "source": "from scipy.io import netcdf_file\nwith netcdf_file('simple.nc', 'r') as f:\n    print(f.history)",
            "outputs": [
                {
                    "output_type": "execute_result",
                    "metadata": {},
                    "data": {
                        "text/plain": "b'Created for a test'"
                    },
                    "execution_count": null
                }
            ]
        }
    ]
}