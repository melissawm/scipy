{
    "nbformat": 4,
    "nbformat_minor": 5,
    "metadata": {
        "kernelspec": {
            "display_name": "Python",
            "language": "python",
            "name": "python"
        },
        "language_info": {
            "name": "python"
        }
    },
    "cells": [
        {
            "id": "ebf04479",
            "cell_type": "markdown",
            "source": "<div class='alert alert-warning'>\n\nSciPy's interactive examples with Jupyterlite are experimental and may not always work as expected. Execution of cells containing imports may result in large downloads (up to 60MB of content for the first import from SciPy). Load times when importing from SciPy may take roughly 10-20 seconds. If you notice any problems, feel free to open an [issue](https://github.com/scipy/scipy/issues/new/choose).\n\n</div>",
            "metadata": {}
        },
        {
            "id": "8d3e33be",
            "cell_type": "code",
            "metadata": {},
            "execution_count": null,
            "source": "import numpy as np\nimport matplotlib.pyplot as plt\nfrom scipy.special import erfinv, erf",
            "outputs": []
        },
        {
            "id": "d6830ffe",
            "cell_type": "code",
            "metadata": {},
            "execution_count": null,
            "source": "erfinv(0.5)",
            "outputs": [
                {
                    "output_type": "execute_result",
                    "metadata": {},
                    "data": {
                        "text/plain": "0.4769362762044699"
                    },
                    "execution_count": null
                }
            ]
        },
        {
            "id": "b437170d",
            "cell_type": "code",
            "metadata": {},
            "execution_count": null,
            "source": "y = np.linspace(-1.0, 1.0, num=9)\nx = erfinv(y)\nx",
            "outputs": [
                {
                    "output_type": "execute_result",
                    "metadata": {},
                    "data": {
                        "text/plain": "array([       -inf, -0.81341985, -0.47693628, -0.22531206,  0.        ,\n        0.22531206,  0.47693628,  0.81341985,         inf])"
                    },
                    "execution_count": null
                }
            ]
        },
        {
            "id": "b82484e6",
            "cell_type": "markdown",
            "source": "Verify that ``erf(erfinv(y))`` is ``y``.\n",
            "metadata": {}
        },
        {
            "id": "0b2a0f14",
            "cell_type": "code",
            "metadata": {},
            "execution_count": null,
            "source": "erf(x)",
            "outputs": [
                {
                    "output_type": "execute_result",
                    "metadata": {},
                    "data": {
                        "text/plain": "array([-1.  , -0.75, -0.5 , -0.25,  0.  ,  0.25,  0.5 ,  0.75,  1.  ])"
                    },
                    "execution_count": null
                }
            ]
        },
        {
            "id": "85c5d059",
            "cell_type": "markdown",
            "source": "Plot the function:\n",
            "metadata": {}
        },
        {
            "id": "e2ce9341",
            "cell_type": "code",
            "metadata": {},
            "execution_count": null,
            "source": "y = np.linspace(-1, 1, 200)\nfig, ax = plt.subplots()\nax.plot(y, erfinv(y))\nax.grid(True)\nax.set_xlabel('y')\nax.set_title('erfinv(y)')\nplt.show()",
            "outputs": []
        }
    ]
}