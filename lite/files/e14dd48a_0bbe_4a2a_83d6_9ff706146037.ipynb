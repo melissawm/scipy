{
    "nbformat": 4,
    "nbformat_minor": 5,
    "metadata": {
        "kernelspec": {
            "display_name": "Python",
            "language": "python",
            "name": "python"
        },
        "language_info": {
            "name": "python"
        }
    },
    "cells": [
        {
            "id": "da84b0b1",
            "cell_type": "markdown",
            "source": "<div class='alert alert-warning'>\n\nSciPy's interactive examples with Jupyterlite are experimental and may not always work as expected. Execution of cells containing imports may result in large downloads (up to 60MB of content for the first import from SciPy). Load times when importing from SciPy may take roughly 10-20 seconds. If you notice any problems, feel free to open an [issue](https://github.com/scipy/scipy/issues/new/choose).\n\n</div>",
            "metadata": {}
        },
        {
            "id": "29c1c3c5",
            "cell_type": "code",
            "metadata": {},
            "execution_count": null,
            "source": "import numpy as np\nimport scipy.special as sc",
            "outputs": []
        },
        {
            "id": "3f5b56f5",
            "cell_type": "markdown",
            "source": "It has two positive zeros.\n",
            "metadata": {}
        },
        {
            "id": "16adc357",
            "cell_type": "code",
            "metadata": {},
            "execution_count": null,
            "source": "sc.gammaln([1, 2])",
            "outputs": [
                {
                    "output_type": "execute_result",
                    "metadata": {},
                    "data": {
                        "text/plain": "array([0., 0.])"
                    },
                    "execution_count": null
                }
            ]
        },
        {
            "id": "838a3d3f",
            "cell_type": "markdown",
            "source": "It has poles at nonpositive integers.\n",
            "metadata": {}
        },
        {
            "id": "af4aa4c7",
            "cell_type": "code",
            "metadata": {},
            "execution_count": null,
            "source": "sc.gammaln([0, -1, -2, -3, -4])",
            "outputs": [
                {
                    "output_type": "execute_result",
                    "metadata": {},
                    "data": {
                        "text/plain": "array([inf, inf, inf, inf, inf])"
                    },
                    "execution_count": null
                }
            ]
        },
        {
            "id": "acf930bc",
            "cell_type": "markdown",
            "source": "It asymptotically approaches ``x * log(x)`` (Stirling's formula).\n",
            "metadata": {}
        },
        {
            "id": "6c09bb8d",
            "cell_type": "code",
            "metadata": {},
            "execution_count": null,
            "source": "x = np.array([1e10, 1e20, 1e40, 1e80])\nsc.gammaln(x)",
            "outputs": [
                {
                    "output_type": "execute_result",
                    "metadata": {},
                    "data": {
                        "text/plain": "array([2.20258509e+11, 4.50517019e+21, 9.11034037e+41, 1.83206807e+82])"
                    },
                    "execution_count": null
                }
            ]
        },
        {
            "id": "6c6b1567",
            "cell_type": "code",
            "metadata": {},
            "execution_count": null,
            "source": "x * np.log(x)",
            "outputs": [
                {
                    "output_type": "execute_result",
                    "metadata": {},
                    "data": {
                        "text/plain": "array([2.30258509e+11, 4.60517019e+21, 9.21034037e+41, 1.84206807e+82])"
                    },
                    "execution_count": null
                }
            ]
        }
    ]
}