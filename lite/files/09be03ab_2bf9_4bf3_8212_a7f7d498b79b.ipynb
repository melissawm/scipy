{
    "nbformat": 4,
    "nbformat_minor": 5,
    "metadata": {
        "kernelspec": {
            "display_name": "Python",
            "language": "python",
            "name": "python"
        },
        "language_info": {
            "name": "python"
        }
    },
    "cells": [
        {
            "id": "683bb30b",
            "cell_type": "markdown",
            "source": "<div class='alert alert-warning'>\n\nSciPy's interactive examples with Jupyterlite are experimental and may not always work as expected. Execution of cells containing imports may result in large downloads (up to 60MB of content for the first import from SciPy). Load times when importing from SciPy may take roughly 10-20 seconds. If you notice any problems, feel free to open an [issue](https://github.com/scipy/scipy/issues/new/choose).\n\n</div>",
            "metadata": {}
        },
        {
            "id": "0def4956",
            "cell_type": "code",
            "metadata": {},
            "execution_count": null,
            "source": "import numpy as np\nfrom scipy.stats import invgauss\nimport matplotlib.pyplot as plt\nfig, ax = plt.subplots(1, 1)",
            "outputs": []
        },
        {
            "id": "31ea02ca",
            "cell_type": "markdown",
            "source": "Calculate the first four moments:\n",
            "metadata": {}
        },
        {
            "id": "0a47984c",
            "cell_type": "code",
            "metadata": {},
            "execution_count": null,
            "source": "mu = 0.145\nmean, var, skew, kurt = invgauss.stats(mu, moments='mvsk')",
            "outputs": []
        },
        {
            "id": "4625b387",
            "cell_type": "markdown",
            "source": "Display the probability density function (``pdf``):\n",
            "metadata": {}
        },
        {
            "id": "8a1bb091",
            "cell_type": "code",
            "metadata": {},
            "execution_count": null,
            "source": "x = np.linspace(invgauss.ppf(0.01, mu),\n                invgauss.ppf(0.99, mu), 100)\nax.plot(x, invgauss.pdf(x, mu),\n       'r-', lw=5, alpha=0.6, label='invgauss pdf')",
            "outputs": []
        },
        {
            "id": "a63befdb",
            "cell_type": "markdown",
            "source": "Alternatively, the distribution object can be called (as a function)\nto fix the shape, location and scale parameters. This returns a \"frozen\"\nRV object holding the given parameters fixed.\n\nFreeze the distribution and display the frozen ``pdf``:\n",
            "metadata": {}
        },
        {
            "id": "d132c823",
            "cell_type": "code",
            "metadata": {},
            "execution_count": null,
            "source": "rv = invgauss(mu)\nax.plot(x, rv.pdf(x), 'k-', lw=2, label='frozen pdf')",
            "outputs": []
        },
        {
            "id": "a1ead22b",
            "cell_type": "markdown",
            "source": "Check accuracy of ``cdf`` and ``ppf``:\n",
            "metadata": {}
        },
        {
            "id": "89286ecb",
            "cell_type": "code",
            "metadata": {},
            "execution_count": null,
            "source": "vals = invgauss.ppf([0.001, 0.5, 0.999], mu)\nnp.allclose([0.001, 0.5, 0.999], invgauss.cdf(vals, mu))",
            "outputs": [
                {
                    "output_type": "execute_result",
                    "metadata": {},
                    "data": {
                        "text/plain": "True"
                    },
                    "execution_count": null
                }
            ]
        },
        {
            "id": "0c1f2bc4",
            "cell_type": "markdown",
            "source": "Generate random numbers:\n",
            "metadata": {}
        },
        {
            "id": "df3df5eb",
            "cell_type": "code",
            "metadata": {},
            "execution_count": null,
            "source": "r = invgauss.rvs(mu, size=1000)",
            "outputs": []
        },
        {
            "id": "bcea089c",
            "cell_type": "markdown",
            "source": "And compare the histogram:\n",
            "metadata": {}
        },
        {
            "id": "9fe50166",
            "cell_type": "code",
            "metadata": {},
            "execution_count": null,
            "source": "ax.hist(r, density=True, bins='auto', histtype='stepfilled', alpha=0.2)\nax.set_xlim([x[0], x[-1]])\nax.legend(loc='best', frameon=False)\nplt.show()",
            "outputs": []
        }
    ]
}