{
    "nbformat": 4,
    "nbformat_minor": 5,
    "metadata": {
        "kernelspec": {
            "display_name": "Python",
            "language": "python",
            "name": "python"
        },
        "language_info": {
            "name": "python"
        }
    },
    "cells": [
        {
            "id": "d562d50f",
            "cell_type": "markdown",
            "source": "<div class='alert alert-warning'>\n\nSciPy's interactive examples with Jupyterlite are experimental and may not always work as expected. Execution of cells containing imports may result in large downloads (up to 60MB of content for the first import from SciPy). Load times when importing from SciPy may take roughly 10-20 seconds. If you notice any problems, feel free to open an [issue](https://github.com/scipy/scipy/issues/new/choose).\n\n</div>",
            "metadata": {}
        },
        {
            "id": "3503f25a",
            "cell_type": "code",
            "metadata": {},
            "execution_count": null,
            "source": "import numpy as np\nimport matplotlib.pyplot as plt\nfrom scipy.spatial import ConvexHull, convex_hull_plot_2d",
            "outputs": []
        },
        {
            "id": "a9eac001",
            "cell_type": "markdown",
            "source": "The convex hull of a random set of points:\n",
            "metadata": {}
        },
        {
            "id": "d0a628af",
            "cell_type": "code",
            "metadata": {},
            "execution_count": null,
            "source": "rng = np.random.default_rng()\npoints = rng.random((30, 2))\nhull = ConvexHull(points)",
            "outputs": []
        },
        {
            "id": "1fbb0acf",
            "cell_type": "markdown",
            "source": "Plot it:\n",
            "metadata": {}
        },
        {
            "id": "bd44de53",
            "cell_type": "code",
            "metadata": {},
            "execution_count": null,
            "source": "_ = convex_hull_plot_2d(hull)\nplt.show()",
            "outputs": []
        }
    ]
}