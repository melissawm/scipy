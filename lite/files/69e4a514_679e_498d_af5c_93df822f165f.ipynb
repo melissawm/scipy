{
    "nbformat": 4,
    "nbformat_minor": 5,
    "metadata": {
        "kernelspec": {
            "display_name": "Python",
            "language": "python",
            "name": "python"
        },
        "language_info": {
            "name": "python"
        }
    },
    "cells": [
        {
            "id": "b729b003",
            "cell_type": "markdown",
            "source": "<div class='alert alert-warning'>\n\nSciPy's interactive examples with Jupyterlite are experimental and may not always work as expected. Execution of cells containing imports may result in large downloads (up to 60MB of content for the first import from SciPy). Load times when importing from SciPy may take roughly 10-20 seconds. If you notice any problems, feel free to open an [issue](https://github.com/scipy/scipy/issues/new/choose).\n\n</div>",
            "metadata": {}
        },
        {
            "id": "98f53bc6",
            "cell_type": "code",
            "metadata": {},
            "execution_count": null,
            "source": "from scipy.cluster.hierarchy import ward, fcluster, leaders\nfrom scipy.spatial.distance import pdist",
            "outputs": []
        },
        {
            "id": "c5e636d5",
            "cell_type": "markdown",
            "source": "Given a linkage matrix ``Z`` - obtained after apply a clustering method\nto a dataset ``X`` - and a flat cluster assignment array ``T``:\n",
            "metadata": {}
        },
        {
            "id": "29f98025",
            "cell_type": "code",
            "metadata": {},
            "execution_count": null,
            "source": "X = [[0, 0], [0, 1], [1, 0],\n     [0, 4], [0, 3], [1, 4],\n     [4, 0], [3, 0], [4, 1],\n     [4, 4], [3, 4], [4, 3]]",
            "outputs": []
        },
        {
            "id": "e95feeb3",
            "cell_type": "code",
            "metadata": {},
            "execution_count": null,
            "source": "Z = ward(pdist(X))\nZ",
            "outputs": [
                {
                    "output_type": "execute_result",
                    "metadata": {},
                    "data": {
                        "text/plain": "array([[ 0.        ,  1.        ,  1.        ,  2.        ],\n       [ 3.        ,  4.        ,  1.        ,  2.        ],\n       [ 6.        ,  7.        ,  1.        ,  2.        ],\n       [ 9.        , 10.        ,  1.        ,  2.        ],\n       [ 2.        , 12.        ,  1.29099445,  3.        ],\n       [ 5.        , 13.        ,  1.29099445,  3.        ],\n       [ 8.        , 14.        ,  1.29099445,  3.        ],\n       [11.        , 15.        ,  1.29099445,  3.        ],\n       [16.        , 17.        ,  5.77350269,  6.        ],\n       [18.        , 19.        ,  5.77350269,  6.        ],\n       [20.        , 21.        ,  8.16496581, 12.        ]])"
                    },
                    "execution_count": null
                }
            ]
        },
        {
            "id": "ab7a6eba",
            "cell_type": "code",
            "metadata": {},
            "execution_count": null,
            "source": "T = fcluster(Z, 3, criterion='distance')\nT",
            "outputs": [
                {
                    "output_type": "execute_result",
                    "metadata": {},
                    "data": {
                        "text/plain": "array([1, 1, 1, 2, 2, 2, 3, 3, 3, 4, 4, 4], dtype=int32)"
                    },
                    "execution_count": null
                }
            ]
        },
        {
            "id": "d8cb6eb5",
            "cell_type": "markdown",
            "source": "`scipy.cluster.hierarchy.leaders` returns the indices of the nodes\nin the dendrogram that are the leaders of each flat cluster:\n",
            "metadata": {}
        },
        {
            "id": "4ddab02a",
            "cell_type": "code",
            "metadata": {},
            "execution_count": null,
            "source": "L, M = leaders(Z, T)\nL",
            "outputs": [
                {
                    "output_type": "execute_result",
                    "metadata": {},
                    "data": {
                        "text/plain": "array([16, 17, 18, 19], dtype=int32)"
                    },
                    "execution_count": null
                }
            ]
        },
        {
            "id": "db5ba6c7",
            "cell_type": "markdown",
            "source": "(remember that indices 0-11 point to the 12 data points in ``X``,\nwhereas indices 12-22 point to the 11 rows of ``Z``)\n\n`scipy.cluster.hierarchy.leaders` also returns the indices of\nthe flat clusters in ``T``:\n",
            "metadata": {}
        },
        {
            "id": "d471bab0",
            "cell_type": "code",
            "metadata": {},
            "execution_count": null,
            "source": "M",
            "outputs": [
                {
                    "output_type": "execute_result",
                    "metadata": {},
                    "data": {
                        "text/plain": "array([1, 2, 3, 4], dtype=int32)"
                    },
                    "execution_count": null
                }
            ]
        }
    ]
}