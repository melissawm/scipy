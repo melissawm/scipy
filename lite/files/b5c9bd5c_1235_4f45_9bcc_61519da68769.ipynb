{
    "nbformat": 4,
    "nbformat_minor": 5,
    "metadata": {
        "kernelspec": {
            "display_name": "Python",
            "language": "python",
            "name": "python"
        },
        "language_info": {
            "name": "python"
        }
    },
    "cells": [
        {
            "id": "30404e99",
            "cell_type": "markdown",
            "source": "<div class='alert alert-warning'>\n\nSciPy's interactive examples with Jupyterlite are experimental and may not always work as expected. Execution of cells containing imports may result in large downloads (up to 60MB of content for the first import from SciPy). Load times when importing from SciPy may take roughly 10-20 seconds. If you notice any problems, feel free to open an [issue](https://github.com/scipy/scipy/issues/new/choose).\n\n</div>",
            "metadata": {}
        },
        {
            "id": "fe789d6b",
            "cell_type": "code",
            "metadata": {},
            "execution_count": null,
            "source": "from scipy.sparse import csc_matrix\nfrom scipy.sparse.linalg import inv\nA = csc_matrix([[1., 0.], [1., 2.]])\nAinv = inv(A)\nAinv",
            "outputs": [
                {
                    "output_type": "execute_result",
                    "metadata": {},
                    "data": {
                        "text/plain": "<Compressed Sparse Column sparse matrix of dtype 'float64'\n    with 3 stored elements and shape (2, 2)>"
                    },
                    "execution_count": null
                }
            ]
        },
        {
            "id": "174a39e0",
            "cell_type": "code",
            "metadata": {},
            "execution_count": null,
            "source": "A.dot(Ainv)",
            "outputs": [
                {
                    "output_type": "execute_result",
                    "metadata": {},
                    "data": {
                        "text/plain": "<Compressed Sparse Column sparse matrix of dtype 'float64'\n    with 2 stored elements and shape (2, 2)>"
                    },
                    "execution_count": null
                }
            ]
        },
        {
            "id": "0643a9ad",
            "cell_type": "code",
            "metadata": {},
            "execution_count": null,
            "source": "A.dot(Ainv).toarray()",
            "outputs": [
                {
                    "output_type": "execute_result",
                    "metadata": {},
                    "data": {
                        "text/plain": "array([[ 1.,  0.],\n       [ 0.,  1.]])"
                    },
                    "execution_count": null
                }
            ]
        },
        {
            "id": "f7794e0a",
            "cell_type": "markdown",
            "source": ".. versionadded:: 0.12.0",
            "metadata": {}
        }
    ]
}