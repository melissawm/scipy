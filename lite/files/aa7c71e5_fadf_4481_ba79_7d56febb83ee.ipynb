{
    "nbformat": 4,
    "nbformat_minor": 5,
    "metadata": {
        "kernelspec": {
            "display_name": "Python",
            "language": "python",
            "name": "python"
        },
        "language_info": {
            "name": "python"
        }
    },
    "cells": [
        {
            "id": "ceba01c6",
            "cell_type": "markdown",
            "source": "<div class='alert alert-warning'>\n\nSciPy's interactive examples with Jupyterlite are experimental and may not always work as expected. Execution of cells containing imports may result in large downloads (up to 60MB of content for the first import from SciPy). Load times when importing from SciPy may take roughly 10-20 seconds. If you notice any problems, feel free to open an [issue](https://github.com/scipy/scipy/issues/new/choose).\n\n</div>",
            "metadata": {}
        },
        {
            "id": "23a1eec0",
            "cell_type": "code",
            "metadata": {},
            "execution_count": null,
            "source": "import numpy as np\nfrom scipy.stats import alpha\nimport matplotlib.pyplot as plt\nfig, ax = plt.subplots(1, 1)",
            "outputs": []
        },
        {
            "id": "c64e4c24",
            "cell_type": "markdown",
            "source": "Calculate the first four moments:\n",
            "metadata": {}
        },
        {
            "id": "4fb7fedd",
            "cell_type": "code",
            "metadata": {},
            "execution_count": null,
            "source": "a = 3.57\nmean, var, skew, kurt = alpha.stats(a, moments='mvsk')",
            "outputs": []
        },
        {
            "id": "7fe2c824",
            "cell_type": "markdown",
            "source": "Display the probability density function (``pdf``):\n",
            "metadata": {}
        },
        {
            "id": "e2606207",
            "cell_type": "code",
            "metadata": {},
            "execution_count": null,
            "source": "x = np.linspace(alpha.ppf(0.01, a),\n                alpha.ppf(0.99, a), 100)\nax.plot(x, alpha.pdf(x, a),\n       'r-', lw=5, alpha=0.6, label='alpha pdf')",
            "outputs": []
        },
        {
            "id": "b2331de4",
            "cell_type": "markdown",
            "source": "Alternatively, the distribution object can be called (as a function)\nto fix the shape, location and scale parameters. This returns a \"frozen\"\nRV object holding the given parameters fixed.\n\nFreeze the distribution and display the frozen ``pdf``:\n",
            "metadata": {}
        },
        {
            "id": "06d2474a",
            "cell_type": "code",
            "metadata": {},
            "execution_count": null,
            "source": "rv = alpha(a)\nax.plot(x, rv.pdf(x), 'k-', lw=2, label='frozen pdf')",
            "outputs": []
        },
        {
            "id": "b128857f",
            "cell_type": "markdown",
            "source": "Check accuracy of ``cdf`` and ``ppf``:\n",
            "metadata": {}
        },
        {
            "id": "84c9f7d5",
            "cell_type": "code",
            "metadata": {},
            "execution_count": null,
            "source": "vals = alpha.ppf([0.001, 0.5, 0.999], a)\nnp.allclose([0.001, 0.5, 0.999], alpha.cdf(vals, a))",
            "outputs": [
                {
                    "output_type": "execute_result",
                    "metadata": {},
                    "data": {
                        "text/plain": "True"
                    },
                    "execution_count": null
                }
            ]
        },
        {
            "id": "05eaf9dc",
            "cell_type": "markdown",
            "source": "Generate random numbers:\n",
            "metadata": {}
        },
        {
            "id": "c342b5b1",
            "cell_type": "code",
            "metadata": {},
            "execution_count": null,
            "source": "r = alpha.rvs(a, size=1000)",
            "outputs": []
        },
        {
            "id": "d5ad1f1c",
            "cell_type": "markdown",
            "source": "And compare the histogram:\n",
            "metadata": {}
        },
        {
            "id": "b6469c41",
            "cell_type": "code",
            "metadata": {},
            "execution_count": null,
            "source": "ax.hist(r, density=True, bins='auto', histtype='stepfilled', alpha=0.2)\nax.set_xlim([x[0], x[-1]])\nax.legend(loc='best', frameon=False)\nplt.show()",
            "outputs": []
        }
    ]
}