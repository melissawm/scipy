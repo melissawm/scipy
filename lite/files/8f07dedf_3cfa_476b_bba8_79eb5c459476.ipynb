{
    "nbformat": 4,
    "nbformat_minor": 5,
    "metadata": {
        "kernelspec": {
            "display_name": "Python",
            "language": "python",
            "name": "python"
        },
        "language_info": {
            "name": "python"
        }
    },
    "cells": [
        {
            "id": "ea4d8b56",
            "cell_type": "markdown",
            "source": "<div class='alert alert-warning'>\n\nSciPy's interactive examples with Jupyterlite are experimental and may not always work as expected. Execution of cells containing imports may result in large downloads (up to 60MB of content for the first import from SciPy). Load times when importing from SciPy may take roughly 10-20 seconds. If you notice any problems, feel free to open an [issue](https://github.com/scipy/scipy/issues/new/choose).\n\n</div>",
            "metadata": {}
        },
        {
            "id": "14f3ef09",
            "cell_type": "markdown",
            "source": "Generate some noisy data\n",
            "metadata": {}
        },
        {
            "id": "d88e5b23",
            "cell_type": "code",
            "metadata": {},
            "execution_count": null,
            "source": "import numpy as np\nnp.random.seed(1234)\nn = 200\ndef func(x):\n   return x**3 + x**2 * np.sin(4 * x)\nx = np.sort(np.random.random_sample(n) * 4 - 2)\ny = func(x) + np.random.normal(scale=1.5, size=n)",
            "outputs": []
        },
        {
            "id": "8de07d52",
            "cell_type": "markdown",
            "source": "Make a smoothing spline function\n",
            "metadata": {}
        },
        {
            "id": "0bf4588a",
            "cell_type": "code",
            "metadata": {},
            "execution_count": null,
            "source": "from scipy.interpolate import make_smoothing_spline\nspl = make_smoothing_spline(x, y)",
            "outputs": []
        },
        {
            "id": "e855e1e7",
            "cell_type": "markdown",
            "source": "Plot both\n",
            "metadata": {}
        },
        {
            "id": "f9d72f6f",
            "cell_type": "code",
            "metadata": {},
            "execution_count": null,
            "source": "import matplotlib.pyplot as plt\ngrid = np.linspace(x[0], x[-1], 400)\nplt.plot(grid, spl(grid), label='Spline')\nplt.plot(grid, func(grid), label='Original function')\nplt.scatter(x, y, marker='.')\nplt.legend(loc='best')\nplt.show()",
            "outputs": []
        }
    ]
}