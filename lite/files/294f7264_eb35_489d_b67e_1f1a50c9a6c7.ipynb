{
    "nbformat": 4,
    "nbformat_minor": 5,
    "metadata": {
        "kernelspec": {
            "display_name": "Python",
            "language": "python",
            "name": "python"
        },
        "language_info": {
            "name": "python"
        }
    },
    "cells": [
        {
            "id": "9060b539",
            "cell_type": "markdown",
            "source": "<div class='alert alert-warning'>\n\nSciPy's interactive examples with Jupyterlite are experimental and may not always work as expected. Execution of cells containing imports may result in large downloads (up to 60MB of content for the first import from SciPy). Load times when importing from SciPy may take roughly 10-20 seconds. If you notice any problems, feel free to open an [issue](https://github.com/scipy/scipy/issues/new/choose).\n\n</div>",
            "metadata": {}
        },
        {
            "id": "c94dccc1",
            "cell_type": "markdown",
            "source": "Basic homogeneity property:\n",
            "metadata": {}
        },
        {
            "id": "910730b0",
            "cell_type": "code",
            "metadata": {},
            "execution_count": null,
            "source": "import numpy as np\nfrom scipy.special import elliprj",
            "outputs": []
        },
        {
            "id": "420a9214",
            "cell_type": "code",
            "metadata": {},
            "execution_count": null,
            "source": "x = 1.2 + 3.4j\ny = 5.\nz = 6.\np = 7.\nscale = 0.3 - 0.4j\nelliprj(scale*x, scale*y, scale*z, scale*p)",
            "outputs": [
                {
                    "output_type": "execute_result",
                    "metadata": {},
                    "data": {
                        "text/plain": "(0.10834905565679157+0.19694950747103812j)"
                    },
                    "execution_count": null
                }
            ]
        },
        {
            "id": "9fc4fb87",
            "cell_type": "code",
            "metadata": {},
            "execution_count": null,
            "source": "elliprj(x, y, z, p)*np.power(scale, -1.5)",
            "outputs": [
                {
                    "output_type": "execute_result",
                    "metadata": {},
                    "data": {
                        "text/plain": "(0.10834905565679556+0.19694950747103854j)"
                    },
                    "execution_count": null
                }
            ]
        },
        {
            "id": "0b97048e",
            "cell_type": "markdown",
            "source": "Reduction to simpler elliptic integral:\n",
            "metadata": {}
        },
        {
            "id": "bc19e52f",
            "cell_type": "code",
            "metadata": {},
            "execution_count": null,
            "source": "elliprj(x, y, z, z)",
            "outputs": [
                {
                    "output_type": "execute_result",
                    "metadata": {},
                    "data": {
                        "text/plain": "(0.08288462362195129-0.028376809745123258j)"
                    },
                    "execution_count": null
                }
            ]
        },
        {
            "id": "fb13a73a",
            "cell_type": "code",
            "metadata": {},
            "execution_count": null,
            "source": "from scipy.special import elliprd\nelliprd(x, y, z)",
            "outputs": [
                {
                    "output_type": "execute_result",
                    "metadata": {},
                    "data": {
                        "text/plain": "(0.08288462362195136-0.028376809745123296j)"
                    },
                    "execution_count": null
                }
            ]
        },
        {
            "id": "e553237d",
            "cell_type": "markdown",
            "source": "All arguments coincide:\n",
            "metadata": {}
        },
        {
            "id": "c8ace9c5",
            "cell_type": "code",
            "metadata": {},
            "execution_count": null,
            "source": "elliprj(x, x, x, x)",
            "outputs": [
                {
                    "output_type": "execute_result",
                    "metadata": {},
                    "data": {
                        "text/plain": "(-0.03986825876151896-0.14051741840449586j)"
                    },
                    "execution_count": null
                }
            ]
        },
        {
            "id": "ed3444ca",
            "cell_type": "code",
            "metadata": {},
            "execution_count": null,
            "source": "np.power(x, -1.5)",
            "outputs": [
                {
                    "output_type": "execute_result",
                    "metadata": {},
                    "data": {
                        "text/plain": "(-0.03986825876151894-0.14051741840449583j)"
                    },
                    "execution_count": null
                }
            ]
        }
    ]
}