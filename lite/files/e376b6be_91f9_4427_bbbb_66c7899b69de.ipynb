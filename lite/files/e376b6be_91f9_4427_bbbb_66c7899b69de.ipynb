{
    "nbformat": 4,
    "nbformat_minor": 5,
    "metadata": {
        "kernelspec": {
            "display_name": "Python",
            "language": "python",
            "name": "python"
        },
        "language_info": {
            "name": "python"
        }
    },
    "cells": [
        {
            "id": "3115581d",
            "cell_type": "markdown",
            "source": "<div class='alert alert-warning'>\n\nSciPy's interactive examples with Jupyterlite are experimental and may not always work as expected. Execution of cells containing imports may result in large downloads (up to 60MB of content for the first import from SciPy). Load times when importing from SciPy may take roughly 10-20 seconds. If you notice any problems, feel free to open an [issue](https://github.com/scipy/scipy/issues/new/choose).\n\n</div>",
            "metadata": {}
        },
        {
            "id": "23a8d0eb",
            "cell_type": "code",
            "metadata": {},
            "execution_count": null,
            "source": "import numpy as np\nfrom scipy.stats import genexpon\nimport matplotlib.pyplot as plt\nfig, ax = plt.subplots(1, 1)",
            "outputs": []
        },
        {
            "id": "99de7d6d",
            "cell_type": "markdown",
            "source": "Calculate the first four moments:\n",
            "metadata": {}
        },
        {
            "id": "2e785bb5",
            "cell_type": "code",
            "metadata": {},
            "execution_count": null,
            "source": "a, b, c = 9.13, 16.2, 3.28\nmean, var, skew, kurt = genexpon.stats(a, b, c, moments='mvsk')",
            "outputs": []
        },
        {
            "id": "06c480ec",
            "cell_type": "markdown",
            "source": "Display the probability density function (``pdf``):\n",
            "metadata": {}
        },
        {
            "id": "bd41ffdd",
            "cell_type": "code",
            "metadata": {},
            "execution_count": null,
            "source": "x = np.linspace(genexpon.ppf(0.01, a, b, c),\n                genexpon.ppf(0.99, a, b, c), 100)\nax.plot(x, genexpon.pdf(x, a, b, c),\n       'r-', lw=5, alpha=0.6, label='genexpon pdf')",
            "outputs": []
        },
        {
            "id": "2dec4b73",
            "cell_type": "markdown",
            "source": "Alternatively, the distribution object can be called (as a function)\nto fix the shape, location and scale parameters. This returns a \"frozen\"\nRV object holding the given parameters fixed.\n\nFreeze the distribution and display the frozen ``pdf``:\n",
            "metadata": {}
        },
        {
            "id": "a6a4ac51",
            "cell_type": "code",
            "metadata": {},
            "execution_count": null,
            "source": "rv = genexpon(a, b, c)\nax.plot(x, rv.pdf(x), 'k-', lw=2, label='frozen pdf')",
            "outputs": []
        },
        {
            "id": "a9f2d478",
            "cell_type": "markdown",
            "source": "Check accuracy of ``cdf`` and ``ppf``:\n",
            "metadata": {}
        },
        {
            "id": "e39f8f10",
            "cell_type": "code",
            "metadata": {},
            "execution_count": null,
            "source": "vals = genexpon.ppf([0.001, 0.5, 0.999], a, b, c)\nnp.allclose([0.001, 0.5, 0.999], genexpon.cdf(vals, a, b, c))",
            "outputs": [
                {
                    "output_type": "execute_result",
                    "metadata": {},
                    "data": {
                        "text/plain": "True"
                    },
                    "execution_count": null
                }
            ]
        },
        {
            "id": "f07188ee",
            "cell_type": "markdown",
            "source": "Generate random numbers:\n",
            "metadata": {}
        },
        {
            "id": "2cdc97c2",
            "cell_type": "code",
            "metadata": {},
            "execution_count": null,
            "source": "r = genexpon.rvs(a, b, c, size=1000)",
            "outputs": []
        },
        {
            "id": "f10fbaf4",
            "cell_type": "markdown",
            "source": "And compare the histogram:\n",
            "metadata": {}
        },
        {
            "id": "1766994a",
            "cell_type": "code",
            "metadata": {},
            "execution_count": null,
            "source": "ax.hist(r, density=True, bins='auto', histtype='stepfilled', alpha=0.2)\nax.set_xlim([x[0], x[-1]])\nax.legend(loc='best', frameon=False)\nplt.show()",
            "outputs": []
        }
    ]
}