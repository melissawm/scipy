{
    "nbformat": 4,
    "nbformat_minor": 5,
    "metadata": {
        "kernelspec": {
            "display_name": "Python",
            "language": "python",
            "name": "python"
        },
        "language_info": {
            "name": "python"
        }
    },
    "cells": [
        {
            "id": "b1d242d6",
            "cell_type": "markdown",
            "source": "<div class='alert alert-warning'>\n\nSciPy's interactive examples with Jupyterlite are experimental and may not always work as expected. Execution of cells containing imports may result in large downloads (up to 60MB of content for the first import from SciPy). Load times when importing from SciPy may take roughly 10-20 seconds. If you notice any problems, feel free to open an [issue](https://github.com/scipy/scipy/issues/new/choose).\n\n</div>",
            "metadata": {}
        },
        {
            "id": "f782c3a1",
            "cell_type": "code",
            "metadata": {},
            "execution_count": null,
            "source": "import numpy as np\nfrom scipy.spatial import KDTree\nx, y = np.mgrid[0:5, 2:8]\ntree = KDTree(np.c_[x.ravel(), y.ravel()])",
            "outputs": []
        },
        {
            "id": "04970b3d",
            "cell_type": "markdown",
            "source": "To query the nearest neighbours and return squeezed result, use\n",
            "metadata": {}
        },
        {
            "id": "278980fd",
            "cell_type": "code",
            "metadata": {},
            "execution_count": null,
            "source": "dd, ii = tree.query([[0, 0], [2.2, 2.9]], k=1)\nprint(dd, ii, sep='\\n')",
            "outputs": [
                {
                    "output_type": "execute_result",
                    "metadata": {},
                    "data": {
                        "text/plain": "[2.         0.2236068]\n[ 0 13]"
                    },
                    "execution_count": null
                }
            ]
        },
        {
            "id": "0f4d1a86",
            "cell_type": "markdown",
            "source": "To query the nearest neighbours and return unsqueezed result, use\n",
            "metadata": {}
        },
        {
            "id": "e138097e",
            "cell_type": "code",
            "metadata": {},
            "execution_count": null,
            "source": "dd, ii = tree.query([[0, 0], [2.2, 2.9]], k=[1])\nprint(dd, ii, sep='\\n')",
            "outputs": [
                {
                    "output_type": "execute_result",
                    "metadata": {},
                    "data": {
                        "text/plain": "[[2.        ]\n [0.2236068]]\n[[ 0]\n [13]]"
                    },
                    "execution_count": null
                }
            ]
        },
        {
            "id": "c5c286ba",
            "cell_type": "markdown",
            "source": "To query the second nearest neighbours and return unsqueezed result,\nuse\n",
            "metadata": {}
        },
        {
            "id": "404ebf2f",
            "cell_type": "code",
            "metadata": {},
            "execution_count": null,
            "source": "dd, ii = tree.query([[0, 0], [2.2, 2.9]], k=[2])\nprint(dd, ii, sep='\\n')",
            "outputs": [
                {
                    "output_type": "execute_result",
                    "metadata": {},
                    "data": {
                        "text/plain": "[[2.23606798]\n [0.80622577]]\n[[ 6]\n [19]]"
                    },
                    "execution_count": null
                }
            ]
        },
        {
            "id": "07621230",
            "cell_type": "markdown",
            "source": "To query the first and second nearest neighbours, use\n",
            "metadata": {}
        },
        {
            "id": "7c4714fb",
            "cell_type": "code",
            "metadata": {},
            "execution_count": null,
            "source": "dd, ii = tree.query([[0, 0], [2.2, 2.9]], k=2)\nprint(dd, ii, sep='\\n')",
            "outputs": [
                {
                    "output_type": "execute_result",
                    "metadata": {},
                    "data": {
                        "text/plain": "[[2.         2.23606798]\n [0.2236068  0.80622577]]\n[[ 0  6]\n [13 19]]"
                    },
                    "execution_count": null
                }
            ]
        },
        {
            "id": "ba329edc",
            "cell_type": "markdown",
            "source": "or, be more specific\n",
            "metadata": {}
        },
        {
            "id": "de7d1c63",
            "cell_type": "code",
            "metadata": {},
            "execution_count": null,
            "source": "dd, ii = tree.query([[0, 0], [2.2, 2.9]], k=[1, 2])\nprint(dd, ii, sep='\\n')",
            "outputs": [
                {
                    "output_type": "execute_result",
                    "metadata": {},
                    "data": {
                        "text/plain": "[[2.         2.23606798]\n [0.2236068  0.80622577]]\n[[ 0  6]\n [13 19]]"
                    },
                    "execution_count": null
                }
            ]
        }
    ]
}