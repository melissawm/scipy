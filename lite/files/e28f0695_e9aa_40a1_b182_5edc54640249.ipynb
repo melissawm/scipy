{
    "nbformat": 4,
    "nbformat_minor": 5,
    "metadata": {
        "kernelspec": {
            "display_name": "Python",
            "language": "python",
            "name": "python"
        },
        "language_info": {
            "name": "python"
        }
    },
    "cells": [
        {
            "id": "04b7692c",
            "cell_type": "markdown",
            "source": "<div class='alert alert-warning'>\n\nSciPy's interactive examples with Jupyterlite are experimental and may not always work as expected. Execution of cells containing imports may result in large downloads (up to 60MB of content for the first import from SciPy). Load times when importing from SciPy may take roughly 10-20 seconds. If you notice any problems, feel free to open an [issue](https://github.com/scipy/scipy/issues/new/choose).\n\n</div>",
            "metadata": {}
        },
        {
            "id": "daa71ebc",
            "cell_type": "code",
            "metadata": {},
            "execution_count": null,
            "source": "import numpy as np\nfrom scipy.stats import nbinom\nimport matplotlib.pyplot as plt\nfig, ax = plt.subplots(1, 1)",
            "outputs": []
        },
        {
            "id": "c4faa620",
            "cell_type": "markdown",
            "source": "Calculate the first four moments:\n",
            "metadata": {}
        },
        {
            "id": "41fee01e",
            "cell_type": "code",
            "metadata": {},
            "execution_count": null,
            "source": "n, p = 5, 0.5\nmean, var, skew, kurt = nbinom.stats(n, p, moments='mvsk')",
            "outputs": []
        },
        {
            "id": "07956175",
            "cell_type": "markdown",
            "source": "Display the probability mass function (``pmf``):\n",
            "metadata": {}
        },
        {
            "id": "26676597",
            "cell_type": "code",
            "metadata": {},
            "execution_count": null,
            "source": "x = np.arange(nbinom.ppf(0.01, n, p),\n              nbinom.ppf(0.99, n, p))\nax.plot(x, nbinom.pmf(x, n, p), 'bo', ms=8, label='nbinom pmf')\nax.vlines(x, 0, nbinom.pmf(x, n, p), colors='b', lw=5, alpha=0.5)",
            "outputs": []
        },
        {
            "id": "16a35468",
            "cell_type": "markdown",
            "source": "Alternatively, the distribution object can be called (as a function)\nto fix the shape and location. This returns a \"frozen\" RV object holding\nthe given parameters fixed.\n\nFreeze the distribution and display the frozen ``pmf``:\n",
            "metadata": {}
        },
        {
            "id": "4fd48fe5",
            "cell_type": "code",
            "metadata": {},
            "execution_count": null,
            "source": "rv = nbinom(n, p)\nax.vlines(x, 0, rv.pmf(x), colors='k', linestyles='-', lw=1,\n        label='frozen pmf')\nax.legend(loc='best', frameon=False)\nplt.show()",
            "outputs": []
        },
        {
            "id": "b01c3d7b",
            "cell_type": "markdown",
            "source": "Check accuracy of ``cdf`` and ``ppf``:\n",
            "metadata": {}
        },
        {
            "id": "6e0ed02d",
            "cell_type": "code",
            "metadata": {},
            "execution_count": null,
            "source": "prob = nbinom.cdf(x, n, p)\nnp.allclose(x, nbinom.ppf(prob, n, p))",
            "outputs": [
                {
                    "output_type": "execute_result",
                    "metadata": {},
                    "data": {
                        "text/plain": "True"
                    },
                    "execution_count": null
                }
            ]
        },
        {
            "id": "19752942",
            "cell_type": "markdown",
            "source": "Generate random numbers:\n",
            "metadata": {}
        },
        {
            "id": "e659ae06",
            "cell_type": "code",
            "metadata": {},
            "execution_count": null,
            "source": "r = nbinom.rvs(n, p, size=1000)",
            "outputs": []
        }
    ]
}