{
    "nbformat": 4,
    "nbformat_minor": 5,
    "metadata": {
        "kernelspec": {
            "display_name": "Python",
            "language": "python",
            "name": "python"
        },
        "language_info": {
            "name": "python"
        }
    },
    "cells": [
        {
            "id": "be92b967",
            "cell_type": "markdown",
            "source": "<div class='alert alert-warning'>\n\nSciPy's interactive examples with Jupyterlite are experimental and may not always work as expected. Execution of cells containing imports may result in large downloads (up to 60MB of content for the first import from SciPy). Load times when importing from SciPy may take roughly 10-20 seconds. If you notice any problems, feel free to open an [issue](https://github.com/scipy/scipy/issues/new/choose).\n\n</div>",
            "metadata": {}
        },
        {
            "id": "e1f542be",
            "cell_type": "code",
            "metadata": {},
            "execution_count": null,
            "source": "import numpy as np\nfrom scipy.stats import betabinom\nimport matplotlib.pyplot as plt\nfig, ax = plt.subplots(1, 1)",
            "outputs": []
        },
        {
            "id": "be654f33",
            "cell_type": "markdown",
            "source": "Calculate the first four moments:\n",
            "metadata": {}
        },
        {
            "id": "5d32139f",
            "cell_type": "code",
            "metadata": {},
            "execution_count": null,
            "source": "n, a, b = 5, 2.3, 0.63\nmean, var, skew, kurt = betabinom.stats(n, a, b, moments='mvsk')",
            "outputs": []
        },
        {
            "id": "7a7857ad",
            "cell_type": "markdown",
            "source": "Display the probability mass function (``pmf``):\n",
            "metadata": {}
        },
        {
            "id": "25214617",
            "cell_type": "code",
            "metadata": {},
            "execution_count": null,
            "source": "x = np.arange(betabinom.ppf(0.01, n, a, b),\n              betabinom.ppf(0.99, n, a, b))\nax.plot(x, betabinom.pmf(x, n, a, b), 'bo', ms=8, label='betabinom pmf')\nax.vlines(x, 0, betabinom.pmf(x, n, a, b), colors='b', lw=5, alpha=0.5)",
            "outputs": []
        },
        {
            "id": "fb122725",
            "cell_type": "markdown",
            "source": "Alternatively, the distribution object can be called (as a function)\nto fix the shape and location. This returns a \"frozen\" RV object holding\nthe given parameters fixed.\n\nFreeze the distribution and display the frozen ``pmf``:\n",
            "metadata": {}
        },
        {
            "id": "4b792fdf",
            "cell_type": "code",
            "metadata": {},
            "execution_count": null,
            "source": "rv = betabinom(n, a, b)\nax.vlines(x, 0, rv.pmf(x), colors='k', linestyles='-', lw=1,\n        label='frozen pmf')\nax.legend(loc='best', frameon=False)\nplt.show()",
            "outputs": []
        },
        {
            "id": "69ed0071",
            "cell_type": "markdown",
            "source": "Check accuracy of ``cdf`` and ``ppf``:\n",
            "metadata": {}
        },
        {
            "id": "44e22f95",
            "cell_type": "code",
            "metadata": {},
            "execution_count": null,
            "source": "prob = betabinom.cdf(x, n, a, b)\nnp.allclose(x, betabinom.ppf(prob, n, a, b))",
            "outputs": [
                {
                    "output_type": "execute_result",
                    "metadata": {},
                    "data": {
                        "text/plain": "True"
                    },
                    "execution_count": null
                }
            ]
        },
        {
            "id": "2f2223e2",
            "cell_type": "markdown",
            "source": "Generate random numbers:\n",
            "metadata": {}
        },
        {
            "id": "2b8e5275",
            "cell_type": "code",
            "metadata": {},
            "execution_count": null,
            "source": "r = betabinom.rvs(n, a, b, size=1000)",
            "outputs": []
        }
    ]
}