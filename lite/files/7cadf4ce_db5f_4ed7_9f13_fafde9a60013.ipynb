{
    "nbformat": 4,
    "nbformat_minor": 5,
    "metadata": {
        "kernelspec": {
            "display_name": "Python",
            "language": "python",
            "name": "python"
        },
        "language_info": {
            "name": "python"
        }
    },
    "cells": [
        {
            "id": "e914ec3c",
            "cell_type": "markdown",
            "source": "<div class='alert alert-warning'>\n\nSciPy's interactive examples with Jupyterlite are experimental and may not always work as expected. Execution of cells containing imports may result in large downloads (up to 60MB of content for the first import from SciPy). Load times when importing from SciPy may take roughly 10-20 seconds. If you notice any problems, feel free to open an [issue](https://github.com/scipy/scipy/issues/new/choose).\n\n</div>",
            "metadata": {}
        },
        {
            "id": "2d94c02c",
            "cell_type": "code",
            "metadata": {},
            "execution_count": null,
            "source": "import numpy as np\nfrom scipy.special import expit, logit",
            "outputs": []
        },
        {
            "id": "11a0f71b",
            "cell_type": "code",
            "metadata": {},
            "execution_count": null,
            "source": "expit([-np.inf, -1.5, 0, 1.5, np.inf])",
            "outputs": [
                {
                    "output_type": "execute_result",
                    "metadata": {},
                    "data": {
                        "text/plain": "array([ 0.        ,  0.18242552,  0.5       ,  0.81757448,  1.        ])"
                    },
                    "execution_count": null
                }
            ]
        },
        {
            "id": "19330693",
            "cell_type": "markdown",
            "source": "`logit` is the inverse of `expit`:\n",
            "metadata": {}
        },
        {
            "id": "c4342c7c",
            "cell_type": "code",
            "metadata": {},
            "execution_count": null,
            "source": "logit(expit([-2.5, 0, 3.1, 5.0]))",
            "outputs": [
                {
                    "output_type": "execute_result",
                    "metadata": {},
                    "data": {
                        "text/plain": "array([-2.5,  0. ,  3.1,  5. ])"
                    },
                    "execution_count": null
                }
            ]
        },
        {
            "id": "c64113cc",
            "cell_type": "markdown",
            "source": "Plot expit(x) for x in [-6, 6]:\n",
            "metadata": {}
        },
        {
            "id": "97a8182c",
            "cell_type": "code",
            "metadata": {},
            "execution_count": null,
            "source": "import matplotlib.pyplot as plt\nx = np.linspace(-6, 6, 121)\ny = expit(x)\nplt.plot(x, y)\nplt.grid()\nplt.xlim(-6, 6)\nplt.xlabel('x')\nplt.title('expit(x)')\nplt.show()",
            "outputs": []
        }
    ]
}