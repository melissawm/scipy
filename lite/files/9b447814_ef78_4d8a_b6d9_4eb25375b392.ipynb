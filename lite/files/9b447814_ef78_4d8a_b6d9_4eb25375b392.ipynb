{
    "nbformat": 4,
    "nbformat_minor": 5,
    "metadata": {
        "kernelspec": {
            "display_name": "Python",
            "language": "python",
            "name": "python"
        },
        "language_info": {
            "name": "python"
        }
    },
    "cells": [
        {
            "id": "90fbd741",
            "cell_type": "markdown",
            "source": "<div class='alert alert-warning'>\n\nSciPy's interactive examples with Jupyterlite are experimental and may not always work as expected. Execution of cells containing imports may result in large downloads (up to 60MB of content for the first import from SciPy). Load times when importing from SciPy may take roughly 10-20 seconds. If you notice any problems, feel free to open an [issue](https://github.com/scipy/scipy/issues/new/choose).\n\n</div>",
            "metadata": {}
        },
        {
            "id": "803ee98d",
            "cell_type": "code",
            "metadata": {},
            "execution_count": null,
            "source": "import numpy as np\nfrom scipy.stats import skewnorm\nimport matplotlib.pyplot as plt\nfig, ax = plt.subplots(1, 1)",
            "outputs": []
        },
        {
            "id": "bc4b2f8b",
            "cell_type": "markdown",
            "source": "Calculate the first four moments:\n",
            "metadata": {}
        },
        {
            "id": "83751e4c",
            "cell_type": "code",
            "metadata": {},
            "execution_count": null,
            "source": "a = 4\nmean, var, skew, kurt = skewnorm.stats(a, moments='mvsk')",
            "outputs": []
        },
        {
            "id": "31ace4fe",
            "cell_type": "markdown",
            "source": "Display the probability density function (``pdf``):\n",
            "metadata": {}
        },
        {
            "id": "874520d9",
            "cell_type": "code",
            "metadata": {},
            "execution_count": null,
            "source": "x = np.linspace(skewnorm.ppf(0.01, a),\n                skewnorm.ppf(0.99, a), 100)\nax.plot(x, skewnorm.pdf(x, a),\n       'r-', lw=5, alpha=0.6, label='skewnorm pdf')",
            "outputs": []
        },
        {
            "id": "5a45e8e4",
            "cell_type": "markdown",
            "source": "Alternatively, the distribution object can be called (as a function)\nto fix the shape, location and scale parameters. This returns a \"frozen\"\nRV object holding the given parameters fixed.\n\nFreeze the distribution and display the frozen ``pdf``:\n",
            "metadata": {}
        },
        {
            "id": "72388e57",
            "cell_type": "code",
            "metadata": {},
            "execution_count": null,
            "source": "rv = skewnorm(a)\nax.plot(x, rv.pdf(x), 'k-', lw=2, label='frozen pdf')",
            "outputs": []
        },
        {
            "id": "326605b5",
            "cell_type": "markdown",
            "source": "Check accuracy of ``cdf`` and ``ppf``:\n",
            "metadata": {}
        },
        {
            "id": "25513ec1",
            "cell_type": "code",
            "metadata": {},
            "execution_count": null,
            "source": "vals = skewnorm.ppf([0.001, 0.5, 0.999], a)\nnp.allclose([0.001, 0.5, 0.999], skewnorm.cdf(vals, a))",
            "outputs": [
                {
                    "output_type": "execute_result",
                    "metadata": {},
                    "data": {
                        "text/plain": "True"
                    },
                    "execution_count": null
                }
            ]
        },
        {
            "id": "f6ff3751",
            "cell_type": "markdown",
            "source": "Generate random numbers:\n",
            "metadata": {}
        },
        {
            "id": "e0efdf70",
            "cell_type": "code",
            "metadata": {},
            "execution_count": null,
            "source": "r = skewnorm.rvs(a, size=1000)",
            "outputs": []
        },
        {
            "id": "95b1f834",
            "cell_type": "markdown",
            "source": "And compare the histogram:\n",
            "metadata": {}
        },
        {
            "id": "837680c2",
            "cell_type": "code",
            "metadata": {},
            "execution_count": null,
            "source": "ax.hist(r, density=True, bins='auto', histtype='stepfilled', alpha=0.2)\nax.set_xlim([x[0], x[-1]])\nax.legend(loc='best', frameon=False)\nplt.show()",
            "outputs": []
        }
    ]
}