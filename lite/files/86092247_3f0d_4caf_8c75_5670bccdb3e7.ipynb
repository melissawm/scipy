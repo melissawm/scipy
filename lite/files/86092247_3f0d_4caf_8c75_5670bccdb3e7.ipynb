{
    "nbformat": 4,
    "nbformat_minor": 5,
    "metadata": {
        "kernelspec": {
            "display_name": "Python",
            "language": "python",
            "name": "python"
        },
        "language_info": {
            "name": "python"
        }
    },
    "cells": [
        {
            "id": "8fe9decc",
            "cell_type": "markdown",
            "source": "<div class='alert alert-warning'>\n\nSciPy's interactive examples with Jupyterlite are experimental and may not always work as expected. Execution of cells containing imports may result in large downloads (up to 60MB of content for the first import from SciPy). Load times when importing from SciPy may take roughly 10-20 seconds. If you notice any problems, feel free to open an [issue](https://github.com/scipy/scipy/issues/new/choose).\n\n</div>",
            "metadata": {}
        },
        {
            "id": "159fc5ae",
            "cell_type": "code",
            "metadata": {},
            "execution_count": null,
            "source": "from scipy.stats.sampling import SimpleRatioUniforms\nimport numpy as np",
            "outputs": []
        },
        {
            "id": "ad8c62ec",
            "cell_type": "markdown",
            "source": "Suppose we have the normal distribution:\n",
            "metadata": {}
        },
        {
            "id": "a7d4b69a",
            "cell_type": "code",
            "metadata": {},
            "execution_count": null,
            "source": "class StdNorm:\n    def pdf(self, x):\n        return np.exp(-0.5 * x**2)",
            "outputs": []
        },
        {
            "id": "16ab88f4",
            "cell_type": "markdown",
            "source": "Notice that the PDF doesn't integrate to 1. We can either pass the exact\narea under the PDF during initialization of the generator or an upper\nbound to the exact area under the PDF. Also, it is recommended to pass\nthe mode of the distribution to speed up the setup:\n",
            "metadata": {}
        },
        {
            "id": "087a9369",
            "cell_type": "code",
            "metadata": {},
            "execution_count": null,
            "source": "urng = np.random.default_rng()\ndist = StdNorm()\nrng = SimpleRatioUniforms(dist, mode=0,\n                          pdf_area=np.sqrt(2*np.pi),\n                          random_state=urng)",
            "outputs": []
        },
        {
            "id": "59bb54c6",
            "cell_type": "markdown",
            "source": "Now, we can use the `rvs` method to generate samples from the distribution:\n",
            "metadata": {}
        },
        {
            "id": "56c76a5c",
            "cell_type": "code",
            "metadata": {},
            "execution_count": null,
            "source": "rvs = rng.rvs(10)",
            "outputs": []
        },
        {
            "id": "2c090f8b",
            "cell_type": "markdown",
            "source": "If the CDF at mode is available, it can be set to improve the performance of `rvs`:\n",
            "metadata": {}
        },
        {
            "id": "ecfc4d8e",
            "cell_type": "code",
            "metadata": {},
            "execution_count": null,
            "source": "from scipy.stats import norm\nrng = SimpleRatioUniforms(dist, mode=0,\n                          pdf_area=np.sqrt(2*np.pi),\n                          cdf_at_mode=norm.cdf(0),\n                          random_state=urng)\nrvs = rng.rvs(1000)",
            "outputs": []
        },
        {
            "id": "ff2297c4",
            "cell_type": "markdown",
            "source": "We can check that the samples are from the given distribution by visualizing\nits histogram:\n",
            "metadata": {}
        },
        {
            "id": "b355d47a",
            "cell_type": "code",
            "metadata": {},
            "execution_count": null,
            "source": "import matplotlib.pyplot as plt\nx = np.linspace(rvs.min()-0.1, rvs.max()+0.1, 1000)\nfx = 1/np.sqrt(2*np.pi) * dist.pdf(x)\nfig, ax = plt.subplots()\nax.plot(x, fx, 'r-', lw=2, label='true distribution')\nax.hist(rvs, bins=10, density=True, alpha=0.8, label='random variates')\nax.set_xlabel('x')\nax.set_ylabel('PDF(x)')\nax.set_title('Simple Ratio-of-Uniforms Samples')\nax.legend()\nplt.show()",
            "outputs": []
        }
    ]
}