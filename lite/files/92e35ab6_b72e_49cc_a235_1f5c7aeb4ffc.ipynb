{
    "nbformat": 4,
    "nbformat_minor": 5,
    "metadata": {
        "kernelspec": {
            "display_name": "Python",
            "language": "python",
            "name": "python"
        },
        "language_info": {
            "name": "python"
        }
    },
    "cells": [
        {
            "id": "053d5c38",
            "cell_type": "markdown",
            "source": "<div class='alert alert-warning'>\n\nSciPy's interactive examples with Jupyterlite are experimental and may not always work as expected. Execution of cells containing imports may result in large downloads (up to 60MB of content for the first import from SciPy). Load times when importing from SciPy may take roughly 10-20 seconds. If you notice any problems, feel free to open an [issue](https://github.com/scipy/scipy/issues/new/choose).\n\n</div>",
            "metadata": {}
        },
        {
            "id": "89e03d54",
            "cell_type": "code",
            "metadata": {},
            "execution_count": null,
            "source": "import numpy as np\nfrom scipy.stats import exponweib\nimport matplotlib.pyplot as plt\nfig, ax = plt.subplots(1, 1)",
            "outputs": []
        },
        {
            "id": "450dcc2a",
            "cell_type": "markdown",
            "source": "Calculate the first four moments:\n",
            "metadata": {}
        },
        {
            "id": "e41d6c4e",
            "cell_type": "code",
            "metadata": {},
            "execution_count": null,
            "source": "a, c = 2.89, 1.95\nmean, var, skew, kurt = exponweib.stats(a, c, moments='mvsk')",
            "outputs": []
        },
        {
            "id": "dda9038d",
            "cell_type": "markdown",
            "source": "Display the probability density function (``pdf``):\n",
            "metadata": {}
        },
        {
            "id": "6192da41",
            "cell_type": "code",
            "metadata": {},
            "execution_count": null,
            "source": "x = np.linspace(exponweib.ppf(0.01, a, c),\n                exponweib.ppf(0.99, a, c), 100)\nax.plot(x, exponweib.pdf(x, a, c),\n       'r-', lw=5, alpha=0.6, label='exponweib pdf')",
            "outputs": []
        },
        {
            "id": "9d2d2da1",
            "cell_type": "markdown",
            "source": "Alternatively, the distribution object can be called (as a function)\nto fix the shape, location and scale parameters. This returns a \"frozen\"\nRV object holding the given parameters fixed.\n\nFreeze the distribution and display the frozen ``pdf``:\n",
            "metadata": {}
        },
        {
            "id": "4210cf45",
            "cell_type": "code",
            "metadata": {},
            "execution_count": null,
            "source": "rv = exponweib(a, c)\nax.plot(x, rv.pdf(x), 'k-', lw=2, label='frozen pdf')",
            "outputs": []
        },
        {
            "id": "f143d338",
            "cell_type": "markdown",
            "source": "Check accuracy of ``cdf`` and ``ppf``:\n",
            "metadata": {}
        },
        {
            "id": "e9c71925",
            "cell_type": "code",
            "metadata": {},
            "execution_count": null,
            "source": "vals = exponweib.ppf([0.001, 0.5, 0.999], a, c)\nnp.allclose([0.001, 0.5, 0.999], exponweib.cdf(vals, a, c))",
            "outputs": [
                {
                    "output_type": "execute_result",
                    "metadata": {},
                    "data": {
                        "text/plain": "True"
                    },
                    "execution_count": null
                }
            ]
        },
        {
            "id": "c432694d",
            "cell_type": "markdown",
            "source": "Generate random numbers:\n",
            "metadata": {}
        },
        {
            "id": "9ac41ace",
            "cell_type": "code",
            "metadata": {},
            "execution_count": null,
            "source": "r = exponweib.rvs(a, c, size=1000)",
            "outputs": []
        },
        {
            "id": "1233d8c1",
            "cell_type": "markdown",
            "source": "And compare the histogram:\n",
            "metadata": {}
        },
        {
            "id": "19efd44c",
            "cell_type": "code",
            "metadata": {},
            "execution_count": null,
            "source": "ax.hist(r, density=True, bins='auto', histtype='stepfilled', alpha=0.2)\nax.set_xlim([x[0], x[-1]])\nax.legend(loc='best', frameon=False)\nplt.show()",
            "outputs": []
        }
    ]
}