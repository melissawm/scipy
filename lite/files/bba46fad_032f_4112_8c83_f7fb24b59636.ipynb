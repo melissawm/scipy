{
    "nbformat": 4,
    "nbformat_minor": 5,
    "metadata": {
        "kernelspec": {
            "display_name": "Python",
            "language": "python",
            "name": "python"
        },
        "language_info": {
            "name": "python"
        }
    },
    "cells": [
        {
            "id": "9f39d379",
            "cell_type": "markdown",
            "source": "<div class='alert alert-warning'>\n\nSciPy's interactive examples with Jupyterlite are experimental and may not always work as expected. Execution of cells containing imports may result in large downloads (up to 60MB of content for the first import from SciPy). Load times when importing from SciPy may take roughly 10-20 seconds. If you notice any problems, feel free to open an [issue](https://github.com/scipy/scipy/issues/new/choose).\n\n</div>",
            "metadata": {}
        },
        {
            "id": "087b80a2",
            "cell_type": "code",
            "metadata": {},
            "execution_count": null,
            "source": "import scipy.special as sc",
            "outputs": []
        },
        {
            "id": "5f2b7c6b",
            "cell_type": "markdown",
            "source": "It is the survival function of the gamma distribution, so it\nstarts at 1 and monotonically decreases to 0.\n",
            "metadata": {}
        },
        {
            "id": "2e3e021a",
            "cell_type": "code",
            "metadata": {},
            "execution_count": null,
            "source": "sc.gammaincc(0.5, [0, 1, 10, 100, 1000])",
            "outputs": [
                {
                    "output_type": "execute_result",
                    "metadata": {},
                    "data": {
                        "text/plain": "array([1.00000000e+00, 1.57299207e-01, 7.74421643e-06, 2.08848758e-45,\n       0.00000000e+00])"
                    },
                    "execution_count": null
                }
            ]
        },
        {
            "id": "b0304783",
            "cell_type": "markdown",
            "source": "It is equal to one minus the lower incomplete gamma function.\n",
            "metadata": {}
        },
        {
            "id": "10b348a1",
            "cell_type": "code",
            "metadata": {},
            "execution_count": null,
            "source": "a, x = 0.5, 0.4\nsc.gammaincc(a, x)",
            "outputs": [
                {
                    "output_type": "execute_result",
                    "metadata": {},
                    "data": {
                        "text/plain": "0.37109336952269756"
                    },
                    "execution_count": null
                }
            ]
        },
        {
            "id": "d46a0a50",
            "cell_type": "code",
            "metadata": {},
            "execution_count": null,
            "source": "1 - sc.gammainc(a, x)",
            "outputs": [
                {
                    "output_type": "execute_result",
                    "metadata": {},
                    "data": {
                        "text/plain": "0.37109336952269756"
                    },
                    "execution_count": null
                }
            ]
        }
    ]
}