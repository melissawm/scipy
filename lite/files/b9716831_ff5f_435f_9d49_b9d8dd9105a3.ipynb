{
    "nbformat": 4,
    "nbformat_minor": 5,
    "metadata": {
        "kernelspec": {
            "display_name": "Python",
            "language": "python",
            "name": "python"
        },
        "language_info": {
            "name": "python"
        }
    },
    "cells": [
        {
            "id": "0fe1f772",
            "cell_type": "markdown",
            "source": "<div class='alert alert-warning'>\n\nSciPy's interactive examples with Jupyterlite are experimental and may not always work as expected. Execution of cells containing imports may result in large downloads (up to 60MB of content for the first import from SciPy). Load times when importing from SciPy may take roughly 10-20 seconds. If you notice any problems, feel free to open an [issue](https://github.com/scipy/scipy/issues/new/choose).\n\n</div>",
            "metadata": {}
        },
        {
            "id": "5e9d8817",
            "cell_type": "code",
            "metadata": {},
            "execution_count": null,
            "source": "import numpy as np\nfrom scipy.stats import f\nimport matplotlib.pyplot as plt\nfig, ax = plt.subplots(1, 1)",
            "outputs": []
        },
        {
            "id": "0bb1cb36",
            "cell_type": "markdown",
            "source": "Calculate the first four moments:\n",
            "metadata": {}
        },
        {
            "id": "68f28b35",
            "cell_type": "code",
            "metadata": {},
            "execution_count": null,
            "source": "dfn, dfd = 29, 18\nmean, var, skew, kurt = f.stats(dfn, dfd, moments='mvsk')",
            "outputs": []
        },
        {
            "id": "9b9ea9df",
            "cell_type": "markdown",
            "source": "Display the probability density function (``pdf``):\n",
            "metadata": {}
        },
        {
            "id": "8bfac838",
            "cell_type": "code",
            "metadata": {},
            "execution_count": null,
            "source": "x = np.linspace(f.ppf(0.01, dfn, dfd),\n                f.ppf(0.99, dfn, dfd), 100)\nax.plot(x, f.pdf(x, dfn, dfd),\n       'r-', lw=5, alpha=0.6, label='f pdf')",
            "outputs": []
        },
        {
            "id": "249d4708",
            "cell_type": "markdown",
            "source": "Alternatively, the distribution object can be called (as a function)\nto fix the shape, location and scale parameters. This returns a \"frozen\"\nRV object holding the given parameters fixed.\n\nFreeze the distribution and display the frozen ``pdf``:\n",
            "metadata": {}
        },
        {
            "id": "e5ff7788",
            "cell_type": "code",
            "metadata": {},
            "execution_count": null,
            "source": "rv = f(dfn, dfd)\nax.plot(x, rv.pdf(x), 'k-', lw=2, label='frozen pdf')",
            "outputs": []
        },
        {
            "id": "bcc5f07d",
            "cell_type": "markdown",
            "source": "Check accuracy of ``cdf`` and ``ppf``:\n",
            "metadata": {}
        },
        {
            "id": "ed73a081",
            "cell_type": "code",
            "metadata": {},
            "execution_count": null,
            "source": "vals = f.ppf([0.001, 0.5, 0.999], dfn, dfd)\nnp.allclose([0.001, 0.5, 0.999], f.cdf(vals, dfn, dfd))",
            "outputs": [
                {
                    "output_type": "execute_result",
                    "metadata": {},
                    "data": {
                        "text/plain": "True"
                    },
                    "execution_count": null
                }
            ]
        },
        {
            "id": "d9cd3077",
            "cell_type": "markdown",
            "source": "Generate random numbers:\n",
            "metadata": {}
        },
        {
            "id": "7a07b710",
            "cell_type": "code",
            "metadata": {},
            "execution_count": null,
            "source": "r = f.rvs(dfn, dfd, size=1000)",
            "outputs": []
        },
        {
            "id": "38f2a05f",
            "cell_type": "markdown",
            "source": "And compare the histogram:\n",
            "metadata": {}
        },
        {
            "id": "e7e41ba1",
            "cell_type": "code",
            "metadata": {},
            "execution_count": null,
            "source": "ax.hist(r, density=True, bins='auto', histtype='stepfilled', alpha=0.2)\nax.set_xlim([x[0], x[-1]])\nax.legend(loc='best', frameon=False)\nplt.show()",
            "outputs": []
        }
    ]
}