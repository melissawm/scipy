{
    "nbformat": 4,
    "nbformat_minor": 5,
    "metadata": {
        "kernelspec": {
            "display_name": "Python",
            "language": "python",
            "name": "python"
        },
        "language_info": {
            "name": "python"
        }
    },
    "cells": [
        {
            "id": "7310ba5b",
            "cell_type": "markdown",
            "source": "<div class='alert alert-warning'>\n\nSciPy's interactive examples with Jupyterlite are experimental and may not always work as expected. Execution of cells containing imports may result in large downloads (up to 60MB of content for the first import from SciPy). Load times when importing from SciPy may take roughly 10-20 seconds. If you notice any problems, feel free to open an [issue](https://github.com/scipy/scipy/issues/new/choose).\n\n</div>",
            "metadata": {}
        },
        {
            "id": "80c83268",
            "cell_type": "code",
            "metadata": {},
            "execution_count": null,
            "source": "import numpy as np\nfrom scipy.stats import powerlognorm\nimport matplotlib.pyplot as plt\nfig, ax = plt.subplots(1, 1)",
            "outputs": []
        },
        {
            "id": "fba3b97c",
            "cell_type": "markdown",
            "source": "Calculate the first four moments:\n",
            "metadata": {}
        },
        {
            "id": "d0be8e8d",
            "cell_type": "code",
            "metadata": {},
            "execution_count": null,
            "source": "c, s = 2.14, 0.446\nmean, var, skew, kurt = powerlognorm.stats(c, s, moments='mvsk')",
            "outputs": []
        },
        {
            "id": "e4bbab49",
            "cell_type": "markdown",
            "source": "Display the probability density function (``pdf``):\n",
            "metadata": {}
        },
        {
            "id": "867899d3",
            "cell_type": "code",
            "metadata": {},
            "execution_count": null,
            "source": "x = np.linspace(powerlognorm.ppf(0.01, c, s),\n                powerlognorm.ppf(0.99, c, s), 100)\nax.plot(x, powerlognorm.pdf(x, c, s),\n       'r-', lw=5, alpha=0.6, label='powerlognorm pdf')",
            "outputs": []
        },
        {
            "id": "73646169",
            "cell_type": "markdown",
            "source": "Alternatively, the distribution object can be called (as a function)\nto fix the shape, location and scale parameters. This returns a \"frozen\"\nRV object holding the given parameters fixed.\n\nFreeze the distribution and display the frozen ``pdf``:\n",
            "metadata": {}
        },
        {
            "id": "b580488b",
            "cell_type": "code",
            "metadata": {},
            "execution_count": null,
            "source": "rv = powerlognorm(c, s)\nax.plot(x, rv.pdf(x), 'k-', lw=2, label='frozen pdf')",
            "outputs": []
        },
        {
            "id": "2ffd449a",
            "cell_type": "markdown",
            "source": "Check accuracy of ``cdf`` and ``ppf``:\n",
            "metadata": {}
        },
        {
            "id": "946e1c90",
            "cell_type": "code",
            "metadata": {},
            "execution_count": null,
            "source": "vals = powerlognorm.ppf([0.001, 0.5, 0.999], c, s)\nnp.allclose([0.001, 0.5, 0.999], powerlognorm.cdf(vals, c, s))",
            "outputs": [
                {
                    "output_type": "execute_result",
                    "metadata": {},
                    "data": {
                        "text/plain": "True"
                    },
                    "execution_count": null
                }
            ]
        },
        {
            "id": "0c17c13f",
            "cell_type": "markdown",
            "source": "Generate random numbers:\n",
            "metadata": {}
        },
        {
            "id": "01a24467",
            "cell_type": "code",
            "metadata": {},
            "execution_count": null,
            "source": "r = powerlognorm.rvs(c, s, size=1000)",
            "outputs": []
        },
        {
            "id": "21390160",
            "cell_type": "markdown",
            "source": "And compare the histogram:\n",
            "metadata": {}
        },
        {
            "id": "a719c8c6",
            "cell_type": "code",
            "metadata": {},
            "execution_count": null,
            "source": "ax.hist(r, density=True, bins='auto', histtype='stepfilled', alpha=0.2)\nax.set_xlim([x[0], x[-1]])\nax.legend(loc='best', frameon=False)\nplt.show()",
            "outputs": []
        }
    ]
}