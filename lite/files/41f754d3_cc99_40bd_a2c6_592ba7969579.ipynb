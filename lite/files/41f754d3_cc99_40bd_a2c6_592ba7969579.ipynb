{
    "nbformat": 4,
    "nbformat_minor": 5,
    "metadata": {
        "kernelspec": {
            "display_name": "Python",
            "language": "python",
            "name": "python"
        },
        "language_info": {
            "name": "python"
        }
    },
    "cells": [
        {
            "id": "cb9e1791",
            "cell_type": "markdown",
            "source": "<div class='alert alert-warning'>\n\nSciPy's interactive examples with Jupyterlite are experimental and may not always work as expected. Execution of cells containing imports may result in large downloads (up to 60MB of content for the first import from SciPy). Load times when importing from SciPy may take roughly 10-20 seconds. If you notice any problems, feel free to open an [issue](https://github.com/scipy/scipy/issues/new/choose).\n\n</div>",
            "metadata": {}
        },
        {
            "id": "ac8feb4e",
            "cell_type": "code",
            "metadata": {},
            "execution_count": null,
            "source": "import numpy as np\nfrom scipy.linalg import lu\nA = np.array([[2, 5, 8, 7], [5, 2, 2, 8], [7, 5, 6, 6], [5, 4, 4, 8]])\np, l, u = lu(A)\nnp.allclose(A, p @ l @ u)",
            "outputs": [
                {
                    "output_type": "execute_result",
                    "metadata": {},
                    "data": {
                        "text/plain": "True"
                    },
                    "execution_count": null
                }
            ]
        },
        {
            "id": "2cb99419",
            "cell_type": "code",
            "metadata": {},
            "execution_count": null,
            "source": "p  # Permutation matrix",
            "outputs": [
                {
                    "output_type": "execute_result",
                    "metadata": {},
                    "data": {
                        "text/plain": "array([[0., 1., 0., 0.],  # Row index 1\n       [0., 0., 0., 1.],  # Row index 3\n       [1., 0., 0., 0.],  # Row index 0\n       [0., 0., 1., 0.]]) # Row index 2"
                    },
                    "execution_count": null
                }
            ]
        },
        {
            "id": "5fb5577e",
            "cell_type": "code",
            "metadata": {},
            "execution_count": null,
            "source": "p, _, _ = lu(A, p_indices=True)\np",
            "outputs": [
                {
                    "output_type": "execute_result",
                    "metadata": {},
                    "data": {
                        "text/plain": "array([1, 3, 0, 2])  # as given by row indices above"
                    },
                    "execution_count": null
                }
            ]
        },
        {
            "id": "9badec2d",
            "cell_type": "code",
            "metadata": {},
            "execution_count": null,
            "source": "np.allclose(A, l[p, :] @ u)",
            "outputs": [
                {
                    "output_type": "execute_result",
                    "metadata": {},
                    "data": {
                        "text/plain": "True"
                    },
                    "execution_count": null
                }
            ]
        },
        {
            "id": "00a550aa",
            "cell_type": "markdown",
            "source": "We can also use nd-arrays, for example, a demonstration with 4D array:\n",
            "metadata": {}
        },
        {
            "id": "9de4176e",
            "cell_type": "code",
            "metadata": {},
            "execution_count": null,
            "source": "rng = np.random.default_rng()\nA = rng.uniform(low=-4, high=4, size=[3, 2, 4, 8])\np, l, u = lu(A)\np.shape, l.shape, u.shape",
            "outputs": [
                {
                    "output_type": "execute_result",
                    "metadata": {},
                    "data": {
                        "text/plain": "((3, 2, 4, 4), (3, 2, 4, 4), (3, 2, 4, 8))"
                    },
                    "execution_count": null
                }
            ]
        },
        {
            "id": "a80c1c21",
            "cell_type": "code",
            "metadata": {},
            "execution_count": null,
            "source": "np.allclose(A, p @ l @ u)",
            "outputs": [
                {
                    "output_type": "execute_result",
                    "metadata": {},
                    "data": {
                        "text/plain": "True"
                    },
                    "execution_count": null
                }
            ]
        },
        {
            "id": "787485e7",
            "cell_type": "code",
            "metadata": {},
            "execution_count": null,
            "source": "PL, U = lu(A, permute_l=True)\nnp.allclose(A, PL @ U)",
            "outputs": [
                {
                    "output_type": "execute_result",
                    "metadata": {},
                    "data": {
                        "text/plain": "True"
                    },
                    "execution_count": null
                }
            ]
        }
    ]
}