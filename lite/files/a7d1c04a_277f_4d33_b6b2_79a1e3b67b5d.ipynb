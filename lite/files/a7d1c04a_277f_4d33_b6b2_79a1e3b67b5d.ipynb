{
    "nbformat": 4,
    "nbformat_minor": 5,
    "metadata": {
        "kernelspec": {
            "display_name": "Python",
            "language": "python",
            "name": "python"
        },
        "language_info": {
            "name": "python"
        }
    },
    "cells": [
        {
            "id": "4ae54914",
            "cell_type": "markdown",
            "source": "<div class='alert alert-warning'>\n\nSciPy's interactive examples with Jupyterlite are experimental and may not always work as expected. Execution of cells containing imports may result in large downloads (up to 60MB of content for the first import from SciPy). Load times when importing from SciPy may take roughly 10-20 seconds. If you notice any problems, feel free to open an [issue](https://github.com/scipy/scipy/issues/new/choose).\n\n</div>",
            "metadata": {}
        },
        {
            "id": "4aaf4a1d",
            "cell_type": "code",
            "metadata": {},
            "execution_count": null,
            "source": "from scipy.constants import find, physical_constants",
            "outputs": []
        },
        {
            "id": "24fdd3cd",
            "cell_type": "markdown",
            "source": "Which keys in the ``physical_constants`` dictionary contain 'boltzmann'?\n",
            "metadata": {}
        },
        {
            "id": "82bbe5cb",
            "cell_type": "code",
            "metadata": {},
            "execution_count": null,
            "source": "find('boltzmann')",
            "outputs": [
                {
                    "output_type": "execute_result",
                    "metadata": {},
                    "data": {
                        "text/plain": "['Boltzmann constant',\n 'Boltzmann constant in Hz/K',\n 'Boltzmann constant in eV/K',\n 'Boltzmann constant in inverse meter per kelvin',\n 'Stefan-Boltzmann constant']"
                    },
                    "execution_count": null
                }
            ]
        },
        {
            "id": "cb7928e2",
            "cell_type": "markdown",
            "source": "Get the constant called 'Boltzmann constant in Hz/K':\n",
            "metadata": {}
        },
        {
            "id": "323a2662",
            "cell_type": "code",
            "metadata": {},
            "execution_count": null,
            "source": "physical_constants['Boltzmann constant in Hz/K']",
            "outputs": [
                {
                    "output_type": "execute_result",
                    "metadata": {},
                    "data": {
                        "text/plain": "(20836619120.0, 'Hz K^-1', 0.0)"
                    },
                    "execution_count": null
                }
            ]
        },
        {
            "id": "bf7c9e18",
            "cell_type": "markdown",
            "source": "Find constants with 'radius' in the key:\n",
            "metadata": {}
        },
        {
            "id": "3c834493",
            "cell_type": "code",
            "metadata": {},
            "execution_count": null,
            "source": "find('radius')",
            "outputs": [
                {
                    "output_type": "execute_result",
                    "metadata": {},
                    "data": {
                        "text/plain": "['Bohr radius',\n 'classical electron radius',\n 'deuteron rms charge radius',\n 'proton rms charge radius']"
                    },
                    "execution_count": null
                }
            ]
        },
        {
            "id": "a66e7c5a",
            "cell_type": "code",
            "metadata": {},
            "execution_count": null,
            "source": "physical_constants['classical electron radius']",
            "outputs": [
                {
                    "output_type": "execute_result",
                    "metadata": {},
                    "data": {
                        "text/plain": "(2.8179403262e-15, 'm', 1.3e-24)"
                    },
                    "execution_count": null
                }
            ]
        }
    ]
}