{
    "nbformat": 4,
    "nbformat_minor": 5,
    "metadata": {
        "kernelspec": {
            "display_name": "Python",
            "language": "python",
            "name": "python"
        },
        "language_info": {
            "name": "python"
        }
    },
    "cells": [
        {
            "id": "63bad21f",
            "cell_type": "markdown",
            "source": "<div class='alert alert-warning'>\n\nSciPy's interactive examples with Jupyterlite are experimental and may not always work as expected. Execution of cells containing imports may result in large downloads (up to 60MB of content for the first import from SciPy). Load times when importing from SciPy may take roughly 10-20 seconds. If you notice any problems, feel free to open an [issue](https://github.com/scipy/scipy/issues/new/choose).\n\n</div>",
            "metadata": {}
        },
        {
            "id": "f61b4db8",
            "cell_type": "code",
            "metadata": {},
            "execution_count": null,
            "source": "from scipy.special import ncfdtr, ncfdtridfd",
            "outputs": []
        },
        {
            "id": "16d1499d",
            "cell_type": "markdown",
            "source": "Compute the CDF for several values of `dfd`:\n",
            "metadata": {}
        },
        {
            "id": "48ee99bf",
            "cell_type": "code",
            "metadata": {},
            "execution_count": null,
            "source": "dfd = [1, 2, 3]\np = ncfdtr(2, dfd, 0.25, 15)\np",
            "outputs": [
                {
                    "output_type": "execute_result",
                    "metadata": {},
                    "data": {
                        "text/plain": "array([ 0.8097138 ,  0.93020416,  0.96787852])"
                    },
                    "execution_count": null
                }
            ]
        },
        {
            "id": "593283c6",
            "cell_type": "markdown",
            "source": "Compute the inverse.  We recover the values of `dfd`, as expected:\n",
            "metadata": {}
        },
        {
            "id": "a263ea69",
            "cell_type": "code",
            "metadata": {},
            "execution_count": null,
            "source": "ncfdtridfd(2, p, 0.25, 15)",
            "outputs": [
                {
                    "output_type": "execute_result",
                    "metadata": {},
                    "data": {
                        "text/plain": "array([ 1.,  2.,  3.])"
                    },
                    "execution_count": null
                }
            ]
        }
    ]
}