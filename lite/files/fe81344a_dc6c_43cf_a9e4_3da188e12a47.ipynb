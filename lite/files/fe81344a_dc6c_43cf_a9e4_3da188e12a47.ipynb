{
    "nbformat": 4,
    "nbformat_minor": 5,
    "metadata": {
        "kernelspec": {
            "display_name": "Python",
            "language": "python",
            "name": "python"
        },
        "language_info": {
            "name": "python"
        }
    },
    "cells": [
        {
            "id": "db6917ea",
            "cell_type": "markdown",
            "source": "<div class='alert alert-warning'>\n\nSciPy's interactive examples with Jupyterlite are experimental and may not always work as expected. Execution of cells containing imports may result in large downloads (up to 60MB of content for the first import from SciPy). Load times when importing from SciPy may take roughly 10-20 seconds. If you notice any problems, feel free to open an [issue](https://github.com/scipy/scipy/issues/new/choose).\n\n</div>",
            "metadata": {}
        },
        {
            "id": "1f6f0dd9",
            "cell_type": "markdown",
            "source": "An impulse at the 0th element ($\\delta[n]$):\n",
            "metadata": {}
        },
        {
            "id": "321fd006",
            "cell_type": "code",
            "metadata": {},
            "execution_count": null,
            "source": "from scipy import signal\nsignal.unit_impulse(8)",
            "outputs": [
                {
                    "output_type": "execute_result",
                    "metadata": {},
                    "data": {
                        "text/plain": "array([ 1.,  0.,  0.,  0.,  0.,  0.,  0.,  0.])"
                    },
                    "execution_count": null
                }
            ]
        },
        {
            "id": "770d38c3",
            "cell_type": "markdown",
            "source": "Impulse offset by 2 samples ($\\delta[n-2]$):\n",
            "metadata": {}
        },
        {
            "id": "ec6e512d",
            "cell_type": "code",
            "metadata": {},
            "execution_count": null,
            "source": "signal.unit_impulse(7, 2)",
            "outputs": [
                {
                    "output_type": "execute_result",
                    "metadata": {},
                    "data": {
                        "text/plain": "array([ 0.,  0.,  1.,  0.,  0.,  0.,  0.])"
                    },
                    "execution_count": null
                }
            ]
        },
        {
            "id": "1b696925",
            "cell_type": "markdown",
            "source": "2-dimensional impulse, centered:\n",
            "metadata": {}
        },
        {
            "id": "7fc7757b",
            "cell_type": "code",
            "metadata": {},
            "execution_count": null,
            "source": "signal.unit_impulse((3, 3), 'mid')",
            "outputs": [
                {
                    "output_type": "execute_result",
                    "metadata": {},
                    "data": {
                        "text/plain": "array([[ 0.,  0.,  0.],\n       [ 0.,  1.,  0.],\n       [ 0.,  0.,  0.]])"
                    },
                    "execution_count": null
                }
            ]
        },
        {
            "id": "b08e41ba",
            "cell_type": "markdown",
            "source": "Impulse at (2, 2), using broadcasting:\n",
            "metadata": {}
        },
        {
            "id": "693082a5",
            "cell_type": "code",
            "metadata": {},
            "execution_count": null,
            "source": "signal.unit_impulse((4, 4), 2)",
            "outputs": [
                {
                    "output_type": "execute_result",
                    "metadata": {},
                    "data": {
                        "text/plain": "array([[ 0.,  0.,  0.,  0.],\n       [ 0.,  0.,  0.,  0.],\n       [ 0.,  0.,  1.,  0.],\n       [ 0.,  0.,  0.,  0.]])"
                    },
                    "execution_count": null
                }
            ]
        },
        {
            "id": "1af009eb",
            "cell_type": "markdown",
            "source": "Plot the impulse response of a 4th-order Butterworth lowpass filter:\n",
            "metadata": {}
        },
        {
            "id": "26d2ca61",
            "cell_type": "code",
            "metadata": {},
            "execution_count": null,
            "source": "imp = signal.unit_impulse(100, 'mid')\nb, a = signal.butter(4, 0.2)\nresponse = signal.lfilter(b, a, imp)",
            "outputs": []
        },
        {
            "id": "c07b023d",
            "cell_type": "code",
            "metadata": {},
            "execution_count": null,
            "source": "import numpy as np\nimport matplotlib.pyplot as plt\nplt.plot(np.arange(-50, 50), imp)\nplt.plot(np.arange(-50, 50), response)\nplt.margins(0.1, 0.1)\nplt.xlabel('Time [samples]')\nplt.ylabel('Amplitude')\nplt.grid(True)\nplt.show()",
            "outputs": []
        }
    ]
}