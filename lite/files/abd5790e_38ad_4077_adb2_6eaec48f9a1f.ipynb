{
    "nbformat": 4,
    "nbformat_minor": 5,
    "metadata": {
        "kernelspec": {
            "display_name": "Python",
            "language": "python",
            "name": "python"
        },
        "language_info": {
            "name": "python"
        }
    },
    "cells": [
        {
            "id": "a098fd7d",
            "cell_type": "markdown",
            "source": "<div class='alert alert-warning'>\n\nSciPy's interactive examples with Jupyterlite are experimental and may not always work as expected. Execution of cells containing imports may result in large downloads (up to 60MB of content for the first import from SciPy). Load times when importing from SciPy may take roughly 10-20 seconds. If you notice any problems, feel free to open an [issue](https://github.com/scipy/scipy/issues/new/choose).\n\n</div>",
            "metadata": {}
        },
        {
            "id": "231e1f3a",
            "cell_type": "code",
            "metadata": {},
            "execution_count": null,
            "source": "import numpy as np\nimport scipy.special as sc",
            "outputs": []
        },
        {
            "id": "6c4ab529",
            "cell_type": "markdown",
            "source": "It is 1 for `x > 0`.\n",
            "metadata": {}
        },
        {
            "id": "e3fcf8b3",
            "cell_type": "code",
            "metadata": {},
            "execution_count": null,
            "source": "sc.gammasgn([1, 2, 3, 4])",
            "outputs": [
                {
                    "output_type": "execute_result",
                    "metadata": {},
                    "data": {
                        "text/plain": "array([1., 1., 1., 1.])"
                    },
                    "execution_count": null
                }
            ]
        },
        {
            "id": "5c54bdbf",
            "cell_type": "markdown",
            "source": "It alternates between -1 and 1 for negative integers.\n",
            "metadata": {}
        },
        {
            "id": "9a50bc46",
            "cell_type": "code",
            "metadata": {},
            "execution_count": null,
            "source": "sc.gammasgn([-0.5, -1.5, -2.5, -3.5])",
            "outputs": [
                {
                    "output_type": "execute_result",
                    "metadata": {},
                    "data": {
                        "text/plain": "array([-1.,  1., -1.,  1.])"
                    },
                    "execution_count": null
                }
            ]
        },
        {
            "id": "856f48f0",
            "cell_type": "markdown",
            "source": "It can be used to compute the gamma function.\n",
            "metadata": {}
        },
        {
            "id": "bd35f733",
            "cell_type": "code",
            "metadata": {},
            "execution_count": null,
            "source": "x = [1.5, 0.5, -0.5, -1.5]\nsc.gammasgn(x) * np.exp(sc.gammaln(x))",
            "outputs": [
                {
                    "output_type": "execute_result",
                    "metadata": {},
                    "data": {
                        "text/plain": "array([ 0.88622693,  1.77245385, -3.5449077 ,  2.3632718 ])"
                    },
                    "execution_count": null
                }
            ]
        },
        {
            "id": "000fd656",
            "cell_type": "code",
            "metadata": {},
            "execution_count": null,
            "source": "sc.gamma(x)",
            "outputs": [
                {
                    "output_type": "execute_result",
                    "metadata": {},
                    "data": {
                        "text/plain": "array([ 0.88622693,  1.77245385, -3.5449077 ,  2.3632718 ])"
                    },
                    "execution_count": null
                }
            ]
        }
    ]
}