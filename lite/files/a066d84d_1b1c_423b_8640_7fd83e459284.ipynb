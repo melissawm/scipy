{
    "nbformat": 4,
    "nbformat_minor": 5,
    "metadata": {
        "kernelspec": {
            "display_name": "Python",
            "language": "python",
            "name": "python"
        },
        "language_info": {
            "name": "python"
        }
    },
    "cells": [
        {
            "id": "63a914dd",
            "cell_type": "markdown",
            "source": "<div class='alert alert-warning'>\n\nSciPy's interactive examples with Jupyterlite are experimental and may not always work as expected. Execution of cells containing imports may result in large downloads (up to 60MB of content for the first import from SciPy). Load times when importing from SciPy may take roughly 10-20 seconds. If you notice any problems, feel free to open an [issue](https://github.com/scipy/scipy/issues/new/choose).\n\n</div>",
            "metadata": {}
        },
        {
            "id": "f9e1798e",
            "cell_type": "markdown",
            "source": "Use cubic interpolation on Chebyshev nodes:\n",
            "metadata": {}
        },
        {
            "id": "0a4318ca",
            "cell_type": "code",
            "metadata": {},
            "execution_count": null,
            "source": "import numpy as np\nimport matplotlib.pyplot as plt\ndef cheb_nodes(N):\n    jj = 2.*np.arange(N) + 1\n    x = np.cos(np.pi * jj / 2 / N)[::-1]\n    return x",
            "outputs": []
        },
        {
            "id": "43fb80fd",
            "cell_type": "code",
            "metadata": {},
            "execution_count": null,
            "source": "x = cheb_nodes(20)\ny = np.sqrt(1 - x**2)",
            "outputs": []
        },
        {
            "id": "ddc07e2f",
            "cell_type": "code",
            "metadata": {},
            "execution_count": null,
            "source": "from scipy.interpolate import BSpline, make_interp_spline\nb = make_interp_spline(x, y)\nnp.allclose(b(x), y)",
            "outputs": [
                {
                    "output_type": "execute_result",
                    "metadata": {},
                    "data": {
                        "text/plain": "True"
                    },
                    "execution_count": null
                }
            ]
        },
        {
            "id": "d1c608d8",
            "cell_type": "markdown",
            "source": "Note that the default is a cubic spline with a not-a-knot boundary condition\n",
            "metadata": {}
        },
        {
            "id": "56484a03",
            "cell_type": "code",
            "metadata": {},
            "execution_count": null,
            "source": "b.k",
            "outputs": [
                {
                    "output_type": "execute_result",
                    "metadata": {},
                    "data": {
                        "text/plain": "3"
                    },
                    "execution_count": null
                }
            ]
        },
        {
            "id": "cda0e3ea",
            "cell_type": "markdown",
            "source": "Here we use a 'natural' spline, with zero 2nd derivatives at edges:\n",
            "metadata": {}
        },
        {
            "id": "bf5f30ce",
            "cell_type": "code",
            "metadata": {},
            "execution_count": null,
            "source": "l, r = [(2, 0.0)], [(2, 0.0)]\nb_n = make_interp_spline(x, y, bc_type=(l, r))  # or, bc_type=\"natural\"\nnp.allclose(b_n(x), y)",
            "outputs": [
                {
                    "output_type": "execute_result",
                    "metadata": {},
                    "data": {
                        "text/plain": "True"
                    },
                    "execution_count": null
                }
            ]
        },
        {
            "id": "a3d58c16",
            "cell_type": "code",
            "metadata": {},
            "execution_count": null,
            "source": "x0, x1 = x[0], x[-1]\nnp.allclose([b_n(x0, 2), b_n(x1, 2)], [0, 0])",
            "outputs": [
                {
                    "output_type": "execute_result",
                    "metadata": {},
                    "data": {
                        "text/plain": "True"
                    },
                    "execution_count": null
                }
            ]
        },
        {
            "id": "175fa87d",
            "cell_type": "markdown",
            "source": "Interpolation of parametric curves is also supported. As an example, we\ncompute a discretization of a snail curve in polar coordinates\n",
            "metadata": {}
        },
        {
            "id": "5bc84f95",
            "cell_type": "code",
            "metadata": {},
            "execution_count": null,
            "source": "phi = np.linspace(0, 2.*np.pi, 40)\nr = 0.3 + np.cos(phi)\nx, y = r*np.cos(phi), r*np.sin(phi)  # convert to Cartesian coordinates",
            "outputs": []
        },
        {
            "id": "696f1059",
            "cell_type": "markdown",
            "source": "Build an interpolating curve, parameterizing it by the angle\n",
            "metadata": {}
        },
        {
            "id": "4366bc39",
            "cell_type": "code",
            "metadata": {},
            "execution_count": null,
            "source": "spl = make_interp_spline(phi, np.c_[x, y])",
            "outputs": []
        },
        {
            "id": "95e5670e",
            "cell_type": "markdown",
            "source": "Evaluate the interpolant on a finer grid (note that we transpose the result\nto unpack it into a pair of x- and y-arrays)\n",
            "metadata": {}
        },
        {
            "id": "53ed3572",
            "cell_type": "code",
            "metadata": {},
            "execution_count": null,
            "source": "phi_new = np.linspace(0, 2.*np.pi, 100)\nx_new, y_new = spl(phi_new).T",
            "outputs": []
        },
        {
            "id": "9dde71f5",
            "cell_type": "markdown",
            "source": "Plot the result\n",
            "metadata": {}
        },
        {
            "id": "85510575",
            "cell_type": "code",
            "metadata": {},
            "execution_count": null,
            "source": "plt.plot(x, y, 'o')\nplt.plot(x_new, y_new, '-')\nplt.show()",
            "outputs": []
        },
        {
            "id": "b7de01df",
            "cell_type": "markdown",
            "source": "Build a B-spline curve with 2 dimensional y\n",
            "metadata": {}
        },
        {
            "id": "bb5522d2",
            "cell_type": "code",
            "metadata": {},
            "execution_count": null,
            "source": "x = np.linspace(0, 2*np.pi, 10)\ny = np.array([np.sin(x), np.cos(x)])",
            "outputs": []
        },
        {
            "id": "d24f8ef7",
            "cell_type": "markdown",
            "source": "Periodic condition is satisfied because y coordinates of points on the ends\nare equivalent\n",
            "metadata": {}
        },
        {
            "id": "e49c4abf",
            "cell_type": "code",
            "metadata": {},
            "execution_count": null,
            "source": "ax = plt.axes(projection='3d')\nxx = np.linspace(0, 2*np.pi, 100)\nbspl = make_interp_spline(x, y, k=5, bc_type='periodic', axis=1)\nax.plot3D(xx, *bspl(xx))\nax.scatter3D(x, *y, color='red')\nplt.show()",
            "outputs": []
        }
    ]
}