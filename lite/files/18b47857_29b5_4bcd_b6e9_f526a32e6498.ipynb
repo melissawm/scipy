{
    "nbformat": 4,
    "nbformat_minor": 5,
    "metadata": {
        "kernelspec": {
            "display_name": "Python",
            "language": "python",
            "name": "python"
        },
        "language_info": {
            "name": "python"
        }
    },
    "cells": [
        {
            "id": "a8c45d16",
            "cell_type": "markdown",
            "source": "<div class='alert alert-warning'>\n\nSciPy's interactive examples with Jupyterlite are experimental and may not always work as expected. Execution of cells containing imports may result in large downloads (up to 60MB of content for the first import from SciPy). Load times when importing from SciPy may take roughly 10-20 seconds. If you notice any problems, feel free to open an [issue](https://github.com/scipy/scipy/issues/new/choose).\n\n</div>",
            "metadata": {}
        },
        {
            "id": "cb0d7cd9",
            "cell_type": "markdown",
            "source": "Construct the linear spline ``x if x < 1 else 2 - x`` on the base\ninterval $[0, 2]$, and integrate it\n",
            "metadata": {}
        },
        {
            "id": "d274dee7",
            "cell_type": "code",
            "metadata": {},
            "execution_count": null,
            "source": "from scipy.interpolate import BSpline\nb = BSpline.basis_element([0, 1, 2])\nb.integrate(0, 1)",
            "outputs": [
                {
                    "output_type": "execute_result",
                    "metadata": {},
                    "data": {
                        "text/plain": "array(0.5)"
                    },
                    "execution_count": null
                }
            ]
        },
        {
            "id": "c82f046e",
            "cell_type": "markdown",
            "source": "If the integration limits are outside of the base interval, the result\nis controlled by the `extrapolate` parameter\n",
            "metadata": {}
        },
        {
            "id": "abb99e2e",
            "cell_type": "code",
            "metadata": {},
            "execution_count": null,
            "source": "b.integrate(-1, 1)",
            "outputs": [
                {
                    "output_type": "execute_result",
                    "metadata": {},
                    "data": {
                        "text/plain": "array(0.0)"
                    },
                    "execution_count": null
                }
            ]
        },
        {
            "id": "88ae365d",
            "cell_type": "code",
            "metadata": {},
            "execution_count": null,
            "source": "b.integrate(-1, 1, extrapolate=False)",
            "outputs": [
                {
                    "output_type": "execute_result",
                    "metadata": {},
                    "data": {
                        "text/plain": "array(0.5)"
                    },
                    "execution_count": null
                }
            ]
        },
        {
            "id": "1d4dd1ac",
            "cell_type": "code",
            "metadata": {},
            "execution_count": null,
            "source": "import matplotlib.pyplot as plt\nfig, ax = plt.subplots()\nax.grid(True)\nax.axvline(0, c='r', lw=5, alpha=0.5)  # base interval\nax.axvline(2, c='r', lw=5, alpha=0.5)\nxx = [-1, 1, 2]\nax.plot(xx, b(xx))\nplt.show()",
            "outputs": []
        }
    ]
}