{
    "nbformat": 4,
    "nbformat_minor": 5,
    "metadata": {
        "kernelspec": {
            "display_name": "Python",
            "language": "python",
            "name": "python"
        },
        "language_info": {
            "name": "python"
        }
    },
    "cells": [
        {
            "id": "047f3550",
            "cell_type": "markdown",
            "source": "<div class='alert alert-warning'>\n\nSciPy's interactive examples with Jupyterlite are experimental and may not always work as expected. Execution of cells containing imports may result in large downloads (up to 60MB of content for the first import from SciPy). Load times when importing from SciPy may take roughly 10-20 seconds. If you notice any problems, feel free to open an [issue](https://github.com/scipy/scipy/issues/new/choose).\n\n</div>",
            "metadata": {}
        },
        {
            "id": "d26b351b",
            "cell_type": "code",
            "metadata": {},
            "execution_count": null,
            "source": "import numpy as np\nimport scipy.special as sc",
            "outputs": []
        },
        {
            "id": "1bf63fff",
            "cell_type": "markdown",
            "source": "`ndtri_exp` agrees with the naive implementation when the latter does\nnot suffer from underflow.\n",
            "metadata": {}
        },
        {
            "id": "467d2fb3",
            "cell_type": "code",
            "metadata": {},
            "execution_count": null,
            "source": "sc.ndtri_exp(-1)",
            "outputs": [
                {
                    "output_type": "execute_result",
                    "metadata": {},
                    "data": {
                        "text/plain": "-0.33747496376420244"
                    },
                    "execution_count": null
                }
            ]
        },
        {
            "id": "66d87fbd",
            "cell_type": "code",
            "metadata": {},
            "execution_count": null,
            "source": "sc.ndtri(np.exp(-1))",
            "outputs": [
                {
                    "output_type": "execute_result",
                    "metadata": {},
                    "data": {
                        "text/plain": "-0.33747496376420244"
                    },
                    "execution_count": null
                }
            ]
        },
        {
            "id": "a2504a17",
            "cell_type": "markdown",
            "source": "For extreme values of y, the naive approach fails\n",
            "metadata": {}
        },
        {
            "id": "c6049c40",
            "cell_type": "code",
            "metadata": {},
            "execution_count": null,
            "source": "sc.ndtri(np.exp(-800))",
            "outputs": [
                {
                    "output_type": "execute_result",
                    "metadata": {},
                    "data": {
                        "text/plain": "-inf"
                    },
                    "execution_count": null
                }
            ]
        },
        {
            "id": "c5e04335",
            "cell_type": "code",
            "metadata": {},
            "execution_count": null,
            "source": "sc.ndtri(np.exp(-1e-20))",
            "outputs": [
                {
                    "output_type": "execute_result",
                    "metadata": {},
                    "data": {
                        "text/plain": "inf"
                    },
                    "execution_count": null
                }
            ]
        },
        {
            "id": "43447842",
            "cell_type": "markdown",
            "source": "whereas `ndtri_exp` is still able to compute the result to high precision.\n",
            "metadata": {}
        },
        {
            "id": "e1dee2d1",
            "cell_type": "code",
            "metadata": {},
            "execution_count": null,
            "source": "sc.ndtri_exp(-800)",
            "outputs": [
                {
                    "output_type": "execute_result",
                    "metadata": {},
                    "data": {
                        "text/plain": "-39.88469483825668"
                    },
                    "execution_count": null
                }
            ]
        },
        {
            "id": "96282222",
            "cell_type": "code",
            "metadata": {},
            "execution_count": null,
            "source": "sc.ndtri_exp(-1e-20)",
            "outputs": [
                {
                    "output_type": "execute_result",
                    "metadata": {},
                    "data": {
                        "text/plain": "9.262340089798409"
                    },
                    "execution_count": null
                }
            ]
        }
    ]
}