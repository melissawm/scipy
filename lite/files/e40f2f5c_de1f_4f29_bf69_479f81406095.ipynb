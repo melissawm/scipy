{
    "nbformat": 4,
    "nbformat_minor": 5,
    "metadata": {
        "kernelspec": {
            "display_name": "Python",
            "language": "python",
            "name": "python"
        },
        "language_info": {
            "name": "python"
        }
    },
    "cells": [
        {
            "id": "1e5d192a",
            "cell_type": "markdown",
            "source": "<div class='alert alert-warning'>\n\nSciPy's interactive examples with Jupyterlite are experimental and may not always work as expected. Execution of cells containing imports may result in large downloads (up to 60MB of content for the first import from SciPy). Load times when importing from SciPy may take roughly 10-20 seconds. If you notice any problems, feel free to open an [issue](https://github.com/scipy/scipy/issues/new/choose).\n\n</div>",
            "metadata": {}
        },
        {
            "id": "88e99314",
            "cell_type": "markdown",
            "source": "We'll test the following data sets for differences in their variance.\n",
            "metadata": {}
        },
        {
            "id": "0fe2ba42",
            "cell_type": "code",
            "metadata": {},
            "execution_count": null,
            "source": "x = [10, 11, 13, 9, 7, 12, 12, 9, 10]\ny = [13, 21, 5, 10, 8, 14, 10, 12, 7, 15]",
            "outputs": []
        },
        {
            "id": "320dc399",
            "cell_type": "markdown",
            "source": "Apply the O'Brien transform to the data.\n",
            "metadata": {}
        },
        {
            "id": "965b2175",
            "cell_type": "code",
            "metadata": {},
            "execution_count": null,
            "source": "from scipy.stats import obrientransform\ntx, ty = obrientransform(x, y)",
            "outputs": []
        },
        {
            "id": "7bd2fb8c",
            "cell_type": "markdown",
            "source": "Use `scipy.stats.f_oneway` to apply a one-way ANOVA test to the\ntransformed data.\n",
            "metadata": {}
        },
        {
            "id": "031c29df",
            "cell_type": "code",
            "metadata": {},
            "execution_count": null,
            "source": "from scipy.stats import f_oneway\nF, p = f_oneway(tx, ty)\np",
            "outputs": [
                {
                    "output_type": "execute_result",
                    "metadata": {},
                    "data": {
                        "text/plain": "0.1314139477040335"
                    },
                    "execution_count": null
                }
            ]
        },
        {
            "id": "13ea6b88",
            "cell_type": "markdown",
            "source": "If we require that ``p < 0.05`` for significance, we cannot conclude\nthat the variances are different.",
            "metadata": {}
        }
    ]
}