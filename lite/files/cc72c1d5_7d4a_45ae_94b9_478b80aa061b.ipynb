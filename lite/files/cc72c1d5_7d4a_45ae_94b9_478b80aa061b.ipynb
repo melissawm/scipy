{
    "nbformat": 4,
    "nbformat_minor": 5,
    "metadata": {
        "kernelspec": {
            "display_name": "Python",
            "language": "python",
            "name": "python"
        },
        "language_info": {
            "name": "python"
        }
    },
    "cells": [
        {
            "id": "4f6491ed",
            "cell_type": "markdown",
            "source": "<div class='alert alert-warning'>\n\nSciPy's interactive examples with Jupyterlite are experimental and may not always work as expected. Execution of cells containing imports may result in large downloads (up to 60MB of content for the first import from SciPy). Load times when importing from SciPy may take roughly 10-20 seconds. If you notice any problems, feel free to open an [issue](https://github.com/scipy/scipy/issues/new/choose).\n\n</div>",
            "metadata": {}
        },
        {
            "id": "36da31c4",
            "cell_type": "markdown",
            "source": "Passing a ``np.random.Generator`` instance for better performance:\n",
            "metadata": {}
        },
        {
            "id": "572f4c73",
            "cell_type": "code",
            "metadata": {},
            "execution_count": null,
            "source": "import scipy as sp\nimport numpy as np\nrng = np.random.default_rng()\nS = sp.sparse.random(3, 4, density=0.25, random_state=rng)",
            "outputs": []
        },
        {
            "id": "33f7da04",
            "cell_type": "markdown",
            "source": "Providing a sampler for the values:\n",
            "metadata": {}
        },
        {
            "id": "5711c940",
            "cell_type": "code",
            "metadata": {},
            "execution_count": null,
            "source": "rvs = sp.stats.poisson(25, loc=10).rvs\nS = sp.sparse.random(3, 4, density=0.25, random_state=rng, data_rvs=rvs)\nS.toarray()",
            "outputs": [
                {
                    "output_type": "execute_result",
                    "metadata": {},
                    "data": {
                        "text/plain": "array([[ 36.,   0.,  33.,   0.],   # random\n       [  0.,   0.,   0.,   0.],\n       [  0.,   0.,  36.,   0.]])"
                    },
                    "execution_count": null
                }
            ]
        },
        {
            "id": "6803d4c9",
            "cell_type": "markdown",
            "source": "Building a custom distribution.\nThis example builds a squared normal from np.random:\n",
            "metadata": {}
        },
        {
            "id": "0829655c",
            "cell_type": "code",
            "metadata": {},
            "execution_count": null,
            "source": "def np_normal_squared(size=None, random_state=rng):\n    return random_state.standard_normal(size) ** 2\nS = sp.sparse.random(3, 4, density=0.25, random_state=rng,\n                     data_rvs=np_normal_squared)",
            "outputs": []
        },
        {
            "id": "0aa5f037",
            "cell_type": "markdown",
            "source": "Or we can build it from sp.stats style rvs functions:\n",
            "metadata": {}
        },
        {
            "id": "ce0698f4",
            "cell_type": "code",
            "metadata": {},
            "execution_count": null,
            "source": "def sp_stats_normal_squared(size=None, random_state=rng):\n    std_normal = sp.stats.distributions.norm_gen().rvs\n    return std_normal(size=size, random_state=random_state) ** 2\nS = sp.sparse.random(3, 4, density=0.25, random_state=rng,\n                     data_rvs=sp_stats_normal_squared)",
            "outputs": []
        },
        {
            "id": "ef9c00ff",
            "cell_type": "markdown",
            "source": "Or we can subclass sp.stats rv_continous or rv_discrete:\n",
            "metadata": {}
        },
        {
            "id": "2ae34ebd",
            "cell_type": "code",
            "metadata": {},
            "execution_count": null,
            "source": "class NormalSquared(sp.stats.rv_continuous):\n    def _rvs(self,  size=None, random_state=rng):\n        return random_state.standard_normal(size) ** 2\nX = NormalSquared()\nY = X()  # get a frozen version of the distribution\nS = sp.sparse.random(3, 4, density=0.25, random_state=rng, data_rvs=Y.rvs)",
            "outputs": []
        }
    ]
}