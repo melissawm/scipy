{
    "nbformat": 4,
    "nbformat_minor": 5,
    "metadata": {
        "kernelspec": {
            "display_name": "Python",
            "language": "python",
            "name": "python"
        },
        "language_info": {
            "name": "python"
        }
    },
    "cells": [
        {
            "id": "5ae4fe31",
            "cell_type": "markdown",
            "source": "<div class='alert alert-warning'>\n\nSciPy's interactive examples with Jupyterlite are experimental and may not always work as expected. Execution of cells containing imports may result in large downloads (up to 60MB of content for the first import from SciPy). Load times when importing from SciPy may take roughly 10-20 seconds. If you notice any problems, feel free to open an [issue](https://github.com/scipy/scipy/issues/new/choose).\n\n</div>",
            "metadata": {}
        },
        {
            "id": "1431316b",
            "cell_type": "code",
            "metadata": {},
            "execution_count": null,
            "source": "import numpy as np\nfrom scipy.stats import powernorm\nimport matplotlib.pyplot as plt\nfig, ax = plt.subplots(1, 1)",
            "outputs": []
        },
        {
            "id": "9e07ab59",
            "cell_type": "markdown",
            "source": "Calculate the first four moments:\n",
            "metadata": {}
        },
        {
            "id": "66695e06",
            "cell_type": "code",
            "metadata": {},
            "execution_count": null,
            "source": "c = 4.45\nmean, var, skew, kurt = powernorm.stats(c, moments='mvsk')",
            "outputs": []
        },
        {
            "id": "87c2c816",
            "cell_type": "markdown",
            "source": "Display the probability density function (``pdf``):\n",
            "metadata": {}
        },
        {
            "id": "d6661607",
            "cell_type": "code",
            "metadata": {},
            "execution_count": null,
            "source": "x = np.linspace(powernorm.ppf(0.01, c),\n                powernorm.ppf(0.99, c), 100)\nax.plot(x, powernorm.pdf(x, c),\n       'r-', lw=5, alpha=0.6, label='powernorm pdf')",
            "outputs": []
        },
        {
            "id": "6998d282",
            "cell_type": "markdown",
            "source": "Alternatively, the distribution object can be called (as a function)\nto fix the shape, location and scale parameters. This returns a \"frozen\"\nRV object holding the given parameters fixed.\n\nFreeze the distribution and display the frozen ``pdf``:\n",
            "metadata": {}
        },
        {
            "id": "0e29e5f1",
            "cell_type": "code",
            "metadata": {},
            "execution_count": null,
            "source": "rv = powernorm(c)\nax.plot(x, rv.pdf(x), 'k-', lw=2, label='frozen pdf')",
            "outputs": []
        },
        {
            "id": "68a793d1",
            "cell_type": "markdown",
            "source": "Check accuracy of ``cdf`` and ``ppf``:\n",
            "metadata": {}
        },
        {
            "id": "b4c942cb",
            "cell_type": "code",
            "metadata": {},
            "execution_count": null,
            "source": "vals = powernorm.ppf([0.001, 0.5, 0.999], c)\nnp.allclose([0.001, 0.5, 0.999], powernorm.cdf(vals, c))",
            "outputs": [
                {
                    "output_type": "execute_result",
                    "metadata": {},
                    "data": {
                        "text/plain": "True"
                    },
                    "execution_count": null
                }
            ]
        },
        {
            "id": "00b19141",
            "cell_type": "markdown",
            "source": "Generate random numbers:\n",
            "metadata": {}
        },
        {
            "id": "c9e07a4d",
            "cell_type": "code",
            "metadata": {},
            "execution_count": null,
            "source": "r = powernorm.rvs(c, size=1000)",
            "outputs": []
        },
        {
            "id": "1bfbb047",
            "cell_type": "markdown",
            "source": "And compare the histogram:\n",
            "metadata": {}
        },
        {
            "id": "fee9ac6a",
            "cell_type": "code",
            "metadata": {},
            "execution_count": null,
            "source": "ax.hist(r, density=True, bins='auto', histtype='stepfilled', alpha=0.2)\nax.set_xlim([x[0], x[-1]])\nax.legend(loc='best', frameon=False)\nplt.show()",
            "outputs": []
        }
    ]
}