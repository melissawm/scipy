{
    "nbformat": 4,
    "nbformat_minor": 5,
    "metadata": {
        "kernelspec": {
            "display_name": "Python",
            "language": "python",
            "name": "python"
        },
        "language_info": {
            "name": "python"
        }
    },
    "cells": [
        {
            "id": "b01dba0c",
            "cell_type": "markdown",
            "source": "<div class='alert alert-warning'>\n\nSciPy's interactive examples with Jupyterlite are experimental and may not always work as expected. Execution of cells containing imports may result in large downloads (up to 60MB of content for the first import from SciPy). Load times when importing from SciPy may take roughly 10-20 seconds. If you notice any problems, feel free to open an [issue](https://github.com/scipy/scipy/issues/new/choose).\n\n</div>",
            "metadata": {}
        },
        {
            "id": "a28a7d62",
            "cell_type": "markdown",
            "source": "Evaluate `ndtr` at one point.\n",
            "metadata": {}
        },
        {
            "id": "68b69e6d",
            "cell_type": "code",
            "metadata": {},
            "execution_count": null,
            "source": "import numpy as np\nfrom scipy.special import ndtr\nndtr(0.5)",
            "outputs": [
                {
                    "output_type": "execute_result",
                    "metadata": {},
                    "data": {
                        "text/plain": "0.6914624612740131"
                    },
                    "execution_count": null
                }
            ]
        },
        {
            "id": "27d647eb",
            "cell_type": "markdown",
            "source": "Evaluate the function at several points by providing a NumPy array\nor list for `x`.\n",
            "metadata": {}
        },
        {
            "id": "ed802cd3",
            "cell_type": "code",
            "metadata": {},
            "execution_count": null,
            "source": "ndtr([0, 0.5, 2])",
            "outputs": [
                {
                    "output_type": "execute_result",
                    "metadata": {},
                    "data": {
                        "text/plain": "array([0.5       , 0.69146246, 0.97724987])"
                    },
                    "execution_count": null
                }
            ]
        },
        {
            "id": "d504aece",
            "cell_type": "markdown",
            "source": "Plot the function.\n",
            "metadata": {}
        },
        {
            "id": "d666a27e",
            "cell_type": "code",
            "metadata": {},
            "execution_count": null,
            "source": "import matplotlib.pyplot as plt\nx = np.linspace(-5, 5, 100)\nfig, ax = plt.subplots()\nax.plot(x, ndtr(x))\nax.set_title(r\"Standard normal cumulative distribution function $\\Phi$\")\nplt.show()",
            "outputs": []
        }
    ]
}