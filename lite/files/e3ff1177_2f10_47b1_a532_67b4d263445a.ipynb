{
    "nbformat": 4,
    "nbformat_minor": 5,
    "metadata": {
        "kernelspec": {
            "display_name": "Python",
            "language": "python",
            "name": "python"
        },
        "language_info": {
            "name": "python"
        }
    },
    "cells": [
        {
            "id": "f8bc1138",
            "cell_type": "markdown",
            "source": "<div class='alert alert-warning'>\n\nSciPy's interactive examples with Jupyterlite are experimental and may not always work as expected. Execution of cells containing imports may result in large downloads (up to 60MB of content for the first import from SciPy). Load times when importing from SciPy may take roughly 10-20 seconds. If you notice any problems, feel free to open an [issue](https://github.com/scipy/scipy/issues/new/choose).\n\n</div>",
            "metadata": {}
        },
        {
            "id": "664ade9a",
            "cell_type": "code",
            "metadata": {},
            "execution_count": null,
            "source": "from scipy import signal",
            "outputs": []
        },
        {
            "id": "f835bed3",
            "cell_type": "code",
            "metadata": {},
            "execution_count": null,
            "source": "signal.dlti(1, 2, 3, 4)",
            "outputs": [
                {
                    "output_type": "execute_result",
                    "metadata": {},
                    "data": {
                        "text/plain": "StateSpaceDiscrete(\narray([[1]]),\narray([[2]]),\narray([[3]]),\narray([[4]]),\ndt: True\n)"
                    },
                    "execution_count": null
                }
            ]
        },
        {
            "id": "fba05373",
            "cell_type": "code",
            "metadata": {},
            "execution_count": null,
            "source": "signal.dlti(1, 2, 3, 4, dt=0.1)",
            "outputs": [
                {
                    "output_type": "execute_result",
                    "metadata": {},
                    "data": {
                        "text/plain": "StateSpaceDiscrete(\narray([[1]]),\narray([[2]]),\narray([[3]]),\narray([[4]]),\ndt: 0.1\n)"
                    },
                    "execution_count": null
                }
            ]
        },
        {
            "id": "5f5453a7",
            "cell_type": "markdown",
            "source": "Construct the transfer function\n$H(z) = \\frac{5(z - 1)(z - 2)}{(z - 3)(z - 4)}$ with a sampling time\nof 0.1 seconds:\n",
            "metadata": {}
        },
        {
            "id": "e4072fab",
            "cell_type": "code",
            "metadata": {},
            "execution_count": null,
            "source": "signal.dlti([1, 2], [3, 4], 5, dt=0.1)",
            "outputs": [
                {
                    "output_type": "execute_result",
                    "metadata": {},
                    "data": {
                        "text/plain": "ZerosPolesGainDiscrete(\narray([1, 2]),\narray([3, 4]),\n5,\ndt: 0.1\n)"
                    },
                    "execution_count": null
                }
            ]
        },
        {
            "id": "02a52c21",
            "cell_type": "markdown",
            "source": "Construct the transfer function $H(z) = \\frac{3z + 4}{1z + 2}$ with\na sampling time of 0.1 seconds:\n",
            "metadata": {}
        },
        {
            "id": "4ed4806d",
            "cell_type": "code",
            "metadata": {},
            "execution_count": null,
            "source": "signal.dlti([3, 4], [1, 2], dt=0.1)",
            "outputs": [
                {
                    "output_type": "execute_result",
                    "metadata": {},
                    "data": {
                        "text/plain": "TransferFunctionDiscrete(\narray([3., 4.]),\narray([1., 2.]),\ndt: 0.1\n)"
                    },
                    "execution_count": null
                }
            ]
        }
    ]
}