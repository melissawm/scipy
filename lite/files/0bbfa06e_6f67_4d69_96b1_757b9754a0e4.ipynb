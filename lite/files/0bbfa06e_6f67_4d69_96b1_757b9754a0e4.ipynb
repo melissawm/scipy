{
    "nbformat": 4,
    "nbformat_minor": 5,
    "metadata": {
        "kernelspec": {
            "display_name": "Python",
            "language": "python",
            "name": "python"
        },
        "language_info": {
            "name": "python"
        }
    },
    "cells": [
        {
            "id": "42de7445",
            "cell_type": "markdown",
            "source": "<div class='alert alert-warning'>\n\nSciPy's interactive examples with Jupyterlite are experimental and may not always work as expected. Execution of cells containing imports may result in large downloads (up to 60MB of content for the first import from SciPy). Load times when importing from SciPy may take roughly 10-20 seconds. If you notice any problems, feel free to open an [issue](https://github.com/scipy/scipy/issues/new/choose).\n\n</div>",
            "metadata": {}
        },
        {
            "id": "3e3d9add",
            "cell_type": "code",
            "metadata": {},
            "execution_count": null,
            "source": "from scipy.special import betainccinv, betaincc",
            "outputs": []
        },
        {
            "id": "1a051019",
            "cell_type": "markdown",
            "source": "This function is the inverse of `betaincc` for fixed\nvalues of $a$ and $b$.\n",
            "metadata": {}
        },
        {
            "id": "0ac4078a",
            "cell_type": "code",
            "metadata": {},
            "execution_count": null,
            "source": "a, b = 1.2, 3.1\ny = betaincc(a, b, 0.2)\nbetainccinv(a, b, y)",
            "outputs": [
                {
                    "output_type": "execute_result",
                    "metadata": {},
                    "data": {
                        "text/plain": "0.2"
                    },
                    "execution_count": null
                }
            ]
        },
        {
            "id": "e5fbbcb6",
            "cell_type": "code",
            "metadata": {},
            "execution_count": null,
            "source": "a, b = 7, 2.5\nx = betainccinv(a, b, 0.875)\nbetaincc(a, b, x)",
            "outputs": [
                {
                    "output_type": "execute_result",
                    "metadata": {},
                    "data": {
                        "text/plain": "0.875"
                    },
                    "execution_count": null
                }
            ]
        }
    ]
}