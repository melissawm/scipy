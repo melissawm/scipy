{
    "nbformat": 4,
    "nbformat_minor": 5,
    "metadata": {
        "kernelspec": {
            "display_name": "Python",
            "language": "python",
            "name": "python"
        },
        "language_info": {
            "name": "python"
        }
    },
    "cells": [
        {
            "id": "fdad1b68",
            "cell_type": "markdown",
            "source": "<div class='alert alert-warning'>\n\nSciPy's interactive examples with Jupyterlite are experimental and may not always work as expected. Execution of cells containing imports may result in large downloads (up to 60MB of content for the first import from SciPy). Load times when importing from SciPy may take roughly 10-20 seconds. If you notice any problems, feel free to open an [issue](https://github.com/scipy/scipy/issues/new/choose).\n\n</div>",
            "metadata": {}
        },
        {
            "id": "cd145cf4",
            "cell_type": "code",
            "metadata": {},
            "execution_count": null,
            "source": "import scipy.special as sc",
            "outputs": []
        },
        {
            "id": "a0173fcb",
            "cell_type": "markdown",
            "source": "It is 1 when m is 0.\n",
            "metadata": {}
        },
        {
            "id": "113bf3d3",
            "cell_type": "code",
            "metadata": {},
            "execution_count": null,
            "source": "sc.poch([1, 2, 3, 4], 0)",
            "outputs": [
                {
                    "output_type": "execute_result",
                    "metadata": {},
                    "data": {
                        "text/plain": "array([1., 1., 1., 1.])"
                    },
                    "execution_count": null
                }
            ]
        },
        {
            "id": "30f3128e",
            "cell_type": "markdown",
            "source": "For z equal to 1 it reduces to the factorial function.\n",
            "metadata": {}
        },
        {
            "id": "a75454a1",
            "cell_type": "code",
            "metadata": {},
            "execution_count": null,
            "source": "sc.poch(1, 5)",
            "outputs": [
                {
                    "output_type": "execute_result",
                    "metadata": {},
                    "data": {
                        "text/plain": "120.0"
                    },
                    "execution_count": null
                }
            ]
        },
        {
            "id": "22f45616",
            "cell_type": "code",
            "metadata": {},
            "execution_count": null,
            "source": "1 * 2 * 3 * 4 * 5",
            "outputs": [
                {
                    "output_type": "execute_result",
                    "metadata": {},
                    "data": {
                        "text/plain": "120"
                    },
                    "execution_count": null
                }
            ]
        },
        {
            "id": "76ad9bd6",
            "cell_type": "markdown",
            "source": "It can be expressed in terms of the gamma function.\n",
            "metadata": {}
        },
        {
            "id": "a290da74",
            "cell_type": "code",
            "metadata": {},
            "execution_count": null,
            "source": "z, m = 3.7, 2.1\nsc.poch(z, m)",
            "outputs": [
                {
                    "output_type": "execute_result",
                    "metadata": {},
                    "data": {
                        "text/plain": "20.529581933776953"
                    },
                    "execution_count": null
                }
            ]
        },
        {
            "id": "27c673ef",
            "cell_type": "code",
            "metadata": {},
            "execution_count": null,
            "source": "sc.gamma(z + m) / sc.gamma(z)",
            "outputs": [
                {
                    "output_type": "execute_result",
                    "metadata": {},
                    "data": {
                        "text/plain": "20.52958193377696"
                    },
                    "execution_count": null
                }
            ]
        }
    ]
}