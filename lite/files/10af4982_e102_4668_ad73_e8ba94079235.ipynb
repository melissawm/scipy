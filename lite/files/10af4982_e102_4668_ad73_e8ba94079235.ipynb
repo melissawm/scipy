{
    "nbformat": 4,
    "nbformat_minor": 5,
    "metadata": {
        "kernelspec": {
            "display_name": "Python",
            "language": "python",
            "name": "python"
        },
        "language_info": {
            "name": "python"
        }
    },
    "cells": [
        {
            "id": "2ca3489e",
            "cell_type": "markdown",
            "source": "<div class='alert alert-warning'>\n\nSciPy's interactive examples with Jupyterlite are experimental and may not always work as expected. Execution of cells containing imports may result in large downloads (up to 60MB of content for the first import from SciPy). Load times when importing from SciPy may take roughly 10-20 seconds. If you notice any problems, feel free to open an [issue](https://github.com/scipy/scipy/issues/new/choose).\n\n</div>",
            "metadata": {}
        },
        {
            "id": "f128b526",
            "cell_type": "code",
            "metadata": {},
            "execution_count": null,
            "source": "import numpy as np\nfrom scipy.stats import zipf\nimport matplotlib.pyplot as plt\nfig, ax = plt.subplots(1, 1)",
            "outputs": []
        },
        {
            "id": "34b7b266",
            "cell_type": "markdown",
            "source": "Calculate the first four moments:\n",
            "metadata": {}
        },
        {
            "id": "91dae969",
            "cell_type": "code",
            "metadata": {},
            "execution_count": null,
            "source": "a = 6.6\nmean, var, skew, kurt = zipf.stats(a, moments='mvsk')",
            "outputs": []
        },
        {
            "id": "cccf24e1",
            "cell_type": "markdown",
            "source": "Display the probability mass function (``pmf``):\n",
            "metadata": {}
        },
        {
            "id": "0d17cb19",
            "cell_type": "code",
            "metadata": {},
            "execution_count": null,
            "source": "x = np.arange(zipf.ppf(0.01, a),\n              zipf.ppf(0.99, a))\nax.plot(x, zipf.pmf(x, a), 'bo', ms=8, label='zipf pmf')\nax.vlines(x, 0, zipf.pmf(x, a), colors='b', lw=5, alpha=0.5)",
            "outputs": []
        },
        {
            "id": "61713cf3",
            "cell_type": "markdown",
            "source": "Alternatively, the distribution object can be called (as a function)\nto fix the shape and location. This returns a \"frozen\" RV object holding\nthe given parameters fixed.\n\nFreeze the distribution and display the frozen ``pmf``:\n",
            "metadata": {}
        },
        {
            "id": "ea8753d0",
            "cell_type": "code",
            "metadata": {},
            "execution_count": null,
            "source": "rv = zipf(a)\nax.vlines(x, 0, rv.pmf(x), colors='k', linestyles='-', lw=1,\n        label='frozen pmf')\nax.legend(loc='best', frameon=False)\nplt.show()",
            "outputs": []
        },
        {
            "id": "5d54528a",
            "cell_type": "markdown",
            "source": "Check accuracy of ``cdf`` and ``ppf``:\n",
            "metadata": {}
        },
        {
            "id": "de5e1f37",
            "cell_type": "code",
            "metadata": {},
            "execution_count": null,
            "source": "prob = zipf.cdf(x, a)\nnp.allclose(x, zipf.ppf(prob, a))",
            "outputs": [
                {
                    "output_type": "execute_result",
                    "metadata": {},
                    "data": {
                        "text/plain": "True"
                    },
                    "execution_count": null
                }
            ]
        },
        {
            "id": "9c14400c",
            "cell_type": "markdown",
            "source": "Generate random numbers:\n",
            "metadata": {}
        },
        {
            "id": "d53d290e",
            "cell_type": "code",
            "metadata": {},
            "execution_count": null,
            "source": "r = zipf.rvs(a, size=1000)",
            "outputs": []
        },
        {
            "id": "a0e74e6f",
            "cell_type": "markdown",
            "source": "Confirm that `zipf` is the large `n` limit of `zipfian`.\n",
            "metadata": {}
        },
        {
            "id": "95056e5c",
            "cell_type": "code",
            "metadata": {},
            "execution_count": null,
            "source": "import numpy as np\nfrom scipy.stats import zipf, zipfian\nk = np.arange(11)\nnp.allclose(zipf.pmf(k, a), zipfian.pmf(k, a, n=10000000))",
            "outputs": [
                {
                    "output_type": "execute_result",
                    "metadata": {},
                    "data": {
                        "text/plain": "True"
                    },
                    "execution_count": null
                }
            ]
        }
    ]
}