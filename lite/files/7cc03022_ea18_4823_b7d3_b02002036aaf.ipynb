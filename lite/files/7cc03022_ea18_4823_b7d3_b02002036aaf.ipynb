{
    "nbformat": 4,
    "nbformat_minor": 5,
    "metadata": {
        "kernelspec": {
            "display_name": "Python",
            "language": "python",
            "name": "python"
        },
        "language_info": {
            "name": "python"
        }
    },
    "cells": [
        {
            "id": "2ab69dc1",
            "cell_type": "markdown",
            "source": "<div class='alert alert-warning'>\n\nSciPy's interactive examples with Jupyterlite are experimental and may not always work as expected. Execution of cells containing imports may result in large downloads (up to 60MB of content for the first import from SciPy). Load times when importing from SciPy may take roughly 10-20 seconds. If you notice any problems, feel free to open an [issue](https://github.com/scipy/scipy/issues/new/choose).\n\n</div>",
            "metadata": {}
        },
        {
            "id": "6b74e4f1",
            "cell_type": "code",
            "metadata": {},
            "execution_count": null,
            "source": "import numpy as np\nfrom scipy.stats import kstwobign\nimport matplotlib.pyplot as plt\nfig, ax = plt.subplots(1, 1)",
            "outputs": []
        },
        {
            "id": "6e22d312",
            "cell_type": "markdown",
            "source": "Calculate the first four moments:\n",
            "metadata": {}
        },
        {
            "id": "6e0cea42",
            "cell_type": "code",
            "metadata": {},
            "execution_count": null,
            "source": "mean, var, skew, kurt = kstwobign.stats(moments='mvsk')",
            "outputs": []
        },
        {
            "id": "ad6f56f1",
            "cell_type": "markdown",
            "source": "Display the probability density function (``pdf``):\n",
            "metadata": {}
        },
        {
            "id": "2882b6e1",
            "cell_type": "code",
            "metadata": {},
            "execution_count": null,
            "source": "x = np.linspace(kstwobign.ppf(0.01),\n                kstwobign.ppf(0.99), 100)\nax.plot(x, kstwobign.pdf(x),\n       'r-', lw=5, alpha=0.6, label='kstwobign pdf')",
            "outputs": []
        },
        {
            "id": "f957844a",
            "cell_type": "markdown",
            "source": "Alternatively, the distribution object can be called (as a function)\nto fix the shape, location and scale parameters. This returns a \"frozen\"\nRV object holding the given parameters fixed.\n\nFreeze the distribution and display the frozen ``pdf``:\n",
            "metadata": {}
        },
        {
            "id": "d9ab3300",
            "cell_type": "code",
            "metadata": {},
            "execution_count": null,
            "source": "rv = kstwobign()\nax.plot(x, rv.pdf(x), 'k-', lw=2, label='frozen pdf')",
            "outputs": []
        },
        {
            "id": "5f0be3f0",
            "cell_type": "markdown",
            "source": "Check accuracy of ``cdf`` and ``ppf``:\n",
            "metadata": {}
        },
        {
            "id": "ae28ba6b",
            "cell_type": "code",
            "metadata": {},
            "execution_count": null,
            "source": "vals = kstwobign.ppf([0.001, 0.5, 0.999])\nnp.allclose([0.001, 0.5, 0.999], kstwobign.cdf(vals))",
            "outputs": [
                {
                    "output_type": "execute_result",
                    "metadata": {},
                    "data": {
                        "text/plain": "True"
                    },
                    "execution_count": null
                }
            ]
        },
        {
            "id": "34161402",
            "cell_type": "markdown",
            "source": "Generate random numbers:\n",
            "metadata": {}
        },
        {
            "id": "dd44b651",
            "cell_type": "code",
            "metadata": {},
            "execution_count": null,
            "source": "r = kstwobign.rvs(size=1000)",
            "outputs": []
        },
        {
            "id": "f72d1d4e",
            "cell_type": "markdown",
            "source": "And compare the histogram:\n",
            "metadata": {}
        },
        {
            "id": "f2f7df43",
            "cell_type": "code",
            "metadata": {},
            "execution_count": null,
            "source": "ax.hist(r, density=True, bins='auto', histtype='stepfilled', alpha=0.2)\nax.set_xlim([x[0], x[-1]])\nax.legend(loc='best', frameon=False)\nplt.show()",
            "outputs": []
        }
    ]
}