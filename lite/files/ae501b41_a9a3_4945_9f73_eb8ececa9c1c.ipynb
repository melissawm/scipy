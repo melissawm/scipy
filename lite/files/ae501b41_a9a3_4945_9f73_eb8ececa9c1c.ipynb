{
    "nbformat": 4,
    "nbformat_minor": 5,
    "metadata": {
        "kernelspec": {
            "display_name": "Python",
            "language": "python",
            "name": "python"
        },
        "language_info": {
            "name": "python"
        }
    },
    "cells": [
        {
            "id": "699cb1bd",
            "cell_type": "markdown",
            "source": "<div class='alert alert-warning'>\n\nSciPy's interactive examples with Jupyterlite are experimental and may not always work as expected. Execution of cells containing imports may result in large downloads (up to 60MB of content for the first import from SciPy). Load times when importing from SciPy may take roughly 10-20 seconds. If you notice any problems, feel free to open an [issue](https://github.com/scipy/scipy/issues/new/choose).\n\n</div>",
            "metadata": {}
        },
        {
            "id": "dc2ae250",
            "cell_type": "code",
            "metadata": {},
            "execution_count": null,
            "source": "import numpy as np\nfrom scipy.stats import loguniform\nimport matplotlib.pyplot as plt\nfig, ax = plt.subplots(1, 1)",
            "outputs": []
        },
        {
            "id": "1c708480",
            "cell_type": "markdown",
            "source": "Calculate the first four moments:\n",
            "metadata": {}
        },
        {
            "id": "22143cf1",
            "cell_type": "code",
            "metadata": {},
            "execution_count": null,
            "source": "a, b = 0.01, 1.25\nmean, var, skew, kurt = loguniform.stats(a, b, moments='mvsk')",
            "outputs": []
        },
        {
            "id": "50a7c43c",
            "cell_type": "markdown",
            "source": "Display the probability density function (``pdf``):\n",
            "metadata": {}
        },
        {
            "id": "77384280",
            "cell_type": "code",
            "metadata": {},
            "execution_count": null,
            "source": "x = np.linspace(loguniform.ppf(0.01, a, b),\n                loguniform.ppf(0.99, a, b), 100)\nax.plot(x, loguniform.pdf(x, a, b),\n       'r-', lw=5, alpha=0.6, label='loguniform pdf')",
            "outputs": []
        },
        {
            "id": "8768c61d",
            "cell_type": "markdown",
            "source": "Alternatively, the distribution object can be called (as a function)\nto fix the shape, location and scale parameters. This returns a \"frozen\"\nRV object holding the given parameters fixed.\n\nFreeze the distribution and display the frozen ``pdf``:\n",
            "metadata": {}
        },
        {
            "id": "58ddf3c8",
            "cell_type": "code",
            "metadata": {},
            "execution_count": null,
            "source": "rv = loguniform(a, b)\nax.plot(x, rv.pdf(x), 'k-', lw=2, label='frozen pdf')",
            "outputs": []
        },
        {
            "id": "7257ff91",
            "cell_type": "markdown",
            "source": "Check accuracy of ``cdf`` and ``ppf``:\n",
            "metadata": {}
        },
        {
            "id": "5c3b36f7",
            "cell_type": "code",
            "metadata": {},
            "execution_count": null,
            "source": "vals = loguniform.ppf([0.001, 0.5, 0.999], a, b)\nnp.allclose([0.001, 0.5, 0.999], loguniform.cdf(vals, a, b))",
            "outputs": [
                {
                    "output_type": "execute_result",
                    "metadata": {},
                    "data": {
                        "text/plain": "True"
                    },
                    "execution_count": null
                }
            ]
        },
        {
            "id": "036ade29",
            "cell_type": "markdown",
            "source": "Generate random numbers:\n",
            "metadata": {}
        },
        {
            "id": "66e6e1ae",
            "cell_type": "code",
            "metadata": {},
            "execution_count": null,
            "source": "r = loguniform.rvs(a, b, size=1000)",
            "outputs": []
        },
        {
            "id": "1c1d91ba",
            "cell_type": "markdown",
            "source": "And compare the histogram:\n",
            "metadata": {}
        },
        {
            "id": "bb645221",
            "cell_type": "code",
            "metadata": {},
            "execution_count": null,
            "source": "ax.hist(r, density=True, bins='auto', histtype='stepfilled', alpha=0.2)\nax.set_xlim([x[0], x[-1]])\nax.legend(loc='best', frameon=False)\nplt.show()",
            "outputs": []
        },
        {
            "id": "e014ac5e",
            "cell_type": "markdown",
            "source": "This doesn't show the equal probability of ``0.01``, ``0.1`` and\n``1``. This is best when the x-axis is log-scaled:\n",
            "metadata": {}
        },
        {
            "id": "e67602b6",
            "cell_type": "code",
            "metadata": {},
            "execution_count": null,
            "source": "import numpy as np\nimport matplotlib.pyplot as plt\nfig, ax = plt.subplots(1, 1)\nax.hist(np.log10(r))\nax.set_ylabel(\"Frequency\")\nax.set_xlabel(\"Value of random variable\")\nax.xaxis.set_major_locator(plt.FixedLocator([-2, -1, 0]))\nticks = [\"$10^{{ {} }}$\".format(i) for i in [-2, -1, 0]]\nax.set_xticklabels(ticks)  # doctest: +SKIP\nplt.show()",
            "outputs": []
        },
        {
            "id": "feb9bd22",
            "cell_type": "markdown",
            "source": "This random variable will be log-uniform regardless of the base chosen for\n``a`` and ``b``. Let's specify with base ``2`` instead:\n",
            "metadata": {}
        },
        {
            "id": "13a0e718",
            "cell_type": "code",
            "metadata": {},
            "execution_count": null,
            "source": "rvs = loguniform(2**-2, 2**0).rvs(size=1000)",
            "outputs": []
        },
        {
            "id": "2bbdcc98",
            "cell_type": "markdown",
            "source": "Values of ``1/4``, ``1/2`` and ``1`` are equally likely with this random\nvariable.  Here's the histogram:\n",
            "metadata": {}
        },
        {
            "id": "1c2397ab",
            "cell_type": "code",
            "metadata": {},
            "execution_count": null,
            "source": "fig, ax = plt.subplots(1, 1)\nax.hist(np.log2(rvs))\nax.set_ylabel(\"Frequency\")\nax.set_xlabel(\"Value of random variable\")\nax.xaxis.set_major_locator(plt.FixedLocator([-2, -1, 0]))\nticks = [\"$2^{{ {} }}$\".format(i) for i in [-2, -1, 0]]\nax.set_xticklabels(ticks)  # doctest: +SKIP\nplt.show()",
            "outputs": []
        }
    ]
}