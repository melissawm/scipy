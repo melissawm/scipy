{
    "nbformat": 4,
    "nbformat_minor": 5,
    "metadata": {
        "kernelspec": {
            "display_name": "Python",
            "language": "python",
            "name": "python"
        },
        "language_info": {
            "name": "python"
        }
    },
    "cells": [
        {
            "id": "a2ff2937",
            "cell_type": "markdown",
            "source": "<div class='alert alert-warning'>\n\nSciPy's interactive examples with Jupyterlite are experimental and may not always work as expected. Execution of cells containing imports may result in large downloads (up to 60MB of content for the first import from SciPy). Load times when importing from SciPy may take roughly 10-20 seconds. If you notice any problems, feel free to open an [issue](https://github.com/scipy/scipy/issues/new/choose).\n\n</div>",
            "metadata": {}
        },
        {
            "id": "bdb451ff",
            "cell_type": "code",
            "metadata": {},
            "execution_count": null,
            "source": "from scipy.special import ncfdtr, ncfdtridfn",
            "outputs": []
        },
        {
            "id": "cf6657ea",
            "cell_type": "markdown",
            "source": "Compute the CDF for several values of `dfn`:\n",
            "metadata": {}
        },
        {
            "id": "ddd88302",
            "cell_type": "code",
            "metadata": {},
            "execution_count": null,
            "source": "dfn = [1, 2, 3]\np = ncfdtr(dfn, 2, 0.25, 15)\np",
            "outputs": [
                {
                    "output_type": "execute_result",
                    "metadata": {},
                    "data": {
                        "text/plain": "array([ 0.92562363,  0.93020416,  0.93188394])"
                    },
                    "execution_count": null
                }
            ]
        },
        {
            "id": "4bb76b00",
            "cell_type": "markdown",
            "source": "Compute the inverse. We recover the values of `dfn`, as expected:\n",
            "metadata": {}
        },
        {
            "id": "20641375",
            "cell_type": "code",
            "metadata": {},
            "execution_count": null,
            "source": "ncfdtridfn(p, 2, 0.25, 15)",
            "outputs": [
                {
                    "output_type": "execute_result",
                    "metadata": {},
                    "data": {
                        "text/plain": "array([ 1.,  2.,  3.])"
                    },
                    "execution_count": null
                }
            ]
        }
    ]
}