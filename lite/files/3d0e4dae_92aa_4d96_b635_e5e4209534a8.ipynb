{
    "nbformat": 4,
    "nbformat_minor": 5,
    "metadata": {
        "kernelspec": {
            "display_name": "Python",
            "language": "python",
            "name": "python"
        },
        "language_info": {
            "name": "python"
        }
    },
    "cells": [
        {
            "id": "77bf7d87",
            "cell_type": "markdown",
            "source": "<div class='alert alert-warning'>\n\nSciPy's interactive examples with Jupyterlite are experimental and may not always work as expected. Execution of cells containing imports may result in large downloads (up to 60MB of content for the first import from SciPy). Load times when importing from SciPy may take roughly 10-20 seconds. If you notice any problems, feel free to open an [issue](https://github.com/scipy/scipy/issues/new/choose).\n\n</div>",
            "metadata": {}
        },
        {
            "id": "f19ab45a",
            "cell_type": "markdown",
            "source": "Generate some data to fit: draw random variates from the `beta`\ndistribution\n",
            "metadata": {}
        },
        {
            "id": "0bfb09b4",
            "cell_type": "code",
            "metadata": {},
            "execution_count": null,
            "source": "import numpy as np\nfrom scipy.stats import beta\na, b = 1., 2.\nrng = np.random.default_rng()\nx = beta.rvs(a, b, size=1000, random_state=rng)",
            "outputs": []
        },
        {
            "id": "adb3aa8c",
            "cell_type": "markdown",
            "source": "Now we can fit all four parameters (``a``, ``b``, ``loc`` and\n``scale``):\n",
            "metadata": {}
        },
        {
            "id": "d11807c5",
            "cell_type": "code",
            "metadata": {},
            "execution_count": null,
            "source": "a1, b1, loc1, scale1 = beta.fit(x)\na1, b1, loc1, scale1",
            "outputs": [
                {
                    "output_type": "execute_result",
                    "metadata": {},
                    "data": {
                        "text/plain": "(1.0198945204435628, 1.9484708982737828, 4.372241314917588e-05, 0.9979078845964814)"
                    },
                    "execution_count": null
                }
            ]
        },
        {
            "id": "05073496",
            "cell_type": "markdown",
            "source": "The fit can be done also using a custom optimizer:\n",
            "metadata": {}
        },
        {
            "id": "682cc337",
            "cell_type": "code",
            "metadata": {},
            "execution_count": null,
            "source": "from scipy.optimize import minimize\ndef custom_optimizer(func, x0, args=(), disp=0):\n    res = minimize(func, x0, args, method=\"slsqp\", options={\"disp\": disp})\n    if res.success:\n        return res.x\n    raise RuntimeError('optimization routine failed')\na1, b1, loc1, scale1 = beta.fit(x, method=\"MLE\", optimizer=custom_optimizer)\na1, b1, loc1, scale1",
            "outputs": [
                {
                    "output_type": "execute_result",
                    "metadata": {},
                    "data": {
                        "text/plain": "(1.0198821087258905, 1.948484145914738, 4.3705304486881485e-05, 0.9979104663953395)"
                    },
                    "execution_count": null
                }
            ]
        },
        {
            "id": "c2bf86e4",
            "cell_type": "markdown",
            "source": "We can also use some prior knowledge about the dataset: let's keep\n``loc`` and ``scale`` fixed:\n",
            "metadata": {}
        },
        {
            "id": "57573ec2",
            "cell_type": "code",
            "metadata": {},
            "execution_count": null,
            "source": "a1, b1, loc1, scale1 = beta.fit(x, floc=0, fscale=1)\nloc1, scale1",
            "outputs": [
                {
                    "output_type": "execute_result",
                    "metadata": {},
                    "data": {
                        "text/plain": "(0, 1)"
                    },
                    "execution_count": null
                }
            ]
        },
        {
            "id": "87d31069",
            "cell_type": "markdown",
            "source": "We can also keep shape parameters fixed by using ``f``-keywords. To\nkeep the zero-th shape parameter ``a`` equal 1, use ``f0=1`` or,\nequivalently, ``fa=1``:\n",
            "metadata": {}
        },
        {
            "id": "80d6e0b4",
            "cell_type": "code",
            "metadata": {},
            "execution_count": null,
            "source": "a1, b1, loc1, scale1 = beta.fit(x, fa=1, floc=0, fscale=1)\na1",
            "outputs": [
                {
                    "output_type": "execute_result",
                    "metadata": {},
                    "data": {
                        "text/plain": "1"
                    },
                    "execution_count": null
                }
            ]
        },
        {
            "id": "0d5bdbee",
            "cell_type": "markdown",
            "source": "Not all distributions return estimates for the shape parameters.\n``norm`` for example just returns estimates for location and scale:\n",
            "metadata": {}
        },
        {
            "id": "0dc0e04c",
            "cell_type": "code",
            "metadata": {},
            "execution_count": null,
            "source": "from scipy.stats import norm\nx = norm.rvs(a, b, size=1000, random_state=123)\nloc1, scale1 = norm.fit(x)\nloc1, scale1",
            "outputs": [
                {
                    "output_type": "execute_result",
                    "metadata": {},
                    "data": {
                        "text/plain": "(0.92087172783841631, 2.0015750750324668)"
                    },
                    "execution_count": null
                }
            ]
        }
    ]
}